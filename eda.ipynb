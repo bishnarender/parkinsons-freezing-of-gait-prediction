{
 "cells": [
  {
   "cell_type": "code",
   "execution_count": 1,
   "metadata": {
    "execution": {
     "iopub.execute_input": "2023-07-14T02:25:57.587807Z",
     "iopub.status.busy": "2023-07-14T02:25:57.587360Z",
     "iopub.status.idle": "2023-07-14T02:25:57.614938Z",
     "shell.execute_reply": "2023-07-14T02:25:57.613554Z",
     "shell.execute_reply.started": "2023-07-14T02:25:57.587766Z"
    }
   },
   "outputs": [],
   "source": [
    "# This file is modified version of original:\n",
    "# https://www.kaggle.com/code/leonidkulyk/eda-pfogp-interactive-visualisations"
   ]
  },
  {
   "cell_type": "markdown",
   "metadata": {},
   "source": [
    "# <center style=\"font-family: consolas; font-size: 32px; font-weight: bold;\">🧠 PFOGP 🧠 - Data and problem investigation</center>\n",
    "<p><center style=\"color:#949494; font-family: consolas; font-size: 20px;\">Event detection from wearable sensor data</center></p>\n",
    "\n",
    "***"
   ]
  },
  {
   "cell_type": "code",
   "execution_count": null,
   "metadata": {},
   "outputs": [],
   "source": []
  },
  {
   "cell_type": "markdown",
   "metadata": {},
   "source": [
    "# <center style=\"font-family: consolas; font-size: 32px; font-weight: bold;\">(ಠಿ⁠_⁠ಠ) Overview</center>\n",
    "\n",
    "<p style=\"font-family: consolas; font-size: 16px;\">⚪ In this competition, we aim to detect freezing of gait (FOG) using data collected from a wearable 3D lower back sensor. Accelerometer data can be pretty fun and unique to work with. It is important to understand that this data is a time series. We are looking for Turning, StartHesitation, and Walking events in these time series. </p>\n",
    "\n",
    "\n",
    "<p style=\"font-family: consolas; font-size: 16px;\">⚪ FOG is a debilitating symptom that affects many people with Parkinson's disease, leading to restricted independence and increased risk of falls.</p>\n",
    "\n",
    "<p style=\"font-family: consolas; font-size: 16px;\">⚪ By developing a machine learning model trained on this dataset, we can improve the ability of medical professionals to evaluate, monitor, and prevent FOG events.</p>\n",
    "\n",
    "<p style=\"font-family: consolas; font-size: 16px;\">⚪ There are multiple methods of evaluating FOG, but most involve FOG-provoking protocols, which are time-consuming and require specific expertise.</p>\n",
    "\n",
    "<p style=\"font-family: consolas; font-size: 16px;\">⚪ Wearable devices can help detect FOG more easily, but compliance and usability may be reduced.</p>\n",
    "\n",
    "<p style=\"font-family: consolas; font-size: 16px;\">⚪ The datasets used to train and test machine learning algorithms for detecting FOG have been relatively small, and generalizability is limited to date.</p>\n",
    "\n",
    "<p style=\"font-family: consolas; font-size: 16px;\">⚪ The competition host, the Center for the Study of Movement, Cognition, and Mobility (CMCM), Neurological Institute, Tel Aviv Sourasky Medical Center, aims to improve the personalized treatment of age-related movement, cognition, and mobility disorders and to alleviate the associated burden.</p>\n",
    "\n",
    "<p style=\"font-family: consolas; font-size: 16px;\">🔴 Submissions are evaluated by the Mean Average Precision of predictions for each event class. Average precision is computed on predicted confidence scores separately for each of the three event classes.</p>"
   ]
  },
  {
   "cell_type": "markdown",
   "metadata": {},
   "source": [
    "#### <a id=\"top\"></a>\n",
    "# <div style=\"box-shadow: rgb(60, 121, 245) 0px 0px 0px 3px inset, rgb(255, 255, 255) 10px -10px 0px -3px, rgb(31, 193, 27) 10px -10px, rgb(255, 255, 255) 20px -20px 0px -3px, rgb(255, 217, 19) 20px -20px, rgb(255, 255, 255) 30px -30px 0px -3px, rgb(255, 156, 85) 30px -30px, rgb(255, 255, 255) 40px -40px 0px -3px, rgb(255, 85, 85) 40px -40px; padding:20px; margin-right: 40px; font-size:30px; font-family: consolas; text-align:center; display:fill; border-radius:15px; color:rgb(60, 121, 245);\"><b>Table of contents</b></div>\n",
    "\n",
    "<div style=\"background-color: rgba(60, 121, 245, 0.03); padding:30px; font-size:15px; font-family: consolas;\">\n",
    "\n",
    "* [0. Import all dependencies](#0)\n",
    "* [1. Overview availiable directories](#1)\n",
    "    * [1.1 Overview train/ directory](#1.1)\n",
    "    * [1.2 Overview test/ directory](#1.2)\n",
    "    * [1.3 Overview unlabeled/ directory](#1.3)\n",
    "* [2. Overview availiable csv files](#2)\n",
    "    * [2.1 Overview tdcsfog_metadata.csv file](#2.1)\n",
    "    * [2.2 Overview defog_metadata.csv file](#2.2)\n",
    "    * [2.3 Overview daily_metadata.csv file](#2.3)\n",
    "    * [2.4 Overview subjects.csv file](#2.4)\n",
    "    * [2.5 Overview events.csv file](#2.5)\n",
    "    * [2.6 Overview tasks.csv file](#2.6)"
   ]
  },
  {
   "cell_type": "markdown",
   "metadata": {},
   "source": [
    "<a id=\"0\"></a>\n",
    "# <div style=\"box-shadow: rgba(0, 0, 0, 0.16) 0px 1px 4px inset, rgb(51, 51, 51) 0px 0px 0px 3px inset; padding:20px; font-size:32px; font-family: consolas; text-align:center; display:fill; border-radius:15px;  color:rgb(34, 34, 34);\"> <b> 0. Import all dependencies </b></div>"
   ]
  },
  {
   "cell_type": "code",
   "execution_count": 2,
   "metadata": {
    "execution": {
     "iopub.execute_input": "2023-07-14T02:25:57.618272Z",
     "iopub.status.busy": "2023-07-14T02:25:57.617891Z",
     "iopub.status.idle": "2023-07-14T02:26:00.795165Z",
     "shell.execute_reply": "2023-07-14T02:26:00.793889Z",
     "shell.execute_reply.started": "2023-07-14T02:25:57.618234Z"
    }
   },
   "outputs": [],
   "source": [
    "import os\n",
    "import random\n",
    "import cv2\n",
    "import pandas as pd\n",
    "import numpy as np\n",
    "import plotly.express as px\n",
    "import matplotlib.pyplot as plt"
   ]
  },
  {
   "cell_type": "code",
   "execution_count": 3,
   "metadata": {
    "execution": {
     "iopub.execute_input": "2023-07-14T02:26:00.797202Z",
     "iopub.status.busy": "2023-07-14T02:26:00.796547Z",
     "iopub.status.idle": "2023-07-14T02:26:00.805056Z",
     "shell.execute_reply": "2023-07-14T02:26:00.803529Z",
     "shell.execute_reply.started": "2023-07-14T02:26:00.797148Z"
    }
   },
   "outputs": [],
   "source": [
    "class color:\n",
    "   PURPLE = '\\033[95m'\n",
    "   CYAN = '\\033[96m'\n",
    "   DARKCYAN = '\\033[36m'\n",
    "   BLUE = '\\033[94m'\n",
    "   GREEN = '\\033[92m'\n",
    "   YELLOW = '\\033[93m'\n",
    "   RED = '\\033[91m'\n",
    "   BOLD = '\\033[1m'\n",
    "   UNDERLINE = '\\033[4m'\n",
    "   END = '\\033[0m'"
   ]
  },
  {
   "cell_type": "markdown",
   "metadata": {},
   "source": [
    "<a id=\"1\"></a>\n",
    "# <div style=\"box-shadow: rgba(0, 0, 0, 0.16) 0px 1px 4px inset, rgb(51, 51, 51) 0px 0px 0px 3px inset; padding:20px; font-size:32px; font-family: consolas; text-align:center; display:fill; border-radius:15px;  color:rgb(34, 34, 34);\"> <b> 1. Overview availiable directories </b></div>"
   ]
  },
  {
   "cell_type": "markdown",
   "metadata": {},
   "source": [
    "<p style=\"font-family: consolas; font-size: 16px;\">⚪ The data series include three datasets, collected under distinct circumstances:</p>\n",
    "\n",
    "* <p style=\"font-family: consolas; font-size: 16px;\">The <b>tDCS FOG</b> (<code>tdcsfog</code>) dataset, comprising data series collected in the lab, as subjects completed a FOG-provoking protocol.</p>\n",
    "* <p style=\"font-family: consolas; font-size: 16px;\">The <b>DeFOG</b> (<code>defog</code>) dataset, comprising data series collected in the subject's home, as subjects completed a FOG-provoking protocol.</p>\n",
    "* <p style=\"font-family: consolas; font-size: 16px;\">The <b>Daily Living</b> (<code>daily</code>) dataset, comprising one week of continuous 24/7 recordings from sixty-five subjects. Forty-five subjects exhibit FOG symptoms and also have series in the <code>defog</code> dataset, while the other twenty subjects do not exhibit FOG symptoms and do not have series elsewhere in the data.</p>\n",
    "\n",
    "\n",
    "<p style=\"font-family: consolas; font-size: 16px;\">⚪ Trials from the <code>tdcsfog</code> and <code>defog</code> datasets were videotaped and annotated by expert reviewers documented the freezing of gait episodes. That is, the start, end and type of each episode were marked by the experts. Series in the <code>daily</code> dataset are unannotated.</p>\n",
    "<p style=\"font-family: consolas; font-size: 16px;\">⚪ You will be detecting FOG episodes for the <code>tdcsfog</code> and <code>defog</code> series. </p>\n",
    "<p style=\"font-family: consolas; font-size: 16px;\">🔴 See this page for more on these datasets as well as video examples of freezing of gait events: <a href=\"https://www.kaggle.com/competitions/tlvmc-parkinsons-freezing-gait-prediction/overview/additional-data-documentation\"><strong>Additional Data Documentation</strong></a>.</p>"
   ]
  },
  {
   "cell_type": "markdown",
   "metadata": {},
   "source": [
    "<a id=\"1.1\"></a>\n",
    "## <div style=\"box-shadow: rgba(0, 0, 0, 0.18) 0px 2px 4px inset; padding:20px; font-size:24px; font-family: consolas; text-align:center; display:fill; border-radius:15px; color:rgb(67, 66, 66)\"> <b> 1.1 Overview <i>train/</i> directory</b></div>"
   ]
  },
  {
   "cell_type": "markdown",
   "metadata": {},
   "source": [
    "<p style=\"font-family: consolas; font-size: 16px;\">⚪ <b>train/</b> Folder containing the data series in the training set within three subfolders: <b>tdcsfog/</b>, <b>defog/</b>, and <b>notype/</b>. Series in the notype folder are from the <code>defog</code> dataset but lack event-type annotations. The fields present in these series vary by folder.</p>\n",
    "\n",
    "* <p style=\"font-family: consolas; font-size: 16px;\"><code>Time</code> An integer timestep. Series from the <code>tdcsfog</code> dataset are recorded at 128Hz (128 timesteps per second), while series from the <code>defog</code> and <code>daily</code> series are recorded at 100Hz (100 timesteps per second).</p>\n",
    "* <p style=\"font-family: consolas; font-size: 16px;\"><code>AccV</code>, <code>AccML</code>, and <code>AccAP</code> Acceleration in units of g, from a lower-back sensor on three axes: V - vertical, ML - mediolateral, AP - anteroposterior.</p>\n",
    "* <p style=\"font-family: consolas; font-size: 16px;\"><code>StartHesitation</code>, <code>Turn</code>, <code>Walking</code> Indicator variables for the occurrence of each of the event types.</p>\n",
    "* <p style=\"font-family: consolas; font-size: 16px;\"><code>Event</code> Indicator variable for the occurrence of any FOG-type event. Present only in the <b>notype</b> series, which lack type-level annotations.</p>\n",
    "* <p style=\"font-family: consolas; font-size: 16px;\"><code>Valid</code> Specifies whether the event annotations is unambiguous. There were cases during the video annotation that were hard for the annotator to decide if there was an Akinetic (i.e., essentially no movement) FoG or the subject stopped voluntarily. Only event annotations where the series is marked true should be considered as unambiguous.</p>\n",
    "* <p style=\"font-family: consolas; font-size: 16px;\"><code>Task</code> Specifies whether the event was annotated. Series were only annotated where this value is <b>true</b>. Portions marked <b>false</b> should be considered unannotated.</p>"
   ]
  },
  {
   "cell_type": "markdown",
   "metadata": {},
   "source": [
    "<p style=\"font-family: consolas; font-size: 16px;\">❔ let's check what directories are in the train folder.</p>"
   ]
  },
  {
   "cell_type": "code",
   "execution_count": 4,
   "metadata": {
    "execution": {
     "iopub.execute_input": "2023-07-14T02:26:00.809826Z",
     "iopub.status.busy": "2023-07-14T02:26:00.808888Z",
     "iopub.status.idle": "2023-07-14T02:26:00.830133Z",
     "shell.execute_reply": "2023-07-14T02:26:00.828878Z",
     "shell.execute_reply.started": "2023-07-14T02:26:00.809772Z"
    }
   },
   "outputs": [
    {
     "data": {
      "text/plain": [
       "['defog', 'tdcsfog', 'notype']"
      ]
     },
     "execution_count": 4,
     "metadata": {},
     "output_type": "execute_result"
    }
   ],
   "source": [
    "os.listdir(\"/kaggle/input/tlvmc-parkinsons-freezing-gait-prediction/train\")"
   ]
  },
  {
   "cell_type": "markdown",
   "metadata": {},
   "source": [
    "<p style=\"font-family: consolas; font-size: 16px;\">❔ How many files are in folder <i>tdcsfog/</i>.</p>"
   ]
  },
  {
   "cell_type": "code",
   "execution_count": 5,
   "metadata": {
    "execution": {
     "iopub.execute_input": "2023-07-14T02:26:00.832032Z",
     "iopub.status.busy": "2023-07-14T02:26:00.831659Z",
     "iopub.status.idle": "2023-07-14T02:26:01.225030Z",
     "shell.execute_reply": "2023-07-14T02:26:01.223562Z",
     "shell.execute_reply.started": "2023-07-14T02:26:00.831997Z"
    }
   },
   "outputs": [
    {
     "name": "stdout",
     "output_type": "stream",
     "text": [
      "Number of files in folder tdcsfog/: \u001b[94m833\u001b[0m\n"
     ]
    }
   ],
   "source": [
    "temp = len(os.listdir(\"/kaggle/input/tlvmc-parkinsons-freezing-gait-prediction/train/tdcsfog\"))\n",
    "print(\n",
    "    f\"Number of files in folder tdcsfog/: {color.BLUE}{temp}{color.END}\",\n",
    ")"
   ]
  },
  {
   "cell_type": "markdown",
   "metadata": {},
   "source": [
    "<p style=\"font-family: consolas; font-size: 16px;\">❔ How the data looks like.</p>"
   ]
  },
  {
   "cell_type": "code",
   "execution_count": 6,
   "metadata": {
    "execution": {
     "iopub.execute_input": "2023-07-14T02:26:01.228474Z",
     "iopub.status.busy": "2023-07-14T02:26:01.227890Z",
     "iopub.status.idle": "2023-07-14T02:26:01.262181Z",
     "shell.execute_reply": "2023-07-14T02:26:01.261083Z",
     "shell.execute_reply.started": "2023-07-14T02:26:01.228413Z"
    }
   },
   "outputs": [],
   "source": [
    "train_tdcsfog_example_df = pd.read_csv(\"/kaggle/input/tlvmc-parkinsons-freezing-gait-prediction/train/tdcsfog/003f117e14.csv\")"
   ]
  },
  {
   "cell_type": "code",
   "execution_count": 7,
   "metadata": {
    "execution": {
     "iopub.execute_input": "2023-07-14T02:26:01.264357Z",
     "iopub.status.busy": "2023-07-14T02:26:01.263928Z",
     "iopub.status.idle": "2023-07-14T02:26:01.270928Z",
     "shell.execute_reply": "2023-07-14T02:26:01.269367Z",
     "shell.execute_reply.started": "2023-07-14T02:26:01.264290Z"
    }
   },
   "outputs": [
    {
     "name": "stdout",
     "output_type": "stream",
     "text": [
      "Length of dataframe: \u001b[94m4682\u001b[0m\n"
     ]
    }
   ],
   "source": [
    "temp = len(train_tdcsfog_example_df)\n",
    "print(\n",
    "    f\"Length of dataframe: {color.BLUE}{temp}{color.END}\",\n",
    ")"
   ]
  },
  {
   "cell_type": "code",
   "execution_count": 8,
   "metadata": {
    "execution": {
     "iopub.execute_input": "2023-07-14T02:26:01.272706Z",
     "iopub.status.busy": "2023-07-14T02:26:01.272324Z",
     "iopub.status.idle": "2023-07-14T02:26:01.312209Z",
     "shell.execute_reply": "2023-07-14T02:26:01.310788Z",
     "shell.execute_reply.started": "2023-07-14T02:26:01.272669Z"
    }
   },
   "outputs": [
    {
     "data": {
      "text/html": [
       "<div>\n",
       "<style scoped>\n",
       "    .dataframe tbody tr th:only-of-type {\n",
       "        vertical-align: middle;\n",
       "    }\n",
       "\n",
       "    .dataframe tbody tr th {\n",
       "        vertical-align: top;\n",
       "    }\n",
       "\n",
       "    .dataframe thead th {\n",
       "        text-align: right;\n",
       "    }\n",
       "</style>\n",
       "<table border=\"1\" class=\"dataframe\">\n",
       "  <thead>\n",
       "    <tr style=\"text-align: right;\">\n",
       "      <th></th>\n",
       "      <th>Time</th>\n",
       "      <th>AccV</th>\n",
       "      <th>AccML</th>\n",
       "      <th>AccAP</th>\n",
       "      <th>StartHesitation</th>\n",
       "      <th>Turn</th>\n",
       "      <th>Walking</th>\n",
       "    </tr>\n",
       "  </thead>\n",
       "  <tbody>\n",
       "    <tr>\n",
       "      <th>0</th>\n",
       "      <td>0</td>\n",
       "      <td>-9.533939</td>\n",
       "      <td>0.566322</td>\n",
       "      <td>-1.413525</td>\n",
       "      <td>0</td>\n",
       "      <td>0</td>\n",
       "      <td>0</td>\n",
       "    </tr>\n",
       "    <tr>\n",
       "      <th>1</th>\n",
       "      <td>1</td>\n",
       "      <td>-9.536140</td>\n",
       "      <td>0.564137</td>\n",
       "      <td>-1.440621</td>\n",
       "      <td>0</td>\n",
       "      <td>0</td>\n",
       "      <td>0</td>\n",
       "    </tr>\n",
       "    <tr>\n",
       "      <th>2</th>\n",
       "      <td>2</td>\n",
       "      <td>-9.529345</td>\n",
       "      <td>0.561765</td>\n",
       "      <td>-1.429332</td>\n",
       "      <td>0</td>\n",
       "      <td>0</td>\n",
       "      <td>0</td>\n",
       "    </tr>\n",
       "    <tr>\n",
       "      <th>3</th>\n",
       "      <td>3</td>\n",
       "      <td>-9.531239</td>\n",
       "      <td>0.564227</td>\n",
       "      <td>-1.415490</td>\n",
       "      <td>0</td>\n",
       "      <td>0</td>\n",
       "      <td>0</td>\n",
       "    </tr>\n",
       "    <tr>\n",
       "      <th>4</th>\n",
       "      <td>4</td>\n",
       "      <td>-9.540825</td>\n",
       "      <td>0.561854</td>\n",
       "      <td>-1.429471</td>\n",
       "      <td>0</td>\n",
       "      <td>0</td>\n",
       "      <td>0</td>\n",
       "    </tr>\n",
       "  </tbody>\n",
       "</table>\n",
       "</div>"
      ],
      "text/plain": [
       "   Time      AccV     AccML     AccAP  StartHesitation  Turn  Walking\n",
       "0     0 -9.533939  0.566322 -1.413525                0     0        0\n",
       "1     1 -9.536140  0.564137 -1.440621                0     0        0\n",
       "2     2 -9.529345  0.561765 -1.429332                0     0        0\n",
       "3     3 -9.531239  0.564227 -1.415490                0     0        0\n",
       "4     4 -9.540825  0.561854 -1.429471                0     0        0"
      ]
     },
     "execution_count": 8,
     "metadata": {},
     "output_type": "execute_result"
    }
   ],
   "source": [
    "train_tdcsfog_example_df.head()"
   ]
  },
  {
   "cell_type": "code",
   "execution_count": 9,
   "metadata": {
    "execution": {
     "iopub.execute_input": "2023-07-14T02:26:01.314209Z",
     "iopub.status.busy": "2023-07-14T02:26:01.313809Z",
     "iopub.status.idle": "2023-07-14T02:26:01.365839Z",
     "shell.execute_reply": "2023-07-14T02:26:01.364284Z",
     "shell.execute_reply.started": "2023-07-14T02:26:01.314167Z"
    }
   },
   "outputs": [
    {
     "data": {
      "text/html": [
       "<div>\n",
       "<style scoped>\n",
       "    .dataframe tbody tr th:only-of-type {\n",
       "        vertical-align: middle;\n",
       "    }\n",
       "\n",
       "    .dataframe tbody tr th {\n",
       "        vertical-align: top;\n",
       "    }\n",
       "\n",
       "    .dataframe thead th {\n",
       "        text-align: right;\n",
       "    }\n",
       "</style>\n",
       "<table border=\"1\" class=\"dataframe\">\n",
       "  <thead>\n",
       "    <tr style=\"text-align: right;\">\n",
       "      <th></th>\n",
       "      <th>Time</th>\n",
       "      <th>AccV</th>\n",
       "      <th>AccML</th>\n",
       "      <th>AccAP</th>\n",
       "      <th>StartHesitation</th>\n",
       "      <th>Turn</th>\n",
       "      <th>Walking</th>\n",
       "    </tr>\n",
       "  </thead>\n",
       "  <tbody>\n",
       "    <tr>\n",
       "      <th>count</th>\n",
       "      <td>4682.00000</td>\n",
       "      <td>4682.000000</td>\n",
       "      <td>4682.000000</td>\n",
       "      <td>4682.000000</td>\n",
       "      <td>4682.0</td>\n",
       "      <td>4682.000000</td>\n",
       "      <td>4682.0</td>\n",
       "    </tr>\n",
       "    <tr>\n",
       "      <th>mean</th>\n",
       "      <td>2340.50000</td>\n",
       "      <td>-9.151214</td>\n",
       "      <td>0.753518</td>\n",
       "      <td>2.471637</td>\n",
       "      <td>0.0</td>\n",
       "      <td>0.168304</td>\n",
       "      <td>0.0</td>\n",
       "    </tr>\n",
       "    <tr>\n",
       "      <th>std</th>\n",
       "      <td>1351.72131</td>\n",
       "      <td>1.384390</td>\n",
       "      <td>1.102125</td>\n",
       "      <td>2.239906</td>\n",
       "      <td>0.0</td>\n",
       "      <td>0.374176</td>\n",
       "      <td>0.0</td>\n",
       "    </tr>\n",
       "    <tr>\n",
       "      <th>min</th>\n",
       "      <td>0.00000</td>\n",
       "      <td>-23.796051</td>\n",
       "      <td>-9.097370</td>\n",
       "      <td>-7.353417</td>\n",
       "      <td>0.0</td>\n",
       "      <td>0.000000</td>\n",
       "      <td>0.0</td>\n",
       "    </tr>\n",
       "    <tr>\n",
       "      <th>25%</th>\n",
       "      <td>1170.25000</td>\n",
       "      <td>-9.537719</td>\n",
       "      <td>0.322877</td>\n",
       "      <td>1.966646</td>\n",
       "      <td>0.0</td>\n",
       "      <td>0.000000</td>\n",
       "      <td>0.0</td>\n",
       "    </tr>\n",
       "    <tr>\n",
       "      <th>50%</th>\n",
       "      <td>2340.50000</td>\n",
       "      <td>-9.234702</td>\n",
       "      <td>0.580891</td>\n",
       "      <td>3.137857</td>\n",
       "      <td>0.0</td>\n",
       "      <td>0.000000</td>\n",
       "      <td>0.0</td>\n",
       "    </tr>\n",
       "    <tr>\n",
       "      <th>75%</th>\n",
       "      <td>3510.75000</td>\n",
       "      <td>-8.470460</td>\n",
       "      <td>1.368355</td>\n",
       "      <td>3.819931</td>\n",
       "      <td>0.0</td>\n",
       "      <td>0.000000</td>\n",
       "      <td>0.0</td>\n",
       "    </tr>\n",
       "    <tr>\n",
       "      <th>max</th>\n",
       "      <td>4681.00000</td>\n",
       "      <td>-3.915590</td>\n",
       "      <td>5.996704</td>\n",
       "      <td>10.281080</td>\n",
       "      <td>0.0</td>\n",
       "      <td>1.000000</td>\n",
       "      <td>0.0</td>\n",
       "    </tr>\n",
       "  </tbody>\n",
       "</table>\n",
       "</div>"
      ],
      "text/plain": [
       "             Time         AccV        AccML        AccAP  StartHesitation  \\\n",
       "count  4682.00000  4682.000000  4682.000000  4682.000000           4682.0   \n",
       "mean   2340.50000    -9.151214     0.753518     2.471637              0.0   \n",
       "std    1351.72131     1.384390     1.102125     2.239906              0.0   \n",
       "min       0.00000   -23.796051    -9.097370    -7.353417              0.0   \n",
       "25%    1170.25000    -9.537719     0.322877     1.966646              0.0   \n",
       "50%    2340.50000    -9.234702     0.580891     3.137857              0.0   \n",
       "75%    3510.75000    -8.470460     1.368355     3.819931              0.0   \n",
       "max    4681.00000    -3.915590     5.996704    10.281080              0.0   \n",
       "\n",
       "              Turn  Walking  \n",
       "count  4682.000000   4682.0  \n",
       "mean      0.168304      0.0  \n",
       "std       0.374176      0.0  \n",
       "min       0.000000      0.0  \n",
       "25%       0.000000      0.0  \n",
       "50%       0.000000      0.0  \n",
       "75%       0.000000      0.0  \n",
       "max       1.000000      0.0  "
      ]
     },
     "execution_count": 9,
     "metadata": {},
     "output_type": "execute_result"
    }
   ],
   "source": [
    "train_tdcsfog_example_df.describe()"
   ]
  },
  {
   "cell_type": "code",
   "execution_count": 10,
   "metadata": {
    "execution": {
     "iopub.execute_input": "2023-07-14T02:26:01.372426Z",
     "iopub.status.busy": "2023-07-14T02:26:01.371966Z",
     "iopub.status.idle": "2023-07-14T02:26:01.379277Z",
     "shell.execute_reply": "2023-07-14T02:26:01.377855Z",
     "shell.execute_reply.started": "2023-07-14T02:26:01.372381Z"
    }
   },
   "outputs": [
    {
     "name": "stdout",
     "output_type": "stream",
     "text": [
      "Time\n"
     ]
    }
   ],
   "source": [
    "for c in train_tdcsfog_example_df:\n",
    "    print(c)\n",
    "    break"
   ]
  },
  {
   "cell_type": "code",
   "execution_count": 11,
   "metadata": {
    "execution": {
     "iopub.execute_input": "2023-07-14T02:26:01.381844Z",
     "iopub.status.busy": "2023-07-14T02:26:01.381324Z",
     "iopub.status.idle": "2023-07-14T02:26:01.406354Z",
     "shell.execute_reply": "2023-07-14T02:26:01.404961Z",
     "shell.execute_reply.started": "2023-07-14T02:26:01.381791Z"
    }
   },
   "outputs": [
    {
     "data": {
      "text/plain": [
       "Time               [0, 1, 2, 3, 4, 5, 6, 7, 8, 9, 10, 11, 12, 13,...\n",
       "AccV               [-9.53393930253288, -9.53614029997918, -9.5293...\n",
       "AccML              [0.566321631981499, 0.564136952175035, 0.56176...\n",
       "AccAP              [-1.41352531246173, -1.4406209993301, -1.42933...\n",
       "StartHesitation                                                  [0]\n",
       "Turn                                                          [0, 1]\n",
       "Walking                                                          [0]\n",
       "dtype: object"
      ]
     },
     "execution_count": 11,
     "metadata": {},
     "output_type": "execute_result"
    }
   ],
   "source": [
    "# unique values in each column\n",
    "pd.Series({c: train_tdcsfog_example_df[c].unique() for c in train_tdcsfog_example_df})"
   ]
  },
  {
   "cell_type": "markdown",
   "metadata": {},
   "source": [
    "<p style=\"font-family: consolas; font-size: 16px;\">❔ Is there any NaN values in the dataframe.</p>"
   ]
  },
  {
   "cell_type": "code",
   "execution_count": 12,
   "metadata": {
    "execution": {
     "iopub.execute_input": "2023-07-14T02:26:01.409532Z",
     "iopub.status.busy": "2023-07-14T02:26:01.408216Z",
     "iopub.status.idle": "2023-07-14T02:26:01.422885Z",
     "shell.execute_reply": "2023-07-14T02:26:01.421509Z",
     "shell.execute_reply.started": "2023-07-14T02:26:01.409482Z"
    }
   },
   "outputs": [
    {
     "data": {
      "text/plain": [
       "Time               0\n",
       "AccV               0\n",
       "AccML              0\n",
       "AccAP              0\n",
       "StartHesitation    0\n",
       "Turn               0\n",
       "Walking            0\n",
       "dtype: int64"
      ]
     },
     "execution_count": 12,
     "metadata": {},
     "output_type": "execute_result"
    }
   ],
   "source": [
    "train_tdcsfog_example_df.isnull().sum()"
   ]
  },
  {
   "cell_type": "markdown",
   "metadata": {},
   "source": [
    "<p style=\"font-family: consolas; font-size: 16px;\">❔ How many files are in folder <i>defog/</i>.</p>"
   ]
  },
  {
   "cell_type": "code",
   "execution_count": 13,
   "metadata": {
    "execution": {
     "iopub.execute_input": "2023-07-14T02:26:01.424782Z",
     "iopub.status.busy": "2023-07-14T02:26:01.424210Z",
     "iopub.status.idle": "2023-07-14T02:26:01.503818Z",
     "shell.execute_reply": "2023-07-14T02:26:01.502417Z",
     "shell.execute_reply.started": "2023-07-14T02:26:01.424731Z"
    }
   },
   "outputs": [
    {
     "name": "stdout",
     "output_type": "stream",
     "text": [
      "Number of files in folder defog/: \u001b[94m91\u001b[0m\n"
     ]
    }
   ],
   "source": [
    "temp = len(os.listdir(\"/kaggle/input/tlvmc-parkinsons-freezing-gait-prediction/train/defog\"))\n",
    "print(\n",
    "    f\"Number of files in folder defog/: {color.BLUE}{temp}{color.END}\",\n",
    ")"
   ]
  },
  {
   "cell_type": "markdown",
   "metadata": {},
   "source": [
    "<p style=\"font-family: consolas; font-size: 16px;\">❔ How many files are in folder <i>notype/</i>.</p>"
   ]
  },
  {
   "cell_type": "code",
   "execution_count": 14,
   "metadata": {
    "execution": {
     "iopub.execute_input": "2023-07-14T02:26:01.505941Z",
     "iopub.status.busy": "2023-07-14T02:26:01.505455Z",
     "iopub.status.idle": "2023-07-14T02:26:01.544218Z",
     "shell.execute_reply": "2023-07-14T02:26:01.543071Z",
     "shell.execute_reply.started": "2023-07-14T02:26:01.505896Z"
    }
   },
   "outputs": [
    {
     "name": "stdout",
     "output_type": "stream",
     "text": [
      "Number of files in folder notype/: \u001b[94m46\u001b[0m\n"
     ]
    }
   ],
   "source": [
    "temp = len(os.listdir(\"/kaggle/input/tlvmc-parkinsons-freezing-gait-prediction/train/notype\"))\n",
    "print(\n",
    "    f\"Number of files in folder notype/: {color.BLUE}{temp}{color.END}\",\n",
    ")"
   ]
  },
  {
   "cell_type": "markdown",
   "metadata": {},
   "source": [
    "<p style=\"font-family: consolas; font-size: 16px;\">❔ How is the time sirieses for features 'AccV','AccML','AccAP' looks like.</p>"
   ]
  },
  {
   "cell_type": "code",
   "execution_count": 15,
   "metadata": {
    "execution": {
     "iopub.execute_input": "2023-07-14T02:26:01.547025Z",
     "iopub.status.busy": "2023-07-14T02:26:01.546011Z",
     "iopub.status.idle": "2023-07-14T02:26:03.544047Z",
     "shell.execute_reply": "2023-07-14T02:26:03.542643Z",
     "shell.execute_reply.started": "2023-07-14T02:26:01.546979Z"
    }
   },
   "outputs": [
    {
     "data": {
      "text/html": [
       "        <script type=\"text/javascript\">\n",
       "        window.PlotlyConfig = {MathJaxConfig: 'local'};\n",
       "        if (window.MathJax && window.MathJax.Hub && window.MathJax.Hub.Config) {window.MathJax.Hub.Config({SVG: {font: \"STIX-Web\"}});}\n",
       "        if (typeof require !== 'undefined') {\n",
       "        require.undef(\"plotly\");\n",
       "        requirejs.config({\n",
       "            paths: {\n",
       "                'plotly': ['https://cdn.plot.ly/plotly-2.18.0.min']\n",
       "            }\n",
       "        });\n",
       "        require(['plotly'], function(Plotly) {\n",
       "            window._Plotly = Plotly;\n",
       "        });\n",
       "        }\n",
       "        </script>\n",
       "        "
      ]
     },
     "metadata": {},
     "output_type": "display_data"
    },
    {
     "data": {
      "text/html": [
       "<div>                            <div id=\"7b562cd1-e54c-4a12-95c2-ff838ccb0589\" class=\"plotly-graph-div\" style=\"height:525px; width:100%;\"></div>            <script type=\"text/javascript\">                require([\"plotly\"], function(Plotly) {                    window.PLOTLYENV=window.PLOTLYENV || {};                                    if (document.getElementById(\"7b562cd1-e54c-4a12-95c2-ff838ccb0589\")) {                    Plotly.newPlot(                        \"7b562cd1-e54c-4a12-95c2-ff838ccb0589\",                        [{\"hovertemplate\":\"Time=%{x}<br>AccV=%{y}<extra></extra>\",\"legendgroup\":\"\",\"line\":{\"color\":\"darkslateblue\",\"dash\":\"solid\"},\"marker\":{\"symbol\":\"circle\"},\"mode\":\"lines\",\"name\":\"\",\"showlegend\":false,\"x\":[0,1,2,3,4,5,6,7,8,9,10,11,12,13,14,15,16,17,18,19,20,21,22,23,24,25,26,27,28,29,30,31,32,33,34,35,36,37,38,39,40,41,42,43,44,45,46,47,48,49,50,51,52,53,54,55,56,57,58,59,60,61,62,63,64,65,66,67,68,69,70,71,72,73,74,75,76,77,78,79,80,81,82,83,84,85,86,87,88,89,90,91,92,93,94,95,96,97,98,99,100,101,102,103,104,105,106,107,108,109,110,111,112,113,114,115,116,117,118,119,120,121,122,123,124,125,126,127,128,129,130,131,132,133,134,135,136,137,138,139,140,141,142,143,144,145,146,147,148,149,150,151,152,153,154,155,156,157,158,159,160,161,162,163,164,165,166,167,168,169,170,171,172,173,174,175,176,177,178,179,180,181,182,183,184,185,186,187,188,189,190,191,192,193,194,195,196,197,198,199,200,201,202,203,204,205,206,207,208,209,210,211,212,213,214,215,216,217,218,219,220,221,222,223,224,225,226,227,228,229,230,231,232,233,234,235,236,237,238,239,240,241,242,243,244,245,246,247,248,249,250,251,252,253,254,255,256,257,258,259,260,261,262,263,264,265,266,267,268,269,270,271,272,273,274,275,276,277,278,279,280,281,282,283,284,285,286,287,288,289,290,291,292,293,294,295,296,297,298,299,300,301,302,303,304,305,306,307,308,309,310,311,312,313,314,315,316,317,318,319,320,321,322,323,324,325,326,327,328,329,330,331,332,333,334,335,336,337,338,339,340,341,342,343,344,345,346,347,348,349,350,351,352,353,354,355,356,357,358,359,360,361,362,363,364,365,366,367,368,369,370,371,372,373,374,375,376,377,378,379,380,381,382,383,384,385,386,387,388,389,390,391,392,393,394,395,396,397,398,399,400,401,402,403,404,405,406,407,408,409,410,411,412,413,414,415,416,417,418,419,420,421,422,423,424,425,426,427,428,429,430,431,432,433,434,435,436,437,438,439,440,441,442,443,444,445,446,447,448,449,450,451,452,453,454,455,456,457,458,459,460,461,462,463,464,465,466,467,468,469,470,471,472,473,474,475,476,477,478,479,480,481,482,483,484,485,486,487,488,489,490,491,492,493,494,495,496,497,498,499,500,501,502,503,504,505,506,507,508,509,510,511,512,513,514,515,516,517,518,519,520,521,522,523,524,525,526,527,528,529,530,531,532,533,534,535,536,537,538,539,540,541,542,543,544,545,546,547,548,549,550,551,552,553,554,555,556,557,558,559,560,561,562,563,564,565,566,567,568,569,570,571,572,573,574,575,576,577,578,579,580,581,582,583,584,585,586,587,588,589,590,591,592,593,594,595,596,597,598,599,600,601,602,603,604,605,606,607,608,609,610,611,612,613,614,615,616,617,618,619,620,621,622,623,624,625,626,627,628,629,630,631,632,633,634,635,636,637,638,639,640,641,642,643,644,645,646,647,648,649,650,651,652,653,654,655,656,657,658,659,660,661,662,663,664,665,666,667,668,669,670,671,672,673,674,675,676,677,678,679,680,681,682,683,684,685,686,687,688,689,690,691,692,693,694,695,696,697,698,699,700,701,702,703,704,705,706,707,708,709,710,711,712,713,714,715,716,717,718,719,720,721,722,723,724,725,726,727,728,729,730,731,732,733,734,735,736,737,738,739,740,741,742,743,744,745,746,747,748,749,750,751,752,753,754,755,756,757,758,759,760,761,762,763,764,765,766,767,768,769,770,771,772,773,774,775,776,777,778,779,780,781,782,783,784,785,786,787,788,789,790,791,792,793,794,795,796,797,798,799,800,801,802,803,804,805,806,807,808,809,810,811,812,813,814,815,816,817,818,819,820,821,822,823,824,825,826,827,828,829,830,831,832,833,834,835,836,837,838,839,840,841,842,843,844,845,846,847,848,849,850,851,852,853,854,855,856,857,858,859,860,861,862,863,864,865,866,867,868,869,870,871,872,873,874,875,876,877,878,879,880,881,882,883,884,885,886,887,888,889,890,891,892,893,894,895,896,897,898,899,900,901,902,903,904,905,906,907,908,909,910,911,912,913,914,915,916,917,918,919,920,921,922,923,924,925,926,927,928,929,930,931,932,933,934,935,936,937,938,939,940,941,942,943,944,945,946,947,948,949,950,951,952,953,954,955,956,957,958,959,960,961,962,963,964,965,966,967,968,969,970,971,972,973,974,975,976,977,978,979,980,981,982,983,984,985,986,987,988,989,990,991,992,993,994,995,996,997,998,999,1000,1001,1002,1003,1004,1005,1006,1007,1008,1009,1010,1011,1012,1013,1014,1015,1016,1017,1018,1019,1020,1021,1022,1023,1024,1025,1026,1027,1028,1029,1030,1031,1032,1033,1034,1035,1036,1037,1038,1039,1040,1041,1042,1043,1044,1045,1046,1047,1048,1049,1050,1051,1052,1053,1054,1055,1056,1057,1058,1059,1060,1061,1062,1063,1064,1065,1066,1067,1068,1069,1070,1071,1072,1073,1074,1075,1076,1077,1078,1079,1080,1081,1082,1083,1084,1085,1086,1087,1088,1089,1090,1091,1092,1093,1094,1095,1096,1097,1098,1099,1100,1101,1102,1103,1104,1105,1106,1107,1108,1109,1110,1111,1112,1113,1114,1115,1116,1117,1118,1119,1120,1121,1122,1123,1124,1125,1126,1127,1128,1129,1130,1131,1132,1133,1134,1135,1136,1137,1138,1139,1140,1141,1142,1143,1144,1145,1146,1147,1148,1149,1150,1151,1152,1153,1154,1155,1156,1157,1158,1159,1160,1161,1162,1163,1164,1165,1166,1167,1168,1169,1170,1171,1172,1173,1174,1175,1176,1177,1178,1179,1180,1181,1182,1183,1184,1185,1186,1187,1188,1189,1190,1191,1192,1193,1194,1195,1196,1197,1198,1199,1200,1201,1202,1203,1204,1205,1206,1207,1208,1209,1210,1211,1212,1213,1214,1215,1216,1217,1218,1219,1220,1221,1222,1223,1224,1225,1226,1227,1228,1229,1230,1231,1232,1233,1234,1235,1236,1237,1238,1239,1240,1241,1242,1243,1244,1245,1246,1247,1248,1249,1250,1251,1252,1253,1254,1255,1256,1257,1258,1259,1260,1261,1262,1263,1264,1265,1266,1267,1268,1269,1270,1271,1272,1273,1274,1275,1276,1277,1278,1279,1280,1281,1282,1283,1284,1285,1286,1287,1288,1289,1290,1291,1292,1293,1294,1295,1296,1297,1298,1299,1300,1301,1302,1303,1304,1305,1306,1307,1308,1309,1310,1311,1312,1313,1314,1315,1316,1317,1318,1319,1320,1321,1322,1323,1324,1325,1326,1327,1328,1329,1330,1331,1332,1333,1334,1335,1336,1337,1338,1339,1340,1341,1342,1343,1344,1345,1346,1347,1348,1349,1350,1351,1352,1353,1354,1355,1356,1357,1358,1359,1360,1361,1362,1363,1364,1365,1366,1367,1368,1369,1370,1371,1372,1373,1374,1375,1376,1377,1378,1379,1380,1381,1382,1383,1384,1385,1386,1387,1388,1389,1390,1391,1392,1393,1394,1395,1396,1397,1398,1399,1400,1401,1402,1403,1404,1405,1406,1407,1408,1409,1410,1411,1412,1413,1414,1415,1416,1417,1418,1419,1420,1421,1422,1423,1424,1425,1426,1427,1428,1429,1430,1431,1432,1433,1434,1435,1436,1437,1438,1439,1440,1441,1442,1443,1444,1445,1446,1447,1448,1449,1450,1451,1452,1453,1454,1455,1456,1457,1458,1459,1460,1461,1462,1463,1464,1465,1466,1467,1468,1469,1470,1471,1472,1473,1474,1475,1476,1477,1478,1479,1480,1481,1482,1483,1484,1485,1486,1487,1488,1489,1490,1491,1492,1493,1494,1495,1496,1497,1498,1499,1500,1501,1502,1503,1504,1505,1506,1507,1508,1509,1510,1511,1512,1513,1514,1515,1516,1517,1518,1519,1520,1521,1522,1523,1524,1525,1526,1527,1528,1529,1530,1531,1532,1533,1534,1535,1536,1537,1538,1539,1540,1541,1542,1543,1544,1545,1546,1547,1548,1549,1550,1551,1552,1553,1554,1555,1556,1557,1558,1559,1560,1561,1562,1563,1564,1565,1566,1567,1568,1569,1570,1571,1572,1573,1574,1575,1576,1577,1578,1579,1580,1581,1582,1583,1584,1585,1586,1587,1588,1589,1590,1591,1592,1593,1594,1595,1596,1597,1598,1599,1600,1601,1602,1603,1604,1605,1606,1607,1608,1609,1610,1611,1612,1613,1614,1615,1616,1617,1618,1619,1620,1621,1622,1623,1624,1625,1626,1627,1628,1629,1630,1631,1632,1633,1634,1635,1636,1637,1638,1639,1640,1641,1642,1643,1644,1645,1646,1647,1648,1649,1650,1651,1652,1653,1654,1655,1656,1657,1658,1659,1660,1661,1662,1663,1664,1665,1666,1667,1668,1669,1670,1671,1672,1673,1674,1675,1676,1677,1678,1679,1680,1681,1682,1683,1684,1685,1686,1687,1688,1689,1690,1691,1692,1693,1694,1695,1696,1697,1698,1699,1700,1701,1702,1703,1704,1705,1706,1707,1708,1709,1710,1711,1712,1713,1714,1715,1716,1717,1718,1719,1720,1721,1722,1723,1724,1725,1726,1727,1728,1729,1730,1731,1732,1733,1734,1735,1736,1737,1738,1739,1740,1741,1742,1743,1744,1745,1746,1747,1748,1749,1750,1751,1752,1753,1754,1755,1756,1757,1758,1759,1760,1761,1762,1763,1764,1765,1766,1767,1768,1769,1770,1771,1772,1773,1774,1775,1776,1777,1778,1779,1780,1781,1782,1783,1784,1785,1786,1787,1788,1789,1790,1791,1792,1793,1794,1795,1796,1797,1798,1799,1800,1801,1802,1803,1804,1805,1806,1807,1808,1809,1810,1811,1812,1813,1814,1815,1816,1817,1818,1819,1820,1821,1822,1823,1824,1825,1826,1827,1828,1829,1830,1831,1832,1833,1834,1835,1836,1837,1838,1839,1840,1841,1842,1843,1844,1845,1846,1847,1848,1849,1850,1851,1852,1853,1854,1855,1856,1857,1858,1859,1860,1861,1862,1863,1864,1865,1866,1867,1868,1869,1870,1871,1872,1873,1874,1875,1876,1877,1878,1879,1880,1881,1882,1883,1884,1885,1886,1887,1888,1889,1890,1891,1892,1893,1894,1895,1896,1897,1898,1899,1900,1901,1902,1903,1904,1905,1906,1907,1908,1909,1910,1911,1912,1913,1914,1915,1916,1917,1918,1919,1920,1921,1922,1923,1924,1925,1926,1927,1928,1929,1930,1931,1932,1933,1934,1935,1936,1937,1938,1939,1940,1941,1942,1943,1944,1945,1946,1947,1948,1949,1950,1951,1952,1953,1954,1955,1956,1957,1958,1959,1960,1961,1962,1963,1964,1965,1966,1967,1968,1969,1970,1971,1972,1973,1974,1975,1976,1977,1978,1979,1980,1981,1982,1983,1984,1985,1986,1987,1988,1989,1990,1991,1992,1993,1994,1995,1996,1997,1998,1999,2000,2001,2002,2003,2004,2005,2006,2007,2008,2009,2010,2011,2012,2013,2014,2015,2016,2017,2018,2019,2020,2021,2022,2023,2024,2025,2026,2027,2028,2029,2030,2031,2032,2033,2034,2035,2036,2037,2038,2039,2040,2041,2042,2043,2044,2045,2046,2047,2048,2049,2050,2051,2052,2053,2054,2055,2056,2057,2058,2059,2060,2061,2062,2063,2064,2065,2066,2067,2068,2069,2070,2071,2072,2073,2074,2075,2076,2077,2078,2079,2080,2081,2082,2083,2084,2085,2086,2087,2088,2089,2090,2091,2092,2093,2094,2095,2096,2097,2098,2099,2100,2101,2102,2103,2104,2105,2106,2107,2108,2109,2110,2111,2112,2113,2114,2115,2116,2117,2118,2119,2120,2121,2122,2123,2124,2125,2126,2127,2128,2129,2130,2131,2132,2133,2134,2135,2136,2137,2138,2139,2140,2141,2142,2143,2144,2145,2146,2147,2148,2149,2150,2151,2152,2153,2154,2155,2156,2157,2158,2159,2160,2161,2162,2163,2164,2165,2166,2167,2168,2169,2170,2171,2172,2173,2174,2175,2176,2177,2178,2179,2180,2181,2182,2183,2184,2185,2186,2187,2188,2189,2190,2191,2192,2193,2194,2195,2196,2197,2198,2199,2200,2201,2202,2203,2204,2205,2206,2207,2208,2209,2210,2211,2212,2213,2214,2215,2216,2217,2218,2219,2220,2221,2222,2223,2224,2225,2226,2227,2228,2229,2230,2231,2232,2233,2234,2235,2236,2237,2238,2239,2240,2241,2242,2243,2244,2245,2246,2247,2248,2249,2250,2251,2252,2253,2254,2255,2256,2257,2258,2259,2260,2261,2262,2263,2264,2265,2266,2267,2268,2269,2270,2271,2272,2273,2274,2275,2276,2277,2278,2279,2280,2281,2282,2283,2284,2285,2286,2287,2288,2289,2290,2291,2292,2293,2294,2295,2296,2297,2298,2299,2300,2301,2302,2303,2304,2305,2306,2307,2308,2309,2310,2311,2312,2313,2314,2315,2316,2317,2318,2319,2320,2321,2322,2323,2324,2325,2326,2327,2328,2329,2330,2331,2332,2333,2334,2335,2336,2337,2338,2339,2340,2341,2342,2343,2344,2345,2346,2347,2348,2349,2350,2351,2352,2353,2354,2355,2356,2357,2358,2359,2360,2361,2362,2363,2364,2365,2366,2367,2368,2369,2370,2371,2372,2373,2374,2375,2376,2377,2378,2379,2380,2381,2382,2383,2384,2385,2386,2387,2388,2389,2390,2391,2392,2393,2394,2395,2396,2397,2398,2399,2400,2401,2402,2403,2404,2405,2406,2407,2408,2409,2410,2411,2412,2413,2414,2415,2416,2417,2418,2419,2420,2421,2422,2423,2424,2425,2426,2427,2428,2429,2430,2431,2432,2433,2434,2435,2436,2437,2438,2439,2440,2441,2442,2443,2444,2445,2446,2447,2448,2449,2450,2451,2452,2453,2454,2455,2456,2457,2458,2459,2460,2461,2462,2463,2464,2465,2466,2467,2468,2469,2470,2471,2472,2473,2474,2475,2476,2477,2478,2479,2480,2481,2482,2483,2484,2485,2486,2487,2488,2489,2490,2491,2492,2493,2494,2495,2496,2497,2498,2499,2500,2501,2502,2503,2504,2505,2506,2507,2508,2509,2510,2511,2512,2513,2514,2515,2516,2517,2518,2519,2520,2521,2522,2523,2524,2525,2526,2527,2528,2529,2530,2531,2532,2533,2534,2535,2536,2537,2538,2539,2540,2541,2542,2543,2544,2545,2546,2547,2548,2549,2550,2551,2552,2553,2554,2555,2556,2557,2558,2559,2560,2561,2562,2563,2564,2565,2566,2567,2568,2569,2570,2571,2572,2573,2574,2575,2576,2577,2578,2579,2580,2581,2582,2583,2584,2585,2586,2587,2588,2589,2590,2591,2592,2593,2594,2595,2596,2597,2598,2599,2600,2601,2602,2603,2604,2605,2606,2607,2608,2609,2610,2611,2612,2613,2614,2615,2616,2617,2618,2619,2620,2621,2622,2623,2624,2625,2626,2627,2628,2629,2630,2631,2632,2633,2634,2635,2636,2637,2638,2639,2640,2641,2642,2643,2644,2645,2646,2647,2648,2649,2650,2651,2652,2653,2654,2655,2656,2657,2658,2659,2660,2661,2662,2663,2664,2665,2666,2667,2668,2669,2670,2671,2672,2673,2674,2675,2676,2677,2678,2679,2680,2681,2682,2683,2684,2685,2686,2687,2688,2689,2690,2691,2692,2693,2694,2695,2696,2697,2698,2699,2700,2701,2702,2703,2704,2705,2706,2707,2708,2709,2710,2711,2712,2713,2714,2715,2716,2717,2718,2719,2720,2721,2722,2723,2724,2725,2726,2727,2728,2729,2730,2731,2732,2733,2734,2735,2736,2737,2738,2739,2740,2741,2742,2743,2744,2745,2746,2747,2748,2749,2750,2751,2752,2753,2754,2755,2756,2757,2758,2759,2760,2761,2762,2763,2764,2765,2766,2767,2768,2769,2770,2771,2772,2773,2774,2775,2776,2777,2778,2779,2780,2781,2782,2783,2784,2785,2786,2787,2788,2789,2790,2791,2792,2793,2794,2795,2796,2797,2798,2799,2800,2801,2802,2803,2804,2805,2806,2807,2808,2809,2810,2811,2812,2813,2814,2815,2816,2817,2818,2819,2820,2821,2822,2823,2824,2825,2826,2827,2828,2829,2830,2831,2832,2833,2834,2835,2836,2837,2838,2839,2840,2841,2842,2843,2844,2845,2846,2847,2848,2849,2850,2851,2852,2853,2854,2855,2856,2857,2858,2859,2860,2861,2862,2863,2864,2865,2866,2867,2868,2869,2870,2871,2872,2873,2874,2875,2876,2877,2878,2879,2880,2881,2882,2883,2884,2885,2886,2887,2888,2889,2890,2891,2892,2893,2894,2895,2896,2897,2898,2899,2900,2901,2902,2903,2904,2905,2906,2907,2908,2909,2910,2911,2912,2913,2914,2915,2916,2917,2918,2919,2920,2921,2922,2923,2924,2925,2926,2927,2928,2929,2930,2931,2932,2933,2934,2935,2936,2937,2938,2939,2940,2941,2942,2943,2944,2945,2946,2947,2948,2949,2950,2951,2952,2953,2954,2955,2956,2957,2958,2959,2960,2961,2962,2963,2964,2965,2966,2967,2968,2969,2970,2971,2972,2973,2974,2975,2976,2977,2978,2979,2980,2981,2982,2983,2984,2985,2986,2987,2988,2989,2990,2991,2992,2993,2994,2995,2996,2997,2998,2999,3000,3001,3002,3003,3004,3005,3006,3007,3008,3009,3010,3011,3012,3013,3014,3015,3016,3017,3018,3019,3020,3021,3022,3023,3024,3025,3026,3027,3028,3029,3030,3031,3032,3033,3034,3035,3036,3037,3038,3039,3040,3041,3042,3043,3044,3045,3046,3047,3048,3049,3050,3051,3052,3053,3054,3055,3056,3057,3058,3059,3060,3061,3062,3063,3064,3065,3066,3067,3068,3069,3070,3071,3072,3073,3074,3075,3076,3077,3078,3079,3080,3081,3082,3083,3084,3085,3086,3087,3088,3089,3090,3091,3092,3093,3094,3095,3096,3097,3098,3099,3100,3101,3102,3103,3104,3105,3106,3107,3108,3109,3110,3111,3112,3113,3114,3115,3116,3117,3118,3119,3120,3121,3122,3123,3124,3125,3126,3127,3128,3129,3130,3131,3132,3133,3134,3135,3136,3137,3138,3139,3140,3141,3142,3143,3144,3145,3146,3147,3148,3149,3150,3151,3152,3153,3154,3155,3156,3157,3158,3159,3160,3161,3162,3163,3164,3165,3166,3167,3168,3169,3170,3171,3172,3173,3174,3175,3176,3177,3178,3179,3180,3181,3182,3183,3184,3185,3186,3187,3188,3189,3190,3191,3192,3193,3194,3195,3196,3197,3198,3199,3200,3201,3202,3203,3204,3205,3206,3207,3208,3209,3210,3211,3212,3213,3214,3215,3216,3217,3218,3219,3220,3221,3222,3223,3224,3225,3226,3227,3228,3229,3230,3231,3232,3233,3234,3235,3236,3237,3238,3239,3240,3241,3242,3243,3244,3245,3246,3247,3248,3249,3250,3251,3252,3253,3254,3255,3256,3257,3258,3259,3260,3261,3262,3263,3264,3265,3266,3267,3268,3269,3270,3271,3272,3273,3274,3275,3276,3277,3278,3279,3280,3281,3282,3283,3284,3285,3286,3287,3288,3289,3290,3291,3292,3293,3294,3295,3296,3297,3298,3299,3300,3301,3302,3303,3304,3305,3306,3307,3308,3309,3310,3311,3312,3313,3314,3315,3316,3317,3318,3319,3320,3321,3322,3323,3324,3325,3326,3327,3328,3329,3330,3331,3332,3333,3334,3335,3336,3337,3338,3339,3340,3341,3342,3343,3344,3345,3346,3347,3348,3349,3350,3351,3352,3353,3354,3355,3356,3357,3358,3359,3360,3361,3362,3363,3364,3365,3366,3367,3368,3369,3370,3371,3372,3373,3374,3375,3376,3377,3378,3379,3380,3381,3382,3383,3384,3385,3386,3387,3388,3389,3390,3391,3392,3393,3394,3395,3396,3397,3398,3399,3400,3401,3402,3403,3404,3405,3406,3407,3408,3409,3410,3411,3412,3413,3414,3415,3416,3417,3418,3419,3420,3421,3422,3423,3424,3425,3426,3427,3428,3429,3430,3431,3432,3433,3434,3435,3436,3437,3438,3439,3440,3441,3442,3443,3444,3445,3446,3447,3448,3449,3450,3451,3452,3453,3454,3455,3456,3457,3458,3459,3460,3461,3462,3463,3464,3465,3466,3467,3468,3469,3470,3471,3472,3473,3474,3475,3476,3477,3478,3479,3480,3481,3482,3483,3484,3485,3486,3487,3488,3489,3490,3491,3492,3493,3494,3495,3496,3497,3498,3499,3500,3501,3502,3503,3504,3505,3506,3507,3508,3509,3510,3511,3512,3513,3514,3515,3516,3517,3518,3519,3520,3521,3522,3523,3524,3525,3526,3527,3528,3529,3530,3531,3532,3533,3534,3535,3536,3537,3538,3539,3540,3541,3542,3543,3544,3545,3546,3547,3548,3549,3550,3551,3552,3553,3554,3555,3556,3557,3558,3559,3560,3561,3562,3563,3564,3565,3566,3567,3568,3569,3570,3571,3572,3573,3574,3575,3576,3577,3578,3579,3580,3581,3582,3583,3584,3585,3586,3587,3588,3589,3590,3591,3592,3593,3594,3595,3596,3597,3598,3599,3600,3601,3602,3603,3604,3605,3606,3607,3608,3609,3610,3611,3612,3613,3614,3615,3616,3617,3618,3619,3620,3621,3622,3623,3624,3625,3626,3627,3628,3629,3630,3631,3632,3633,3634,3635,3636,3637,3638,3639,3640,3641,3642,3643,3644,3645,3646,3647,3648,3649,3650,3651,3652,3653,3654,3655,3656,3657,3658,3659,3660,3661,3662,3663,3664,3665,3666,3667,3668,3669,3670,3671,3672,3673,3674,3675,3676,3677,3678,3679,3680,3681,3682,3683,3684,3685,3686,3687,3688,3689,3690,3691,3692,3693,3694,3695,3696,3697,3698,3699,3700,3701,3702,3703,3704,3705,3706,3707,3708,3709,3710,3711,3712,3713,3714,3715,3716,3717,3718,3719,3720,3721,3722,3723,3724,3725,3726,3727,3728,3729,3730,3731,3732,3733,3734,3735,3736,3737,3738,3739,3740,3741,3742,3743,3744,3745,3746,3747,3748,3749,3750,3751,3752,3753,3754,3755,3756,3757,3758,3759,3760,3761,3762,3763,3764,3765,3766,3767,3768,3769,3770,3771,3772,3773,3774,3775,3776,3777,3778,3779,3780,3781,3782,3783,3784,3785,3786,3787,3788,3789,3790,3791,3792,3793,3794,3795,3796,3797,3798,3799,3800,3801,3802,3803,3804,3805,3806,3807,3808,3809,3810,3811,3812,3813,3814,3815,3816,3817,3818,3819,3820,3821,3822,3823,3824,3825,3826,3827,3828,3829,3830,3831,3832,3833,3834,3835,3836,3837,3838,3839,3840,3841,3842,3843,3844,3845,3846,3847,3848,3849,3850,3851,3852,3853,3854,3855,3856,3857,3858,3859,3860,3861,3862,3863,3864,3865,3866,3867,3868,3869,3870,3871,3872,3873,3874,3875,3876,3877,3878,3879,3880,3881,3882,3883,3884,3885,3886,3887,3888,3889,3890,3891,3892,3893,3894,3895,3896,3897,3898,3899,3900,3901,3902,3903,3904,3905,3906,3907,3908,3909,3910,3911,3912,3913,3914,3915,3916,3917,3918,3919,3920,3921,3922,3923,3924,3925,3926,3927,3928,3929,3930,3931,3932,3933,3934,3935,3936,3937,3938,3939,3940,3941,3942,3943,3944,3945,3946,3947,3948,3949,3950,3951,3952,3953,3954,3955,3956,3957,3958,3959,3960,3961,3962,3963,3964,3965,3966,3967,3968,3969,3970,3971,3972,3973,3974,3975,3976,3977,3978,3979,3980,3981,3982,3983,3984,3985,3986,3987,3988,3989,3990,3991,3992,3993,3994,3995,3996,3997,3998,3999,4000,4001,4002,4003,4004,4005,4006,4007,4008,4009,4010,4011,4012,4013,4014,4015,4016,4017,4018,4019,4020,4021,4022,4023,4024,4025,4026,4027,4028,4029,4030,4031,4032,4033,4034,4035,4036,4037,4038,4039,4040,4041,4042,4043,4044,4045,4046,4047,4048,4049,4050,4051,4052,4053,4054,4055,4056,4057,4058,4059,4060,4061,4062,4063,4064,4065,4066,4067,4068,4069,4070,4071,4072,4073,4074,4075,4076,4077,4078,4079,4080,4081,4082,4083,4084,4085,4086,4087,4088,4089,4090,4091,4092,4093,4094,4095,4096,4097,4098,4099,4100,4101,4102,4103,4104,4105,4106,4107,4108,4109,4110,4111,4112,4113,4114,4115,4116,4117,4118,4119,4120,4121,4122,4123,4124,4125,4126,4127,4128,4129,4130,4131,4132,4133,4134,4135,4136,4137,4138,4139,4140,4141,4142,4143,4144,4145,4146,4147,4148,4149,4150,4151,4152,4153,4154,4155,4156,4157,4158,4159,4160,4161,4162,4163,4164,4165,4166,4167,4168,4169,4170,4171,4172,4173,4174,4175,4176,4177,4178,4179,4180,4181,4182,4183,4184,4185,4186,4187,4188,4189,4190,4191,4192,4193,4194,4195,4196,4197,4198,4199,4200,4201,4202,4203,4204,4205,4206,4207,4208,4209,4210,4211,4212,4213,4214,4215,4216,4217,4218,4219,4220,4221,4222,4223,4224,4225,4226,4227,4228,4229,4230,4231,4232,4233,4234,4235,4236,4237,4238,4239,4240,4241,4242,4243,4244,4245,4246,4247,4248,4249,4250,4251,4252,4253,4254,4255,4256,4257,4258,4259,4260,4261,4262,4263,4264,4265,4266,4267,4268,4269,4270,4271,4272,4273,4274,4275,4276,4277,4278,4279,4280,4281,4282,4283,4284,4285,4286,4287,4288,4289,4290,4291,4292,4293,4294,4295,4296,4297,4298,4299,4300,4301,4302,4303,4304,4305,4306,4307,4308,4309,4310,4311,4312,4313,4314,4315,4316,4317,4318,4319,4320,4321,4322,4323,4324,4325,4326,4327,4328,4329,4330,4331,4332,4333,4334,4335,4336,4337,4338,4339,4340,4341,4342,4343,4344,4345,4346,4347,4348,4349,4350,4351,4352,4353,4354,4355,4356,4357,4358,4359,4360,4361,4362,4363,4364,4365,4366,4367,4368,4369,4370,4371,4372,4373,4374,4375,4376,4377,4378,4379,4380,4381,4382,4383,4384,4385,4386,4387,4388,4389,4390,4391,4392,4393,4394,4395,4396,4397,4398,4399,4400,4401,4402,4403,4404,4405,4406,4407,4408,4409,4410,4411,4412,4413,4414,4415,4416,4417,4418,4419,4420,4421,4422,4423,4424,4425,4426,4427,4428,4429,4430,4431,4432,4433,4434,4435,4436,4437,4438,4439,4440,4441,4442,4443,4444,4445,4446,4447,4448,4449,4450,4451,4452,4453,4454,4455,4456,4457,4458,4459,4460,4461,4462,4463,4464,4465,4466,4467,4468,4469,4470,4471,4472,4473,4474,4475,4476,4477,4478,4479,4480,4481,4482,4483,4484,4485,4486,4487,4488,4489,4490,4491,4492,4493,4494,4495,4496,4497,4498,4499,4500,4501,4502,4503,4504,4505,4506,4507,4508,4509,4510,4511,4512,4513,4514,4515,4516,4517,4518,4519,4520,4521,4522,4523,4524,4525,4526,4527,4528,4529,4530,4531,4532,4533,4534,4535,4536,4537,4538,4539,4540,4541,4542,4543,4544,4545,4546,4547,4548,4549,4550,4551,4552,4553,4554,4555,4556,4557,4558,4559,4560,4561,4562,4563,4564,4565,4566,4567,4568,4569,4570,4571,4572,4573,4574,4575,4576,4577,4578,4579,4580,4581,4582,4583,4584,4585,4586,4587,4588,4589,4590,4591,4592,4593,4594,4595,4596,4597,4598,4599,4600,4601,4602,4603,4604,4605,4606,4607,4608,4609,4610,4611,4612,4613,4614,4615,4616,4617,4618,4619,4620,4621,4622,4623,4624,4625,4626,4627,4628,4629,4630,4631,4632,4633,4634,4635,4636,4637,4638,4639,4640,4641,4642,4643,4644,4645,4646,4647,4648,4649,4650,4651,4652,4653,4654,4655,4656,4657,4658,4659,4660,4661,4662,4663,4664,4665,4666,4667,4668,4669,4670,4671,4672,4673,4674,4675,4676,4677,4678,4679,4680,4681],\"xaxis\":\"x\",\"y\":[-9.53393930253288,-9.53614029997918,-9.52934530245762,-9.53123898558684,-9.54082487327138,-9.53658499914194,-9.52954251178912,-9.5244935021946,-9.53576663572809,-9.52933756294934,-9.52646751039953,-9.53574866596202,-9.53217097035413,-9.53371783953851,-9.53540363060037,-9.52941967123012,-9.52292790505443,-9.52568399701176,-9.52687301256799,-9.53369475862362,-9.53357598272955,-9.5334560649352,-9.53632028894518,-9.54059202064117,-9.53817144017442,-9.53444270013256,-9.53342232287602,-9.53286867559116,-9.53335191371783,-9.53345167737546,-9.53607866666963,-9.52875386384417,-9.53355540354138,-9.53322760900698,-9.53361661443841,-9.5331205322165,-9.53305012270188,-9.53792647188955,-9.53569142022036,-9.53587182890155,-9.53861322074484,-9.53779923509375,-9.53341604845914,-9.53803354761346,-9.54725936397575,-9.53165765898285,-9.53626743114413,-9.53364336259838,-9.53578418598333,-9.53852411087919,-9.53404595545351,-9.53372254652776,-9.53407969697397,-9.53343109799549,-9.5335935329848,-9.5366671067316,-9.53871298224215,-9.53403864283358,-9.5362601185242,-9.52894229195088,-9.5334864572609,-9.53152675964348,-9.53119604114482,-9.52733127084841,-9.53809183914203,-9.53337791901572,-9.52866693540774,-9.53369872306476,-9.53167635096518,-9.53359645802734,-9.5339784724126,-9.53548427774487,-9.53766322437537,-9.53387474417807,-9.53592354106557,-9.53395653455279,-9.54005005650128,-9.54007053178005,-9.53404888050149,-9.53555614977804,-9.53391141092336,-9.53585020722127,-9.53370645879378,-9.54066974169963,-9.54035770560914,-9.5334424777324,-9.54666316492742,-9.52688032518114,-9.52652139977057,-9.53588321517196,-9.53353304328943,-9.53566102252545,-9.53347768213327,-9.53421539021074,-9.52055683581932,-9.52278313558279,-9.53390378022051,-9.53330836046348,-9.53627338470884,-9.53804388915273,-9.53141907161063,-9.52851820563683,-9.5359265699985,-9.52653206947807,-9.53170246108481,-9.53315102798386,-9.52928919618901,-9.52653060695815,-9.52702081626205,-9.52851045989213,-9.53773770515623,-9.53580883674894,-9.5290314931785,-9.53736999048048,-9.5248037281434,-9.53316575728418,-9.52681294546065,-9.52471723229065,-9.52536580573184,-9.52445693916284,-9.52456986497182,-9.52506591646994,-9.52948872026379,-9.52944766612339,-9.53156645472865,-9.5268158705059,-9.52542483740532,-9.52445840168411,-9.53388476740868,-9.53149354540972,-9.52452442292205,-9.52530021349414,-9.52315645195806,-9.51621037781704,-9.52946343216254,-9.52694937478341,-9.51573786082252,-9.52533395465545,-9.52269192218414,-9.51407797823296,-9.5269413097851,-9.52176508595169,-9.52249429407605,-9.51585439204931,-9.52467514752609,-9.52694644973815,-9.5196796096285,-9.52237405670284,-9.51746735801161,-9.51361131636156,-9.50936698968667,-9.52046751851532,-9.51870876778905,-9.52046166841394,-9.51792559188559,-9.51845536283707,-9.52755878834049,-9.51188292210125,-9.51552269272813,-9.52264983896246,-9.52453183941879,-9.52732416473759,-9.51808913665348,-9.5210281186315,-9.51495547935131,-9.51341189575554,-9.52223221176862,-9.51320550382554,-9.52226302842339,-9.51839968377521,-9.50022632136325,-9.51980580201931,-9.5136656366866,-9.51328513515856,-9.51816583344084,-9.51414297681093,-9.51409314785589,-9.51382366127373,-9.50951522011938,-9.5138192736977,-9.5072130935108,-9.49980479627895,-9.50607445822459,-9.50649564365516,-9.51333900810305,-9.50509238275957,-9.51194016636829,-9.51611262257362,-9.50712614945923,-9.51178472704848,-9.52068831811411,-9.50743960814175,-9.5207704253582,-9.50912257677111,-9.5001090095618,-9.51600408592424,-9.525134964935,-9.50690841077971,-9.51617820222957,-9.51140310685559,-9.51393951054983,-9.50695869295037,-9.50705361382067,-9.50195586059674,-9.51178472704848,-9.51538929162136,-9.51988903858861,-9.50650926236405,-9.52041735887341,-9.51128579453036,-9.5139098167823,-9.51553303426741,-9.51617864273005,-9.51597517422271,-9.50953726106707,-9.51328479108621,-9.51366529550467,-9.51832093846364,-9.51131807352683,-9.51586224946944,-9.51115127703997,-9.51780692019352,-9.50030514811121,-9.50915778063734,-9.49945614192634,-9.51141300059635,-9.51616211443584,-9.50926924233741,-9.51581534523309,-9.5094214123161,-9.50649710617779,-9.51829012217345,-9.52737074564794,-9.511240352818,-9.502329483679,-9.49990163381116,-9.51342414545423,-9.51871179568149,-9.51725521699123,-9.51575269340795,-9.49998666748277,-9.4925519960199,-9.49924976747918,-9.51953450835157,-9.51950076647196,-9.50857776205025,-9.50652454422513,-9.51128579453036,-9.50731870457484,-9.50875131138782,-9.52454510600061,-9.52065095373115,-9.51575956238407,-9.52295231873735,-9.52708807860935,-9.5135732907379,-9.50622177707195,-9.50633031531712,-9.50205854821946,-9.50662869383448,-9.51165459407536,-9.51579330390453,-9.50925900466,-9.50953579854036,-9.51412250143709,-9.50223749437803,-9.51558837247567,-9.50817860778481,-9.50500038712538,-9.51566463101151,-9.50471482340109,-9.50089023536183,-9.51595571932991,-9.51814053155646,-9.50697881851217,-9.50912696434715,-9.50964242476331,-9.50679987413034,-9.52741618702287,-9.50456119703753,-9.51176707387542,-9.51569646691511,-9.51877142789927,-9.51798688817064,-9.50471583256787,-9.51409416887796,-9.52126387410877,-9.51784460946887,-9.50896163175438,-9.52250171016474,-9.51105005193987,-9.50506302936201,-9.50935135027263,-9.51388675637947,-9.5003143826578,-9.49786302844522,-9.50169854958087,-9.51772178284234,-9.51353471771717,-9.51585044580878,-9.5044541223802,-9.50908737290488,-9.51418807918286,-9.51591568861974,-9.51223856271345,-9.51849944473243,-9.51163446147115,-9.51124181534199,-9.53442201389747,-9.5189928855947,-9.52009913739649,-9.51595605794211,-9.50467704683877,-9.50967212266517,-9.51872090454744,-9.52972605026289,-9.51369937820706,-9.51184962536257,-9.51454844826398,-9.50692933900187,-9.51358060335784,-9.51615031117508,-9.51833366397929,-9.50951331094861,-9.50761405964473,-9.51126814077375,-9.50794326226865,-9.51424668314164,-9.51368430833416,-9.52320784648694,-9.52566362445522,-9.52047234246021,-9.51400508711228,-9.51629405098054,-9.53393323763777,-9.51355856202927,-9.51608765638481,-9.51781603388676,-9.51816393196198,-9.52060394640421,-9.52035503013498,-9.50440464644472,-9.52086759113694,-9.52458280124134,-9.51886128205273,-9.51873699234118,-9.51544935888384,-9.53419209283062,-9.53214036010116,-9.52034728166318,-9.51825886902315,-9.50661104007787,-9.51157282889076,-9.52056728001263,-9.52905250049809,-9.51847188834803,-9.51849495410519,-9.5250043871475,-9.52696410368927,-9.51592962904159,-9.53454809981972,-9.53188589630063,-9.52991041986526,-9.52516129039121,-9.53247620455415,-9.52929118912036,-9.5233086385832,-9.52564304622604,-9.53278049839826,-9.52093058283231,-9.5254424907729,-9.52311101058312,-9.520909674033,-9.5252503845391,-9.51827056923678,-9.51374291260591,-9.51539211277352,-9.51262379220933,-9.52082497176827,-9.52324261914778,-9.52505860384321,-9.51886816009198,-9.52737795523431,-9.5230141746793,-9.51754215472954,-9.536112196664,-9.52989683487078,-9.52915287105195,-9.53619681322403,-9.52291923316031,-9.51998025761204,-9.52110470444679,-9.52073295840841,-9.53464044476024,-9.53201637083018,-9.51672146694276,-9.5210578007125,-9.52081619660805,-9.52729731017136,-9.5181433533492,-9.52565692388924,-9.52477258533734,-9.53381143427181,-9.52892777062856,-9.52512273252737,-9.52227067372812,-9.52271283096266,-9.52744618984337,-9.520323085762,-9.52500910231412,-9.53218319289264,-9.52360592431072,-9.53413997086372,-9.52312709837685,-9.52723204052872,-9.5299279701857,-9.52534272981567,-9.53406810025084,-9.52562246799685,-9.52502925007837,-9.52940953703097,-9.53013145637855,-9.52937579551052,-9.5222247954759,-9.52076918965928,-9.53410695714043,-9.53442191106115,-9.53168198572998,-9.5268056328475,-9.52709457924194,-9.53327722110111,-9.53429760084753,-9.53436800822356,-9.53177621647133,-9.52966138937387,-9.52546004109334,-9.52747511462197,-9.53023518318108,-9.52921482690495,-9.51804582977986,-9.53196904571115,-9.5363522539424,-9.5340035422579,-9.53700086778952,-9.52999356739548,-9.52712642839539,-9.52740178183882,-9.53242481039935,-9.53416012908912,-9.52698896657395,-9.53196173307763,-9.52687896633808,-9.5311521655067,-9.53139378283225,-9.52503656270509,-9.52015583978447,-9.52480854812402,-9.52991584773557,-9.53422280589139,-9.52748941640517,-9.52469708536552,-9.52695083730603,-9.52029811919774,-9.52463149864595,-9.53133956581541,-9.52730462280488,-9.5223787750702,-9.52950773307562,-9.53100624933841,-9.5287114508061,-9.52914923468272,-9.5346419072883,-9.53608169539446,-9.53599331834602,-9.52031533504981,-9.51994066564735,-9.52423401258741,-9.51733970237446,-9.52024931453288,-9.52242681103513,-9.53325778449078,-9.52927164590117,-9.53333404337761,-9.52238944962218,-9.52234693261495,-9.53355111986796,-9.52190331479801,-9.53099893674564,-9.52500910231412,-9.52669200465449,-9.53095934443266,-9.53579609393427,-9.52476164372033,-9.52766543484524,-9.5358602324001,-9.52687311624757,-9.52509965781082,-9.5180938593592,-9.52040588593493,-9.52967758041061,-9.52701978322873,-9.53199986181906,-9.53145102857391,-9.53090031067752,-9.52442725544484,-9.5247407361432,-9.52921742904489,-9.52711326567951,-9.52277403011936,-9.529037771395,-9.53009479034069,-9.5158214319715,-9.51796225863088,-9.52226628616431,-9.52810321795157,-9.53241311017486,-9.51881573801018,-9.51789038766293,-9.52690978299286,-9.52485512342046,-9.52034030142635,-9.52485219837249,-9.52058044274074,-9.51828270628877,-9.52996171134701,-9.52523273117152,-9.5247817902836,-9.52754227346076,-9.51585190833277,-9.52497064580662,-9.52038833563079,-9.52962147772763,-9.52272420099968,-9.51647548025509,-9.51517548194534,-9.51338254180705,-9.51848179136486,-9.52054085129847,-9.5204602058886,-9.51382760614551,-9.51776576220077,-9.51369600853692,-9.51572582086361,-9.52297468645831,-9.52992472574027,-9.52333610051893,-9.52478514776196,-9.51548310076345,-9.51840260882861,-9.51392444204934,-9.52491204153486,-9.5207777379985,-9.52301574025314,-9.51576350896202,-9.51624963391568,-9.51151479919459,-9.51358162178616,-9.51767341591602,-9.51357869673547,-9.5162804498413,-9.51341335827953,-9.51577565014793,-9.51369791568307,-9.51618741788212,-9.52029676035469,-9.52024839342837,-9.51742089883589,-9.5179795755507,-9.51128433200637,-9.51394940805043,-9.5136245825462,-9.51847155367794,-9.51436804401781,-9.51876996536985,-9.52482148536876,-9.50923842604722,-9.50908737290488,-9.51934609957246,-9.51777610353875,-9.52289550392206,-9.50930152115295,-9.5128528929609,-9.50844032186501,-9.51544463053977,-9.52030666337465,-9.51416940533873,-9.50960429619739,-9.51584020814087,-9.51331111649353,-9.51777756606138,-9.51418807918286,-9.5201061140151,-9.51480287203306,-9.51417155194802,-9.51563673940199,-9.52491789163624,-9.52280641219284,-9.526865907314,-9.52284015353373,-9.51361873245025,-9.52023771780975,-9.51393073539776,-9.51573796450209,-9.51553595930995,-9.52037853398753,-9.50623832201485,-9.50943603758313,-9.50485372226652,-9.5113503525233,-9.50196363453276,-9.51691919025867,-9.52331459153176,-9.5139098167823,-9.51283715184549,-9.51829597227483,-9.51012414437617,-9.5156466376308,-9.50947855390466,-9.50753678851599,-9.51614782643985,-9.50478961870959,-9.51384862746255,-9.51578048133789,-9.51615806411727,-9.51164616167391,-9.51106366532296,-9.50732894226176,-9.51166820281203,-9.53153177835721,-9.52077411563397,-9.48760557549129,-9.47048504803631,-9.50224061257262,-9.50665432512982,-9.51954890390218,-9.52034277001155,-9.51583861404436,-9.50029455649551,-9.49473741713321,-9.52484196070458,-9.543109959771,-9.52734999129549,-9.47010809224353,-9.44089089025597,-9.45965850546236,-9.49603067590788,-9.54475627477074,-9.16592884100309,-8.96632787168801,-9.00885585094371,-8.92238183673862,-8.54770720731067,-8.50559138671462,-9.47467559196693,-10.3796580180905,-10.6176179400699,-10.7215450381267,-10.9564810475682,-10.9884341211736,-10.5369301431203,-10.4578024371558,-10.2295154102049,-10.1015986969281,-10.0090307829916,-9.95039480234339,-10.1378320560637,-10.3408486991094,-10.3244635727135,-10.5111910696324,-10.802211783,-11.0046480009857,-11.0692388975724,-10.8452082052324,-10.8294288750562,-11.1931969896208,-11.5544481227753,-11.6934250707197,-11.41232248814,-11.0200769718704,-10.1415255193225,-9.61859668318128,-9.22088371061744,-9.46771925120196,-9.72920334633829,-9.85957077159385,-9.88491682037379,-10.112323856224,-10.3447998967899,-10.265971958189,-10.3980409899317,-10.6282000228516,-10.7271428575819,-10.5230731565237,-10.3789129350888,-10.6358090708598,-10.7659142281307,-10.8065525989633,-10.8522580241269,-10.788119645681,-10.5286990756452,-10.3473558671919,-10.1373424109808,-9.90057413728397,-9.81834235527474,-9.6755998803299,-9.5301619278027,-9.34210007183734,-9.36279154622114,-9.55767746488244,-9.75277919497183,-10.0568282656214,-10.3561950187849,-10.520329440448,-10.814924175835,-11.0610762688305,-11.1390401982865,-11.0573540881867,-10.764836877556,-10.4536538843671,-10.1080774875726,-9.59403768182145,-9.2400594342519,-8.99539394598638,-8.59709608193183,-8.24259965199727,-7.92117581994852,-7.97214185247899,-8.1222894842608,-7.99647672683517,-7.92491215323874,-7.62353334004508,-7.41942539820629,-7.19080152979482,-6.97540217754543,-6.73175978476476,-6.52792229659648,-6.2761583572951,-6.11117563900547,-6.08035781987599,-6.03264385269488,-6.1923521883592,-6.17931734362074,-6.19892663727161,-6.23316361296188,-6.16547257341732,-6.24097499744498,-6.28778730193378,-6.28535520321439,-6.33885954975541,-6.38558332605573,-6.42195621921594,-6.51062858698174,-6.65092037029894,-6.74430572900815,-6.82163120943558,-6.8681182280588,-6.9305228844018,-6.96309029254363,-6.99421847970579,-7.02856866358117,-7.04822359798692,-7.08968730352926,-7.14978614999907,-7.26256859560622,-7.39557567609295,-7.47538925705783,-7.47770908038044,-7.55412127345396,-7.63870463625961,-7.65162018304708,-7.62063688354554,-7.50101349427704,-7.4812147624813,-7.49730805259096,-7.54706147486326,-7.68861024021863,-7.77382154692462,-7.91021055908002,-7.94305860627309,-7.90329757975255,-7.8298333492478,-7.82561882482325,-7.77477966729709,-7.70174935149657,-7.68790358495876,-7.66034461633387,-7.65593830381082,-7.65885478372399,-7.68828733351746,-7.76705176344891,-7.80160376499005,-7.86942714768986,-7.83722048827792,-7.79270542430101,-7.68943034645358,-7.5194202114745,-7.2935824443918,-7.18007970879602,-6.89338921469086,-6.47462912162257,-6.04281483366258,-5.83376230976428,-5.68134113418782,-5.49232536503957,-5.31036885867619,-5.26546140288341,-5.18964401853851,-5.20126920222042,-5.17146572280064,-5.18818645265955,-5.19818010280763,-5.24660022996511,-5.35575854334283,-5.43815939660371,-5.51307214920828,-5.63901587179099,-5.72798473079922,-5.94443764641418,-6.27330997374573,-6.54431102493724,-6.80086269198997,-7.08580208069603,-7.39693802771531,-7.79160113461189,-8.07128067917417,-8.37243144150319,-8.73240797496789,-8.82378784139182,-9.06231981384952,-9.31704333258549,-9.23003149818692,-8.92351950514462,-8.80720787144148,-8.71323677535327,-8.73785377798845,-8.61088374105949,-8.46065770779847,-8.42655867672399,-8.42071665236178,-8.47342749138825,-8.57314568202292,-8.61335295525914,-8.70592880817281,-8.69172446926639,-8.74650843685262,-8.81492662769831,-8.83055933192704,-8.88825585457282,-8.88767697127035,-8.84558086504833,-8.83672453766734,-8.91815134210908,-8.79450453208782,-8.64997676139683,-8.67808190293319,-8.76907738374311,-8.79129127864828,-8.81948889912886,-8.78274672242103,-8.67707868733881,-8.67418097096374,-8.78610034894625,-8.93965806659901,-9.16001121070013,-9.4286225801343,-9.71489901698861,-9.92203324029721,-10.1766633349932,-10.4231247552693,-10.5281112405895,-10.6182694122069,-10.8785963327229,-11.3371957249746,-11.7030752340826,-11.9025075987787,-11.9472386718018,-12.15454181609,-12.8222540114301,-13.6666438465431,-14.1845440290789,-14.4275542820084,-14.4848547510219,-14.097990932967,-13.3082863008352,-12.3305071753861,-11.5060775056881,-10.7679374062965,-9.99762279053896,-9.31566773474252,-8.78434707994484,-8.20935972570189,-7.8062898705785,-7.54044875422162,-7.29450491791092,-7.01959290005625,-6.79433961320815,-6.61192333872734,-6.53155681473715,-6.47773346421556,-6.47554194231304,-6.67638911196424,-6.6792024465886,-6.81270585773731,-7.07529179140483,-7.44671474445401,-7.88817931852261,-8.24518141088259,-8.55648285339221,-8.90276377766497,-9.17345093802486,-9.54642069065471,-9.91126629625076,-10.3542643329205,-10.5431585927812,-10.3405928565749,-10.0863442065604,-9.90572287435181,-9.76156265826994,-9.60359203701283,-9.5106128185187,-9.41278293273228,-9.36658933661221,-9.52914804737341,-9.63942845055974,-9.70343291075324,-9.80300985596206,-9.85051533561296,-9.82278300939358,-9.81386786661846,-9.73204686270754,-9.66691731198267,-9.62908504181421,-9.57664406877203,-9.47057840284467,-9.39499376099407,-9.30763589729088,-9.11919894928755,-8.88359939668631,-8.63249925944412,-8.46078816018926,-8.47330971083671,-8.51073611549084,-8.58415102214287,-8.65964674933136,-8.76599756572587,-8.95658065058741,-9.23211686466341,-9.73601177073453,-10.3661018657859,-10.6156724620556,-10.3845318810834,-10.7249041798023,-11.7029768926167,-12.3610908185148,-12.2787520197572,-11.9145937680283,-11.4265966731337,-10.8357980657982,-10.2395927652294,-9.85102518824084,-9.76769296578486,-9.58641566102507,-9.20094330571103,-8.82954310153759,-8.58638746019535,-8.48837287662545,-8.38437174833226,-8.2174588344728,-7.93671073348486,-7.65101917146335,-7.40662894392046,-7.2840613580542,-7.17743432377591,-7.22932755970111,-7.55587432828737,-7.96070299299893,-8.21484252541234,-8.37606945825031,-8.60605177831179,-8.8541552429738,-8.95893589391614,-9.02148404402154,-9.1066268776957,-9.08542544054109,-8.99502584574047,-8.92154836300992,-8.92010666647891,-8.86595280935756,-8.82588085003725,-8.71244234254546,-8.69178363219662,-8.70387384137767,-8.7365016055729,-8.87360577523781,-8.97598653237102,-8.98868905014253,-9.01910023373114,-9.02623191324151,-8.98622084816945,-8.86404493187034,-8.81135013495268,-8.71349306804067,-8.73877595057453,-8.73554244232194,-8.68207650153067,-8.60961596623729,-8.54659573185737,-8.50168089351915,-8.37205261441151,-8.33628406987273,-8.31559578925508,-8.36764684543169,-8.45731506465164,-8.547714107695,-8.74560326316444,-9.06049643095139,-9.34511278963881,-9.57653035798005,-9.83124888191455,-10.0867020884114,-10.2644201089347,-10.4573311415863,-10.6601231809215,-10.9882311999998,-11.2668993763918,-11.2718922228307,-11.2749186096209,-11.2394722608341,-11.0511990444526,-11.1763234644082,-11.6538750595988,-11.9199529680633,-12.1205957406308,-12.800489652432,-13.5274721719676,-13.6918680695878,-13.6402822545988,-13.4231293989814,-12.6861634582184,-11.5110363232956,-10.2865982709867,-9.37727431312777,-8.52483998320159,-7.45663233066469,-6.65877968830349,-6.22301995766308,-6.05985182296821,-6.13324978392355,-6.29311198880738,-6.2602338215888,-6.11320147332754,-6.25833133644312,-6.6885689559591,-7.16088643655314,-8.12388645714618,-9.0564394256644,-9.84200632768019,-10.4120481518725,-10.9115617489683,-11.540809692445,-11.6988036437975,-11.1492099000605,-10.3945940391194,-9.9246960131702,-9.83472583261823,-9.80939327839876,-9.60310758517645,-9.27232502278494,-9.00472625445108,-8.88014512466077,-8.95739859504011,-9.1432078120075,-9.36903172534666,-9.6044589945758,-9.73750179470638,-9.76524902924303,-9.6859285955347,-9.57289649760829,-9.477948861599,-9.34137231460569,-9.23089569384901,-9.13624792147774,-9.0967912793442,-9.02747086268597,-8.91797444237332,-8.88176395978567,-8.95928537281332,-9.07763959802489,-9.17593187301844,-9.2753798161771,-9.37288651755067,-9.42531097331851,-9.78366148284627,-10.2778644456268,-10.5276093528574,-10.6595997099354,-10.8892378918175,-11.0224308616216,-10.8345401737231,-10.6500328015857,-10.4425899826303,-10.1403787409367,-9.78012416733567,-9.39529972114623,-9.16660317480122,-9.18100406469599,-9.20663717731982,-9.18073258781622,-9.20997844026766,-9.32495513830033,-9.3457766242587,-9.19325222449322,-9.0280572946768,-8.85463990528862,-8.65481627613772,-8.553414979456,-8.43166699653613,-8.28783513457607,-8.13860158316916,-8.00965005789846,-7.96557049102741,-7.839075657955,-7.76206580795662,-7.72494562958058,-7.79386998802354,-7.99770138582101,-8.17541201005993,-8.40653912102973,-8.56526312152437,-8.70311740976003,-8.89540105010945,-8.99053184418408,-9.03819886699322,-9.13466827391612,-9.26240697672134,-9.37058854118092,-9.47268934116067,-9.54931216437651,-9.51899470928189,-9.50205738959454,-9.38803162923099,-9.24568568744362,-9.14876684825218,-9.0697915981242,-9.02570222797338,-9.05538564258416,-9.16281673676495,-9.27577922780211,-9.33203733869344,-9.33555832513666,-9.33188002045874,-9.37922308811741,-9.41022059798768,-9.42687621041714,-9.44217108991236,-9.4179883064047,-9.36676293752657,-9.22771848611375,-9.04767483380791,-8.77810231670334,-8.40273451887616,-8.04866123471855,-7.769694193964,-7.52054994122185,-7.28896385277382,-7.12117952808499,-7.09598611103122,-7.20740437117837,-7.35187899894023,-7.52258908909357,-7.66883831652517,-7.9195417036863,-8.29767684959875,-8.78220566775878,-9.23669248774298,-9.67621141968805,-10.228808191073,-10.6645837226759,-10.8960509846723,-10.9519964118464,-10.9938271237392,-10.8514323921547,-10.5097980614977,-10.1611620636356,-10.0217280997038,-9.98813540189679,-9.84468260672088,-9.67828364601402,-9.72601169014758,-10.0874016866124,-10.4850121484062,-10.8451075539023,-11.0611318293422,-11.1065881477173,-11.2057126097041,-11.2705233819116,-11.220251315901,-11.1217931490551,-10.870091445471,-10.5846295576705,-10.2964539767559,-10.0120121339807,-9.86108663167744,-9.78640249540876,-9.64020943314237,-9.54516340663929,-9.37468836402657,-9.19298356767176,-9.07804014296863,-8.97105368673727,-8.88143207347966,-8.75191222823488,-8.63029532708307,-8.50526916395625,-8.29284391020048,-8.13734490276239,-8.05490371004117,-8.05822434858545,-8.08360935153244,-8.10537868328835,-8.17778645285858,-8.33257530773493,-8.51591083355733,-8.60440228156565,-8.57658412106563,-8.52708192029409,-8.49727810158999,-8.4707395248342,-8.37841117363061,-8.23612667668519,-8.1465250039891,-8.12646228351995,-8.20987940945322,-8.32872228834398,-8.44549382585958,-8.57016292020309,-8.71656863584288,-8.88892204395805,-9.00548199964717,-8.99028738449266,-8.94984255864789,-8.92761847960927,-8.89110590779455,-8.84737323929384,-8.800247357031,-8.74982320189187,-8.62688001333614,-8.43311719267455,-8.33152655979806,-8.29526560626631,-8.27507242911514,-8.21664263929233,-8.18408029084983,-8.28459630183915,-8.41625690639225,-8.57188036517776,-8.70305656014039,-8.80215459598634,-8.94874589476712,-9.12756293709893,-9.39721975525998,-9.60206008408634,-9.77109244368775,-9.93711187977592,-10.0538777062636,-10.0181783387545,-9.95696490206712,-9.87198608918047,-9.76452813060399,-9.70461119313144,-9.64438973449544,-9.64121783396271,-9.78533529083771,-9.89737968631141,-9.8946218410352,-9.86006672140893,-9.9580461482233,-10.1308595115576,-10.2436968319437,-10.3277025348961,-10.3962589472738,-10.471145365994,-10.5199536847288,-10.6466493068517,-10.8586399949476,-11.0405039804451,-11.1235994948702,-11.2186278442733,-11.2855901089799,-11.0348401460468,-10.5984861452905,-10.132964204241,-9.87733048448017,-9.77914733313119,-9.63834048948056,-9.38589511954687,-9.09087813613669,-8.87392295624827,-8.72246420077198,-8.55636601015211,-8.28725486057487,-8.18023415276883,-8.19452893979907,-8.14851548500493,-8.14550002591212,-8.1768374703933,-8.14077361380306,-8.08942114120693,-8.16487581687173,-8.27960488660772,-8.316534100018,-8.34527576099262,-8.56280326137871,-8.78976124308969,-8.92167663629629,-9.03947120627762,-9.24258064630078,-9.46562898689456,-9.52125880505456,-9.5046350857736,-9.41663103896269,-9.31494763157168,-9.40509201442694,-9.52176556340888,-9.5246831511417,-9.46691771480461,-9.3831540734055,-9.25708722973988,-9.11263478880415,-9.01970010033682,-8.94747426814154,-8.8551319225347,-8.5848162705269,-8.11354723169945,-7.70139893957984,-7.48698320950525,-7.42621038133907,-7.38811261000219,-7.50755934806431,-7.64950564118275,-7.80609340521255,-8.06294645426955,-8.26758064178392,-8.47774987383614,-8.85469394889947,-9.22813177655474,-9.56515600341616,-9.81328625687755,-10.0507386081123,-10.3292233045147,-10.6410278365891,-10.6981544307659,-10.5784158700627,-10.3649095503664,-10.112376097243,-9.7923903234497,-9.46459772886347,-9.20522675437774,-8.97146168940689,-8.78969925543073,-8.71217443190584,-8.75548651705522,-8.85315638447863,-9.23058213324617,-9.82956088214808,-10.1078604890808,-10.3435948320218,-10.7470410978971,-11.0418018895186,-11.2874061574171,-11.1794899275546,-10.8061507049584,-10.6049124182465,-10.5370755600548,-9.95734713209547,-9.13636691161847,-8.58606735053425,-8.40469421205122,-8.30830616914855,-8.21755300137504,-8.2148543571371,-8.18716583493203,-8.23194989528525,-8.18151326219266,-8.2104300039074,-8.33941027204089,-8.43706873285938,-8.52847019288363,-8.63668641750825,-8.87189001114396,-9.00309759534381,-8.97722853640347,-8.86377209227268,-8.83616858713397,-9.1386240614199,-9.33848456275097,-9.25126964138217,-9.41569835054823,-9.66934338714641,-10.0216851678344,-10.282306317993,-10.3343765988474,-10.3535982565786,-10.4382592605244,-10.6009975706826,-10.5256352298852,-10.256973758836,-9.85866236943803,-9.46975090333253,-9.18201359086569,-9.1696146746571,-9.22544997709347,-9.04386113664234,-8.81058376706797,-8.75087315328406,-8.70161553666743,-8.53367452548644,-8.34417581599002,-8.24797347425166,-8.19640622742352,-8.1394945132141,-7.99620921177635,-7.78406850011299,-7.70320315902285,-7.7872647726939,-7.89322898545359,-8.01060649384383,-8.21967161404794,-8.47021525982515,-8.59685267341936,-8.65394298738583,-8.64552695858406,-8.64745114288949,-8.8180051525773,-8.98711405662745,-9.21770190504849,-9.36796529543122,-9.44636212271777,-9.51614936770485,-9.60417946768067,-9.59460084874649,-9.53494248934408,-9.38965941249688,-9.22366691662415,-9.0199193652867,-8.93698268679246,-9.00020843581452,-9.02367616486659,-9.22131381329082,-9.62867169102369,-9.99114362679288,-10.2509448963123,-10.4561434008348,-10.564168575848,-10.6931172087792,-10.7471560270337,-10.687189493365,-10.646571415094,-10.6398057771868,-10.6901909291015,-10.6472452601595,-10.4234318264265,-10.1985204094861,-10.1910592168127,-10.2668004471527,-10.2648522600872,-10.1029971216031,-9.83495748374242,-9.56769589380981,-9.30789653767029,-8.98578077046859,-8.70228420171057,-8.4954412624489,-8.48320732713632,-8.33703268294157,-8.11670950612879,-8.04102967441456,-8.08029535297723,-8.08093224588109,-8.07674567009146,-8.16029596970613,-8.33802019590247,-8.49820958998376,-8.58871099717029,-8.75347342420751,-8.85265304763958,-8.85508151517312,-8.86623235526294,-8.96696432235125,-9.0170482900896,-9.0598555143499,-9.09214117157328,-9.15280125000655,-9.1449070779285,-9.17671089449849,-9.30539138898571,-9.39846523373516,-9.59380774032818,-9.73216531779761,-9.60735817508106,-9.58427094528417,-9.73774366265015,-9.83849628242247,-9.80763101862455,-9.79242634171585,-9.79922369666004,-9.83921446244724,-9.76002221985249,-9.51533158578993,-9.38643547622756,-9.20380821669498,-8.81432570628606,-8.44023072666161,-8.18628735816609,-8.00312679173334,-7.7603255411547,-7.48649110923113,-7.32373086035533,-7.34246316985618,-7.44795054078311,-7.63095182084876,-7.91140612053437,-8.19844381424721,-8.40160425121309,-8.49603117812768,-8.64428117023213,-9.05055484234251,-9.38653948787368,-9.69582962282255,-10.0277202521859,-10.3952250372391,-10.6668988389389,-10.8736987555417,-10.8945642935869,-10.6441551110944,-10.4227026412948,-10.2656267823955,-10.1519020413293,-9.9802916819271,-9.7469185989326,-9.50635410436286,-9.21413856404421,-8.88040178874253,-8.47894048607551,-8.31739724199706,-8.31535721399237,-8.40967215247435,-8.5711051962131,-8.8276983506773,-9.03229149203399,-9.04333988951619,-8.93651797808771,-9.03097863158069,-9.14791067249158,-9.21521936881914,-9.33110092020993,-9.31249879177345,-9.18328881870898,-9.06849573767614,-9.10053936898224,-9.31218516646545,-9.59473984617648,-9.88885516131506,-9.9871741254831,-10.0033777976571,-10.0748205928434,-10.159368653727,-10.0867777969815,-9.96822530915119,-9.74633807918617,-9.53950911056223,-9.53653982297119,-9.54735621661995,-9.5767214973255,-9.64469115507468,-9.51702643642056,-9.22866532354194,-8.89444235293395,-8.5953963056729,-8.40196035978528,-8.20941705848704,-7.97498198900319,-7.58626905153038,-7.27330146880161,-7.24186059891363,-7.38109637359708,-7.44771196738855,-7.51895529625404,-7.80783969104794,-8.29493258359311,-8.80599464665284,-9.32990896431253,-9.66501639292512,-9.85851692691281,-10.0385768821303,-10.167521661093,-10.2603549806149,-10.5025546291681,-10.64056915067,-10.7249742139911,-10.7439904838055,-10.6261518173951,-10.5472648733992,-10.5382035140873,-10.8324570557813,-11.2743958015923,-11.4696741548879,-11.5768198541238,-11.3350725680194,-10.9970390062281,-10.8634631282085,-10.8541043647079,-12.5896404750855,-14.7156599946601,-15.0893473196329,-14.0020696324192,-12.2428489897197,-11.0689129364868,-9.91756122822061,-8.28111184589994,-6.73381110914095,-5.38964545463783,-4.56237254227066,-4.59572512069755,-4.99697810290016,-5.52555874757234,-6.22808052687775,-6.78291234829903,-7.02473760555053,-6.93651423449074,-7.00786115652888,-7.13657961620229,-6.92749008395651,-6.42562934685795,-6.30774314884562,-6.3206943615723,-6.11572520613712,-6.09420348290335,-6.52140602279193,-7.46290069822234,-8.60614522485707,-9.63326110905167,-10.3498234151222,-11.0061307312402,-11.5077996032832,-11.6264161396869,-11.1520065267928,-10.1979270505752,-9.05664797458079,-8.55083309720349,-8.58537648124861,-8.61901948676442,-9.12870493293303,-9.76731307139728,-10.1713190634895,-10.3184055041057,-10.1288595846129,-9.7589647707101,-9.34708722487175,-9.02806365952145,-8.69488528946145,-8.32974264066259,-8.08965212303225,-8.00381248005201,-8.05235171835198,-8.13127599813701,-8.12505553352577,-8.0415863821827,-7.98692089811807,-7.90967758969351,-7.88189729700589,-8.13484973563457,-8.51822017970755,-8.71991407436653,-9.08572282915598,-10.5310478522767,-12.207591668056,-12.9112113575762,-13.1154417908202,-13.1394773170862,-12.8005630561096,-12.1526333577708,-11.1342887034285,-10.4188086950552,-9.80918949949605,-8.97972479897434,-8.27520916133023,-7.8195062355561,-7.4294024275153,-7.01499986793364,-6.65839164319414,-6.37653258964607,-6.25938378137005,-6.3978235593636,-6.73056578754043,-7.08785497348839,-7.26903233251492,-7.535331758168,-7.99120457419353,-8.37457107055666,-8.80099080037657,-9.11697294777727,-9.04625606487519,-8.74189628270359,-8.26933862726975,-7.77761958842092,-7.45980397895297,-7.0134844583163,-6.95566735551699,-7.18523030083444,-7.92656534356312,-8.9089639430261,-9.45072858174755,-9.83207276267739,-10.263487323358,-10.6784772037688,-10.8121074992668,-10.7704753426968,-10.7005218886283,-10.6574092131236,-10.4694011682926,-9.95314045073411,-9.26330242998288,-8.58416714177588,-8.15043244741602,-7.77998985625174,-7.5323921605843,-7.46846509072915,-7.44255207777446,-7.50695376240906,-7.57261528415914,-7.76000879703974,-8.05098522735973,-8.43947995592851,-8.79084038204764,-9.11074085938128,-9.26148630636624,-9.27217765196015,-9.36185190817309,-9.60659200395931,-9.77029274123754,-9.86093320854225,-9.98840556043188,-9.98904663074288,-9.90122617140434,-9.75195658714344,-9.58941441318273,-9.41492542580576,-9.30839580910683,-9.23991799890763,-9.26445357485812,-9.36591781925404,-9.34537334266848,-9.29892561653002,-9.44863528196462,-9.59411577986346,-9.5352406637287,-9.40671489747528,-9.23049216656469,-9.03662243919366,-9.03032189389784,-9.1880962795118,-9.21153809116707,-9.01347353295738,-8.81564888375626,-8.67786818806533,-8.51045266233007,-8.31177049334653,-8.14542770359413,-8.10994336689161,-8.22655277582903,-8.47830473992837,-8.69714387392042,-8.90782157738127,-9.15589940955856,-9.37159944098268,-9.65584390102957,-9.90704665871702,-10.2131193840314,-10.3654357634071,-10.3338480937219,-10.2845461987313,-10.2233478853699,-10.0866548030396,-9.97990208894154,-9.86098038718542,-9.79718087511307,-9.68958913483255,-9.58675497649474,-9.51654259198598,-9.38687796091665,-9.23357303933962,-9.18484490457022,-9.22610775061702,-9.21120277100248,-9.18225010307203,-9.30077410362681,-9.4822511801615,-9.67538104084879,-9.84932564043416,-9.90532968466632,-9.90339881575989,-9.89678390388435,-9.8407765875375,-9.81084852824534,-9.82677682965892,-9.8135119232332,-9.7958332852919,-9.75766013718059,-9.76170026788879,-9.78985992211107,-9.82031040227371,-9.83466062049511,-9.79398226639538,-9.7701536777922,-9.68930733171481,-9.4926172501233,-9.40139459098822,-9.35265980118001,-9.18155250834496,-9.00072201060791,-8.95564586904959,-9.07092806887011,-9.10114599844672,-9.00054907231049,-8.87045650852179,-8.72561783507847,-8.74412066994669,-8.86063047571235,-8.85043737821007,-8.77437638378102,-8.74981958678989,-8.73932839817267,-8.83376045960394,-9.00267384354758,-9.14644909557821,-9.08563403216749,-8.83048309883527,-8.64861619416497,-8.58462715151762,-8.53272341414245,-8.55282327510207,-8.44867915649878,-8.21688521479345,-8.02106931113909,-7.82576966486642,-7.76804653692795,-7.93442221733257,-8.13776730254368,-8.28297469174749,-8.40854301382035,-8.46893375959498,-8.64684867119497,-8.86157463713119,-9.03815412657326,-9.1026038010122,-9.02840813711293,-9.04872048701139,-9.17083380556057,-9.23839353729465,-9.26096680786221,-9.0942253270197,-9.11283604854548,-9.15179689314582,-9.16060406881341,-9.23348422172789,-9.27820098787831,-9.29898508322801,-9.26502196554577,-9.37454077180935,-9.68393158794051,-9.61744880608011,-9.3289868653533,-9.09087318347149,-8.94128209497795,-8.88422841473188,-8.86275891356254,-8.85841672574989,-8.82228097064689,-8.83012592311225,-8.8951471558729,-8.98797356986481,-9.07925145586328,-9.06984392061939,-9.00984720931832,-8.93672936513314,-8.80284458502793,-8.65676989594927,-8.57866611433805,-8.5489501493737,-8.56789013914377,-8.66324814774067,-8.80261356616752,-8.83849757027545,-8.82291456941757,-8.80754394985807,-8.75460829441838,-8.71875477879025,-8.65992677288014,-8.56636556568084,-8.42004333737517,-8.40118264445416,-8.48740556033703,-8.59652601996323,-8.70828439171754,-8.79425600663336,-8.87435275588887,-8.95365760405092,-9.04364943090746,-9.1760659090527,-9.24602179181618,-9.24938534024078,-9.25886995999004,-9.28620802014052,-9.25912003332302,-9.14505298768855,-9.06148785273974,-9.02707991080881,-9.00884833886985,-8.98520023034803,-9.00141583246991,-8.9881687251594,-8.93499122882081,-8.86286938168042,-8.7951009935748,-8.68176744225899,-8.63040762255635,-8.72504822631758,-8.8353022707075,-8.85924718693793,-8.91199178396099,-8.96759191734432,-8.95283918233203,-8.97706123234499,-8.99736379704601,-9.04669908071771,-9.05686238859006,-9.02897012381945,-9.0505788507038,-9.09002607895743,-9.09549914097679,-9.01816991564731,-8.98003065154373,-8.93807996000917,-8.91380354345921,-8.88895655820467,-8.84523794306914,-8.79504415765205,-8.83904821468292,-8.97537443455151,-9.03696291198099,-9.08015493797861,-9.11067279805028,-9.17060371356295,-9.21413462639381,-9.19486139781429,-9.17319365685515,-9.1816871108801,-9.18458124442748,-9.24145995187341,-9.24603369614315,-9.24290893240232,-9.30563212295302,-9.33447980670703,-9.24804795032877,-9.15600229391524,-9.0995374522518,-9.11359995145216,-9.03087943251129,-8.94494624296972,-8.90386115255285,-8.83240182410645,-8.70472742677186,-8.64081272347914,-8.5957134222666,-8.50324982578534,-8.42020101316067,-8.31644401165045,-8.23967699246161,-8.16771894260543,-8.12702112565559,-8.14271254565785,-8.14731311426059,-8.17579335519713,-8.23629638474634,-8.36044773933042,-8.50039341264246,-8.64719061170806,-8.71438582700777,-8.70782300900399,-8.67568331905924,-8.65299756910024,-8.68058153810529,-8.63641195771192,-8.56620089455246,-8.53672875243308,-8.52720022380108,-8.51768506960822,-8.53060092173037,-8.45692771396407,-8.23540675777035,-8.15094774081794,-8.29847545317985,-8.52323371698762,-8.54859000752927,-8.51716325688132,-8.57059340940188,-8.71203058027683,-8.83934362958371,-8.88684599733031,-8.98604385377178,-9.025533248384,-8.90712783557674,-8.82619147015252,-8.80619480575733,-8.72519909624957,-8.71418339967529,-8.82313285731249,-8.88641158376469,-8.90499569923459,-8.9571091785366,-9.07688188698446,-9.14911355721085,-9.25128703561323,-9.4325629526515,-9.62780235924878,-9.73914299466646,-9.85783092228869,-9.86946523501971,-9.82010380697416,-9.70905202470959,-9.60471947009218,-9.56687187633457,-9.71136842701235,-9.93659529710172,-10.0798991075095,-9.9728630200666,-9.75703543945743,-9.64550941404385,-9.61065660907276,-9.58782956362129,-9.53807591640176,-9.46867449522732,-9.42590053025234,-9.48843304236147,-9.64603635943421,-9.68161249131215,-9.60255670777089,-9.50627062334166,-9.57732966066494,-9.85510083064367,-9.96952044690133,-9.84566327784883,-9.69817301584219,-9.56720133738692,-9.62759423200393,-9.65154215092502,-9.575344929903,-9.45499387557795,-9.21232547580375,-9.00621314019417,-8.81924292184724,-8.70234935312403,-8.62603970772851,-8.55622629206915,-8.49195945292381,-8.41661777415998,-8.34303335049887,-8.29637546064587,-8.23868431169388,-8.22203314335848,-8.24932929366412,-8.27290364109959,-8.24814297212557,-8.3131385766165,-8.27629847509454,-8.19941360958517,-8.22150699568099,-8.20125766182903,-8.13779073530034,-8.11132007642014,-8.13868382327989,-8.14173154442594,-8.24804324577529,-8.45436529514895,-8.65123781706419,-8.87068582380006,-9.11630909329036,-9.2671947868096,-9.33212072975426,-9.35494061212766,-9.33024816993046,-9.22189267450346,-9.00129005783637,-8.75053005482381,-8.5429604388216,-8.34126018943756,-8.23265905526819,-8.31893496236374,-8.52570883242719,-8.700468882071,-8.74961470318551,-8.78001281163604,-8.88082886358925,-9.01830016845381,-9.11406629780565,-9.10676168847107,-8.98500613912231,-8.89902018092294,-8.98301826228801,-9.11080661880359,-9.28776644054949,-9.23202010311785,-9.00936020221586,-8.95323099163461,-9.23074170295542,-9.45062843117019,-9.49686930763875,-9.50862922983666,-9.48597256808792,-9.45387821532521,-9.48193229979204,-9.55813145501673,-9.56308580116452,-9.56003868394477,-9.72619515540164,-9.95114616606726,-10.0479326417871,-10.2530985471624,-10.4722000325041,-10.4866210633008,-10.446517547823,-10.5205365508752,-10.4879565243011,-10.2851567642374,-10.2036307761814,-10.2712793957487,-10.3208979397214,-10.2159412818248,-10.1300197764012,-10.0524333036657,-9.87177355816412,-9.4856808694411,-9.14625734093012,-8.99184741037207,-8.89817809361257,-8.85257776838844,-8.84429744187802,-8.84383046359268,-8.77560754176967,-8.62340014152841,-8.52257986151238,-8.46455742165081,-8.46628212382091,-8.40705418069281,-8.35153027445818,-8.28958565653762,-8.22121020546674,-8.2808335059832,-8.35369648404289,-8.37741034953457,-8.43079076803503,-8.42269512901933,-8.34348414122155,-8.33836695782878,-8.28287521385005,-8.17809485855068,-8.11028730898412,-8.10971875066295,-8.0867647350621,-8.11789140505159,-8.3078646138407,-8.61689140878188,-8.94057281682243,-9.07507206474245,-9.19578515568467,-9.36187883935818,-9.50627108517056,-9.51543914183035,-9.27039455850602,-9.02852894421972,-8.83563842313073,-8.68969193805835,-8.63959509447163,-8.62976522613807,-8.61711737009586,-8.63971420419056,-8.77962073210453,-8.79379742822848,-8.75123264408654,-8.81336852722238,-8.97261583475658,-9.13880177390306,-9.22616223552109,-9.33658595184869,-9.55912592040649,-9.85805674815456,-10.0661608655006,-10.0872377379121,-9.95029490259365,-9.65913424286349,-9.37437184170471,-9.18477673783382,-8.94848170752165,-8.807912088615,-8.7094788631014,-8.62349164018906,-8.56969452770519,-8.64659901993094,-8.8156428400824,-8.85706579753301,-8.84965291376781,-8.97099811713057,-8.94780553284773,-8.69309308669584,-8.19750181004196,-8.09258656722245,-9.0246836819556,-9.95025609524551,-10.286066311093,-10.510909892309,-10.9641927364852,-11.3857628487675,-11.3550707424382,-11.2780467664546,-11.2361466028411,-10.9939947494491,-10.6349769057791,-10.3529148409877,-10.0673384413039,-9.86651819788781,-9.84510614665816,-9.65201857071856,-9.28939768261892,-8.92091930484255,-8.63389671675117,-8.44466993473902,-8.36004763344186,-8.25030119687916,-8.04588899488109,-7.83449105542588,-7.73529297668786,-7.72320061170177,-7.69379691186192,-7.64237469074112,-7.59701365523886,-7.59465175345533,-7.66456322345734,-7.87527947949983,-8.00412366205265,-8.03113972580957,-8.06812442275221,-8.1491263882231,-8.25667607382206,-8.35402972684502,-8.35608195228512,-8.38860510127218,-8.38356137901241,-8.37755037190144,-8.37419636125128,-8.28887572995681,-8.17073097909522,-7.94925414331719,-7.79703707835012,-8.08552170860322,-8.52267367009451,-8.73484593056567,-8.80865823485928,-8.88123101536968,-8.96921266880152,-8.99902959451723,-9.09453662265922,-9.21825018143352,-9.27252367767157,-9.26706002001776,-9.34601125073287,-9.39246881651006,-9.35814272847013,-9.33590796312073,-9.41775319771799,-9.49859042874231,-9.57002200486065,-9.57973078198379,-9.6484109491972,-9.61178298773165,-9.43022628096177,-9.25609964305651,-8.99841448092127,-8.82423093158876,-8.78687933843868,-8.76786712096176,-8.68144358150907,-8.45888510648734,-8.28482134881211,-8.21853188981336,-8.38536950066988,-8.83179631683468,-8.84114096183401,-8.42830806709234,-8.7817647394279,-9.92074908645655,-10.6349373974974,-10.8652188475109,-11.0349964882691,-11.3246333737859,-11.4402743197646,-11.1901224972875,-10.8471919280137,-10.5366173694353,-10.1686887275402,-9.85863676013841,-9.69514411748151,-9.73695654321218,-9.85152228319017,-9.87377036196201,-9.55765728070172,-9.15688392025403,-8.84383541459486,-8.56709332365884,-8.32860202993449,-8.14684428656044,-7.87503562962034,-7.497231796926,-7.25205972746515,-7.19794111180323,-7.29877917763839,-7.45742074113573,-7.74190740881786,-8.00220958039938,-8.12844574166302,-8.20712412049868,-8.21619213837176,-8.13853680007831,-8.03631063103127,-7.87466740840238,-7.62681580022975,-7.46386609529098,-7.46634774703546,-7.65038526969463,-7.94129273220276,-8.35013119212629,-8.85966185632912,-9.19982877135871,-9.38301504822532,-9.54134409756493,-9.60317311782957,-9.65421106483285,-9.77284402401458,-9.82930418875712,-9.68085331250204,-9.35419758984405,-9.18459283399079,-9.17248699610708,-9.25449688808953,-9.34668264391907,-9.42026948972012,-9.45367438112374,-9.36893639806418,-9.32972950312007,-9.51671465654183,-9.56908710581927,-9.37012455346799,-9.24273775528287,-9.23733725004847,-9.18934338891981,-9.12646553790227,-8.81810668849439,-8.21327047110311,-7.82640783821225,-8.67973762876233,-10.1326239311675,-10.3192437915467,-9.96402507300684,-10.2055779251597,-10.520646100528,-10.4961740531533,-10.394502163952,-10.3349820158262,-10.2962551308755,-10.105534363177,-9.82592684722098,-9.65748659179793,-9.71165130488903,-9.67486418209368,-9.45885012116023,-9.14210331193008,-8.72185309994487,-8.25555897820469,-7.99976498340283,-7.95256017748132,-7.96577710081254,-7.96891890356467,-7.9084793151552,-7.96335264314521,-7.98950575751847,-7.89061314591101,-7.76035643730987,-7.76149219514141,-7.89419009603945,-8.0033887832981,-7.98828453693011,-8.24332477108106,-8.91457047803356,-9.45734398725956,-9.66408027440401,-9.6457430425531,-9.59272460283172,-9.57029800878848,-9.53502958463328,-9.24123298819313,-8.72050896014411,-8.39974748136372,-8.41848124964462,-8.52103138645617,-8.61808119106265,-8.65068706224827,-8.67422923002597,-8.76894572483001,-8.85114639751636,-8.98713323079108,-9.17976274850801,-9.34766550405247,-9.49853641804036,-9.71207718277082,-9.86989228148628,-9.8596553679558,-9.62923049277643,-9.27541816139545,-9.00846335429476,-8.8580854762251,-8.78831994093143,-8.80525376178979,-8.74117815135705,-8.70588133318208,-8.76041384735392,-8.77269210595807,-8.77437671497077,-8.77625625713051,-8.82801633726875,-8.83823220520128,-8.82927270169673,-8.78452827401944,-8.76689961189606,-8.88667430081382,-8.97846740857764,-8.92952813185987,-9.35840511441105,-9.96514666795109,-10.0222756509458,-9.9271702988496,-9.92844148363166,-9.90417292943482,-9.83357504096636,-9.9026827846331,-9.97175495967617,-9.96194135741096,-9.8823186265381,-9.8633809569805,-9.8514262089484,-9.68602420702671,-9.45406497381811,-9.15167450409121,-8.73991823205758,-8.42534953021871,-8.32468001226602,-8.38385436001682,-8.4802434316317,-8.49848854837311,-8.46103895959186,-8.48848736004671,-8.56968682579563,-8.62603623607026,-8.6814856186566,-8.74329869842038,-8.78785826668152,-8.79598511521165,-8.85851550950934,-8.97557270130167,-8.97600318675028,-8.84284315058026,-8.65785974819696,-8.43797819318085,-8.27868291245775,-8.2100007885122,-8.17941833630128,-8.21380677232913,-8.36747875751597,-8.57445359031133,-8.69491813152129,-8.75567286826661,-8.78435131129816,-8.72697242530107,-8.6556719019481,-8.65702635516771,-8.69057751083479,-8.70878739996606,-8.6781691702017,-8.6759636487963,-8.71725345382885,-8.90249247516226,-8.96493696257989,-8.88620198785624,-8.84352041128374,-8.89788120061098,-8.99239715404,-9.05926610344634,-9.17103305871673,-9.33858802532038,-9.49742967904269,-9.59883674017098,-9.64128874510711,-9.68797715911233,-9.70336091415959,-9.65418436261899,-9.51409502731013,-9.3521210706752,-9.31395948142837,-9.2791948056549,-9.09748152226975,-9.00596756771165,-9.08906014124507,-9.23426417820041,-9.23990407994489,-9.19729125194735,-9.2364890223321,-9.26591199342891,-9.22019601690061,-9.10234912103927,-8.90847565581221,-8.61630065919822,-8.31364914308806,-8.10071478463772,-8.00255081991469,-7.92390646630561,-7.91126767790666,-8.03265189188049,-8.18830131873572,-8.2274408775485,-8.23494315847269,-8.36429508545601,-8.67605341230558,-8.88021137857868,-8.90155504709765,-8.95579692953331,-9.11265142589505,-9.37049321478048,-9.50161680531992,-9.51260982122235,-9.49935206423504,-9.37038526766989,-9.1847792624237,-9.03291514479863,-8.9026543718999,-8.83033999411855,-8.6879284096108,-8.57165605600681,-8.52760897795224,-8.47699302165866,-8.44355648692092,-8.49642849405302,-8.42225588577635,-8.32308798052017,-8.41620675128694,-8.48810839608261,-8.49260405593267,-8.49619290263629,-8.5298808000665,-8.49758755339738,-8.46364806577281,-8.46589967349597,-8.46515434847957,-8.50751865162389,-8.59773794226709,-8.72059933483115,-8.843474577462,-8.95400917303263,-9.07978205997237,-9.13038807630014,-9.09013554642597,-9.1032396442892,-9.03915759520295,-9.02098464872042,-8.9771000366213,-8.90242583084647,-8.90686361999328,-9.03411013810327,-9.32219342984268,-9.5593072719616,-9.73475950679716,-9.84256444275897,-9.93680873098797,-10.0711865298409,-10.2896260091091,-10.6966825335159,-11.1673069344198,-11.6461807589611,-12.0248401098301,-12.2225458339414,-12.2790043565248,-12.5318018786049,-13.0987463569815,-13.5054119079278,-13.3471384435253,-12.488422041972,-11.4633249123935,-10.6975856194847,-9.89588882426574,-9.07449865338155,-8.31947942743852,-7.72953416399562,-7.21828174959726,-6.88850266811018,-6.67722993133261,-6.4548778094155,-6.27245285874146,-6.1900558629475,-6.21073537850198,-6.27499182768321,-6.40757208517354,-6.57025445839916,-6.60787193424316,-6.5293518097063,-6.67360960041698,-7.10714764892261,-7.60324196954685,-7.98321843681974,-8.40902170833365,-8.88637927170618,-9.29683540388061,-9.45086682696726,-9.31977595025933,-9.15083658200816,-8.85172647243663,-8.51772539261923,-8.46663204196122,-8.54134183768211,-8.57941059148887,-8.73476512170724,-8.91361453918236,-9.05410985597796,-9.1504521749065,-9.33089130270854,-9.53043504143794,-9.82652513776784,-10.0798951429825,-10.1797887434109,-10.2617504439448,-10.2637350920674,-10.2009473331902,-10.1887876689363,-10.0371883672319,-9.73195894792091,-9.37154111989809,-9.02679939372737,-8.85288567123041,-8.73185082206951,-8.71337658398248,-8.7089242136533,-8.88329245293026,-9.04302327197263,-9.45391681751543,-10.7378182818781,-11.7856730384593,-12.0151010884625,-11.7096929709022,-11.333406536725,-11.373179768834,-11.4792686927634,-11.1231252819051,-10.3722232914066,-9.5895124146382,-9.02596977574791,-8.65824535639392,-8.43162762525389,-8.19700864019392,-7.89919666630268,-7.6096306971667,-7.26117899837098,-7.14684717847267,-7.13568736808922,-7.23138258431778,-7.51097038783902,-7.97962438123021,-8.60758237638907,-9.07228648545374,-9.32962228132725,-9.28505197746032,-8.8710453459291,-8.39485489648599,-8.0065250148081,-7.70830001638628,-7.56854057396273,-7.55320354446864,-7.54481843592525,-7.4817939063216,-7.3395265487566,-7.29424269242898,-7.35482914666163,-7.44040389659506,-7.55667310183973,-7.52817583540494,-7.34372513179133,-7.24071689026056,-7.2101112032418,-7.2995327571275,-7.36184345476063,-7.33274175752666,-7.23105586144432,-7.05766565109945,-6.86780616253782,-6.9478798550178,-7.10380694219106,-7.19477070010799,-7.39963240508531,-7.77471651621049,-8.2205018836982,-8.6725006214809,-8.9859451263059,-9.29309195168832,-9.55307158418932,-9.64540078343549,-10.0353359722757,-10.7804492963313,-11.549619451569,-12.1600555925088,-12.8256048039496,-13.7262028846823,-15.0779170126433,-16.6502703575924,-17.6604350086409,-17.5572502117105,-15.5822946845998,-13.6307884625165,-12.23678451018,-10.916922634111,-9.7465510271246,-8.56670757872529,-7.51857261255464,-6.6405084455005,-5.86653398681559,-5.48150051711054,-5.55057716110065,-5.38597669351339,-5.16285156593915,-5.05086838823301,-5.51064617787868,-6.37977552049789,-7.23820624550024,-7.90446147057395,-8.41683330494771,-8.98866192251623,-9.59051647567975,-10.2233144136416,-10.7189918572879,-10.4963839895394,-9.92045793172948,-9.46813741696892,-9.02207660998635,-8.52362295117704,-8.06101937443683,-7.91508377095859,-8.12504836242362,-8.38113811330169,-8.57982347030264,-8.91752611762745,-8.98660916607661,-8.99792066108707,-9.03486123349733,-9.11932501670171,-9.28286227536796,-9.25590397738252,-9.36405168213368,-9.56542562632364,-9.67660777895758,-9.76182277056015,-9.73849104763919,-9.60141787581876,-9.40185217354068,-8.99785586350618,-8.62811410700755,-8.47036736909875,-8.38748532053355,-8.34232328890347,-8.3267035277524,-8.29541137661954,-8.30030403968926,-8.35241330284788,-8.52156979765953,-8.84204933424639,-9.11968058430645,-9.40342858402886,-10.2211758763437,-11.1402540024515,-11.3996030646372,-11.2837308177915,-11.1293427766916,-10.8656850915193,-10.4268229135099,-9.78781201973542,-9.24902438049715,-8.87013170036078,-8.67571069911413,-8.52852517974655,-8.50437159245043,-8.30731941107263,-7.92852665192368,-7.74596790914832,-7.69210401908476,-7.67705290520704,-7.64417067765092,-7.56063042235676,-7.50249747080622,-7.49772553895956,-7.61437572597312,-7.63727958049061,-7.61402051021991,-7.6987568909163,-7.83529770465039,-7.90548879337642,-7.91049677095099,-7.90597078159107,-7.96483003728979,-8.09933291641256,-8.2238316691398,-8.32539949770518,-8.37751080129081,-8.47673315047541,-8.5285266562781,-8.48849204016989,-8.42427948727927,-8.31451786223604,-8.27520126995497,-8.34029367007463,-8.35513521369526,-8.54716044454134,-8.75866076013774,-8.78252952271183,-8.61842453352787,-8.47115744164894,-8.47681119240141,-8.4634067029247,-8.46949497653831,-8.52668269218773,-8.61305348912111,-8.74861843001847,-8.78388118191075,-8.75257917906837,-8.58125842860226,-8.40572646155043,-8.32802798595987,-8.38074126319385,-8.49192184633834,-8.67432808848899,-8.78847844293844,-8.8203298063699,-8.83255324388952,-8.95386176971999,-9.17933071149174,-9.30065116155829,-9.33517144907975,-9.42892869634726,-9.47181618317369,-9.39048165486512,-9.25895471663987,-9.11722343162169,-9.0453859941693,-9.04719730324824,-9.03546410532328,-9.0108514449418,-9.05289446793845,-9.11376322116092,-9.21553493290033,-9.24283094203188,-9.14606565032933,-9.04825725658302,-9.02049303460228,-9.09813567623433,-9.15905274928487,-9.22583747589468,-9.21660784728688,-9.14069284584062,-9.11003908801751,-9.06244214987537,-8.98163896498606,-8.8928733242032,-8.82359016631045,-8.77174897216343,-8.77950557415219,-8.79855973585467,-8.81805187031,-8.8253620234128,-8.78723203743116,-8.7328456996099,-8.68942113296909,-8.67938512729832,-8.7037071035342,-8.71351572589917,-8.77414389223423,-8.80574324462512,-8.87160096591589,-8.94400403795892,-9.01528029431469,-9.01994860124809,-8.92407822336222,-8.77404222559012,-8.70456419835232,-8.69042714695417,-8.65631736604355,-8.60717777999506,-8.62510091318846,-8.70174641712296,-8.7213365818833,-8.66980186983892,-8.60869185467764,-8.66780946654021,-8.78429208901213,-8.88302250143559,-8.88391684993078,-8.91005051412808,-8.96171097936067,-9.03518420902695,-9.1362889600793,-9.30431734755318,-9.4045647263052,-9.56594723151077,-9.7395529339641,-9.7576583701817,-9.66795963455275,-9.68475666239569,-9.76189002943413,-9.68805569723957,-9.65890294779236,-9.72068545742275,-9.73362073097322,-9.6503303205386,-9.59414701245769,-9.59565118006283,-9.60251603715718,-9.61282049938094,-9.58912401780093,-9.60346323000694,-9.59276665135084,-9.62114842680649,-9.64799376380102,-9.66095251882691,-9.64807888787122,-9.55942026622334,-9.53714368015746,-9.46911436168394,-9.34923283904467,-9.19315916539948,-9.10018048293511,-9.16143210196866,-9.22451520478408,-9.32430418225376,-9.43573569778634,-9.50705943729744,-9.46176523322471,-9.409136410406,-9.35792273873462,-9.29148534338549,-9.27064111062973,-9.26110304094435,-9.2523567984523,-9.24689812146611,-9.24856736528572,-9.23514039727516,-9.24239487761412,-9.3756671867325,-9.44892662454218,-9.65599846639033,-9.79338173870488,-9.78046767971839,-9.63260368384151,-9.52420752702175,-9.66679422228852,-9.53282282576703,-9.36952271981853,-9.22346905708504,-9.22304293336995,-9.1963232076892,-9.2126748031877,-9.30573136204387,-9.34879787062999,-9.29242740326562,-9.20775571056033,-9.12678884352859,-9.06964732828585,-9.05996348929569,-9.02268650783777,-9.07103873453705,-9.18155542609673,-9.28873062041936,-9.33526961479473,-9.34725251552842,-9.34230196616526,-9.34204750067054,-9.32825900709355,-9.31579772414543,-9.34088812815944,-9.35753919884442,-9.37443063921142,-9.42086452118193,-9.44705686307444,-9.44664779629882,-9.5013813576774,-9.50717276564319,-9.47268583200858,-9.49016113146083,-9.53180108736277,-9.55691110915788,-9.63620672177549,-9.76086162335638,-9.82146539080167,-9.82563847553912,-9.82542289859692,-9.8570590541913,-9.79874862345342,-9.69078222142992,-9.60591924754987,-9.55350971484074,-9.50129470408456,-9.41755447771885,-9.36266438237073,-9.34221343083825,-9.32882097267697,-9.35525190498257,-9.27879285647369,-9.1697535674269,-9.16695055791886,-9.2723957768784,-9.35268850439646,-9.265095772211,-9.0561508496648,-8.89733302526336,-8.83082591002191,-8.81761551330492,-8.77551552676217,-8.65493845956334,-8.6216063899716,-8.6743860727675,-8.60028868507577,-8.32248439834828,-8.05929844726404,-8.01747882824684,-8.0575507952901,-8.00668183815494,-7.88249691164082,-7.83962168269694,-7.99728603883278,-8.279403592558,-8.59919885984549,-8.76130288095636,-8.90105485246161,-9.12259983869875,-9.32511399795179,-9.51944603131538,-9.64967019058098,-9.71567005549241,-9.72372484073588,-9.74358880085324,-9.67622208304472,-9.6235077788245,-9.56900983145672,-9.48160162687683,-9.38935065102836,-9.35224595775394,-9.39681703084078,-9.369744728968,-9.30286702899617,-9.16922854687059,-9.06756806120846,-9.00548953553367,-8.92080754989364,-8.86305355924096,-8.81899452297516,-8.73701719206479,-8.69494456273608,-8.72312717860757,-8.82010101913636,-8.94575919458544,-9.03690484621014,-9.00251322402912,-8.93934355291155,-8.91069667549021,-8.8621332771366,-8.90735790753239,-8.94950928748176,-8.92873711997664,-8.96525649522871,-9.03246400839908,-9.1060374070604,-9.13140088471354,-9.16319819767262,-9.19486973187857,-9.13203283525354,-9.00994300083316,-9.0030411699047,-9.03296013643884,-9.03340451859556,-9.13963107423684,-9.27747955144033,-9.47055523629167,-9.63878603255903,-9.68857293541417,-9.71865834378585,-9.77784597803337,-9.87876816941336,-10.03589697511,-10.3121327300032,-10.5224498620099,-10.444247212262,-10.5033924500412,-10.9478018021631,-11.1113511432412,-10.9538410339276,-10.8211031883837,-10.9758471247798,-11.3670063287386,-11.8045703364243,-11.911246006242,-11.9741073614467,-12.202058300211,-12.4489001818654,-12.5787633253351,-12.4833017148223,-12.0886925197194,-11.3732614259888,-10.3370918754133,-9.33024927322759,-8.45301864221905,-7.86758141208397,-7.55837522114959,-7.23540777048378,-6.80554885077516,-6.45406189024278,-6.14024547637581,-6.17402833072331,-6.53233088637192,-6.79963214819286,-6.99636381702833,-7.16355198112153,-7.3974466750912,-7.50782972411594,-7.61923787086329,-7.80444568924815,-8.25311015506646,-8.73897230097896,-9.19966036393629,-9.56708379186826,-9.81179982479462,-9.88562588905908,-9.64577318705719,-9.32967330549425,-8.9238522532744,-8.58430427896318,-8.42509476568676,-8.37324773831678,-8.40105196145958,-8.42895627885813,-8.43580271876247,-8.47514745445347,-8.45986252611053,-8.54537162078323,-8.67786705797594,-8.68358291046559,-8.6838438409451,-8.72136468764329,-8.76634461680502,-8.91753570050182,-9.12820300455417,-9.29321840290728,-9.32688279911938,-9.32566422716984,-9.28230464688957,-9.27205483888815,-9.28371584618857,-9.29226818621453,-9.31388181324203,-9.33854854108678,-9.39009627686525,-9.44135604137424,-9.39671631237981,-9.26265350507552,-9.11043137770568,-8.91850419909429,-8.73355367509697,-8.56947092823024,-8.52624823687276,-8.59239323677981,-8.81148948357656,-8.95414306350611,-8.99676212783178,-8.99676597677623,-9.24377888101161,-9.31879476696236,-8.97093338905604,-9.578183151064,-10.2097169667223,-10.7609795302611,-11.4552184013993,-11.8113527136069,-11.5343183803414,-11.4468561893891,-12.3447285191817,-13.3337624510118,-13.381287355525,-12.4853972326159,-11.2440250219086,-10.1248271121483,-9.19909530308148,-8.68002792195088,-8.45348300345795,-8.03083697447189,-7.51779813658598,-7.08622190643686,-6.76903132855297,-6.65297237157741,-6.6243822372522,-6.75561618669681,-7.11378889930228,-7.54888328810589,-7.79455704372167,-8.07274308218414,-8.24096718167509,-8.23472141825247,-8.24789715009659,-8.51439240572296,-8.86069631212657,-9.0765949307958,-9.03476203841308,-8.80519453154529,-8.59927179698872,-8.39185050072105,-8.25649585332596,-8.16242075759623,-8.10326197667993,-8.02015767705111,-7.89861161939357,-7.8901151709334,-7.88708886596742,-7.89143417225908,-7.97980839503125,-8.0946616970024,-8.1065752492713,-8.12139649736358,-8.16395642456823,-8.2206072588295,-8.30271867308742,-8.38158604489326,-8.40014332771019,-8.46970101366596,-8.5762261947856,-8.61351846640728,-8.62047077766825,-8.56190157684819,-8.54820527503328,-8.66503264712627,-8.64011066081031,-8.46358366862199,-8.40374844519991,-8.57040095843831,-8.86221715888127,-9.04251238568176,-9.26827744370348,-9.66394378930206,-9.92014212951224,-9.97932246987899,-10.0700733644278,-10.2720250891469,-10.5639068333846,-10.7611199948576,-10.959224691767,-11.1534331085099,-11.1939871686325,-11.1643662139398,-11.1867279172653,-11.4485175237557,-11.8861598925863,-12.3119799883295,-12.631188906447,-12.8958928713629,-13.1834926812848,-13.4158926863593,-13.3691052439012,-13.1603677390265,-12.4606553426981,-11.5226567834103,-10.6120498898728,-9.81861382920777,-8.82405971930292,-7.74934474696387,-7.00158948246651,-6.16280533526195,-5.81646353387037,-5.65950124155399,-5.69095035792556,-5.58520736927728,-5.5229076684501,-6.24474187753054,-7.14899670631621,-7.86416901117245,-8.55399189046207,-9.22583642662842,-9.90971315720101,-10.4725087856136,-10.6351490761321,-10.4427142638599,-9.87367329843568,-9.26146217736244,-8.99476038982112,-9.09393876041595,-9.17593192016247,-9.03624427073128,-8.74257541501029,-8.5381020221917,-8.65120789071356,-8.80744254466585,-8.91203525338314,-9.0236289787015,-9.19319694237512,-9.33704173913526,-9.38118752671098,-9.49225244554304,-9.5375997540306,-9.68750209066859,-9.84957488545453,-9.97283452203703,-9.95526593411471,-9.91677842386721,-9.86827467727,-9.64125830327719,-9.3507340312762,-9.1826449316872,-9.02776189169876,-8.87700316790415,-8.80743952797991,-8.78380551256424,-8.65773288867517,-8.59330802886001,-8.61271188455613,-8.65008144974332,-8.76110489626353,-8.98818060336142,-9.20190811491162,-9.28154469009835,-9.33792106783108,-9.56293324496554,-9.93516465540444,-10.2988411337253,-10.804519389411,-11.3302095647395,-11.6790907921178,-11.688674559879,-11.7272106065543,-12.3260838023089,-12.7909251285812,-12.2667112973572,-10.9295887097809,-9.67904150001386,-8.89386392617491,-8.65381360323703,-8.63327179334864,-8.67643482246283,-8.54257860531617,-8.27293928206097,-7.91317633584687,-7.56868665816959,-7.30463630969403,-7.26031022595186,-7.42981119936765,-7.64286661365351,-7.83979274217182,-7.85125377775611,-7.80791048739003,-8.00775766418228,-8.32559572295031,-8.60019032246446,-8.79484141539827,-8.86681443385435,-8.77189327265486,-8.59017316872477,-8.53123147951404,-8.50996345941739,-8.48055016530647,-8.48021326524458,-8.45843653821165,-8.32702660603904,-8.15900688787069,-8.02640655116798,-7.9307801809548,-7.93597956289987,-8.02641180243423,-8.08181341957129,-8.14370441493761,-8.23947283630327,-8.29694406186353,-8.25013185506913,-8.12417005208872,-8.03195417027245,-7.93137725714459,-7.81968337857383,-7.57719876929809,-7.35004344257065,-7.19458863065714,-7.16355647530933,-7.25644321858572,-7.43768187084767,-7.63229942236332,-7.8110773938963,-7.90655663364049,-8.00932478468714,-8.33407646743884,-8.74127472642487,-8.90283093704805,-9.10745930827849,-9.68513514997386,-10.3830282236744,-11.2150094900917,-11.9626542637139,-12.8009218021438,-13.83486743284,-14.8924553965258,-15.4220372995196,-14.6063275667597,-13.0994180747206,-11.7293973498689,-10.6973236309694,-9.54246542102387,-8.24831758219085,-7.34418372776395,-6.75408044114691,-6.5316536612654,-6.77810221080552,-7.26012105108928,-7.65549868491036,-7.98993117944219,-8.21140441914671,-8.58891137516378,-9.01358151811983,-9.36214854755765,-9.59720732524301,-9.97458170243473,-10.2343840140572,-10.0007307974232,-9.744444110012,-9.76986686588794,-9.76465454676463,-9.56885059273713,-9.27703568918563,-9.01410121203473,-8.84799893544921,-8.69849267234707,-8.79901835691672,-8.96979858591803,-9.13861703700763,-9.32002614778282,-9.37859453179584,-9.44296373105783,-9.53229348427298,-9.6456717099689,-9.73310438915506,-9.75150484378617,-9.77924783285185,-9.84135251283801,-9.82655091911445,-9.63409666168696,-9.38809945245698,-9.19841997946705,-9.01444029312617,-8.77434648943249,-8.59502404859476,-8.57145533129003,-8.68213972513335,-8.82161209008697,-8.95728979056665,-9.19274463005286,-9.76161482386203,-10.2969445794994,-10.5247948076549,-10.739500217116,-10.993287615306,-11.463632909214,-12.0376604878662,-11.9460915973637,-11.4079492155806,-10.9900027566998,-10.741346359881,-10.629786615071,-10.5544784184532,-10.2919048588905,-9.87429440546408,-9.45819996509408,-9.31295354211343,-9.32053095277563,-9.29227033221144,-9.25096664465615,-9.2415458506657,-9.26231965388928,-9.18839398061779,-9.05986849417787,-8.93732212444916,-8.7964956291035,-8.61949102883683,-8.45785333659709,-8.2525437954622,-8.04675380326877,-8.01191402596838,-7.99094402913128,-7.88497201194635,-7.80628031833197,-7.71360060933868,-7.67192377876431,-7.68323022066419,-7.81101177765407,-7.98647494251693,-8.25752555891863,-8.54705894970636,-8.60824305678196,-8.62048565361044,-8.72910923256137,-8.92926451037813,-9.11544877820495,-9.27101050830024,-9.29756141935136,-9.27726859206609,-9.28124974121959,-9.28527602846278,-9.23119347245542,-9.20481286913379,-9.22621387581396,-9.17200353543301,-9.01938380016299,-8.8661322162015,-8.74255532786757,-8.61348815562375,-8.43608332274999,-8.43114375691981,-8.38915316010231,-8.19375585285912,-8.29093431353822,-8.52210146434722,-8.78651480400154,-8.91519738820327,-9.09023765174478,-9.40558301331773,-9.6070595365012,-9.71925346212253,-9.97154113305069,-10.2395447928821,-10.3134494188803,-10.161036192495,-9.97431541168972,-9.71220984878337,-9.31588990980442,-9.10051942884067,-8.98305142936504,-8.82784988035871,-8.65402679195055,-8.55853510369406,-8.48546796539214,-8.36851663560477,-8.22105054081864,-8.08952854180187,-7.89396848504834,-7.68125476301525,-7.57387900995011,-7.55378338798534,-7.68513013769447,-7.99055746594114,-8.23993721217637,-8.42335123214709,-8.59716104161632,-8.85201431264608,-9.05792104483818,-9.25132869678811,-9.49586285073774,-9.75972196342055,-10.0708220263751,-10.3647804017475,-10.4787615104529,-10.3653215765724,-10.1014936739355,-9.90497522183944,-9.76593335152057,-9.66033095638932,-9.57530737063507,-9.47025713002338,-9.44592683148787,-9.50052033177111,-9.53938782135088,-9.55965624491758,-9.56829116521712,-9.53127458918501,-9.46811973220629,-9.39402422647131,-9.31739800573419,-9.213079280534,-9.23340316005803,-9.26632003889782,-9.27935488396157,-9.29589549260946,-9.28971714480908,-9.27916913442399,-9.29042247186045,-9.33763244354646,-9.33416404637306,-9.37338134132998,-9.45105054100207,-9.4923111634391,-9.52566939224561,-9.53787214443411,-9.4763164943263,-9.34000058109283,-9.15189757350178,-9.06048085528625,-8.98657210374957,-8.88862043237086,-8.91831399004276,-9.03590339860972,-9.11825934586325,-9.10189640178473,-9.13776348179973,-9.55085166887377,-10.2579658503913,-11.2684983331586,-12.3781048044155,-12.443632613084,-11.935447144649,-12.0548681250548,-12.7609197506702,-12.9144115242798,-11.7487567445993,-10.3088680880464,-9.53356728523132,-9.18244268185065,-8.97860458496949,-8.63618151850789,-8.27580033329346,-8.01070766024108,-7.74936070325642,-7.54801250864543,-7.38440723466026,-7.33617373490229,-7.42430151853369,-7.48610882005026,-7.37313928717399,-7.18359706411502,-7.18274417855817,-7.27552394237584,-7.39521085792935,-7.56354003474669,-7.76994293820358,-8.11954727971393,-8.42703190551003,-8.63170241004162,-8.55318565024844,-8.29789876987532,-8.0674805186023,-7.92625739647276,-7.80650211672734,-7.71166752159824,-7.57275795044285,-7.52118323759226,-7.53516986535102,-7.6023553687617,-7.60794988777834,-7.61814087488211,-7.74309445059715,-7.91049302908018,-8.10152607664124,-8.27490897713979,-8.35882142950715,-8.42170885496897,-8.57068302637001,-8.69259198034007,-8.63549719254634,-8.63111593899638,-8.59016978208595,-8.54369756666229,-8.39694311947032,-8.22021191470802,-7.9713799920824,-7.7668091248753,-7.57219957175284,-7.61726911434068,-7.91846400414471,-8.40153924058251,-8.80829209697681,-9.08735400023546,-9.43515455069842,-9.94309539232153,-10.1749497417326,-10.1719588089599,-10.1965718779476,-10.2328051316662,-10.3492780859535,-10.670124620906,-11.1204506380954,-11.4485441130813,-11.569718276874,-12.0798210476379,-13.158028223778,-14.2356404581498,-15.0820461188812,-15.5542410509089,-15.6788528934473,-14.8666736702377,-13.4288752925037,-11.8564761045813,-10.5324344370738,-9.65388144595383,-8.97019476790357,-7.73569049850084,-6.82738438057042,-6.24769971678722,-5.65429504218328,-5.02737684798741,-4.51617399576102,-5.19411736282547,-6.13501559443325,-6.8439606468056,-7.3585495103512,-7.66024252457181,-7.96614834820741,-8.14345166877723,-8.38629161474265,-8.65937265756812,-8.85829063420488,-8.98147825792739,-9.00268512426815,-8.98089597308817,-8.9160035731284,-8.70564842050055,-8.48488054638691,-8.20592255382169,-7.97030289638745,-7.58526175725158,-7.34011154675347,-7.31365440465563,-7.62083105185948,-8.03240141259602,-8.40193713711106,-8.86099672231671,-9.26119262302732,-9.44802940483939,-9.57548328182152,-9.76143043511719,-9.98268522523481,-10.0408645287914,-10.0124657482056,-10.1438147441485,-10.2127819792067,-10.1371438959543,-10.0516037911764,-9.88968421020483,-9.74214338786298,-9.53507376516597,-9.35290098019611,-9.10531627272534,-9.04607855555573,-9.07185143868946,-8.98462756318763,-8.90303369437849,-8.71735379815454,-8.54182016900375,-8.82141766881361,-9.02650474430536,-9.01866086747758,-9.18573206561203,-9.43408153514658,-9.66913342505493,-10.1496937853959,-10.7439075167366,-11.3354863759793,-11.5435779479172,-11.2938606491086,-11.755079962182,-13.0047410050257,-13.5237370522255,-12.7572621567798,-10.9804939128058,-9.45447591231353,-8.73406726939889,-8.28805471848989,-7.90361382196595,-7.51278960813081,-7.14946787623889,-6.9554367340169,-6.83014576867762,-6.73481328116256,-6.77858776583913,-6.97776523146965,-7.22691862880531,-7.56933675237649,-8.0098760370584,-8.3145406091619,-8.52571341977492,-8.70059882821566,-8.90207711229305,-8.8072825686672,-8.64932251788326,-8.49500932766157,-8.27993876754228,-8.0238176777424,-7.93135422158717,-7.96923801449631,-8.00432505739318,-8.0239995200093,-8.00860780466943,-8.01651830054604,-8.05095454073089,-8.01272426767171,-8.06780482689117,-8.16406883051765,-8.24004862433751,-8.25368956719332,-8.30709192238663,-8.34512469911257,-8.40952607248953,-8.39773336462519,-8.40625620583811,-8.49843082544557,-8.5344610461391,-8.44584412989898,-8.33286078148813,-8.30382398502394,-8.29273257735389,-8.28064318250948,-8.30211469979181,-8.39625058624639,-8.55324166304556,-8.60161639917731,-8.623671964514,-8.78336261272785,-9.03943025937241,-9.37055343530657,-9.6045718381794,-9.75978534573978,-9.96181670257078,-10.2986332077333,-10.396747729895,-10.2610018208658,-10.2066943663834,-10.1931947144295,-10.3571506864554,-10.7291781907941,-11.0033409828012,-11.01698295964,-10.9940849062685,-11.351997368556,-12.2012799242022,-13.2091884462373,-13.9934696454204,-14.5464810631019,-14.8491774874748,-15.0411732681191,-14.5629030816147,-13.0309225220418,-11.1712071806697,-9.55261159936507,-8.68752382859439,-7.7001638265615,-6.60128306198797,-6.02449680984434,-5.87131416140857,-5.25084082440205,-4.6655525002209,-4.7550050048746,-5.99303924155121,-6.89178535596685,-7.3170097391569,-7.75177565419119,-8.1020479045272,-8.30976548434443,-8.56926829945693,-8.659554524544,-8.76311531691115,-8.69994443761441,-8.77250184986127,-8.9733756485654,-9.13492644546758,-9.03385327267375,-8.68416621189724,-8.28438110591562,-7.94485075587127,-7.79213671353512,-7.75033139270722,-7.7301715225801,-7.85463814388961,-8.0934617743605,-8.30959419860915,-8.44965225051899,-8.65340972598379,-8.94761525096867,-9.14655667808783,-9.37864750704706,-9.63579506098507,-9.86455451987972,-10.0461033773226,-10.1533301361953,-10.243929728516,-10.2997309740762,-10.1245361247729,-9.76681818439947,-9.38994578633032,-8.93807973856043,-8.76423604942206,-8.80211736495326,-8.91297453665345,-9.02674840398588,-9.17499175812201,-9.29332449483798,-9.13208176186469,-8.92875098889673,-9.01637924389591,-9.40100131437377,-9.87204285117481,-10.5007264472914,-11.4379655815731,-12.1095538157699,-11.8560570973873,-11.7742211001818,-12.6446950347011,-13.5966099829163,-13.592791206124,-11.9020239819064,-9.86448805568314,-8.77512377970892,-8.69106697176352,-8.82742698217817,-8.71099000960368,-8.28014169596531,-7.83188275939451,-7.47815831394865,-7.33699371720261,-7.34467133955302,-7.27967199055001,-7.17797233119417,-7.14422020275665,-7.24086962436375,-7.61588687268855,-7.98291779675324,-8.26451356908212,-8.53984492171043,-8.68308069653629,-8.66514991933154,-8.5022060797502,-8.21938885557011,-7.87720234733393,-7.65773911565971,-7.57867255359522,-7.59228738053522,-7.54901664141431,-7.54234143553868,-7.57989545903429,-7.57117174954782,-7.52037087954099,-7.49410288554173,-7.56348759255076,-7.64822838703159,-7.76807098718701,-7.89383221873943,-7.99574295443899,-8.01763762864144,-8.02477834917582,-7.98415309191396,-8.01221927674477,-8.15408832295922,-8.10240434448039,-8.03053280892143,-7.95907306574632,-7.90572128692898,-7.96511225880972,-8.13437149360612,-8.3585939729821,-8.6721005910423,-9.00357118648966,-9.24785941673376,-9.5123222969417,-9.80832490326828,-10.0144972083843,-10.0871856739321,-10.1159556934233,-10.1717929334665,-10.3280571516656,-10.4581385167291,-10.5625669341778,-10.5542692719659,-10.7280583444367,-11.0152000938237,-11.2849973283827,-11.6476117300784,-12.3822837245743,-13.3142447720659,-14.2600348710516,-14.9699778235638,-15.0647390847172,-14.4532147845732,-13.4199222111353,-12.0181423189815,-10.7686549355807,-9.82109571368934,-8.40832973456358,-7.28930184195061,-6.53341113932924,-5.99415387862522,-5.10658643389817,-3.91558988937217,-4.17253906649986,-5.4929691199125,-6.45140587606881,-7.27567185880101,-8.1017507773035,-8.67610451446276,-9.23960097754368,-9.90856611329758,-10.2651611982349,-9.9845226673281,-9.58905998542061,-9.39324899056874,-9.36414951058273,-9.24062538539254,-8.88934724538317,-8.41609616349551,-8.0019349374065,-7.71407539600539,-7.59498991360041,-7.60288064792695,-7.82013004240433,-8.11329533707514,-8.46655951540374,-8.70585466133561,-8.96296125567197,-9.35835177060935,-9.55823780429941,-9.7252313818833,-9.95617434980394,-10.0648715649381,-10.0988846305535,-10.1632393129693,-10.2240254026672,-10.2316908021272,-9.89945354209148,-9.0804546047829,-8.60614425263433,-8.69926645274487,-8.93138706172921,-9.12078486693221,-9.01411840353491,-8.78368225789224,-8.7745663548547,-9.03406599191565,-9.23923806290951,-9.33675296714438,-9.50593989149092,-9.81000532734395,-10.3274812645699,-10.8219594308155,-11.5262050390884,-11.9439061188223,-11.6107563448458,-11.6576973892973,-12.5458065588691,-13.3732273581525,-12.7215986015377,-10.8091468990771,-8.98362796684647,-8.23287080065603,-8.20047010976149,-8.19997360259178,-8.00509914723144,-7.57354196329554,-7.17773439639431,-7.19351569089742,-7.32562776275525,-7.46725498982566,-7.54921916620644,-7.63321574079987,-7.82210827883086,-8.01731221973233,-8.20250149154476,-8.40520421961225,-8.79417863551493,-9.17714456803007,-9.27617073284656,-8.91813795728188,-8.46881972441912,-8.12786678197347,-7.9428215285954,-7.86696998122148,-7.84323985707027,-7.86879806558804,-7.94201669747674,-7.87253538546817,-7.85667626072799,-7.78662565791403,-7.78175842301694,-7.74768522432696,-7.71429824667251,-7.76537423611736,-7.94948296688234,-8.13022207980807,-8.27656783358787,-8.28662442365517,-8.22667091491803,-8.19961851461164,-8.13799072804681,-8.04669917227664,-8.01632672969638,-7.96562016720266,-7.84870180506695,-7.81129411920136,-7.81833093664051,-7.87376988915024,-8.01531207981693,-8.30261322878562,-8.65531421460046,-9.00791741915548,-9.44423501419661,-9.77190282074645,-9.87417711886462,-9.92964459738317,-10.0093873723721,-10.1804947698641,-10.4324139331979,-10.5978223640492,-10.6442531352932,-10.7806925130685,-10.8534559614652,-10.7608281460282,-10.680380029097,-10.6988992154566,-11.0545409063515,-11.6484874640873,-12.1544704580976,-12.5044877837896,-12.9818209277389,-13.6033646209034,-14.1050549629451,-14.1599762655803,-13.4867153784332,-12.3004245097825,-11.2008422685644,-10.3939856928748,-9.73398181384456,-8.64339780927191,-7.55694495082772,-6.64928687812519,-5.93365513508811,-5.53403235706901,-4.96623494415411,-4.90664257076979,-5.8738602929621,-6.92336181624538,-7.61602718173904,-8.28515845089874,-9.05062611977272,-9.84947854994782,-10.4979611642323,-10.6613921961863,-10.421450970566,-10.2643987121974,-10.2202878637753,-10.1000227782267,-9.81594778148957,-9.52814632848886,-8.95397149972115,-8.18649674948875,-7.67442191531929,-7.33397994233812,-7.42106742741976,-7.79527156471309,-8.08282232779923,-8.35802327260827,-8.64650190086682,-8.88013061283986,-9.12557268562792,-9.32042889934277,-9.32289986469654,-9.35461967042221,-9.32415230853841,-9.31040835942814,-9.37367459363173,-9.39940050935701,-9.33491064558597,-9.13248001279377,-8.88328913615451,-8.68018057973144,-8.54414039899337,-8.43878293271603,-8.34095769779598,-8.30122912962942,-8.31877172788669,-8.40686085147329,-8.56943763216508,-8.6997265646699,-8.66979875317626,-8.57823368332256,-8.76029291387865,-9.12567852375309,-9.45181979826878,-9.82211149644783,-10.3809321072484,-11.1597584269992,-11.8946068645325,-12.1282121780097,-12.1312894888157,-12.0712017749732,-12.5786898080649,-12.7915920554649,-11.8178363932637,-10.0092255003057,-8.832613767147,-8.4470279214192,-8.47121837135959,-8.72940871303552,-8.87672294512308,-8.84154634106685,-8.64295476585422,-8.32788318309046,-7.93976483259417,-7.54356860803529,-7.28187773705633,-7.23785599230859,-7.44967771998688,-7.85400723282428,-8.06481389828309,-8.11224630374849,-8.17598076150499,-8.28196535013017,-8.44374108024839,-8.77677193442341,-9.16722812004418,-9.28900475170197,-9.15400998531915,-8.91553177711724,-8.62020013274534,-8.30642996178978,-8.02136384569432,-7.83504489538881,-7.75079795716383,-7.7850970732702,-7.92685314373217,-8.02070333755132,-8.1370597444344,-8.25563545292559,-8.367720938564,-8.51274795827811,-8.66404297200054,-8.77478596581435,-8.82463185824662,-8.825889302655,-8.81033040906548,-8.78822587777712,-8.77596660603318,-8.65815500603449,-8.45968341058908,-8.25328210642716,-8.06962960127047,-7.95608399097653,-7.90898096759421,-7.85286085634215,-7.86549678746834,-8.06578703461473,-8.4279116292533,-8.91915955524205,-9.48635922516981,-9.92779140870929,-10.2423174784551,-10.41315309953,-10.4058488752075,-10.4050545846288,-10.249561610043,-10.1211663932624,-10.058844163228,-9.96366589898567,-10.1547572065833,-10.8292962859849,-10.9031528766977,-10.3720755520101,-10.3983164703083,-10.9492549313258,-11.8270738340372,-12.692460906646,-13.3490946076396,-13.5994333048737,-13.8077239028518,-14.1161524924879,-14.5479737647242,-14.793207822559,-13.9253063294417,-12.125615130869,-10.8367834780125,-10.0144238985443,-9.33268594167049,-8.53408405935139,-7.75011223576944,-7.47685377894056,-7.71402842164826,-8.05808895300686,-8.42148962984565,-8.48757573291889,-8.32762819954943,-7.93307960874734,-7.59411387918413,-7.33083119891156,-7.34113791381802,-7.53926773110562,-7.82729430518821,-8.17753089329176,-8.49200364236774,-8.82452901368901,-9.02628040279639,-8.94896675240364,-8.83895978827067,-8.72607391228404,-8.67506488412944,-8.6298338673201,-8.594536638466,-8.5378012089452,-8.50320038231903,-8.71901811466407,-9.02616911684911,-9.16854641950904,-9.21645237843717,-9.38467517675937,-9.63014525117432,-9.90620719576995,-10.1966225864533,-10.4422017615368,-10.5652911874213,-10.6348551158457,-11.0013769169111,-11.1194343127152,-10.4360921197201,-9.783458561836,-9.86819437720189,-10.3602862702268,-10.424778811138,-10.1158141007807,-9.96874152985904,-9.84585573014022,-9.5115727266895,-9.29348130333285,-9.19466147822348,-9.23346521063086,-9.07302052765487,-8.74322494002213,-8.38641182294266,-8.06303424437628,-7.77653296233042,-7.55006346634616,-7.23234569743358,-6.98918954517227,-6.94822756909757,-7.04464423518298,-7.21651188506741,-7.40568279002899,-7.70118053098762,-8.08071109733544,-8.57390318303714,-8.95656300506625,-9.06762006788096,-8.95757444755552,-8.63551732801167,-8.18266991528159,-7.86424090997525,-7.70604595903575,-7.79367688999366,-7.99697763632713,-8.26976911522563,-8.7435234162196,-9.0927270910944,-9.36062761561381,-9.58666515549763,-9.77635282722244,-9.93796021966424,-10.007310685685,-9.87138148885121,-9.55848602719492,-9.13494992916351,-8.77529229110444,-8.34539119154716,-8.18066316980222,-8.1374070148808,-8.12144731139138,-7.99705317345614,-7.75057797293537,-7.47952446939574,-7.17193407942651,-6.8367100306562,-6.51705806950031,-6.39928590326045,-6.64016862676006,-7.19262286610775,-8.02295242548742,-8.54398961402896,-8.6127339747429,-8.55820957297603,-8.65789700646089,-9.07557024011287,-9.01172068688424,-8.04431783784015,-7.27672459307287,-7.20003918691864,-7.11765925799315,-6.94226377176351,-6.80650905054494,-6.87008238233662,-6.96605261002599,-6.92080902778332,-6.73558648190704,-6.44345366691365,-6.00504742000703,-5.63635523427379,-5.32619865700293,-5.28390509010771,-5.29852607774613,-5.14899283726599,-5.32074336659411,-5.70152969764388,-6.19570685778555,-6.32504619585417,-6.46177982438281,-6.53300885513364,-6.58336879510041,-6.55040088469976,-6.50106140529684,-6.43902970131065,-6.51271841151874,-6.43449269429384,-6.42499058287256,-6.26755533646104,-6.09581965163607,-6.00594318144448,-6.01165197140466,-6.04260718761619,-6.01667779046499,-6.111126354358,-6.04010029857987,-5.68403065236745,-5.78744908400883,-5.8386535462413,-5.4077159841508,-4.8379640035728,-4.69190621455558,-5.61806553782672,-7.7265381035292,-13.1759840490897,-16.6719714892089,-14.8591757062681,-15.6623574804284,-18.6683745153678,-22.3958140463433,-23.796050521078,-21.0590877884104,-17.3187301149811,-15.290021871707,-14.3875153949007,-13.2370245212301,-11.7814604766262,-10.5783847547446,-9.280633529493,-7.97998904991438,-6.7892725692225,-5.98193306652277,-5.63609560085797,-6.0507923720548,-7.11283671442716,-8.06539342089816,-8.16311241955031,-8.04208166629782,-8.18726461702491,-8.73121702143575,-9.16519068116098,-9.30289842609969,-9.39584078358311,-9.65608853262185,-10.0997263434427,-10.4894954975443,-10.7653215185527,-10.8413400416077,-10.8245361992599,-10.6642058733736,-10.6408517252904,-10.7623571088144,-10.8766386635023,-11.0801028232716,-11.1792241521015,-11.121994810986,-10.8249522790102,-10.6702729522785,-10.8193423589827,-10.9367706592883,-10.8602873713665,-10.5516422333543,-10.2023193913741,-10.0584356622648,-10.0304815214343,-9.97958940135471,-9.93624202718716,-9.94468727778315,-10.0283138120438,-9.89265902526502,-9.64730845768335,-9.37053591864821,-9.1891282550039,-9.16090131640658,-9.30227601371701,-9.50021854877432,-9.83085197923564,-9.98701682186756,-10.199421360304,-10.3540883942528,-10.1428510400449,-10.0391779719126,-10.246014473111,-9.70219210201665,-9.55169543525028,-9.59825552667131,-9.09450795944655,-9.45516608559696,-11.0863361173465,-10.986382558204,-11.1227378068129,-9.50979477529553,-9.50066505775315,-11.747595639959,-9.60837969118757,-9.79549321709537,-9.49080954191843,-9.56791319639582,-9.77540915350046,-9.56967725055961,-9.40614828674097,-9.5105770558373,-9.87941835042451,-9.8549689205768,-9.47759324068873,-9.71947092240746,-9.36436095856979,-9.22585588020812,-9.57986890864887,-9.47622748196689,-9.35129560358161,-9.41319090998371,-9.82229931861324,-9.7420030427515,-9.36655443274329,-9.62443655255283,-9.58747302095237,-9.71641356888426,-9.40911672848924,-9.45949851214226,-9.50222355380184,-9.46492086952567,-9.85742397303258,-9.48118639227034,-9.39390648841417,-9.41219651015532,-9.45132353786868,-9.43353446208057,-9.46660782163691,-9.4131119624412,-9.3620057442056,-9.42155746718301,-9.42574486275675,-9.35188122193285,-9.27364448511348,-9.41438483170618,-9.69555210482839,-9.57298004372464,-9.47373934878868,-9.53688291443382,-9.52288983700197,-9.47852280914528,-9.4023028801217,-9.38975480347292,-9.51519812311094,-9.49226590944679,-9.38568776729248,-9.29233693705418,-9.30117048080111,-9.34320873819688,-9.34477666556696,-9.42586831335975,-9.46055328829679,-9.42909589684827,-9.47881887388543,-9.33366712571538,-9.27879000755058,-9.44681512162319,-9.51012877957672,-9.43606508357767,-9.40296112684137,-9.38852621937816,-9.37896701888723,-9.38242644834725,-9.40301643761287,-9.41873990181896,-9.39043682953776,-9.39623023158873,-9.45471353811324,-9.45070074792072,-9.43891622866389,-9.41985748111022,-9.36064428342985,-9.35630725143352,-9.39103821123349,-9.41115879528044,-9.39697035232292,-9.38311833458096,-9.36026007271452,-9.34420244471008,-9.37189093135657,-9.39645524347053,-9.36769315323725,-9.36347490669527,-9.38702928366181,-9.36175701308345,-9.39041459328866,-9.37905833089499,-9.37964865562283,-9.37051480970585,-9.35690424250997,-9.36139654097715,-9.35856758800255,-9.35210933273469,-9.35115246763862,-9.35198262553111,-9.35341009007667,-9.35134112349671,-9.34244514771617,-9.32603709170347,-9.34074312254499,-9.353997906844,-9.34699343073543,-9.36881733023126,-9.37630790642051,-9.36288543310211,-9.34494417803057,-9.34279445105345,-9.36528113278977,-9.37018481854856,-9.40549167489234,-9.35817293608254,-9.35222706318092,-9.35413422945043,-9.36074070930684,-9.36633995344824,-9.39220016998338,-9.38818677810933,-9.33176297312523,-9.32031081545326,-9.34970942645893,-9.35588228197137,-9.35830120345496,-9.34859451168428,-9.34875444233062,-9.34514538910898,-9.34501218619437,-9.36765098984713,-9.34944984037307,-9.35000306330121,-9.35163758697156,-9.36679854304801,-9.35608066439837,-9.34239887988132,-9.3605691828627,-9.34935227401943,-9.33102326191083,-9.35106609005283,-9.3389255352995,-9.35335506419453,-9.34812672910031,-9.34141557854928,-9.35143056336752,-9.3414097284316,-9.35066672423248,-9.34397729640488,-9.34847667669499],\"yaxis\":\"y\",\"type\":\"scattergl\"}],                        {\"template\":{\"data\":{\"histogram2dcontour\":[{\"type\":\"histogram2dcontour\",\"colorbar\":{\"outlinewidth\":0,\"ticks\":\"\"},\"colorscale\":[[0.0,\"#0d0887\"],[0.1111111111111111,\"#46039f\"],[0.2222222222222222,\"#7201a8\"],[0.3333333333333333,\"#9c179e\"],[0.4444444444444444,\"#bd3786\"],[0.5555555555555556,\"#d8576b\"],[0.6666666666666666,\"#ed7953\"],[0.7777777777777778,\"#fb9f3a\"],[0.8888888888888888,\"#fdca26\"],[1.0,\"#f0f921\"]]}],\"choropleth\":[{\"type\":\"choropleth\",\"colorbar\":{\"outlinewidth\":0,\"ticks\":\"\"}}],\"histogram2d\":[{\"type\":\"histogram2d\",\"colorbar\":{\"outlinewidth\":0,\"ticks\":\"\"},\"colorscale\":[[0.0,\"#0d0887\"],[0.1111111111111111,\"#46039f\"],[0.2222222222222222,\"#7201a8\"],[0.3333333333333333,\"#9c179e\"],[0.4444444444444444,\"#bd3786\"],[0.5555555555555556,\"#d8576b\"],[0.6666666666666666,\"#ed7953\"],[0.7777777777777778,\"#fb9f3a\"],[0.8888888888888888,\"#fdca26\"],[1.0,\"#f0f921\"]]}],\"heatmap\":[{\"type\":\"heatmap\",\"colorbar\":{\"outlinewidth\":0,\"ticks\":\"\"},\"colorscale\":[[0.0,\"#0d0887\"],[0.1111111111111111,\"#46039f\"],[0.2222222222222222,\"#7201a8\"],[0.3333333333333333,\"#9c179e\"],[0.4444444444444444,\"#bd3786\"],[0.5555555555555556,\"#d8576b\"],[0.6666666666666666,\"#ed7953\"],[0.7777777777777778,\"#fb9f3a\"],[0.8888888888888888,\"#fdca26\"],[1.0,\"#f0f921\"]]}],\"heatmapgl\":[{\"type\":\"heatmapgl\",\"colorbar\":{\"outlinewidth\":0,\"ticks\":\"\"},\"colorscale\":[[0.0,\"#0d0887\"],[0.1111111111111111,\"#46039f\"],[0.2222222222222222,\"#7201a8\"],[0.3333333333333333,\"#9c179e\"],[0.4444444444444444,\"#bd3786\"],[0.5555555555555556,\"#d8576b\"],[0.6666666666666666,\"#ed7953\"],[0.7777777777777778,\"#fb9f3a\"],[0.8888888888888888,\"#fdca26\"],[1.0,\"#f0f921\"]]}],\"contourcarpet\":[{\"type\":\"contourcarpet\",\"colorbar\":{\"outlinewidth\":0,\"ticks\":\"\"}}],\"contour\":[{\"type\":\"contour\",\"colorbar\":{\"outlinewidth\":0,\"ticks\":\"\"},\"colorscale\":[[0.0,\"#0d0887\"],[0.1111111111111111,\"#46039f\"],[0.2222222222222222,\"#7201a8\"],[0.3333333333333333,\"#9c179e\"],[0.4444444444444444,\"#bd3786\"],[0.5555555555555556,\"#d8576b\"],[0.6666666666666666,\"#ed7953\"],[0.7777777777777778,\"#fb9f3a\"],[0.8888888888888888,\"#fdca26\"],[1.0,\"#f0f921\"]]}],\"surface\":[{\"type\":\"surface\",\"colorbar\":{\"outlinewidth\":0,\"ticks\":\"\"},\"colorscale\":[[0.0,\"#0d0887\"],[0.1111111111111111,\"#46039f\"],[0.2222222222222222,\"#7201a8\"],[0.3333333333333333,\"#9c179e\"],[0.4444444444444444,\"#bd3786\"],[0.5555555555555556,\"#d8576b\"],[0.6666666666666666,\"#ed7953\"],[0.7777777777777778,\"#fb9f3a\"],[0.8888888888888888,\"#fdca26\"],[1.0,\"#f0f921\"]]}],\"mesh3d\":[{\"type\":\"mesh3d\",\"colorbar\":{\"outlinewidth\":0,\"ticks\":\"\"}}],\"scatter\":[{\"fillpattern\":{\"fillmode\":\"overlay\",\"size\":10,\"solidity\":0.2},\"type\":\"scatter\"}],\"parcoords\":[{\"type\":\"parcoords\",\"line\":{\"colorbar\":{\"outlinewidth\":0,\"ticks\":\"\"}}}],\"scatterpolargl\":[{\"type\":\"scatterpolargl\",\"marker\":{\"colorbar\":{\"outlinewidth\":0,\"ticks\":\"\"}}}],\"bar\":[{\"error_x\":{\"color\":\"#2a3f5f\"},\"error_y\":{\"color\":\"#2a3f5f\"},\"marker\":{\"line\":{\"color\":\"#E5ECF6\",\"width\":0.5},\"pattern\":{\"fillmode\":\"overlay\",\"size\":10,\"solidity\":0.2}},\"type\":\"bar\"}],\"scattergeo\":[{\"type\":\"scattergeo\",\"marker\":{\"colorbar\":{\"outlinewidth\":0,\"ticks\":\"\"}}}],\"scatterpolar\":[{\"type\":\"scatterpolar\",\"marker\":{\"colorbar\":{\"outlinewidth\":0,\"ticks\":\"\"}}}],\"histogram\":[{\"marker\":{\"pattern\":{\"fillmode\":\"overlay\",\"size\":10,\"solidity\":0.2}},\"type\":\"histogram\"}],\"scattergl\":[{\"type\":\"scattergl\",\"marker\":{\"colorbar\":{\"outlinewidth\":0,\"ticks\":\"\"}}}],\"scatter3d\":[{\"type\":\"scatter3d\",\"line\":{\"colorbar\":{\"outlinewidth\":0,\"ticks\":\"\"}},\"marker\":{\"colorbar\":{\"outlinewidth\":0,\"ticks\":\"\"}}}],\"scattermapbox\":[{\"type\":\"scattermapbox\",\"marker\":{\"colorbar\":{\"outlinewidth\":0,\"ticks\":\"\"}}}],\"scatterternary\":[{\"type\":\"scatterternary\",\"marker\":{\"colorbar\":{\"outlinewidth\":0,\"ticks\":\"\"}}}],\"scattercarpet\":[{\"type\":\"scattercarpet\",\"marker\":{\"colorbar\":{\"outlinewidth\":0,\"ticks\":\"\"}}}],\"carpet\":[{\"aaxis\":{\"endlinecolor\":\"#2a3f5f\",\"gridcolor\":\"white\",\"linecolor\":\"white\",\"minorgridcolor\":\"white\",\"startlinecolor\":\"#2a3f5f\"},\"baxis\":{\"endlinecolor\":\"#2a3f5f\",\"gridcolor\":\"white\",\"linecolor\":\"white\",\"minorgridcolor\":\"white\",\"startlinecolor\":\"#2a3f5f\"},\"type\":\"carpet\"}],\"table\":[{\"cells\":{\"fill\":{\"color\":\"#EBF0F8\"},\"line\":{\"color\":\"white\"}},\"header\":{\"fill\":{\"color\":\"#C8D4E3\"},\"line\":{\"color\":\"white\"}},\"type\":\"table\"}],\"barpolar\":[{\"marker\":{\"line\":{\"color\":\"#E5ECF6\",\"width\":0.5},\"pattern\":{\"fillmode\":\"overlay\",\"size\":10,\"solidity\":0.2}},\"type\":\"barpolar\"}],\"pie\":[{\"automargin\":true,\"type\":\"pie\"}]},\"layout\":{\"autotypenumbers\":\"strict\",\"colorway\":[\"#636efa\",\"#EF553B\",\"#00cc96\",\"#ab63fa\",\"#FFA15A\",\"#19d3f3\",\"#FF6692\",\"#B6E880\",\"#FF97FF\",\"#FECB52\"],\"font\":{\"color\":\"#2a3f5f\"},\"hovermode\":\"closest\",\"hoverlabel\":{\"align\":\"left\"},\"paper_bgcolor\":\"white\",\"plot_bgcolor\":\"#E5ECF6\",\"polar\":{\"bgcolor\":\"#E5ECF6\",\"angularaxis\":{\"gridcolor\":\"white\",\"linecolor\":\"white\",\"ticks\":\"\"},\"radialaxis\":{\"gridcolor\":\"white\",\"linecolor\":\"white\",\"ticks\":\"\"}},\"ternary\":{\"bgcolor\":\"#E5ECF6\",\"aaxis\":{\"gridcolor\":\"white\",\"linecolor\":\"white\",\"ticks\":\"\"},\"baxis\":{\"gridcolor\":\"white\",\"linecolor\":\"white\",\"ticks\":\"\"},\"caxis\":{\"gridcolor\":\"white\",\"linecolor\":\"white\",\"ticks\":\"\"}},\"coloraxis\":{\"colorbar\":{\"outlinewidth\":0,\"ticks\":\"\"}},\"colorscale\":{\"sequential\":[[0.0,\"#0d0887\"],[0.1111111111111111,\"#46039f\"],[0.2222222222222222,\"#7201a8\"],[0.3333333333333333,\"#9c179e\"],[0.4444444444444444,\"#bd3786\"],[0.5555555555555556,\"#d8576b\"],[0.6666666666666666,\"#ed7953\"],[0.7777777777777778,\"#fb9f3a\"],[0.8888888888888888,\"#fdca26\"],[1.0,\"#f0f921\"]],\"sequentialminus\":[[0.0,\"#0d0887\"],[0.1111111111111111,\"#46039f\"],[0.2222222222222222,\"#7201a8\"],[0.3333333333333333,\"#9c179e\"],[0.4444444444444444,\"#bd3786\"],[0.5555555555555556,\"#d8576b\"],[0.6666666666666666,\"#ed7953\"],[0.7777777777777778,\"#fb9f3a\"],[0.8888888888888888,\"#fdca26\"],[1.0,\"#f0f921\"]],\"diverging\":[[0,\"#8e0152\"],[0.1,\"#c51b7d\"],[0.2,\"#de77ae\"],[0.3,\"#f1b6da\"],[0.4,\"#fde0ef\"],[0.5,\"#f7f7f7\"],[0.6,\"#e6f5d0\"],[0.7,\"#b8e186\"],[0.8,\"#7fbc41\"],[0.9,\"#4d9221\"],[1,\"#276419\"]]},\"xaxis\":{\"gridcolor\":\"white\",\"linecolor\":\"white\",\"ticks\":\"\",\"title\":{\"standoff\":15},\"zerolinecolor\":\"white\",\"automargin\":true,\"zerolinewidth\":2},\"yaxis\":{\"gridcolor\":\"white\",\"linecolor\":\"white\",\"ticks\":\"\",\"title\":{\"standoff\":15},\"zerolinecolor\":\"white\",\"automargin\":true,\"zerolinewidth\":2},\"scene\":{\"xaxis\":{\"backgroundcolor\":\"#E5ECF6\",\"gridcolor\":\"white\",\"linecolor\":\"white\",\"showbackground\":true,\"ticks\":\"\",\"zerolinecolor\":\"white\",\"gridwidth\":2},\"yaxis\":{\"backgroundcolor\":\"#E5ECF6\",\"gridcolor\":\"white\",\"linecolor\":\"white\",\"showbackground\":true,\"ticks\":\"\",\"zerolinecolor\":\"white\",\"gridwidth\":2},\"zaxis\":{\"backgroundcolor\":\"#E5ECF6\",\"gridcolor\":\"white\",\"linecolor\":\"white\",\"showbackground\":true,\"ticks\":\"\",\"zerolinecolor\":\"white\",\"gridwidth\":2}},\"shapedefaults\":{\"line\":{\"color\":\"#2a3f5f\"}},\"annotationdefaults\":{\"arrowcolor\":\"#2a3f5f\",\"arrowhead\":0,\"arrowwidth\":1},\"geo\":{\"bgcolor\":\"white\",\"landcolor\":\"#E5ECF6\",\"subunitcolor\":\"white\",\"showland\":true,\"showlakes\":true,\"lakecolor\":\"white\"},\"title\":{\"x\":0.05},\"mapbox\":{\"style\":\"light\"}}},\"xaxis\":{\"anchor\":\"y\",\"domain\":[0.0,1.0],\"title\":{\"text\":\"Time\"}},\"yaxis\":{\"anchor\":\"x\",\"domain\":[0.0,1.0],\"title\":{\"text\":\"AccV\"}},\"legend\":{\"tracegroupgap\":0},\"margin\":{\"t\":60},\"title\":{\"text\":\"AccV Time Series\",\"y\":0.95,\"x\":0.5,\"xanchor\":\"center\",\"yanchor\":\"top\"}},                        {\"responsive\": true}                    ).then(function(){\n",
       "                            \n",
       "var gd = document.getElementById('7b562cd1-e54c-4a12-95c2-ff838ccb0589');\n",
       "var x = new MutationObserver(function (mutations, observer) {{\n",
       "        var display = window.getComputedStyle(gd).display;\n",
       "        if (!display || display === 'none') {{\n",
       "            console.log([gd, 'removed!']);\n",
       "            Plotly.purge(gd);\n",
       "            observer.disconnect();\n",
       "        }}\n",
       "}});\n",
       "\n",
       "// Listen for the removal of the full notebook cells\n",
       "var notebookContainer = gd.closest('#notebook-container');\n",
       "if (notebookContainer) {{\n",
       "    x.observe(notebookContainer, {childList: true});\n",
       "}}\n",
       "\n",
       "// Listen for the clearing of the current output cell\n",
       "var outputEl = gd.closest('.output');\n",
       "if (outputEl) {{\n",
       "    x.observe(outputEl, {childList: true});\n",
       "}}\n",
       "\n",
       "                        })                };                });            </script>        </div>"
      ]
     },
     "metadata": {},
     "output_type": "display_data"
    },
    {
     "data": {
      "text/html": [
       "<div>                            <div id=\"6e6641ad-9bf9-4fe9-98e5-bf267b123ee5\" class=\"plotly-graph-div\" style=\"height:525px; width:100%;\"></div>            <script type=\"text/javascript\">                require([\"plotly\"], function(Plotly) {                    window.PLOTLYENV=window.PLOTLYENV || {};                                    if (document.getElementById(\"6e6641ad-9bf9-4fe9-98e5-bf267b123ee5\")) {                    Plotly.newPlot(                        \"6e6641ad-9bf9-4fe9-98e5-bf267b123ee5\",                        [{\"hovertemplate\":\"Time=%{x}<br>AccML=%{y}<extra></extra>\",\"legendgroup\":\"\",\"line\":{\"color\":\"darkslateblue\",\"dash\":\"solid\"},\"marker\":{\"symbol\":\"circle\"},\"mode\":\"lines\",\"name\":\"\",\"showlegend\":false,\"x\":[0,1,2,3,4,5,6,7,8,9,10,11,12,13,14,15,16,17,18,19,20,21,22,23,24,25,26,27,28,29,30,31,32,33,34,35,36,37,38,39,40,41,42,43,44,45,46,47,48,49,50,51,52,53,54,55,56,57,58,59,60,61,62,63,64,65,66,67,68,69,70,71,72,73,74,75,76,77,78,79,80,81,82,83,84,85,86,87,88,89,90,91,92,93,94,95,96,97,98,99,100,101,102,103,104,105,106,107,108,109,110,111,112,113,114,115,116,117,118,119,120,121,122,123,124,125,126,127,128,129,130,131,132,133,134,135,136,137,138,139,140,141,142,143,144,145,146,147,148,149,150,151,152,153,154,155,156,157,158,159,160,161,162,163,164,165,166,167,168,169,170,171,172,173,174,175,176,177,178,179,180,181,182,183,184,185,186,187,188,189,190,191,192,193,194,195,196,197,198,199,200,201,202,203,204,205,206,207,208,209,210,211,212,213,214,215,216,217,218,219,220,221,222,223,224,225,226,227,228,229,230,231,232,233,234,235,236,237,238,239,240,241,242,243,244,245,246,247,248,249,250,251,252,253,254,255,256,257,258,259,260,261,262,263,264,265,266,267,268,269,270,271,272,273,274,275,276,277,278,279,280,281,282,283,284,285,286,287,288,289,290,291,292,293,294,295,296,297,298,299,300,301,302,303,304,305,306,307,308,309,310,311,312,313,314,315,316,317,318,319,320,321,322,323,324,325,326,327,328,329,330,331,332,333,334,335,336,337,338,339,340,341,342,343,344,345,346,347,348,349,350,351,352,353,354,355,356,357,358,359,360,361,362,363,364,365,366,367,368,369,370,371,372,373,374,375,376,377,378,379,380,381,382,383,384,385,386,387,388,389,390,391,392,393,394,395,396,397,398,399,400,401,402,403,404,405,406,407,408,409,410,411,412,413,414,415,416,417,418,419,420,421,422,423,424,425,426,427,428,429,430,431,432,433,434,435,436,437,438,439,440,441,442,443,444,445,446,447,448,449,450,451,452,453,454,455,456,457,458,459,460,461,462,463,464,465,466,467,468,469,470,471,472,473,474,475,476,477,478,479,480,481,482,483,484,485,486,487,488,489,490,491,492,493,494,495,496,497,498,499,500,501,502,503,504,505,506,507,508,509,510,511,512,513,514,515,516,517,518,519,520,521,522,523,524,525,526,527,528,529,530,531,532,533,534,535,536,537,538,539,540,541,542,543,544,545,546,547,548,549,550,551,552,553,554,555,556,557,558,559,560,561,562,563,564,565,566,567,568,569,570,571,572,573,574,575,576,577,578,579,580,581,582,583,584,585,586,587,588,589,590,591,592,593,594,595,596,597,598,599,600,601,602,603,604,605,606,607,608,609,610,611,612,613,614,615,616,617,618,619,620,621,622,623,624,625,626,627,628,629,630,631,632,633,634,635,636,637,638,639,640,641,642,643,644,645,646,647,648,649,650,651,652,653,654,655,656,657,658,659,660,661,662,663,664,665,666,667,668,669,670,671,672,673,674,675,676,677,678,679,680,681,682,683,684,685,686,687,688,689,690,691,692,693,694,695,696,697,698,699,700,701,702,703,704,705,706,707,708,709,710,711,712,713,714,715,716,717,718,719,720,721,722,723,724,725,726,727,728,729,730,731,732,733,734,735,736,737,738,739,740,741,742,743,744,745,746,747,748,749,750,751,752,753,754,755,756,757,758,759,760,761,762,763,764,765,766,767,768,769,770,771,772,773,774,775,776,777,778,779,780,781,782,783,784,785,786,787,788,789,790,791,792,793,794,795,796,797,798,799,800,801,802,803,804,805,806,807,808,809,810,811,812,813,814,815,816,817,818,819,820,821,822,823,824,825,826,827,828,829,830,831,832,833,834,835,836,837,838,839,840,841,842,843,844,845,846,847,848,849,850,851,852,853,854,855,856,857,858,859,860,861,862,863,864,865,866,867,868,869,870,871,872,873,874,875,876,877,878,879,880,881,882,883,884,885,886,887,888,889,890,891,892,893,894,895,896,897,898,899,900,901,902,903,904,905,906,907,908,909,910,911,912,913,914,915,916,917,918,919,920,921,922,923,924,925,926,927,928,929,930,931,932,933,934,935,936,937,938,939,940,941,942,943,944,945,946,947,948,949,950,951,952,953,954,955,956,957,958,959,960,961,962,963,964,965,966,967,968,969,970,971,972,973,974,975,976,977,978,979,980,981,982,983,984,985,986,987,988,989,990,991,992,993,994,995,996,997,998,999,1000,1001,1002,1003,1004,1005,1006,1007,1008,1009,1010,1011,1012,1013,1014,1015,1016,1017,1018,1019,1020,1021,1022,1023,1024,1025,1026,1027,1028,1029,1030,1031,1032,1033,1034,1035,1036,1037,1038,1039,1040,1041,1042,1043,1044,1045,1046,1047,1048,1049,1050,1051,1052,1053,1054,1055,1056,1057,1058,1059,1060,1061,1062,1063,1064,1065,1066,1067,1068,1069,1070,1071,1072,1073,1074,1075,1076,1077,1078,1079,1080,1081,1082,1083,1084,1085,1086,1087,1088,1089,1090,1091,1092,1093,1094,1095,1096,1097,1098,1099,1100,1101,1102,1103,1104,1105,1106,1107,1108,1109,1110,1111,1112,1113,1114,1115,1116,1117,1118,1119,1120,1121,1122,1123,1124,1125,1126,1127,1128,1129,1130,1131,1132,1133,1134,1135,1136,1137,1138,1139,1140,1141,1142,1143,1144,1145,1146,1147,1148,1149,1150,1151,1152,1153,1154,1155,1156,1157,1158,1159,1160,1161,1162,1163,1164,1165,1166,1167,1168,1169,1170,1171,1172,1173,1174,1175,1176,1177,1178,1179,1180,1181,1182,1183,1184,1185,1186,1187,1188,1189,1190,1191,1192,1193,1194,1195,1196,1197,1198,1199,1200,1201,1202,1203,1204,1205,1206,1207,1208,1209,1210,1211,1212,1213,1214,1215,1216,1217,1218,1219,1220,1221,1222,1223,1224,1225,1226,1227,1228,1229,1230,1231,1232,1233,1234,1235,1236,1237,1238,1239,1240,1241,1242,1243,1244,1245,1246,1247,1248,1249,1250,1251,1252,1253,1254,1255,1256,1257,1258,1259,1260,1261,1262,1263,1264,1265,1266,1267,1268,1269,1270,1271,1272,1273,1274,1275,1276,1277,1278,1279,1280,1281,1282,1283,1284,1285,1286,1287,1288,1289,1290,1291,1292,1293,1294,1295,1296,1297,1298,1299,1300,1301,1302,1303,1304,1305,1306,1307,1308,1309,1310,1311,1312,1313,1314,1315,1316,1317,1318,1319,1320,1321,1322,1323,1324,1325,1326,1327,1328,1329,1330,1331,1332,1333,1334,1335,1336,1337,1338,1339,1340,1341,1342,1343,1344,1345,1346,1347,1348,1349,1350,1351,1352,1353,1354,1355,1356,1357,1358,1359,1360,1361,1362,1363,1364,1365,1366,1367,1368,1369,1370,1371,1372,1373,1374,1375,1376,1377,1378,1379,1380,1381,1382,1383,1384,1385,1386,1387,1388,1389,1390,1391,1392,1393,1394,1395,1396,1397,1398,1399,1400,1401,1402,1403,1404,1405,1406,1407,1408,1409,1410,1411,1412,1413,1414,1415,1416,1417,1418,1419,1420,1421,1422,1423,1424,1425,1426,1427,1428,1429,1430,1431,1432,1433,1434,1435,1436,1437,1438,1439,1440,1441,1442,1443,1444,1445,1446,1447,1448,1449,1450,1451,1452,1453,1454,1455,1456,1457,1458,1459,1460,1461,1462,1463,1464,1465,1466,1467,1468,1469,1470,1471,1472,1473,1474,1475,1476,1477,1478,1479,1480,1481,1482,1483,1484,1485,1486,1487,1488,1489,1490,1491,1492,1493,1494,1495,1496,1497,1498,1499,1500,1501,1502,1503,1504,1505,1506,1507,1508,1509,1510,1511,1512,1513,1514,1515,1516,1517,1518,1519,1520,1521,1522,1523,1524,1525,1526,1527,1528,1529,1530,1531,1532,1533,1534,1535,1536,1537,1538,1539,1540,1541,1542,1543,1544,1545,1546,1547,1548,1549,1550,1551,1552,1553,1554,1555,1556,1557,1558,1559,1560,1561,1562,1563,1564,1565,1566,1567,1568,1569,1570,1571,1572,1573,1574,1575,1576,1577,1578,1579,1580,1581,1582,1583,1584,1585,1586,1587,1588,1589,1590,1591,1592,1593,1594,1595,1596,1597,1598,1599,1600,1601,1602,1603,1604,1605,1606,1607,1608,1609,1610,1611,1612,1613,1614,1615,1616,1617,1618,1619,1620,1621,1622,1623,1624,1625,1626,1627,1628,1629,1630,1631,1632,1633,1634,1635,1636,1637,1638,1639,1640,1641,1642,1643,1644,1645,1646,1647,1648,1649,1650,1651,1652,1653,1654,1655,1656,1657,1658,1659,1660,1661,1662,1663,1664,1665,1666,1667,1668,1669,1670,1671,1672,1673,1674,1675,1676,1677,1678,1679,1680,1681,1682,1683,1684,1685,1686,1687,1688,1689,1690,1691,1692,1693,1694,1695,1696,1697,1698,1699,1700,1701,1702,1703,1704,1705,1706,1707,1708,1709,1710,1711,1712,1713,1714,1715,1716,1717,1718,1719,1720,1721,1722,1723,1724,1725,1726,1727,1728,1729,1730,1731,1732,1733,1734,1735,1736,1737,1738,1739,1740,1741,1742,1743,1744,1745,1746,1747,1748,1749,1750,1751,1752,1753,1754,1755,1756,1757,1758,1759,1760,1761,1762,1763,1764,1765,1766,1767,1768,1769,1770,1771,1772,1773,1774,1775,1776,1777,1778,1779,1780,1781,1782,1783,1784,1785,1786,1787,1788,1789,1790,1791,1792,1793,1794,1795,1796,1797,1798,1799,1800,1801,1802,1803,1804,1805,1806,1807,1808,1809,1810,1811,1812,1813,1814,1815,1816,1817,1818,1819,1820,1821,1822,1823,1824,1825,1826,1827,1828,1829,1830,1831,1832,1833,1834,1835,1836,1837,1838,1839,1840,1841,1842,1843,1844,1845,1846,1847,1848,1849,1850,1851,1852,1853,1854,1855,1856,1857,1858,1859,1860,1861,1862,1863,1864,1865,1866,1867,1868,1869,1870,1871,1872,1873,1874,1875,1876,1877,1878,1879,1880,1881,1882,1883,1884,1885,1886,1887,1888,1889,1890,1891,1892,1893,1894,1895,1896,1897,1898,1899,1900,1901,1902,1903,1904,1905,1906,1907,1908,1909,1910,1911,1912,1913,1914,1915,1916,1917,1918,1919,1920,1921,1922,1923,1924,1925,1926,1927,1928,1929,1930,1931,1932,1933,1934,1935,1936,1937,1938,1939,1940,1941,1942,1943,1944,1945,1946,1947,1948,1949,1950,1951,1952,1953,1954,1955,1956,1957,1958,1959,1960,1961,1962,1963,1964,1965,1966,1967,1968,1969,1970,1971,1972,1973,1974,1975,1976,1977,1978,1979,1980,1981,1982,1983,1984,1985,1986,1987,1988,1989,1990,1991,1992,1993,1994,1995,1996,1997,1998,1999,2000,2001,2002,2003,2004,2005,2006,2007,2008,2009,2010,2011,2012,2013,2014,2015,2016,2017,2018,2019,2020,2021,2022,2023,2024,2025,2026,2027,2028,2029,2030,2031,2032,2033,2034,2035,2036,2037,2038,2039,2040,2041,2042,2043,2044,2045,2046,2047,2048,2049,2050,2051,2052,2053,2054,2055,2056,2057,2058,2059,2060,2061,2062,2063,2064,2065,2066,2067,2068,2069,2070,2071,2072,2073,2074,2075,2076,2077,2078,2079,2080,2081,2082,2083,2084,2085,2086,2087,2088,2089,2090,2091,2092,2093,2094,2095,2096,2097,2098,2099,2100,2101,2102,2103,2104,2105,2106,2107,2108,2109,2110,2111,2112,2113,2114,2115,2116,2117,2118,2119,2120,2121,2122,2123,2124,2125,2126,2127,2128,2129,2130,2131,2132,2133,2134,2135,2136,2137,2138,2139,2140,2141,2142,2143,2144,2145,2146,2147,2148,2149,2150,2151,2152,2153,2154,2155,2156,2157,2158,2159,2160,2161,2162,2163,2164,2165,2166,2167,2168,2169,2170,2171,2172,2173,2174,2175,2176,2177,2178,2179,2180,2181,2182,2183,2184,2185,2186,2187,2188,2189,2190,2191,2192,2193,2194,2195,2196,2197,2198,2199,2200,2201,2202,2203,2204,2205,2206,2207,2208,2209,2210,2211,2212,2213,2214,2215,2216,2217,2218,2219,2220,2221,2222,2223,2224,2225,2226,2227,2228,2229,2230,2231,2232,2233,2234,2235,2236,2237,2238,2239,2240,2241,2242,2243,2244,2245,2246,2247,2248,2249,2250,2251,2252,2253,2254,2255,2256,2257,2258,2259,2260,2261,2262,2263,2264,2265,2266,2267,2268,2269,2270,2271,2272,2273,2274,2275,2276,2277,2278,2279,2280,2281,2282,2283,2284,2285,2286,2287,2288,2289,2290,2291,2292,2293,2294,2295,2296,2297,2298,2299,2300,2301,2302,2303,2304,2305,2306,2307,2308,2309,2310,2311,2312,2313,2314,2315,2316,2317,2318,2319,2320,2321,2322,2323,2324,2325,2326,2327,2328,2329,2330,2331,2332,2333,2334,2335,2336,2337,2338,2339,2340,2341,2342,2343,2344,2345,2346,2347,2348,2349,2350,2351,2352,2353,2354,2355,2356,2357,2358,2359,2360,2361,2362,2363,2364,2365,2366,2367,2368,2369,2370,2371,2372,2373,2374,2375,2376,2377,2378,2379,2380,2381,2382,2383,2384,2385,2386,2387,2388,2389,2390,2391,2392,2393,2394,2395,2396,2397,2398,2399,2400,2401,2402,2403,2404,2405,2406,2407,2408,2409,2410,2411,2412,2413,2414,2415,2416,2417,2418,2419,2420,2421,2422,2423,2424,2425,2426,2427,2428,2429,2430,2431,2432,2433,2434,2435,2436,2437,2438,2439,2440,2441,2442,2443,2444,2445,2446,2447,2448,2449,2450,2451,2452,2453,2454,2455,2456,2457,2458,2459,2460,2461,2462,2463,2464,2465,2466,2467,2468,2469,2470,2471,2472,2473,2474,2475,2476,2477,2478,2479,2480,2481,2482,2483,2484,2485,2486,2487,2488,2489,2490,2491,2492,2493,2494,2495,2496,2497,2498,2499,2500,2501,2502,2503,2504,2505,2506,2507,2508,2509,2510,2511,2512,2513,2514,2515,2516,2517,2518,2519,2520,2521,2522,2523,2524,2525,2526,2527,2528,2529,2530,2531,2532,2533,2534,2535,2536,2537,2538,2539,2540,2541,2542,2543,2544,2545,2546,2547,2548,2549,2550,2551,2552,2553,2554,2555,2556,2557,2558,2559,2560,2561,2562,2563,2564,2565,2566,2567,2568,2569,2570,2571,2572,2573,2574,2575,2576,2577,2578,2579,2580,2581,2582,2583,2584,2585,2586,2587,2588,2589,2590,2591,2592,2593,2594,2595,2596,2597,2598,2599,2600,2601,2602,2603,2604,2605,2606,2607,2608,2609,2610,2611,2612,2613,2614,2615,2616,2617,2618,2619,2620,2621,2622,2623,2624,2625,2626,2627,2628,2629,2630,2631,2632,2633,2634,2635,2636,2637,2638,2639,2640,2641,2642,2643,2644,2645,2646,2647,2648,2649,2650,2651,2652,2653,2654,2655,2656,2657,2658,2659,2660,2661,2662,2663,2664,2665,2666,2667,2668,2669,2670,2671,2672,2673,2674,2675,2676,2677,2678,2679,2680,2681,2682,2683,2684,2685,2686,2687,2688,2689,2690,2691,2692,2693,2694,2695,2696,2697,2698,2699,2700,2701,2702,2703,2704,2705,2706,2707,2708,2709,2710,2711,2712,2713,2714,2715,2716,2717,2718,2719,2720,2721,2722,2723,2724,2725,2726,2727,2728,2729,2730,2731,2732,2733,2734,2735,2736,2737,2738,2739,2740,2741,2742,2743,2744,2745,2746,2747,2748,2749,2750,2751,2752,2753,2754,2755,2756,2757,2758,2759,2760,2761,2762,2763,2764,2765,2766,2767,2768,2769,2770,2771,2772,2773,2774,2775,2776,2777,2778,2779,2780,2781,2782,2783,2784,2785,2786,2787,2788,2789,2790,2791,2792,2793,2794,2795,2796,2797,2798,2799,2800,2801,2802,2803,2804,2805,2806,2807,2808,2809,2810,2811,2812,2813,2814,2815,2816,2817,2818,2819,2820,2821,2822,2823,2824,2825,2826,2827,2828,2829,2830,2831,2832,2833,2834,2835,2836,2837,2838,2839,2840,2841,2842,2843,2844,2845,2846,2847,2848,2849,2850,2851,2852,2853,2854,2855,2856,2857,2858,2859,2860,2861,2862,2863,2864,2865,2866,2867,2868,2869,2870,2871,2872,2873,2874,2875,2876,2877,2878,2879,2880,2881,2882,2883,2884,2885,2886,2887,2888,2889,2890,2891,2892,2893,2894,2895,2896,2897,2898,2899,2900,2901,2902,2903,2904,2905,2906,2907,2908,2909,2910,2911,2912,2913,2914,2915,2916,2917,2918,2919,2920,2921,2922,2923,2924,2925,2926,2927,2928,2929,2930,2931,2932,2933,2934,2935,2936,2937,2938,2939,2940,2941,2942,2943,2944,2945,2946,2947,2948,2949,2950,2951,2952,2953,2954,2955,2956,2957,2958,2959,2960,2961,2962,2963,2964,2965,2966,2967,2968,2969,2970,2971,2972,2973,2974,2975,2976,2977,2978,2979,2980,2981,2982,2983,2984,2985,2986,2987,2988,2989,2990,2991,2992,2993,2994,2995,2996,2997,2998,2999,3000,3001,3002,3003,3004,3005,3006,3007,3008,3009,3010,3011,3012,3013,3014,3015,3016,3017,3018,3019,3020,3021,3022,3023,3024,3025,3026,3027,3028,3029,3030,3031,3032,3033,3034,3035,3036,3037,3038,3039,3040,3041,3042,3043,3044,3045,3046,3047,3048,3049,3050,3051,3052,3053,3054,3055,3056,3057,3058,3059,3060,3061,3062,3063,3064,3065,3066,3067,3068,3069,3070,3071,3072,3073,3074,3075,3076,3077,3078,3079,3080,3081,3082,3083,3084,3085,3086,3087,3088,3089,3090,3091,3092,3093,3094,3095,3096,3097,3098,3099,3100,3101,3102,3103,3104,3105,3106,3107,3108,3109,3110,3111,3112,3113,3114,3115,3116,3117,3118,3119,3120,3121,3122,3123,3124,3125,3126,3127,3128,3129,3130,3131,3132,3133,3134,3135,3136,3137,3138,3139,3140,3141,3142,3143,3144,3145,3146,3147,3148,3149,3150,3151,3152,3153,3154,3155,3156,3157,3158,3159,3160,3161,3162,3163,3164,3165,3166,3167,3168,3169,3170,3171,3172,3173,3174,3175,3176,3177,3178,3179,3180,3181,3182,3183,3184,3185,3186,3187,3188,3189,3190,3191,3192,3193,3194,3195,3196,3197,3198,3199,3200,3201,3202,3203,3204,3205,3206,3207,3208,3209,3210,3211,3212,3213,3214,3215,3216,3217,3218,3219,3220,3221,3222,3223,3224,3225,3226,3227,3228,3229,3230,3231,3232,3233,3234,3235,3236,3237,3238,3239,3240,3241,3242,3243,3244,3245,3246,3247,3248,3249,3250,3251,3252,3253,3254,3255,3256,3257,3258,3259,3260,3261,3262,3263,3264,3265,3266,3267,3268,3269,3270,3271,3272,3273,3274,3275,3276,3277,3278,3279,3280,3281,3282,3283,3284,3285,3286,3287,3288,3289,3290,3291,3292,3293,3294,3295,3296,3297,3298,3299,3300,3301,3302,3303,3304,3305,3306,3307,3308,3309,3310,3311,3312,3313,3314,3315,3316,3317,3318,3319,3320,3321,3322,3323,3324,3325,3326,3327,3328,3329,3330,3331,3332,3333,3334,3335,3336,3337,3338,3339,3340,3341,3342,3343,3344,3345,3346,3347,3348,3349,3350,3351,3352,3353,3354,3355,3356,3357,3358,3359,3360,3361,3362,3363,3364,3365,3366,3367,3368,3369,3370,3371,3372,3373,3374,3375,3376,3377,3378,3379,3380,3381,3382,3383,3384,3385,3386,3387,3388,3389,3390,3391,3392,3393,3394,3395,3396,3397,3398,3399,3400,3401,3402,3403,3404,3405,3406,3407,3408,3409,3410,3411,3412,3413,3414,3415,3416,3417,3418,3419,3420,3421,3422,3423,3424,3425,3426,3427,3428,3429,3430,3431,3432,3433,3434,3435,3436,3437,3438,3439,3440,3441,3442,3443,3444,3445,3446,3447,3448,3449,3450,3451,3452,3453,3454,3455,3456,3457,3458,3459,3460,3461,3462,3463,3464,3465,3466,3467,3468,3469,3470,3471,3472,3473,3474,3475,3476,3477,3478,3479,3480,3481,3482,3483,3484,3485,3486,3487,3488,3489,3490,3491,3492,3493,3494,3495,3496,3497,3498,3499,3500,3501,3502,3503,3504,3505,3506,3507,3508,3509,3510,3511,3512,3513,3514,3515,3516,3517,3518,3519,3520,3521,3522,3523,3524,3525,3526,3527,3528,3529,3530,3531,3532,3533,3534,3535,3536,3537,3538,3539,3540,3541,3542,3543,3544,3545,3546,3547,3548,3549,3550,3551,3552,3553,3554,3555,3556,3557,3558,3559,3560,3561,3562,3563,3564,3565,3566,3567,3568,3569,3570,3571,3572,3573,3574,3575,3576,3577,3578,3579,3580,3581,3582,3583,3584,3585,3586,3587,3588,3589,3590,3591,3592,3593,3594,3595,3596,3597,3598,3599,3600,3601,3602,3603,3604,3605,3606,3607,3608,3609,3610,3611,3612,3613,3614,3615,3616,3617,3618,3619,3620,3621,3622,3623,3624,3625,3626,3627,3628,3629,3630,3631,3632,3633,3634,3635,3636,3637,3638,3639,3640,3641,3642,3643,3644,3645,3646,3647,3648,3649,3650,3651,3652,3653,3654,3655,3656,3657,3658,3659,3660,3661,3662,3663,3664,3665,3666,3667,3668,3669,3670,3671,3672,3673,3674,3675,3676,3677,3678,3679,3680,3681,3682,3683,3684,3685,3686,3687,3688,3689,3690,3691,3692,3693,3694,3695,3696,3697,3698,3699,3700,3701,3702,3703,3704,3705,3706,3707,3708,3709,3710,3711,3712,3713,3714,3715,3716,3717,3718,3719,3720,3721,3722,3723,3724,3725,3726,3727,3728,3729,3730,3731,3732,3733,3734,3735,3736,3737,3738,3739,3740,3741,3742,3743,3744,3745,3746,3747,3748,3749,3750,3751,3752,3753,3754,3755,3756,3757,3758,3759,3760,3761,3762,3763,3764,3765,3766,3767,3768,3769,3770,3771,3772,3773,3774,3775,3776,3777,3778,3779,3780,3781,3782,3783,3784,3785,3786,3787,3788,3789,3790,3791,3792,3793,3794,3795,3796,3797,3798,3799,3800,3801,3802,3803,3804,3805,3806,3807,3808,3809,3810,3811,3812,3813,3814,3815,3816,3817,3818,3819,3820,3821,3822,3823,3824,3825,3826,3827,3828,3829,3830,3831,3832,3833,3834,3835,3836,3837,3838,3839,3840,3841,3842,3843,3844,3845,3846,3847,3848,3849,3850,3851,3852,3853,3854,3855,3856,3857,3858,3859,3860,3861,3862,3863,3864,3865,3866,3867,3868,3869,3870,3871,3872,3873,3874,3875,3876,3877,3878,3879,3880,3881,3882,3883,3884,3885,3886,3887,3888,3889,3890,3891,3892,3893,3894,3895,3896,3897,3898,3899,3900,3901,3902,3903,3904,3905,3906,3907,3908,3909,3910,3911,3912,3913,3914,3915,3916,3917,3918,3919,3920,3921,3922,3923,3924,3925,3926,3927,3928,3929,3930,3931,3932,3933,3934,3935,3936,3937,3938,3939,3940,3941,3942,3943,3944,3945,3946,3947,3948,3949,3950,3951,3952,3953,3954,3955,3956,3957,3958,3959,3960,3961,3962,3963,3964,3965,3966,3967,3968,3969,3970,3971,3972,3973,3974,3975,3976,3977,3978,3979,3980,3981,3982,3983,3984,3985,3986,3987,3988,3989,3990,3991,3992,3993,3994,3995,3996,3997,3998,3999,4000,4001,4002,4003,4004,4005,4006,4007,4008,4009,4010,4011,4012,4013,4014,4015,4016,4017,4018,4019,4020,4021,4022,4023,4024,4025,4026,4027,4028,4029,4030,4031,4032,4033,4034,4035,4036,4037,4038,4039,4040,4041,4042,4043,4044,4045,4046,4047,4048,4049,4050,4051,4052,4053,4054,4055,4056,4057,4058,4059,4060,4061,4062,4063,4064,4065,4066,4067,4068,4069,4070,4071,4072,4073,4074,4075,4076,4077,4078,4079,4080,4081,4082,4083,4084,4085,4086,4087,4088,4089,4090,4091,4092,4093,4094,4095,4096,4097,4098,4099,4100,4101,4102,4103,4104,4105,4106,4107,4108,4109,4110,4111,4112,4113,4114,4115,4116,4117,4118,4119,4120,4121,4122,4123,4124,4125,4126,4127,4128,4129,4130,4131,4132,4133,4134,4135,4136,4137,4138,4139,4140,4141,4142,4143,4144,4145,4146,4147,4148,4149,4150,4151,4152,4153,4154,4155,4156,4157,4158,4159,4160,4161,4162,4163,4164,4165,4166,4167,4168,4169,4170,4171,4172,4173,4174,4175,4176,4177,4178,4179,4180,4181,4182,4183,4184,4185,4186,4187,4188,4189,4190,4191,4192,4193,4194,4195,4196,4197,4198,4199,4200,4201,4202,4203,4204,4205,4206,4207,4208,4209,4210,4211,4212,4213,4214,4215,4216,4217,4218,4219,4220,4221,4222,4223,4224,4225,4226,4227,4228,4229,4230,4231,4232,4233,4234,4235,4236,4237,4238,4239,4240,4241,4242,4243,4244,4245,4246,4247,4248,4249,4250,4251,4252,4253,4254,4255,4256,4257,4258,4259,4260,4261,4262,4263,4264,4265,4266,4267,4268,4269,4270,4271,4272,4273,4274,4275,4276,4277,4278,4279,4280,4281,4282,4283,4284,4285,4286,4287,4288,4289,4290,4291,4292,4293,4294,4295,4296,4297,4298,4299,4300,4301,4302,4303,4304,4305,4306,4307,4308,4309,4310,4311,4312,4313,4314,4315,4316,4317,4318,4319,4320,4321,4322,4323,4324,4325,4326,4327,4328,4329,4330,4331,4332,4333,4334,4335,4336,4337,4338,4339,4340,4341,4342,4343,4344,4345,4346,4347,4348,4349,4350,4351,4352,4353,4354,4355,4356,4357,4358,4359,4360,4361,4362,4363,4364,4365,4366,4367,4368,4369,4370,4371,4372,4373,4374,4375,4376,4377,4378,4379,4380,4381,4382,4383,4384,4385,4386,4387,4388,4389,4390,4391,4392,4393,4394,4395,4396,4397,4398,4399,4400,4401,4402,4403,4404,4405,4406,4407,4408,4409,4410,4411,4412,4413,4414,4415,4416,4417,4418,4419,4420,4421,4422,4423,4424,4425,4426,4427,4428,4429,4430,4431,4432,4433,4434,4435,4436,4437,4438,4439,4440,4441,4442,4443,4444,4445,4446,4447,4448,4449,4450,4451,4452,4453,4454,4455,4456,4457,4458,4459,4460,4461,4462,4463,4464,4465,4466,4467,4468,4469,4470,4471,4472,4473,4474,4475,4476,4477,4478,4479,4480,4481,4482,4483,4484,4485,4486,4487,4488,4489,4490,4491,4492,4493,4494,4495,4496,4497,4498,4499,4500,4501,4502,4503,4504,4505,4506,4507,4508,4509,4510,4511,4512,4513,4514,4515,4516,4517,4518,4519,4520,4521,4522,4523,4524,4525,4526,4527,4528,4529,4530,4531,4532,4533,4534,4535,4536,4537,4538,4539,4540,4541,4542,4543,4544,4545,4546,4547,4548,4549,4550,4551,4552,4553,4554,4555,4556,4557,4558,4559,4560,4561,4562,4563,4564,4565,4566,4567,4568,4569,4570,4571,4572,4573,4574,4575,4576,4577,4578,4579,4580,4581,4582,4583,4584,4585,4586,4587,4588,4589,4590,4591,4592,4593,4594,4595,4596,4597,4598,4599,4600,4601,4602,4603,4604,4605,4606,4607,4608,4609,4610,4611,4612,4613,4614,4615,4616,4617,4618,4619,4620,4621,4622,4623,4624,4625,4626,4627,4628,4629,4630,4631,4632,4633,4634,4635,4636,4637,4638,4639,4640,4641,4642,4643,4644,4645,4646,4647,4648,4649,4650,4651,4652,4653,4654,4655,4656,4657,4658,4659,4660,4661,4662,4663,4664,4665,4666,4667,4668,4669,4670,4671,4672,4673,4674,4675,4676,4677,4678,4679,4680,4681],\"xaxis\":\"x\",\"y\":[0.566321631981499,0.564136952175035,0.561764770716807,0.564227314497224,0.561853506148896,0.552573351367768,0.548058083599554,0.552771888445025,0.552960409631425,0.548155421656459,0.548410690089167,0.539367712846755,0.545650188734185,0.552823914583304,0.555388509840753,0.552641140437657,0.556940662186177,0.563563540481341,0.54822315554528,0.564173795426253,0.557438005770112,0.562016409662849,0.561770474727196,0.559686600764745,0.561992506556619,0.559281787639299,0.559761607157977,0.550951395864677,0.555256766362758,0.562023555984637,0.559617862111577,0.562018874937856,0.555161775128224,0.559842328402682,0.54605957215824,0.553087416763491,0.548582554267331,0.546223257617175,0.534841476448235,0.546096323596511,0.550433645545495,0.550813517728643,0.546149754830195,0.552978104149115,0.553027748431119,0.564018189176438,0.557237113668011,0.559638008908801,0.552931824317725,0.557271483037163,0.559455132145055,0.564128535346228,0.56170990210515,0.5597473145144,0.557409420456412,0.557059026711687,0.557200304997117,0.559467042714551,0.557249024237507,0.548326279480879,0.550654573924472,0.54368025110542,0.548365412983843,0.550259416370778,0.543880676338115,0.543902109502006,0.54391877957003,0.550545312658078,0.55267550980681,0.557404656237462,0.554945592224863,0.55987669760156,0.55541811482953,0.561807306141415,0.561943844615754,0.554981323933353,0.55085741539914,0.550824065897461,0.559450367917256,0.56437917799267,0.564057322726396,0.557443789740427,0.564154738550453,0.564179487599644,0.557522056746357,0.548416457034183,0.541977044712932,0.548211244986844,0.539320385759909,0.534765641711831,0.54157621377009,0.54620318099001,0.550668866581322,0.545793794069333,0.550163454483949,0.561559494284482,0.552757521453949,0.566640117932784,0.559537143792194,0.555271009557328,0.564170393565412,0.562166306970362,0.564248660571342,0.552925059313437,0.543630577109832,0.544035160198178,0.545924472835356,0.5529274414207,0.545909160377399,0.548556693760487,0.548603975261764,0.5438891850219,0.543797987600584,0.539727323454586,0.548120032512745,0.546320930097467,0.546011252747294,0.543641460073244,0.54560425113647,0.5528314411819,0.55957675927594,0.552548887438127,0.55945785682373,0.557214997433131,0.548235051189699,0.54600648852392,0.56143955409722,0.552829059072425,0.55278848893464,0.557356277553921,0.557341024495127,0.554713423199665,0.56142424158952,0.550059302500378,0.545877170087174,0.555027993869025,0.559358562517754,0.556968171463243,0.545776443968122,0.545439550013785,0.530107129214824,0.539410879555509,0.545861860664188,0.541163817509285,0.555022209882687,0.555032758092399,0.5370244210976,0.539128518264592,0.552849517136485,0.554729170344565,0.545456226083647,0.547999215784349,0.55455582411521,0.548008744248795,0.554885752339316,0.550112728901257,0.568366570632707,0.549924183829708,0.55947263167253,0.557157149489761,0.55963869412229,0.554890422516139,0.541233918662678,0.545485830083833,0.537062497755349,0.543505344935972,0.543742521854576,0.543605044548242,0.546002066886305,0.547893712412535,0.552197027186421,0.546057880380904,0.559260149289851,0.561716875139878,0.55935032705325,0.56357486169247,0.561346316730453,0.556929436693203,0.556763317058069,0.556936583041537,0.554493256286791,0.552410805487096,0.559549003268683,0.548023408743636,0.552626549893347,0.549854425026635,0.554450333504098,0.559220947332872,0.53639371971908,0.545464733530323,0.538873731079838,0.543048707507689,0.543359384705118,0.545617869820025,0.545458953128137,0.552468580577919,0.559365571328092,0.547823966823472,0.550111709103499,0.559235308376296,0.563669892867598,0.563673727444283,0.556826328458039,0.545687978723678,0.545464733530323,0.552760663111139,0.539229558363216,0.561623295725733,0.534459145243448,0.552497201748901,0.550096396595799,0.561765537080743,0.563732847672658,0.563827879718188,0.559037122268237,0.550405118648613,0.547948514103639,0.557024378793872,0.554754353822896,0.557082626749095,0.557099360071786,0.550459564631657,0.545375919106256,0.547870246815751,0.543503293606056,0.547906998343583,0.55013791240506,0.554617849338481,0.554849295814094,0.552296698660739,0.548021026631948,0.554764855449812,0.545812173740971,0.5502614887,0.556864499964684,0.559182294247222,0.55941709554697,0.556860586061782,0.555268393078023,0.563953880155201,0.563663270523685,0.55931420281481,0.543602995330682,0.530331509412009,0.528076717755396,0.536793402475195,0.53666413020112,0.552497201748901,0.561250354722554,0.561681486104498,0.561926835311553,0.561558737964821,0.550320698982707,0.538896189974017,0.541416656515682,0.554791105305948,0.543613547786525,0.550366012208991,0.552449939037054,0.543423675853609,0.550059645023185,0.552575468942803,0.554634524151262,0.559039504386561,0.563608211349002,0.563707168297017,0.552672829778367,0.550592704315643,0.556696960267813,0.557168098724953,0.552306261983759,0.543931711001157,0.550237642627197,0.545769640163579,0.552328720814923,0.545610723471691,0.5521731371946,0.541071600068519,0.54804786505796,0.554629806690345,0.543183792789109,0.545804012720818,0.545451460544405,0.548093152050066,0.538682795342425,0.547722872875535,0.547647986518026,0.53908598277918,0.547953292459557,0.548159508674472,0.550335017646722,0.547592541249708,0.55910354640104,0.561446101265211,0.558982743566936,0.559029092161381,0.554873263380285,0.543669018978035,0.538922331307957,0.55479212508051,0.547875025265655,0.5433654928243,0.554498995724172,0.534371349388279,0.547508126065081,0.554660339321593,0.561404585505155,0.550259106586101,0.550313139088476,0.558948852351044,0.564058099882212,0.561549288619099,0.561370295431639,0.565746578337526,0.568157861364854,0.563927153562427,0.561514919249947,0.56129050821125,0.563387184283562,0.561411811142489,0.554779194736451,0.547847432366626,0.543381833767055,0.543144659051179,0.552003296461733,0.550216228535912,0.547320614055658,0.556713237090381,0.547917546594189,0.565959941418237,0.565906416356488,0.561613263129605,0.554560632874805,0.556852132710997,0.557328996335523,0.552505367865161,0.556951895524366,0.561757028394208,0.545731526305795,0.557015870115586,0.55487515650221,0.55695813830504,0.561442278738351,0.55055314416466,0.563546188330057,0.568131658063293,0.554972576797203,0.548141444947535,0.548009739453083,0.541265905958288,0.538884247831517,0.541142702640621,0.556885538817036,0.554765875235972,0.559695522142945,0.563707664181591,0.552357948691541,0.550339388532409,0.557313742129313,0.559282608089507,0.557036855285324,0.557190099290303,0.56155355325395,0.559322693238084,0.568249969539168,0.561852908849231,0.559103070372599,0.563630239856345,0.561298104116651,0.563649384635455,0.563720505662359,0.559188550272531,0.550061661817143,0.552484878237647,0.538865190884927,0.550131809732131,0.550446318717651,0.556355765989166,0.556892286199692,0.554591213421425,0.552560798018685,0.549913271223565,0.54349072616433,0.552417159126826,0.557347211609916,0.552870500581779,0.547953930871402,0.539217333688653,0.543730283442723,0.559264502665248,0.555012730051533,0.561292470724094,0.563734887244978,0.561505834066853,0.563906734303584,0.556628788648831,0.559059172393597,0.556906578909634,0.539002668702087,0.543455328148954,0.538674041557209,0.534548928401216,0.548288477470046,0.550659680750166,0.543453974591716,0.557301890992162,0.55936427717187,0.572933050303957,0.56392971645257,0.561643888045521,0.561561719406679,0.563474637863562,0.568540911174619,0.559162346970971,0.559423487454577,0.561524967834066,0.556953878753301,0.564038517596126,0.561354063356203,0.550298892558513,0.554967373814733,0.561429948711528,0.552712603854637,0.541444863035853,0.552363732725946,0.54135099685524,0.548003612900832,0.543663926735393,0.54602316330573,0.564030442320633,0.553068662861244,0.552589006398275,0.557093738688784,0.561751760380777,0.557103323324128,0.563691920242475,0.561573707903858,0.554568368704594,0.555048070525486,0.561619127312447,0.5480522867718,0.55271597026451,0.559524213448135,0.55467862369112,0.552415763291323,0.552666323915988,0.55707371814463,0.563714291382634,0.557195883308686,0.557273246230631,0.548064197363419,0.55052319647569,0.548436876268093,0.55058955301717,0.550286981977956,0.552653430299109,0.561734145850634,0.547922963304435,0.548091420462737,0.550238296126799,0.55498647820738,0.555025611757338,0.561660642974092,0.564095871027067,0.548368121772436,0.538990758110468,0.550433018817338,0.559426889343038,0.564369992221181,0.562087955984324,0.564157463266672,0.561503451946317,0.561922667265362,0.543825217488503,0.550320356417932,0.55276746683282,0.539336040774869,0.543818396580682,0.545808434383841,0.541352320743996,0.539478282129879,0.545953058202148,0.543973572786256,0.564037680648302,0.561797181648539,0.557478501631187,0.559737181349712,0.564381902746434,0.561643888045521,0.564213364481376,0.562136617813505,0.557531927791001,0.559500804047463,0.561500126853071,0.548424949867168,0.550532724922439,0.554803646549964,0.552538374894976,0.543480169096229,0.559386667829303,0.55953279126236,0.550311799272026,0.55511578941569,0.546300853499597,0.539257801117702,0.545912904830635,0.543731637836643,0.552687762941082,0.550262141030681,0.557409763063157,0.559179975537281,0.563841920905905,0.557135768924296,0.557309037320587,0.563569580292645,0.563733348346921,0.55900098169138,0.552633353642649,0.552782741507419,0.552655775685829,0.552589419061423,0.552660539913628,0.554744436190968,0.552467218247968,0.563779716097644,0.550203926672509,0.548155764221235,0.554771613837192,0.55478974296661,0.548084629420572,0.543508754489567,0.543546534683533,0.54803358519607,0.554483340689777,0.550562727497429,0.541243428634179,0.552379387756454,0.552499205543577,0.548011126364907,0.543301184266857,0.545907125004579,0.547898489665297,0.548065929022612,0.552481476321565,0.550218196768864,0.547746340717344,0.561772259637628,0.557227368453816,0.547888948175887,0.550072575412562,0.545870366282631,0.543347474102438,0.554724313993525,0.536692413143395,0.540993030126436,0.527426834207769,0.54115565137479,0.541438059286552,0.541160415607013,0.543252531782826,0.543502962822073,0.550294495729815,0.561517301363846,0.563718554975989,0.563972594462938,0.561741634771455,0.564237622284484,0.548105062619563,0.5524995838628,0.552341616386082,0.557017289899252,0.55239606258472,0.552132608430244,0.545453842667153,0.552710564305514,0.552358325994421,0.5433654928243,0.544023931301144,0.548200019599928,0.547991036740999,0.55687499056643,0.548325962110892,0.541400271742352,0.543667999215071,0.552644207681108,0.565841520547667,0.549925546140888,0.554808799877805,0.550362240638244,0.548197637488241,0.554498995724172,0.552734422096472,0.55420689455836,0.540904235927154,0.55490378946985,0.545860837818185,0.554828830041031,0.552854204858034,0.557083589152868,0.557026818354849,0.548137049874816,0.563684185564267,0.561668131894913,0.561760772861793,0.557146601259601,0.557208714904364,0.552272877477503,0.54769702416009,0.557011505896891,0.559297383391615,0.558852825948042,0.5614030680781,0.550096396595799,0.559664021390568,0.554755326985366,0.556480708733491,0.543575446013615,0.554513333031138,0.561131514033124,0.561473324328598,0.556803869626876,0.559198488501709,0.563908620033145,0.561456649515817,0.561385528576263,0.563934915403002,0.561233679894288,0.563659344616992,0.561913481404374,0.568287283558659,0.558367907382729,0.538314201635093,0.525146139608227,0.520757788592772,0.521305653257363,0.534580633277956,0.548118664133716,0.534081134103366,0.529910569317295,0.552677214710923,0.580083078605447,0.584402079281501,0.552313870487812,0.502040456584886,0.457721260906068,0.471697424178988,0.528460821652369,0.517586477463885,0.453613661788649,0.134748629238648,0.125376444250797,-0.179993973972566,-0.0287740891551341,0.477019528518083,0.577533934607914,0.319947597236164,0.721807509611533,1.07278819188238,0.981458582992456,0.929136531905715,0.505075100935201,0.613729725329431,0.517071722544365,0.389623487484972,0.491919494062072,0.700318722500797,0.51650425380027,0.521126453797344,0.609693098012287,0.616586362888452,0.558881171747791,0.683872448019053,0.651212967522224,0.641943825631647,0.537532188224937,0.636232508829795,0.921222628728297,0.908363690414218,1.00495662274889,0.808880334589296,0.923456869162072,0.839752340051966,0.632171700694737,0.716780331744879,0.732770745910868,0.748938201091649,0.60244947910563,0.734346203461205,0.789683612329064,0.879595192658573,0.718949558988709,0.714104912420081,0.617890461123359,0.587776490718702,0.614672815080237,0.41887375408326,0.323134933088779,0.364225994016653,0.261596268701511,0.383118414281266,0.44726739468573,0.450755009194852,0.305283390900581,0.259227658595075,0.234658043790154,0.281684882323595,0.185842869594694,0.176292313860727,0.244194516432179,0.296290944523184,0.21716912837117,0.181183610296776,0.102247805992298,0.0756121756544722,0.0975536520900581,0.163931183510507,0.142148691076067,0.303502747881918,0.211041056634401,0.418764302179133,0.52908495351241,0.422229875843859,0.465323597508149,0.501278290423,0.484188215466383,0.375117130777392,0.333081130430388,0.512845176667244,0.668209800308948,0.435338055628452,0.454950118294608,0.562033571427677,0.577936792999653,0.691795796207167,0.834149537954962,0.854868188123146,0.931880985875582,0.922387497077113,0.781832067285243,0.898033361193152,0.578672197404241,0.454548547386994,0.450690151273184,0.352426624870483,0.465927448430655,0.404188104661174,0.382523283361742,0.483463333413324,0.466418463658297,0.541197143596667,0.626750678082583,0.748051351015466,0.765964580009421,0.848662297205958,0.865482635000828,0.969983867900271,1.04056916475512,1.12908636452216,1.12293974041019,1.15266752260844,1.24965316083902,1.14658766851288,1.22391905854081,1.09084782885831,1.14299679858953,1.12343517269302,1.11666689444126,1.11580968000475,1.07236866185105,1.02300823186849,1.07904620377616,1.09527506400811,1.00060349955633,0.987192410663947,0.868838883068275,0.850998345019201,0.775582688302635,0.721770987523055,0.657169670920821,0.705964913076426,0.635068252687485,0.55437447205052,0.598510403333951,0.637534343078604,0.644290750714988,0.673756642153786,0.639795562439102,0.712202415338373,0.708105657220917,0.686800932211619,0.629366349347209,0.641978243173551,0.626095150250363,0.643342809209913,0.675540160136424,0.673271784192065,0.662951859926862,0.607120293496981,0.586738406102238,0.568118485989617,0.54575178548344,0.551147946140882,0.598169840773693,0.608479786020429,0.558631554254024,0.39335995235585,0.317970547619071,0.212739061958152,0.0345245878988681,-0.0551875104560788,-0.151769925753929,-0.337471661842963,-0.515473341560093,-0.651906937014941,-0.747332833742363,-0.73593693827664,-0.70311698791958,-0.674572340184066,-0.414995024660713,-0.351846061965087,-0.129679988164781,0.205551686760661,0.428313716421387,0.727354378714483,1.00414341178349,1.23640485583264,1.45360626060658,1.69151659339561,1.81704668311367,1.93362304303229,1.84682673039393,1.85305205221772,1.76112877389633,1.59372318966741,1.54893269914642,1.52234151757026,1.45033526434204,1.40010107996114,1.32135788526008,1.26172164005196,1.27224389867157,1.26637559762931,1.28825691104233,1.28843949596526,1.30718845604319,1.34654664401562,1.34012544943071,1.32112992512836,1.26017328692635,1.17857707115114,1.17839391277923,1.06062367345479,0.833948902961054,0.674175649577742,0.577779933711968,0.539164876108501,0.48073587612826,0.400124654803267,0.374966892640974,0.359554886662358,0.359857750684978,0.312252851562949,0.278413025839193,0.268757161749854,0.291218446662918,0.314111368085614,0.308579208083698,0.299215486638325,0.343749896398475,0.385703363617197,0.393945973647026,0.312524375241581,0.241087664511293,0.248724045673692,0.287329049257124,0.197013750572657,-0.0677258434688029,-0.395412951959684,-0.598000971766334,-0.650101201281142,-0.775480633431419,-1.08623073519383,-1.38413475589391,-1.30463157629158,-0.802590670592343,-0.0827343575280269,0.543999766599217,1.03099468699941,1.36843164357359,1.62133864012763,1.70140958231092,1.73055765654291,1.74841785556915,1.41988880902214,0.863998472370196,0.464274441570204,0.168500016389807,-0.0124494054271616,-0.0316019942100658,-0.0338192379399586,-0.0145959797313214,0.0556666743147277,0.0827493366013473,0.166022463808535,0.142946292304147,0.221728494652181,0.263387462924652,0.410129221563397,0.746321700280486,1.21460376548924,1.67054604517003,1.94890873757802,2.29564260361324,2.6809130280833,3.06399783536681,3.27392138172118,3.12489080988179,2.73588503596284,2.30829986591674,2.00785732941389,1.68710781555148,1.49991735151365,1.43898368498091,1.43399094402547,1.61260958127552,1.79888402200979,1.9594672948812,2.05803455992851,2.07596363322486,1.98651133936367,1.85267137068347,1.65908513318303,1.48734130585506,1.32129420054124,1.13813269488693,1.02187720177208,0.928713931037881,0.857321103985352,0.814997963915983,0.77160809364397,0.74067122315859,0.67372461700729,0.614216730123055,0.573038174150933,0.592898871809676,0.674961746092543,0.706511945587632,0.635744827111646,0.658655057520693,0.884974685918302,1.28694621075864,1.60686820180081,1.84703349843176,2.05011961855162,2.16843584651297,2.48896160001027,2.92308384286436,3.0257970650146,2.67378720815359,2.22399213964999,1.80397637780143,1.45231600249157,1.24206152687072,1.08726955883894,1.02305412159676,1.05710861955815,1.12696710060464,1.18087666759856,1.21643543056471,1.24985515425494,1.36293920507694,1.57446274132683,1.6354036697284,1.66578514975419,1.78594933789013,1.75696727722078,1.72761580270949,1.59261456573266,1.33779855641211,1.08545005227705,0.889380830772006,0.708243542599254,0.675900199429445,0.664554276291863,0.707286948952045,0.787214368106234,0.866224263889582,1.00949978600035,1.15048531579885,1.28854678974224,1.39388178766022,1.47080891680142,1.50032205985703,1.47791437486794,1.41229818496171,1.3291043110055,1.28947432687823,1.19084022214031,1.10262851111465,1.05555646536661,1.04611800710995,0.997471221881838,1.00449528623458,0.943690201948219,0.843817509634823,0.835957021914533,0.830336343394021,0.868091730392804,0.926641676371591,0.935011420352296,0.921227683239038,0.953650108878966,1.00634195579844,1.08025373860631,1.13706708409371,1.11539623398368,0.982565024842962,0.779222113427914,0.623533438818274,0.452764544138875,0.282491617523528,0.103725103595884,-0.0753302821121312,-0.270179812211806,-0.310710160065763,-0.283705669615175,-0.27264377450363,-0.230629473488667,-0.17325289105992,-0.110883446689436,-0.0548404495302432,0.031551822219473,-0.0639556376307346,-0.412823483237167,-0.758413390315746,-1.15765905162909,-1.65688669990611,-1.99300081030075,-2.07422395603441,-1.43878600398753,-0.880484612753166,-0.346529597271689,0.154077041669944,0.572590821714539,0.604504488978577,0.424091394679414,0.374001643108164,0.291653373460692,0.130016122492186,0.0554069652779215,-0.0589651930834789,-0.223720793272098,-0.214262262929929,-0.159432634755653,-0.123458543951519,-0.0408586192409056,-0.001096426785293,0.134697669525956,0.530383253687577,1.06206088392621,1.65171101618973,2.07421043757521,2.51612564439816,2.59155384077627,2.16243710795023,1.56612312213458,0.854802979282419,0.329738207488449,-0.0255530341316567,-0.248613260805695,-0.168417814995676,0.0417069529291969,0.324351488201859,0.606899534137882,0.928940710837279,1.25113300090631,1.51306012172948,1.63036824564046,1.62665583043369,1.56391512090177,1.40917862913677,1.16733494660411,0.923491532555596,0.681671459645059,0.466225267520432,0.333045784159145,0.237313596672021,0.194265382497073,0.220055382082381,0.280420371533389,0.410025729774786,0.566335540686863,0.76422384638921,1.03529108908005,1.33453301743175,1.65575655674658,1.9338137847251,2.20319955341983,2.42716427257729,2.5405482281578,2.53479561803593,2.51186718134881,2.42306288261106,2.35864741032792,2.2873683029497,2.2090432516103,2.14668570842032,2.07646728321112,1.91701144354989,1.75890130175106,1.67616829115545,1.59957525461035,1.53359975554428,1.51468002196489,1.56538916276685,1.59316603565646,1.60475534280782,1.64755119696844,1.66355340768077,1.73091972126367,1.80912863525336,1.87873338307031,1.90044321173832,1.82554965249605,1.7726382004679,1.77083211642245,1.80820858603259,1.88200304039398,1.94993147613467,1.95193570769636,1.89453406944829,1.85035631231739,1.87349569749094,1.85026325067381,1.7892337179124,1.65161958458013,1.42848932513644,1.28802663648128,1.20418415083201,1.10926167374187,1.03326418452586,0.968785603107973,0.944485056901648,0.902394343323863,0.888689182254436,0.898044096141275,0.924008731509184,0.989254931315158,1.10030572847499,1.17912012663748,1.21256938005362,1.25863167639854,1.30811725576245,1.346455951068,1.3401204862306,1.27934928368374,1.20447736704419,1.0713746225735,0.940115092535068,0.85016242248979,0.774323496354216,0.67225290505691,0.575599400758784,0.474679699428241,0.392388756450629,0.329001979800896,0.221139462317912,0.105759454892302,-0.0359923711651097,-0.20645145628785,-0.377407358078298,-0.494710110358845,-0.535827682685977,-0.518844737779992,-0.457717341301579,-0.310893557476325,-0.210044221053493,0.100593476102076,0.53015563080108,1.04841224409995,1.4960281712288,1.62146587858757,1.54610018697501,1.33151691817774,1.07526153390436,0.791197355735741,0.552550289125304,0.466813519167848,0.602329641311234,0.801757931017245,0.997169020149243,1.2573597431226,1.62055774270716,2.02141243090854,2.44374781867173,2.82959990235369,3.10376687280307,3.26624288199822,3.3500879397901,3.28707855839936,3.10856005270531,2.84090023230638,2.54114713319771,2.2701617158998,2.01355052941549,1.83863179968772,1.72764198402778,1.6868423430041,1.66914112017205,1.75077572001864,1.88390499554578,2.12727009361683,2.31024729483768,2.40752790565967,2.50314594169733,2.49163707710649,2.45010891733865,2.36897137757283,2.24302712741951,2.173295109437,2.08010546209987,1.99227143660289,1.92813531957186,1.80351658802348,1.64357124725312,1.53265515322802,1.48469448897273,1.47715954908758,1.47774069607396,1.47091065628308,1.3818541563577,1.26012829138418,1.13566718104638,0.95766257228635,0.749995087400719,0.549834298192685,0.40379192374596,0.302963387285051,0.271152037797692,0.281952373203153,0.306217555099091,0.33972447713521,0.437987329929142,0.556726021508347,0.692990427974918,0.777558778568521,0.818106296408279,0.85113101200923,0.842720092805856,0.792305450541049,0.706815782314113,0.570885450741246,0.365743556174197,0.146807591468172,-0.0646929670587579,-0.188048154395767,-0.246130757990252,-0.257919155638393,-0.262223764963421,-0.234740304984136,-0.174477956402594,-0.0474225861386412,0.0790749434637626,0.306756491269495,0.531206507138435,0.735752988162201,0.862993265393093,0.892760757278323,0.803101121095132,0.677905996487475,0.568904309139673,0.468475352280267,0.382525254037088,0.332645795563785,0.32626032669651,0.438429745910193,0.649229116589309,0.836110362512121,1.0431180647113,1.27545123316149,1.55152586707127,1.7859373720219,1.99798224161924,2.17328908252906,2.32986340031831,2.51705297680621,2.66724897164743,2.83318646272242,2.93333635949327,2.96136572910358,2.83917251755086,2.61996796814811,2.33490403217711,2.06506379720668,1.76161765539175,1.512473620332,1.34531668878129,1.16631356356368,1.01778369381574,0.927411845004629,0.9212363675333,0.950731683060023,1.0141482434457,1.12389662787925,1.19806904545447,1.32251986696102,1.49557654771798,1.65901358651791,1.84676605559208,2.01771825860043,2.18458937239311,2.27952825078565,2.25416633750135,2.15595508741868,2.07914568817485,1.98898948083286,1.98328865832604,1.9893647283103,1.9815797797042,1.90230497152694,1.75915227171602,1.60909104546504,1.47787205070039,1.33363784263523,1.1573122482292,0.940159652075846,0.742556903557107,0.621191782951627,0.508859327544215,0.517842438066181,0.573562077484939,0.601647961594478,0.662776931680772,0.755907643960723,0.794237869841432,0.754530198057122,0.643416697870091,0.379581405350962,0.048178382501488,-0.338445417427062,-0.697997082509568,-0.938472930153055,-1.12630049652065,-1.21943999220489,-1.15681569768025,-1.1106073590379,-1.07161995269848,-0.876029722525912,-0.557292894132008,-0.150788994059457,0.457009594098868,1.03339421825779,1.45441526055554,1.47997910935513,1.31827735127428,1.10224776961767,0.807195099238529,0.530945017190971,0.275059470991188,0.0108054489659333,-0.172677057683458,-0.268578311243745,-0.329331619967917,-0.394704597378487,-0.45042866467551,-0.43049080972118,-0.33184373516441,-0.206414749321063,-0.0339681282176804,0.0862975628651488,0.237337689506286,0.502536797232279,0.911903862088119,1.29562882317373,1.6083367648746,1.84219691323014,1.96814113289209,2.18799633266358,2.38246908628373,2.47540722124782,2.30635071693266,1.95888111388541,1.66706972606697,1.32209430395712,1.05533100476862,0.910996937588417,0.840799032629059,0.925553068582227,1.06917469540945,1.14098018486562,1.15908504119208,1.21952549849029,1.34398912262488,1.44696485732396,1.46048148993306,1.54874053256477,1.53547944927622,1.38514446346487,1.17784484109405,0.935840444767518,0.835698645396318,0.719350097599313,0.519578612371502,0.163322376404323,-0.074578742893291,-0.28972887401848,-0.536630291499939,-0.783772699640902,-0.967444334698747,-1.05310444805126,-0.853314644329931,-0.335113121301475,0.145603438148141,0.50185464813502,0.838210680444379,1.13428127400836,1.37022743976048,1.51805139683276,1.54107863174214,1.44367393318422,1.24684346690591,1.00352546705313,0.725719783616129,0.396617262059345,0.136926473592066,-0.037037696076879,-0.151930577389106,-0.19130546610334,-0.1624058814141,-0.0754248297386348,0.0317064378073024,0.182088108631241,0.299058128245683,0.364421814318789,0.286374002210941,0.228515065648742,0.188219188604561,0.176044436710543,0.220318983985315,0.293256316222725,0.302543005547027,0.272751151742418,0.200819211786395,0.135443908063148,0.0782077354714757,-0.0198228213981132,-0.0507830687361349,0.0127650407366623,0.0857050257280513,0.250499756501559,0.501764172879266,0.793718298037246,1.16085727893561,1.56737024382288,1.92747516190213,2.146048480068,2.21030173875986,2.09513135588743,1.8783878738388,1.67471443040243,1.54830595469589,1.52015105714363,1.56398544748841,1.65391902375157,1.72250694845265,1.76308073892487,1.81016893081009,1.80109825872054,1.7722985696075,1.67063781761577,1.57100343785199,1.49694470084349,1.34494521431522,1.15601814582519,1.0571152619568,0.986348057545392,0.944914563961745,0.929250242136145,0.97671622405907,0.994823853029573,1.02557307558396,1.12502873481188,1.27625608448877,1.42389959144185,1.59080653308185,1.82136037623746,2.01073315175727,2.13467129465878,2.2125982666434,2.25168061629252,2.23881643878694,2.19939725817502,2.1596459458503,2.09878409967201,1.98691907030159,1.85854380954994,1.76344955335276,1.57081502747004,1.47131200884561,1.42619587675062,1.35787249129451,1.20498549632,1.03346027972304,0.936185087715591,0.846065946984961,0.686316549773598,0.550067376079908,0.519414593941547,0.347049543848077,0.124068191410233,-0.0002358212057573,0.0408180408466663,0.167310422295843,0.242065245595013,0.243797901978656,0.218972470668054,0.178653210615164,0.128597051376258,0.0480930336603615,-0.0666874073366501,-0.214581007085937,-0.462130281556141,-0.563324887313043,-0.670272275056759,-0.823913020659977,-0.98104114533893,-1.08237131546483,-1.07451670054639,-1.05821884187898,-0.970204811614081,-0.813507006190797,-0.590960959327153,-0.205194465492566,0.186176336321205,0.495129988112967,0.720889259876417,0.786082757928809,0.709831632008308,0.529106039678169,0.363787559533869,0.274583884943676,0.209346919488094,0.224398614682425,0.348396547426492,0.559870726642241,0.724381936146599,0.948521368249718,1.06170447297838,1.15793209024725,1.22835142346692,1.37717112043734,1.45645872269137,1.4854480434002,1.41723661234911,1.29950832894421,1.19328403905164,1.05371251430994,0.992644048424356,0.965466114311901,1.0111748067856,1.08401584670417,1.14713458859101,1.23745515766214,1.16687953000055,0.949366264109543,0.894214899813085,0.981072786364358,1.14987951353252,1.30916392968847,1.38388171080719,1.40969603690293,1.40804830923507,1.39743247713751,1.40938159776918,1.44438766824305,1.33855097007847,1.22133834701868,1.06073997227997,0.97263935569854,0.870725801253919,0.649353532966567,0.443734839108283,0.223495897404842,0.0004690703469788,-0.292633558413236,-0.612265003331109,-0.957741330845849,-1.27816979675491,-1.5117139760311,-1.60237348989364,-1.71355496933119,-1.65560656924298,-1.47284355964109,-1.05328040902072,-0.389011953663246,0.533651885461375,1.49762604807018,2.37633052730696,3.03233167787216,3.36862306202639,3.4114387733099,3.15135437064162,2.54466007311624,1.90186751210493,1.41414440111131,0.881761950981853,0.28023880226417,-0.0051483807799094,-0.0586931992441367,-0.0119742785375188,0.233351210738188,0.503980736004851,0.361569266229251,-0.0405718584850235,-0.26448774009174,-0.361973622409702,-0.131958953295642,-0.532247911839236,-1.32553772294548,-1.72817920574803,-1.67286435343557,-1.68154336980287,-1.79796901910461,-1.64560192102118,-1.20643769500225,-0.496222560538236,0.320962609359653,1.19205638868945,2.22702720523325,3.22535961842475,4.08969083297372,4.38601946461321,4.39288623637804,4.50021294149945,4.29766174151487,3.64859641889726,2.91380869542789,2.05685653490053,0.969836968896402,-0.0886244992387333,-0.95933105424433,-1.71648753636878,-2.64611796929384,-3.56957147024525,-4.06087828056776,-4.81212187930374,-5.45270287481158,-4.96551896989723,-3.90517237785404,-2.73289139284284,-1.45729202212263,-0.36129253999906,0.731072187884034,1.73114666143231,2.50996288271584,2.78219680155293,2.79522481633025,2.67703186585056,2.28997352849841,1.53335890139902,0.880070561871143,0.554161277619171,0.553096134405189,0.61890966075864,0.590745304339589,0.596431600471952,0.620840224301391,0.72945375397133,0.996422949160229,1.34365831975223,1.73029431861827,2.15228548152964,2.41191274899718,2.31150443125491,2.26706640778927,2.11739628081974,2.03352663148171,1.78403405843233,1.45944125329002,1.94124841054545,2.17854863630997,1.52799920909849,0.743910983515126,0.282625736999289,0.259758721802877,0.383377370142427,0.617214575597197,0.897787007459917,1.16825068283193,1.3282399783368,1.49634959932954,1.73669400622629,1.84009635114021,1.82943190789607,1.77880734519886,1.78647954985183,1.89352811845093,2.04652164192568,2.19984898309012,2.48928437568688,3.06775801833508,3.64915907463081,4.00609668769195,3.95047614882595,3.88241444575663,3.70314039972019,3.35699023874853,3.06092518192319,2.69284864176019,2.27151486940941,1.71235353431459,1.36812611617763,0.992515379924793,0.591692086557376,0.229726730446902,-0.0674644226800587,-0.161833807816196,-0.21186042994434,-0.224480661646786,-0.140207129139438,-0.444721621013722,-1.03145812017103,-1.53460250393298,-1.96569160623291,-2.23074068198271,-2.27483038100857,-2.26298855327056,-2.16251970286956,-2.05907759037956,-2.02677720847712,-1.85455392996864,-1.70749119194773,-1.52918709057492,-1.34739036368594,-1.12380963816423,-0.891933772911969,-0.597023437039615,-0.268840350296446,-0.0039273576976537,0.209217211803176,0.3935554936622,0.586222861613158,0.78151864424655,1.00009715381493,1.22547627817349,1.39001437618698,1.4929478742722,1.59378386055044,1.69107244301568,1.77767410101152,1.83347106932946,1.86195744950918,1.82761424826293,1.75284794646634,1.68805551617249,1.64559587249622,1.71384310584829,1.75467389847244,1.69064920670971,1.55710736226925,1.34377888779325,1.04950904899792,0.724187283009398,0.442035986046094,0.211911134568539,0.065905856522041,-0.0782265288850578,-0.232137326055851,-0.360898888753819,-0.462687476542219,-0.453722680718921,-0.505991609797473,-0.527487168828912,-0.451932955785093,-0.344638947040784,-0.198964935360612,0.0801273013148364,0.392268304150322,0.797823652168254,1.16250904353021,1.40451281116426,1.58148245292002,1.68606839438092,1.726515712475,1.71839744226873,1.5902944489712,1.42958649468437,1.3105874613294,1.23698753685595,1.18160452560369,1.1642281144075,1.16857666191429,1.21506033284575,1.34350307412151,1.42218504210316,1.44651879122354,1.46257003318177,1.48988562535802,1.53756010418283,1.58333439015506,1.58232466573919,1.57090743612807,1.56154504303691,1.57156633146258,1.57346417329683,1.57118082094644,1.5661389142082,1.54747183552399,1.55812539934967,1.55619148211649,1.61281984730965,1.70799714282492,1.79857953429435,1.92392113157272,2.10806860879626,2.29603813039688,2.37583707115772,2.33167920634415,2.22943732860761,2.08020741671519,1.89710220820873,1.76814980673146,1.65296731430085,1.5339666756865,1.47198387715608,1.4049623604379,1.32120613145646,1.26787138727979,1.21328009042892,1.15013828443111,1.15089008790952,1.17756215959424,1.23153285606855,1.23562249270834,1.19763972816191,1.15701842203408,1.07991837557066,1.04878915339061,1.05466764070141,1.04507643631005,1.04197638223976,0.99020105174906,0.947825801864867,1.01414085115081,1.13663633066165,1.34513580224822,1.55817679502641,1.80837593993841,2.00531851167326,2.17830345552545,2.24064449545171,2.20780603548531,2.19956430279337,2.20734717291657,2.1497860349299,2.07409953768906,2.04548485739345,2.06843173785528,1.95579258338518,1.95266262367816,1.96454436753277,1.97544600672133,2.04110980556629,2.15340773860332,2.290628869312,2.31396766622802,2.30355875359577,2.23013114795968,1.96929237918053,1.60225078134289,1.3507123451599,1.28419394911206,1.16922183218961,0.91530538283208,0.588920588183617,0.282164662070806,0.0680326769977696,-0.0784968172003421,-0.227729028807821,-0.313195313212842,-0.359533633119387,-0.436464348126222,-0.506934885162359,-0.565780806155336,-0.561587271470521,-0.495392293678535,-0.308900197421391,-0.128991816642324,0.0586757254066622,0.29879913806059,0.506176398674024,0.674121280538891,0.800235920380664,0.876902095894295,0.901486056944727,0.964523095838666,0.999356050389448,1.02587659165043,1.01599508726781,0.953913472744905,0.882268774840602,0.814249899339899,0.698631103846989,0.612844859394627,0.556264414316156,0.467833171549314,0.383400180486483,0.301621993415749,0.232791196085605,0.203431789164406,0.206809161350739,0.240398453138547,0.274435277372244,0.283903857298771,0.303816594500987,0.369449535875461,0.471295714185468,0.583226620828617,0.697560084619595,0.7964247679383,0.850948232442218,0.88236718388734,0.8787995723084,0.882168680997806,0.874318657507434,0.85008284793522,0.858110968181433,0.868789029402197,0.854833056386006,0.814834536813151,0.752826326660062,0.701893052268076,0.66369294593215,0.625784994904599,0.587546429349984,0.559019611698394,0.514350771339373,0.450824856113175,0.367742721586984,0.298672094396882,0.233669832973181,0.207837814521323,0.220746291605008,0.253703425441709,0.339257253304476,0.437542465412181,0.520008798100734,0.6226789517598,0.67046873018326,0.722072121671935,0.790750280879975,0.825301510834861,0.820610759154798,0.783434973100937,0.707735336607908,0.617295503417091,0.52011764006726,0.410478981806267,0.286625369614436,0.202199958376795,0.156927466063462,0.107494452223782,0.0928071759490879,0.106956075408005,0.131950454920883,0.216341802685947,0.309568666876314,0.366193192581263,0.387225689058592,0.374662688584287,0.331153105934737,0.23783725654377,0.168502489180418,0.0975983600589162,-0.042634355463125,-0.18363171139013,-0.350799749884149,-0.514575171066543,-0.696026316824731,-0.823175418973513,-0.983704339130769,-1.10940724679004,-1.20812399163297,-1.18568341531459,-1.06997558177087,-0.79584841251904,-0.519169028959157,-0.300294903984786,-0.124275184222847,-0.0224452410278445,0.0329449396447261,0.053107641690971,0.0397903067123726,0.023888608893153,-0.0065523923674043,-0.0545704237187997,-0.111156899513812,-0.140524267140658,-0.146705686566944,-0.109637549203176,-0.0258092473431924,0.0673072475622403,0.135149252231727,0.210741792345898,0.269831428292647,0.285010229219652,0.238521800967127,0.232172127020881,0.265613137963885,0.259460455751035,0.28813650662918,0.36518026336323,0.542941545379677,0.82273064655741,1.11035916940201,1.30525854839595,1.48086573056592,1.66486708702341,1.77791309656339,1.96486044675668,1.97685793288602,1.96962353200739,1.95498446542544,1.9790719242295,1.9647040097741,1.89579398560616,1.83019478331417,1.86536684881694,1.93564546428889,1.93696380276481,1.9014063901265,1.83415972201691,1.86506984277173,1.88332637746251,1.79765274429204,1.67118905501704,1.59955634318988,1.6501294129953,1.74744357431289,1.83238900653759,1.84124769230707,1.80647980674599,1.71098091791747,1.59584359949221,1.45560551045445,1.2507497854733,1.04615970187227,0.93928974016535,0.91004461586638,0.857358807762867,0.788046121444426,0.744934233106123,0.619295811436747,0.547010080753449,0.535914326055618,0.523623128567926,0.454300855265843,0.39290523276954,0.334794607990585,0.427974780016592,0.611069895452865,0.745088142825291,0.761038681123678,0.779976949566561,0.801540878746344,0.721730787462681,0.563344494184649,0.328210611094021,0.0981248138018203,-0.179857381786928,-0.506187244807427,-0.853956704810456,-1.21574387466964,-1.63907213654809,-2.06530167118649,-2.40344305629303,-2.66535786236057,-2.87458320248959,-2.98982892651006,-2.97286238604546,-2.7196866052256,-2.31924280023161,-1.83760021006102,-1.37658358313922,-1.01313478889786,-0.706393497075087,-0.509510790873598,-0.420646142076145,-0.335364875782941,-0.180895529056267,0.0134831741768664,0.0960713011808955,0.0094659998133206,-0.232450132063343,-0.391728148430491,-0.440439889220689,-0.481849145887316,-0.506139371296651,-0.482347289464337,-0.43437411614484,-0.352748469993533,-0.2509504056691,-0.0028285416196577,0.351646194723768,0.717792288045095,1.05666217378207,1.4502611150862,1.83713576173119,2.13298024000742,2.46739972304177,2.80881683613589,3.01875143813016,3.04935858290087,2.98540933014179,2.72357416743087,2.42858196733345,2.19566486665661,2.00079866134281,1.80575155643323,1.62979836081577,1.49017855627056,1.38924180081415,1.30674294750485,1.36544704397344,1.44406102637963,1.5026987250011,1.63940190150338,1.80341236399081,1.80916394767171,1.72071587576446,1.63542848350123,1.497253295191,1.31136440392702,1.15589074411884,1.03360119478501,0.856853532686531,0.583606702921564,0.39967985203234,0.385156826276125,0.390813976278866,0.324302025998662,0.298897053323559,0.389423946627725,0.487827947660435,0.573178643913121,0.636905737120554,0.691947917148233,0.736787594585534,0.748394357108872,0.713568575770373,0.659552734518871,0.520338152174867,0.29667580883332,-0.0070474847603657,-0.322975792503745,-0.690399920099156,-1.01509232917598,-1.23693642041654,-1.39306267918359,-1.39228914271434,-1.31090832237689,-1.21575867227654,-1.07695202893477,-0.931850654359128,-0.830710222752509,-0.773025180545306,-0.716200449367869,-0.714748149025718,-0.702992993501408,-0.725803070524967,-0.930551698825216,-1.17084345583006,-1.30539870394191,-1.12720482712036,-0.724408672022286,-0.396426270997178,-0.150629443798391,0.116989871827073,0.393566811292388,0.717854579520205,1.08941505914003,1.44388785077483,1.74946129856842,1.97783510846324,2.18892332310955,2.38449615774661,2.51988681882006,2.52896053943223,2.58102765794498,2.59834336767265,2.51139099531608,2.36579193461861,2.0262256673519,1.67180436907279,1.42432434598486,1.12683680930514,0.785339704709695,0.694409265519429,0.604792582015097,0.668038332521651,0.798320122407329,1.03439396435678,1.28999133610665,1.57399504487782,1.80571762999198,1.97947556692913,2.09956106880206,2.23115680537656,2.28679129300684,2.29641057555672,2.35346436125816,2.43660815722064,2.40696955833401,2.36584464639161,2.34323095844949,2.25457090659536,2.08043234970228,1.83444202306106,1.7503149674612,1.72866488196618,1.69626057132622,1.40183955016579,0.88701822071531,0.654829925211891,0.649285325385256,0.565532390895464,0.356741435649024,0.0605982912095271,-0.0924666673298706,-0.207238784638941,-0.306669198094628,-0.511655981117986,-0.602588375405569,-0.588242721208171,-0.465584937228245,-0.355412949239125,-0.239424613642578,-0.186903841600331,-0.141438789434837,-0.101987733917865,-0.143145733232639,-0.205994379027086,-0.345286896430769,-0.528287905259287,-0.744889335391491,-0.928103822621986,-1.09469295572816,-1.21480613389733,-1.27649736997731,-1.28594882986694,-1.28336451704063,-1.24935648743779,-1.25514403220456,-1.22726109025035,-1.18289913671306,-1.0476614539592,-0.846602352322598,-0.551380443485246,-0.24554552447614,-0.0227920382634945,0.156024448153077,0.25321676858766,0.325661001963445,0.413227902560485,0.424926661997505,0.411856528918859,0.435567508840838,0.515139207176508,0.632753644775562,0.782636700004087,1.04581445942303,1.39157119004641,1.6590125317631,1.92962564529929,2.13640345979672,2.14667080903248,2.08655068389104,1.94224204328873,1.66283498728801,1.31806205930896,1.0019421730264,0.688143457114225,0.431757925613315,0.127490534142878,-0.0484189966435593,-0.102866823148279,-0.0250062694911916,0.179620005326886,0.45823728464699,0.777030206073024,1.11641285057746,1.41711932265837,1.74212582545316,1.94363846379553,2.0370885302225,2.01470865094185,1.87528750441864,1.84094746818419,1.97414166765902,1.86614708098826,1.61919893112805,1.59713998415984,1.59171274469278,1.37634387666651,1.01435675238717,0.906226294921961,0.846870132013146,0.79602681858318,0.732609122976451,0.521391791956462,0.30472458093296,0.108734194699732,-0.0791840249532439,-0.383033859763567,-0.686316251451712,-0.814893159968015,-0.961265888986591,-1.05854487537894,-0.910291151281935,-0.711422670718077,-0.655838028323161,-0.62229046635691,-0.702724393006785,-0.774080794758294,-0.916775806190807,-0.955643334316391,-0.914830335333768,-0.77538392935522,-0.674108048167901,-0.559704589965367,-0.427990056143192,-0.293047508092165,-0.181640796821498,-0.116031401124765,-0.0826791784716616,-0.0549845033068529,-0.116513082228246,-0.265339467105801,-0.252581953979139,-0.101393244911408,0.149966122191411,0.428259380314248,0.735553008247108,1.0284607092397,1.35268134799363,1.68656525174141,2.03148267474945,2.24480714370411,2.39409832414162,2.3958782302161,2.25533190793165,1.96927178683845,1.75056748029269,1.43740091589125,1.08970645073295,0.791807619696279,0.575970336381053,0.413185408821727,0.331536190283539,0.345983924286733,0.526840804732113,0.746373533482025,0.944706837228944,1.25138277677201,1.61723010831351,1.872109710587,2.1566165133051,2.40082783173269,2.4579381639953,2.27669164570839,2.29281084149707,2.41271589536087,2.0857194575309,1.42181821466564,0.792254592169631,0.446025899040907,0.293875177333824,0.106124210180609,-0.113476813410678,-0.179630180280765,-0.15677680588591,-0.249113299010524,-0.378548274039422,-0.39233147074667,-0.37331431970553,-0.281676428855067,-0.178250795283789,-0.0670735561743177,0.0120771006107109,0.0112889974111278,-0.0154588485987427,-0.0531295055031252,-0.184637571219182,-0.422144537313444,-0.713780791975946,-0.985453280401499,-1.32246032655009,-1.57023398142961,-1.65658267640355,-1.55826470538656,-1.41503390432271,-1.2509275030256,-1.15897304189742,-1.08746786131131,-0.971588225105596,-0.726820127956143,-0.378922632575914,-0.093583709167706,0.243296611102827,0.586870484591154,0.916100928019271,1.29325388055608,1.57209398769191,1.77825711360255,1.9305274908042,2.00997257439587,2.0507570284131,2.040984137788,2.00211015130706,1.79745560891296,1.54593216428855,1.28048620976961,1.00433983767387,0.695589239833423,0.329872047574921,0.095683977712735,0.0535479182694097,0.171155005886336,0.40073051488968,0.722263886627313,1.17815553599504,1.68717573986241,2.05532205784519,2.25508012748238,2.25783490520824,2.20629338153088,2.13171906813159,1.96307766235539,1.82692096415091,1.78009920891084,1.7639132065992,1.78315019506094,1.75746301597705,1.67172264264101,1.59186269163512,1.40520803006539,1.18778088915575,1.01716246474306,0.959814477318978,0.883385968467565,0.678317764015574,0.565261019486381,0.557835761181629,0.374597986123946,0.163940826180483,-0.0457672983782002,-0.213378323034462,-0.390969833581963,-0.566252572246898,-0.552481576292449,-0.391900060021078,-0.0373685580268333,0.281846637348891,0.623082576055272,0.918257799789983,1.12434423466598,1.24766109466661,1.23422743989636,1.13215980107126,1.04052255553086,0.915961666543286,0.791064374277408,0.699503140803726,0.630869289064755,0.48560138808104,0.319523460500204,0.106551761452263,-0.175029690645259,-0.442926855514899,-0.692300368663985,-0.875567001202124,-0.948900465527084,-0.911038632302412,-0.810725814740617,-0.649545483412297,-0.498389771686962,-0.437071133890464,-0.462891993944673,-0.505675031632731,-0.52500838666935,-0.562754326483735,-0.633407507557806,-0.713124734732097,-0.742129117140402,-0.773221407093317,-0.757274466660124,-0.715218374859286,-0.683481656656981,-0.658065019310736,-0.634770472602482,-0.706026442081392,-0.81296449617346,-0.964491638942987,-1.10761661300868,-1.09698955710384,-0.972009809813913,-0.92096334017014,-0.923221805059515,-0.958767996118095,-0.954921759693959,-0.864410129818316,-0.766937695799641,-0.640633607613394,-0.34214261660429,-0.0742441294775584,0.240465660499585,0.372352474281552,0.402662084259371,0.471558528897418,0.526246253168108,0.525632056129786,0.404189874981977,0.242836173263638,0.132049938452746,0.0199773041087643,-0.0850391366641675,-0.121733416535828,-0.0337907854922638,0.129657783473234,0.322790476178727,0.526687694955098,0.755013691587621,0.967140163589715,1.26053540928591,1.58865807261389,1.86520110811384,2.07410386076012,2.17645693818584,2.20122517460778,2.29372198722396,2.29628558876062,2.23207871367119,2.15588557616831,2.03302763245517,1.82846557046028,1.58271498928176,1.36700868835741,1.18266652329585,0.928426230166248,0.723557775461404,0.560899778899622,0.536113564849753,0.579057577516879,0.681126437135674,0.802674714298365,0.918308739980812,1.06343286449598,1.1483120329247,1.17945779425639,1.23433454043706,1.27613689260479,1.29266585394308,1.29610748184213,1.26561197696829,1.25439212970267,1.2391067337022,1.24427540794864,1.20104971453243,1.14386230166172,1.0656193804344,1.00701324807817,1.00341807412243,1.01849729574943,1.07438891758429,1.10531578570963,1.09806438256333,1.12983228198836,1.16875663031128,1.17031338817361,1.15713929637365,1.09989215938935,1.00558259959937,0.889709177249292,0.744562443936628,0.614267233930456,0.47876820829699,0.37147152324513,0.281043328507345,0.234313444787142,0.184158176177054,0.154140338295069,0.161291604871034,0.220603523294683,0.280834396441361,0.364263859658072,0.366429890083587,0.202957942887724,0.0258642775710897,-0.132888106619653,-0.357533644995281,-0.700991731137813,-1.20245458907815,-1.48103445541179,-1.57995076702583,-1.10622110487561,-0.255258089609929,0.253757822797866,0.746255027171035,1.14747482591523,1.3562096689555,1.34974592578793,1.33321657976492,1.10943471557149,0.745884649096112,0.466061045924402,0.303196874929221,0.157176651006835,0.052248308094555,0.0524216080045567,0.0709698468458625,0.054059513408347,0.073120449080145,0.0979964667526471,0.0954093806907494,0.0966567208629632,0.213512184263124,0.57567104333916,0.956962610128156,1.27888253063504,1.55302929390428,1.86153510816428,2.22032468752312,2.53925059191105,2.64386990356969,2.6006894027076,2.44413851127977,2.06069678046032,1.70750789330476,1.4097770873213,1.20542473268294,1.1278922985349,1.24534756900453,1.34335831594302,1.37736396809294,1.44233076410943,1.46181089705934,1.49906226754474,1.51062167749276,1.40854922847329,1.23312402582624,1.02132307946529,0.850180197393493,0.734153371386191,0.659198492660793,0.58382353920647,0.422642097753656,0.308981258436031,0.299574451652161,0.340503434186281,0.485076770687995,0.505375980810984,0.420104038691531,0.533663420331087,0.767047927312306,1.14029617999902,1.38072946315522,1.45500148322813,1.47019920204164,1.49619634445137,1.58936123422663,1.88955058367519,2.17970764789393,2.53786123948209,2.871512248561,3.3066256151391,3.70889541033484,3.93360387901232,4.11200112672633,4.04509848630361,3.87816084020132,3.56293024542721,2.88606971439449,2.13779902652817,1.12723227681924,0.208734144973991,-0.445661314110963,-0.662061978367029,-0.513994726858342,-0.258622918413749,-0.0379086609899865,0.232004133166016,0.517842939550101,0.917772924843715,1.27341052121836,1.67494143244206,2.07754281605597,2.47709122113345,2.58826557743965,2.610207634952,2.65690095139542,2.47013731985954,2.18572598551119,1.88104432125022,1.62397271731609,1.43665184533719,1.16607946134261,0.895736384027758,0.830659251161241,0.733645109271293,0.593601176342709,0.497885838820294,0.541018090889423,0.555811791091094,0.591158259888042,0.61965353753811,0.595350150520845,0.521473422096685,0.382521997687746,0.275033940606032,0.265091350174784,0.250650793506125,0.229889824652488,0.149347369596056,-0.0240255169240097,-0.185363091215388,-0.619550404627274,-1.06335276322454,-1.22080853654753,-1.95356219278785,-3.38136937143591,-5.40931926633223,-6.20787271974904,-4.28794014112899,-1.67609168851483,-0.165841313771351,0.814263575726552,1.44479435735767,2.00745897491121,2.19347805691994,2.1358239931957,2.02600935382075,1.86294873741857,1.82370332099451,2.0895747744671,2.31978387681875,2.40575349452632,2.37534564560468,2.33776342287449,2.11908944928571,1.87060986599584,1.3891845097098,0.800633759389887,0.546627732078627,0.541622898243704,0.562555980949648,0.480885689427844,0.261973930447335,0.11029007131785,-0.0125491463830451,0.0649079533505073,0.233279381774988,0.400987914613943,0.463627027515287,0.528152103792155,0.619139171230306,0.861578550318459,0.92082228629184,1.16320542734801,1.52710825581723,1.74126308971012,1.90993817299531,2.07861998889119,2.22769443466415,2.26765886915841,2.1322045316106,1.92709349696237,1.65938375635953,1.4422418967371,1.29621525408078,1.17568433415111,0.997399700745535,0.782662562430181,0.521285054401724,0.271565968284099,0.0237109447888363,-0.0932327586151665,-0.0699170025211724,0.155002057014089,0.591927310073928,1.05794864954105,1.49765885430513,1.97180578551124,2.30744236011107,2.55831815286972,2.90471017885573,3.37870820362504,3.79947862221602,3.95408704437858,3.7821499549701,3.38897459368797,3.12649544126218,2.91829870688259,2.74967410868644,2.70274091331513,2.61613607540782,2.52949056915989,2.60457031000787,2.51853653808877,2.46237992037955,2.49306958350883,2.45766784616159,2.4859189349159,2.44052320154907,2.38823875814732,2.31254461908918,2.24448579867441,2.21004681336515,2.1492921018768,2.12085193323859,2.1365077401141,2.19307587411304,2.34470640937102,2.49921293199264,2.63034593670116,2.74870545851296,2.77665138736089,2.76926518548389,2.7452757614976,2.67976171030481,2.61348820720566,2.54675587569674,2.59549841670944,2.71115167126723,2.76951287281179,2.63976165108786,2.47681225082921,2.29976631472404,2.22557344450435,2.18062989681974,2.15415631282225,2.08579706959747,2.05213923585979,2.11387809743265,2.17169543992897,2.3041950275502,2.28719052506789,2.17215048063418,2.00479018854988,1.88469094268944,1.78855305419498,1.70165925098172,1.65896435395389,1.60994129174099,1.54878648870108,1.455091983927,1.36528690238525,1.26666065533898,1.19767367902362,1.1930165526925,1.20237800435298,1.1976286198401,1.29456931730211,1.48262821199911,1.52739417967534,1.42405514896181,1.29001228578925,1.16883045257543,1.07354708460272,0.985759063182073,0.831643612542527,0.638922068552117,0.450027227061615,0.338075432314586,0.270594701309937,0.194627327297322,0.128824102110437,0.0899264405329966,0.104496903476617,0.188767628787219,0.298660921153245,0.394537844410102,0.427643582601895,0.512022429616164,0.583039475817162,0.657982079209737,0.708706545604855,0.735062256103435,0.721104388694985,0.694807267637035,0.634322164940492,0.567260828818853,0.541594000400972,0.500032700734981,0.474629875912919,0.436401496366532,0.405261031816347,0.411760359035454,0.430952202692904,0.445046767395031,0.475395565252192,0.505978043935914,0.540482336753801,0.560850377879291,0.610828304893394,0.671302339474063,0.713105436896131,0.731413656460541,0.728777414242496,0.723276387315849,0.719144299643122,0.706822005002802,0.664420160711894,0.535321171949176,0.374643943385956,0.182658506624071,-0.0247624414808604,-0.182847796686392,-0.380617005247722,-0.612130844296384,-0.777908502550501,-0.819275349089629,-0.826482960741673,-0.808484091191825,-0.723551472138972,-0.64009043093711,-0.522858179291139,-0.353635219460063,-0.0376895935270669,0.320505282288544,0.737649848977825,1.08535750400183,1.18346251514957,1.21349591919845,1.22761135484617,1.18767170360111,1.11298757137899,1.05904901314585,1.09548491337375,1.12681209389038,0.980718115323413,0.843380584412642,0.766963019909142,0.809845766441849,0.780850946629345,0.792610410981614,0.794334722339654,0.779720203330268,0.671513026277736,0.607053947499779,0.630146510178418,0.708274550212187,0.702516518049159,0.721399105282281,0.740538915663267,0.703390908251919,0.788672347279669,0.854962910308789,1.03466385304169,1.10572171579803,1.13637573108146,1.19819035559152,1.18673697897325,1.13916191162233,1.05611965123769,0.961284393795057,0.911696864814702,0.767432749681218,0.698152479620463,0.675272501958698,0.634025116282792,0.592352664426073,0.608282205880541,0.621387463173053,0.581099488619194,0.819758121169725,0.592845889850673,0.568358440596593,0.507165100301743,0.495372934286527,0.504597589207584,0.62993751060321,0.718411965495078,0.859149368587058,0.875661703733538,0.874726237319917,0.810461375511901,0.800007890736403,0.738201588932704,0.697560415088537,0.649943258247623,0.612838468292802,0.58068246660041,0.53083997376339,0.432268534065879,0.374249516304031,0.344866949730642,0.31318309288354,0.256352031185542,0.181880451684458,0.0970529905807664,0.0367738441479971,-0.046278042203351,-0.115358789180126,-0.191548930646181,-0.213979146529176,-0.149896787984105,-0.0484531982688307,0.0340557247704397,0.110568788717433,0.176507183644513,0.208515869873348,0.245928263549615,0.26127890805958,0.255572043870858,0.246717798395822,0.246830352410861,0.235932485480746,0.252924234136244,0.269174145660829,0.30591884475827,0.293927927347737,0.268237650409506,0.23295377791968,0.173503348016656,0.166494191996213,0.166285337364675,0.167041565064199,0.152053574011679,0.139311718991652,0.0942110448518165,0.0259498554078098,-0.0177003259616583,-0.0171736876713014,0.0243119266542029,0.100417124067378,0.171350785268357,0.205015658499646,0.249290202070538,0.371432186011682,0.50334025517308,0.549132596672398,0.5249972246914,0.525061456891815,0.561234430243228,0.628149033875585,0.752750657479595,0.915865641719332,1.08960495072775,1.20326296850631,1.29322020297143,1.35451901417685,1.43597548557231,1.45916219748442,1.45000994760262,1.35459648104395,1.27642763479007,1.18751450973193,1.15594447920138,1.06043013412099,1.01803249112242,0.863175245935349,0.751899547294017,0.660749281015397,0.639686758452362,0.676628869474938,0.706874353145647,0.737515465146185,0.774898771160802,0.788096624453842,0.811601374669745,0.764418712546286,0.72425487719515,0.714784913661377,0.731147457218344,0.674254828041257,0.587993704161189,0.523519892057488,0.430570299100169,0.386233049789617,0.362880238095314,0.329017896530119,0.416257864961568,0.496533707546463,0.630411936920172,0.631854896742573,0.597694176387576,0.618785967576111,0.579047058817385,0.55177404682725,0.430876061186857,0.283746433117029,0.123280705550116,-0.0159963219082891,-0.114239745777605,-0.237447610899067,-0.220503074118026,-0.217845545997501,-0.3017559511028,-0.341319847123109,-0.314327185154911,-0.308116932046783,-0.296851773062992,-0.219517995969955,-0.110912341435873,0.0360362352394262,0.220948851610565,0.356591093960401,0.363067444042245,0.318575511110544,0.120819531731099,-0.0938114012451419,-0.212197295525782,-0.460782537575981,-0.611719322033348,-0.549112589025378,-0.686890563048322,-0.938535891420623,-1.11796248234926,-1.18368966968145,-1.06511627224197,-1.06886678615195,-1.11306785094704,-1.22166147854129,-1.38126343408269,-1.57920276388547,-1.6051974545903,-1.78946125672687,-1.56054505757389,-0.895455995562257,-0.423585490903273,-0.0354206188950654,0.427195348105809,0.804303300486679,0.90488917215216,0.945152658712103,0.991322400365279,1.07128077836195,1.07629883033292,1.07335683564988,0.971832927589911,0.964731596114406,0.981046882671184,1.02262812340541,1.07891387247537,1.23998281389825,1.38226118270303,1.41911745495973,1.45820332192725,1.63651417002792,1.7730473682504,1.8559799948759,1.96070007293809,2.05117341823138,2.1149760100868,2.07628477463173,1.98968124672829,1.91076786354934,1.82052508277657,1.67448059925439,1.51145016407277,1.39041602768248,1.31250404373879,1.33937597729497,1.38173457896084,1.46471902154099,1.52311078220443,1.54786247155711,1.58398294827024,1.61425800728801,1.65075850967621,1.67413670913063,1.60299434054112,1.57424851174909,1.5295775902751,1.49968444705171,1.45026295321017,1.43665600666582,1.39622365218115,1.3380686098102,1.32946354421135,1.3123568642195,1.2659261843824,1.19584555768311,1.13526128394516,1.06302593597269,1.03048832985659,1.01619426498284,1.07012694795817,1.06079804611653,0.953963241962489,0.750972163421654,0.631572471224671,0.652728500795119,0.684589086225747,0.390838386679556,0.185063837535365,0.267391153198619,0.217183025475281,0.222737668039174,0.0039935207529248,-0.165641526246446,0.288551676968581,0.873030262586416,1.28074750558408,1.71337111921759,2.10088305683743,2.9526591837224,3.93784018876359,4.79704319157304,5.15879097459105,4.61637427280338,4.18058947111674,3.27718259381829,2.28777060614075,1.63571400861325,1.25242696527564,0.884990778833135,0.691971402628613,0.628886840161613,0.530088882538383,0.349296442313522,0.258040387352518,0.239654397470406,0.18814478282715,0.0822363571430539,-0.0304954068800163,-0.198975213578849,-0.257169198233364,-0.217990059372676,-0.101705152167037,0.0980304222292792,0.296974517040661,0.520626348633326,0.782506886750787,1.06604866940734,1.37038512770105,1.61253639654032,1.79377139557334,1.86209674486389,1.86847769938678,1.8075612787837,1.67280403003214,1.56639582484567,1.40409460255192,1.1750713730692,0.981977270567715,0.827487975097882,0.69101836445485,0.600084395983834,0.603787405943402,0.656130773688692,0.655303896674332,0.68180908463401,0.747642895113396,0.824812094754453,0.936222218069268,1.08014901371749,1.16268617704553,1.18718061653711,1.22203312165251,1.16944649417994,1.08362917156404,0.956208366258193,0.888915295226628,0.823369192145039,0.730722710838193,0.692253984543742,0.686103731652591,0.586229648577472,0.396036617164907,0.194147552423971,0.0317229280894968,-0.101889568959754,0.0084898434488794,0.12561059857239,0.120523009035956,0.097861491617379,0.0381238889174764,0.0355624294409836,-0.0371604464919947,-0.212061544973896,-0.453223919333149,-0.799670707825929,-1.07043000340504,-1.42799094101861,-2.00140163036652,-2.43979885128728,-2.16740294852742,-1.62410041023709,-1.00887317535776,-0.629701076061324,-0.465527012792168,-0.405647937644343,-0.40548385618211,-0.302544274740068,-0.134061744248558,0.287209841732966,0.71740701396888,0.941582513460828,1.33736037885226,1.65595520784264,1.78446868673429,1.94235572636449,2.31067480047804,2.68214960147228,2.87541165415266,2.74298286659291,2.41380878021639,2.13506676796683,1.85889244315012,1.56428849986724,1.16321499476164,0.759307163251394,0.329565853245348,0.0371281908365562,-0.0538093024978081,-0.0181250208271738,0.299332716189916,0.609114113195822,0.973349207836548,1.30035554096823,1.67162737326874,1.90879134386354,2.07480830971306,2.14352437611558,2.05808660948649,1.86468266429995,1.70492068201543,1.56713845782307,1.41802671465478,1.34751800839434,1.29014415565396,1.18429302229322,1.0800612912299,0.969418245794303,0.852315470775718,0.745529219034418,0.659623583914356,0.572679939508954,0.511136761914195,0.446175505705393,0.379323237814519,0.277745426887611,0.261340081701845,0.246960804250132,0.394469602390426,0.685924494882716,0.822522324150553,0.807840095353525,0.73034385145467,0.541227300624799,0.779906254359961,1.10610258068458,1.57414516333528,2.30655277281122,3.2438408930023,4.17963869611239,4.79234450226436,4.53673590127239,3.97296524647244,3.33163539717037,2.59010867614984,2.03451950655517,1.46380200497201,0.919981714180677,0.64953724274897,0.573785282570686,0.592657103128716,0.709678418573919,0.922926744977824,0.905231271608671,0.836984987455869,0.669964955196583,0.532898530380691,0.484734473277323,0.408814432914586,0.164578881687187,-0.0538169724807906,-0.124544370060108,-0.0937407949101492,0.0011261633797827,0.155272404916917,0.359634302610076,0.584436767867012,0.863099250471685,1.08558462480705,1.29920281348756,1.51513953537081,1.77154856611064,1.94716722788262,1.992573805963,2.04904217028247,2.05037411904101,1.98151282501671,1.8834137727641,1.72346128079454,1.61844248334056,1.53480168741775,1.46593710669791,1.44184454478026,1.37059203420474,1.42706795046366,1.43841975724525,1.48658689653443,1.52029751125226,1.54684449241644,1.56636753656722,1.63241595446076,1.57053641172187,1.46990104450578,1.48475036061349,1.45084134222522,1.29631850867863,1.10228392635574,1.03212342468407,0.791406557989253,0.51850637758444,0.258447074970232,-0.208257845071233,-0.826145805941475,-1.48135468971743,-2.17588483255446,-3.09126978928124,-3.98074770779727,-4.95311255518335,-4.92060365930019,-3.74264056631722,-2.54376973124078,-1.49205365807796,-0.710707467328485,0.0078951089045152,0.322192008640979,0.756900517505692,0.936326960721995,0.910526100801819,0.897567458384156,0.94835735748259,1.12765446172243,1.12403855029971,1.02937252465227,0.956083225426842,0.984473712720585,1.02403401308105,1.12774169420134,1.25874790950453,1.08211243898341,0.828410275221188,0.531549262564434,0.276195695192295,0.140133146467583,-0.0779137555199072,-0.24660178797688,-0.343761835165919,-0.254177918357898,-0.11598655148769,0.0764103889645231,0.247967759951279,0.406765595750616,0.603509887482738,0.866211925281856,1.13980220921015,1.39542704101138,1.57135202998875,1.60094294877313,1.51174485382789,1.41012308728166,1.24980349702136,1.1086723997496,0.957013524562973,0.85477171028501,0.801522928790621,0.733527237582521,0.64751448618208,0.584581723537082,0.519080232212475,0.50084692587636,0.494168153115366,0.530243552507908,0.66209350822059,0.878138665028523,1.19681960734088,1.54286577702594,1.78679944056586,1.95261688762437,2.28152204796176,2.86672015574239,3.48949084784805,3.7372097338451,3.5031616219549,3.02926400821571,2.6556630962314,2.37237851235409,2.16329927660008,1.95849984519283,1.73374086358862,1.53547874907142,1.36391528474482,1.32307710706479,1.37760022731373,1.4679532551126,1.51571014358709,1.61496583317694,1.65056316353927,1.64371749939563,1.64748445399975,1.63503777217736,1.57971787546043,1.52515327247569,1.48896365561322,1.4941267596978,1.48366508606814,1.51855193033286,1.58546262490737,1.72069538672032,1.81733527160403,1.88279353081122,1.83596799782179,1.74827663304027,1.76034013354097,1.82801237749783,1.9644968312742,2.10078625620016,2.17127277623928,2.18751859174524,2.15876698910628,2.13347870190468,2.10438845146762,2.11842431394554,2.12440183925753,2.16673454479732,2.20960677127961,2.20655336926558,2.22871679119352,2.26254978341981,2.25352822155279,2.25160030853013,2.28903684581652,2.24346839802532,2.27832661366311,2.31352881675798,2.09517138340323,1.8966188546841,1.79286340434521,1.76748025164258,1.70015973873813,1.53410875651391,1.33753272307112,1.00865660892281,0.605861280093551,0.290754155677779,0.107607094341779,0.0832256533008826,0.054974213508352,0.0554243357850891,0.114484000074366,0.311205779867408,0.565736212318085,0.85560781796046,1.122797582269,1.34836953266533,1.44172595534973,1.43513284845758,1.39906689460771,1.32234553787515,1.23820016216641,1.07749387255097,0.841745354695181,0.575961393089174,0.310239880509498,0.0993094429530707,-0.0876758587286264,-0.169963074461603,-0.137601353288803,-0.0006695511138565,0.182630319961582,0.424080066796246,0.783509573645652,1.17441955056176,1.54573513621813,1.94231774758283,2.27681584624882,2.48161383813028,2.63939156468353,2.6022871500727,2.36155503021471,2.09660319502559,1.85901140809303,1.65044329817764,1.40261667784598,1.14477633016244,1.02607170445504,0.873337181465941,0.766018010756159,0.700204151312927,0.706117943679302,0.757024936558798,0.861241217817528,0.974341805994754,1.0914886209292,1.20252278954626,1.31532615219551,1.39011129229805,1.41237311843101,1.44357060258097,1.45279878983086,1.46720972806075,1.49153986687917,1.54385660758617,1.60585276465963,1.66293994361198,1.73976808693863,1.82574954032712,1.9101270343798,1.9956923914355,2.07588720742912,2.12833400627325,2.13366807188633,2.09418679700974,1.97326936496129,1.81045698022882,1.64546702290069,1.61150352968467,1.60782512494296,1.48622227385027,1.30636152167599,0.986511052152169,0.957391972536622,1.33538748698759,1.63250336903,2.1036740642609,2.38535218160295,2.64836359184682,2.8274905410261,2.66138800331189,2.38534825388529,1.92355637477194,1.42974480581825,1.04642809354208,0.651363552992119,0.309569571852321,0.14738535378804,0.0989512687845732,0.186514869957328,0.248593977647003,0.403091319710067,0.565873478976321,0.730883011581406,0.846895009048348,0.943659489034877,0.954121308311807,0.836877611857312,0.689226613273637,0.598053738082338,0.489363567966285,0.427287521905417,0.397126404167128,0.299320480461574,0.213687729842266,0.221407356688997,0.378441636981775,0.62142895888994,0.926070377252103,1.24539375107408,1.51426099155059,1.65830041835704,1.81283695840162,1.89868576065992,1.84959853051898,1.88753495911929,1.79820971471555,1.62365840646572,1.47589098179306,1.36263450290427,1.23799397662097,1.22681370219819,1.23783136807561,1.21243789491514,1.22370223319803,1.18250272958898,1.25627208888766,1.12366960297879,1.09858483601162,1.04727150531474,1.10938125455035,1.15762681730369,1.30229861378907,1.48898216656609,1.69727018763029,1.84065794467242,1.94639618656046,2.00183484480141,1.92244178552905,1.84933123817455,1.66735522342697,1.3934897860384,1.12848354737056,0.90284259465136,0.653516579162065,0.372392142925313,0.0974600734199515,-0.0991031650482347,-0.466555251923174,-0.904245877245799,-1.39959363640062,-1.97569575890857,-2.74397362020276,-3.51541977069868,-3.79532981134962,-3.54009431936424,-2.61772559336911,-1.39536411734537,-0.512508836338536,0.240424942899143,0.677862765819057,0.973003370449037,0.995585954545575,0.707394922928409,0.704277161344029,0.855465465256309,0.960809322822475,1.00100599574214,1.11910945865254,1.27602752735115,1.50347309821631,1.60307978246584,1.57042957877515,1.42408347337625,1.14945822371227,0.889602111691289,0.74819805848291,0.642671632032424,0.657698208382284,0.735468621033269,0.76030992928314,0.747070123495237,0.542313299387741,0.430080053646949,0.322587310249888,0.370379092788255,0.376578676685994,0.481281077407928,0.695161156916573,0.948821681349796,1.19051378623512,1.40413722416883,1.58327332031195,1.65296200832215,1.68503605529933,1.6930943365037,1.79755951561494,1.74801919420563,1.69661198397106,1.58935416332186,1.48434228603541,1.37506695026374,1.25990283462674,1.18076753788906,1.07163764436696,1.05699714648639,0.992570117847625,0.816149500965723,0.578045736870122,0.338255415905579,0.190938474254358,0.177126079305311,0.147115791458365,0.0302735818811372,-0.0490938198631571,0.0003699570807605,0.0030281726933322,0.218833525043937,0.366413755870516,0.371610737915553,0.485304743963012,0.650788986739791,0.904679787507592,1.53354747333775,2.15603802700716,2.8096808303939,3.57238439889051,4.11758247951783,4.24810160658514,4.35286768722219,4.12473713617832,3.84961293533693,3.27932093881344,2.67452037824215,2.21839610916338,1.96574317684195,1.76137641011599,1.75784806569103,1.64593779606121,1.55031178962784,1.34082445343417,0.8987578125603,0.365658699938016,-0.130641611635393,-0.439479457247063,-0.519685721910083,-0.529006769280979,-0.447479251083704,-0.303721269918229,-0.108593513890681,0.128496263807187,0.44350529382425,0.853534446552323,1.27729804506065,1.62429999119658,1.84040807001797,2.00209310548012,2.08326088484357,2.10845420342925,2.00697564701233,1.89751764769569,1.5979549663633,1.29803716861083,1.07383858739783,0.8631929367202,0.729212997980134,0.66285103511572,0.674356575817419,0.66353272764854,0.619784479033036,0.574968325630719,0.535350334271257,0.511011331287863,0.517238427592257,0.528301880808324,0.586250537818582,0.61191574970445,0.655518265439994,0.759274494310803,0.823064281202273,0.897448828442669,1.01922927461465,1.07935925193964,1.13713051693678,1.24457700661378,1.35514800977045,1.39878191852992,1.34154889717146,1.21196196774893,0.933323304249022,0.642450025323411,0.397608641155941,0.119626269955801,0.0595734461910165,0.146669480920848,0.107928943080348,-0.0660084985454126,-0.260922231943175,-0.500503870850206,-0.798152748406271,-1.03844643335185,-1.54223518608501,-2.2234865206196,-2.70079989595185,-3.58596839696504,-4.3000684791757,-3.41452470344626,-2.15423612843997,-1.32524395177685,-0.649225537346412,-0.0156292043841593,0.39530342804293,0.566884686851337,0.824667619106852,1.16371659821069,1.53638331425847,1.98187894152765,2.45971503613829,2.86071248572587,3.37850394415842,3.73571177500771,3.86499170272129,3.65148258701122,3.09046839383741,2.38576506679004,1.69864703362338,1.30612323608881,1.04424626296281,0.846855000594128,0.73945139352028,0.726563261552154,0.617816077350969,0.535569665379684,0.431800417105071,0.395456472934533,0.399755122070371,0.42209832687317,0.531681624061706,0.784996639585879,1.16379813448174,1.48892097200398,1.77677417188569,1.99424616722042,2.14454448322424,2.28143953197732,2.32558408146579,2.15118247061916,1.90749467869893,1.70025780103948,1.41574630824245,1.19024537546651,1.06938070689,1.02692749052224,0.988110306793165,0.978429958082301,0.920214043242802,0.802974728658007,0.627650537230221,0.411672561896833,0.215553321969097,0.15679094320988,0.149450283138256,0.151176807996695,0.0284290705188498,-0.0966753160708537,-0.136377890137799,0.0256982145804128,0.35632668265035,1.00263908318684,1.87371925294166,2.56303077064479,3.29874352037173,3.76867230397894,3.62573078432652,3.03604051034729,2.92192752096152,2.7497415468739,2.40799298904534,2.05092374306752,1.72650596434219,1.49894231685119,1.49514381127917,1.56710248128653,1.6008257541851,1.64507106037198,1.62990805933793,1.38444483138298,1.0119439586745,0.649112718872375,0.248420859546864,-0.158257928636705,-0.52429436385938,-0.579963955471447,-0.452018340604629,-0.278729230139451,-0.117386148229462,0.0229262106990449,0.275922221550148,0.668147588015286,1.07307083703222,1.45918828146937,1.87508567047127,2.26498064762494,2.57313225854686,2.74072536493896,2.77847484611676,2.78673901475096,2.59477417212184,2.32460596739823,2.05503200865375,1.8435406777271,1.62556066175664,1.38072837880765,1.13532498949695,1.02536052994826,0.917862107603851,0.642586430395572,0.416680370538464,0.266560563478477,0.173432419913685,0.260221298570223,0.296962548622783,0.453098178534274,0.720970140878185,1.00288788785021,1.19136248640347,1.22725183543035,1.13322668449078,1.02396152556769,0.807201787255699,0.595886426998133,0.356787154354341,0.107474857309394,-0.0772090562053034,-0.0355476828654765,0.1077185567894,0.164795194045609,0.0041044421404099,-0.233313534240538,-0.581567748793615,-1.0431120331905,-1.49067416446178,-1.94556462355599,-2.20966074648199,-2.6714493539751,-4.0592925812568,-4.79371373708047,-3.69657180903819,-1.95232989418384,-0.638505371015418,-0.0389052347170661,0.320470647518709,0.560057296153333,0.844076967256174,1.57670011202977,1.85701107023425,1.82492142781287,2.18340691192115,2.69303244010744,3.19009286373625,3.67405247874982,4.07998475700975,4.1010109768515,3.53201430698244,2.88127921519611,2.143695810164,1.47112437541903,0.948597592269962,0.606649681485814,0.44860615496753,0.266025458805331,0.106703358528949,-0.0082828192912127,-0.0598075508256321,-0.0278298420140406,0.062599992204999,0.22358193497786,0.402049349882536,0.630605199402361,0.963434433675795,1.24450964594752,1.56823484925138,1.94744049508391,2.21787365043894,2.44694050470112,2.49394349287169,2.35724276810349,2.20574908740304,1.90737263820117,1.54967321035889,1.30294807665521,1.26707919908656,1.23696104363924,1.14848735499972,1.02437039691316,0.858708432176235,0.679319330113837,0.522643699867666,0.474853810646789,0.382526467299132,0.237466673344326,0.149490650938395,0.0447812355041174,-0.121206958836569,-0.31771024436027,-0.612201607517765,-0.597854020469479,0.0250182145447636,0.631479298747405,1.31031863115736,1.91559386302502,2.92232150978143,4.17613657602485,4.51749742249045,3.85505800462422,3.55443823000872,3.38993643290561,2.95841392062372,2.46691014516591,1.96905206926372,1.61367553749343,1.46521238618805,1.37721800202844,1.40938472042036,1.3073648841706,1.05471099775544,0.772320667377803,0.541119529262901,0.148106008489657,-0.513976902511208,-0.972674209628806,-1.08930548500221,-0.934250112717918,-0.711123650127242,-0.441633216926605,-0.170551676748061,0.215309009698915,0.666064739915018,1.24126229617972,1.72334940066534,2.1050480588601,2.40990397554625,2.67950675398295,2.68969722356847,2.67612442766365,2.48402539694938,2.27008303364332,1.93571981199657,1.59224959386445,1.37758911984872,1.15703976921861,1.00724871402691,0.98210638625547,0.950007700538293,0.897324314810743,0.83063662155942,0.7898380065454,0.827057657186645,0.890856727238363,1.06100269138124,1.19138165704713,1.2776619690758,1.38546774477696,1.5970132195413,1.75302903807086,1.72770820710048,1.60374502087761,1.40454198053227,1.14718253827176,0.799243999355362,0.452104515732937,0.0890612335796487,-0.271040499062462,-0.463386314327466,-0.498300022629029,-0.442496023802634,-0.284566543148679,-0.198953387583321,0.0045049073319829,0.17815779454403,0.159188742379645,0.0167152880483829,-0.314427640807398,-0.604619485618871,-1.1130938132783,-1.52584215714144,-1.8472432340684,-2.66729336466906,-3.69403054045905,-4.11151013077554,-3.13096344407544,-1.88673621645498,-0.986355460145868,-0.161331188739437,0.277060866268636,0.293331824871302,0.26415227493273,0.544057479206682,0.850112635496548,1.06755833812535,1.63204792049916,2.22446334250429,2.93522251613887,3.62829476228157,4.14985465543097,4.22627994238879,3.87452638751436,3.27247161493088,2.49702865035978,1.89892368848094,1.39865578622957,1.00900255882861,0.624085051146861,0.172968582024175,-0.171610247297844,-0.364273091617905,-0.429419885660268,-0.380643652782558,-0.277808929905669,-0.0083913083048423,0.370180162757707,0.770638156701217,1.05463342303525,1.29504262569955,1.44123275297033,1.50989750101677,1.50080663380498,1.48075826288399,1.44450335201257,1.43308067288666,1.43414623262365,1.36724243954658,1.28294334800306,1.18060781036692,1.09084700213211,1.03764785719318,0.990432243484872,0.932936696887641,0.884238183412391,0.816353854981325,0.76711337329257,0.658629154116169,0.521693216129956,0.382156800198817,0.30715976964117,0.391485040906941,0.511621081519105,0.627446430139023,0.617311636580884,0.602789078526325,0.53255630679591,0.755946567510909,1.11514017353323,1.43502940361971,2.1203426464607,3.19564292320202,4.50334240651605,5.65675781733241,5.99670439576123,5.29021778498684,3.7635591562961,2.77634722257465,1.91309842912007,1.19566295254571,0.653463397840854,0.329225396689472,0.246547044890742,0.274969867225401,0.432964269097929,0.581210213952759,0.723043353640559,0.915700341690517,1.04529369187764,1.12078437043855,1.12040027805747,1.00674078057076,0.684186484017266,0.384083996297411,0.316813000435561,0.410301266635987,0.502993231217113,0.642403644493759,0.694641595753178,0.59627619593402,0.586675902095331,0.819689732966643,1.17034144314831,1.45940968595488,1.72841841773968,1.87969548047364,1.89363304193838,1.71991782163978,1.61798517910245,1.44018978781739,1.28031077197765,1.22011141203486,1.21578919211672,1.13475955110738,1.119719961246,1.09758818493065,1.08587608112077,1.10579884475971,1.17995803638155,1.05259744369078,0.903194146899479,0.832474103136554,0.617923351536442,0.548305641714657,0.583604754789685,0.721985546209464,0.924579159454988,1.08350789401127,1.16350898412868,1.24074311767868,1.28553649827931,1.26575809798249,1.18302672388906,1.03546344274668,0.761397326339682,0.43751675144548,0.0347955646915352,-0.346996658116211,-0.608899073613979,-0.708585250365656,-0.759423512859969,-0.724131443363061,-0.260551199982188,0.337905247099563,0.565541683775728,0.468586123821143,0.778989103790193,0.80425891961904,0.308120838878155,0.385433185689383,-0.0298181619158658,-0.883047246858901,-2.11305679302007,-2.69582024016569,-2.29927991311482,-0.867844039401923,0.518716120480601,1.2931162049538,2.02809747070206,2.38522842682019,2.43296933741869,2.39679899425525,2.13954284086396,1.96317672259478,1.68128293062112,1.38864985009518,1.10515860982954,0.863209737457977,0.810534764266257,0.851254276859247,0.810981573457727,0.739457952803456,0.614029459389898,0.489072035486525,0.431363179586696,0.371619134031802,0.282688092261988,0.174134352318559,0.288862321466887,0.442414959734988,0.457040444403238,0.492526622918515,0.637781612807976,0.728894529694865,0.82289691050711,0.945776733336483,0.954911089678169,0.995538963065317,1.17186718782595,1.41560599573067,1.6829961715637,1.77351127570131,1.72872977281388,1.56615319549463,1.39511447456739,1.23885119596396,1.0486545633115,1.28278612269491,1.59175806595741,1.99434322807504,2.64440924918813,2.6701612360357,2.1733952549666,1.43880080980836,0.951746466344489,0.733067308499743,0.707435870450358,1.09749077633083,1.94347698374142,2.55697301966922,2.28514656706933,1.52151840382251,0.78441104215099,0.286134810886576,0.0432631453434814,-0.0302348409944662,0.0031754193371568,0.118179448752073,0.263837361177531,0.467242374388013,0.901596726276339,1.31412316964978,1.60705464529598,1.80477961376521,1.9301389946599,2.04681054318694,2.34309157234596,2.35000586801086,2.41704163155852,2.55787523901419,2.35662742249866,2.01392321272748,1.75239219547439,1.34384692805518,1.21103115907725,1.1868525189098,1.21553136306854,1.44260706201714,1.67177689975644,1.65667521126703,1.92269442934768,2.10972268554165,2.16970970292201,2.32392910108127,2.1012993383093,1.89535692991813,1.54216599807029,1.11885590342459,0.922049426145707,0.652099214714943,0.497543245378972,0.352570970174256,0.172877346415048,0.0335040678688603,0.0502828043374139,0.0491877168709676,0.0157558684202618,-0.052825448806473,0.0974037206139395,0.153447341853977,0.0521030329934788,0.064404124745636,0.043384673838644,-0.0538948295080868,-0.288269489485638,-0.373371830616692,-0.055581008762871,0.251272388605205,0.368969448347536,0.581121070875124,0.852238612883583,0.966914102135684,0.990115926027279,1.02703482071226,0.86878991487078,0.900211378655293,0.81451850143438,0.776276550607114,0.574601034737181,0.435689986830195,0.353734371534028,0.311776903447661,0.249025898644036,0.155408623381693,0.148327125039028,0.291248616738706,0.509152663088362,0.830059835362721,1.30363671745846,1.80208658482885,1.84632709373059,1.69679014173228,1.4796388567277,1.32593901923147,1.08840508067066,0.619989772720986,0.122966232337018,-0.0714241122143478,-0.215234953053261,-0.116185399785854,0.116045376489229,0.587890649337773,1.13144024829319,1.4561139619105,1.41822565097079,1.14101522124499,0.842953071007421,0.937143317893536,0.581723073819657,-0.0157276679261757,-0.75390767319003,-1.69154815310203,-3.12024284136993,-3.54306311307775,-4.43073154636186,-6.15642182216567,-8.39061782357438,-9.09737023895712,-7.15068260136206,-4.33134244583416,-2.10421538465224,-1.2321860519592,-1.45923967896555,-1.77465683313273,-1.47948464507713,-0.700212449503275,-0.342831826237511,-0.153964114891733,-1.26395367467218,-2.06839338483673,-2.55308010486622,-2.36555252809343,-2.11395999996314,-1.73588634427116,-1.58654535064847,-1.55122185538828,-1.60215281981934,-1.68598078507967,-1.77149110575342,-1.77821892582173,-1.72205844423934,-1.62253298990164,-1.50016287643227,-1.39270308972543,-1.45335639596213,-1.55397072981419,-1.46183482025416,-1.45486557525981,-1.62344164053409,-1.63948277426876,-1.43084365881519,-1.3823949563054,-1.35800257535782,-1.26886239386006,-1.25142412047741,-1.17282478151288,-1.16820717213456,-1.28550178113582,-1.01015010766854,-0.860051419874438,-0.850212658657911,-0.704326267044218,-0.751818552002499,-0.822146901094672,-0.943780626577841,-0.999948535138707,-0.753575496589142,-0.584375194136093,-0.550123114582166,-0.521008307693696,-0.344260402841219,-0.254608341591488,-0.310956685610194,-0.469465516079148,-0.51112380813122,-0.697057097840932,-0.70509274778262,-0.511629804527303,-0.461124506942435,-0.206559968942835,0.604063044213617,0.387646788285226,0.596888520617267,0.68372861528538,0.383341028020659,0.580287537876886,1.3734865439996,1.63838177693326,1.16384892553586,0.103664578821733,0.725397916011297,0.851352169533135,0.612807648949402,0.657983552331904,0.490805880157881,0.489525601429799,0.472570494194617,0.462646309883789,0.527457215092495,0.457353697413216,0.530853381814575,0.685523981059773,0.544795717171145,0.384088982245496,0.340272018977631,0.270501646309686,0.548417391505931,0.535253469541334,0.48825869939902,0.538664771560315,0.304593805254867,0.519359664741928,0.299546992646246,0.506379860132772,0.577660818948897,0.229224459008417,0.453586456619246,0.492647326677217,0.372061283970896,0.57853068563858,0.395657915090242,0.459777728580011,0.521444585451218,0.345837174455761,0.409374623706312,0.434312140671271,0.392209830326463,0.481505612038047,0.361185369366011,0.436395452017056,0.368652269986909,0.277614698634932,0.312386404614428,0.483161500299856,0.470004702397741,0.457046726643423,0.563075826408368,0.442859589825485,0.420294186213474,0.540553504939138,0.454028024675353,0.402319881941727,0.514752754501681,0.442041329336756,0.406617294559931,0.472370136713971,0.337716382970611,0.414791100193424,0.446862769226671,0.380236660407721,0.432515131711781,0.477295181103524,0.345365847697097,0.284530321992596,0.53797463972343,0.459637051059417,0.474251691731239,0.518175574136359,0.395903789641952,0.465282075283354,0.431366576829202,0.379792245298703,0.551236367878535,0.546976986004703,0.445092987278931,0.422979549736073,0.417254186188114,0.46001797290467,0.49070800552204,0.452332556465644,0.428983691971601,0.415243137159736,0.483378078586746,0.461136118129112,0.420411717197592,0.413547577104701,0.406512545675556,0.426773898151782,0.390661492499156,0.416157635143719,0.44941993324916,0.442414745156145,0.478577938622297,0.487459784690296,0.472372250504279,0.479011637219328,0.465138172044208,0.458246075059659,0.45353519038,0.440016923458757,0.431202560461988,0.437757287058164,0.429130284436618,0.417413388578932,0.417851308009187,0.42905971233458,0.410705166423673,0.410749879754662,0.419479570436444,0.415294524076308,0.437959941995515,0.469322319266247,0.427131525230731,0.408729790496853,0.401579752409231,0.405990475092096,0.376913341689399,0.437996511839729,0.402658135750388,0.404129166798026,0.453496643781183,0.422001500233667,0.426753680217523,0.505656332193313,0.470391072765488,0.46328865077977,0.446508894644085,0.435063414111647,0.440029199749315,0.429083190995009,0.426780341398714,0.39748745261008,0.408775486637913,0.451354796901252,0.417399850842324,0.422245831725007,0.424284227743861,0.433095253487339,0.419811526271915,0.395444398272578,0.41768509185241,0.422092215223998,0.417794327017982,0.433445189585812,0.390208508473535,0.36347436696949,0.361440750858329,0.36576582359177,0.370532904535062,0.347710985665367,0.370046707931507,0.347720514156359,0.361341091384218,0.365725996795324,0.379438687042263],\"yaxis\":\"y\",\"type\":\"scattergl\"}],                        {\"template\":{\"data\":{\"histogram2dcontour\":[{\"type\":\"histogram2dcontour\",\"colorbar\":{\"outlinewidth\":0,\"ticks\":\"\"},\"colorscale\":[[0.0,\"#0d0887\"],[0.1111111111111111,\"#46039f\"],[0.2222222222222222,\"#7201a8\"],[0.3333333333333333,\"#9c179e\"],[0.4444444444444444,\"#bd3786\"],[0.5555555555555556,\"#d8576b\"],[0.6666666666666666,\"#ed7953\"],[0.7777777777777778,\"#fb9f3a\"],[0.8888888888888888,\"#fdca26\"],[1.0,\"#f0f921\"]]}],\"choropleth\":[{\"type\":\"choropleth\",\"colorbar\":{\"outlinewidth\":0,\"ticks\":\"\"}}],\"histogram2d\":[{\"type\":\"histogram2d\",\"colorbar\":{\"outlinewidth\":0,\"ticks\":\"\"},\"colorscale\":[[0.0,\"#0d0887\"],[0.1111111111111111,\"#46039f\"],[0.2222222222222222,\"#7201a8\"],[0.3333333333333333,\"#9c179e\"],[0.4444444444444444,\"#bd3786\"],[0.5555555555555556,\"#d8576b\"],[0.6666666666666666,\"#ed7953\"],[0.7777777777777778,\"#fb9f3a\"],[0.8888888888888888,\"#fdca26\"],[1.0,\"#f0f921\"]]}],\"heatmap\":[{\"type\":\"heatmap\",\"colorbar\":{\"outlinewidth\":0,\"ticks\":\"\"},\"colorscale\":[[0.0,\"#0d0887\"],[0.1111111111111111,\"#46039f\"],[0.2222222222222222,\"#7201a8\"],[0.3333333333333333,\"#9c179e\"],[0.4444444444444444,\"#bd3786\"],[0.5555555555555556,\"#d8576b\"],[0.6666666666666666,\"#ed7953\"],[0.7777777777777778,\"#fb9f3a\"],[0.8888888888888888,\"#fdca26\"],[1.0,\"#f0f921\"]]}],\"heatmapgl\":[{\"type\":\"heatmapgl\",\"colorbar\":{\"outlinewidth\":0,\"ticks\":\"\"},\"colorscale\":[[0.0,\"#0d0887\"],[0.1111111111111111,\"#46039f\"],[0.2222222222222222,\"#7201a8\"],[0.3333333333333333,\"#9c179e\"],[0.4444444444444444,\"#bd3786\"],[0.5555555555555556,\"#d8576b\"],[0.6666666666666666,\"#ed7953\"],[0.7777777777777778,\"#fb9f3a\"],[0.8888888888888888,\"#fdca26\"],[1.0,\"#f0f921\"]]}],\"contourcarpet\":[{\"type\":\"contourcarpet\",\"colorbar\":{\"outlinewidth\":0,\"ticks\":\"\"}}],\"contour\":[{\"type\":\"contour\",\"colorbar\":{\"outlinewidth\":0,\"ticks\":\"\"},\"colorscale\":[[0.0,\"#0d0887\"],[0.1111111111111111,\"#46039f\"],[0.2222222222222222,\"#7201a8\"],[0.3333333333333333,\"#9c179e\"],[0.4444444444444444,\"#bd3786\"],[0.5555555555555556,\"#d8576b\"],[0.6666666666666666,\"#ed7953\"],[0.7777777777777778,\"#fb9f3a\"],[0.8888888888888888,\"#fdca26\"],[1.0,\"#f0f921\"]]}],\"surface\":[{\"type\":\"surface\",\"colorbar\":{\"outlinewidth\":0,\"ticks\":\"\"},\"colorscale\":[[0.0,\"#0d0887\"],[0.1111111111111111,\"#46039f\"],[0.2222222222222222,\"#7201a8\"],[0.3333333333333333,\"#9c179e\"],[0.4444444444444444,\"#bd3786\"],[0.5555555555555556,\"#d8576b\"],[0.6666666666666666,\"#ed7953\"],[0.7777777777777778,\"#fb9f3a\"],[0.8888888888888888,\"#fdca26\"],[1.0,\"#f0f921\"]]}],\"mesh3d\":[{\"type\":\"mesh3d\",\"colorbar\":{\"outlinewidth\":0,\"ticks\":\"\"}}],\"scatter\":[{\"fillpattern\":{\"fillmode\":\"overlay\",\"size\":10,\"solidity\":0.2},\"type\":\"scatter\"}],\"parcoords\":[{\"type\":\"parcoords\",\"line\":{\"colorbar\":{\"outlinewidth\":0,\"ticks\":\"\"}}}],\"scatterpolargl\":[{\"type\":\"scatterpolargl\",\"marker\":{\"colorbar\":{\"outlinewidth\":0,\"ticks\":\"\"}}}],\"bar\":[{\"error_x\":{\"color\":\"#2a3f5f\"},\"error_y\":{\"color\":\"#2a3f5f\"},\"marker\":{\"line\":{\"color\":\"#E5ECF6\",\"width\":0.5},\"pattern\":{\"fillmode\":\"overlay\",\"size\":10,\"solidity\":0.2}},\"type\":\"bar\"}],\"scattergeo\":[{\"type\":\"scattergeo\",\"marker\":{\"colorbar\":{\"outlinewidth\":0,\"ticks\":\"\"}}}],\"scatterpolar\":[{\"type\":\"scatterpolar\",\"marker\":{\"colorbar\":{\"outlinewidth\":0,\"ticks\":\"\"}}}],\"histogram\":[{\"marker\":{\"pattern\":{\"fillmode\":\"overlay\",\"size\":10,\"solidity\":0.2}},\"type\":\"histogram\"}],\"scattergl\":[{\"type\":\"scattergl\",\"marker\":{\"colorbar\":{\"outlinewidth\":0,\"ticks\":\"\"}}}],\"scatter3d\":[{\"type\":\"scatter3d\",\"line\":{\"colorbar\":{\"outlinewidth\":0,\"ticks\":\"\"}},\"marker\":{\"colorbar\":{\"outlinewidth\":0,\"ticks\":\"\"}}}],\"scattermapbox\":[{\"type\":\"scattermapbox\",\"marker\":{\"colorbar\":{\"outlinewidth\":0,\"ticks\":\"\"}}}],\"scatterternary\":[{\"type\":\"scatterternary\",\"marker\":{\"colorbar\":{\"outlinewidth\":0,\"ticks\":\"\"}}}],\"scattercarpet\":[{\"type\":\"scattercarpet\",\"marker\":{\"colorbar\":{\"outlinewidth\":0,\"ticks\":\"\"}}}],\"carpet\":[{\"aaxis\":{\"endlinecolor\":\"#2a3f5f\",\"gridcolor\":\"white\",\"linecolor\":\"white\",\"minorgridcolor\":\"white\",\"startlinecolor\":\"#2a3f5f\"},\"baxis\":{\"endlinecolor\":\"#2a3f5f\",\"gridcolor\":\"white\",\"linecolor\":\"white\",\"minorgridcolor\":\"white\",\"startlinecolor\":\"#2a3f5f\"},\"type\":\"carpet\"}],\"table\":[{\"cells\":{\"fill\":{\"color\":\"#EBF0F8\"},\"line\":{\"color\":\"white\"}},\"header\":{\"fill\":{\"color\":\"#C8D4E3\"},\"line\":{\"color\":\"white\"}},\"type\":\"table\"}],\"barpolar\":[{\"marker\":{\"line\":{\"color\":\"#E5ECF6\",\"width\":0.5},\"pattern\":{\"fillmode\":\"overlay\",\"size\":10,\"solidity\":0.2}},\"type\":\"barpolar\"}],\"pie\":[{\"automargin\":true,\"type\":\"pie\"}]},\"layout\":{\"autotypenumbers\":\"strict\",\"colorway\":[\"#636efa\",\"#EF553B\",\"#00cc96\",\"#ab63fa\",\"#FFA15A\",\"#19d3f3\",\"#FF6692\",\"#B6E880\",\"#FF97FF\",\"#FECB52\"],\"font\":{\"color\":\"#2a3f5f\"},\"hovermode\":\"closest\",\"hoverlabel\":{\"align\":\"left\"},\"paper_bgcolor\":\"white\",\"plot_bgcolor\":\"#E5ECF6\",\"polar\":{\"bgcolor\":\"#E5ECF6\",\"angularaxis\":{\"gridcolor\":\"white\",\"linecolor\":\"white\",\"ticks\":\"\"},\"radialaxis\":{\"gridcolor\":\"white\",\"linecolor\":\"white\",\"ticks\":\"\"}},\"ternary\":{\"bgcolor\":\"#E5ECF6\",\"aaxis\":{\"gridcolor\":\"white\",\"linecolor\":\"white\",\"ticks\":\"\"},\"baxis\":{\"gridcolor\":\"white\",\"linecolor\":\"white\",\"ticks\":\"\"},\"caxis\":{\"gridcolor\":\"white\",\"linecolor\":\"white\",\"ticks\":\"\"}},\"coloraxis\":{\"colorbar\":{\"outlinewidth\":0,\"ticks\":\"\"}},\"colorscale\":{\"sequential\":[[0.0,\"#0d0887\"],[0.1111111111111111,\"#46039f\"],[0.2222222222222222,\"#7201a8\"],[0.3333333333333333,\"#9c179e\"],[0.4444444444444444,\"#bd3786\"],[0.5555555555555556,\"#d8576b\"],[0.6666666666666666,\"#ed7953\"],[0.7777777777777778,\"#fb9f3a\"],[0.8888888888888888,\"#fdca26\"],[1.0,\"#f0f921\"]],\"sequentialminus\":[[0.0,\"#0d0887\"],[0.1111111111111111,\"#46039f\"],[0.2222222222222222,\"#7201a8\"],[0.3333333333333333,\"#9c179e\"],[0.4444444444444444,\"#bd3786\"],[0.5555555555555556,\"#d8576b\"],[0.6666666666666666,\"#ed7953\"],[0.7777777777777778,\"#fb9f3a\"],[0.8888888888888888,\"#fdca26\"],[1.0,\"#f0f921\"]],\"diverging\":[[0,\"#8e0152\"],[0.1,\"#c51b7d\"],[0.2,\"#de77ae\"],[0.3,\"#f1b6da\"],[0.4,\"#fde0ef\"],[0.5,\"#f7f7f7\"],[0.6,\"#e6f5d0\"],[0.7,\"#b8e186\"],[0.8,\"#7fbc41\"],[0.9,\"#4d9221\"],[1,\"#276419\"]]},\"xaxis\":{\"gridcolor\":\"white\",\"linecolor\":\"white\",\"ticks\":\"\",\"title\":{\"standoff\":15},\"zerolinecolor\":\"white\",\"automargin\":true,\"zerolinewidth\":2},\"yaxis\":{\"gridcolor\":\"white\",\"linecolor\":\"white\",\"ticks\":\"\",\"title\":{\"standoff\":15},\"zerolinecolor\":\"white\",\"automargin\":true,\"zerolinewidth\":2},\"scene\":{\"xaxis\":{\"backgroundcolor\":\"#E5ECF6\",\"gridcolor\":\"white\",\"linecolor\":\"white\",\"showbackground\":true,\"ticks\":\"\",\"zerolinecolor\":\"white\",\"gridwidth\":2},\"yaxis\":{\"backgroundcolor\":\"#E5ECF6\",\"gridcolor\":\"white\",\"linecolor\":\"white\",\"showbackground\":true,\"ticks\":\"\",\"zerolinecolor\":\"white\",\"gridwidth\":2},\"zaxis\":{\"backgroundcolor\":\"#E5ECF6\",\"gridcolor\":\"white\",\"linecolor\":\"white\",\"showbackground\":true,\"ticks\":\"\",\"zerolinecolor\":\"white\",\"gridwidth\":2}},\"shapedefaults\":{\"line\":{\"color\":\"#2a3f5f\"}},\"annotationdefaults\":{\"arrowcolor\":\"#2a3f5f\",\"arrowhead\":0,\"arrowwidth\":1},\"geo\":{\"bgcolor\":\"white\",\"landcolor\":\"#E5ECF6\",\"subunitcolor\":\"white\",\"showland\":true,\"showlakes\":true,\"lakecolor\":\"white\"},\"title\":{\"x\":0.05},\"mapbox\":{\"style\":\"light\"}}},\"xaxis\":{\"anchor\":\"y\",\"domain\":[0.0,1.0],\"title\":{\"text\":\"Time\"}},\"yaxis\":{\"anchor\":\"x\",\"domain\":[0.0,1.0],\"title\":{\"text\":\"AccML\"}},\"legend\":{\"tracegroupgap\":0},\"margin\":{\"t\":60},\"title\":{\"text\":\"AccML Time Series\",\"y\":0.95,\"x\":0.5,\"xanchor\":\"center\",\"yanchor\":\"top\"}},                        {\"responsive\": true}                    ).then(function(){\n",
       "                            \n",
       "var gd = document.getElementById('6e6641ad-9bf9-4fe9-98e5-bf267b123ee5');\n",
       "var x = new MutationObserver(function (mutations, observer) {{\n",
       "        var display = window.getComputedStyle(gd).display;\n",
       "        if (!display || display === 'none') {{\n",
       "            console.log([gd, 'removed!']);\n",
       "            Plotly.purge(gd);\n",
       "            observer.disconnect();\n",
       "        }}\n",
       "}});\n",
       "\n",
       "// Listen for the removal of the full notebook cells\n",
       "var notebookContainer = gd.closest('#notebook-container');\n",
       "if (notebookContainer) {{\n",
       "    x.observe(notebookContainer, {childList: true});\n",
       "}}\n",
       "\n",
       "// Listen for the clearing of the current output cell\n",
       "var outputEl = gd.closest('.output');\n",
       "if (outputEl) {{\n",
       "    x.observe(outputEl, {childList: true});\n",
       "}}\n",
       "\n",
       "                        })                };                });            </script>        </div>"
      ]
     },
     "metadata": {},
     "output_type": "display_data"
    },
    {
     "data": {
      "text/html": [
       "<div>                            <div id=\"b165a4bb-a28f-4408-8f0d-66d32c46a309\" class=\"plotly-graph-div\" style=\"height:525px; width:100%;\"></div>            <script type=\"text/javascript\">                require([\"plotly\"], function(Plotly) {                    window.PLOTLYENV=window.PLOTLYENV || {};                                    if (document.getElementById(\"b165a4bb-a28f-4408-8f0d-66d32c46a309\")) {                    Plotly.newPlot(                        \"b165a4bb-a28f-4408-8f0d-66d32c46a309\",                        [{\"hovertemplate\":\"Time=%{x}<br>AccAP=%{y}<extra></extra>\",\"legendgroup\":\"\",\"line\":{\"color\":\"darkslateblue\",\"dash\":\"solid\"},\"marker\":{\"symbol\":\"circle\"},\"mode\":\"lines\",\"name\":\"\",\"showlegend\":false,\"x\":[0,1,2,3,4,5,6,7,8,9,10,11,12,13,14,15,16,17,18,19,20,21,22,23,24,25,26,27,28,29,30,31,32,33,34,35,36,37,38,39,40,41,42,43,44,45,46,47,48,49,50,51,52,53,54,55,56,57,58,59,60,61,62,63,64,65,66,67,68,69,70,71,72,73,74,75,76,77,78,79,80,81,82,83,84,85,86,87,88,89,90,91,92,93,94,95,96,97,98,99,100,101,102,103,104,105,106,107,108,109,110,111,112,113,114,115,116,117,118,119,120,121,122,123,124,125,126,127,128,129,130,131,132,133,134,135,136,137,138,139,140,141,142,143,144,145,146,147,148,149,150,151,152,153,154,155,156,157,158,159,160,161,162,163,164,165,166,167,168,169,170,171,172,173,174,175,176,177,178,179,180,181,182,183,184,185,186,187,188,189,190,191,192,193,194,195,196,197,198,199,200,201,202,203,204,205,206,207,208,209,210,211,212,213,214,215,216,217,218,219,220,221,222,223,224,225,226,227,228,229,230,231,232,233,234,235,236,237,238,239,240,241,242,243,244,245,246,247,248,249,250,251,252,253,254,255,256,257,258,259,260,261,262,263,264,265,266,267,268,269,270,271,272,273,274,275,276,277,278,279,280,281,282,283,284,285,286,287,288,289,290,291,292,293,294,295,296,297,298,299,300,301,302,303,304,305,306,307,308,309,310,311,312,313,314,315,316,317,318,319,320,321,322,323,324,325,326,327,328,329,330,331,332,333,334,335,336,337,338,339,340,341,342,343,344,345,346,347,348,349,350,351,352,353,354,355,356,357,358,359,360,361,362,363,364,365,366,367,368,369,370,371,372,373,374,375,376,377,378,379,380,381,382,383,384,385,386,387,388,389,390,391,392,393,394,395,396,397,398,399,400,401,402,403,404,405,406,407,408,409,410,411,412,413,414,415,416,417,418,419,420,421,422,423,424,425,426,427,428,429,430,431,432,433,434,435,436,437,438,439,440,441,442,443,444,445,446,447,448,449,450,451,452,453,454,455,456,457,458,459,460,461,462,463,464,465,466,467,468,469,470,471,472,473,474,475,476,477,478,479,480,481,482,483,484,485,486,487,488,489,490,491,492,493,494,495,496,497,498,499,500,501,502,503,504,505,506,507,508,509,510,511,512,513,514,515,516,517,518,519,520,521,522,523,524,525,526,527,528,529,530,531,532,533,534,535,536,537,538,539,540,541,542,543,544,545,546,547,548,549,550,551,552,553,554,555,556,557,558,559,560,561,562,563,564,565,566,567,568,569,570,571,572,573,574,575,576,577,578,579,580,581,582,583,584,585,586,587,588,589,590,591,592,593,594,595,596,597,598,599,600,601,602,603,604,605,606,607,608,609,610,611,612,613,614,615,616,617,618,619,620,621,622,623,624,625,626,627,628,629,630,631,632,633,634,635,636,637,638,639,640,641,642,643,644,645,646,647,648,649,650,651,652,653,654,655,656,657,658,659,660,661,662,663,664,665,666,667,668,669,670,671,672,673,674,675,676,677,678,679,680,681,682,683,684,685,686,687,688,689,690,691,692,693,694,695,696,697,698,699,700,701,702,703,704,705,706,707,708,709,710,711,712,713,714,715,716,717,718,719,720,721,722,723,724,725,726,727,728,729,730,731,732,733,734,735,736,737,738,739,740,741,742,743,744,745,746,747,748,749,750,751,752,753,754,755,756,757,758,759,760,761,762,763,764,765,766,767,768,769,770,771,772,773,774,775,776,777,778,779,780,781,782,783,784,785,786,787,788,789,790,791,792,793,794,795,796,797,798,799,800,801,802,803,804,805,806,807,808,809,810,811,812,813,814,815,816,817,818,819,820,821,822,823,824,825,826,827,828,829,830,831,832,833,834,835,836,837,838,839,840,841,842,843,844,845,846,847,848,849,850,851,852,853,854,855,856,857,858,859,860,861,862,863,864,865,866,867,868,869,870,871,872,873,874,875,876,877,878,879,880,881,882,883,884,885,886,887,888,889,890,891,892,893,894,895,896,897,898,899,900,901,902,903,904,905,906,907,908,909,910,911,912,913,914,915,916,917,918,919,920,921,922,923,924,925,926,927,928,929,930,931,932,933,934,935,936,937,938,939,940,941,942,943,944,945,946,947,948,949,950,951,952,953,954,955,956,957,958,959,960,961,962,963,964,965,966,967,968,969,970,971,972,973,974,975,976,977,978,979,980,981,982,983,984,985,986,987,988,989,990,991,992,993,994,995,996,997,998,999,1000,1001,1002,1003,1004,1005,1006,1007,1008,1009,1010,1011,1012,1013,1014,1015,1016,1017,1018,1019,1020,1021,1022,1023,1024,1025,1026,1027,1028,1029,1030,1031,1032,1033,1034,1035,1036,1037,1038,1039,1040,1041,1042,1043,1044,1045,1046,1047,1048,1049,1050,1051,1052,1053,1054,1055,1056,1057,1058,1059,1060,1061,1062,1063,1064,1065,1066,1067,1068,1069,1070,1071,1072,1073,1074,1075,1076,1077,1078,1079,1080,1081,1082,1083,1084,1085,1086,1087,1088,1089,1090,1091,1092,1093,1094,1095,1096,1097,1098,1099,1100,1101,1102,1103,1104,1105,1106,1107,1108,1109,1110,1111,1112,1113,1114,1115,1116,1117,1118,1119,1120,1121,1122,1123,1124,1125,1126,1127,1128,1129,1130,1131,1132,1133,1134,1135,1136,1137,1138,1139,1140,1141,1142,1143,1144,1145,1146,1147,1148,1149,1150,1151,1152,1153,1154,1155,1156,1157,1158,1159,1160,1161,1162,1163,1164,1165,1166,1167,1168,1169,1170,1171,1172,1173,1174,1175,1176,1177,1178,1179,1180,1181,1182,1183,1184,1185,1186,1187,1188,1189,1190,1191,1192,1193,1194,1195,1196,1197,1198,1199,1200,1201,1202,1203,1204,1205,1206,1207,1208,1209,1210,1211,1212,1213,1214,1215,1216,1217,1218,1219,1220,1221,1222,1223,1224,1225,1226,1227,1228,1229,1230,1231,1232,1233,1234,1235,1236,1237,1238,1239,1240,1241,1242,1243,1244,1245,1246,1247,1248,1249,1250,1251,1252,1253,1254,1255,1256,1257,1258,1259,1260,1261,1262,1263,1264,1265,1266,1267,1268,1269,1270,1271,1272,1273,1274,1275,1276,1277,1278,1279,1280,1281,1282,1283,1284,1285,1286,1287,1288,1289,1290,1291,1292,1293,1294,1295,1296,1297,1298,1299,1300,1301,1302,1303,1304,1305,1306,1307,1308,1309,1310,1311,1312,1313,1314,1315,1316,1317,1318,1319,1320,1321,1322,1323,1324,1325,1326,1327,1328,1329,1330,1331,1332,1333,1334,1335,1336,1337,1338,1339,1340,1341,1342,1343,1344,1345,1346,1347,1348,1349,1350,1351,1352,1353,1354,1355,1356,1357,1358,1359,1360,1361,1362,1363,1364,1365,1366,1367,1368,1369,1370,1371,1372,1373,1374,1375,1376,1377,1378,1379,1380,1381,1382,1383,1384,1385,1386,1387,1388,1389,1390,1391,1392,1393,1394,1395,1396,1397,1398,1399,1400,1401,1402,1403,1404,1405,1406,1407,1408,1409,1410,1411,1412,1413,1414,1415,1416,1417,1418,1419,1420,1421,1422,1423,1424,1425,1426,1427,1428,1429,1430,1431,1432,1433,1434,1435,1436,1437,1438,1439,1440,1441,1442,1443,1444,1445,1446,1447,1448,1449,1450,1451,1452,1453,1454,1455,1456,1457,1458,1459,1460,1461,1462,1463,1464,1465,1466,1467,1468,1469,1470,1471,1472,1473,1474,1475,1476,1477,1478,1479,1480,1481,1482,1483,1484,1485,1486,1487,1488,1489,1490,1491,1492,1493,1494,1495,1496,1497,1498,1499,1500,1501,1502,1503,1504,1505,1506,1507,1508,1509,1510,1511,1512,1513,1514,1515,1516,1517,1518,1519,1520,1521,1522,1523,1524,1525,1526,1527,1528,1529,1530,1531,1532,1533,1534,1535,1536,1537,1538,1539,1540,1541,1542,1543,1544,1545,1546,1547,1548,1549,1550,1551,1552,1553,1554,1555,1556,1557,1558,1559,1560,1561,1562,1563,1564,1565,1566,1567,1568,1569,1570,1571,1572,1573,1574,1575,1576,1577,1578,1579,1580,1581,1582,1583,1584,1585,1586,1587,1588,1589,1590,1591,1592,1593,1594,1595,1596,1597,1598,1599,1600,1601,1602,1603,1604,1605,1606,1607,1608,1609,1610,1611,1612,1613,1614,1615,1616,1617,1618,1619,1620,1621,1622,1623,1624,1625,1626,1627,1628,1629,1630,1631,1632,1633,1634,1635,1636,1637,1638,1639,1640,1641,1642,1643,1644,1645,1646,1647,1648,1649,1650,1651,1652,1653,1654,1655,1656,1657,1658,1659,1660,1661,1662,1663,1664,1665,1666,1667,1668,1669,1670,1671,1672,1673,1674,1675,1676,1677,1678,1679,1680,1681,1682,1683,1684,1685,1686,1687,1688,1689,1690,1691,1692,1693,1694,1695,1696,1697,1698,1699,1700,1701,1702,1703,1704,1705,1706,1707,1708,1709,1710,1711,1712,1713,1714,1715,1716,1717,1718,1719,1720,1721,1722,1723,1724,1725,1726,1727,1728,1729,1730,1731,1732,1733,1734,1735,1736,1737,1738,1739,1740,1741,1742,1743,1744,1745,1746,1747,1748,1749,1750,1751,1752,1753,1754,1755,1756,1757,1758,1759,1760,1761,1762,1763,1764,1765,1766,1767,1768,1769,1770,1771,1772,1773,1774,1775,1776,1777,1778,1779,1780,1781,1782,1783,1784,1785,1786,1787,1788,1789,1790,1791,1792,1793,1794,1795,1796,1797,1798,1799,1800,1801,1802,1803,1804,1805,1806,1807,1808,1809,1810,1811,1812,1813,1814,1815,1816,1817,1818,1819,1820,1821,1822,1823,1824,1825,1826,1827,1828,1829,1830,1831,1832,1833,1834,1835,1836,1837,1838,1839,1840,1841,1842,1843,1844,1845,1846,1847,1848,1849,1850,1851,1852,1853,1854,1855,1856,1857,1858,1859,1860,1861,1862,1863,1864,1865,1866,1867,1868,1869,1870,1871,1872,1873,1874,1875,1876,1877,1878,1879,1880,1881,1882,1883,1884,1885,1886,1887,1888,1889,1890,1891,1892,1893,1894,1895,1896,1897,1898,1899,1900,1901,1902,1903,1904,1905,1906,1907,1908,1909,1910,1911,1912,1913,1914,1915,1916,1917,1918,1919,1920,1921,1922,1923,1924,1925,1926,1927,1928,1929,1930,1931,1932,1933,1934,1935,1936,1937,1938,1939,1940,1941,1942,1943,1944,1945,1946,1947,1948,1949,1950,1951,1952,1953,1954,1955,1956,1957,1958,1959,1960,1961,1962,1963,1964,1965,1966,1967,1968,1969,1970,1971,1972,1973,1974,1975,1976,1977,1978,1979,1980,1981,1982,1983,1984,1985,1986,1987,1988,1989,1990,1991,1992,1993,1994,1995,1996,1997,1998,1999,2000,2001,2002,2003,2004,2005,2006,2007,2008,2009,2010,2011,2012,2013,2014,2015,2016,2017,2018,2019,2020,2021,2022,2023,2024,2025,2026,2027,2028,2029,2030,2031,2032,2033,2034,2035,2036,2037,2038,2039,2040,2041,2042,2043,2044,2045,2046,2047,2048,2049,2050,2051,2052,2053,2054,2055,2056,2057,2058,2059,2060,2061,2062,2063,2064,2065,2066,2067,2068,2069,2070,2071,2072,2073,2074,2075,2076,2077,2078,2079,2080,2081,2082,2083,2084,2085,2086,2087,2088,2089,2090,2091,2092,2093,2094,2095,2096,2097,2098,2099,2100,2101,2102,2103,2104,2105,2106,2107,2108,2109,2110,2111,2112,2113,2114,2115,2116,2117,2118,2119,2120,2121,2122,2123,2124,2125,2126,2127,2128,2129,2130,2131,2132,2133,2134,2135,2136,2137,2138,2139,2140,2141,2142,2143,2144,2145,2146,2147,2148,2149,2150,2151,2152,2153,2154,2155,2156,2157,2158,2159,2160,2161,2162,2163,2164,2165,2166,2167,2168,2169,2170,2171,2172,2173,2174,2175,2176,2177,2178,2179,2180,2181,2182,2183,2184,2185,2186,2187,2188,2189,2190,2191,2192,2193,2194,2195,2196,2197,2198,2199,2200,2201,2202,2203,2204,2205,2206,2207,2208,2209,2210,2211,2212,2213,2214,2215,2216,2217,2218,2219,2220,2221,2222,2223,2224,2225,2226,2227,2228,2229,2230,2231,2232,2233,2234,2235,2236,2237,2238,2239,2240,2241,2242,2243,2244,2245,2246,2247,2248,2249,2250,2251,2252,2253,2254,2255,2256,2257,2258,2259,2260,2261,2262,2263,2264,2265,2266,2267,2268,2269,2270,2271,2272,2273,2274,2275,2276,2277,2278,2279,2280,2281,2282,2283,2284,2285,2286,2287,2288,2289,2290,2291,2292,2293,2294,2295,2296,2297,2298,2299,2300,2301,2302,2303,2304,2305,2306,2307,2308,2309,2310,2311,2312,2313,2314,2315,2316,2317,2318,2319,2320,2321,2322,2323,2324,2325,2326,2327,2328,2329,2330,2331,2332,2333,2334,2335,2336,2337,2338,2339,2340,2341,2342,2343,2344,2345,2346,2347,2348,2349,2350,2351,2352,2353,2354,2355,2356,2357,2358,2359,2360,2361,2362,2363,2364,2365,2366,2367,2368,2369,2370,2371,2372,2373,2374,2375,2376,2377,2378,2379,2380,2381,2382,2383,2384,2385,2386,2387,2388,2389,2390,2391,2392,2393,2394,2395,2396,2397,2398,2399,2400,2401,2402,2403,2404,2405,2406,2407,2408,2409,2410,2411,2412,2413,2414,2415,2416,2417,2418,2419,2420,2421,2422,2423,2424,2425,2426,2427,2428,2429,2430,2431,2432,2433,2434,2435,2436,2437,2438,2439,2440,2441,2442,2443,2444,2445,2446,2447,2448,2449,2450,2451,2452,2453,2454,2455,2456,2457,2458,2459,2460,2461,2462,2463,2464,2465,2466,2467,2468,2469,2470,2471,2472,2473,2474,2475,2476,2477,2478,2479,2480,2481,2482,2483,2484,2485,2486,2487,2488,2489,2490,2491,2492,2493,2494,2495,2496,2497,2498,2499,2500,2501,2502,2503,2504,2505,2506,2507,2508,2509,2510,2511,2512,2513,2514,2515,2516,2517,2518,2519,2520,2521,2522,2523,2524,2525,2526,2527,2528,2529,2530,2531,2532,2533,2534,2535,2536,2537,2538,2539,2540,2541,2542,2543,2544,2545,2546,2547,2548,2549,2550,2551,2552,2553,2554,2555,2556,2557,2558,2559,2560,2561,2562,2563,2564,2565,2566,2567,2568,2569,2570,2571,2572,2573,2574,2575,2576,2577,2578,2579,2580,2581,2582,2583,2584,2585,2586,2587,2588,2589,2590,2591,2592,2593,2594,2595,2596,2597,2598,2599,2600,2601,2602,2603,2604,2605,2606,2607,2608,2609,2610,2611,2612,2613,2614,2615,2616,2617,2618,2619,2620,2621,2622,2623,2624,2625,2626,2627,2628,2629,2630,2631,2632,2633,2634,2635,2636,2637,2638,2639,2640,2641,2642,2643,2644,2645,2646,2647,2648,2649,2650,2651,2652,2653,2654,2655,2656,2657,2658,2659,2660,2661,2662,2663,2664,2665,2666,2667,2668,2669,2670,2671,2672,2673,2674,2675,2676,2677,2678,2679,2680,2681,2682,2683,2684,2685,2686,2687,2688,2689,2690,2691,2692,2693,2694,2695,2696,2697,2698,2699,2700,2701,2702,2703,2704,2705,2706,2707,2708,2709,2710,2711,2712,2713,2714,2715,2716,2717,2718,2719,2720,2721,2722,2723,2724,2725,2726,2727,2728,2729,2730,2731,2732,2733,2734,2735,2736,2737,2738,2739,2740,2741,2742,2743,2744,2745,2746,2747,2748,2749,2750,2751,2752,2753,2754,2755,2756,2757,2758,2759,2760,2761,2762,2763,2764,2765,2766,2767,2768,2769,2770,2771,2772,2773,2774,2775,2776,2777,2778,2779,2780,2781,2782,2783,2784,2785,2786,2787,2788,2789,2790,2791,2792,2793,2794,2795,2796,2797,2798,2799,2800,2801,2802,2803,2804,2805,2806,2807,2808,2809,2810,2811,2812,2813,2814,2815,2816,2817,2818,2819,2820,2821,2822,2823,2824,2825,2826,2827,2828,2829,2830,2831,2832,2833,2834,2835,2836,2837,2838,2839,2840,2841,2842,2843,2844,2845,2846,2847,2848,2849,2850,2851,2852,2853,2854,2855,2856,2857,2858,2859,2860,2861,2862,2863,2864,2865,2866,2867,2868,2869,2870,2871,2872,2873,2874,2875,2876,2877,2878,2879,2880,2881,2882,2883,2884,2885,2886,2887,2888,2889,2890,2891,2892,2893,2894,2895,2896,2897,2898,2899,2900,2901,2902,2903,2904,2905,2906,2907,2908,2909,2910,2911,2912,2913,2914,2915,2916,2917,2918,2919,2920,2921,2922,2923,2924,2925,2926,2927,2928,2929,2930,2931,2932,2933,2934,2935,2936,2937,2938,2939,2940,2941,2942,2943,2944,2945,2946,2947,2948,2949,2950,2951,2952,2953,2954,2955,2956,2957,2958,2959,2960,2961,2962,2963,2964,2965,2966,2967,2968,2969,2970,2971,2972,2973,2974,2975,2976,2977,2978,2979,2980,2981,2982,2983,2984,2985,2986,2987,2988,2989,2990,2991,2992,2993,2994,2995,2996,2997,2998,2999,3000,3001,3002,3003,3004,3005,3006,3007,3008,3009,3010,3011,3012,3013,3014,3015,3016,3017,3018,3019,3020,3021,3022,3023,3024,3025,3026,3027,3028,3029,3030,3031,3032,3033,3034,3035,3036,3037,3038,3039,3040,3041,3042,3043,3044,3045,3046,3047,3048,3049,3050,3051,3052,3053,3054,3055,3056,3057,3058,3059,3060,3061,3062,3063,3064,3065,3066,3067,3068,3069,3070,3071,3072,3073,3074,3075,3076,3077,3078,3079,3080,3081,3082,3083,3084,3085,3086,3087,3088,3089,3090,3091,3092,3093,3094,3095,3096,3097,3098,3099,3100,3101,3102,3103,3104,3105,3106,3107,3108,3109,3110,3111,3112,3113,3114,3115,3116,3117,3118,3119,3120,3121,3122,3123,3124,3125,3126,3127,3128,3129,3130,3131,3132,3133,3134,3135,3136,3137,3138,3139,3140,3141,3142,3143,3144,3145,3146,3147,3148,3149,3150,3151,3152,3153,3154,3155,3156,3157,3158,3159,3160,3161,3162,3163,3164,3165,3166,3167,3168,3169,3170,3171,3172,3173,3174,3175,3176,3177,3178,3179,3180,3181,3182,3183,3184,3185,3186,3187,3188,3189,3190,3191,3192,3193,3194,3195,3196,3197,3198,3199,3200,3201,3202,3203,3204,3205,3206,3207,3208,3209,3210,3211,3212,3213,3214,3215,3216,3217,3218,3219,3220,3221,3222,3223,3224,3225,3226,3227,3228,3229,3230,3231,3232,3233,3234,3235,3236,3237,3238,3239,3240,3241,3242,3243,3244,3245,3246,3247,3248,3249,3250,3251,3252,3253,3254,3255,3256,3257,3258,3259,3260,3261,3262,3263,3264,3265,3266,3267,3268,3269,3270,3271,3272,3273,3274,3275,3276,3277,3278,3279,3280,3281,3282,3283,3284,3285,3286,3287,3288,3289,3290,3291,3292,3293,3294,3295,3296,3297,3298,3299,3300,3301,3302,3303,3304,3305,3306,3307,3308,3309,3310,3311,3312,3313,3314,3315,3316,3317,3318,3319,3320,3321,3322,3323,3324,3325,3326,3327,3328,3329,3330,3331,3332,3333,3334,3335,3336,3337,3338,3339,3340,3341,3342,3343,3344,3345,3346,3347,3348,3349,3350,3351,3352,3353,3354,3355,3356,3357,3358,3359,3360,3361,3362,3363,3364,3365,3366,3367,3368,3369,3370,3371,3372,3373,3374,3375,3376,3377,3378,3379,3380,3381,3382,3383,3384,3385,3386,3387,3388,3389,3390,3391,3392,3393,3394,3395,3396,3397,3398,3399,3400,3401,3402,3403,3404,3405,3406,3407,3408,3409,3410,3411,3412,3413,3414,3415,3416,3417,3418,3419,3420,3421,3422,3423,3424,3425,3426,3427,3428,3429,3430,3431,3432,3433,3434,3435,3436,3437,3438,3439,3440,3441,3442,3443,3444,3445,3446,3447,3448,3449,3450,3451,3452,3453,3454,3455,3456,3457,3458,3459,3460,3461,3462,3463,3464,3465,3466,3467,3468,3469,3470,3471,3472,3473,3474,3475,3476,3477,3478,3479,3480,3481,3482,3483,3484,3485,3486,3487,3488,3489,3490,3491,3492,3493,3494,3495,3496,3497,3498,3499,3500,3501,3502,3503,3504,3505,3506,3507,3508,3509,3510,3511,3512,3513,3514,3515,3516,3517,3518,3519,3520,3521,3522,3523,3524,3525,3526,3527,3528,3529,3530,3531,3532,3533,3534,3535,3536,3537,3538,3539,3540,3541,3542,3543,3544,3545,3546,3547,3548,3549,3550,3551,3552,3553,3554,3555,3556,3557,3558,3559,3560,3561,3562,3563,3564,3565,3566,3567,3568,3569,3570,3571,3572,3573,3574,3575,3576,3577,3578,3579,3580,3581,3582,3583,3584,3585,3586,3587,3588,3589,3590,3591,3592,3593,3594,3595,3596,3597,3598,3599,3600,3601,3602,3603,3604,3605,3606,3607,3608,3609,3610,3611,3612,3613,3614,3615,3616,3617,3618,3619,3620,3621,3622,3623,3624,3625,3626,3627,3628,3629,3630,3631,3632,3633,3634,3635,3636,3637,3638,3639,3640,3641,3642,3643,3644,3645,3646,3647,3648,3649,3650,3651,3652,3653,3654,3655,3656,3657,3658,3659,3660,3661,3662,3663,3664,3665,3666,3667,3668,3669,3670,3671,3672,3673,3674,3675,3676,3677,3678,3679,3680,3681,3682,3683,3684,3685,3686,3687,3688,3689,3690,3691,3692,3693,3694,3695,3696,3697,3698,3699,3700,3701,3702,3703,3704,3705,3706,3707,3708,3709,3710,3711,3712,3713,3714,3715,3716,3717,3718,3719,3720,3721,3722,3723,3724,3725,3726,3727,3728,3729,3730,3731,3732,3733,3734,3735,3736,3737,3738,3739,3740,3741,3742,3743,3744,3745,3746,3747,3748,3749,3750,3751,3752,3753,3754,3755,3756,3757,3758,3759,3760,3761,3762,3763,3764,3765,3766,3767,3768,3769,3770,3771,3772,3773,3774,3775,3776,3777,3778,3779,3780,3781,3782,3783,3784,3785,3786,3787,3788,3789,3790,3791,3792,3793,3794,3795,3796,3797,3798,3799,3800,3801,3802,3803,3804,3805,3806,3807,3808,3809,3810,3811,3812,3813,3814,3815,3816,3817,3818,3819,3820,3821,3822,3823,3824,3825,3826,3827,3828,3829,3830,3831,3832,3833,3834,3835,3836,3837,3838,3839,3840,3841,3842,3843,3844,3845,3846,3847,3848,3849,3850,3851,3852,3853,3854,3855,3856,3857,3858,3859,3860,3861,3862,3863,3864,3865,3866,3867,3868,3869,3870,3871,3872,3873,3874,3875,3876,3877,3878,3879,3880,3881,3882,3883,3884,3885,3886,3887,3888,3889,3890,3891,3892,3893,3894,3895,3896,3897,3898,3899,3900,3901,3902,3903,3904,3905,3906,3907,3908,3909,3910,3911,3912,3913,3914,3915,3916,3917,3918,3919,3920,3921,3922,3923,3924,3925,3926,3927,3928,3929,3930,3931,3932,3933,3934,3935,3936,3937,3938,3939,3940,3941,3942,3943,3944,3945,3946,3947,3948,3949,3950,3951,3952,3953,3954,3955,3956,3957,3958,3959,3960,3961,3962,3963,3964,3965,3966,3967,3968,3969,3970,3971,3972,3973,3974,3975,3976,3977,3978,3979,3980,3981,3982,3983,3984,3985,3986,3987,3988,3989,3990,3991,3992,3993,3994,3995,3996,3997,3998,3999,4000,4001,4002,4003,4004,4005,4006,4007,4008,4009,4010,4011,4012,4013,4014,4015,4016,4017,4018,4019,4020,4021,4022,4023,4024,4025,4026,4027,4028,4029,4030,4031,4032,4033,4034,4035,4036,4037,4038,4039,4040,4041,4042,4043,4044,4045,4046,4047,4048,4049,4050,4051,4052,4053,4054,4055,4056,4057,4058,4059,4060,4061,4062,4063,4064,4065,4066,4067,4068,4069,4070,4071,4072,4073,4074,4075,4076,4077,4078,4079,4080,4081,4082,4083,4084,4085,4086,4087,4088,4089,4090,4091,4092,4093,4094,4095,4096,4097,4098,4099,4100,4101,4102,4103,4104,4105,4106,4107,4108,4109,4110,4111,4112,4113,4114,4115,4116,4117,4118,4119,4120,4121,4122,4123,4124,4125,4126,4127,4128,4129,4130,4131,4132,4133,4134,4135,4136,4137,4138,4139,4140,4141,4142,4143,4144,4145,4146,4147,4148,4149,4150,4151,4152,4153,4154,4155,4156,4157,4158,4159,4160,4161,4162,4163,4164,4165,4166,4167,4168,4169,4170,4171,4172,4173,4174,4175,4176,4177,4178,4179,4180,4181,4182,4183,4184,4185,4186,4187,4188,4189,4190,4191,4192,4193,4194,4195,4196,4197,4198,4199,4200,4201,4202,4203,4204,4205,4206,4207,4208,4209,4210,4211,4212,4213,4214,4215,4216,4217,4218,4219,4220,4221,4222,4223,4224,4225,4226,4227,4228,4229,4230,4231,4232,4233,4234,4235,4236,4237,4238,4239,4240,4241,4242,4243,4244,4245,4246,4247,4248,4249,4250,4251,4252,4253,4254,4255,4256,4257,4258,4259,4260,4261,4262,4263,4264,4265,4266,4267,4268,4269,4270,4271,4272,4273,4274,4275,4276,4277,4278,4279,4280,4281,4282,4283,4284,4285,4286,4287,4288,4289,4290,4291,4292,4293,4294,4295,4296,4297,4298,4299,4300,4301,4302,4303,4304,4305,4306,4307,4308,4309,4310,4311,4312,4313,4314,4315,4316,4317,4318,4319,4320,4321,4322,4323,4324,4325,4326,4327,4328,4329,4330,4331,4332,4333,4334,4335,4336,4337,4338,4339,4340,4341,4342,4343,4344,4345,4346,4347,4348,4349,4350,4351,4352,4353,4354,4355,4356,4357,4358,4359,4360,4361,4362,4363,4364,4365,4366,4367,4368,4369,4370,4371,4372,4373,4374,4375,4376,4377,4378,4379,4380,4381,4382,4383,4384,4385,4386,4387,4388,4389,4390,4391,4392,4393,4394,4395,4396,4397,4398,4399,4400,4401,4402,4403,4404,4405,4406,4407,4408,4409,4410,4411,4412,4413,4414,4415,4416,4417,4418,4419,4420,4421,4422,4423,4424,4425,4426,4427,4428,4429,4430,4431,4432,4433,4434,4435,4436,4437,4438,4439,4440,4441,4442,4443,4444,4445,4446,4447,4448,4449,4450,4451,4452,4453,4454,4455,4456,4457,4458,4459,4460,4461,4462,4463,4464,4465,4466,4467,4468,4469,4470,4471,4472,4473,4474,4475,4476,4477,4478,4479,4480,4481,4482,4483,4484,4485,4486,4487,4488,4489,4490,4491,4492,4493,4494,4495,4496,4497,4498,4499,4500,4501,4502,4503,4504,4505,4506,4507,4508,4509,4510,4511,4512,4513,4514,4515,4516,4517,4518,4519,4520,4521,4522,4523,4524,4525,4526,4527,4528,4529,4530,4531,4532,4533,4534,4535,4536,4537,4538,4539,4540,4541,4542,4543,4544,4545,4546,4547,4548,4549,4550,4551,4552,4553,4554,4555,4556,4557,4558,4559,4560,4561,4562,4563,4564,4565,4566,4567,4568,4569,4570,4571,4572,4573,4574,4575,4576,4577,4578,4579,4580,4581,4582,4583,4584,4585,4586,4587,4588,4589,4590,4591,4592,4593,4594,4595,4596,4597,4598,4599,4600,4601,4602,4603,4604,4605,4606,4607,4608,4609,4610,4611,4612,4613,4614,4615,4616,4617,4618,4619,4620,4621,4622,4623,4624,4625,4626,4627,4628,4629,4630,4631,4632,4633,4634,4635,4636,4637,4638,4639,4640,4641,4642,4643,4644,4645,4646,4647,4648,4649,4650,4651,4652,4653,4654,4655,4656,4657,4658,4659,4660,4661,4662,4663,4664,4665,4666,4667,4668,4669,4670,4671,4672,4673,4674,4675,4676,4677,4678,4679,4680,4681],\"xaxis\":\"x\",\"y\":[-1.41352531246173,-1.4406209993301,-1.42933154059721,-1.41548975954121,-1.42947071667569,-1.41394900554644,-1.41380217477929,-1.41562873972369,-1.42013801881056,-1.41591400496193,-1.42225093268594,-1.42252854115409,-1.40957466826424,-1.41576936372829,-1.40855601545427,-1.40236897910431,-1.40704115874155,-1.43218105794214,-1.42480217226406,-1.42015134806601,-1.43369397500441,-1.41774421435058,-1.420440455972,-1.41803039609057,-1.41562947023246,-1.40944098779329,-1.41322526213985,-1.41292283902194,-1.40870393621057,-1.42451908208885,-1.42254990441496,-1.39953437019782,-1.40885039652118,-1.39952907503506,-1.40221248199847,-1.39500537954727,-1.39048405778948,-1.39754652353647,-1.39768256591753,-1.40221102127675,-1.39347402683713,-1.39288824261452,-1.39754944497635,-1.40207022734435,-1.39995254531462,-1.39771634540445,-1.38881957107618,-1.38627223050254,-1.39303852269115,-1.38655981481501,-1.39333999655923,-1.37724381254361,-1.39785896131877,-1.39967552666331,-1.406594478885,-1.40040395447668,-1.40928923129945,-1.40463147424759,-1.40011104876454,-1.39755474012334,-1.40207077507713,-1.40461631918167,-1.39981157074668,-1.40251452100299,-1.3999488934189,-1.39980536261254,-1.3951452535776,-1.3886674687469,-1.40010922284313,-1.40207789619843,-1.38430206704013,-1.39726932716979,-1.4017796932912,-1.39997080442756,-1.40433947423598,-1.41817650010522,-1.39966164963463,-1.36804560018937,-1.38882340548388,-1.39953236177868,-1.39997317812321,-1.40433472682177,-1.40208501731974,-1.41126026316044,-1.40884838806846,-1.41335985808644,-1.4086809295903,-1.41351070506167,-1.42690449347756,-1.41589538068621,-1.41801578869051,-1.4133560236594,-1.41562052313683,-1.42071824448576,-1.41606868898803,-1.42948240246369,-1.44301537733541,-1.44470193920298,-1.4362461510515,-1.44272184523056,-1.45176888759193,-1.44907018998563,-1.45628254883862,-1.43580541559958,-1.4476704312315,-1.4357915385709,-1.43397799557911,-1.43806370484567,-1.45430411614166,-1.43565272220016,-1.4312767860795,-1.4428579295097,-1.46092865919869,-1.4582202559036,-1.45204965501169,-1.4696682509808,-1.46093249361606,-1.47236956748233,-1.47055319984062,-1.4720860233058,-1.46757656174053,-1.47478387971675,-1.46560837521174,-1.47238088814055,-1.45656186391653,-1.4564159067351,-1.46139009820022,-1.46982773196251,-1.47237321932515,-1.48126608161519,-1.48112393609314,-1.48396597453691,-1.48171625651583,-1.47719217092636,-1.47929043251766,-1.47675004248202,-1.49031185412479,-1.48848494766234,-1.48832800523297,-1.48862691811886,-1.49508336097773,-1.49225132587685,-1.47914828850305,-1.48606934242843,-1.50610931792995,-1.48126662936297,-1.48788036819896,-1.49494923621415,-1.50355993585493,-1.4927133993599,-1.48396670498111,-1.49736503017046,-1.52928292418718,-1.50639822070993,-1.48127247224986,-1.49299880832372,-1.50415690395401,-1.5089578426107,-1.50823164879941,-1.52206777213984,-1.52629213666592,-1.52672563826615,-1.51768404859128,-1.51812702236926,-1.50354478054323,-1.51754278185328,-1.51287379049485,-1.52191280714364,-1.52190933795241,-1.5223543311792,-1.52448249566189,-1.51950594183334,-1.52207598871805,-1.53759327068915,-1.53788113603475,-1.52689046772658,-1.54721279165382,-1.53576996683005,-1.53817776685708,-1.54254485973465,-1.55398495204726,-1.54677229410183,-1.53956040686318,-1.54902145798585,-1.54224694289055,-1.54735335589454,-1.53380391003221,-1.54028747504725,-1.54959595509583,-1.54734422640831,-1.55862277168966,-1.54974966808485,-1.54507770801384,-1.54705250809117,-1.53576686281796,-1.53802205639413,-1.53802333451127,-1.5402814495846,-1.52687476503169,-1.53336892712991,-1.52674389730884,-1.54466807363368,-1.54254924191049,-1.53773053853124,-1.54734422640831,-1.54435718917065,-1.53545343823005,-1.55340569225196,-1.54943822526904,-1.54465328376566,-1.54720092334729,-1.54888326668563,-1.55158371056709,-1.55143711735269,-1.56076313783899,-1.56934409048064,-1.55382685321796,-1.55609172409328,-1.55143054406288,-1.55594658737543,-1.55128632476549,-1.55127482151337,-1.54720494038704,-1.54931317939879,-1.54435791938183,-1.54931171867351,-1.55171606208435,-1.54706200278219,-1.57175228245493,-1.56978921578332,-1.54676316454537,-1.54705615988107,-1.5426708121982,-1.55820068330749,-1.5582136472541,-1.56710405615309,-1.58064505246564,-1.58122623990989,-1.57342266305472,-1.58064833913523,-1.54904245602057,-1.52601944826809,-1.54872791164781,-1.54207223931647,-1.5375532829228,-1.53320007470252,-1.53560640727255,-1.54465328376566,-1.56076697222736,-1.57372885362157,-1.56242717186557,-1.55383671307865,-1.54464798863446,-1.54507149998529,-1.55155267021315,-1.55142908333938,-1.54435353722201,-1.5466189496866,-1.54902912682059,-1.54464671047585,-1.54720238407435,-1.549166953394,-1.56287008622625,-1.56302143757105,-1.55850666397542,-1.55581587562029,-1.55127865593075,-1.54632431267349,-1.54495558750739,-1.5467668164411,-1.55835403873432,-1.55506153016093,-1.5560860638003,-1.55156326045978,-1.54480279219985,-1.54027761518657,-1.54283620442821,-1.53801603093148,-1.52912338746714,-1.53788515300735,-1.51798392897815,-1.52883517250234,-1.52038678702633,-1.53109438100072,-1.53138679982459,-1.52024551737828,-1.52505087699448,-1.52430999965089,-1.53787511050774,-1.5243165729407,-1.53772944303567,-1.53605947309842,-1.5335169643185,-1.55158279761962,-1.55836408120315,-1.54692746469694,-1.53293029479977,-1.51287671193829,-1.52897608454342,-1.5175531895508,-1.53336144087939,-1.54479183678355,-1.54509395844964,-1.5358913483308,-1.53183163799501,-1.53816955028754,-1.54706766307517,-1.55594238776982,-1.52926795178559,-1.51814272493032,-1.51952493149015,-1.52433519721642,-1.52885909190927,-1.52237916337788,-1.53592549252331,-1.52673367223188,-1.52659495347759,-1.52914785452439,-1.52944191330061,-1.53337422226111,-1.54013760565102,-1.51332259297802,-1.51105808519629,-1.51572708787774,-1.50685138803596,-1.51529306809172,-1.51391467027353,-1.51122180466068,-1.5244689839647,-1.51559549981934,-1.52025720293292,-1.51529909361873,-1.513331174689,-1.51784868708736,-1.51076899083398,-1.51755227659009,-1.52221872029557,-1.50597427044329,-1.51543049830192,-1.51318260830554,-1.52658345025448,-1.52193289220444,-1.53365861108027,-1.53546238526487,-1.52025921146959,-1.51108419547064,-1.50822690138521,-1.51331090716154,-1.51345892605979,-1.51316599259627,-1.51331163760574,-1.5152864948019,-1.52899653465073,-1.51318023463279,-1.51048117582305,-1.49286651133529,-1.48848458252091,-1.51317256583672,-1.51062681778484,-1.50852475476851,-1.50443375261336,-1.50414211413968,-1.49977827219113,-1.49737397708367,-1.50444708159148,-1.51288839789491,-1.50444342990741,-1.49541350916127,-1.49344153076323,-1.49301158956449,-1.49075036837831,-1.49526368124688,-1.49991879237832,-1.50428829846415,-1.49524523974926,-1.49059689311446,-1.48338094919488,-1.47778831333381,-1.4862295693844,-1.49314717346143,-1.48607536789108,-1.48425867147997,-1.47491944657509,-1.47493186267443,-1.50130639404594,-1.51527937381742,-1.4953939721546,-1.4746201942046,-1.47250878376447,-1.47705075909516,-1.47660790113935,-1.48186424599356,-1.48383186007054,-1.47508057613276,-1.47253306826981,-1.48652555705225,-1.49766998514849,-1.49977936777676,-1.48620619791278,-1.49058685064564,-1.479872340549,-1.47476489033472,-1.47236847195674,-1.47659731084538,-1.47492090730215,-1.47886710546979,-1.48142082614595,-1.47691555572882,-1.48805538663218,-1.47464685249363,-1.47267721467934,-1.47297847221692,-1.47464813065224,-1.47042238419422,-1.46786813147291,-1.4726786754064,-1.47493514926998,-1.47238508774616,-1.47056981538961,-1.474781506044,-1.47463680999402,-1.47282519576119,-1.47011784523447,-1.46770554798963,-1.45912522527706,-1.4749126907326,-1.47280803240438,-1.47928659811963,-1.47222396081845,-1.47901783070511,-1.46741708289036,-1.46363306037882,-1.46815440716555,-1.47238417478546,-1.45671932453277,-1.46365077159359,-1.46350042550815,-1.4571564679863,-1.46094052767695,-1.46547153925347,-1.46362977378327,-1.45896849264628,-1.45883056715172,-1.45715208579444,-1.45926589018624,-1.46108612380729,-1.46349567816265,-1.47056780685295,-1.47478278416114,-1.47223582929671,-1.47492127244358,-1.47222870820976,-1.4675603110452,-1.46545090644488,-1.46349001786966,-1.46320229030866,-1.46998374396926,-1.46603604837429,-1.46588661278827,-1.47266826782694,-1.47223491632278,-1.47449174904154,-1.4699866654127,-1.48564763990101,-1.49254805403497,-1.47491469925248,-1.45642357556985,-1.436250533222,-1.46050903623164,-1.46502469751581,-1.47435326174471,-1.47282227430351,-1.47449302724162,-1.47236226386483,-1.47463790551962,-1.48112211011882,-1.47658836374976,-1.47419268078155,-1.46334168046285,-1.47011035898396,-1.47206593818343,-1.46107754203118,-1.46755410291106,-1.46532447853139,-1.47435527019743,-1.47208492784024,-1.47405985453053,-1.47180047197612,-1.47464685249363,-1.47194991212978,-1.47631467254391,-1.48789150652329,-1.48578942435696,-1.48397163479377,-1.47673707850818,-1.48126188197167,-1.47930284865924,-1.47915833100266,-1.47929390174603,-1.48833786509365,-1.48127137675428,-1.47266534637282,-1.49029688168145,-1.48547773642159,-1.49254294141752,-1.49269660100559,-1.48817471479904,-1.48141078364634,-1.47478296676928,-1.47660443196669,-1.47282282211133,-1.47450854743275,-1.48127484594551,-1.48564197949965,-1.49330028609372,-1.48863422148698,-1.47734672941404,-1.47901180511372,-1.48126425566732,-1.48592883544518,-1.4927066435052,-1.49044542652053,-1.49285555591899,-1.50188783351099,-1.47719764853183,-1.47492802828606,-1.48592408807677,-1.50428921139839,-1.51529489401312,-1.50865359689424,-1.50639347336442,-1.49298438370451,-1.49510527181032,-1.4954098574772,-1.50355902285454,-1.50624893048072,-1.50880928010945,-1.49736977751597,-1.5086565183448,-1.50428610745423,-1.50158761843155,-1.50640260288577,-1.54012902387491,-1.53590595544006,-1.50894615677998,-1.49328659208611,-1.50611643901691,-1.51274585777888,-1.51783773171508,-1.52461792602669,-1.54252568774448,-1.53378619886757,-1.52913342990518,-1.51316416670132,-1.50442882289509,-1.5111924079414,-1.51317037477211,-1.53094068576646,-1.51768697004184,-1.51346440386196,-1.51528448631561,-1.51980673772006,-1.52885324901527,-1.5380339247579,-1.52870466856079,-1.54676864238896,-1.54407442503907,-1.54238585868908,-1.54691157930333,-1.54268669754448,-1.52884850164686,-1.52461737823387,-1.52491343725568,-1.52264509095278,-1.53786963281164,-1.53802643856997,-1.54479183678355,-1.54405160075269,-1.54223927405581,-1.54493440704569,-1.55383926935954,-1.55098218402204,-1.54434970279496,-1.54675257426718,-1.54464744087166,-1.5427009395123,-1.54509213260761,-1.5333612583145,-1.52869480855203,-1.53998098061533,-1.54509395844964,-1.53998426728492,-1.53875879824671,-1.54522630440169,-1.53321468210257,-1.53349249720501,-1.53802004789104,-1.54901305888167,-1.54253901683353,-1.53788168379755,-1.53786780689024,-1.54029368311804,-1.5467715638324,-1.54436668399906,-1.54691048377774,-1.54422119331245,-1.54720621846272,-1.54494609286217,-1.5582078043601,-1.55114794864145,-1.55216533887777,-1.55187014197161,-1.54720092334729,-1.54407259901183,-1.5380229693416,-1.5408758173298,-1.54915745865719,-1.53817539319578,-1.53833055609796,-1.54254814635487,-1.55610048844496,-1.55383872158173,-1.53774076376614,-1.52674006291081,-1.52900128199624,-1.54211368780276,-1.54495887410293,-1.55158663201765,-1.53546987157797,-1.53351915538311,-1.54540941032804,-1.52434067484439,-1.53137401858382,-1.56749914552005,-1.60769983876013,-1.66461151160412,-1.6802900600452,-1.59476400021758,-1.52628026783283,-1.50625349528423,-1.52193179689172,-1.59421215943037,-1.81763965610684,-1.9877132663597,-1.95996513076119,-1.8538162096851,-1.78864799403535,-1.59919164720812,-1.52006911984667,-1.56741880891991,-2.53853370668892,-2.4481255796908,-1.37096080157709,-1.11807284945409,-1.01988601032706,-0.886799081855743,-0.862609390428636,-1.37742637384234,-1.63460664435709,-1.84516672336079,-1.94864910465653,-1.76810584082124,-1.58276074706357,-1.42431246361592,-1.49264951255039,-1.82427525919033,-1.79743308189528,-1.88733941062422,-2.20842940615083,-2.11565297078093,-2.04574416477533,-1.9776436669692,-2.10407510042928,-2.18326342741286,-2.16273294368265,-2.25219240169196,-2.1561816908281,-2.26838498015749,-2.09304435080857,-2.32121229276513,-1.83403866423953,-1.13640172517192,-0.894232853672926,-0.580684606957071,-0.647925859020595,-0.842431509544028,-1.41813584551377,-1.50423063666073,-1.49472172943164,-1.4313508265319,-1.53309002182183,-1.80627289642659,-1.18301631569982,-0.550903057280773,-0.475799527827671,-0.685817525879582,-0.714608148468944,-0.488646709451885,-0.423526985056496,-0.220582567725232,0.13378063201848,0.165543829114456,-0.0197837773170983,-0.184499138461352,-0.328952747519692,-0.426497543278504,-0.0903259041620202,0.745267637889076,1.49325293887701,2.02854188503393,2.55232263548649,2.99532875873272,3.31803118424074,3.4472630033703,3.50837732609502,3.53531587968942,3.91044580721625,4.22398217166719,4.27186362524616,4.40888523801674,4.80574388296486,4.95283369674792,4.91621082842059,5.19141898019705,5.43763570636287,5.5908212218456,5.89379060031777,5.9813525109097,5.92902264869245,6.0377611479857,6.05984320476644,6.25210683294168,6.36641313522093,6.36218984696661,6.35072412392966,6.63455383990687,6.78828570812719,7.03010083795385,7.3008086161424,7.29161986649614,7.47936625911321,7.5696832891951,7.54527432548803,7.49359958517577,7.41863310251402,7.49792776455938,7.52747815441128,7.57225800163182,7.68324456577382,7.69872748147039,7.62556531141755,7.58567557839329,7.6036778017171,7.60618671152422,7.59239380001035,7.43211294173759,7.39566950539644,7.34167485199998,7.44360219535047,7.51360027959907,7.56996717953532,7.7257882524145,7.75044880259334,7.69872492317758,7.61575425569316,7.6240314827329,7.58325256217074,7.54053501273899,7.57253042441869,7.55664520897399,7.36249013257456,7.38073667903874,7.35612180235051,7.23829994630171,7.28150535194082,7.28401542025365,7.21359079447585,7.11902919216223,6.93605912039943,6.97663000194073,7.04002784912176,6.98632869134091,6.8233730132666,6.7098116227796,6.67619908369994,6.41700299937422,6.18387403925455,6.01470619526356,5.99426568728513,5.98968436469719,5.71905316613222,5.38245893083942,5.11159978544279,4.94641489043611,4.81533070761229,4.71641905324496,4.70738771701663,4.61012434221128,4.5760810765793,4.71978882049843,4.69976489352761,4.60434868573444,4.49339957180252,4.49989655419406,4.53878442598417,4.57463993129956,4.5951356428181,4.31296876543092,4.24750691394292,4.1661734681229,4.00791883980795,3.99262420755962,4.18540788255913,4.18927569470168,4.20537682363559,4.05442555866093,3.90723521689982,3.82407523349114,3.78788452674232,3.82003915786375,3.83549739057813,3.99355202005081,4.09457842214263,4.0065900537861,3.85729142535179,3.79415356255113,3.79627791785265,3.7670109730968,3.69942882726898,3.54336735675475,3.35356248667214,3.3781933251911,3.3306472936875,3.27501733654653,3.17528918878012,3.06471890650589,2.99934769053392,2.89055222329112,2.81610827998961,2.78487626641018,2.68753875986516,2.57254132649632,2.5478812929104,2.44667757493576,2.38543379812327,2.2859290544548,2.21819734562862,2.21642765514306,2.22523876350046,2.25705717132142,2.19819248252739,2.08545734687474,2.01137996950977,1.88032955512465,1.81693134848443,1.81986611739642,1.83080355030012,1.82624793443563,1.74509534038197,1.65201978000193,1.598249984867,1.54417604819925,1.50986385141557,1.45836775949168,1.37496535204957,1.33928683409825,1.34634951860878,1.36233690604601,1.33535382737356,1.2920387788769,1.35998309579176,1.53639028171352,1.8893532333627,2.33884574437185,2.93512743903618,3.66651546433996,4.44209832629463,5.2667475092961,5.82560518209301,5.4711720229559,4.41684097996956,3.58403950134843,3.06511874486216,2.67565384182863,2.26600304554308,2.09728685714658,2.05985170953441,2.07039878389939,2.07170042057892,1.95888042904316,2.0707532147719,2.42514971747443,2.9039976109115,3.27877563241493,3.56824691391951,3.81030245168321,3.98410147975213,4.05255627130152,4.04534113222585,3.89163626369724,3.6997941755513,3.42449343685403,3.1805153891213,3.02266326828755,3.00726943908161,3.19463230183507,3.33483957102696,3.37553950643441,3.29382824615381,3.11101451047175,2.93208621804341,2.90295972134372,3.14014793241077,3.43809940312861,3.50699479033217,3.46863741878371,3.35124505308035,3.22524193582752,3.00187950155657,2.77179230400248,2.52591549418247,2.37492203768391,2.35842789469621,2.49414765832748,2.51418148462937,2.51885187786237,2.52111366498763,2.47808257889536,2.50304183934214,2.4754109012105,2.43923430280936,2.38353060443743,2.32270483146918,2.23670946470126,2.17390879660028,2.18512271409285,2.20076141169586,2.26842976026982,2.35426640586705,2.2635800286242,2.12163523973239,2.09900508188461,2.07201775253137,1.94819260307097,1.73130215029951,1.51680329868114,1.4537206309491,1.78172787059434,2.49108378985376,2.99475122628703,2.48648213776222,2.22100125384381,3.08209488930971,3.90179565333926,3.8841154839456,3.19869824431848,2.48034247336725,2.28971340814371,2.65779536940626,3.27721825893514,3.53279796494061,3.38823676159177,3.09519548617961,2.88212044678875,2.81033260525627,2.84367729295006,2.86328745548959,2.96771435631598,3.10947753228882,3.26281647722351,3.45717396010566,3.51995717628345,3.51262004048014,3.43160760766053,3.31426509313571,3.12515296008522,2.89274875476034,2.7001874099591,2.79122989576809,2.95003047946945,2.88721943443927,2.7540716590168,2.74512955565065,2.88571301032761,3.0608988452861,3.10847419160871,3.00930899361376,2.82393998308481,2.60653772888477,2.4712462663261,2.42129460382706,2.37859934533023,2.33299404425977,2.2382604939392,2.1504681942512,2.02592838292352,1.87723003319287,1.76456863027655,1.70380578806485,1.60186356997049,1.49387216727517,1.31997028533126,1.25871723432804,1.27684627677934,1.30401674256072,1.33347895675342,1.32878228720141,1.28383460139658,1.25644223502022,1.20432444288842,1.25189386470221,1.36283868641743,1.45937259022243,1.50298160776611,1.49570180251596,1.50751379635531,1.55949754477475,1.62747325121446,1.6615392522819,1.63551088092697,1.51146050761514,1.32900167073218,1.20920510208599,1.30010710750921,1.55581100640507,1.62127601423413,1.575668613914,1.80157381014939,2.07238298806837,2.54001008143675,3.60152415066724,4.61092633691267,4.78561433210191,4.73661496805889,4.53196222505658,3.85726776375096,2.93638238852729,2.37836851168772,2.05305695747681,1.78920484303366,1.71567364092333,2.04915839023058,2.44523106664818,2.7826762008252,3.03532610251801,3.13685180963529,3.41019248532479,3.61569161296076,3.5593707725289,3.4126391705892,3.30935091289988,3.39684286096141,3.47884420961458,3.48799092675128,3.63340804238527,3.70846386340792,3.55961250546574,3.05398854367024,2.62736694920075,2.85050420778526,3.15527820072066,3.4614476324693,3.51678993770307,3.64963638068476,3.69943246528203,3.33392226002827,3.0639745240954,3.03481372367863,3.24080432838153,3.52733622363175,3.68820931877374,3.63631023964212,3.41907892492413,3.15625995248371,3.00060999355343,2.9257612085471,2.98202936790615,3.04506145927464,3.06321118168423,2.95493174309708,2.74019975787276,2.57130835276035,2.53723852426608,2.54422504915203,2.51728226968179,2.49270192324938,2.7480429858554,3.01055772367368,3.16810611618643,3.28836707290302,3.10931887836803,2.59838280010053,2.16990584286614,2.04079225421947,1.94862333633137,2.07454630465602,2.47229245922623,2.9079442908163,3.06114448377597,3.29985291188087,3.41489429176945,3.22021928531402,3.0463276019023,2.92899403194248,2.89490075861073,2.73691293340974,2.74179872184682,2.8028302738655,2.91579170006682,3.07849148208038,3.12856103583049,3.110617374814,3.1983663786242,3.33122609591179,3.34910555497648,3.36735943527995,3.3922496071903,3.34708473226484,3.22770611638541,3.08470646580335,2.99666292711058,2.79931927194228,2.65288402339146,2.60988856630442,2.75466472093445,2.95296169778233,2.65099893853583,2.273795260858,2.26945510919364,2.39812438109919,2.60664875653967,2.80929131279399,3.03075436693221,3.18680830009893,3.20939885667164,3.13057703465193,3.09263419824045,3.09283486434975,3.01583681349512,2.98854188569326,2.9049897778251,2.79304816557768,2.81756525271827,2.8306790742255,2.82234499594921,2.84705321217754,2.87348289384348,2.85373471570949,2.74496997658911,2.71778873762195,2.83955599839868,2.93721595359384,3.02920350024835,3.09452191303998,3.13321493859165,3.08626692822189,3.09563085326176,3.15848493456838,3.16739581841159,3.15136186855255,3.04942706875535,2.93229674463157,2.82155781189659,2.67202354090503,2.56596011035006,2.39865884279691,2.27738191894633,2.21843341739598,2.26596156455013,2.39286476637344,2.43365047990049,2.27345963129374,2.31440438892852,2.4935436595943,2.65397688469566,2.55489060467637,2.55683687062079,2.67422745503899,2.41930772335355,2.33735068727476,2.79279210467446,3.51113029391898,3.57421570013108,3.30095869181296,3.02096776118079,2.92385600090642,2.95097192604797,2.94672133433797,2.97116468706731,3.06858466593978,3.17718169623484,3.23388610505393,3.25142429312846,3.21220900274242,3.22551702161062,3.07835921890658,2.75538197464719,2.66226726276417,2.76857916701289,2.85907378153959,2.91933289425887,3.08697094061888,3.23595282809853,3.29067584935536,3.33601804191923,3.39471472477836,3.42605140289035,3.34284369851696,3.22506992919621,3.08263884213918,3.13620913086465,3.05484967056734,2.77482987709841,2.55121452698322,2.24807304629036,2.02412313861971,2.04260947694653,2.24368671260266,2.51243227397677,2.74724148047938,2.94880582942286,3.00954861133714,2.87226788759762,2.76603390205478,2.76195491263216,2.85265761484517,2.97901075965876,3.02148102326144,3.1749835692138,3.28343707784269,3.2587734597511,3.19565749979345,3.15533871805661,3.14657429129398,3.22096987045471,3.26460093735648,3.23549611047176,3.20833382859298,3.27182001734379,3.2760303033749,3.19707937504906,3.16781342454317,3.18335006709767,3.24007907979477,3.31654219762602,3.39771719212823,3.3860162406362,3.39291155200301,3.39962783946541,3.43536360109085,3.51279207790166,3.43371559917695,3.26439801063646,3.21021422966327,3.26035222980804,3.28105425053105,3.1553085294848,2.97909776443057,2.83904298833305,2.91351364554178,3.16867378582367,3.25689060386609,3.14155262191823,3.10528760014107,3.05290006768545,2.92210480051474,2.99433656286904,3.31266779040599,3.57705436190578,3.76867710115899,3.72344532597965,3.57549691125018,3.56128216234442,3.44157783777369,3.1504045200295,2.99458201213152,3.07812199572128,3.15890897230339,3.18431685369381,3.29166902788103,3.46630486546936,3.67993232431322,3.76089563034592,3.82190900009393,3.77008413834081,3.57522383694197,3.41732212962567,3.24331934164088,3.16195832138682,2.98844299859601,2.91770525984306,2.98297737580802,3.13047076957914,3.26110468963646,3.3091857559277,3.35925045354709,3.34285522314699,3.26371884175644,3.22101106378112,3.16453940418252,3.01574694222056,2.87505922162878,2.78029523988186,2.70816779978456,2.52487866103962,2.21749467737128,1.99400137068932,1.83105185928929,1.89624902034145,1.93510862614519,1.90982687300627,1.81249427059192,1.89905588430768,2.24440027518996,2.46136651154487,2.42103471266599,2.23570895918569,2.15469539973913,2.16420402272791,2.22496470025293,2.23183363248304,2.17998512830113,2.25259371068531,2.4700505525303,2.85569396057742,3.2987981059003,3.61934671305859,3.80019794602576,3.85032955552259,3.81524905979457,3.5627796101796,3.32796753457631,3.41636501823743,3.52392379938249,3.56214191615087,3.58434043639702,3.67955082603952,3.71142277376621,3.76097026892013,3.83642613332877,3.70353218550274,3.47178129957448,3.26632848861367,3.2012194237893,3.22441348304103,3.31451709245422,3.37538905928336,3.39172266142637,3.44122320613825,3.54626211403371,3.83516780303678,4.10544545182152,4.21359836100445,4.30361948957128,4.23333378026809,3.93116417028513,3.68539050507779,3.53872358706626,3.48887416373803,3.55861578586088,3.66730018662249,3.64724852243219,3.13714576218351,2.70839057093408,2.94596921202939,3.00442089907057,2.78104360907231,3.21039733880938,3.93715576240516,4.77756137162773,4.9263763084552,3.83537092759759,2.79584269289131,2.33426650658104,2.25508024695978,2.24044860350994,2.28737264436721,2.17184447997468,1.94588685214988,1.89815959585216,2.28916685243666,2.76587645681438,2.97863991925034,2.78447497342814,2.56149280105876,2.49129600852209,2.50075511897218,2.55958434424749,2.42174717410142,2.0561265629585,1.65844706811117,1.34643200158123,1.21101426706388,1.25379382445144,1.73514189308643,2.37456494498123,2.54332087233987,2.59778966805212,2.59140440157359,2.98272525710335,3.75068484362282,4.15310401922777,4.04944809467971,3.85312870590074,3.82201613155498,3.95077660038211,3.91755357435238,3.71176361109962,3.45213883281092,3.4452638800149,3.63699769702648,3.70197305893506,3.64939917276751,3.50885009488548,3.49024339228748,3.53280270645496,3.49207449750978,3.39934317188255,3.34477112727478,3.38803271602922,3.38792016643238,3.47813165006891,3.50101176720226,3.37329713838215,3.31011319756372,3.26251791970871,3.19962856179568,3.24045886645664,3.26106170377243,3.24890753112107,3.24728488530533,3.24457596455187,3.27155215671044,3.55374112408439,3.93869823905258,4.12987685495805,4.22726821151716,4.36763062062677,4.3569037390805,4.25892956874359,4.11480677939125,3.90054444674871,3.56149683517498,3.35835191420058,3.2023128439938,3.24992871407291,3.53878093526474,3.36709830038222,3.19749494802528,2.99505623808138,2.83469092573484,2.93377463941884,3.21989570434747,3.44324801016927,3.60625749458552,3.68001602608288,3.78167277398872,3.78205226085836,3.83788501977257,3.84745244011505,3.70316959670015,3.48173792708082,3.23538756522456,3.0635138543777,3.08593156616983,3.17198724855379,3.04550750454289,3.04053719248585,3.15161649755627,3.32247042688234,3.4333034028191,3.35217974873387,3.02855584993345,2.82324373533029,2.72854616616427,2.63165411898939,2.64336821567262,2.60190401778248,2.39634851406914,2.13196187362086,2.18421234591257,2.24279699677265,2.09369452863561,2.03473805042074,2.2111040051188,2.38438369173734,2.3168640428319,2.17883980359195,2.25997926925266,2.33463812717907,2.29614594576279,2.18612603853433,2.22205480789047,2.32162278215746,2.33997274490278,2.34697003289336,2.24099346244482,2.35424339754237,2.95303205555338,3.46817205090852,3.7118407197097,3.6892388938163,3.75060461858208,3.79585364977918,3.79156486666678,3.74854828515012,3.73333779096818,3.75350049805382,3.72007289058431,3.67660751792275,3.63611122158024,3.48224442980805,3.41834414732932,3.44547953933291,3.51353107710635,3.64366672794921,3.70026894170934,3.67508885793736,3.60758020680948,3.52704248625222,3.41398077707978,3.4141467033978,3.55671825347552,3.76727288227336,3.74039990526203,3.67305912641347,3.73906971477744,3.61733714283229,3.52253517800053,3.59407513122436,3.76380917914369,4.0034158631914,4.09135739263979,3.97958925926087,3.90273637492729,3.78011660853658,3.61748690689296,3.68284128251289,3.71425212070992,3.57920090375944,3.39847195045733,3.24718338084989,3.10707338611243,2.94393424285889,2.6456489673734,2.32705250642352,2.12545773736507,2.00152489294367,2.073715070811,2.25415353050945,2.27461355965615,2.12978337267976,1.99023116397472,1.96722442578502,1.88878490983603,1.83223036242849,1.93667943376206,2.38605953419358,2.72672917100288,2.6342543913085,2.57277146519798,2.73351759134566,2.97116659013715,3.06149650280186,2.86329431498774,2.84519151078279,3.03062060767867,3.46101531787556,4.05681694642206,4.52194167884603,4.47872763124589,4.06122429472951,3.63442402447588,3.42440888062219,3.37261812311586,3.54413459251845,3.68196603073217,3.72496451069161,3.72485952018798,3.52610942306399,3.2886692009536,3.14491341349963,3.16041275939777,3.09297846066214,3.07266024263168,3.29666483620406,3.44386660589484,3.46020575285523,3.45415627838322,3.34886407218086,3.12715575253817,3.28114892141009,3.40721479355819,3.31684891879974,3.21449495584248,3.14204414626491,3.22435033989946,3.46972872342419,3.82988074564584,4.15943184535865,4.27217235539413,4.20744639232862,3.99956931177912,3.66644555793,3.47958033348618,3.32476139203371,2.87824700494407,2.40932584363447,2.34118693766211,2.05891225567153,1.99532977122084,1.01013088139645,0.95075194865126,3.26254253705431,3.53134062700601,2.65944540555744,2.56529708267894,3.60390222582336,4.46467533166427,4.76662723588368,4.93900528429449,5.43988379866046,4.86119405304654,3.81546366218284,3.11970787239925,2.96516793108552,2.80033647953392,2.39116861865436,1.63369784138082,0.763276575586067,0.895063835962092,1.63372945150413,2.65673322650192,3.58839146477243,3.88874112440054,3.79092738981795,3.63730046296939,3.65457556531755,4.18869216483907,4.98536671596713,5.5942563596708,5.70188657264127,4.75514972807453,3.03757930184862,1.40188773465221,0.914687134094508,1.63996743713819,2.70021288061974,3.48435296016727,3.78975325821196,4.1316777158877,4.1305319679217,4.07974098179712,4.12878242893123,3.87585856470658,3.5521621262616,3.30600975051588,3.22487575842177,3.31068722123157,3.52144511679602,3.64626798517451,3.78581910905376,3.68700517036453,3.38341361082172,3.39293583431144,3.57830461991233,3.79732899791823,3.84203996589572,3.85781077061903,3.72146587083842,3.63310361291925,4.1160979249501,4.9675954229392,4.97658823479921,3.82302921339491,3.64546041225948,4.65852542109581,4.88537104173462,4.33017058427223,3.98824495119451,4.18663893880737,5.28895300113169,5.91042440365063,5.58510503370659,5.14675429159047,4.94240163328971,4.99616465985088,5.10875885468762,4.87546577329222,4.41178591091024,4.02562478248913,3.96152374812512,4.04898454758227,4.09962025865834,3.92374840869511,3.808095498872,3.61445564827309,3.33204011445535,3.62350064132533,4.04377426784901,3.87406911247915,3.38346708042362,2.64640558622519,2.17725190536182,1.82697456953838,1.90107507705668,2.81993174983394,3.74599725768121,4.41057462166987,4.55824805584722,4.6567258306585,4.77489525087056,4.4864530244641,4.29955386492201,4.48328996425403,4.57393227573897,4.40926579939688,4.36878335591742,4.58780521901034,4.87872548934231,5.17744268384705,5.13891178608718,4.64244485291846,3.98740443258425,3.65373798831957,3.39820937266394,3.1154603197215,2.84431492483112,2.63670988026682,2.5390395091641,2.43064423546229,2.30174574947158,2.12814676907278,2.11466159804012,2.25890149280615,2.66296034839288,2.9749628365165,2.99663270158655,2.82492161246151,2.85647344785224,3.16774670287771,3.44805823526197,3.56748271215238,3.49315262978615,3.37019472087273,3.26660739337159,3.20287240204993,3.10342607774355,2.95631936676443,2.96295643067964,3.35528882792998,3.89788764055222,4.05133352496585,3.84587660059789,3.71068889132372,3.75853904993922,3.85948336312327,4.07445992231952,4.17560985183336,4.10109919113997,3.85996738257696,3.60039731116125,3.3639221786995,3.0904092608728,2.82630107608064,2.64118390470433,2.53537183324851,2.50378749820489,2.40867909112358,2.3997307513947,2.45457055435237,2.58351670149631,2.70760581305007,2.66264227112563,2.60354817958392,2.53635931576361,2.41190134446122,2.33692537878817,2.35053293915907,2.3932964320369,2.58920347925644,2.7134744508433,2.74479561765584,2.70612761454834,2.65229478495994,2.64529147352922,2.80378692455596,2.96855518997628,3.0116155005656,2.96377570209191,2.8920131175136,2.79931646414678,2.66585224777284,2.69904571194411,2.70601260454395,2.64725160293576,2.6413960346268,2.71332422449379,2.85524617882306,2.86011514488406,2.65027484678024,2.4895176192317,2.63391148214354,2.92744287877229,3.18769545443493,3.46322036463833,3.67309629242197,3.74268587492884,3.71554950205955,3.67518875656386,3.63887234776426,3.63907517723298,3.58295695487058,3.44941502068043,3.17114810280774,3.05374769455854,3.06227991176849,3.20030720558356,3.3108977600319,3.328724771445,3.42576428123038,3.5276373710233,3.71315920657189,3.68126408033841,3.41266745752233,3.29550540196873,3.30396224703356,3.45604870148964,3.69556355031888,3.78383941302685,3.74045473399196,3.76087655509653,3.61402280100599,3.42678486633889,3.46730264691773,3.67972160486064,3.80693730360004,3.69148614723931,3.4581863585429,3.32082473894366,3.32531010706271,3.38592581159144,3.46931658279926,3.41306088849241,3.38979043928387,3.25859926735383,3.08232907263656,3.03023224840396,3.15704953953572,3.37361532490394,3.5856277310056,3.66248496644584,3.56324704397944,3.56535570217205,3.58854365950742,3.73079779776204,3.82068528049166,3.90451504950276,3.82115927804916,3.47102914279106,3.22036014606944,3.10506430992428,3.28158115579007,3.63998811768285,3.9653266961911,4.18652202803872,4.18444606327916,3.9499585596196,3.34499115008625,2.88645064708177,3.03145586787152,3.31842927371164,3.55802397535592,3.70238329457976,3.73876447457379,3.74822858205999,3.83425786247722,3.97880054436576,4.15282469587781,4.17536249560357,4.1503307279799,4.14864076483158,4.12845187587794,4.06259277279493,4.04321509173485,4.04521257074421,4.03772496076661,4.04209429906062,4.04861723172229,4.02787520993181,4.00070885115598,3.966577095012,3.93957749527641,3.93669442023018,3.9413161969817,3.93714737773654,3.92987493453561,3.91867305005399,3.84863707878652,3.68378493696007,3.61884131963096,3.74070723914234,3.7000965270105,3.45622213468364,3.37957455231394,3.52242526070903,3.67599054573077,3.80302060977822,3.96970046702122,4.08513463561377,4.09646904315162,4.01697013589473,3.88370031902506,3.76839309096611,3.84767814687633,3.92897288717226,3.99175775017717,4.06176456473468,4.05019745215923,3.97583576453006,3.9060647124908,3.86551492006795,3.81960830906259,3.77664900392269,3.77435399680793,3.76992973472963,3.70637071508859,3.6704313842699,3.6772944936171,3.6774950233171,3.7569205058098,3.8541185066749,3.87038286582736,3.92915491604481,3.96040010098712,3.9512884124293,3.99227551311138,3.98314980255321,3.99426084499567,3.97855259345227,3.93811783817498,3.86822848945787,3.83657321888118,3.74815282313274,3.66957290520193,3.65999248960788,3.70504148657152,3.68909058911007,3.657168759012,3.66157904351246,3.66634738506468,3.65970637524744,3.74469553969625,3.85119925944556,3.97354085312287,4.02316542834027,4.02762955033468,4.07362622084049,4.06444373517378,4.13034536500102,4.10498909095815,4.00793260056917,4.06458920081277,4.25485647225513,4.35568886287578,4.41947665794027,4.4527903927369,4.48463804982847,4.40749595421451,4.3284116772173,4.33280596045602,4.2651088157476,4.14329100599003,4.08658336877257,4.12283570891804,4.15228244928322,4.17372072353414,4.11708589029894,4.08970392186414,4.10108308259793,4.16657629936078,4.33185952886919,4.41594870722882,4.47846975389478,4.47387006591507,4.4509361877197,4.38284391745614,4.31340768608808,4.27176690690015,4.22747808439013,4.16811595335394,4.07803048050388,3.97135619350499,3.89301190360755,3.85446480660802,3.86762078025238,3.87416608304,3.84709134901027,3.69156714359458,3.5739047272714,3.75193237840741,3.91240040030632,3.7182120147863,3.58249852768192,3.58273653859638,3.72511458014109,3.84037309109055,3.7007430749008,3.54454322971332,3.62122170995694,3.83170513917825,3.99664689707124,4.05481119861402,4.01818467110127,3.88674136883607,3.67914147440353,3.46003401949929,3.43506908799467,3.66505314816489,3.91130474331712,4.00391684683059,3.98339615362325,3.8521946287018,3.72097125478978,3.58406046739314,3.59089660914473,3.72456428277901,3.8030787479149,3.86003646618478,3.88018513200056,3.88692407255564,3.9860082002767,3.95207551536599,3.80536235919053,3.70468949838179,3.76518407485932,3.91423733840885,3.91192334667881,3.95719493270458,4.02045522491319,3.99813098944339,4.0046264937972,4.00256549459757,3.83794611351759,3.6035588814493,3.6688044595309,3.92620845751593,4.17299058261514,4.34388113557515,4.30573479626912,4.22060240349198,4.11670135447283,4.02642103730095,4.07594090017153,4.04199114505943,3.92701293940604,3.7258305283873,3.45753407420747,3.2857432748597,3.17525337603616,3.1293279058841,3.17408420223626,3.3049707612345,3.36361558116587,3.26206510174181,3.20099100770439,3.19927866327613,3.10448956062052,2.99856393262239,2.89648510735257,2.80648965309684,2.74421730061018,2.67898508169941,2.63636918939877,2.63249304042261,2.68011029421058,2.58803397017275,2.7255991451654,3.1416635939366,3.44252547739555,3.67427376714846,3.88360314981137,3.74999402311894,3.44710358888484,3.3589221611512,3.39923323093509,3.7065815233438,4.10834300112047,4.223101161336,4.06306508038589,3.71763764000815,3.39826061826933,3.16172868972991,3.14391590797564,3.21632670733714,3.27227082398062,3.33795604282959,3.36275093872722,3.37619047182948,3.38474106194581,3.42556198566575,3.63550830803182,3.80972077576679,4.02154801817545,4.20600504807755,4.29378136825203,4.31382311489846,4.38079617783075,4.36729784617199,4.43502877146866,4.53383246509676,4.43210298311426,4.30542719199792,4.22898942776465,4.22019798658321,4.34236213090059,4.43958091507077,4.4693185288038,4.43396650815468,4.26434278660704,4.11570569264438,4.08393262080122,4.18287033620373,4.33905830557983,4.30269829220875,4.29780550476652,4.18517698048831,3.93016160484841,3.78124409855078,3.78402613654385,3.82703425567199,3.92397809958844,4.20185491325857,4.33580425053012,4.11674518005412,3.89754126838221,3.82787024028057,3.73042474034544,3.45542572287756,3.25677466250772,3.1798694421283,3.05768570681673,2.78379248219127,2.53081782214594,2.4901178295104,2.46966292659003,2.51868429833146,2.52992253439661,2.46484825958273,2.4399986990493,2.34524963326432,2.40587554677481,2.61864188643344,2.79074037296024,2.8384619648622,2.63091024827099,2.50489335038272,2.5249798667032,2.60945802972753,2.74683308808634,2.81465391265393,3.08120973416452,3.23179270004729,3.22961184662807,3.22724234678148,3.1277787411537,2.90830797156149,2.61919833645351,2.39378447000462,2.33959435531267,2.69635864161988,3.29547591902136,3.41777296467202,3.42866318942452,3.4806908202171,3.43948777635549,3.37850435457188,3.43688876878108,3.66468864251806,3.87434396598819,4.00702681966665,4.23037539350528,4.43094100934689,4.56376261676972,4.64468876559105,4.56543139650967,4.40707980156761,4.3642554316463,4.37112560218987,4.35752903564216,4.37996340009437,4.53661220885308,4.78309798958358,4.90731775044013,4.72727258526102,4.54043989358194,4.41439667977191,4.27235907316634,4.2589188024501,4.21387726161931,4.24756064997449,4.22002012253557,4.11785681027624,3.98613240993869,3.91126803521198,3.89506750393138,3.87455760529934,3.89893936495158,3.82709090287957,3.8183017175278,3.68277055964526,3.44527131579276,3.56281533934914,3.90624748741026,4.24470580270494,3.97587438665434,3.35058326850911,3.39183025693354,3.51885831694745,3.54380398406933,3.7157613075051,3.99174805084381,4.22349028545759,4.13324385587791,4.02945836784991,3.78999827296337,3.84185884074406,4.14031472069228,4.14932345852364,3.78750250276931,3.52367963163517,3.47194300586845,3.5283689619928,3.43086346954304,3.27283369679716,3.2387933524604,3.10939373098951,3.10010576996927,3.08417622027724,2.9528741521368,2.9060665224362,2.92793710512411,2.9399396709121,2.97807828871523,3.07355116751243,3.15924653579023,3.08009701671487,2.9652407390255,2.94978118053069,3.06702337377434,3.25010346291641,3.48029629857679,3.98649947914923,4.4579606369177,4.59150045293646,4.36326912693114,3.96095690819916,3.62231929168934,3.42749126487601,3.40255252416281,3.25114143773165,3.20593571939574,3.42222322508431,3.53748618765307,3.39553515683714,3.34841565026406,3.43223057376139,3.67820671473865,3.90353374870967,4.00519770510762,4.17614318030352,4.32065243762327,4.41769787951657,4.50311968452137,4.47339652677498,4.58875264708862,4.72434564625551,4.72475862243172,4.64346081285012,4.55834960264083,4.72119661171452,4.86173393791186,4.78494968925747,4.56217137570159,4.34088031816331,4.19868642853467,4.28176169281019,4.44368717374076,4.45047305262074,4.27367849473417,4.0471908324836,3.86911577156254,3.66085829967948,3.58995243019898,3.63511680472284,3.86997306692057,4.52560866989582,4.93623936772255,4.40272165593753,3.7960129179587,3.97332276049812,4.03042036544686,4.00771300813382,4.15061146118156,4.11039899554559,3.73091318357442,3.20971183367357,3.17975281366181,3.43311230197083,3.64946275151778,3.81208494718831,3.78974398708471,3.46251912802675,3.18726459879831,3.08132008554812,3.06812470636977,3.16695175957091,3.29359672599567,3.30426149942496,3.18448587241979,3.12559004530045,3.19735415521239,3.2423546217953,3.38948386764781,3.48444831301426,3.50488145047523,3.43027755084592,3.40067581999004,3.36955157648957,3.31051332419305,3.42799898778126,3.58594193152838,3.66297958048407,3.67836574960135,3.59226546799914,3.454457221566,3.72978438326559,4.02338151012054,3.66498882151124,3.44370874650716,3.3593024148363,3.29611221499695,3.35303760115443,3.49271934196487,3.70504282671859,3.7386024726091,3.60926208457046,3.55703072458684,3.73997323775069,3.92039456029536,4.06471658370093,4.14649055744369,4.24805604685015,4.25126842685913,4.37759937389837,4.59518602253697,4.63778154005794,4.48941559621532,4.24515643691959,4.28393932775447,4.32683040036464,3.96697021545897,3.57570400011539,3.34813846323809,3.27305063623647,3.57054784619862,4.16848858881096,4.37347251623816,3.76538889183999,3.35753948982836,4.0177700432868,4.31614477889156,3.98894577751523,3.7707594889725,3.83670507668007,3.57552117469795,3.28189514011216,3.44931176801421,3.91204508730617,4.14939336789225,3.84671317430916,3.39715679567482,3.25957470255131,3.14241846701844,3.01338929551228,3.11950577539,3.24812331606122,3.30584085674549,3.21977119804675,3.14733276538979,3.02979608505879,2.81347001439422,2.68907813522797,2.56953506397241,2.49576865686718,2.53424036434093,2.61186677518526,2.69525952176285,3.10136233173191,3.68919810028697,3.9778131178794,3.74972012722373,3.6302369440973,3.7634774050839,3.89475636782341,3.91692450590893,3.81489502891505,3.78295982102776,3.82788511684184,3.91737188285084,4.00079847360031,4.01824950667962,4.09432195036916,4.38111562945381,4.49859049742062,4.42414508225922,4.30866160665726,4.27471915562292,4.31363047372581,4.53793346762612,4.79097578238407,4.87888024324045,4.58117952465089,4.08242508772217,3.78750809409226,3.68584371564431,3.72850111483572,3.86787148612159,3.96469806348395,3.89198967791001,3.6975272798109,3.43291732176116,3.15922849118902,3.12977674232317,3.38937165943117,3.69473061632076,3.74406786748713,3.61538394214092,3.41683323129987,3.28153436977846,3.4598088889805,3.81896990123678,4.14149728935196,4.50130326252658,4.56425821550031,3.96851670102628,3.57397390341429,3.81125461390122,3.90211104446472,4.22915751327025,4.69472783695829,4.87549605850303,4.61603491841225,4.53497758793185,4.76319478609403,5.00716701922568,4.96452581678408,4.57175895755923,4.14271999894007,3.81570944869623,3.67085347366408,3.82115440217878,4.04185336052543,4.08192978861908,3.89594263559313,3.68150754319077,3.51446826623171,3.54356837490685,3.66997509550648,3.72909073455509,3.74748579104354,3.70037411546758,3.6458835132788,3.65517297030852,3.63757506852934,3.59061741259198,3.59723471181384,3.74906042992485,3.87341062686022,3.91917902471309,3.94140903413568,3.9594073249678,3.90266185677497,3.87795155949628,3.87733406664472,3.80690481322871,3.75994296130051,3.7149421692168,3.75162637661162,3.73799571845303,3.71321378633496,3.61374395231205,3.45118416721051,3.42214255410031,3.47399655959405,3.65028061583513,3.73588860539526,3.64580555652967,3.47163327262681,3.44237381979173,3.54383033287438,3.65483255326505,3.59822421496035,3.47618047858356,3.56233167351587,3.65525916155192,3.72951887296297,3.93245416091524,4.17706040761535,4.31502107673194,4.28982881719369,4.30104746295908,4.3055810631671,4.10184217146409,3.86208407397729,3.77822584968281,3.87954135268332,4.18167310326852,4.47985720958252,4.53167892052655,4.3602455058878,4.07987637878383,3.87723005448128,3.84810372817978,3.89538992192598,3.86418881471668,3.82580648331133,3.84130062749404,3.87741383240873,3.92669614216176,3.99134302490711,3.97980824628166,4.04063256413708,4.03349266840876,4.10991661893184,4.17547621665192,4.12256702010035,4.05755960569666,3.94885653927924,3.86119567232222,3.81129227033886,3.86117909235929,3.91999030545896,4.04450547778194,4.20968359885184,4.36805655649594,4.33266495354917,4.11338950230288,3.96912042922761,3.99366926959549,4.11369258355212,4.12745092723666,4.14552644946347,4.1699277951814,4.0251723070167,3.87423276837124,3.74687490471798,3.53221203780238,3.34471749607666,3.22034513618429,3.15504533558693,3.10993825624272,3.12763545556531,3.19758080194236,3.14551222838029,3.05562620759472,3.03771925105744,3.00161103713531,2.99656239276045,3.05155946834195,3.06051208262786,3.04953770068833,3.03843271734967,3.03379570106839,3.0469665618934,3.00399745774905,3.03185976998303,2.97285103895285,2.81671447938556,2.81010510724561,2.78076559670459,2.72722624026315,2.76288193466868,2.82862044297726,2.83116332193888,2.70873000298432,2.72104180670589,2.73287306892279,2.64693860365042,2.63096979150925,2.68978027522062,2.7086428022326,2.70801049237189,3.07180338871988,3.83773313798961,4.81575157036934,5.88011699437242,6.40238254991033,6.10181728457412,5.56037347522666,5.04608435200865,4.71026180960466,4.08038764196737,3.56051285950821,3.57527636176731,3.69552431547097,3.75133189495875,3.87206690348462,4.01990151401425,4.06021936349992,4.12946882132161,4.23569033418278,4.2381880813858,4.26326895551587,4.33782835203033,4.2978633114875,4.16211060636252,4.13022434188173,4.06510472606426,3.83244638173113,3.48033638777765,3.29945749334134,3.54159158978772,3.9751921645607,4.05907789149082,3.9151000925102,3.81069021507073,3.6999445913988,3.68675056426686,3.90293176488755,4.178735959622,4.25431587870453,4.35540055283056,4.40009162010512,4.44131815617536,4.42981940784473,4.18452316009943,3.89509064453408,3.65911466532198,3.56711991178865,3.6323310453521,3.63204183549224,3.55557197543712,3.51719946091985,3.51518255362438,3.45622811387178,3.42900108706698,3.35926718332729,3.29398583211248,3.17913393683088,2.93027559475302,2.75876667613218,2.69767646476322,2.70035690075767,2.85557291719701,2.94233564424483,3.22839297601587,3.54456239236886,3.68690779659483,3.62616981873305,3.34159129928214,3.88015386122778,4.28976492260635,3.9077331828457,3.69047737576468,4.31072012538329,4.9747491266318,5.09689236503355,4.90255497553679,4.91056697150954,5.03675424893334,4.87573131561099,4.70968550557925,4.66161376959233,4.57546068247054,4.5861253749176,4.70100763597669,4.9420828768725,5.08703135047951,5.04613046279152,5.01759435317724,4.98025146331931,4.68270196741355,4.39301723156105,3.85471374851494,3.40392311138529,3.32762663844082,3.43516489984248,3.5656994001193,3.52201402772721,3.37502299222083,3.1917033987451,3.01229118812677,2.94458539220701,2.82414018238786,2.78974193084259,2.88187637536839,2.80938972201657,2.72840998924512,2.59928551053492,2.53214551608848,2.45285612903482,2.32962160206252,2.07411392021296,1.82129922783432,1.65734805276801,1.51068345585684,1.54624218568796,1.46747750904856,1.40907273675149,1.50378864048833,1.59220807246903,1.48793896531432,1.3734403519506,1.29207232532942,1.55012909452953,1.89165512496679,1.98460183009315,2.0075036300862,2.37535986656487,2.56287577194428,2.58785557671551,3.11250614704746,4.48399211128958,6.64308958605921,8.70398454672147,10.2810799822657,10.0996319984749,8.06857462456486,6.21909635201381,5.85534378125127,5.23836422841504,3.7761552723657,3.22367640757052,3.70743419605602,4.9311608676195,5.11700280323039,4.34449594858026,3.82148138808047,3.67169644290017,3.73704817991792,4.01772238804226,4.35837479742728,4.74862900630154,4.82339670687881,4.65593301427126,4.5688931733881,4.31417553600212,4.30341883988469,4.77840803434982,5.13385395730212,4.87475486668323,4.11482320714303,3.72673125514964,3.80545940502041,3.99923539404723,4.18449002132371,4.43022698809096,4.69918747651968,4.96951125401825,5.15893197910015,5.17258326463023,5.00529126635413,4.76188086557249,4.56977102053233,3.88289346358542,3.71854950349096,4.32508999928502,4.06293660507407,4.01539276964398,3.72627427145441,3.48707087103847,3.67871715189417,3.76004731719377,3.61374289710899,3.45106429422667,3.30418428979365,3.49398058154357,3.67029924893315,3.56644206196652,3.43497706930279,3.34058650626103,3.16708820216669,3.05682979593458,3.0662488845648,3.11831759097122,3.23364289096232,3.36618597494263,3.62126365097439,3.45638003626632,2.65680616354631,2.6473827145491,3.68659640483382,4.42044846021629,4.77003844866578,5.10140043132035,5.16175067342676,5.02085734623846,4.72491870139369,4.60091389061642,4.69381402183494,4.6980001361673,4.48580153146615,4.13848153314825,3.98897018558555,3.92162851037658,4.04492510304967,4.0499224609866,4.05039717750646,4.09748357022193,4.17622309296369,4.21680372734437,4.32496461670892,4.41303051436741,4.32999317203028,4.31621768130177,4.3572429069717,4.35514016948842,4.27786929252913,4.33868891654646,4.45450572577165,4.48825776916064,4.4828186069615,4.45905017478455,4.5016167934287,4.50627946912149,4.40910521228857,4.28919249804212,4.24901053762211,4.2445218694019,4.17705405877558,3.96878779885547,4.08613944792942,4.3253255911232,4.38190783753291,4.33028116804828,4.18383744190171,3.95148565154042,3.66900633913715,3.56784101816238,3.589635581887,3.70499109290408,3.73446320495163,3.66911023335822,3.63038403678049,3.44101240966308,3.26496676946076,3.40927798532463,3.76398496149687,3.94215819534583,3.9693855461835,3.90909774499866,3.86142163812521,3.79593003922787,3.7466521538961,3.67886495090422,3.57813736856897,3.7402484523587,3.82417504920879,3.72439702200214,3.66405810476314,3.82841358554464,3.89887534040763,3.8191324935564,3.73573309704162,3.78988552433943,3.93285588930592,4.03838127329326,4.0050089090109,3.81127117156264,3.59626887091662,3.45497559769069,3.47783817118342,3.56055004640756,3.51511561963707,3.4471336457961,3.41377870732675,3.42749573996503,3.4680998236575,3.540100205497,3.53825763910516,3.48146019748589,3.50575353676921,3.54232544703914,3.53301122705099,3.51498679065861,3.50617528610252,3.49856759483279,3.51046835659933,3.48330402663124,3.47929023209215,3.48564066183893,3.47633125524751,3.52389600684386,3.54453901301278,3.5874960865898,3.69546823106709,3.77495448511176,3.78865215230889,3.75704743038756,3.69848918715271,3.70244860649306,3.74999630665355,3.84006955606649,3.89862123678401,3.8060818400893,3.66886439877693,3.60349603522435,3.51271115731233,3.44272023373587,3.42005914629431,3.40430926451447,3.3545877016368,3.24166080512535,3.14085092599189,3.07989041020706,3.1593075323312,3.18464505714297,3.15964058473238,3.22971655151318,3.15316968297014,3.10596280486173,3.21614237549154,3.32028524984307,3.54401767669183,3.75162992247626,3.7156126451346,3.48486982330975,3.32204405402321,3.36879045754677,3.40944683897741,3.39746248477244,3.40847863011875,3.40678278447309,3.34748508106183,3.29615557287317,3.18089841219395,3.05694272168549,2.9885968463595,2.99170815428678,2.95290247967259,2.91938763092311,2.93699920377193,3.02272095347194,3.11361929995578,3.12898953816175,3.00954119471757,2.98494301977327,3.05228776125896,3.13856889335761,3.23972039236872,3.18575034254287,3.28965258055783,3.3667407324066,3.30953550023033,3.27141224180949,3.18077213745348,3.09756326697879,2.96844438242143,2.87564461481407,2.8595836955569,2.92535821789946,3.00204219339096,2.97996972302073,2.95253967373844,2.97955064264969,2.96826131437085,2.93715167049029,2.94812824014446,2.85591582526524,2.72708900133064,2.72970741077578,2.71359099725151,2.65299009299793,2.70657709579935,2.61446624431738,2.71419715952701,2.75931969701383,2.87172177254062,2.92859722965946,2.82865255095279,2.74784158874397,2.69312575783373,2.63216269023255,2.6479342994522,2.65034770831342,2.59130327938481,2.63183764955346,2.62735791545421,2.60057016734749,2.55364661612479,2.47880142362226,2.43390294663284,2.40185014484402,2.42493243255575,2.48141796655501,2.56712397630892,2.64352885762474,2.68199119185097,2.72995133893146,2.73934556133096,2.74381906752626,2.75507224685123,2.70746076594824,2.64199350566594,2.62418106187766,2.68307845677622,2.73928219374578,2.79312588593431,2.76598364684977,2.75481754067554,2.72335702976285,2.70732971970185,2.74816842938316,2.76864818330227,2.75072435213122,2.8161048841784,2.8657306024569,2.85209167472122,2.86540314525526,2.94470696731081,3.03503155386609,3.11165310879552,3.08895443996568,3.02119923354568,2.92168256195788,2.88825288891245,2.93761525192547,2.944759185647,2.91756315534458,2.881145122324,2.94462023054671,3.13185804022898,3.22200704447361,3.25343656949581,3.2171838618408,3.17663215236185,3.20139829216719,3.19949928893673,3.16955137307403,3.1287457789756,3.25927668083973,3.44921634909419,3.47384408437829,3.36534643251915,3.23891772226107,3.1998916846899,3.28375062323783,3.52735507682645,3.55629570850519,3.40553813368043,3.33522982026387,3.34251469291038,3.51424822481091,3.65917047846399,3.7378612506966,3.79482665864389,3.74978086505457,3.62571992168536,3.52428896978916,3.59461659267968,3.64903154711203,3.66673405425115,3.60122948463054,3.48144194515564,3.33244268419383,3.18954271425489,3.02990546889825,2.98936664056677,2.94158757541898,2.86462404019246,2.9298046710764,2.88983748513862,2.75369462685381,2.67496200138542,2.64552379875835,2.6995943722306,2.73805663530542,2.7429249274193,2.7382120185002,2.66380762947476,2.58502058410156,2.53268516853896,2.5821831689757,2.62238319962226,2.55280872905983,2.54166783308393,2.48302235567004,2.42883834803451,2.36335752257907,2.23723728641491,2.14741193444203,2.09294774771205,2.07529409286367,2.17269676280183,2.19747819331727,2.23607185962398,2.23981343235459,2.27220819390851,2.27895460916903,2.20886811772327,2.10040603239613,2.05062592478692,2.09381669818817,2.16144214113083,2.18610635071055,2.17879615271401,2.1408953988532,1.87668277115055,1.70318812686741,1.76030178139409,1.71718072711644,1.50731907709288,2.18752456911137,3.10472245220415,3.25141155910579,3.0664108493548,2.83184175685844,3.03104497440081,4.07920163552155,4.92373854704449,4.97774508432203,4.91266248704849,4.61984101558724,4.40545910597333,4.20231815274213,3.99843890641657,4.09708441973701,4.04431201616182,3.80587672707899,3.88377817774461,4.17435775266512,4.3136231664647,4.09862124158911,3.97394421936337,4.10506751632799,4.29418766902907,4.41855259534331,4.21554718119535,3.9871782937705,3.76699587447954,3.58402596574576,3.55181064406979,3.55479280615214,3.78927408514771,3.88169406978583,3.88689512014725,3.99754965937764,4.13768050335686,4.06099720754263,3.85782472387948,3.81485454455316,3.99992073235692,4.53005975082431,4.88184424250594,4.96978459924995,4.82071471480945,4.57504462883192,4.35771543378489,4.07392726234942,3.77370685952819,3.51396939338058,3.29699121988282,3.23433995379692,3.18437225011084,3.26095367170091,3.35366014143468,3.41631014831506,3.42576765271492,3.34255667915549,3.33095349691096,3.25026721346883,3.1055041395182,2.98388783899463,2.93195000052195,2.90743995240531,2.90025924376791,2.8820989094536,2.9047582913149,2.91381707797369,2.86870354336169,2.80089525802126,2.73361967455641,2.65455464242721,2.67711337503301,2.74010991645787,2.67662683031217,2.42141517681447,2.0713598088868,1.82959214234099,1.84859533388946,1.99772148344641,2.0726815169701,1.91259605311668,2.07014930193849,2.48651849420421,1.95958615615279,1.55157905906314,1.77556448343649,2.37249764395113,3.48676347316293,4.52476486122564,5.1273452079732,5.07448974385395,5.44272843104099,5.30987406060799,4.41442995721533,3.73797803491253,3.47836468539742,3.73708124188663,4.54311500323617,4.60209116794542,4.46500591794129,4.34651347647703,4.59513846621803,4.87712439853393,5.08520955440088,5.11483663052908,4.95934383174659,4.69079941126295,4.34980385594186,4.0367116503406,3.75658236749583,3.84983795381005,4.21548160031304,4.36690358390818,4.26984366189223,4.20741644326365,4.04444144527519,3.76443184588413,3.46369501612809,3.50892274287609,3.67791963537227,3.74059294990246,3.76292560474956,3.71045591895314,3.44127879599891,3.17243505566447,3.02606231333781,3.04383106149989,3.07085096831279,3.04178219484518,2.92678138077039,2.70317387649264,2.49792074741763,2.39425468299022,2.3718646611145,2.44868681685311,2.40127087784287,2.24323820819491,2.04912423217421,1.87090929320964,1.75337661841372,1.66511369597583,1.59123164484583,1.40772005405515,1.32414466765822,1.45708580537073,1.59523116994134,1.5966153887173,1.67144336543944,1.95547365709731,2.2098810611194,2.20935600917365,2.11078433349672,2.03859375436718,2.04346523897779,2.10857151059304,2.32567878615238,2.4548821622384,2.17752050972978,1.59321279985245,1.33392704642749,1.86435036736175,2.34075345593222,2.62105408292132,3.21065028309314,3.80876803463956,4.55218383111975,5.25007769075195,5.66190786010945,5.84963956738615,6.0669967271212,6.18261308222373,5.29982794150338,4.13290050139402,3.84849861732808,4.15259598118613,3.54787838259326,3.25128446025682,3.73123597598146,4.21136332481002,4.21997684491954,3.81504232071972,3.50574207718004,3.15725410109989,3.13212724327174,3.09772399731598,3.14529520803079,3.55156109530587,3.66742176922628,3.38038916700879,3.07143591533262,2.93768032179766,2.9405681600929,3.07369064661107,3.08057232012548,2.86611410533423,2.83724584193935,3.16401556964394,3.5394563555772,3.77509613716958,3.82257972944425,3.71652104951169,3.55644017629854,3.44348619158461,3.43914898211762,3.44117283798003,3.33900432734869,3.18075174760521,2.96386199545641,2.74196324659589,2.59509328722162,2.49322371527113,2.42600416417626,2.4712176688012,2.50271851716306,2.52583985975121,2.59795455178229,2.62292918341813,2.61168057123347,2.60750303842309,2.60304901691505,2.66599466745113,2.71103263587767,2.64330822903925,2.67287656195998,2.52813536242502,2.16258627351461,2.02951304605739,1.97976916643665,1.86906510372733,1.79020676403876,1.842603489432,1.80903025759645,1.44250650061703,1.09671339732026,1.07893983217388,1.4584527734313,1.92215921130057,3.20272142025878,4.67974375901804,5.66410606625388,5.84004096260637,5.15502223259275,4.31645228432258,3.25253265465528,2.53070672114391,2.75183158808863,3.84898886146308,4.53313095814659,4.46615391973656,4.14379604875891,3.82996253090987,3.87632815040678,4.18088225073467,4.42250314338926,4.66389183745859,4.79683110228932,4.72233250039703,4.54575248601264,4.20708006357479,3.90308497921813,3.84889776477736,3.96395177870704,4.29373606785387,4.31947322392083,4.04141000227177,3.82270093157802,3.72603465964912,3.83624338377602,3.88973216449988,3.93563347270376,3.73890814321692,3.53534510977825,3.43757452538425,3.36309298270305,3.27441719223196,3.22491912495215,3.25188563106283,3.21069720456062,3.17013358901241,3.20392431436833,3.13614319240822,3.06599658160603,3.04421797071809,2.9716748284925,2.7415290391093,2.40320338088558,2.10675775006814,2.09336044121546,2.26937323255907,2.29798472796582,2.26856760901969,2.22354884327832,2.06979201743796,1.95903259547126,1.95019309623479,2.07276720681415,2.14525884482489,2.04551102255929,1.7612131474617,1.67323243931608,2.31309674657275,3.17157557238474,3.94162276461337,5.2027129109995,6.61940859671415,7.6094566025184,7.84773415663506,6.58222156673971,4.9372076426627,4.20507981835882,4.63743323955149,5.43736691390032,4.99214785341417,3.49456404550228,2.67989753250347,2.67320612711622,2.96240549210027,3.18052133907117,3.17527729440419,3.26245504908309,3.29856059629823,3.21986801341594,2.9001790018005,2.47564490913568,2.2542880803368,2.59723212644431,3.03586912438104,3.16927646281428,3.34103368658192,3.65063023751187,3.74865104233725,3.31616838695703,2.90560282999225,2.65944977981227,2.71424770819514,3.02391909187597,3.36190312476759,3.5224425440275,3.52548074731278,3.31701026311353,3.10921761729565,2.86783077457539,2.66294723991779,2.48856748567543,2.21758497385723,2.03420926927039,2.01635285401184,2.13991252290981,2.21662369878215,2.15110123484676,2.15094475718781,2.17789395225365,2.13479789663896,2.07189517037153,2.08331693788898,2.27996765045704,2.44015016886557,2.39276614274598,2.2436717991701,2.20055347896537,2.19915259964096,2.10389325599158,1.92276464604645,1.6978167545413,1.87430375292544,1.96413328294316,1.49941936803895,1.24629309996478,1.14432531909482,1.25983990911929,1.99596244872981,2.33895587939095,2.00797566397203,2.12432226017429,2.48324945952457,2.88977608468587,3.28105975739372,3.47747113102526,3.50036263548781,3.36481071365408,3.256391606301,3.20695354013856,3.17115565704371,3.20984455503666,3.297813123592,3.3025700725929,3.34899515990155,3.39233560205068,3.46003949923397,3.4933559426109,3.47588988111453,3.50922639120036,3.60621002810489,3.72568011649352,3.8342554482356,3.70104034821407,3.56772464129927,3.54481626005862,3.5498024119658,3.35083103715009,3.17214641656696,3.09308788724289,3.05869012475106,3.08899091246268,3.26316590697968,3.43256611560315,3.53878425449852,3.574559635542,3.47772489419071,3.40536589213038,3.30397093280113,3.24982012555336,3.25180714254297,3.17054197995134,3.02416790933571,2.92024403970687,2.89759843487253,2.89953987969285,2.82498323548516,2.71165745543765,2.59211539940365,2.53515626986306,2.67099948274707,2.82214758203138,3.29191891405573,3.71189732205141,3.37270059198821,3.20631079326291,3.08924475232743,3.17760474341347,3.4393953551453,3.85511079739075,4.07906924564539,3.95774795935666,3.8111001415405,3.78262308258291,3.65864689217346,3.38761070499834,3.18937423377762,3.26549280227193,3.32671912946581,3.23860372974478,3.11390215036515,3.00727022644387,2.92993324794266,2.83694255263057,2.89083783723904,2.91793202526311,2.90176779633564,3.02168335618211,3.15689064101605,3.33102414367707,3.31778877768325,3.28169358079963,3.30906304452889,3.30011577576563,3.27118581410368,3.13379463568426,2.94656538795928,2.76612528118146,2.6146998868932,2.61915806942936,2.74549418501145,2.89009037405538,2.96634602986564,3.05154493568316,3.25993614735305,3.41307722541661,3.48928128067174,3.57729550180286,3.62674484543158,3.55675961313291,3.50940532901561,3.53218503371615,3.55054597175507,3.55079392540418,3.50579690067064,3.52613187470721,3.53519925215607,3.43200607814663,3.3189943812178,3.1360237418029,2.96683294250209,2.92559355810458,2.94135440985992,2.89353335894383,2.82145670035274,2.70617182183666,2.62960679503828,2.65653559261263,2.6744188087466,2.72650022362212,2.78325932781151,2.82796868687343,2.88213821984539,2.88438210037593,2.81222586148498,2.7010809064099,2.60869282545673,2.59938578030619,2.63999630524458,2.60816952428122,2.55371060091133,2.55111142106643,2.31862599903514,2.16054991789247,2.36136136090142,2.64219453412068,2.60157036703898,2.38028429017488,2.39861190629504,2.76992182293782,3.58123921190836,6.03734902966742,6.84758055820225,5.31593725783871,4.14133983318772,3.60812467824774,3.89460935525792,4.13358990238036,4.49343095480245,4.61275878688884,4.50066673362627,4.43076754767018,4.38366522837109,4.43578761536704,4.68692947909103,4.94635147722659,5.10209220453251,5.04345555900858,4.97081015792242,4.87133870264989,4.76012648526778,4.6631912893143,4.67635036515427,4.71703719398621,4.66726399432976,4.74213366022233,4.72927614137666,4.51003205120863,4.29372456679795,4.01636567908793,3.69571333073282,3.60331699322074,3.70429419815232,3.76327443746945,3.925327438893,4.05582898165432,4.07619080925623,4.04625852401087,4.05242932776867,3.99328572429164,3.8287343498005,3.66167386304736,3.54218491184206,3.42902805150867,3.36840256638167,3.3370993914545,3.23123187928019,3.04834316628812,2.96072915043255,2.87473921286752,2.84319225514065,2.67620955435237,2.59263736433552,2.44331969936202,2.25817213766087,2.1183442688062,2.03724149149609,2.05745539287251,2.04850690979504,1.96645315007485,2.08164592245245,2.2846079657063,2.366435866107,2.3975971254802,2.42476973233738,2.25571209314788,2.40321078060206,2.39609534141763,2.04836393744029,2.00590777465843,2.26832166592019,2.32240932984022,2.68421886601621,3.75385246507463,4.84935863949844,5.40970879120496,5.70429974375904,6.37140361629662,7.01272123022849,7.04693944485172,7.0006479295129,6.79618638498111,5.78634330643167,3.91072220228925,2.71813822965987,2.73416418003276,3.1958770730862,3.67083819812192,4.98854403100908,5.61345668196902,5.29716566236979,4.91994233923922,4.49708571762819,4.48275234205024,4.83792656198661,4.63060476517961,4.13680677992068,3.87699413809075,3.83150270752814,3.69158511129915,3.26943486855099,3.08485642131168,3.13487087059261,2.87528989635911,2.64334574797836,2.60027866642187,2.75578551729865,3.1267345434113,3.66573352518786,4.27082700591231,4.65985270860783,4.78134088656376,4.77894106633029,4.82177578411947,4.65647230463871,4.43595709268882,4.12647443827867,3.74225495828436,3.57533019872818,3.42406241036639,3.21002663830423,2.9908399898192,2.8843614229819,2.83015796510818,2.68766923588628,2.50054982595812,2.48093959035472,2.47826913277855,2.57515176267111,2.68615415661967,2.74036847053458,2.88248503337172,3.01132958290089,3.12596999780259,3.18515975610096,3.18982498948406,3.0904456462527,2.94145244343796,2.82652431150574,2.57602972450328,2.27035800574901,2.39064530887331,2.35544940438982,1.98685855185758,1.95746532915809,2.11168235238712,2.12720261914601,2.48884442071944,3.7260982013917,5.6080454910699,6.85661323649188,6.14003536015973,4.80206139977789,3.86302300689114,3.40214560434964,3.43704537437553,3.76106203413779,4.20891280549353,4.63549678865593,4.5945616260871,4.49837123133407,4.59586291134577,4.80824692932727,4.93075803494592,4.91748355208275,4.95397900583767,4.80465748621096,4.61279559171923,4.38269682535647,4.31098871947041,4.53513948661612,4.48887029479351,4.13027013636616,3.70774391497346,3.3088791497088,3.01443775090231,2.98496410811946,3.17646696140931,3.43606089957838,3.55510276649225,3.64267813926305,3.67655217555717,3.55411547834364,3.49941474902002,3.51504031967588,3.55575063983116,3.56012121537897,3.41595688103183,3.24856883283622,3.08423826586391,2.94021961534061,2.74216554414729,2.52971660683652,2.28387299219195,2.12576210945341,1.98164128852951,1.80791339349694,1.86870795925299,1.98126395695623,1.92027302052429,1.832006251028,1.78441212953939,1.78665127020287,1.91727616091846,2.12165861023597,2.37854779693057,2.58659162189218,2.56848940394822,2.47766351342567,2.60650637634563,2.77132601533361,2.74072543497364,2.49446942675634,2.33171425737331,2.08507379203977,2.03370474800918,2.33143115025857,2.29579138565531,2.03847481986898,1.60979201800499,1.31013089311854,1.87007038518979,2.70164618413294,3.20049656453945,3.54392933856899,4.06604396744875,5.47153092491095,7.06052462257554,7.79695565933495,7.83864807008238,7.80994119497432,7.11077881796357,5.27342349028767,3.87287633988548,3.67450713120232,3.64498781175609,3.78763452285751,4.42987475891629,5.45190254252751,5.54790740766696,4.63060989840407,4.41989996538355,4.57059703404128,4.5070268072637,4.42395939077994,4.38763238237601,4.2885465196358,3.98312987784986,3.52468839837972,3.26681521733168,3.27455967416626,3.30669154409556,3.3955852952345,3.52739927438171,3.59109829661505,3.23907375793698,2.89358589431157,3.02249920909581,3.62327345108406,4.29341448515549,4.60732207252032,4.66378871904907,4.63260664645103,4.4201673316296,4.26200383833101,4.10368154837051,3.90016593779183,3.64326018697565,3.41481904863611,3.26494845445199,3.05073731229369,2.86117680159163,2.76846878706158,2.6350481499651,2.51820892371074,2.36440261913842,2.21380691966908,2.17604282474028,2.23276747307601,2.34077027019707,2.54818567631362,2.70177699541354,2.88925333321539,3.02906991866395,2.77619590942921,2.47413180531167,2.29999844332393,2.58286075254435,2.58070083170311,2.13794613240713,1.94844874106069,2.3412067789139,2.67631181436885,3.11036633504072,4.57405581387538,6.51643138993087,6.15876215431402,4.45967708343162,3.85838801393639,3.46980823003135,3.79478473323614,4.53016039054515,4.84940800741155,4.92389263713017,4.79755530908854,4.62863754838095,4.41666023933019,4.34628802614823,4.37587310129391,4.54487357447859,4.70984141209584,4.64855426735564,4.44761584108253,4.45659758222086,4.400661736967,4.47254123829352,4.62010880492863,4.46989685388369,4.21998723674389,3.72613415690566,3.18867082511154,2.9895066857426,3.05555983236579,3.16980299581689,3.28883123286638,3.33160804572918,3.3535781752388,3.42753750746228,3.4858131770419,3.59828080677684,3.65914848943643,3.63637324190626,3.59282697700288,3.54746104693459,3.4937254002001,3.40139595371264,3.15306541160924,2.83981723431039,2.53326734967141,2.282270050891,2.06799660670027,1.84946273140647,1.75657692452247,1.65785181123341,1.5766680130523,1.66536639201654,1.76652729603802,1.80046567014782,1.74890291058312,1.70409792637785,1.87528021275571,2.26137294878333,2.50081606531715,2.45786995054161,2.27945858292428,2.16458223198134,2.02890714135084,1.99108234119405,2.03832060197741,1.86995752499388,1.62388466137971,1.72579172022109,2.40133617029624,2.74415393634811,2.86221145795914,3.68642591333378,4.66230401430006,5.52996506559963,6.78684230590986,8.15393652270713,8.65920218208876,7.63455008246713,5.48971988909967,4.49699894685764,4.53322731845826,4.41990369959006,3.91008605318384,3.76084062227137,4.26977975834716,4.5328736419102,4.55469856745438,4.37591412358298,3.90679215594987,3.58304844941651,3.6552350404828,4.16624856237756,4.66274529884592,4.64469729231795,4.28340215385005,3.6374763799746,3.18631024394648,2.88489176882892,2.73691750822949,2.56828761216005,2.2788198809878,2.03760752191918,2.10416075316818,2.69337712869815,3.83123890015758,4.68021727979356,4.84252157401,4.73440919660259,4.56718152763152,4.35043470257877,4.0902782960311,3.81279503374861,3.61391373155834,3.30913165912002,3.01302313837915,2.80051785129471,2.51118364117724,2.27359793777931,2.12700414585183,1.99844651136988,1.93975537704568,1.95182546755137,2.04011396536008,2.30034786083675,2.50532256622846,2.53191575332649,2.62450879191206,2.73546458957188,2.53490573649799,2.29539909378955,2.25035329615593,2.30922613423292,2.41272337978699,2.53311373763872,2.39098870319641,2.00723589648104,1.62595077441235,1.52907902448017,1.93641425793014,2.82654099916089,4.61599299054132,6.88731393538925,7.01544675030781,5.78356410522386,4.50319453302176,3.20852450923766,2.93350045162842,3.63631241911364,4.32698627668427,4.65863646924337,4.65455576929817,4.31175401421028,4.41137209160799,4.74796147723111,5.10502944039955,5.3513529143622,5.22464813460354,5.03105652990883,4.73058411097295,4.39639787307717,4.39936538751712,4.63658122678285,4.86761142141387,4.73789318985304,4.1898742791401,3.48354806967448,3.1154888840777,2.95593385206561,3.0822406731917,3.38024767545673,3.53991028378909,3.57085352269799,3.42512463659192,3.22603904053592,3.17868378528503,3.10830534463143,3.16672326353476,3.29115699608188,3.39067549591275,3.41075556615502,3.4384875677581,3.37324512006491,3.24020940597011,2.8862906476193,2.44977008119944,2.12531330915526,1.96101841799107,1.83413911240559,1.68722092705658,1.657873354635,1.67173412506873,1.57186382120436,1.40955237031888,1.40454138514916,1.39960232506373,1.58713060902925,1.8898662960286,2.15659837354962,2.27592665291331,2.36723628226969,2.55000833226342,2.69991517915787,2.83546975669251,2.92155022133257,2.81597579675069,2.41281335456116,1.69662323824209,1.17315588360847,0.961088037596987,1.34051377375576,2.09706792747846,2.48505622025878,2.59121205602562,2.45102479667485,2.65255594816115,3.91760577381276,5.42401738626654,6.58081142303256,7.5797031042435,7.99677466340396,6.81834212538621,4.71691599576808,3.75086893559796,3.90211458495706,3.99490327835562,3.84822568719257,3.96016747393044,4.45510596075366,5.21764402359332,5.34532463267207,4.98820874052652,4.37804484510808,3.91198981372427,3.60218922744018,3.90512692143748,4.30025433381647,4.2727164550904,3.80283773000439,3.22706672623557,3.04713781708057,2.99120143896743,2.75497331255408,2.44582427339718,2.24128167902566,2.41567433957101,2.78805732539039,3.29922478680312,3.82950462473865,4.16414397056424,4.44626769426275,4.71431102505922,4.74847110642081,4.65597034429682,4.43447797739915,4.06856335944812,3.71334158215722,3.3631941944534,2.9701490737419,2.61574629538277,2.37416478648696,2.30614067610592,2.41429536739687,2.48700879746377,2.44184582274311,2.31302039983074,2.2613111470042,2.28168280650592,2.43762309789911,2.55258323063576,2.64692467398936,2.65817605300313,2.51406479445791,2.38984511349314,2.25453631235162,2.10526590474527,1.91814461299365,1.94309640639638,2.17185044819495,2.16018884654431,2.02256864289463,1.92559845760956,2.06770374433661,2.06836186087361,1.99126745144673,2.28938010403303,3.54161568133027,4.98491362714859,6.0009604082334,6.45598927544087,5.64661199143988,4.09622296533601,3.15059670558058,3.22242215385423,3.28986354526136,3.55478670344197,3.64125576688281,3.53605179190828,3.44482440649176,3.39764938497831,3.44356414715561,3.6573481671901,3.82873947735596,4.08632605905807,4.4674153785455,4.75869258740807,4.7334757476485,4.47363320571538,4.39576776426438,4.23401682424164,4.0626798154998,4.23540441220135,4.52923180492632,4.42058902684946,3.92134252708108,3.48847713168573,3.19468833440858,2.95544832196737,3.05264384542245,3.32345295394023,3.51932539388,3.61812710981378,3.62404392591822,3.48637117987266,3.28044312249531,3.12046819564855,3.02375160165213,2.96916804983793,2.85892231718364,2.72155379808689,2.51875366249664,2.36500850841705,2.28204129238871,2.09648020380588,2.06080227896879,2.06955064991578,1.93838994599576,1.72136232509672,1.51408802197891,1.38073179891323,1.26323849652278,1.27900889603832,1.45501081004509,1.5681447459858,1.6310483555115,1.49505493564923,1.34866150081355,1.47076507185133,1.65575821150831,1.87711405682027,1.95435472575229,1.98386649815699,1.74264234495439,1.4857708836539,1.44772444229602,1.26061131581622,0.933623803215027,0.54711294805686,0.10962555068178,-0.093730979863031,0.582347029923258,1.34040130140609,1.45218123445518,1.42937304522009,1.63083172122912,2.58437435079279,4.77095573875756,7.56769455522107,8.22904680666611,6.45925649437025,3.58357773165331,1.29060059072661,0.909587481885847,1.87754305447852,3.03092772219612,3.25173758167553,3.03173705708904,3.48413480104968,4.51766870039877,4.92161457372461,5.13375162534349,5.31710588361724,5.20474821553703,4.71693388403544,4.30472655324476,3.74895573301893,3.22065080801447,3.04644982009766,3.11863948988727,3.26124691225957,3.37831731565652,3.43115237311483,3.34301808351378,3.29600671410042,3.32353345248727,3.13603870162745,2.95615200022804,3.01184349274877,3.02092312659208,3.01592925723112,3.16547911738166,3.2439139948444,3.23220287642967,3.14400579611885,3.19398591236211,3.44696791476797,3.57151008786327,3.48102208458115,3.28228627568471,3.08343447868615,2.6749128978544,2.50549559250784,2.5260138385034,2.57173000696855,2.51548541322429,3.24353040673122,4.58210191140817,4.1231671185502,2.54135654317896,1.53097465052463,1.77742899960158,2.43968275551407,3.05889139640996,4.03941506744754,4.91832691401119,4.95440543578185,4.32279098669317,3.27496475132201,2.20827852848373,1.53774755725124,1.445319815721,1.6829898849074,1.96545013007374,2.1128819464759,2.09459984824036,1.85737527278991,1.73005126901058,1.89289760664834,2.28088571199117,2.58314961624868,2.6213698521139,2.43607353867904,2.11317825994585,1.87865306167551,1.77504522720158,1.86047490749686,2.03188152121836,2.14960106615517,2.27998745505786,2.41745982537445,2.56182193899425,2.65517821592878,2.76852095600973,2.91125954989982,3.00827944674205,2.83050334467258,2.52062348824777,2.39237887516806,2.28595140899386,2.38331189912482,2.83664796587878,3.46867616429027,3.82963243413797,3.93163694805175,3.82547722175725,3.7173113537472,3.70861977858876,3.90047241467107,3.77442657500126,3.27979889581157,2.66341638506711,2.31762151719959,2.11489196332805,2.17082173974874,2.350987769646,2.37126979655141,2.59690441733869,3.32019746111782,3.80439226856896,3.5339933726671,3.05441231326112,2.94825803778719,2.97567032578311,3.71283103837181,4.40829386180397,4.06673323580984,3.65869278701218,3.81871412806264,4.18456191765141,4.41422058669884,4.58126390712646,4.98340043989964,5.38963860639515,5.34672892422065,4.97211529802118,4.83637329232032,4.56075046650107,4.6286103689413,5.51804198134382,6.15776008153254,5.74016977952702,4.98078733846259,4.78466996923812,4.58845863294225,4.49350392531245,4.99526432135646,5.49607442969518,5.1609668174866,4.86265431665205,5.05905755718382,5.12213533055851,5.31428158594581,5.22218490919196,5.29465172860983,5.57277564550747,5.38152555908728,5.57329363471807,6.17183785588377,6.45444234397952,6.3253529009192,6.32469324639773,6.49820538913875,6.70769489334114,6.97581973532043,7.1480929362666,6.99276054297151,6.71644319291183,6.56527567339021,5.89551794626538,5.38838192401482,5.82691671801659,7.25493297262019,5.7083745371127,6.69259568319454,8.77924701969014,6.77599281112928,5.20772478191683,4.46331720644929,4.08841295488199,3.54593354037147,2.57455619270905,1.64886679709019,1.33438989292295,1.65124016916376,1.48052450852755,0.88083033960661,0.0600002023904749,-0.269320848834884,-0.566804513791086,-0.785865116682819,-1.31830872838656,-2.04803667649349,-2.2665668643603,-1.68416594905345,-0.550177472461085,0.501615759855926,1.27272701586725,1.60959354109231,1.42196522121834,0.800933411317434,0.121396013160808,-0.275900598424797,-0.253318505444731,-0.0810028616923934,0.180536638376365,0.0879819995060722,-0.460900080445986,-0.934979911266201,-0.910040653367252,-0.924029345167291,-0.977998772897987,-1.0770315562136,-1.16975502730361,-1.05268580849282,-1.01870520831751,-1.04585695534418,-0.968725265794789,-0.985024014142035,-0.913123582716634,-0.626416003391316,-0.500348216285792,-0.687755298870819,-0.904511230817624,-1.15238431392066,-1.25649357493405,-1.44246809936339,-1.52796714820914,-1.45123787888903,-1.34305466547994,-1.37767817762746,-1.33007485463204,-1.26006002063297,-1.46526496245999,-1.64340656449893,-1.73510692708184,-1.7602394087877,-1.69740426039422,-1.57550327525767,-1.59194539803616,-1.07282210073655,-0.773037494512381,-0.736789468003374,-1.58415429384716,-1.52952937830795,-3.7067986831091,-7.35341673218047,-2.34303961098658,-2.34455390326877,-0.801782366018698,0.129936448784002,-3.12006889590382,-4.34794052591193,-1.47726821378952,-1.23565475293423,-1.15007968738855,-1.24732372009829,-1.22909045396015,-1.22475168418674,-1.20398977601727,-1.30333453044248,-1.17479251645239,-1.16527442323661,-1.20858238010615,-1.22202862115442,-1.28316701165979,-1.25838646546998,-1.13663958744117,-1.07103543240718,-1.0802275846112,-1.20872228989628,-1.15451230656456,-1.24048976834688,-1.32620765431138,-1.32871313567025,-1.39330679595743,-1.42325488772253,-1.51600012562773,-1.50425810280012,-1.63096767414419,-1.78706955266362,-2.00148570898252,-1.91775794780715,-1.85717302210088,-1.59721570047865,-2.14391069870529,-2.23417601383141,-1.95579926762662,-1.88599218253276,-1.71184980670486,-1.76882030104665,-1.80927477288441,-1.95404229700913,-1.93184204914346,-1.98780422414359,-1.98065533849747,-1.86143888363969,-1.97629485732722,-2.12306950410325,-2.1307389199605,-2.12588604655667,-2.15941905990635,-2.13431941437505,-2.16646292167151,-2.21617875060373,-2.11483456212951,-2.17551204312807,-2.18474686825588,-2.15453767616195,-2.17547442782735,-2.15518233688381,-2.16610030436659,-2.14108534214,-2.24514623744914,-2.21128346554205,-2.21123566592212,-2.2925078732669,-2.24262643876591,-2.1773224301353,-2.15948698251235,-2.14139078944715,-2.14796103736556,-2.20218179493204,-2.18635872439559,-2.18204719830056,-2.17480264779401,-2.24024817932959,-2.23337408051437,-2.21397466937056,-2.19332684934996,-2.20448541068214,-2.22509324669292,-2.21596210905019,-2.23639719177269,-2.23184661883457,-2.24299255556884,-2.23156129613464,-2.21760143417633,-2.22972074842527,-2.28574666297474,-2.27676804988047,-2.28383330463391,-2.27060136347146,-2.27244344398627,-2.26759671265142,-2.24713919973082,-2.25223053144569,-2.2567458655417,-2.26578310677676,-2.26817150969156,-2.29948521087412,-2.30867722730207,-2.30356194850525,-2.30880316264826,-2.33079550891076,-2.32629223848022,-2.30850728894859,-2.32614200344996,-2.30881283993466,-2.3086520303001,-2.30146335752689,-2.30673651843139,-2.33771261985642,-2.34477196286791,-2.33363231887144,-2.28395574817823,-2.27742989793145,-2.25672450289909,-2.23619116829127,-2.22944930549334,-2.2091811723921,-2.2680096427554,-2.31302882642538,-2.29941187014824,-2.30794768048958,-2.31290197448811,-2.29726105118395,-2.28596496701277,-2.27465920515929,-2.27886502265283,-2.28352506178503,-2.29238597196811,-2.3285306359876,-2.32646767106232,-2.31091855288029,-2.29058393859743,-2.27915919754334,-2.27946323312012,-2.27011977383011,-2.29929410057648,-2.31753886118589,-2.34902129263558,-2.35141049862137,-2.34225387321057,-2.33799850603492,-2.36520389889699,-2.38720242504201,-2.36972142801999,-2.3352651829416,-2.31295743492611,-2.28631751304225,-2.32199065063191,-2.29715770634893,-2.29265022796471,-2.33542200012628],\"yaxis\":\"y\",\"type\":\"scattergl\"}],                        {\"template\":{\"data\":{\"histogram2dcontour\":[{\"type\":\"histogram2dcontour\",\"colorbar\":{\"outlinewidth\":0,\"ticks\":\"\"},\"colorscale\":[[0.0,\"#0d0887\"],[0.1111111111111111,\"#46039f\"],[0.2222222222222222,\"#7201a8\"],[0.3333333333333333,\"#9c179e\"],[0.4444444444444444,\"#bd3786\"],[0.5555555555555556,\"#d8576b\"],[0.6666666666666666,\"#ed7953\"],[0.7777777777777778,\"#fb9f3a\"],[0.8888888888888888,\"#fdca26\"],[1.0,\"#f0f921\"]]}],\"choropleth\":[{\"type\":\"choropleth\",\"colorbar\":{\"outlinewidth\":0,\"ticks\":\"\"}}],\"histogram2d\":[{\"type\":\"histogram2d\",\"colorbar\":{\"outlinewidth\":0,\"ticks\":\"\"},\"colorscale\":[[0.0,\"#0d0887\"],[0.1111111111111111,\"#46039f\"],[0.2222222222222222,\"#7201a8\"],[0.3333333333333333,\"#9c179e\"],[0.4444444444444444,\"#bd3786\"],[0.5555555555555556,\"#d8576b\"],[0.6666666666666666,\"#ed7953\"],[0.7777777777777778,\"#fb9f3a\"],[0.8888888888888888,\"#fdca26\"],[1.0,\"#f0f921\"]]}],\"heatmap\":[{\"type\":\"heatmap\",\"colorbar\":{\"outlinewidth\":0,\"ticks\":\"\"},\"colorscale\":[[0.0,\"#0d0887\"],[0.1111111111111111,\"#46039f\"],[0.2222222222222222,\"#7201a8\"],[0.3333333333333333,\"#9c179e\"],[0.4444444444444444,\"#bd3786\"],[0.5555555555555556,\"#d8576b\"],[0.6666666666666666,\"#ed7953\"],[0.7777777777777778,\"#fb9f3a\"],[0.8888888888888888,\"#fdca26\"],[1.0,\"#f0f921\"]]}],\"heatmapgl\":[{\"type\":\"heatmapgl\",\"colorbar\":{\"outlinewidth\":0,\"ticks\":\"\"},\"colorscale\":[[0.0,\"#0d0887\"],[0.1111111111111111,\"#46039f\"],[0.2222222222222222,\"#7201a8\"],[0.3333333333333333,\"#9c179e\"],[0.4444444444444444,\"#bd3786\"],[0.5555555555555556,\"#d8576b\"],[0.6666666666666666,\"#ed7953\"],[0.7777777777777778,\"#fb9f3a\"],[0.8888888888888888,\"#fdca26\"],[1.0,\"#f0f921\"]]}],\"contourcarpet\":[{\"type\":\"contourcarpet\",\"colorbar\":{\"outlinewidth\":0,\"ticks\":\"\"}}],\"contour\":[{\"type\":\"contour\",\"colorbar\":{\"outlinewidth\":0,\"ticks\":\"\"},\"colorscale\":[[0.0,\"#0d0887\"],[0.1111111111111111,\"#46039f\"],[0.2222222222222222,\"#7201a8\"],[0.3333333333333333,\"#9c179e\"],[0.4444444444444444,\"#bd3786\"],[0.5555555555555556,\"#d8576b\"],[0.6666666666666666,\"#ed7953\"],[0.7777777777777778,\"#fb9f3a\"],[0.8888888888888888,\"#fdca26\"],[1.0,\"#f0f921\"]]}],\"surface\":[{\"type\":\"surface\",\"colorbar\":{\"outlinewidth\":0,\"ticks\":\"\"},\"colorscale\":[[0.0,\"#0d0887\"],[0.1111111111111111,\"#46039f\"],[0.2222222222222222,\"#7201a8\"],[0.3333333333333333,\"#9c179e\"],[0.4444444444444444,\"#bd3786\"],[0.5555555555555556,\"#d8576b\"],[0.6666666666666666,\"#ed7953\"],[0.7777777777777778,\"#fb9f3a\"],[0.8888888888888888,\"#fdca26\"],[1.0,\"#f0f921\"]]}],\"mesh3d\":[{\"type\":\"mesh3d\",\"colorbar\":{\"outlinewidth\":0,\"ticks\":\"\"}}],\"scatter\":[{\"fillpattern\":{\"fillmode\":\"overlay\",\"size\":10,\"solidity\":0.2},\"type\":\"scatter\"}],\"parcoords\":[{\"type\":\"parcoords\",\"line\":{\"colorbar\":{\"outlinewidth\":0,\"ticks\":\"\"}}}],\"scatterpolargl\":[{\"type\":\"scatterpolargl\",\"marker\":{\"colorbar\":{\"outlinewidth\":0,\"ticks\":\"\"}}}],\"bar\":[{\"error_x\":{\"color\":\"#2a3f5f\"},\"error_y\":{\"color\":\"#2a3f5f\"},\"marker\":{\"line\":{\"color\":\"#E5ECF6\",\"width\":0.5},\"pattern\":{\"fillmode\":\"overlay\",\"size\":10,\"solidity\":0.2}},\"type\":\"bar\"}],\"scattergeo\":[{\"type\":\"scattergeo\",\"marker\":{\"colorbar\":{\"outlinewidth\":0,\"ticks\":\"\"}}}],\"scatterpolar\":[{\"type\":\"scatterpolar\",\"marker\":{\"colorbar\":{\"outlinewidth\":0,\"ticks\":\"\"}}}],\"histogram\":[{\"marker\":{\"pattern\":{\"fillmode\":\"overlay\",\"size\":10,\"solidity\":0.2}},\"type\":\"histogram\"}],\"scattergl\":[{\"type\":\"scattergl\",\"marker\":{\"colorbar\":{\"outlinewidth\":0,\"ticks\":\"\"}}}],\"scatter3d\":[{\"type\":\"scatter3d\",\"line\":{\"colorbar\":{\"outlinewidth\":0,\"ticks\":\"\"}},\"marker\":{\"colorbar\":{\"outlinewidth\":0,\"ticks\":\"\"}}}],\"scattermapbox\":[{\"type\":\"scattermapbox\",\"marker\":{\"colorbar\":{\"outlinewidth\":0,\"ticks\":\"\"}}}],\"scatterternary\":[{\"type\":\"scatterternary\",\"marker\":{\"colorbar\":{\"outlinewidth\":0,\"ticks\":\"\"}}}],\"scattercarpet\":[{\"type\":\"scattercarpet\",\"marker\":{\"colorbar\":{\"outlinewidth\":0,\"ticks\":\"\"}}}],\"carpet\":[{\"aaxis\":{\"endlinecolor\":\"#2a3f5f\",\"gridcolor\":\"white\",\"linecolor\":\"white\",\"minorgridcolor\":\"white\",\"startlinecolor\":\"#2a3f5f\"},\"baxis\":{\"endlinecolor\":\"#2a3f5f\",\"gridcolor\":\"white\",\"linecolor\":\"white\",\"minorgridcolor\":\"white\",\"startlinecolor\":\"#2a3f5f\"},\"type\":\"carpet\"}],\"table\":[{\"cells\":{\"fill\":{\"color\":\"#EBF0F8\"},\"line\":{\"color\":\"white\"}},\"header\":{\"fill\":{\"color\":\"#C8D4E3\"},\"line\":{\"color\":\"white\"}},\"type\":\"table\"}],\"barpolar\":[{\"marker\":{\"line\":{\"color\":\"#E5ECF6\",\"width\":0.5},\"pattern\":{\"fillmode\":\"overlay\",\"size\":10,\"solidity\":0.2}},\"type\":\"barpolar\"}],\"pie\":[{\"automargin\":true,\"type\":\"pie\"}]},\"layout\":{\"autotypenumbers\":\"strict\",\"colorway\":[\"#636efa\",\"#EF553B\",\"#00cc96\",\"#ab63fa\",\"#FFA15A\",\"#19d3f3\",\"#FF6692\",\"#B6E880\",\"#FF97FF\",\"#FECB52\"],\"font\":{\"color\":\"#2a3f5f\"},\"hovermode\":\"closest\",\"hoverlabel\":{\"align\":\"left\"},\"paper_bgcolor\":\"white\",\"plot_bgcolor\":\"#E5ECF6\",\"polar\":{\"bgcolor\":\"#E5ECF6\",\"angularaxis\":{\"gridcolor\":\"white\",\"linecolor\":\"white\",\"ticks\":\"\"},\"radialaxis\":{\"gridcolor\":\"white\",\"linecolor\":\"white\",\"ticks\":\"\"}},\"ternary\":{\"bgcolor\":\"#E5ECF6\",\"aaxis\":{\"gridcolor\":\"white\",\"linecolor\":\"white\",\"ticks\":\"\"},\"baxis\":{\"gridcolor\":\"white\",\"linecolor\":\"white\",\"ticks\":\"\"},\"caxis\":{\"gridcolor\":\"white\",\"linecolor\":\"white\",\"ticks\":\"\"}},\"coloraxis\":{\"colorbar\":{\"outlinewidth\":0,\"ticks\":\"\"}},\"colorscale\":{\"sequential\":[[0.0,\"#0d0887\"],[0.1111111111111111,\"#46039f\"],[0.2222222222222222,\"#7201a8\"],[0.3333333333333333,\"#9c179e\"],[0.4444444444444444,\"#bd3786\"],[0.5555555555555556,\"#d8576b\"],[0.6666666666666666,\"#ed7953\"],[0.7777777777777778,\"#fb9f3a\"],[0.8888888888888888,\"#fdca26\"],[1.0,\"#f0f921\"]],\"sequentialminus\":[[0.0,\"#0d0887\"],[0.1111111111111111,\"#46039f\"],[0.2222222222222222,\"#7201a8\"],[0.3333333333333333,\"#9c179e\"],[0.4444444444444444,\"#bd3786\"],[0.5555555555555556,\"#d8576b\"],[0.6666666666666666,\"#ed7953\"],[0.7777777777777778,\"#fb9f3a\"],[0.8888888888888888,\"#fdca26\"],[1.0,\"#f0f921\"]],\"diverging\":[[0,\"#8e0152\"],[0.1,\"#c51b7d\"],[0.2,\"#de77ae\"],[0.3,\"#f1b6da\"],[0.4,\"#fde0ef\"],[0.5,\"#f7f7f7\"],[0.6,\"#e6f5d0\"],[0.7,\"#b8e186\"],[0.8,\"#7fbc41\"],[0.9,\"#4d9221\"],[1,\"#276419\"]]},\"xaxis\":{\"gridcolor\":\"white\",\"linecolor\":\"white\",\"ticks\":\"\",\"title\":{\"standoff\":15},\"zerolinecolor\":\"white\",\"automargin\":true,\"zerolinewidth\":2},\"yaxis\":{\"gridcolor\":\"white\",\"linecolor\":\"white\",\"ticks\":\"\",\"title\":{\"standoff\":15},\"zerolinecolor\":\"white\",\"automargin\":true,\"zerolinewidth\":2},\"scene\":{\"xaxis\":{\"backgroundcolor\":\"#E5ECF6\",\"gridcolor\":\"white\",\"linecolor\":\"white\",\"showbackground\":true,\"ticks\":\"\",\"zerolinecolor\":\"white\",\"gridwidth\":2},\"yaxis\":{\"backgroundcolor\":\"#E5ECF6\",\"gridcolor\":\"white\",\"linecolor\":\"white\",\"showbackground\":true,\"ticks\":\"\",\"zerolinecolor\":\"white\",\"gridwidth\":2},\"zaxis\":{\"backgroundcolor\":\"#E5ECF6\",\"gridcolor\":\"white\",\"linecolor\":\"white\",\"showbackground\":true,\"ticks\":\"\",\"zerolinecolor\":\"white\",\"gridwidth\":2}},\"shapedefaults\":{\"line\":{\"color\":\"#2a3f5f\"}},\"annotationdefaults\":{\"arrowcolor\":\"#2a3f5f\",\"arrowhead\":0,\"arrowwidth\":1},\"geo\":{\"bgcolor\":\"white\",\"landcolor\":\"#E5ECF6\",\"subunitcolor\":\"white\",\"showland\":true,\"showlakes\":true,\"lakecolor\":\"white\"},\"title\":{\"x\":0.05},\"mapbox\":{\"style\":\"light\"}}},\"xaxis\":{\"anchor\":\"y\",\"domain\":[0.0,1.0],\"title\":{\"text\":\"Time\"}},\"yaxis\":{\"anchor\":\"x\",\"domain\":[0.0,1.0],\"title\":{\"text\":\"AccAP\"}},\"legend\":{\"tracegroupgap\":0},\"margin\":{\"t\":60},\"title\":{\"text\":\"AccAP Time Series\",\"y\":0.95,\"x\":0.5,\"xanchor\":\"center\",\"yanchor\":\"top\"}},                        {\"responsive\": true}                    ).then(function(){\n",
       "                            \n",
       "var gd = document.getElementById('b165a4bb-a28f-4408-8f0d-66d32c46a309');\n",
       "var x = new MutationObserver(function (mutations, observer) {{\n",
       "        var display = window.getComputedStyle(gd).display;\n",
       "        if (!display || display === 'none') {{\n",
       "            console.log([gd, 'removed!']);\n",
       "            Plotly.purge(gd);\n",
       "            observer.disconnect();\n",
       "        }}\n",
       "}});\n",
       "\n",
       "// Listen for the removal of the full notebook cells\n",
       "var notebookContainer = gd.closest('#notebook-container');\n",
       "if (notebookContainer) {{\n",
       "    x.observe(notebookContainer, {childList: true});\n",
       "}}\n",
       "\n",
       "// Listen for the clearing of the current output cell\n",
       "var outputEl = gd.closest('.output');\n",
       "if (outputEl) {{\n",
       "    x.observe(outputEl, {childList: true});\n",
       "}}\n",
       "\n",
       "                        })                };                });            </script>        </div>"
      ]
     },
     "metadata": {},
     "output_type": "display_data"
    }
   ],
   "source": [
    "for column in ['AccV','AccML','AccAP']:\n",
    "    fig = px.line(train_tdcsfog_example_df, x=\"Time\", y=column, color_discrete_sequence=['darkslateblue'])\n",
    "    fig.update_layout(\n",
    "        title={\n",
    "            'text': f\"{column} Time Series\",\n",
    "            'y':0.95,\n",
    "            'x':0.5,\n",
    "            'xanchor': 'center',\n",
    "            'yanchor': 'top'\n",
    "        }\n",
    "    )\n",
    "    fig.show()"
   ]
  },
  {
   "cell_type": "markdown",
   "metadata": {},
   "source": [
    "<p style=\"font-family: consolas; font-size: 16px;\">❔ How is the correlation matrix for the data looks like.</p>"
   ]
  },
  {
   "cell_type": "code",
   "execution_count": 16,
   "metadata": {
    "execution": {
     "iopub.execute_input": "2023-07-14T02:26:03.545988Z",
     "iopub.status.busy": "2023-07-14T02:26:03.545600Z",
     "iopub.status.idle": "2023-07-14T02:26:03.657740Z",
     "shell.execute_reply": "2023-07-14T02:26:03.656684Z",
     "shell.execute_reply.started": "2023-07-14T02:26:03.545948Z"
    }
   },
   "outputs": [
    {
     "data": {
      "text/html": [
       "<div>                            <div id=\"6065b5a5-d7d6-45da-aee6-43ddebf514d9\" class=\"plotly-graph-div\" style=\"height:525px; width:100%;\"></div>            <script type=\"text/javascript\">                require([\"plotly\"], function(Plotly) {                    window.PLOTLYENV=window.PLOTLYENV || {};                                    if (document.getElementById(\"6065b5a5-d7d6-45da-aee6-43ddebf514d9\")) {                    Plotly.newPlot(                        \"6065b5a5-d7d6-45da-aee6-43ddebf514d9\",                        [{\"coloraxis\":\"coloraxis\",\"name\":\"0\",\"texttemplate\":\"%{z}\",\"x\":[\"Time\",\"AccV\",\"AccML\",\"AccAP\",\"Turn\"],\"y\":[\"Time\",\"AccV\",\"AccML\",\"AccAP\",\"Turn\"],\"z\":[[1.0,0.037,0.011,0.303,-0.281],[0.037,1.0,0.227,0.131,0.006],[0.011,0.227,1.0,0.083,0.079],[0.303,0.131,0.083,1.0,0.154],[-0.281,0.006,0.079,0.154,1.0]],\"type\":\"heatmap\",\"xaxis\":\"x\",\"yaxis\":\"y\",\"hovertemplate\":\"x: %{x}<br>y: %{y}<br>color: %{z}<extra></extra>\"}],                        {\"template\":{\"data\":{\"histogram2dcontour\":[{\"type\":\"histogram2dcontour\",\"colorbar\":{\"outlinewidth\":0,\"ticks\":\"\"},\"colorscale\":[[0.0,\"#0d0887\"],[0.1111111111111111,\"#46039f\"],[0.2222222222222222,\"#7201a8\"],[0.3333333333333333,\"#9c179e\"],[0.4444444444444444,\"#bd3786\"],[0.5555555555555556,\"#d8576b\"],[0.6666666666666666,\"#ed7953\"],[0.7777777777777778,\"#fb9f3a\"],[0.8888888888888888,\"#fdca26\"],[1.0,\"#f0f921\"]]}],\"choropleth\":[{\"type\":\"choropleth\",\"colorbar\":{\"outlinewidth\":0,\"ticks\":\"\"}}],\"histogram2d\":[{\"type\":\"histogram2d\",\"colorbar\":{\"outlinewidth\":0,\"ticks\":\"\"},\"colorscale\":[[0.0,\"#0d0887\"],[0.1111111111111111,\"#46039f\"],[0.2222222222222222,\"#7201a8\"],[0.3333333333333333,\"#9c179e\"],[0.4444444444444444,\"#bd3786\"],[0.5555555555555556,\"#d8576b\"],[0.6666666666666666,\"#ed7953\"],[0.7777777777777778,\"#fb9f3a\"],[0.8888888888888888,\"#fdca26\"],[1.0,\"#f0f921\"]]}],\"heatmap\":[{\"type\":\"heatmap\",\"colorbar\":{\"outlinewidth\":0,\"ticks\":\"\"},\"colorscale\":[[0.0,\"#0d0887\"],[0.1111111111111111,\"#46039f\"],[0.2222222222222222,\"#7201a8\"],[0.3333333333333333,\"#9c179e\"],[0.4444444444444444,\"#bd3786\"],[0.5555555555555556,\"#d8576b\"],[0.6666666666666666,\"#ed7953\"],[0.7777777777777778,\"#fb9f3a\"],[0.8888888888888888,\"#fdca26\"],[1.0,\"#f0f921\"]]}],\"heatmapgl\":[{\"type\":\"heatmapgl\",\"colorbar\":{\"outlinewidth\":0,\"ticks\":\"\"},\"colorscale\":[[0.0,\"#0d0887\"],[0.1111111111111111,\"#46039f\"],[0.2222222222222222,\"#7201a8\"],[0.3333333333333333,\"#9c179e\"],[0.4444444444444444,\"#bd3786\"],[0.5555555555555556,\"#d8576b\"],[0.6666666666666666,\"#ed7953\"],[0.7777777777777778,\"#fb9f3a\"],[0.8888888888888888,\"#fdca26\"],[1.0,\"#f0f921\"]]}],\"contourcarpet\":[{\"type\":\"contourcarpet\",\"colorbar\":{\"outlinewidth\":0,\"ticks\":\"\"}}],\"contour\":[{\"type\":\"contour\",\"colorbar\":{\"outlinewidth\":0,\"ticks\":\"\"},\"colorscale\":[[0.0,\"#0d0887\"],[0.1111111111111111,\"#46039f\"],[0.2222222222222222,\"#7201a8\"],[0.3333333333333333,\"#9c179e\"],[0.4444444444444444,\"#bd3786\"],[0.5555555555555556,\"#d8576b\"],[0.6666666666666666,\"#ed7953\"],[0.7777777777777778,\"#fb9f3a\"],[0.8888888888888888,\"#fdca26\"],[1.0,\"#f0f921\"]]}],\"surface\":[{\"type\":\"surface\",\"colorbar\":{\"outlinewidth\":0,\"ticks\":\"\"},\"colorscale\":[[0.0,\"#0d0887\"],[0.1111111111111111,\"#46039f\"],[0.2222222222222222,\"#7201a8\"],[0.3333333333333333,\"#9c179e\"],[0.4444444444444444,\"#bd3786\"],[0.5555555555555556,\"#d8576b\"],[0.6666666666666666,\"#ed7953\"],[0.7777777777777778,\"#fb9f3a\"],[0.8888888888888888,\"#fdca26\"],[1.0,\"#f0f921\"]]}],\"mesh3d\":[{\"type\":\"mesh3d\",\"colorbar\":{\"outlinewidth\":0,\"ticks\":\"\"}}],\"scatter\":[{\"fillpattern\":{\"fillmode\":\"overlay\",\"size\":10,\"solidity\":0.2},\"type\":\"scatter\"}],\"parcoords\":[{\"type\":\"parcoords\",\"line\":{\"colorbar\":{\"outlinewidth\":0,\"ticks\":\"\"}}}],\"scatterpolargl\":[{\"type\":\"scatterpolargl\",\"marker\":{\"colorbar\":{\"outlinewidth\":0,\"ticks\":\"\"}}}],\"bar\":[{\"error_x\":{\"color\":\"#2a3f5f\"},\"error_y\":{\"color\":\"#2a3f5f\"},\"marker\":{\"line\":{\"color\":\"#E5ECF6\",\"width\":0.5},\"pattern\":{\"fillmode\":\"overlay\",\"size\":10,\"solidity\":0.2}},\"type\":\"bar\"}],\"scattergeo\":[{\"type\":\"scattergeo\",\"marker\":{\"colorbar\":{\"outlinewidth\":0,\"ticks\":\"\"}}}],\"scatterpolar\":[{\"type\":\"scatterpolar\",\"marker\":{\"colorbar\":{\"outlinewidth\":0,\"ticks\":\"\"}}}],\"histogram\":[{\"marker\":{\"pattern\":{\"fillmode\":\"overlay\",\"size\":10,\"solidity\":0.2}},\"type\":\"histogram\"}],\"scattergl\":[{\"type\":\"scattergl\",\"marker\":{\"colorbar\":{\"outlinewidth\":0,\"ticks\":\"\"}}}],\"scatter3d\":[{\"type\":\"scatter3d\",\"line\":{\"colorbar\":{\"outlinewidth\":0,\"ticks\":\"\"}},\"marker\":{\"colorbar\":{\"outlinewidth\":0,\"ticks\":\"\"}}}],\"scattermapbox\":[{\"type\":\"scattermapbox\",\"marker\":{\"colorbar\":{\"outlinewidth\":0,\"ticks\":\"\"}}}],\"scatterternary\":[{\"type\":\"scatterternary\",\"marker\":{\"colorbar\":{\"outlinewidth\":0,\"ticks\":\"\"}}}],\"scattercarpet\":[{\"type\":\"scattercarpet\",\"marker\":{\"colorbar\":{\"outlinewidth\":0,\"ticks\":\"\"}}}],\"carpet\":[{\"aaxis\":{\"endlinecolor\":\"#2a3f5f\",\"gridcolor\":\"white\",\"linecolor\":\"white\",\"minorgridcolor\":\"white\",\"startlinecolor\":\"#2a3f5f\"},\"baxis\":{\"endlinecolor\":\"#2a3f5f\",\"gridcolor\":\"white\",\"linecolor\":\"white\",\"minorgridcolor\":\"white\",\"startlinecolor\":\"#2a3f5f\"},\"type\":\"carpet\"}],\"table\":[{\"cells\":{\"fill\":{\"color\":\"#EBF0F8\"},\"line\":{\"color\":\"white\"}},\"header\":{\"fill\":{\"color\":\"#C8D4E3\"},\"line\":{\"color\":\"white\"}},\"type\":\"table\"}],\"barpolar\":[{\"marker\":{\"line\":{\"color\":\"#E5ECF6\",\"width\":0.5},\"pattern\":{\"fillmode\":\"overlay\",\"size\":10,\"solidity\":0.2}},\"type\":\"barpolar\"}],\"pie\":[{\"automargin\":true,\"type\":\"pie\"}]},\"layout\":{\"autotypenumbers\":\"strict\",\"colorway\":[\"#636efa\",\"#EF553B\",\"#00cc96\",\"#ab63fa\",\"#FFA15A\",\"#19d3f3\",\"#FF6692\",\"#B6E880\",\"#FF97FF\",\"#FECB52\"],\"font\":{\"color\":\"#2a3f5f\"},\"hovermode\":\"closest\",\"hoverlabel\":{\"align\":\"left\"},\"paper_bgcolor\":\"white\",\"plot_bgcolor\":\"#E5ECF6\",\"polar\":{\"bgcolor\":\"#E5ECF6\",\"angularaxis\":{\"gridcolor\":\"white\",\"linecolor\":\"white\",\"ticks\":\"\"},\"radialaxis\":{\"gridcolor\":\"white\",\"linecolor\":\"white\",\"ticks\":\"\"}},\"ternary\":{\"bgcolor\":\"#E5ECF6\",\"aaxis\":{\"gridcolor\":\"white\",\"linecolor\":\"white\",\"ticks\":\"\"},\"baxis\":{\"gridcolor\":\"white\",\"linecolor\":\"white\",\"ticks\":\"\"},\"caxis\":{\"gridcolor\":\"white\",\"linecolor\":\"white\",\"ticks\":\"\"}},\"coloraxis\":{\"colorbar\":{\"outlinewidth\":0,\"ticks\":\"\"}},\"colorscale\":{\"sequential\":[[0.0,\"#0d0887\"],[0.1111111111111111,\"#46039f\"],[0.2222222222222222,\"#7201a8\"],[0.3333333333333333,\"#9c179e\"],[0.4444444444444444,\"#bd3786\"],[0.5555555555555556,\"#d8576b\"],[0.6666666666666666,\"#ed7953\"],[0.7777777777777778,\"#fb9f3a\"],[0.8888888888888888,\"#fdca26\"],[1.0,\"#f0f921\"]],\"sequentialminus\":[[0.0,\"#0d0887\"],[0.1111111111111111,\"#46039f\"],[0.2222222222222222,\"#7201a8\"],[0.3333333333333333,\"#9c179e\"],[0.4444444444444444,\"#bd3786\"],[0.5555555555555556,\"#d8576b\"],[0.6666666666666666,\"#ed7953\"],[0.7777777777777778,\"#fb9f3a\"],[0.8888888888888888,\"#fdca26\"],[1.0,\"#f0f921\"]],\"diverging\":[[0,\"#8e0152\"],[0.1,\"#c51b7d\"],[0.2,\"#de77ae\"],[0.3,\"#f1b6da\"],[0.4,\"#fde0ef\"],[0.5,\"#f7f7f7\"],[0.6,\"#e6f5d0\"],[0.7,\"#b8e186\"],[0.8,\"#7fbc41\"],[0.9,\"#4d9221\"],[1,\"#276419\"]]},\"xaxis\":{\"gridcolor\":\"white\",\"linecolor\":\"white\",\"ticks\":\"\",\"title\":{\"standoff\":15},\"zerolinecolor\":\"white\",\"automargin\":true,\"zerolinewidth\":2},\"yaxis\":{\"gridcolor\":\"white\",\"linecolor\":\"white\",\"ticks\":\"\",\"title\":{\"standoff\":15},\"zerolinecolor\":\"white\",\"automargin\":true,\"zerolinewidth\":2},\"scene\":{\"xaxis\":{\"backgroundcolor\":\"#E5ECF6\",\"gridcolor\":\"white\",\"linecolor\":\"white\",\"showbackground\":true,\"ticks\":\"\",\"zerolinecolor\":\"white\",\"gridwidth\":2},\"yaxis\":{\"backgroundcolor\":\"#E5ECF6\",\"gridcolor\":\"white\",\"linecolor\":\"white\",\"showbackground\":true,\"ticks\":\"\",\"zerolinecolor\":\"white\",\"gridwidth\":2},\"zaxis\":{\"backgroundcolor\":\"#E5ECF6\",\"gridcolor\":\"white\",\"linecolor\":\"white\",\"showbackground\":true,\"ticks\":\"\",\"zerolinecolor\":\"white\",\"gridwidth\":2}},\"shapedefaults\":{\"line\":{\"color\":\"#2a3f5f\"}},\"annotationdefaults\":{\"arrowcolor\":\"#2a3f5f\",\"arrowhead\":0,\"arrowwidth\":1},\"geo\":{\"bgcolor\":\"white\",\"landcolor\":\"#E5ECF6\",\"subunitcolor\":\"white\",\"showland\":true,\"showlakes\":true,\"lakecolor\":\"white\"},\"title\":{\"x\":0.05},\"mapbox\":{\"style\":\"light\"}}},\"xaxis\":{\"anchor\":\"y\",\"domain\":[0.0,1.0],\"scaleanchor\":\"y\",\"constrain\":\"domain\",\"side\":\"bottom\"},\"yaxis\":{\"anchor\":\"x\",\"domain\":[0.0,1.0],\"autorange\":\"reversed\",\"constrain\":\"domain\"},\"coloraxis\":{\"colorscale\":[[0.0,\"#0d0887\"],[0.1111111111111111,\"#46039f\"],[0.2222222222222222,\"#7201a8\"],[0.3333333333333333,\"#9c179e\"],[0.4444444444444444,\"#bd3786\"],[0.5555555555555556,\"#d8576b\"],[0.6666666666666666,\"#ed7953\"],[0.7777777777777778,\"#fb9f3a\"],[0.8888888888888888,\"#fdca26\"],[1.0,\"#f0f921\"]]},\"margin\":{\"t\":60},\"title\":{\"text\":\"Correlation Matrix of tdcsfog train instance\",\"y\":0.95,\"x\":0.5,\"xanchor\":\"center\",\"yanchor\":\"top\"}},                        {\"responsive\": true}                    ).then(function(){\n",
       "                            \n",
       "var gd = document.getElementById('6065b5a5-d7d6-45da-aee6-43ddebf514d9');\n",
       "var x = new MutationObserver(function (mutations, observer) {{\n",
       "        var display = window.getComputedStyle(gd).display;\n",
       "        if (!display || display === 'none') {{\n",
       "            console.log([gd, 'removed!']);\n",
       "            Plotly.purge(gd);\n",
       "            observer.disconnect();\n",
       "        }}\n",
       "}});\n",
       "\n",
       "// Listen for the removal of the full notebook cells\n",
       "var notebookContainer = gd.closest('#notebook-container');\n",
       "if (notebookContainer) {{\n",
       "    x.observe(notebookContainer, {childList: true});\n",
       "}}\n",
       "\n",
       "// Listen for the clearing of the current output cell\n",
       "var outputEl = gd.closest('.output');\n",
       "if (outputEl) {{\n",
       "    x.observe(outputEl, {childList: true});\n",
       "}}\n",
       "\n",
       "                        })                };                });            </script>        </div>"
      ]
     },
     "metadata": {},
     "output_type": "display_data"
    }
   ],
   "source": [
    "corr_mat = np.round(train_tdcsfog_example_df.drop(\n",
    "    [\"StartHesitation\", \"Walking\"], axis=1\n",
    ").corr(), 3)\n",
    "\n",
    "fig = px.imshow(\n",
    "    corr_mat,\n",
    "    x=corr_mat.columns,\n",
    "    y=corr_mat.columns, \n",
    "    text_auto=True\n",
    "   )\n",
    "fig.update_xaxes(side=\"bottom\")\n",
    "fig.update_layout(\n",
    "    title={\n",
    "        'text': \"Correlation Matrix of tdcsfog train instance\",\n",
    "        'y':0.95,\n",
    "        'x':0.5,\n",
    "        'xanchor': 'center',\n",
    "        'yanchor': 'top'\n",
    "    }\n",
    ")\n",
    "\n",
    "fig.show()"
   ]
  },
  {
   "cell_type": "markdown",
   "metadata": {},
   "source": [
    "<a id=\"1.2\"></a>\n",
    "## <div style=\"box-shadow: rgba(0, 0, 0, 0.18) 0px 2px 4px inset; padding:20px; font-size:24px; font-family: consolas; text-align:center; display:fill; border-radius:15px; color:rgb(67, 66, 66)\"> <b> 1.2 Overview <i>test/</i> directory</b></div>"
   ]
  },
  {
   "cell_type": "markdown",
   "metadata": {},
   "source": [
    "<p style=\"font-family: consolas; font-size: 16px;\">⚪ <b>test/</b> Only the <code>Time</code>, <code>AccV</code>, <code>AccML</code>, and <code>AccAP</code> fields are provided for the test series.</p>\n"
   ]
  },
  {
   "cell_type": "code",
   "execution_count": 17,
   "metadata": {
    "execution": {
     "iopub.execute_input": "2023-07-14T02:26:03.659752Z",
     "iopub.status.busy": "2023-07-14T02:26:03.659104Z",
     "iopub.status.idle": "2023-07-14T02:26:03.672755Z",
     "shell.execute_reply": "2023-07-14T02:26:03.671214Z",
     "shell.execute_reply.started": "2023-07-14T02:26:03.659710Z"
    }
   },
   "outputs": [
    {
     "data": {
      "text/plain": [
       "['defog', 'tdcsfog']"
      ]
     },
     "execution_count": 17,
     "metadata": {},
     "output_type": "execute_result"
    }
   ],
   "source": [
    "os.listdir(\"/kaggle/input/tlvmc-parkinsons-freezing-gait-prediction/test\")"
   ]
  },
  {
   "cell_type": "markdown",
   "metadata": {},
   "source": [
    "<p style=\"font-family: consolas; font-size: 16px;\">❔ How many files are in folder <i>tdcsfog/</i>.</p>"
   ]
  },
  {
   "cell_type": "code",
   "execution_count": 18,
   "metadata": {
    "execution": {
     "iopub.execute_input": "2023-07-14T02:26:03.675297Z",
     "iopub.status.busy": "2023-07-14T02:26:03.674766Z",
     "iopub.status.idle": "2023-07-14T02:26:03.688146Z",
     "shell.execute_reply": "2023-07-14T02:26:03.686709Z",
     "shell.execute_reply.started": "2023-07-14T02:26:03.675243Z"
    }
   },
   "outputs": [
    {
     "name": "stdout",
     "output_type": "stream",
     "text": [
      "Number of files in folder tdcsfog/: \u001b[94m1\u001b[0m\n"
     ]
    }
   ],
   "source": [
    "temp = len(os.listdir(\"/kaggle/input/tlvmc-parkinsons-freezing-gait-prediction/test/tdcsfog\"))\n",
    "print(\n",
    "    f\"Number of files in folder tdcsfog/: {color.BLUE}{temp}{color.END}\",\n",
    ")"
   ]
  },
  {
   "cell_type": "markdown",
   "metadata": {},
   "source": [
    "<p style=\"font-family: consolas; font-size: 16px;\">❔ How many files are in folder <i>defog/</i>.</p>"
   ]
  },
  {
   "cell_type": "code",
   "execution_count": 19,
   "metadata": {
    "execution": {
     "iopub.execute_input": "2023-07-14T02:26:03.691198Z",
     "iopub.status.busy": "2023-07-14T02:26:03.690409Z",
     "iopub.status.idle": "2023-07-14T02:26:03.722529Z",
     "shell.execute_reply": "2023-07-14T02:26:03.721068Z",
     "shell.execute_reply.started": "2023-07-14T02:26:03.691152Z"
    }
   },
   "outputs": [
    {
     "name": "stdout",
     "output_type": "stream",
     "text": [
      "Number of files in folder defog/: \u001b[94m1\u001b[0m\n"
     ]
    }
   ],
   "source": [
    "temp = len(os.listdir(\"/kaggle/input/tlvmc-parkinsons-freezing-gait-prediction/test/defog\"))\n",
    "print(\n",
    "    f\"Number of files in folder defog/: {color.BLUE}{temp}{color.END}\",\n",
    ")"
   ]
  },
  {
   "cell_type": "markdown",
   "metadata": {},
   "source": [
    "<p style=\"font-family: consolas; font-size: 16px;\">❔ How the test data looks like.</p>"
   ]
  },
  {
   "cell_type": "code",
   "execution_count": 20,
   "metadata": {
    "execution": {
     "iopub.execute_input": "2023-07-14T02:26:03.725579Z",
     "iopub.status.busy": "2023-07-14T02:26:03.724345Z",
     "iopub.status.idle": "2023-07-14T02:26:03.753182Z",
     "shell.execute_reply": "2023-07-14T02:26:03.751913Z",
     "shell.execute_reply.started": "2023-07-14T02:26:03.725510Z"
    }
   },
   "outputs": [],
   "source": [
    "test_tdcsfog_example_df = pd.read_csv(\"/kaggle/input/tlvmc-parkinsons-freezing-gait-prediction/test/tdcsfog/003f117e14.csv\")"
   ]
  },
  {
   "cell_type": "code",
   "execution_count": 21,
   "metadata": {
    "execution": {
     "iopub.execute_input": "2023-07-14T02:26:03.755535Z",
     "iopub.status.busy": "2023-07-14T02:26:03.754992Z",
     "iopub.status.idle": "2023-07-14T02:26:03.763691Z",
     "shell.execute_reply": "2023-07-14T02:26:03.762001Z",
     "shell.execute_reply.started": "2023-07-14T02:26:03.755478Z"
    }
   },
   "outputs": [
    {
     "name": "stdout",
     "output_type": "stream",
     "text": [
      "Length of dataframe: \u001b[94m4682\u001b[0m\n"
     ]
    }
   ],
   "source": [
    "temp = len(test_tdcsfog_example_df)\n",
    "print(\n",
    "    f\"Length of dataframe: {color.BLUE}{temp}{color.END}\",\n",
    ")"
   ]
  },
  {
   "cell_type": "code",
   "execution_count": 22,
   "metadata": {
    "execution": {
     "iopub.execute_input": "2023-07-14T02:26:03.768937Z",
     "iopub.status.busy": "2023-07-14T02:26:03.765778Z",
     "iopub.status.idle": "2023-07-14T02:26:03.785793Z",
     "shell.execute_reply": "2023-07-14T02:26:03.784450Z",
     "shell.execute_reply.started": "2023-07-14T02:26:03.768862Z"
    }
   },
   "outputs": [
    {
     "data": {
      "text/html": [
       "<div>\n",
       "<style scoped>\n",
       "    .dataframe tbody tr th:only-of-type {\n",
       "        vertical-align: middle;\n",
       "    }\n",
       "\n",
       "    .dataframe tbody tr th {\n",
       "        vertical-align: top;\n",
       "    }\n",
       "\n",
       "    .dataframe thead th {\n",
       "        text-align: right;\n",
       "    }\n",
       "</style>\n",
       "<table border=\"1\" class=\"dataframe\">\n",
       "  <thead>\n",
       "    <tr style=\"text-align: right;\">\n",
       "      <th></th>\n",
       "      <th>Time</th>\n",
       "      <th>AccV</th>\n",
       "      <th>AccML</th>\n",
       "      <th>AccAP</th>\n",
       "    </tr>\n",
       "  </thead>\n",
       "  <tbody>\n",
       "    <tr>\n",
       "      <th>0</th>\n",
       "      <td>0</td>\n",
       "      <td>-9.533939</td>\n",
       "      <td>0.566322</td>\n",
       "      <td>-1.413525</td>\n",
       "    </tr>\n",
       "    <tr>\n",
       "      <th>1</th>\n",
       "      <td>1</td>\n",
       "      <td>-9.536140</td>\n",
       "      <td>0.564137</td>\n",
       "      <td>-1.440621</td>\n",
       "    </tr>\n",
       "    <tr>\n",
       "      <th>2</th>\n",
       "      <td>2</td>\n",
       "      <td>-9.529345</td>\n",
       "      <td>0.561765</td>\n",
       "      <td>-1.429332</td>\n",
       "    </tr>\n",
       "    <tr>\n",
       "      <th>3</th>\n",
       "      <td>3</td>\n",
       "      <td>-9.531239</td>\n",
       "      <td>0.564227</td>\n",
       "      <td>-1.415490</td>\n",
       "    </tr>\n",
       "    <tr>\n",
       "      <th>4</th>\n",
       "      <td>4</td>\n",
       "      <td>-9.540825</td>\n",
       "      <td>0.561854</td>\n",
       "      <td>-1.429471</td>\n",
       "    </tr>\n",
       "  </tbody>\n",
       "</table>\n",
       "</div>"
      ],
      "text/plain": [
       "   Time      AccV     AccML     AccAP\n",
       "0     0 -9.533939  0.566322 -1.413525\n",
       "1     1 -9.536140  0.564137 -1.440621\n",
       "2     2 -9.529345  0.561765 -1.429332\n",
       "3     3 -9.531239  0.564227 -1.415490\n",
       "4     4 -9.540825  0.561854 -1.429471"
      ]
     },
     "execution_count": 22,
     "metadata": {},
     "output_type": "execute_result"
    }
   ],
   "source": [
    "test_tdcsfog_example_df.head()"
   ]
  },
  {
   "cell_type": "code",
   "execution_count": 23,
   "metadata": {
    "execution": {
     "iopub.execute_input": "2023-07-14T02:26:03.788248Z",
     "iopub.status.busy": "2023-07-14T02:26:03.787827Z",
     "iopub.status.idle": "2023-07-14T02:26:03.821761Z",
     "shell.execute_reply": "2023-07-14T02:26:03.820419Z",
     "shell.execute_reply.started": "2023-07-14T02:26:03.788207Z"
    }
   },
   "outputs": [
    {
     "data": {
      "text/html": [
       "<div>\n",
       "<style scoped>\n",
       "    .dataframe tbody tr th:only-of-type {\n",
       "        vertical-align: middle;\n",
       "    }\n",
       "\n",
       "    .dataframe tbody tr th {\n",
       "        vertical-align: top;\n",
       "    }\n",
       "\n",
       "    .dataframe thead th {\n",
       "        text-align: right;\n",
       "    }\n",
       "</style>\n",
       "<table border=\"1\" class=\"dataframe\">\n",
       "  <thead>\n",
       "    <tr style=\"text-align: right;\">\n",
       "      <th></th>\n",
       "      <th>Time</th>\n",
       "      <th>AccV</th>\n",
       "      <th>AccML</th>\n",
       "      <th>AccAP</th>\n",
       "    </tr>\n",
       "  </thead>\n",
       "  <tbody>\n",
       "    <tr>\n",
       "      <th>count</th>\n",
       "      <td>4682.00000</td>\n",
       "      <td>4682.000000</td>\n",
       "      <td>4682.000000</td>\n",
       "      <td>4682.000000</td>\n",
       "    </tr>\n",
       "    <tr>\n",
       "      <th>mean</th>\n",
       "      <td>2340.50000</td>\n",
       "      <td>-9.151214</td>\n",
       "      <td>0.753518</td>\n",
       "      <td>2.471637</td>\n",
       "    </tr>\n",
       "    <tr>\n",
       "      <th>std</th>\n",
       "      <td>1351.72131</td>\n",
       "      <td>1.384390</td>\n",
       "      <td>1.102125</td>\n",
       "      <td>2.239906</td>\n",
       "    </tr>\n",
       "    <tr>\n",
       "      <th>min</th>\n",
       "      <td>0.00000</td>\n",
       "      <td>-23.796051</td>\n",
       "      <td>-9.097370</td>\n",
       "      <td>-7.353417</td>\n",
       "    </tr>\n",
       "    <tr>\n",
       "      <th>25%</th>\n",
       "      <td>1170.25000</td>\n",
       "      <td>-9.537719</td>\n",
       "      <td>0.322877</td>\n",
       "      <td>1.966646</td>\n",
       "    </tr>\n",
       "    <tr>\n",
       "      <th>50%</th>\n",
       "      <td>2340.50000</td>\n",
       "      <td>-9.234702</td>\n",
       "      <td>0.580891</td>\n",
       "      <td>3.137857</td>\n",
       "    </tr>\n",
       "    <tr>\n",
       "      <th>75%</th>\n",
       "      <td>3510.75000</td>\n",
       "      <td>-8.470460</td>\n",
       "      <td>1.368355</td>\n",
       "      <td>3.819931</td>\n",
       "    </tr>\n",
       "    <tr>\n",
       "      <th>max</th>\n",
       "      <td>4681.00000</td>\n",
       "      <td>-3.915590</td>\n",
       "      <td>5.996704</td>\n",
       "      <td>10.281080</td>\n",
       "    </tr>\n",
       "  </tbody>\n",
       "</table>\n",
       "</div>"
      ],
      "text/plain": [
       "             Time         AccV        AccML        AccAP\n",
       "count  4682.00000  4682.000000  4682.000000  4682.000000\n",
       "mean   2340.50000    -9.151214     0.753518     2.471637\n",
       "std    1351.72131     1.384390     1.102125     2.239906\n",
       "min       0.00000   -23.796051    -9.097370    -7.353417\n",
       "25%    1170.25000    -9.537719     0.322877     1.966646\n",
       "50%    2340.50000    -9.234702     0.580891     3.137857\n",
       "75%    3510.75000    -8.470460     1.368355     3.819931\n",
       "max    4681.00000    -3.915590     5.996704    10.281080"
      ]
     },
     "execution_count": 23,
     "metadata": {},
     "output_type": "execute_result"
    }
   ],
   "source": [
    "test_tdcsfog_example_df.describe()"
   ]
  },
  {
   "cell_type": "markdown",
   "metadata": {},
   "source": [
    "<p style=\"font-family: consolas; font-size: 16px;\">❔ How is the correlation matrix for the data looks like.</p>"
   ]
  },
  {
   "cell_type": "code",
   "execution_count": 24,
   "metadata": {
    "execution": {
     "iopub.execute_input": "2023-07-14T02:26:03.823821Z",
     "iopub.status.busy": "2023-07-14T02:26:03.823436Z",
     "iopub.status.idle": "2023-07-14T02:26:03.902733Z",
     "shell.execute_reply": "2023-07-14T02:26:03.901271Z",
     "shell.execute_reply.started": "2023-07-14T02:26:03.823785Z"
    }
   },
   "outputs": [
    {
     "data": {
      "text/html": [
       "<div>                            <div id=\"36b179a2-99bc-4e79-b022-7541881bf5d0\" class=\"plotly-graph-div\" style=\"height:525px; width:100%;\"></div>            <script type=\"text/javascript\">                require([\"plotly\"], function(Plotly) {                    window.PLOTLYENV=window.PLOTLYENV || {};                                    if (document.getElementById(\"36b179a2-99bc-4e79-b022-7541881bf5d0\")) {                    Plotly.newPlot(                        \"36b179a2-99bc-4e79-b022-7541881bf5d0\",                        [{\"coloraxis\":\"coloraxis\",\"name\":\"0\",\"texttemplate\":\"%{z}\",\"x\":[\"Time\",\"AccV\",\"AccML\",\"AccAP\"],\"y\":[\"Time\",\"AccV\",\"AccML\",\"AccAP\"],\"z\":[[1.0,0.037,0.011,0.303],[0.037,1.0,0.227,0.131],[0.011,0.227,1.0,0.083],[0.303,0.131,0.083,1.0]],\"type\":\"heatmap\",\"xaxis\":\"x\",\"yaxis\":\"y\",\"hovertemplate\":\"x: %{x}<br>y: %{y}<br>color: %{z}<extra></extra>\"}],                        {\"template\":{\"data\":{\"histogram2dcontour\":[{\"type\":\"histogram2dcontour\",\"colorbar\":{\"outlinewidth\":0,\"ticks\":\"\"},\"colorscale\":[[0.0,\"#0d0887\"],[0.1111111111111111,\"#46039f\"],[0.2222222222222222,\"#7201a8\"],[0.3333333333333333,\"#9c179e\"],[0.4444444444444444,\"#bd3786\"],[0.5555555555555556,\"#d8576b\"],[0.6666666666666666,\"#ed7953\"],[0.7777777777777778,\"#fb9f3a\"],[0.8888888888888888,\"#fdca26\"],[1.0,\"#f0f921\"]]}],\"choropleth\":[{\"type\":\"choropleth\",\"colorbar\":{\"outlinewidth\":0,\"ticks\":\"\"}}],\"histogram2d\":[{\"type\":\"histogram2d\",\"colorbar\":{\"outlinewidth\":0,\"ticks\":\"\"},\"colorscale\":[[0.0,\"#0d0887\"],[0.1111111111111111,\"#46039f\"],[0.2222222222222222,\"#7201a8\"],[0.3333333333333333,\"#9c179e\"],[0.4444444444444444,\"#bd3786\"],[0.5555555555555556,\"#d8576b\"],[0.6666666666666666,\"#ed7953\"],[0.7777777777777778,\"#fb9f3a\"],[0.8888888888888888,\"#fdca26\"],[1.0,\"#f0f921\"]]}],\"heatmap\":[{\"type\":\"heatmap\",\"colorbar\":{\"outlinewidth\":0,\"ticks\":\"\"},\"colorscale\":[[0.0,\"#0d0887\"],[0.1111111111111111,\"#46039f\"],[0.2222222222222222,\"#7201a8\"],[0.3333333333333333,\"#9c179e\"],[0.4444444444444444,\"#bd3786\"],[0.5555555555555556,\"#d8576b\"],[0.6666666666666666,\"#ed7953\"],[0.7777777777777778,\"#fb9f3a\"],[0.8888888888888888,\"#fdca26\"],[1.0,\"#f0f921\"]]}],\"heatmapgl\":[{\"type\":\"heatmapgl\",\"colorbar\":{\"outlinewidth\":0,\"ticks\":\"\"},\"colorscale\":[[0.0,\"#0d0887\"],[0.1111111111111111,\"#46039f\"],[0.2222222222222222,\"#7201a8\"],[0.3333333333333333,\"#9c179e\"],[0.4444444444444444,\"#bd3786\"],[0.5555555555555556,\"#d8576b\"],[0.6666666666666666,\"#ed7953\"],[0.7777777777777778,\"#fb9f3a\"],[0.8888888888888888,\"#fdca26\"],[1.0,\"#f0f921\"]]}],\"contourcarpet\":[{\"type\":\"contourcarpet\",\"colorbar\":{\"outlinewidth\":0,\"ticks\":\"\"}}],\"contour\":[{\"type\":\"contour\",\"colorbar\":{\"outlinewidth\":0,\"ticks\":\"\"},\"colorscale\":[[0.0,\"#0d0887\"],[0.1111111111111111,\"#46039f\"],[0.2222222222222222,\"#7201a8\"],[0.3333333333333333,\"#9c179e\"],[0.4444444444444444,\"#bd3786\"],[0.5555555555555556,\"#d8576b\"],[0.6666666666666666,\"#ed7953\"],[0.7777777777777778,\"#fb9f3a\"],[0.8888888888888888,\"#fdca26\"],[1.0,\"#f0f921\"]]}],\"surface\":[{\"type\":\"surface\",\"colorbar\":{\"outlinewidth\":0,\"ticks\":\"\"},\"colorscale\":[[0.0,\"#0d0887\"],[0.1111111111111111,\"#46039f\"],[0.2222222222222222,\"#7201a8\"],[0.3333333333333333,\"#9c179e\"],[0.4444444444444444,\"#bd3786\"],[0.5555555555555556,\"#d8576b\"],[0.6666666666666666,\"#ed7953\"],[0.7777777777777778,\"#fb9f3a\"],[0.8888888888888888,\"#fdca26\"],[1.0,\"#f0f921\"]]}],\"mesh3d\":[{\"type\":\"mesh3d\",\"colorbar\":{\"outlinewidth\":0,\"ticks\":\"\"}}],\"scatter\":[{\"fillpattern\":{\"fillmode\":\"overlay\",\"size\":10,\"solidity\":0.2},\"type\":\"scatter\"}],\"parcoords\":[{\"type\":\"parcoords\",\"line\":{\"colorbar\":{\"outlinewidth\":0,\"ticks\":\"\"}}}],\"scatterpolargl\":[{\"type\":\"scatterpolargl\",\"marker\":{\"colorbar\":{\"outlinewidth\":0,\"ticks\":\"\"}}}],\"bar\":[{\"error_x\":{\"color\":\"#2a3f5f\"},\"error_y\":{\"color\":\"#2a3f5f\"},\"marker\":{\"line\":{\"color\":\"#E5ECF6\",\"width\":0.5},\"pattern\":{\"fillmode\":\"overlay\",\"size\":10,\"solidity\":0.2}},\"type\":\"bar\"}],\"scattergeo\":[{\"type\":\"scattergeo\",\"marker\":{\"colorbar\":{\"outlinewidth\":0,\"ticks\":\"\"}}}],\"scatterpolar\":[{\"type\":\"scatterpolar\",\"marker\":{\"colorbar\":{\"outlinewidth\":0,\"ticks\":\"\"}}}],\"histogram\":[{\"marker\":{\"pattern\":{\"fillmode\":\"overlay\",\"size\":10,\"solidity\":0.2}},\"type\":\"histogram\"}],\"scattergl\":[{\"type\":\"scattergl\",\"marker\":{\"colorbar\":{\"outlinewidth\":0,\"ticks\":\"\"}}}],\"scatter3d\":[{\"type\":\"scatter3d\",\"line\":{\"colorbar\":{\"outlinewidth\":0,\"ticks\":\"\"}},\"marker\":{\"colorbar\":{\"outlinewidth\":0,\"ticks\":\"\"}}}],\"scattermapbox\":[{\"type\":\"scattermapbox\",\"marker\":{\"colorbar\":{\"outlinewidth\":0,\"ticks\":\"\"}}}],\"scatterternary\":[{\"type\":\"scatterternary\",\"marker\":{\"colorbar\":{\"outlinewidth\":0,\"ticks\":\"\"}}}],\"scattercarpet\":[{\"type\":\"scattercarpet\",\"marker\":{\"colorbar\":{\"outlinewidth\":0,\"ticks\":\"\"}}}],\"carpet\":[{\"aaxis\":{\"endlinecolor\":\"#2a3f5f\",\"gridcolor\":\"white\",\"linecolor\":\"white\",\"minorgridcolor\":\"white\",\"startlinecolor\":\"#2a3f5f\"},\"baxis\":{\"endlinecolor\":\"#2a3f5f\",\"gridcolor\":\"white\",\"linecolor\":\"white\",\"minorgridcolor\":\"white\",\"startlinecolor\":\"#2a3f5f\"},\"type\":\"carpet\"}],\"table\":[{\"cells\":{\"fill\":{\"color\":\"#EBF0F8\"},\"line\":{\"color\":\"white\"}},\"header\":{\"fill\":{\"color\":\"#C8D4E3\"},\"line\":{\"color\":\"white\"}},\"type\":\"table\"}],\"barpolar\":[{\"marker\":{\"line\":{\"color\":\"#E5ECF6\",\"width\":0.5},\"pattern\":{\"fillmode\":\"overlay\",\"size\":10,\"solidity\":0.2}},\"type\":\"barpolar\"}],\"pie\":[{\"automargin\":true,\"type\":\"pie\"}]},\"layout\":{\"autotypenumbers\":\"strict\",\"colorway\":[\"#636efa\",\"#EF553B\",\"#00cc96\",\"#ab63fa\",\"#FFA15A\",\"#19d3f3\",\"#FF6692\",\"#B6E880\",\"#FF97FF\",\"#FECB52\"],\"font\":{\"color\":\"#2a3f5f\"},\"hovermode\":\"closest\",\"hoverlabel\":{\"align\":\"left\"},\"paper_bgcolor\":\"white\",\"plot_bgcolor\":\"#E5ECF6\",\"polar\":{\"bgcolor\":\"#E5ECF6\",\"angularaxis\":{\"gridcolor\":\"white\",\"linecolor\":\"white\",\"ticks\":\"\"},\"radialaxis\":{\"gridcolor\":\"white\",\"linecolor\":\"white\",\"ticks\":\"\"}},\"ternary\":{\"bgcolor\":\"#E5ECF6\",\"aaxis\":{\"gridcolor\":\"white\",\"linecolor\":\"white\",\"ticks\":\"\"},\"baxis\":{\"gridcolor\":\"white\",\"linecolor\":\"white\",\"ticks\":\"\"},\"caxis\":{\"gridcolor\":\"white\",\"linecolor\":\"white\",\"ticks\":\"\"}},\"coloraxis\":{\"colorbar\":{\"outlinewidth\":0,\"ticks\":\"\"}},\"colorscale\":{\"sequential\":[[0.0,\"#0d0887\"],[0.1111111111111111,\"#46039f\"],[0.2222222222222222,\"#7201a8\"],[0.3333333333333333,\"#9c179e\"],[0.4444444444444444,\"#bd3786\"],[0.5555555555555556,\"#d8576b\"],[0.6666666666666666,\"#ed7953\"],[0.7777777777777778,\"#fb9f3a\"],[0.8888888888888888,\"#fdca26\"],[1.0,\"#f0f921\"]],\"sequentialminus\":[[0.0,\"#0d0887\"],[0.1111111111111111,\"#46039f\"],[0.2222222222222222,\"#7201a8\"],[0.3333333333333333,\"#9c179e\"],[0.4444444444444444,\"#bd3786\"],[0.5555555555555556,\"#d8576b\"],[0.6666666666666666,\"#ed7953\"],[0.7777777777777778,\"#fb9f3a\"],[0.8888888888888888,\"#fdca26\"],[1.0,\"#f0f921\"]],\"diverging\":[[0,\"#8e0152\"],[0.1,\"#c51b7d\"],[0.2,\"#de77ae\"],[0.3,\"#f1b6da\"],[0.4,\"#fde0ef\"],[0.5,\"#f7f7f7\"],[0.6,\"#e6f5d0\"],[0.7,\"#b8e186\"],[0.8,\"#7fbc41\"],[0.9,\"#4d9221\"],[1,\"#276419\"]]},\"xaxis\":{\"gridcolor\":\"white\",\"linecolor\":\"white\",\"ticks\":\"\",\"title\":{\"standoff\":15},\"zerolinecolor\":\"white\",\"automargin\":true,\"zerolinewidth\":2},\"yaxis\":{\"gridcolor\":\"white\",\"linecolor\":\"white\",\"ticks\":\"\",\"title\":{\"standoff\":15},\"zerolinecolor\":\"white\",\"automargin\":true,\"zerolinewidth\":2},\"scene\":{\"xaxis\":{\"backgroundcolor\":\"#E5ECF6\",\"gridcolor\":\"white\",\"linecolor\":\"white\",\"showbackground\":true,\"ticks\":\"\",\"zerolinecolor\":\"white\",\"gridwidth\":2},\"yaxis\":{\"backgroundcolor\":\"#E5ECF6\",\"gridcolor\":\"white\",\"linecolor\":\"white\",\"showbackground\":true,\"ticks\":\"\",\"zerolinecolor\":\"white\",\"gridwidth\":2},\"zaxis\":{\"backgroundcolor\":\"#E5ECF6\",\"gridcolor\":\"white\",\"linecolor\":\"white\",\"showbackground\":true,\"ticks\":\"\",\"zerolinecolor\":\"white\",\"gridwidth\":2}},\"shapedefaults\":{\"line\":{\"color\":\"#2a3f5f\"}},\"annotationdefaults\":{\"arrowcolor\":\"#2a3f5f\",\"arrowhead\":0,\"arrowwidth\":1},\"geo\":{\"bgcolor\":\"white\",\"landcolor\":\"#E5ECF6\",\"subunitcolor\":\"white\",\"showland\":true,\"showlakes\":true,\"lakecolor\":\"white\"},\"title\":{\"x\":0.05},\"mapbox\":{\"style\":\"light\"}}},\"xaxis\":{\"anchor\":\"y\",\"domain\":[0.0,1.0],\"scaleanchor\":\"y\",\"constrain\":\"domain\",\"side\":\"bottom\"},\"yaxis\":{\"anchor\":\"x\",\"domain\":[0.0,1.0],\"autorange\":\"reversed\",\"constrain\":\"domain\"},\"coloraxis\":{\"colorscale\":[[0.0,\"#0d0887\"],[0.1111111111111111,\"#46039f\"],[0.2222222222222222,\"#7201a8\"],[0.3333333333333333,\"#9c179e\"],[0.4444444444444444,\"#bd3786\"],[0.5555555555555556,\"#d8576b\"],[0.6666666666666666,\"#ed7953\"],[0.7777777777777778,\"#fb9f3a\"],[0.8888888888888888,\"#fdca26\"],[1.0,\"#f0f921\"]]},\"margin\":{\"t\":60},\"title\":{\"text\":\"Correlation Matrix of tdcsfog test instance\",\"y\":0.95,\"x\":0.5,\"xanchor\":\"center\",\"yanchor\":\"top\"}},                        {\"responsive\": true}                    ).then(function(){\n",
       "                            \n",
       "var gd = document.getElementById('36b179a2-99bc-4e79-b022-7541881bf5d0');\n",
       "var x = new MutationObserver(function (mutations, observer) {{\n",
       "        var display = window.getComputedStyle(gd).display;\n",
       "        if (!display || display === 'none') {{\n",
       "            console.log([gd, 'removed!']);\n",
       "            Plotly.purge(gd);\n",
       "            observer.disconnect();\n",
       "        }}\n",
       "}});\n",
       "\n",
       "// Listen for the removal of the full notebook cells\n",
       "var notebookContainer = gd.closest('#notebook-container');\n",
       "if (notebookContainer) {{\n",
       "    x.observe(notebookContainer, {childList: true});\n",
       "}}\n",
       "\n",
       "// Listen for the clearing of the current output cell\n",
       "var outputEl = gd.closest('.output');\n",
       "if (outputEl) {{\n",
       "    x.observe(outputEl, {childList: true});\n",
       "}}\n",
       "\n",
       "                        })                };                });            </script>        </div>"
      ]
     },
     "metadata": {},
     "output_type": "display_data"
    }
   ],
   "source": [
    "corr_mat = np.round(test_tdcsfog_example_df.corr(), 3)\n",
    "\n",
    "fig = px.imshow(\n",
    "    corr_mat,\n",
    "    x=corr_mat.columns,\n",
    "    y=corr_mat.columns, \n",
    "    text_auto=True\n",
    "   )\n",
    "fig.update_xaxes(side=\"bottom\")\n",
    "fig.update_layout(\n",
    "    title={\n",
    "        'text': \"Correlation Matrix of tdcsfog test instance\",\n",
    "        'y':0.95,\n",
    "        'x':0.5,\n",
    "        'xanchor': 'center',\n",
    "        'yanchor': 'top'\n",
    "    }\n",
    ")\n",
    "\n",
    "fig.show()"
   ]
  },
  {
   "cell_type": "markdown",
   "metadata": {},
   "source": [
    "<a id=\"1.3\"></a>\n",
    "## <div style=\"box-shadow: rgba(0, 0, 0, 0.18) 0px 2px 4px inset; padding:20px; font-size:24px; font-family: consolas; text-align:center; display:fill; border-radius:15px; color:rgb(67, 66, 66)\"> <b> 1.3 Overview <i>unlabeled/</i> directory</b></div>"
   ]
  },
  {
   "cell_type": "markdown",
   "metadata": {},
   "source": [
    "<p style=\"font-family: consolas; font-size: 16px;\">⚪ <b>unlabeled/</b> Folder containing the unannotated data series from the <code>daily</code> dataset, one series per subject. Forty-five of the subjects also have series in the <code>defog</code> dataset, some in the training split and some in the test split.</p>\n"
   ]
  },
  {
   "cell_type": "markdown",
   "metadata": {},
   "source": [
    "<p style=\"font-family: consolas; font-size: 16px;\">❔ How many files are in folder <i>unlabeled/</i>.</p>"
   ]
  },
  {
   "cell_type": "code",
   "execution_count": 25,
   "metadata": {
    "execution": {
     "iopub.execute_input": "2023-07-14T02:26:03.904953Z",
     "iopub.status.busy": "2023-07-14T02:26:03.904572Z",
     "iopub.status.idle": "2023-07-14T02:26:03.939251Z",
     "shell.execute_reply": "2023-07-14T02:26:03.937872Z",
     "shell.execute_reply.started": "2023-07-14T02:26:03.904917Z"
    }
   },
   "outputs": [
    {
     "name": "stdout",
     "output_type": "stream",
     "text": [
      "Number of files in folder unlabeled/: \u001b[94m65\u001b[0m\n"
     ]
    }
   ],
   "source": [
    "temp = len(os.listdir(\"/kaggle/input/tlvmc-parkinsons-freezing-gait-prediction/unlabeled\"))\n",
    "print(\n",
    "    f\"Number of files in folder unlabeled/: {color.BLUE}{temp}{color.END}\",\n",
    ")"
   ]
  },
  {
   "cell_type": "markdown",
   "metadata": {},
   "source": [
    "<p style=\"font-family: consolas; font-size: 16px;\">❔ How the data looks like.</p>"
   ]
  },
  {
   "cell_type": "code",
   "execution_count": 26,
   "metadata": {
    "execution": {
     "iopub.execute_input": "2023-07-14T02:26:03.941899Z",
     "iopub.status.busy": "2023-07-14T02:26:03.941136Z",
     "iopub.status.idle": "2023-07-14T02:26:15.530983Z",
     "shell.execute_reply": "2023-07-14T02:26:15.529936Z",
     "shell.execute_reply.started": "2023-07-14T02:26:03.941855Z"
    }
   },
   "outputs": [],
   "source": [
    "unlabeled_example_df = pd.read_parquet(\"/kaggle/input/tlvmc-parkinsons-freezing-gait-prediction/unlabeled/00c4c9313d.parquet\")"
   ]
  },
  {
   "cell_type": "code",
   "execution_count": 27,
   "metadata": {
    "execution": {
     "iopub.execute_input": "2023-07-14T02:26:15.532858Z",
     "iopub.status.busy": "2023-07-14T02:26:15.532488Z",
     "iopub.status.idle": "2023-07-14T02:26:15.549379Z",
     "shell.execute_reply": "2023-07-14T02:26:15.548027Z",
     "shell.execute_reply.started": "2023-07-14T02:26:15.532822Z"
    }
   },
   "outputs": [
    {
     "data": {
      "text/html": [
       "<div>\n",
       "<style scoped>\n",
       "    .dataframe tbody tr th:only-of-type {\n",
       "        vertical-align: middle;\n",
       "    }\n",
       "\n",
       "    .dataframe tbody tr th {\n",
       "        vertical-align: top;\n",
       "    }\n",
       "\n",
       "    .dataframe thead th {\n",
       "        text-align: right;\n",
       "    }\n",
       "</style>\n",
       "<table border=\"1\" class=\"dataframe\">\n",
       "  <thead>\n",
       "    <tr style=\"text-align: right;\">\n",
       "      <th></th>\n",
       "      <th>Time</th>\n",
       "      <th>AccV</th>\n",
       "      <th>AccML</th>\n",
       "      <th>AccAP</th>\n",
       "    </tr>\n",
       "  </thead>\n",
       "  <tbody>\n",
       "    <tr>\n",
       "      <th>0</th>\n",
       "      <td>0</td>\n",
       "      <td>0.328125</td>\n",
       "      <td>-0.109375</td>\n",
       "      <td>0.671875</td>\n",
       "    </tr>\n",
       "    <tr>\n",
       "      <th>1</th>\n",
       "      <td>1</td>\n",
       "      <td>0.453108</td>\n",
       "      <td>-0.124721</td>\n",
       "      <td>0.811273</td>\n",
       "    </tr>\n",
       "    <tr>\n",
       "      <th>2</th>\n",
       "      <td>2</td>\n",
       "      <td>0.423042</td>\n",
       "      <td>-0.264046</td>\n",
       "      <td>0.921238</td>\n",
       "    </tr>\n",
       "    <tr>\n",
       "      <th>3</th>\n",
       "      <td>3</td>\n",
       "      <td>0.150015</td>\n",
       "      <td>-0.310241</td>\n",
       "      <td>0.937483</td>\n",
       "    </tr>\n",
       "    <tr>\n",
       "      <th>4</th>\n",
       "      <td>4</td>\n",
       "      <td>-0.202003</td>\n",
       "      <td>-0.545908</td>\n",
       "      <td>0.890842</td>\n",
       "    </tr>\n",
       "  </tbody>\n",
       "</table>\n",
       "</div>"
      ],
      "text/plain": [
       "   Time      AccV     AccML     AccAP\n",
       "0     0  0.328125 -0.109375  0.671875\n",
       "1     1  0.453108 -0.124721  0.811273\n",
       "2     2  0.423042 -0.264046  0.921238\n",
       "3     3  0.150015 -0.310241  0.937483\n",
       "4     4 -0.202003 -0.545908  0.890842"
      ]
     },
     "execution_count": 27,
     "metadata": {},
     "output_type": "execute_result"
    }
   ],
   "source": [
    "unlabeled_example_df.head()"
   ]
  },
  {
   "cell_type": "code",
   "execution_count": 28,
   "metadata": {
    "execution": {
     "iopub.execute_input": "2023-07-14T02:26:15.562895Z",
     "iopub.status.busy": "2023-07-14T02:26:15.562165Z",
     "iopub.status.idle": "2023-07-14T02:26:26.157621Z",
     "shell.execute_reply": "2023-07-14T02:26:26.156514Z",
     "shell.execute_reply.started": "2023-07-14T02:26:15.562848Z"
    }
   },
   "outputs": [
    {
     "data": {
      "text/html": [
       "<div>\n",
       "<style scoped>\n",
       "    .dataframe tbody tr th:only-of-type {\n",
       "        vertical-align: middle;\n",
       "    }\n",
       "\n",
       "    .dataframe tbody tr th {\n",
       "        vertical-align: top;\n",
       "    }\n",
       "\n",
       "    .dataframe thead th {\n",
       "        text-align: right;\n",
       "    }\n",
       "</style>\n",
       "<table border=\"1\" class=\"dataframe\">\n",
       "  <thead>\n",
       "    <tr style=\"text-align: right;\">\n",
       "      <th></th>\n",
       "      <th>Time</th>\n",
       "      <th>AccV</th>\n",
       "      <th>AccML</th>\n",
       "      <th>AccAP</th>\n",
       "    </tr>\n",
       "  </thead>\n",
       "  <tbody>\n",
       "    <tr>\n",
       "      <th>count</th>\n",
       "      <td>6.972239e+07</td>\n",
       "      <td>6.972239e+07</td>\n",
       "      <td>6.972239e+07</td>\n",
       "      <td>6.972239e+07</td>\n",
       "    </tr>\n",
       "    <tr>\n",
       "      <th>mean</th>\n",
       "      <td>3.486119e+07</td>\n",
       "      <td>-5.277971e-01</td>\n",
       "      <td>-8.455515e-02</td>\n",
       "      <td>-4.769068e-02</td>\n",
       "    </tr>\n",
       "    <tr>\n",
       "      <th>std</th>\n",
       "      <td>2.012712e+07</td>\n",
       "      <td>4.339047e-01</td>\n",
       "      <td>4.878394e-01</td>\n",
       "      <td>5.178868e-01</td>\n",
       "    </tr>\n",
       "    <tr>\n",
       "      <th>min</th>\n",
       "      <td>0.000000e+00</td>\n",
       "      <td>-7.035982e+00</td>\n",
       "      <td>-6.183435e+00</td>\n",
       "      <td>-6.459452e+00</td>\n",
       "    </tr>\n",
       "    <tr>\n",
       "      <th>25%</th>\n",
       "      <td>1.743060e+07</td>\n",
       "      <td>-9.531250e-01</td>\n",
       "      <td>-1.875000e-01</td>\n",
       "      <td>-3.281250e-01</td>\n",
       "    </tr>\n",
       "    <tr>\n",
       "      <th>50%</th>\n",
       "      <td>3.486119e+07</td>\n",
       "      <td>-5.937500e-01</td>\n",
       "      <td>-1.562500e-02</td>\n",
       "      <td>-6.250000e-02</td>\n",
       "    </tr>\n",
       "    <tr>\n",
       "      <th>75%</th>\n",
       "      <td>5.229179e+07</td>\n",
       "      <td>-7.835454e-02</td>\n",
       "      <td>1.253366e-01</td>\n",
       "      <td>2.291177e-01</td>\n",
       "    </tr>\n",
       "    <tr>\n",
       "      <th>max</th>\n",
       "      <td>6.972239e+07</td>\n",
       "      <td>2.936576e+00</td>\n",
       "      <td>6.082396e+00</td>\n",
       "      <td>7.138464e+00</td>\n",
       "    </tr>\n",
       "  </tbody>\n",
       "</table>\n",
       "</div>"
      ],
      "text/plain": [
       "               Time          AccV         AccML         AccAP\n",
       "count  6.972239e+07  6.972239e+07  6.972239e+07  6.972239e+07\n",
       "mean   3.486119e+07 -5.277971e-01 -8.455515e-02 -4.769068e-02\n",
       "std    2.012712e+07  4.339047e-01  4.878394e-01  5.178868e-01\n",
       "min    0.000000e+00 -7.035982e+00 -6.183435e+00 -6.459452e+00\n",
       "25%    1.743060e+07 -9.531250e-01 -1.875000e-01 -3.281250e-01\n",
       "50%    3.486119e+07 -5.937500e-01 -1.562500e-02 -6.250000e-02\n",
       "75%    5.229179e+07 -7.835454e-02  1.253366e-01  2.291177e-01\n",
       "max    6.972239e+07  2.936576e+00  6.082396e+00  7.138464e+00"
      ]
     },
     "execution_count": 28,
     "metadata": {},
     "output_type": "execute_result"
    }
   ],
   "source": [
    "unlabeled_example_df.describe()"
   ]
  },
  {
   "cell_type": "markdown",
   "metadata": {},
   "source": [
    "<p style=\"font-family: consolas; font-size: 16px;\">❔ How is the correlation matrix for the data looks like.</p>"
   ]
  },
  {
   "cell_type": "code",
   "execution_count": 29,
   "metadata": {
    "execution": {
     "iopub.execute_input": "2023-07-14T02:26:26.159790Z",
     "iopub.status.busy": "2023-07-14T02:26:26.159142Z",
     "iopub.status.idle": "2023-07-14T02:26:31.378983Z",
     "shell.execute_reply": "2023-07-14T02:26:31.377413Z",
     "shell.execute_reply.started": "2023-07-14T02:26:26.159745Z"
    }
   },
   "outputs": [
    {
     "data": {
      "text/html": [
       "<div>                            <div id=\"2c1539cc-7adc-4c4a-8320-d2d532f318a8\" class=\"plotly-graph-div\" style=\"height:525px; width:100%;\"></div>            <script type=\"text/javascript\">                require([\"plotly\"], function(Plotly) {                    window.PLOTLYENV=window.PLOTLYENV || {};                                    if (document.getElementById(\"2c1539cc-7adc-4c4a-8320-d2d532f318a8\")) {                    Plotly.newPlot(                        \"2c1539cc-7adc-4c4a-8320-d2d532f318a8\",                        [{\"coloraxis\":\"coloraxis\",\"name\":\"0\",\"texttemplate\":\"%{z}\",\"x\":[\"Time\",\"AccV\",\"AccML\",\"AccAP\"],\"y\":[\"Time\",\"AccV\",\"AccML\",\"AccAP\"],\"z\":[[1.0,0.068,0.106,-0.35],[0.068,1.0,-0.216,0.176],[0.106,-0.216,1.0,-0.02],[-0.35,0.176,-0.02,1.0]],\"type\":\"heatmap\",\"xaxis\":\"x\",\"yaxis\":\"y\",\"hovertemplate\":\"x: %{x}<br>y: %{y}<br>color: %{z}<extra></extra>\"}],                        {\"template\":{\"data\":{\"histogram2dcontour\":[{\"type\":\"histogram2dcontour\",\"colorbar\":{\"outlinewidth\":0,\"ticks\":\"\"},\"colorscale\":[[0.0,\"#0d0887\"],[0.1111111111111111,\"#46039f\"],[0.2222222222222222,\"#7201a8\"],[0.3333333333333333,\"#9c179e\"],[0.4444444444444444,\"#bd3786\"],[0.5555555555555556,\"#d8576b\"],[0.6666666666666666,\"#ed7953\"],[0.7777777777777778,\"#fb9f3a\"],[0.8888888888888888,\"#fdca26\"],[1.0,\"#f0f921\"]]}],\"choropleth\":[{\"type\":\"choropleth\",\"colorbar\":{\"outlinewidth\":0,\"ticks\":\"\"}}],\"histogram2d\":[{\"type\":\"histogram2d\",\"colorbar\":{\"outlinewidth\":0,\"ticks\":\"\"},\"colorscale\":[[0.0,\"#0d0887\"],[0.1111111111111111,\"#46039f\"],[0.2222222222222222,\"#7201a8\"],[0.3333333333333333,\"#9c179e\"],[0.4444444444444444,\"#bd3786\"],[0.5555555555555556,\"#d8576b\"],[0.6666666666666666,\"#ed7953\"],[0.7777777777777778,\"#fb9f3a\"],[0.8888888888888888,\"#fdca26\"],[1.0,\"#f0f921\"]]}],\"heatmap\":[{\"type\":\"heatmap\",\"colorbar\":{\"outlinewidth\":0,\"ticks\":\"\"},\"colorscale\":[[0.0,\"#0d0887\"],[0.1111111111111111,\"#46039f\"],[0.2222222222222222,\"#7201a8\"],[0.3333333333333333,\"#9c179e\"],[0.4444444444444444,\"#bd3786\"],[0.5555555555555556,\"#d8576b\"],[0.6666666666666666,\"#ed7953\"],[0.7777777777777778,\"#fb9f3a\"],[0.8888888888888888,\"#fdca26\"],[1.0,\"#f0f921\"]]}],\"heatmapgl\":[{\"type\":\"heatmapgl\",\"colorbar\":{\"outlinewidth\":0,\"ticks\":\"\"},\"colorscale\":[[0.0,\"#0d0887\"],[0.1111111111111111,\"#46039f\"],[0.2222222222222222,\"#7201a8\"],[0.3333333333333333,\"#9c179e\"],[0.4444444444444444,\"#bd3786\"],[0.5555555555555556,\"#d8576b\"],[0.6666666666666666,\"#ed7953\"],[0.7777777777777778,\"#fb9f3a\"],[0.8888888888888888,\"#fdca26\"],[1.0,\"#f0f921\"]]}],\"contourcarpet\":[{\"type\":\"contourcarpet\",\"colorbar\":{\"outlinewidth\":0,\"ticks\":\"\"}}],\"contour\":[{\"type\":\"contour\",\"colorbar\":{\"outlinewidth\":0,\"ticks\":\"\"},\"colorscale\":[[0.0,\"#0d0887\"],[0.1111111111111111,\"#46039f\"],[0.2222222222222222,\"#7201a8\"],[0.3333333333333333,\"#9c179e\"],[0.4444444444444444,\"#bd3786\"],[0.5555555555555556,\"#d8576b\"],[0.6666666666666666,\"#ed7953\"],[0.7777777777777778,\"#fb9f3a\"],[0.8888888888888888,\"#fdca26\"],[1.0,\"#f0f921\"]]}],\"surface\":[{\"type\":\"surface\",\"colorbar\":{\"outlinewidth\":0,\"ticks\":\"\"},\"colorscale\":[[0.0,\"#0d0887\"],[0.1111111111111111,\"#46039f\"],[0.2222222222222222,\"#7201a8\"],[0.3333333333333333,\"#9c179e\"],[0.4444444444444444,\"#bd3786\"],[0.5555555555555556,\"#d8576b\"],[0.6666666666666666,\"#ed7953\"],[0.7777777777777778,\"#fb9f3a\"],[0.8888888888888888,\"#fdca26\"],[1.0,\"#f0f921\"]]}],\"mesh3d\":[{\"type\":\"mesh3d\",\"colorbar\":{\"outlinewidth\":0,\"ticks\":\"\"}}],\"scatter\":[{\"fillpattern\":{\"fillmode\":\"overlay\",\"size\":10,\"solidity\":0.2},\"type\":\"scatter\"}],\"parcoords\":[{\"type\":\"parcoords\",\"line\":{\"colorbar\":{\"outlinewidth\":0,\"ticks\":\"\"}}}],\"scatterpolargl\":[{\"type\":\"scatterpolargl\",\"marker\":{\"colorbar\":{\"outlinewidth\":0,\"ticks\":\"\"}}}],\"bar\":[{\"error_x\":{\"color\":\"#2a3f5f\"},\"error_y\":{\"color\":\"#2a3f5f\"},\"marker\":{\"line\":{\"color\":\"#E5ECF6\",\"width\":0.5},\"pattern\":{\"fillmode\":\"overlay\",\"size\":10,\"solidity\":0.2}},\"type\":\"bar\"}],\"scattergeo\":[{\"type\":\"scattergeo\",\"marker\":{\"colorbar\":{\"outlinewidth\":0,\"ticks\":\"\"}}}],\"scatterpolar\":[{\"type\":\"scatterpolar\",\"marker\":{\"colorbar\":{\"outlinewidth\":0,\"ticks\":\"\"}}}],\"histogram\":[{\"marker\":{\"pattern\":{\"fillmode\":\"overlay\",\"size\":10,\"solidity\":0.2}},\"type\":\"histogram\"}],\"scattergl\":[{\"type\":\"scattergl\",\"marker\":{\"colorbar\":{\"outlinewidth\":0,\"ticks\":\"\"}}}],\"scatter3d\":[{\"type\":\"scatter3d\",\"line\":{\"colorbar\":{\"outlinewidth\":0,\"ticks\":\"\"}},\"marker\":{\"colorbar\":{\"outlinewidth\":0,\"ticks\":\"\"}}}],\"scattermapbox\":[{\"type\":\"scattermapbox\",\"marker\":{\"colorbar\":{\"outlinewidth\":0,\"ticks\":\"\"}}}],\"scatterternary\":[{\"type\":\"scatterternary\",\"marker\":{\"colorbar\":{\"outlinewidth\":0,\"ticks\":\"\"}}}],\"scattercarpet\":[{\"type\":\"scattercarpet\",\"marker\":{\"colorbar\":{\"outlinewidth\":0,\"ticks\":\"\"}}}],\"carpet\":[{\"aaxis\":{\"endlinecolor\":\"#2a3f5f\",\"gridcolor\":\"white\",\"linecolor\":\"white\",\"minorgridcolor\":\"white\",\"startlinecolor\":\"#2a3f5f\"},\"baxis\":{\"endlinecolor\":\"#2a3f5f\",\"gridcolor\":\"white\",\"linecolor\":\"white\",\"minorgridcolor\":\"white\",\"startlinecolor\":\"#2a3f5f\"},\"type\":\"carpet\"}],\"table\":[{\"cells\":{\"fill\":{\"color\":\"#EBF0F8\"},\"line\":{\"color\":\"white\"}},\"header\":{\"fill\":{\"color\":\"#C8D4E3\"},\"line\":{\"color\":\"white\"}},\"type\":\"table\"}],\"barpolar\":[{\"marker\":{\"line\":{\"color\":\"#E5ECF6\",\"width\":0.5},\"pattern\":{\"fillmode\":\"overlay\",\"size\":10,\"solidity\":0.2}},\"type\":\"barpolar\"}],\"pie\":[{\"automargin\":true,\"type\":\"pie\"}]},\"layout\":{\"autotypenumbers\":\"strict\",\"colorway\":[\"#636efa\",\"#EF553B\",\"#00cc96\",\"#ab63fa\",\"#FFA15A\",\"#19d3f3\",\"#FF6692\",\"#B6E880\",\"#FF97FF\",\"#FECB52\"],\"font\":{\"color\":\"#2a3f5f\"},\"hovermode\":\"closest\",\"hoverlabel\":{\"align\":\"left\"},\"paper_bgcolor\":\"white\",\"plot_bgcolor\":\"#E5ECF6\",\"polar\":{\"bgcolor\":\"#E5ECF6\",\"angularaxis\":{\"gridcolor\":\"white\",\"linecolor\":\"white\",\"ticks\":\"\"},\"radialaxis\":{\"gridcolor\":\"white\",\"linecolor\":\"white\",\"ticks\":\"\"}},\"ternary\":{\"bgcolor\":\"#E5ECF6\",\"aaxis\":{\"gridcolor\":\"white\",\"linecolor\":\"white\",\"ticks\":\"\"},\"baxis\":{\"gridcolor\":\"white\",\"linecolor\":\"white\",\"ticks\":\"\"},\"caxis\":{\"gridcolor\":\"white\",\"linecolor\":\"white\",\"ticks\":\"\"}},\"coloraxis\":{\"colorbar\":{\"outlinewidth\":0,\"ticks\":\"\"}},\"colorscale\":{\"sequential\":[[0.0,\"#0d0887\"],[0.1111111111111111,\"#46039f\"],[0.2222222222222222,\"#7201a8\"],[0.3333333333333333,\"#9c179e\"],[0.4444444444444444,\"#bd3786\"],[0.5555555555555556,\"#d8576b\"],[0.6666666666666666,\"#ed7953\"],[0.7777777777777778,\"#fb9f3a\"],[0.8888888888888888,\"#fdca26\"],[1.0,\"#f0f921\"]],\"sequentialminus\":[[0.0,\"#0d0887\"],[0.1111111111111111,\"#46039f\"],[0.2222222222222222,\"#7201a8\"],[0.3333333333333333,\"#9c179e\"],[0.4444444444444444,\"#bd3786\"],[0.5555555555555556,\"#d8576b\"],[0.6666666666666666,\"#ed7953\"],[0.7777777777777778,\"#fb9f3a\"],[0.8888888888888888,\"#fdca26\"],[1.0,\"#f0f921\"]],\"diverging\":[[0,\"#8e0152\"],[0.1,\"#c51b7d\"],[0.2,\"#de77ae\"],[0.3,\"#f1b6da\"],[0.4,\"#fde0ef\"],[0.5,\"#f7f7f7\"],[0.6,\"#e6f5d0\"],[0.7,\"#b8e186\"],[0.8,\"#7fbc41\"],[0.9,\"#4d9221\"],[1,\"#276419\"]]},\"xaxis\":{\"gridcolor\":\"white\",\"linecolor\":\"white\",\"ticks\":\"\",\"title\":{\"standoff\":15},\"zerolinecolor\":\"white\",\"automargin\":true,\"zerolinewidth\":2},\"yaxis\":{\"gridcolor\":\"white\",\"linecolor\":\"white\",\"ticks\":\"\",\"title\":{\"standoff\":15},\"zerolinecolor\":\"white\",\"automargin\":true,\"zerolinewidth\":2},\"scene\":{\"xaxis\":{\"backgroundcolor\":\"#E5ECF6\",\"gridcolor\":\"white\",\"linecolor\":\"white\",\"showbackground\":true,\"ticks\":\"\",\"zerolinecolor\":\"white\",\"gridwidth\":2},\"yaxis\":{\"backgroundcolor\":\"#E5ECF6\",\"gridcolor\":\"white\",\"linecolor\":\"white\",\"showbackground\":true,\"ticks\":\"\",\"zerolinecolor\":\"white\",\"gridwidth\":2},\"zaxis\":{\"backgroundcolor\":\"#E5ECF6\",\"gridcolor\":\"white\",\"linecolor\":\"white\",\"showbackground\":true,\"ticks\":\"\",\"zerolinecolor\":\"white\",\"gridwidth\":2}},\"shapedefaults\":{\"line\":{\"color\":\"#2a3f5f\"}},\"annotationdefaults\":{\"arrowcolor\":\"#2a3f5f\",\"arrowhead\":0,\"arrowwidth\":1},\"geo\":{\"bgcolor\":\"white\",\"landcolor\":\"#E5ECF6\",\"subunitcolor\":\"white\",\"showland\":true,\"showlakes\":true,\"lakecolor\":\"white\"},\"title\":{\"x\":0.05},\"mapbox\":{\"style\":\"light\"}}},\"xaxis\":{\"anchor\":\"y\",\"domain\":[0.0,1.0],\"scaleanchor\":\"y\",\"constrain\":\"domain\",\"side\":\"bottom\"},\"yaxis\":{\"anchor\":\"x\",\"domain\":[0.0,1.0],\"autorange\":\"reversed\",\"constrain\":\"domain\"},\"coloraxis\":{\"colorscale\":[[0.0,\"#0d0887\"],[0.1111111111111111,\"#46039f\"],[0.2222222222222222,\"#7201a8\"],[0.3333333333333333,\"#9c179e\"],[0.4444444444444444,\"#bd3786\"],[0.5555555555555556,\"#d8576b\"],[0.6666666666666666,\"#ed7953\"],[0.7777777777777778,\"#fb9f3a\"],[0.8888888888888888,\"#fdca26\"],[1.0,\"#f0f921\"]]},\"margin\":{\"t\":60},\"title\":{\"text\":\"Correlation Matrix of unlabeled instance\",\"y\":0.95,\"x\":0.5,\"xanchor\":\"center\",\"yanchor\":\"top\"}},                        {\"responsive\": true}                    ).then(function(){\n",
       "                            \n",
       "var gd = document.getElementById('2c1539cc-7adc-4c4a-8320-d2d532f318a8');\n",
       "var x = new MutationObserver(function (mutations, observer) {{\n",
       "        var display = window.getComputedStyle(gd).display;\n",
       "        if (!display || display === 'none') {{\n",
       "            console.log([gd, 'removed!']);\n",
       "            Plotly.purge(gd);\n",
       "            observer.disconnect();\n",
       "        }}\n",
       "}});\n",
       "\n",
       "// Listen for the removal of the full notebook cells\n",
       "var notebookContainer = gd.closest('#notebook-container');\n",
       "if (notebookContainer) {{\n",
       "    x.observe(notebookContainer, {childList: true});\n",
       "}}\n",
       "\n",
       "// Listen for the clearing of the current output cell\n",
       "var outputEl = gd.closest('.output');\n",
       "if (outputEl) {{\n",
       "    x.observe(outputEl, {childList: true});\n",
       "}}\n",
       "\n",
       "                        })                };                });            </script>        </div>"
      ]
     },
     "metadata": {},
     "output_type": "display_data"
    }
   ],
   "source": [
    "corr_mat = np.round(unlabeled_example_df.corr(), 3)\n",
    "\n",
    "fig = px.imshow(\n",
    "    corr_mat,\n",
    "    x=corr_mat.columns,\n",
    "    y=corr_mat.columns, \n",
    "    text_auto=True\n",
    "   )\n",
    "fig.update_xaxes(side=\"bottom\")\n",
    "fig.update_layout(\n",
    "    title={\n",
    "        'text': \"Correlation Matrix of unlabeled instance\",\n",
    "        'y':0.95,\n",
    "        'x':0.5,\n",
    "        'xanchor': 'center',\n",
    "        'yanchor': 'top'\n",
    "    }\n",
    ")\n",
    "\n",
    "fig.show()"
   ]
  },
  {
   "cell_type": "markdown",
   "metadata": {},
   "source": [
    "<a id=\"2\"></a>\n",
    "# <div style=\"box-shadow: rgba(0, 0, 0, 0.16) 0px 1px 4px inset, rgb(51, 51, 51) 0px 0px 0px 3px inset; padding:20px; font-size:32px; font-family: consolas; text-align:center; display:fill; border-radius:15px;  color:rgb(34, 34, 34);\"> <b> 2. Overview availiable csv files </b></div>"
   ]
  },
  {
   "cell_type": "markdown",
   "metadata": {},
   "source": [
    "<a id=\"2.1\"></a>\n",
    "## <div style=\"box-shadow: rgba(0, 0, 0, 0.18) 0px 2px 4px inset; padding:20px; font-size:24px; font-family: consolas; text-align:center; display:fill; border-radius:15px; color:rgb(67, 66, 66)\"> <b> 2.1 Overview <i>tdcsfog_metadata.csv</i> file</b></div>"
   ]
  },
  {
   "cell_type": "markdown",
   "metadata": {},
   "source": [
    "<p style=\"font-family: consolas; font-size: 16px;\">⚪ <b>tdcsfog_metadata.csv</b> Identifies each series in the <code>tdcsfog</code> dataset by a unique <code>Subject, Visit, Test, Medication</code> condition.</p>\n",
    "\n",
    "* <p style=\"font-family: consolas; font-size: 16px;\"><code>Visit</code> Lab visits consist of a baseline assessment, two post-treatment assessments for different treatment stages, and one follow-up assessment.</p>\n",
    "* <p style=\"font-family: consolas; font-size: 16px;\"><code>Test</code> Specifies of which of three test types was performed, from easy (1) to hard (3) (for the tdcsfog_df dataframe).</p>\n",
    "\n",
    "* <p style=\"font-family: consolas; font-size: 16px;\"><code>Medication</code> Subjects may have been either off or on anti-parkinsonian medication during the recording.</p>"
   ]
  },
  {
   "cell_type": "markdown",
   "metadata": {},
   "source": [
    "<p style=\"font-family: consolas; font-size: 16px;\">❔ How the data looks like.</p>"
   ]
  },
  {
   "cell_type": "code",
   "execution_count": 30,
   "metadata": {
    "execution": {
     "iopub.execute_input": "2023-07-14T02:26:31.381957Z",
     "iopub.status.busy": "2023-07-14T02:26:31.381366Z",
     "iopub.status.idle": "2023-07-14T02:26:31.397860Z",
     "shell.execute_reply": "2023-07-14T02:26:31.396572Z",
     "shell.execute_reply.started": "2023-07-14T02:26:31.381902Z"
    }
   },
   "outputs": [],
   "source": [
    "tdcsfog_metadata_df = pd.read_csv(\"/kaggle/input/tlvmc-parkinsons-freezing-gait-prediction/tdcsfog_metadata.csv\")"
   ]
  },
  {
   "cell_type": "code",
   "execution_count": 31,
   "metadata": {
    "execution": {
     "iopub.execute_input": "2023-07-14T02:26:31.400215Z",
     "iopub.status.busy": "2023-07-14T02:26:31.399841Z",
     "iopub.status.idle": "2023-07-14T02:26:31.417996Z",
     "shell.execute_reply": "2023-07-14T02:26:31.416579Z",
     "shell.execute_reply.started": "2023-07-14T02:26:31.400180Z"
    }
   },
   "outputs": [
    {
     "data": {
      "text/html": [
       "<div>\n",
       "<style scoped>\n",
       "    .dataframe tbody tr th:only-of-type {\n",
       "        vertical-align: middle;\n",
       "    }\n",
       "\n",
       "    .dataframe tbody tr th {\n",
       "        vertical-align: top;\n",
       "    }\n",
       "\n",
       "    .dataframe thead th {\n",
       "        text-align: right;\n",
       "    }\n",
       "</style>\n",
       "<table border=\"1\" class=\"dataframe\">\n",
       "  <thead>\n",
       "    <tr style=\"text-align: right;\">\n",
       "      <th></th>\n",
       "      <th>Id</th>\n",
       "      <th>Subject</th>\n",
       "      <th>Visit</th>\n",
       "      <th>Test</th>\n",
       "      <th>Medication</th>\n",
       "    </tr>\n",
       "  </thead>\n",
       "  <tbody>\n",
       "    <tr>\n",
       "      <th>0</th>\n",
       "      <td>003f117e14</td>\n",
       "      <td>4dc2f8</td>\n",
       "      <td>3</td>\n",
       "      <td>2</td>\n",
       "      <td>on</td>\n",
       "    </tr>\n",
       "    <tr>\n",
       "      <th>1</th>\n",
       "      <td>009ee11563</td>\n",
       "      <td>f62eec</td>\n",
       "      <td>4</td>\n",
       "      <td>2</td>\n",
       "      <td>on</td>\n",
       "    </tr>\n",
       "    <tr>\n",
       "      <th>2</th>\n",
       "      <td>011322847a</td>\n",
       "      <td>231c3b</td>\n",
       "      <td>2</td>\n",
       "      <td>2</td>\n",
       "      <td>on</td>\n",
       "    </tr>\n",
       "    <tr>\n",
       "      <th>3</th>\n",
       "      <td>01d0fe7266</td>\n",
       "      <td>231c3b</td>\n",
       "      <td>2</td>\n",
       "      <td>1</td>\n",
       "      <td>off</td>\n",
       "    </tr>\n",
       "    <tr>\n",
       "      <th>4</th>\n",
       "      <td>024418ba39</td>\n",
       "      <td>fa8764</td>\n",
       "      <td>19</td>\n",
       "      <td>3</td>\n",
       "      <td>on</td>\n",
       "    </tr>\n",
       "  </tbody>\n",
       "</table>\n",
       "</div>"
      ],
      "text/plain": [
       "           Id Subject  Visit  Test Medication\n",
       "0  003f117e14  4dc2f8      3     2         on\n",
       "1  009ee11563  f62eec      4     2         on\n",
       "2  011322847a  231c3b      2     2         on\n",
       "3  01d0fe7266  231c3b      2     1        off\n",
       "4  024418ba39  fa8764     19     3         on"
      ]
     },
     "execution_count": 31,
     "metadata": {},
     "output_type": "execute_result"
    }
   ],
   "source": [
    "tdcsfog_metadata_df.head()"
   ]
  },
  {
   "cell_type": "code",
   "execution_count": 32,
   "metadata": {
    "execution": {
     "iopub.execute_input": "2023-07-14T02:26:31.420276Z",
     "iopub.status.busy": "2023-07-14T02:26:31.419891Z",
     "iopub.status.idle": "2023-07-14T02:26:31.445854Z",
     "shell.execute_reply": "2023-07-14T02:26:31.444409Z",
     "shell.execute_reply.started": "2023-07-14T02:26:31.420239Z"
    }
   },
   "outputs": [
    {
     "data": {
      "text/html": [
       "<div>\n",
       "<style scoped>\n",
       "    .dataframe tbody tr th:only-of-type {\n",
       "        vertical-align: middle;\n",
       "    }\n",
       "\n",
       "    .dataframe tbody tr th {\n",
       "        vertical-align: top;\n",
       "    }\n",
       "\n",
       "    .dataframe thead th {\n",
       "        text-align: right;\n",
       "    }\n",
       "</style>\n",
       "<table border=\"1\" class=\"dataframe\">\n",
       "  <thead>\n",
       "    <tr style=\"text-align: right;\">\n",
       "      <th></th>\n",
       "      <th>Visit</th>\n",
       "      <th>Test</th>\n",
       "    </tr>\n",
       "  </thead>\n",
       "  <tbody>\n",
       "    <tr>\n",
       "      <th>count</th>\n",
       "      <td>833.000000</td>\n",
       "      <td>833.000000</td>\n",
       "    </tr>\n",
       "    <tr>\n",
       "      <th>mean</th>\n",
       "      <td>6.460984</td>\n",
       "      <td>1.974790</td>\n",
       "    </tr>\n",
       "    <tr>\n",
       "      <th>std</th>\n",
       "      <td>6.171914</td>\n",
       "      <td>0.813402</td>\n",
       "    </tr>\n",
       "    <tr>\n",
       "      <th>min</th>\n",
       "      <td>2.000000</td>\n",
       "      <td>1.000000</td>\n",
       "    </tr>\n",
       "    <tr>\n",
       "      <th>25%</th>\n",
       "      <td>2.000000</td>\n",
       "      <td>1.000000</td>\n",
       "    </tr>\n",
       "    <tr>\n",
       "      <th>50%</th>\n",
       "      <td>4.000000</td>\n",
       "      <td>2.000000</td>\n",
       "    </tr>\n",
       "    <tr>\n",
       "      <th>75%</th>\n",
       "      <td>5.000000</td>\n",
       "      <td>3.000000</td>\n",
       "    </tr>\n",
       "    <tr>\n",
       "      <th>max</th>\n",
       "      <td>20.000000</td>\n",
       "      <td>3.000000</td>\n",
       "    </tr>\n",
       "  </tbody>\n",
       "</table>\n",
       "</div>"
      ],
      "text/plain": [
       "            Visit        Test\n",
       "count  833.000000  833.000000\n",
       "mean     6.460984    1.974790\n",
       "std      6.171914    0.813402\n",
       "min      2.000000    1.000000\n",
       "25%      2.000000    1.000000\n",
       "50%      4.000000    2.000000\n",
       "75%      5.000000    3.000000\n",
       "max     20.000000    3.000000"
      ]
     },
     "execution_count": 32,
     "metadata": {},
     "output_type": "execute_result"
    }
   ],
   "source": [
    "tdcsfog_metadata_df.describe()"
   ]
  },
  {
   "cell_type": "markdown",
   "metadata": {},
   "source": [
    "<p style=\"font-family: consolas; font-size: 16px;\">❔ What is length of the dataframe.</p>"
   ]
  },
  {
   "cell_type": "code",
   "execution_count": 33,
   "metadata": {
    "execution": {
     "iopub.execute_input": "2023-07-14T02:26:31.448052Z",
     "iopub.status.busy": "2023-07-14T02:26:31.447538Z",
     "iopub.status.idle": "2023-07-14T02:26:31.454276Z",
     "shell.execute_reply": "2023-07-14T02:26:31.452819Z",
     "shell.execute_reply.started": "2023-07-14T02:26:31.448007Z"
    }
   },
   "outputs": [
    {
     "name": "stdout",
     "output_type": "stream",
     "text": [
      "Length of the tdcsfog_metadata.csv file is: \u001b[94m833\u001b[0m\n"
     ]
    }
   ],
   "source": [
    "temp = len(tdcsfog_metadata_df)\n",
    "print(\n",
    "    f\"Length of the tdcsfog_metadata.csv file is: {color.BLUE}{temp}{color.END}\",\n",
    ")"
   ]
  },
  {
   "cell_type": "markdown",
   "metadata": {},
   "source": [
    "<p style=\"font-family: consolas; font-size: 16px;\">❔ How many unique subjects the dataframe has.</p>"
   ]
  },
  {
   "cell_type": "code",
   "execution_count": 34,
   "metadata": {
    "execution": {
     "iopub.execute_input": "2023-07-14T02:26:31.456509Z",
     "iopub.status.busy": "2023-07-14T02:26:31.456049Z",
     "iopub.status.idle": "2023-07-14T02:26:31.471272Z",
     "shell.execute_reply": "2023-07-14T02:26:31.469750Z",
     "shell.execute_reply.started": "2023-07-14T02:26:31.456468Z"
    }
   },
   "outputs": [
    {
     "name": "stdout",
     "output_type": "stream",
     "text": [
      "Number of unique subjects: \u001b[94m62\u001b[0m\n"
     ]
    }
   ],
   "source": [
    "temp = len(tdcsfog_metadata_df.Subject.unique())\n",
    "print(\n",
    "    f\"Number of unique subjects: {color.BLUE}{temp}{color.END}\",\n",
    ")"
   ]
  },
  {
   "cell_type": "markdown",
   "metadata": {},
   "source": [
    "<p style=\"font-family: consolas; font-size: 16px;\">❔ How the data for an unique subject looks like.</p>"
   ]
  },
  {
   "cell_type": "code",
   "execution_count": 35,
   "metadata": {
    "execution": {
     "iopub.execute_input": "2023-07-14T02:26:31.473972Z",
     "iopub.status.busy": "2023-07-14T02:26:31.473460Z",
     "iopub.status.idle": "2023-07-14T02:26:31.491069Z",
     "shell.execute_reply": "2023-07-14T02:26:31.489573Z",
     "shell.execute_reply.started": "2023-07-14T02:26:31.473920Z"
    }
   },
   "outputs": [
    {
     "data": {
      "text/html": [
       "<div>\n",
       "<style scoped>\n",
       "    .dataframe tbody tr th:only-of-type {\n",
       "        vertical-align: middle;\n",
       "    }\n",
       "\n",
       "    .dataframe tbody tr th {\n",
       "        vertical-align: top;\n",
       "    }\n",
       "\n",
       "    .dataframe thead th {\n",
       "        text-align: right;\n",
       "    }\n",
       "</style>\n",
       "<table border=\"1\" class=\"dataframe\">\n",
       "  <thead>\n",
       "    <tr style=\"text-align: right;\">\n",
       "      <th></th>\n",
       "      <th>Id</th>\n",
       "      <th>Subject</th>\n",
       "      <th>Visit</th>\n",
       "      <th>Test</th>\n",
       "      <th>Medication</th>\n",
       "    </tr>\n",
       "  </thead>\n",
       "  <tbody>\n",
       "  </tbody>\n",
       "</table>\n",
       "</div>"
      ],
      "text/plain": [
       "Empty DataFrame\n",
       "Columns: [Id, Subject, Visit, Test, Medication]\n",
       "Index: []"
      ]
     },
     "execution_count": 35,
     "metadata": {},
     "output_type": "execute_result"
    }
   ],
   "source": [
    "unique_subject_id = \"13abfd\"\n",
    "tdcsfog_metadata_df[tdcsfog_metadata_df.Subject == unique_subject_id]"
   ]
  },
  {
   "cell_type": "markdown",
   "metadata": {},
   "source": [
    "<p style=\"font-family: consolas; font-size: 16px;\">❔ Is there any missing data in the dataframe.</p>"
   ]
  },
  {
   "cell_type": "code",
   "execution_count": 36,
   "metadata": {
    "execution": {
     "iopub.execute_input": "2023-07-14T02:26:31.494131Z",
     "iopub.status.busy": "2023-07-14T02:26:31.493049Z",
     "iopub.status.idle": "2023-07-14T02:26:31.509898Z",
     "shell.execute_reply": "2023-07-14T02:26:31.508266Z",
     "shell.execute_reply.started": "2023-07-14T02:26:31.494076Z"
    }
   },
   "outputs": [
    {
     "data": {
      "text/plain": [
       "Id            0\n",
       "Subject       0\n",
       "Visit         0\n",
       "Test          0\n",
       "Medication    0\n",
       "dtype: int64"
      ]
     },
     "execution_count": 36,
     "metadata": {},
     "output_type": "execute_result"
    }
   ],
   "source": [
    "tdcsfog_metadata_df.isnull().sum()"
   ]
  },
  {
   "cell_type": "markdown",
   "metadata": {},
   "source": [
    "<p style=\"font-family: consolas; font-size: 16px;\">❔ How the bar chart looks like for categorical field <code>Visit</code>.</p>"
   ]
  },
  {
   "cell_type": "code",
   "execution_count": 37,
   "metadata": {
    "execution": {
     "iopub.execute_input": "2023-07-14T02:26:31.511581Z",
     "iopub.status.busy": "2023-07-14T02:26:31.511173Z",
     "iopub.status.idle": "2023-07-14T02:26:31.757693Z",
     "shell.execute_reply": "2023-07-14T02:26:31.756330Z",
     "shell.execute_reply.started": "2023-07-14T02:26:31.511541Z"
    }
   },
   "outputs": [
    {
     "data": {
      "text/html": [
       "<div>                            <div id=\"c3d85015-4c4b-4881-9c37-7c8217a0b196\" class=\"plotly-graph-div\" style=\"height:525px; width:100%;\"></div>            <script type=\"text/javascript\">                require([\"plotly\"], function(Plotly) {                    window.PLOTLYENV=window.PLOTLYENV || {};                                    if (document.getElementById(\"c3d85015-4c4b-4881-9c37-7c8217a0b196\")) {                    Plotly.newPlot(                        \"c3d85015-4c4b-4881-9c37-7c8217a0b196\",                        [{\"alignmentgroup\":\"True\",\"hovertemplate\":\"x=%{x}<br>y=%{y}<extra></extra>\",\"legendgroup\":\"\",\"marker\":{\"color\":\"darkgreen\",\"pattern\":{\"shape\":\"\"}},\"name\":\"\",\"offsetgroup\":\"\",\"orientation\":\"v\",\"showlegend\":false,\"textposition\":\"auto\",\"x\":[2,3,4,5,13,19,20],\"xaxis\":\"x\",\"y\":[245,160,135,89,84,65,55],\"yaxis\":\"y\",\"type\":\"bar\"}],                        {\"template\":{\"data\":{\"histogram2dcontour\":[{\"type\":\"histogram2dcontour\",\"colorbar\":{\"outlinewidth\":0,\"ticks\":\"\"},\"colorscale\":[[0.0,\"#0d0887\"],[0.1111111111111111,\"#46039f\"],[0.2222222222222222,\"#7201a8\"],[0.3333333333333333,\"#9c179e\"],[0.4444444444444444,\"#bd3786\"],[0.5555555555555556,\"#d8576b\"],[0.6666666666666666,\"#ed7953\"],[0.7777777777777778,\"#fb9f3a\"],[0.8888888888888888,\"#fdca26\"],[1.0,\"#f0f921\"]]}],\"choropleth\":[{\"type\":\"choropleth\",\"colorbar\":{\"outlinewidth\":0,\"ticks\":\"\"}}],\"histogram2d\":[{\"type\":\"histogram2d\",\"colorbar\":{\"outlinewidth\":0,\"ticks\":\"\"},\"colorscale\":[[0.0,\"#0d0887\"],[0.1111111111111111,\"#46039f\"],[0.2222222222222222,\"#7201a8\"],[0.3333333333333333,\"#9c179e\"],[0.4444444444444444,\"#bd3786\"],[0.5555555555555556,\"#d8576b\"],[0.6666666666666666,\"#ed7953\"],[0.7777777777777778,\"#fb9f3a\"],[0.8888888888888888,\"#fdca26\"],[1.0,\"#f0f921\"]]}],\"heatmap\":[{\"type\":\"heatmap\",\"colorbar\":{\"outlinewidth\":0,\"ticks\":\"\"},\"colorscale\":[[0.0,\"#0d0887\"],[0.1111111111111111,\"#46039f\"],[0.2222222222222222,\"#7201a8\"],[0.3333333333333333,\"#9c179e\"],[0.4444444444444444,\"#bd3786\"],[0.5555555555555556,\"#d8576b\"],[0.6666666666666666,\"#ed7953\"],[0.7777777777777778,\"#fb9f3a\"],[0.8888888888888888,\"#fdca26\"],[1.0,\"#f0f921\"]]}],\"heatmapgl\":[{\"type\":\"heatmapgl\",\"colorbar\":{\"outlinewidth\":0,\"ticks\":\"\"},\"colorscale\":[[0.0,\"#0d0887\"],[0.1111111111111111,\"#46039f\"],[0.2222222222222222,\"#7201a8\"],[0.3333333333333333,\"#9c179e\"],[0.4444444444444444,\"#bd3786\"],[0.5555555555555556,\"#d8576b\"],[0.6666666666666666,\"#ed7953\"],[0.7777777777777778,\"#fb9f3a\"],[0.8888888888888888,\"#fdca26\"],[1.0,\"#f0f921\"]]}],\"contourcarpet\":[{\"type\":\"contourcarpet\",\"colorbar\":{\"outlinewidth\":0,\"ticks\":\"\"}}],\"contour\":[{\"type\":\"contour\",\"colorbar\":{\"outlinewidth\":0,\"ticks\":\"\"},\"colorscale\":[[0.0,\"#0d0887\"],[0.1111111111111111,\"#46039f\"],[0.2222222222222222,\"#7201a8\"],[0.3333333333333333,\"#9c179e\"],[0.4444444444444444,\"#bd3786\"],[0.5555555555555556,\"#d8576b\"],[0.6666666666666666,\"#ed7953\"],[0.7777777777777778,\"#fb9f3a\"],[0.8888888888888888,\"#fdca26\"],[1.0,\"#f0f921\"]]}],\"surface\":[{\"type\":\"surface\",\"colorbar\":{\"outlinewidth\":0,\"ticks\":\"\"},\"colorscale\":[[0.0,\"#0d0887\"],[0.1111111111111111,\"#46039f\"],[0.2222222222222222,\"#7201a8\"],[0.3333333333333333,\"#9c179e\"],[0.4444444444444444,\"#bd3786\"],[0.5555555555555556,\"#d8576b\"],[0.6666666666666666,\"#ed7953\"],[0.7777777777777778,\"#fb9f3a\"],[0.8888888888888888,\"#fdca26\"],[1.0,\"#f0f921\"]]}],\"mesh3d\":[{\"type\":\"mesh3d\",\"colorbar\":{\"outlinewidth\":0,\"ticks\":\"\"}}],\"scatter\":[{\"fillpattern\":{\"fillmode\":\"overlay\",\"size\":10,\"solidity\":0.2},\"type\":\"scatter\"}],\"parcoords\":[{\"type\":\"parcoords\",\"line\":{\"colorbar\":{\"outlinewidth\":0,\"ticks\":\"\"}}}],\"scatterpolargl\":[{\"type\":\"scatterpolargl\",\"marker\":{\"colorbar\":{\"outlinewidth\":0,\"ticks\":\"\"}}}],\"bar\":[{\"error_x\":{\"color\":\"#2a3f5f\"},\"error_y\":{\"color\":\"#2a3f5f\"},\"marker\":{\"line\":{\"color\":\"#E5ECF6\",\"width\":0.5},\"pattern\":{\"fillmode\":\"overlay\",\"size\":10,\"solidity\":0.2}},\"type\":\"bar\"}],\"scattergeo\":[{\"type\":\"scattergeo\",\"marker\":{\"colorbar\":{\"outlinewidth\":0,\"ticks\":\"\"}}}],\"scatterpolar\":[{\"type\":\"scatterpolar\",\"marker\":{\"colorbar\":{\"outlinewidth\":0,\"ticks\":\"\"}}}],\"histogram\":[{\"marker\":{\"pattern\":{\"fillmode\":\"overlay\",\"size\":10,\"solidity\":0.2}},\"type\":\"histogram\"}],\"scattergl\":[{\"type\":\"scattergl\",\"marker\":{\"colorbar\":{\"outlinewidth\":0,\"ticks\":\"\"}}}],\"scatter3d\":[{\"type\":\"scatter3d\",\"line\":{\"colorbar\":{\"outlinewidth\":0,\"ticks\":\"\"}},\"marker\":{\"colorbar\":{\"outlinewidth\":0,\"ticks\":\"\"}}}],\"scattermapbox\":[{\"type\":\"scattermapbox\",\"marker\":{\"colorbar\":{\"outlinewidth\":0,\"ticks\":\"\"}}}],\"scatterternary\":[{\"type\":\"scatterternary\",\"marker\":{\"colorbar\":{\"outlinewidth\":0,\"ticks\":\"\"}}}],\"scattercarpet\":[{\"type\":\"scattercarpet\",\"marker\":{\"colorbar\":{\"outlinewidth\":0,\"ticks\":\"\"}}}],\"carpet\":[{\"aaxis\":{\"endlinecolor\":\"#2a3f5f\",\"gridcolor\":\"white\",\"linecolor\":\"white\",\"minorgridcolor\":\"white\",\"startlinecolor\":\"#2a3f5f\"},\"baxis\":{\"endlinecolor\":\"#2a3f5f\",\"gridcolor\":\"white\",\"linecolor\":\"white\",\"minorgridcolor\":\"white\",\"startlinecolor\":\"#2a3f5f\"},\"type\":\"carpet\"}],\"table\":[{\"cells\":{\"fill\":{\"color\":\"#EBF0F8\"},\"line\":{\"color\":\"white\"}},\"header\":{\"fill\":{\"color\":\"#C8D4E3\"},\"line\":{\"color\":\"white\"}},\"type\":\"table\"}],\"barpolar\":[{\"marker\":{\"line\":{\"color\":\"#E5ECF6\",\"width\":0.5},\"pattern\":{\"fillmode\":\"overlay\",\"size\":10,\"solidity\":0.2}},\"type\":\"barpolar\"}],\"pie\":[{\"automargin\":true,\"type\":\"pie\"}]},\"layout\":{\"autotypenumbers\":\"strict\",\"colorway\":[\"#636efa\",\"#EF553B\",\"#00cc96\",\"#ab63fa\",\"#FFA15A\",\"#19d3f3\",\"#FF6692\",\"#B6E880\",\"#FF97FF\",\"#FECB52\"],\"font\":{\"color\":\"#2a3f5f\"},\"hovermode\":\"closest\",\"hoverlabel\":{\"align\":\"left\"},\"paper_bgcolor\":\"white\",\"plot_bgcolor\":\"#E5ECF6\",\"polar\":{\"bgcolor\":\"#E5ECF6\",\"angularaxis\":{\"gridcolor\":\"white\",\"linecolor\":\"white\",\"ticks\":\"\"},\"radialaxis\":{\"gridcolor\":\"white\",\"linecolor\":\"white\",\"ticks\":\"\"}},\"ternary\":{\"bgcolor\":\"#E5ECF6\",\"aaxis\":{\"gridcolor\":\"white\",\"linecolor\":\"white\",\"ticks\":\"\"},\"baxis\":{\"gridcolor\":\"white\",\"linecolor\":\"white\",\"ticks\":\"\"},\"caxis\":{\"gridcolor\":\"white\",\"linecolor\":\"white\",\"ticks\":\"\"}},\"coloraxis\":{\"colorbar\":{\"outlinewidth\":0,\"ticks\":\"\"}},\"colorscale\":{\"sequential\":[[0.0,\"#0d0887\"],[0.1111111111111111,\"#46039f\"],[0.2222222222222222,\"#7201a8\"],[0.3333333333333333,\"#9c179e\"],[0.4444444444444444,\"#bd3786\"],[0.5555555555555556,\"#d8576b\"],[0.6666666666666666,\"#ed7953\"],[0.7777777777777778,\"#fb9f3a\"],[0.8888888888888888,\"#fdca26\"],[1.0,\"#f0f921\"]],\"sequentialminus\":[[0.0,\"#0d0887\"],[0.1111111111111111,\"#46039f\"],[0.2222222222222222,\"#7201a8\"],[0.3333333333333333,\"#9c179e\"],[0.4444444444444444,\"#bd3786\"],[0.5555555555555556,\"#d8576b\"],[0.6666666666666666,\"#ed7953\"],[0.7777777777777778,\"#fb9f3a\"],[0.8888888888888888,\"#fdca26\"],[1.0,\"#f0f921\"]],\"diverging\":[[0,\"#8e0152\"],[0.1,\"#c51b7d\"],[0.2,\"#de77ae\"],[0.3,\"#f1b6da\"],[0.4,\"#fde0ef\"],[0.5,\"#f7f7f7\"],[0.6,\"#e6f5d0\"],[0.7,\"#b8e186\"],[0.8,\"#7fbc41\"],[0.9,\"#4d9221\"],[1,\"#276419\"]]},\"xaxis\":{\"gridcolor\":\"white\",\"linecolor\":\"white\",\"ticks\":\"\",\"title\":{\"standoff\":15},\"zerolinecolor\":\"white\",\"automargin\":true,\"zerolinewidth\":2},\"yaxis\":{\"gridcolor\":\"white\",\"linecolor\":\"white\",\"ticks\":\"\",\"title\":{\"standoff\":15},\"zerolinecolor\":\"white\",\"automargin\":true,\"zerolinewidth\":2},\"scene\":{\"xaxis\":{\"backgroundcolor\":\"#E5ECF6\",\"gridcolor\":\"white\",\"linecolor\":\"white\",\"showbackground\":true,\"ticks\":\"\",\"zerolinecolor\":\"white\",\"gridwidth\":2},\"yaxis\":{\"backgroundcolor\":\"#E5ECF6\",\"gridcolor\":\"white\",\"linecolor\":\"white\",\"showbackground\":true,\"ticks\":\"\",\"zerolinecolor\":\"white\",\"gridwidth\":2},\"zaxis\":{\"backgroundcolor\":\"#E5ECF6\",\"gridcolor\":\"white\",\"linecolor\":\"white\",\"showbackground\":true,\"ticks\":\"\",\"zerolinecolor\":\"white\",\"gridwidth\":2}},\"shapedefaults\":{\"line\":{\"color\":\"#2a3f5f\"}},\"annotationdefaults\":{\"arrowcolor\":\"#2a3f5f\",\"arrowhead\":0,\"arrowwidth\":1},\"geo\":{\"bgcolor\":\"white\",\"landcolor\":\"#E5ECF6\",\"subunitcolor\":\"white\",\"showland\":true,\"showlakes\":true,\"lakecolor\":\"white\"},\"title\":{\"x\":0.05},\"mapbox\":{\"style\":\"light\"}}},\"xaxis\":{\"anchor\":\"y\",\"domain\":[0.0,1.0],\"title\":{\"text\":\"Visit\"}},\"yaxis\":{\"anchor\":\"x\",\"domain\":[0.0,1.0],\"title\":{\"text\":\"Count\"}},\"legend\":{\"tracegroupgap\":0},\"margin\":{\"t\":60},\"barmode\":\"relative\"},                        {\"responsive\": true}                    ).then(function(){\n",
       "                            \n",
       "var gd = document.getElementById('c3d85015-4c4b-4881-9c37-7c8217a0b196');\n",
       "var x = new MutationObserver(function (mutations, observer) {{\n",
       "        var display = window.getComputedStyle(gd).display;\n",
       "        if (!display || display === 'none') {{\n",
       "            console.log([gd, 'removed!']);\n",
       "            Plotly.purge(gd);\n",
       "            observer.disconnect();\n",
       "        }}\n",
       "}});\n",
       "\n",
       "// Listen for the removal of the full notebook cells\n",
       "var notebookContainer = gd.closest('#notebook-container');\n",
       "if (notebookContainer) {{\n",
       "    x.observe(notebookContainer, {childList: true});\n",
       "}}\n",
       "\n",
       "// Listen for the clearing of the current output cell\n",
       "var outputEl = gd.closest('.output');\n",
       "if (outputEl) {{\n",
       "    x.observe(outputEl, {childList: true});\n",
       "}}\n",
       "\n",
       "                        })                };                });            </script>        </div>"
      ]
     },
     "metadata": {},
     "output_type": "display_data"
    }
   ],
   "source": [
    "tdcsfog_visit_counts = tdcsfog_metadata_df.Visit.value_counts()\n",
    "\n",
    "fig = px.bar(x=tdcsfog_visit_counts.index, y=tdcsfog_visit_counts.values, color_discrete_sequence=['darkgreen'])\n",
    "fig.update_layout(xaxis_title=\"Visit\", yaxis_title=\"Count\")\n",
    "fig.show()"
   ]
  },
  {
   "cell_type": "markdown",
   "metadata": {},
   "source": [
    "<p style=\"font-family: consolas; font-size: 16px;\">❔ How the bar chart looks like for categorical field <code>Test</code>.</p>"
   ]
  },
  {
   "cell_type": "code",
   "execution_count": 38,
   "metadata": {
    "execution": {
     "iopub.execute_input": "2023-07-14T02:26:31.759989Z",
     "iopub.status.busy": "2023-07-14T02:26:31.759481Z",
     "iopub.status.idle": "2023-07-14T02:26:31.841367Z",
     "shell.execute_reply": "2023-07-14T02:26:31.840015Z",
     "shell.execute_reply.started": "2023-07-14T02:26:31.759935Z"
    }
   },
   "outputs": [
    {
     "data": {
      "text/html": [
       "<div>                            <div id=\"38183684-ee95-4bf0-a3c0-87da6f13601e\" class=\"plotly-graph-div\" style=\"height:525px; width:100%;\"></div>            <script type=\"text/javascript\">                require([\"plotly\"], function(Plotly) {                    window.PLOTLYENV=window.PLOTLYENV || {};                                    if (document.getElementById(\"38183684-ee95-4bf0-a3c0-87da6f13601e\")) {                    Plotly.newPlot(                        \"38183684-ee95-4bf0-a3c0-87da6f13601e\",                        [{\"alignmentgroup\":\"True\",\"hovertemplate\":\"x=%{x}<br>y=%{y}<extra></extra>\",\"legendgroup\":\"\",\"marker\":{\"color\":\"darkgreen\",\"pattern\":{\"shape\":\"\"}},\"name\":\"\",\"offsetgroup\":\"\",\"orientation\":\"v\",\"showlegend\":false,\"textposition\":\"auto\",\"x\":[1,2,3],\"xaxis\":\"x\",\"y\":[286,282,265],\"yaxis\":\"y\",\"type\":\"bar\"}],                        {\"template\":{\"data\":{\"histogram2dcontour\":[{\"type\":\"histogram2dcontour\",\"colorbar\":{\"outlinewidth\":0,\"ticks\":\"\"},\"colorscale\":[[0.0,\"#0d0887\"],[0.1111111111111111,\"#46039f\"],[0.2222222222222222,\"#7201a8\"],[0.3333333333333333,\"#9c179e\"],[0.4444444444444444,\"#bd3786\"],[0.5555555555555556,\"#d8576b\"],[0.6666666666666666,\"#ed7953\"],[0.7777777777777778,\"#fb9f3a\"],[0.8888888888888888,\"#fdca26\"],[1.0,\"#f0f921\"]]}],\"choropleth\":[{\"type\":\"choropleth\",\"colorbar\":{\"outlinewidth\":0,\"ticks\":\"\"}}],\"histogram2d\":[{\"type\":\"histogram2d\",\"colorbar\":{\"outlinewidth\":0,\"ticks\":\"\"},\"colorscale\":[[0.0,\"#0d0887\"],[0.1111111111111111,\"#46039f\"],[0.2222222222222222,\"#7201a8\"],[0.3333333333333333,\"#9c179e\"],[0.4444444444444444,\"#bd3786\"],[0.5555555555555556,\"#d8576b\"],[0.6666666666666666,\"#ed7953\"],[0.7777777777777778,\"#fb9f3a\"],[0.8888888888888888,\"#fdca26\"],[1.0,\"#f0f921\"]]}],\"heatmap\":[{\"type\":\"heatmap\",\"colorbar\":{\"outlinewidth\":0,\"ticks\":\"\"},\"colorscale\":[[0.0,\"#0d0887\"],[0.1111111111111111,\"#46039f\"],[0.2222222222222222,\"#7201a8\"],[0.3333333333333333,\"#9c179e\"],[0.4444444444444444,\"#bd3786\"],[0.5555555555555556,\"#d8576b\"],[0.6666666666666666,\"#ed7953\"],[0.7777777777777778,\"#fb9f3a\"],[0.8888888888888888,\"#fdca26\"],[1.0,\"#f0f921\"]]}],\"heatmapgl\":[{\"type\":\"heatmapgl\",\"colorbar\":{\"outlinewidth\":0,\"ticks\":\"\"},\"colorscale\":[[0.0,\"#0d0887\"],[0.1111111111111111,\"#46039f\"],[0.2222222222222222,\"#7201a8\"],[0.3333333333333333,\"#9c179e\"],[0.4444444444444444,\"#bd3786\"],[0.5555555555555556,\"#d8576b\"],[0.6666666666666666,\"#ed7953\"],[0.7777777777777778,\"#fb9f3a\"],[0.8888888888888888,\"#fdca26\"],[1.0,\"#f0f921\"]]}],\"contourcarpet\":[{\"type\":\"contourcarpet\",\"colorbar\":{\"outlinewidth\":0,\"ticks\":\"\"}}],\"contour\":[{\"type\":\"contour\",\"colorbar\":{\"outlinewidth\":0,\"ticks\":\"\"},\"colorscale\":[[0.0,\"#0d0887\"],[0.1111111111111111,\"#46039f\"],[0.2222222222222222,\"#7201a8\"],[0.3333333333333333,\"#9c179e\"],[0.4444444444444444,\"#bd3786\"],[0.5555555555555556,\"#d8576b\"],[0.6666666666666666,\"#ed7953\"],[0.7777777777777778,\"#fb9f3a\"],[0.8888888888888888,\"#fdca26\"],[1.0,\"#f0f921\"]]}],\"surface\":[{\"type\":\"surface\",\"colorbar\":{\"outlinewidth\":0,\"ticks\":\"\"},\"colorscale\":[[0.0,\"#0d0887\"],[0.1111111111111111,\"#46039f\"],[0.2222222222222222,\"#7201a8\"],[0.3333333333333333,\"#9c179e\"],[0.4444444444444444,\"#bd3786\"],[0.5555555555555556,\"#d8576b\"],[0.6666666666666666,\"#ed7953\"],[0.7777777777777778,\"#fb9f3a\"],[0.8888888888888888,\"#fdca26\"],[1.0,\"#f0f921\"]]}],\"mesh3d\":[{\"type\":\"mesh3d\",\"colorbar\":{\"outlinewidth\":0,\"ticks\":\"\"}}],\"scatter\":[{\"fillpattern\":{\"fillmode\":\"overlay\",\"size\":10,\"solidity\":0.2},\"type\":\"scatter\"}],\"parcoords\":[{\"type\":\"parcoords\",\"line\":{\"colorbar\":{\"outlinewidth\":0,\"ticks\":\"\"}}}],\"scatterpolargl\":[{\"type\":\"scatterpolargl\",\"marker\":{\"colorbar\":{\"outlinewidth\":0,\"ticks\":\"\"}}}],\"bar\":[{\"error_x\":{\"color\":\"#2a3f5f\"},\"error_y\":{\"color\":\"#2a3f5f\"},\"marker\":{\"line\":{\"color\":\"#E5ECF6\",\"width\":0.5},\"pattern\":{\"fillmode\":\"overlay\",\"size\":10,\"solidity\":0.2}},\"type\":\"bar\"}],\"scattergeo\":[{\"type\":\"scattergeo\",\"marker\":{\"colorbar\":{\"outlinewidth\":0,\"ticks\":\"\"}}}],\"scatterpolar\":[{\"type\":\"scatterpolar\",\"marker\":{\"colorbar\":{\"outlinewidth\":0,\"ticks\":\"\"}}}],\"histogram\":[{\"marker\":{\"pattern\":{\"fillmode\":\"overlay\",\"size\":10,\"solidity\":0.2}},\"type\":\"histogram\"}],\"scattergl\":[{\"type\":\"scattergl\",\"marker\":{\"colorbar\":{\"outlinewidth\":0,\"ticks\":\"\"}}}],\"scatter3d\":[{\"type\":\"scatter3d\",\"line\":{\"colorbar\":{\"outlinewidth\":0,\"ticks\":\"\"}},\"marker\":{\"colorbar\":{\"outlinewidth\":0,\"ticks\":\"\"}}}],\"scattermapbox\":[{\"type\":\"scattermapbox\",\"marker\":{\"colorbar\":{\"outlinewidth\":0,\"ticks\":\"\"}}}],\"scatterternary\":[{\"type\":\"scatterternary\",\"marker\":{\"colorbar\":{\"outlinewidth\":0,\"ticks\":\"\"}}}],\"scattercarpet\":[{\"type\":\"scattercarpet\",\"marker\":{\"colorbar\":{\"outlinewidth\":0,\"ticks\":\"\"}}}],\"carpet\":[{\"aaxis\":{\"endlinecolor\":\"#2a3f5f\",\"gridcolor\":\"white\",\"linecolor\":\"white\",\"minorgridcolor\":\"white\",\"startlinecolor\":\"#2a3f5f\"},\"baxis\":{\"endlinecolor\":\"#2a3f5f\",\"gridcolor\":\"white\",\"linecolor\":\"white\",\"minorgridcolor\":\"white\",\"startlinecolor\":\"#2a3f5f\"},\"type\":\"carpet\"}],\"table\":[{\"cells\":{\"fill\":{\"color\":\"#EBF0F8\"},\"line\":{\"color\":\"white\"}},\"header\":{\"fill\":{\"color\":\"#C8D4E3\"},\"line\":{\"color\":\"white\"}},\"type\":\"table\"}],\"barpolar\":[{\"marker\":{\"line\":{\"color\":\"#E5ECF6\",\"width\":0.5},\"pattern\":{\"fillmode\":\"overlay\",\"size\":10,\"solidity\":0.2}},\"type\":\"barpolar\"}],\"pie\":[{\"automargin\":true,\"type\":\"pie\"}]},\"layout\":{\"autotypenumbers\":\"strict\",\"colorway\":[\"#636efa\",\"#EF553B\",\"#00cc96\",\"#ab63fa\",\"#FFA15A\",\"#19d3f3\",\"#FF6692\",\"#B6E880\",\"#FF97FF\",\"#FECB52\"],\"font\":{\"color\":\"#2a3f5f\"},\"hovermode\":\"closest\",\"hoverlabel\":{\"align\":\"left\"},\"paper_bgcolor\":\"white\",\"plot_bgcolor\":\"#E5ECF6\",\"polar\":{\"bgcolor\":\"#E5ECF6\",\"angularaxis\":{\"gridcolor\":\"white\",\"linecolor\":\"white\",\"ticks\":\"\"},\"radialaxis\":{\"gridcolor\":\"white\",\"linecolor\":\"white\",\"ticks\":\"\"}},\"ternary\":{\"bgcolor\":\"#E5ECF6\",\"aaxis\":{\"gridcolor\":\"white\",\"linecolor\":\"white\",\"ticks\":\"\"},\"baxis\":{\"gridcolor\":\"white\",\"linecolor\":\"white\",\"ticks\":\"\"},\"caxis\":{\"gridcolor\":\"white\",\"linecolor\":\"white\",\"ticks\":\"\"}},\"coloraxis\":{\"colorbar\":{\"outlinewidth\":0,\"ticks\":\"\"}},\"colorscale\":{\"sequential\":[[0.0,\"#0d0887\"],[0.1111111111111111,\"#46039f\"],[0.2222222222222222,\"#7201a8\"],[0.3333333333333333,\"#9c179e\"],[0.4444444444444444,\"#bd3786\"],[0.5555555555555556,\"#d8576b\"],[0.6666666666666666,\"#ed7953\"],[0.7777777777777778,\"#fb9f3a\"],[0.8888888888888888,\"#fdca26\"],[1.0,\"#f0f921\"]],\"sequentialminus\":[[0.0,\"#0d0887\"],[0.1111111111111111,\"#46039f\"],[0.2222222222222222,\"#7201a8\"],[0.3333333333333333,\"#9c179e\"],[0.4444444444444444,\"#bd3786\"],[0.5555555555555556,\"#d8576b\"],[0.6666666666666666,\"#ed7953\"],[0.7777777777777778,\"#fb9f3a\"],[0.8888888888888888,\"#fdca26\"],[1.0,\"#f0f921\"]],\"diverging\":[[0,\"#8e0152\"],[0.1,\"#c51b7d\"],[0.2,\"#de77ae\"],[0.3,\"#f1b6da\"],[0.4,\"#fde0ef\"],[0.5,\"#f7f7f7\"],[0.6,\"#e6f5d0\"],[0.7,\"#b8e186\"],[0.8,\"#7fbc41\"],[0.9,\"#4d9221\"],[1,\"#276419\"]]},\"xaxis\":{\"gridcolor\":\"white\",\"linecolor\":\"white\",\"ticks\":\"\",\"title\":{\"standoff\":15},\"zerolinecolor\":\"white\",\"automargin\":true,\"zerolinewidth\":2},\"yaxis\":{\"gridcolor\":\"white\",\"linecolor\":\"white\",\"ticks\":\"\",\"title\":{\"standoff\":15},\"zerolinecolor\":\"white\",\"automargin\":true,\"zerolinewidth\":2},\"scene\":{\"xaxis\":{\"backgroundcolor\":\"#E5ECF6\",\"gridcolor\":\"white\",\"linecolor\":\"white\",\"showbackground\":true,\"ticks\":\"\",\"zerolinecolor\":\"white\",\"gridwidth\":2},\"yaxis\":{\"backgroundcolor\":\"#E5ECF6\",\"gridcolor\":\"white\",\"linecolor\":\"white\",\"showbackground\":true,\"ticks\":\"\",\"zerolinecolor\":\"white\",\"gridwidth\":2},\"zaxis\":{\"backgroundcolor\":\"#E5ECF6\",\"gridcolor\":\"white\",\"linecolor\":\"white\",\"showbackground\":true,\"ticks\":\"\",\"zerolinecolor\":\"white\",\"gridwidth\":2}},\"shapedefaults\":{\"line\":{\"color\":\"#2a3f5f\"}},\"annotationdefaults\":{\"arrowcolor\":\"#2a3f5f\",\"arrowhead\":0,\"arrowwidth\":1},\"geo\":{\"bgcolor\":\"white\",\"landcolor\":\"#E5ECF6\",\"subunitcolor\":\"white\",\"showland\":true,\"showlakes\":true,\"lakecolor\":\"white\"},\"title\":{\"x\":0.05},\"mapbox\":{\"style\":\"light\"}}},\"xaxis\":{\"anchor\":\"y\",\"domain\":[0.0,1.0],\"title\":{\"text\":\"Test\"}},\"yaxis\":{\"anchor\":\"x\",\"domain\":[0.0,1.0],\"title\":{\"text\":\"Count\"}},\"legend\":{\"tracegroupgap\":0},\"margin\":{\"t\":60},\"barmode\":\"relative\"},                        {\"responsive\": true}                    ).then(function(){\n",
       "                            \n",
       "var gd = document.getElementById('38183684-ee95-4bf0-a3c0-87da6f13601e');\n",
       "var x = new MutationObserver(function (mutations, observer) {{\n",
       "        var display = window.getComputedStyle(gd).display;\n",
       "        if (!display || display === 'none') {{\n",
       "            console.log([gd, 'removed!']);\n",
       "            Plotly.purge(gd);\n",
       "            observer.disconnect();\n",
       "        }}\n",
       "}});\n",
       "\n",
       "// Listen for the removal of the full notebook cells\n",
       "var notebookContainer = gd.closest('#notebook-container');\n",
       "if (notebookContainer) {{\n",
       "    x.observe(notebookContainer, {childList: true});\n",
       "}}\n",
       "\n",
       "// Listen for the clearing of the current output cell\n",
       "var outputEl = gd.closest('.output');\n",
       "if (outputEl) {{\n",
       "    x.observe(outputEl, {childList: true});\n",
       "}}\n",
       "\n",
       "                        })                };                });            </script>        </div>"
      ]
     },
     "metadata": {},
     "output_type": "display_data"
    }
   ],
   "source": [
    "tdcsfog_test_counts = tdcsfog_metadata_df.Test.value_counts()\n",
    "\n",
    "fig = px.bar(x=tdcsfog_test_counts.index, y=tdcsfog_test_counts.values, color_discrete_sequence=['darkgreen'])\n",
    "fig.update_layout(xaxis_title=\"Test\", yaxis_title=\"Count\")\n",
    "fig.show()"
   ]
  },
  {
   "cell_type": "markdown",
   "metadata": {},
   "source": [
    "<p style=\"font-family: consolas; font-size: 16px;\">❔ How the bar chart looks like for categorical field <code>Medication</code>.</p>"
   ]
  },
  {
   "cell_type": "code",
   "execution_count": 39,
   "metadata": {
    "execution": {
     "iopub.execute_input": "2023-07-14T02:26:31.843681Z",
     "iopub.status.busy": "2023-07-14T02:26:31.842954Z",
     "iopub.status.idle": "2023-07-14T02:26:31.938079Z",
     "shell.execute_reply": "2023-07-14T02:26:31.936204Z",
     "shell.execute_reply.started": "2023-07-14T02:26:31.843636Z"
    }
   },
   "outputs": [
    {
     "data": {
      "text/html": [
       "<div>                            <div id=\"b305f905-ddcd-48db-a926-42502ee22993\" class=\"plotly-graph-div\" style=\"height:525px; width:100%;\"></div>            <script type=\"text/javascript\">                require([\"plotly\"], function(Plotly) {                    window.PLOTLYENV=window.PLOTLYENV || {};                                    if (document.getElementById(\"b305f905-ddcd-48db-a926-42502ee22993\")) {                    Plotly.newPlot(                        \"b305f905-ddcd-48db-a926-42502ee22993\",                        [{\"alignmentgroup\":\"True\",\"hovertemplate\":\"x=%{x}<br>y=%{y}<extra></extra>\",\"legendgroup\":\"\",\"marker\":{\"color\":\"darkgreen\",\"pattern\":{\"shape\":\"\"}},\"name\":\"\",\"offsetgroup\":\"\",\"orientation\":\"v\",\"showlegend\":false,\"textposition\":\"auto\",\"x\":[\"on\",\"off\"],\"xaxis\":\"x\",\"y\":[536,297],\"yaxis\":\"y\",\"type\":\"bar\"}],                        {\"template\":{\"data\":{\"histogram2dcontour\":[{\"type\":\"histogram2dcontour\",\"colorbar\":{\"outlinewidth\":0,\"ticks\":\"\"},\"colorscale\":[[0.0,\"#0d0887\"],[0.1111111111111111,\"#46039f\"],[0.2222222222222222,\"#7201a8\"],[0.3333333333333333,\"#9c179e\"],[0.4444444444444444,\"#bd3786\"],[0.5555555555555556,\"#d8576b\"],[0.6666666666666666,\"#ed7953\"],[0.7777777777777778,\"#fb9f3a\"],[0.8888888888888888,\"#fdca26\"],[1.0,\"#f0f921\"]]}],\"choropleth\":[{\"type\":\"choropleth\",\"colorbar\":{\"outlinewidth\":0,\"ticks\":\"\"}}],\"histogram2d\":[{\"type\":\"histogram2d\",\"colorbar\":{\"outlinewidth\":0,\"ticks\":\"\"},\"colorscale\":[[0.0,\"#0d0887\"],[0.1111111111111111,\"#46039f\"],[0.2222222222222222,\"#7201a8\"],[0.3333333333333333,\"#9c179e\"],[0.4444444444444444,\"#bd3786\"],[0.5555555555555556,\"#d8576b\"],[0.6666666666666666,\"#ed7953\"],[0.7777777777777778,\"#fb9f3a\"],[0.8888888888888888,\"#fdca26\"],[1.0,\"#f0f921\"]]}],\"heatmap\":[{\"type\":\"heatmap\",\"colorbar\":{\"outlinewidth\":0,\"ticks\":\"\"},\"colorscale\":[[0.0,\"#0d0887\"],[0.1111111111111111,\"#46039f\"],[0.2222222222222222,\"#7201a8\"],[0.3333333333333333,\"#9c179e\"],[0.4444444444444444,\"#bd3786\"],[0.5555555555555556,\"#d8576b\"],[0.6666666666666666,\"#ed7953\"],[0.7777777777777778,\"#fb9f3a\"],[0.8888888888888888,\"#fdca26\"],[1.0,\"#f0f921\"]]}],\"heatmapgl\":[{\"type\":\"heatmapgl\",\"colorbar\":{\"outlinewidth\":0,\"ticks\":\"\"},\"colorscale\":[[0.0,\"#0d0887\"],[0.1111111111111111,\"#46039f\"],[0.2222222222222222,\"#7201a8\"],[0.3333333333333333,\"#9c179e\"],[0.4444444444444444,\"#bd3786\"],[0.5555555555555556,\"#d8576b\"],[0.6666666666666666,\"#ed7953\"],[0.7777777777777778,\"#fb9f3a\"],[0.8888888888888888,\"#fdca26\"],[1.0,\"#f0f921\"]]}],\"contourcarpet\":[{\"type\":\"contourcarpet\",\"colorbar\":{\"outlinewidth\":0,\"ticks\":\"\"}}],\"contour\":[{\"type\":\"contour\",\"colorbar\":{\"outlinewidth\":0,\"ticks\":\"\"},\"colorscale\":[[0.0,\"#0d0887\"],[0.1111111111111111,\"#46039f\"],[0.2222222222222222,\"#7201a8\"],[0.3333333333333333,\"#9c179e\"],[0.4444444444444444,\"#bd3786\"],[0.5555555555555556,\"#d8576b\"],[0.6666666666666666,\"#ed7953\"],[0.7777777777777778,\"#fb9f3a\"],[0.8888888888888888,\"#fdca26\"],[1.0,\"#f0f921\"]]}],\"surface\":[{\"type\":\"surface\",\"colorbar\":{\"outlinewidth\":0,\"ticks\":\"\"},\"colorscale\":[[0.0,\"#0d0887\"],[0.1111111111111111,\"#46039f\"],[0.2222222222222222,\"#7201a8\"],[0.3333333333333333,\"#9c179e\"],[0.4444444444444444,\"#bd3786\"],[0.5555555555555556,\"#d8576b\"],[0.6666666666666666,\"#ed7953\"],[0.7777777777777778,\"#fb9f3a\"],[0.8888888888888888,\"#fdca26\"],[1.0,\"#f0f921\"]]}],\"mesh3d\":[{\"type\":\"mesh3d\",\"colorbar\":{\"outlinewidth\":0,\"ticks\":\"\"}}],\"scatter\":[{\"fillpattern\":{\"fillmode\":\"overlay\",\"size\":10,\"solidity\":0.2},\"type\":\"scatter\"}],\"parcoords\":[{\"type\":\"parcoords\",\"line\":{\"colorbar\":{\"outlinewidth\":0,\"ticks\":\"\"}}}],\"scatterpolargl\":[{\"type\":\"scatterpolargl\",\"marker\":{\"colorbar\":{\"outlinewidth\":0,\"ticks\":\"\"}}}],\"bar\":[{\"error_x\":{\"color\":\"#2a3f5f\"},\"error_y\":{\"color\":\"#2a3f5f\"},\"marker\":{\"line\":{\"color\":\"#E5ECF6\",\"width\":0.5},\"pattern\":{\"fillmode\":\"overlay\",\"size\":10,\"solidity\":0.2}},\"type\":\"bar\"}],\"scattergeo\":[{\"type\":\"scattergeo\",\"marker\":{\"colorbar\":{\"outlinewidth\":0,\"ticks\":\"\"}}}],\"scatterpolar\":[{\"type\":\"scatterpolar\",\"marker\":{\"colorbar\":{\"outlinewidth\":0,\"ticks\":\"\"}}}],\"histogram\":[{\"marker\":{\"pattern\":{\"fillmode\":\"overlay\",\"size\":10,\"solidity\":0.2}},\"type\":\"histogram\"}],\"scattergl\":[{\"type\":\"scattergl\",\"marker\":{\"colorbar\":{\"outlinewidth\":0,\"ticks\":\"\"}}}],\"scatter3d\":[{\"type\":\"scatter3d\",\"line\":{\"colorbar\":{\"outlinewidth\":0,\"ticks\":\"\"}},\"marker\":{\"colorbar\":{\"outlinewidth\":0,\"ticks\":\"\"}}}],\"scattermapbox\":[{\"type\":\"scattermapbox\",\"marker\":{\"colorbar\":{\"outlinewidth\":0,\"ticks\":\"\"}}}],\"scatterternary\":[{\"type\":\"scatterternary\",\"marker\":{\"colorbar\":{\"outlinewidth\":0,\"ticks\":\"\"}}}],\"scattercarpet\":[{\"type\":\"scattercarpet\",\"marker\":{\"colorbar\":{\"outlinewidth\":0,\"ticks\":\"\"}}}],\"carpet\":[{\"aaxis\":{\"endlinecolor\":\"#2a3f5f\",\"gridcolor\":\"white\",\"linecolor\":\"white\",\"minorgridcolor\":\"white\",\"startlinecolor\":\"#2a3f5f\"},\"baxis\":{\"endlinecolor\":\"#2a3f5f\",\"gridcolor\":\"white\",\"linecolor\":\"white\",\"minorgridcolor\":\"white\",\"startlinecolor\":\"#2a3f5f\"},\"type\":\"carpet\"}],\"table\":[{\"cells\":{\"fill\":{\"color\":\"#EBF0F8\"},\"line\":{\"color\":\"white\"}},\"header\":{\"fill\":{\"color\":\"#C8D4E3\"},\"line\":{\"color\":\"white\"}},\"type\":\"table\"}],\"barpolar\":[{\"marker\":{\"line\":{\"color\":\"#E5ECF6\",\"width\":0.5},\"pattern\":{\"fillmode\":\"overlay\",\"size\":10,\"solidity\":0.2}},\"type\":\"barpolar\"}],\"pie\":[{\"automargin\":true,\"type\":\"pie\"}]},\"layout\":{\"autotypenumbers\":\"strict\",\"colorway\":[\"#636efa\",\"#EF553B\",\"#00cc96\",\"#ab63fa\",\"#FFA15A\",\"#19d3f3\",\"#FF6692\",\"#B6E880\",\"#FF97FF\",\"#FECB52\"],\"font\":{\"color\":\"#2a3f5f\"},\"hovermode\":\"closest\",\"hoverlabel\":{\"align\":\"left\"},\"paper_bgcolor\":\"white\",\"plot_bgcolor\":\"#E5ECF6\",\"polar\":{\"bgcolor\":\"#E5ECF6\",\"angularaxis\":{\"gridcolor\":\"white\",\"linecolor\":\"white\",\"ticks\":\"\"},\"radialaxis\":{\"gridcolor\":\"white\",\"linecolor\":\"white\",\"ticks\":\"\"}},\"ternary\":{\"bgcolor\":\"#E5ECF6\",\"aaxis\":{\"gridcolor\":\"white\",\"linecolor\":\"white\",\"ticks\":\"\"},\"baxis\":{\"gridcolor\":\"white\",\"linecolor\":\"white\",\"ticks\":\"\"},\"caxis\":{\"gridcolor\":\"white\",\"linecolor\":\"white\",\"ticks\":\"\"}},\"coloraxis\":{\"colorbar\":{\"outlinewidth\":0,\"ticks\":\"\"}},\"colorscale\":{\"sequential\":[[0.0,\"#0d0887\"],[0.1111111111111111,\"#46039f\"],[0.2222222222222222,\"#7201a8\"],[0.3333333333333333,\"#9c179e\"],[0.4444444444444444,\"#bd3786\"],[0.5555555555555556,\"#d8576b\"],[0.6666666666666666,\"#ed7953\"],[0.7777777777777778,\"#fb9f3a\"],[0.8888888888888888,\"#fdca26\"],[1.0,\"#f0f921\"]],\"sequentialminus\":[[0.0,\"#0d0887\"],[0.1111111111111111,\"#46039f\"],[0.2222222222222222,\"#7201a8\"],[0.3333333333333333,\"#9c179e\"],[0.4444444444444444,\"#bd3786\"],[0.5555555555555556,\"#d8576b\"],[0.6666666666666666,\"#ed7953\"],[0.7777777777777778,\"#fb9f3a\"],[0.8888888888888888,\"#fdca26\"],[1.0,\"#f0f921\"]],\"diverging\":[[0,\"#8e0152\"],[0.1,\"#c51b7d\"],[0.2,\"#de77ae\"],[0.3,\"#f1b6da\"],[0.4,\"#fde0ef\"],[0.5,\"#f7f7f7\"],[0.6,\"#e6f5d0\"],[0.7,\"#b8e186\"],[0.8,\"#7fbc41\"],[0.9,\"#4d9221\"],[1,\"#276419\"]]},\"xaxis\":{\"gridcolor\":\"white\",\"linecolor\":\"white\",\"ticks\":\"\",\"title\":{\"standoff\":15},\"zerolinecolor\":\"white\",\"automargin\":true,\"zerolinewidth\":2},\"yaxis\":{\"gridcolor\":\"white\",\"linecolor\":\"white\",\"ticks\":\"\",\"title\":{\"standoff\":15},\"zerolinecolor\":\"white\",\"automargin\":true,\"zerolinewidth\":2},\"scene\":{\"xaxis\":{\"backgroundcolor\":\"#E5ECF6\",\"gridcolor\":\"white\",\"linecolor\":\"white\",\"showbackground\":true,\"ticks\":\"\",\"zerolinecolor\":\"white\",\"gridwidth\":2},\"yaxis\":{\"backgroundcolor\":\"#E5ECF6\",\"gridcolor\":\"white\",\"linecolor\":\"white\",\"showbackground\":true,\"ticks\":\"\",\"zerolinecolor\":\"white\",\"gridwidth\":2},\"zaxis\":{\"backgroundcolor\":\"#E5ECF6\",\"gridcolor\":\"white\",\"linecolor\":\"white\",\"showbackground\":true,\"ticks\":\"\",\"zerolinecolor\":\"white\",\"gridwidth\":2}},\"shapedefaults\":{\"line\":{\"color\":\"#2a3f5f\"}},\"annotationdefaults\":{\"arrowcolor\":\"#2a3f5f\",\"arrowhead\":0,\"arrowwidth\":1},\"geo\":{\"bgcolor\":\"white\",\"landcolor\":\"#E5ECF6\",\"subunitcolor\":\"white\",\"showland\":true,\"showlakes\":true,\"lakecolor\":\"white\"},\"title\":{\"x\":0.05},\"mapbox\":{\"style\":\"light\"}}},\"xaxis\":{\"anchor\":\"y\",\"domain\":[0.0,1.0],\"title\":{\"text\":\"Medication\"}},\"yaxis\":{\"anchor\":\"x\",\"domain\":[0.0,1.0],\"title\":{\"text\":\"Count\"}},\"legend\":{\"tracegroupgap\":0},\"margin\":{\"t\":60},\"barmode\":\"relative\"},                        {\"responsive\": true}                    ).then(function(){\n",
       "                            \n",
       "var gd = document.getElementById('b305f905-ddcd-48db-a926-42502ee22993');\n",
       "var x = new MutationObserver(function (mutations, observer) {{\n",
       "        var display = window.getComputedStyle(gd).display;\n",
       "        if (!display || display === 'none') {{\n",
       "            console.log([gd, 'removed!']);\n",
       "            Plotly.purge(gd);\n",
       "            observer.disconnect();\n",
       "        }}\n",
       "}});\n",
       "\n",
       "// Listen for the removal of the full notebook cells\n",
       "var notebookContainer = gd.closest('#notebook-container');\n",
       "if (notebookContainer) {{\n",
       "    x.observe(notebookContainer, {childList: true});\n",
       "}}\n",
       "\n",
       "// Listen for the clearing of the current output cell\n",
       "var outputEl = gd.closest('.output');\n",
       "if (outputEl) {{\n",
       "    x.observe(outputEl, {childList: true});\n",
       "}}\n",
       "\n",
       "                        })                };                });            </script>        </div>"
      ]
     },
     "metadata": {},
     "output_type": "display_data"
    }
   ],
   "source": [
    "tdcsfog_medication_counts = tdcsfog_metadata_df.Medication.value_counts()\n",
    "\n",
    "fig = px.bar(x=tdcsfog_medication_counts.index, y=tdcsfog_medication_counts.values, color_discrete_sequence=['darkgreen'])\n",
    "fig.update_layout(xaxis_title=\"Medication\", yaxis_title=\"Count\")\n",
    "fig.show()"
   ]
  },
  {
   "cell_type": "markdown",
   "metadata": {},
   "source": [
    "<a id=\"2.2\"></a>\n",
    "## <div style=\"box-shadow: rgba(0, 0, 0, 0.18) 0px 2px 4px inset; padding:20px; font-size:24px; font-family: consolas; text-align:center; display:fill; border-radius:15px; color:rgb(67, 66, 66)\"> <b> 2.2 Overview <i>defog_metadata.csv</i> file</b></div>"
   ]
  },
  {
   "cell_type": "markdown",
   "metadata": {},
   "source": [
    "<p style=\"font-family: consolas; font-size: 16px;\">⚪ <b>defog_metadata.csv</b> Identifies each series in the <code>defog</code> dataset by a unique <code>Subject, Visit, Medication</code> condition.</p>"
   ]
  },
  {
   "cell_type": "markdown",
   "metadata": {},
   "source": [
    "<p style=\"font-family: consolas; font-size: 16px;\">❔ How the data looks like.</p>"
   ]
  },
  {
   "cell_type": "code",
   "execution_count": 40,
   "metadata": {
    "execution": {
     "iopub.execute_input": "2023-07-14T02:26:31.940632Z",
     "iopub.status.busy": "2023-07-14T02:26:31.940121Z",
     "iopub.status.idle": "2023-07-14T02:26:31.955445Z",
     "shell.execute_reply": "2023-07-14T02:26:31.954007Z",
     "shell.execute_reply.started": "2023-07-14T02:26:31.940584Z"
    }
   },
   "outputs": [],
   "source": [
    "defog_metadata_df = pd.read_csv(\"/kaggle/input/tlvmc-parkinsons-freezing-gait-prediction/defog_metadata.csv\")"
   ]
  },
  {
   "cell_type": "code",
   "execution_count": 41,
   "metadata": {
    "execution": {
     "iopub.execute_input": "2023-07-14T02:26:31.957971Z",
     "iopub.status.busy": "2023-07-14T02:26:31.957481Z",
     "iopub.status.idle": "2023-07-14T02:26:31.977354Z",
     "shell.execute_reply": "2023-07-14T02:26:31.975885Z",
     "shell.execute_reply.started": "2023-07-14T02:26:31.957932Z"
    }
   },
   "outputs": [
    {
     "data": {
      "text/html": [
       "<div>\n",
       "<style scoped>\n",
       "    .dataframe tbody tr th:only-of-type {\n",
       "        vertical-align: middle;\n",
       "    }\n",
       "\n",
       "    .dataframe tbody tr th {\n",
       "        vertical-align: top;\n",
       "    }\n",
       "\n",
       "    .dataframe thead th {\n",
       "        text-align: right;\n",
       "    }\n",
       "</style>\n",
       "<table border=\"1\" class=\"dataframe\">\n",
       "  <thead>\n",
       "    <tr style=\"text-align: right;\">\n",
       "      <th></th>\n",
       "      <th>Id</th>\n",
       "      <th>Subject</th>\n",
       "      <th>Visit</th>\n",
       "      <th>Medication</th>\n",
       "    </tr>\n",
       "  </thead>\n",
       "  <tbody>\n",
       "    <tr>\n",
       "      <th>0</th>\n",
       "      <td>02ab235146</td>\n",
       "      <td>e1f62e</td>\n",
       "      <td>2</td>\n",
       "      <td>on</td>\n",
       "    </tr>\n",
       "    <tr>\n",
       "      <th>1</th>\n",
       "      <td>02ea782681</td>\n",
       "      <td>ae2d35</td>\n",
       "      <td>2</td>\n",
       "      <td>on</td>\n",
       "    </tr>\n",
       "    <tr>\n",
       "      <th>2</th>\n",
       "      <td>06414383cf</td>\n",
       "      <td>8c1f5e</td>\n",
       "      <td>2</td>\n",
       "      <td>off</td>\n",
       "    </tr>\n",
       "    <tr>\n",
       "      <th>3</th>\n",
       "      <td>092b4c1819</td>\n",
       "      <td>2874c5</td>\n",
       "      <td>1</td>\n",
       "      <td>off</td>\n",
       "    </tr>\n",
       "    <tr>\n",
       "      <th>4</th>\n",
       "      <td>0a900ed8a2</td>\n",
       "      <td>0e3d49</td>\n",
       "      <td>2</td>\n",
       "      <td>on</td>\n",
       "    </tr>\n",
       "  </tbody>\n",
       "</table>\n",
       "</div>"
      ],
      "text/plain": [
       "           Id Subject  Visit Medication\n",
       "0  02ab235146  e1f62e      2         on\n",
       "1  02ea782681  ae2d35      2         on\n",
       "2  06414383cf  8c1f5e      2        off\n",
       "3  092b4c1819  2874c5      1        off\n",
       "4  0a900ed8a2  0e3d49      2         on"
      ]
     },
     "execution_count": 41,
     "metadata": {},
     "output_type": "execute_result"
    }
   ],
   "source": [
    "defog_metadata_df.head()"
   ]
  },
  {
   "cell_type": "markdown",
   "metadata": {},
   "source": [
    "<p style=\"font-family: consolas; font-size: 16px;\">❔ Is there any missing data.</p>"
   ]
  },
  {
   "cell_type": "code",
   "execution_count": 42,
   "metadata": {
    "execution": {
     "iopub.execute_input": "2023-07-14T02:26:31.980557Z",
     "iopub.status.busy": "2023-07-14T02:26:31.979561Z",
     "iopub.status.idle": "2023-07-14T02:26:31.992932Z",
     "shell.execute_reply": "2023-07-14T02:26:31.991392Z",
     "shell.execute_reply.started": "2023-07-14T02:26:31.980501Z"
    }
   },
   "outputs": [
    {
     "data": {
      "text/plain": [
       "Id            0\n",
       "Subject       0\n",
       "Visit         0\n",
       "Medication    0\n",
       "dtype: int64"
      ]
     },
     "execution_count": 42,
     "metadata": {},
     "output_type": "execute_result"
    }
   ],
   "source": [
    "defog_metadata_df.isnull().sum()"
   ]
  },
  {
   "cell_type": "markdown",
   "metadata": {},
   "source": [
    "<p style=\"font-family: consolas; font-size: 16px;\">❔ What is length of the dataframe.</p>"
   ]
  },
  {
   "cell_type": "code",
   "execution_count": 43,
   "metadata": {
    "execution": {
     "iopub.execute_input": "2023-07-14T02:26:31.995137Z",
     "iopub.status.busy": "2023-07-14T02:26:31.994620Z",
     "iopub.status.idle": "2023-07-14T02:26:32.005828Z",
     "shell.execute_reply": "2023-07-14T02:26:32.004748Z",
     "shell.execute_reply.started": "2023-07-14T02:26:31.995078Z"
    }
   },
   "outputs": [
    {
     "name": "stdout",
     "output_type": "stream",
     "text": [
      "Length of the defog_metadata.csv file is: \u001b[94m137\u001b[0m\n"
     ]
    }
   ],
   "source": [
    "temp = len(defog_metadata_df)\n",
    "print(\n",
    "    f\"Length of the defog_metadata.csv file is: {color.BLUE}{temp}{color.END}\",\n",
    ")"
   ]
  },
  {
   "cell_type": "code",
   "execution_count": 44,
   "metadata": {
    "execution": {
     "iopub.execute_input": "2023-07-14T02:26:32.008443Z",
     "iopub.status.busy": "2023-07-14T02:26:32.007226Z",
     "iopub.status.idle": "2023-07-14T02:26:32.021345Z",
     "shell.execute_reply": "2023-07-14T02:26:32.019759Z",
     "shell.execute_reply.started": "2023-07-14T02:26:32.008390Z"
    }
   },
   "outputs": [
    {
     "name": "stdout",
     "output_type": "stream",
     "text": [
      "Number of unique subjects: \u001b[94m45\u001b[0m\n"
     ]
    }
   ],
   "source": [
    "temp = len(defog_metadata_df.Subject.unique())\n",
    "print(\n",
    "    f\"Number of unique subjects: {color.BLUE}{temp}{color.END}\",\n",
    ")"
   ]
  },
  {
   "cell_type": "markdown",
   "metadata": {},
   "source": [
    "<p style=\"font-family: consolas; font-size: 16px;\">❔ How the data for an unique subject looks like.</p>"
   ]
  },
  {
   "cell_type": "code",
   "execution_count": 45,
   "metadata": {
    "execution": {
     "iopub.execute_input": "2023-07-14T02:26:32.024282Z",
     "iopub.status.busy": "2023-07-14T02:26:32.022930Z",
     "iopub.status.idle": "2023-07-14T02:26:32.041683Z",
     "shell.execute_reply": "2023-07-14T02:26:32.039715Z",
     "shell.execute_reply.started": "2023-07-14T02:26:32.024211Z"
    }
   },
   "outputs": [
    {
     "data": {
      "text/html": [
       "<div>\n",
       "<style scoped>\n",
       "    .dataframe tbody tr th:only-of-type {\n",
       "        vertical-align: middle;\n",
       "    }\n",
       "\n",
       "    .dataframe tbody tr th {\n",
       "        vertical-align: top;\n",
       "    }\n",
       "\n",
       "    .dataframe thead th {\n",
       "        text-align: right;\n",
       "    }\n",
       "</style>\n",
       "<table border=\"1\" class=\"dataframe\">\n",
       "  <thead>\n",
       "    <tr style=\"text-align: right;\">\n",
       "      <th></th>\n",
       "      <th>Id</th>\n",
       "      <th>Subject</th>\n",
       "      <th>Visit</th>\n",
       "      <th>Medication</th>\n",
       "    </tr>\n",
       "  </thead>\n",
       "  <tbody>\n",
       "  </tbody>\n",
       "</table>\n",
       "</div>"
      ],
      "text/plain": [
       "Empty DataFrame\n",
       "Columns: [Id, Subject, Visit, Medication]\n",
       "Index: []"
      ]
     },
     "execution_count": 45,
     "metadata": {},
     "output_type": "execute_result"
    }
   ],
   "source": [
    "unique_subject_id = \"bf608b\"\n",
    "defog_metadata_df[defog_metadata_df.Subject == unique_subject_id]"
   ]
  },
  {
   "cell_type": "markdown",
   "metadata": {},
   "source": [
    "<p style=\"font-family: consolas; font-size: 16px;\">❔ How the bar chart looks like for categorical field <code>Visit</code>.</p>"
   ]
  },
  {
   "cell_type": "code",
   "execution_count": 46,
   "metadata": {
    "execution": {
     "iopub.execute_input": "2023-07-14T02:26:32.045678Z",
     "iopub.status.busy": "2023-07-14T02:26:32.044507Z",
     "iopub.status.idle": "2023-07-14T02:26:32.121516Z",
     "shell.execute_reply": "2023-07-14T02:26:32.120101Z",
     "shell.execute_reply.started": "2023-07-14T02:26:32.045615Z"
    }
   },
   "outputs": [
    {
     "data": {
      "text/html": [
       "<div>                            <div id=\"8a1f521f-cb6e-4f81-8ecb-c46a9395b040\" class=\"plotly-graph-div\" style=\"height:525px; width:100%;\"></div>            <script type=\"text/javascript\">                require([\"plotly\"], function(Plotly) {                    window.PLOTLYENV=window.PLOTLYENV || {};                                    if (document.getElementById(\"8a1f521f-cb6e-4f81-8ecb-c46a9395b040\")) {                    Plotly.newPlot(                        \"8a1f521f-cb6e-4f81-8ecb-c46a9395b040\",                        [{\"alignmentgroup\":\"True\",\"hovertemplate\":\"x=%{x}<br>y=%{y}<extra></extra>\",\"legendgroup\":\"\",\"marker\":{\"color\":\"darkslateblue\",\"pattern\":{\"shape\":\"\"}},\"name\":\"\",\"offsetgroup\":\"\",\"orientation\":\"v\",\"showlegend\":false,\"textposition\":\"auto\",\"x\":[1,2],\"xaxis\":\"x\",\"y\":[70,67],\"yaxis\":\"y\",\"type\":\"bar\"}],                        {\"template\":{\"data\":{\"histogram2dcontour\":[{\"type\":\"histogram2dcontour\",\"colorbar\":{\"outlinewidth\":0,\"ticks\":\"\"},\"colorscale\":[[0.0,\"#0d0887\"],[0.1111111111111111,\"#46039f\"],[0.2222222222222222,\"#7201a8\"],[0.3333333333333333,\"#9c179e\"],[0.4444444444444444,\"#bd3786\"],[0.5555555555555556,\"#d8576b\"],[0.6666666666666666,\"#ed7953\"],[0.7777777777777778,\"#fb9f3a\"],[0.8888888888888888,\"#fdca26\"],[1.0,\"#f0f921\"]]}],\"choropleth\":[{\"type\":\"choropleth\",\"colorbar\":{\"outlinewidth\":0,\"ticks\":\"\"}}],\"histogram2d\":[{\"type\":\"histogram2d\",\"colorbar\":{\"outlinewidth\":0,\"ticks\":\"\"},\"colorscale\":[[0.0,\"#0d0887\"],[0.1111111111111111,\"#46039f\"],[0.2222222222222222,\"#7201a8\"],[0.3333333333333333,\"#9c179e\"],[0.4444444444444444,\"#bd3786\"],[0.5555555555555556,\"#d8576b\"],[0.6666666666666666,\"#ed7953\"],[0.7777777777777778,\"#fb9f3a\"],[0.8888888888888888,\"#fdca26\"],[1.0,\"#f0f921\"]]}],\"heatmap\":[{\"type\":\"heatmap\",\"colorbar\":{\"outlinewidth\":0,\"ticks\":\"\"},\"colorscale\":[[0.0,\"#0d0887\"],[0.1111111111111111,\"#46039f\"],[0.2222222222222222,\"#7201a8\"],[0.3333333333333333,\"#9c179e\"],[0.4444444444444444,\"#bd3786\"],[0.5555555555555556,\"#d8576b\"],[0.6666666666666666,\"#ed7953\"],[0.7777777777777778,\"#fb9f3a\"],[0.8888888888888888,\"#fdca26\"],[1.0,\"#f0f921\"]]}],\"heatmapgl\":[{\"type\":\"heatmapgl\",\"colorbar\":{\"outlinewidth\":0,\"ticks\":\"\"},\"colorscale\":[[0.0,\"#0d0887\"],[0.1111111111111111,\"#46039f\"],[0.2222222222222222,\"#7201a8\"],[0.3333333333333333,\"#9c179e\"],[0.4444444444444444,\"#bd3786\"],[0.5555555555555556,\"#d8576b\"],[0.6666666666666666,\"#ed7953\"],[0.7777777777777778,\"#fb9f3a\"],[0.8888888888888888,\"#fdca26\"],[1.0,\"#f0f921\"]]}],\"contourcarpet\":[{\"type\":\"contourcarpet\",\"colorbar\":{\"outlinewidth\":0,\"ticks\":\"\"}}],\"contour\":[{\"type\":\"contour\",\"colorbar\":{\"outlinewidth\":0,\"ticks\":\"\"},\"colorscale\":[[0.0,\"#0d0887\"],[0.1111111111111111,\"#46039f\"],[0.2222222222222222,\"#7201a8\"],[0.3333333333333333,\"#9c179e\"],[0.4444444444444444,\"#bd3786\"],[0.5555555555555556,\"#d8576b\"],[0.6666666666666666,\"#ed7953\"],[0.7777777777777778,\"#fb9f3a\"],[0.8888888888888888,\"#fdca26\"],[1.0,\"#f0f921\"]]}],\"surface\":[{\"type\":\"surface\",\"colorbar\":{\"outlinewidth\":0,\"ticks\":\"\"},\"colorscale\":[[0.0,\"#0d0887\"],[0.1111111111111111,\"#46039f\"],[0.2222222222222222,\"#7201a8\"],[0.3333333333333333,\"#9c179e\"],[0.4444444444444444,\"#bd3786\"],[0.5555555555555556,\"#d8576b\"],[0.6666666666666666,\"#ed7953\"],[0.7777777777777778,\"#fb9f3a\"],[0.8888888888888888,\"#fdca26\"],[1.0,\"#f0f921\"]]}],\"mesh3d\":[{\"type\":\"mesh3d\",\"colorbar\":{\"outlinewidth\":0,\"ticks\":\"\"}}],\"scatter\":[{\"fillpattern\":{\"fillmode\":\"overlay\",\"size\":10,\"solidity\":0.2},\"type\":\"scatter\"}],\"parcoords\":[{\"type\":\"parcoords\",\"line\":{\"colorbar\":{\"outlinewidth\":0,\"ticks\":\"\"}}}],\"scatterpolargl\":[{\"type\":\"scatterpolargl\",\"marker\":{\"colorbar\":{\"outlinewidth\":0,\"ticks\":\"\"}}}],\"bar\":[{\"error_x\":{\"color\":\"#2a3f5f\"},\"error_y\":{\"color\":\"#2a3f5f\"},\"marker\":{\"line\":{\"color\":\"#E5ECF6\",\"width\":0.5},\"pattern\":{\"fillmode\":\"overlay\",\"size\":10,\"solidity\":0.2}},\"type\":\"bar\"}],\"scattergeo\":[{\"type\":\"scattergeo\",\"marker\":{\"colorbar\":{\"outlinewidth\":0,\"ticks\":\"\"}}}],\"scatterpolar\":[{\"type\":\"scatterpolar\",\"marker\":{\"colorbar\":{\"outlinewidth\":0,\"ticks\":\"\"}}}],\"histogram\":[{\"marker\":{\"pattern\":{\"fillmode\":\"overlay\",\"size\":10,\"solidity\":0.2}},\"type\":\"histogram\"}],\"scattergl\":[{\"type\":\"scattergl\",\"marker\":{\"colorbar\":{\"outlinewidth\":0,\"ticks\":\"\"}}}],\"scatter3d\":[{\"type\":\"scatter3d\",\"line\":{\"colorbar\":{\"outlinewidth\":0,\"ticks\":\"\"}},\"marker\":{\"colorbar\":{\"outlinewidth\":0,\"ticks\":\"\"}}}],\"scattermapbox\":[{\"type\":\"scattermapbox\",\"marker\":{\"colorbar\":{\"outlinewidth\":0,\"ticks\":\"\"}}}],\"scatterternary\":[{\"type\":\"scatterternary\",\"marker\":{\"colorbar\":{\"outlinewidth\":0,\"ticks\":\"\"}}}],\"scattercarpet\":[{\"type\":\"scattercarpet\",\"marker\":{\"colorbar\":{\"outlinewidth\":0,\"ticks\":\"\"}}}],\"carpet\":[{\"aaxis\":{\"endlinecolor\":\"#2a3f5f\",\"gridcolor\":\"white\",\"linecolor\":\"white\",\"minorgridcolor\":\"white\",\"startlinecolor\":\"#2a3f5f\"},\"baxis\":{\"endlinecolor\":\"#2a3f5f\",\"gridcolor\":\"white\",\"linecolor\":\"white\",\"minorgridcolor\":\"white\",\"startlinecolor\":\"#2a3f5f\"},\"type\":\"carpet\"}],\"table\":[{\"cells\":{\"fill\":{\"color\":\"#EBF0F8\"},\"line\":{\"color\":\"white\"}},\"header\":{\"fill\":{\"color\":\"#C8D4E3\"},\"line\":{\"color\":\"white\"}},\"type\":\"table\"}],\"barpolar\":[{\"marker\":{\"line\":{\"color\":\"#E5ECF6\",\"width\":0.5},\"pattern\":{\"fillmode\":\"overlay\",\"size\":10,\"solidity\":0.2}},\"type\":\"barpolar\"}],\"pie\":[{\"automargin\":true,\"type\":\"pie\"}]},\"layout\":{\"autotypenumbers\":\"strict\",\"colorway\":[\"#636efa\",\"#EF553B\",\"#00cc96\",\"#ab63fa\",\"#FFA15A\",\"#19d3f3\",\"#FF6692\",\"#B6E880\",\"#FF97FF\",\"#FECB52\"],\"font\":{\"color\":\"#2a3f5f\"},\"hovermode\":\"closest\",\"hoverlabel\":{\"align\":\"left\"},\"paper_bgcolor\":\"white\",\"plot_bgcolor\":\"#E5ECF6\",\"polar\":{\"bgcolor\":\"#E5ECF6\",\"angularaxis\":{\"gridcolor\":\"white\",\"linecolor\":\"white\",\"ticks\":\"\"},\"radialaxis\":{\"gridcolor\":\"white\",\"linecolor\":\"white\",\"ticks\":\"\"}},\"ternary\":{\"bgcolor\":\"#E5ECF6\",\"aaxis\":{\"gridcolor\":\"white\",\"linecolor\":\"white\",\"ticks\":\"\"},\"baxis\":{\"gridcolor\":\"white\",\"linecolor\":\"white\",\"ticks\":\"\"},\"caxis\":{\"gridcolor\":\"white\",\"linecolor\":\"white\",\"ticks\":\"\"}},\"coloraxis\":{\"colorbar\":{\"outlinewidth\":0,\"ticks\":\"\"}},\"colorscale\":{\"sequential\":[[0.0,\"#0d0887\"],[0.1111111111111111,\"#46039f\"],[0.2222222222222222,\"#7201a8\"],[0.3333333333333333,\"#9c179e\"],[0.4444444444444444,\"#bd3786\"],[0.5555555555555556,\"#d8576b\"],[0.6666666666666666,\"#ed7953\"],[0.7777777777777778,\"#fb9f3a\"],[0.8888888888888888,\"#fdca26\"],[1.0,\"#f0f921\"]],\"sequentialminus\":[[0.0,\"#0d0887\"],[0.1111111111111111,\"#46039f\"],[0.2222222222222222,\"#7201a8\"],[0.3333333333333333,\"#9c179e\"],[0.4444444444444444,\"#bd3786\"],[0.5555555555555556,\"#d8576b\"],[0.6666666666666666,\"#ed7953\"],[0.7777777777777778,\"#fb9f3a\"],[0.8888888888888888,\"#fdca26\"],[1.0,\"#f0f921\"]],\"diverging\":[[0,\"#8e0152\"],[0.1,\"#c51b7d\"],[0.2,\"#de77ae\"],[0.3,\"#f1b6da\"],[0.4,\"#fde0ef\"],[0.5,\"#f7f7f7\"],[0.6,\"#e6f5d0\"],[0.7,\"#b8e186\"],[0.8,\"#7fbc41\"],[0.9,\"#4d9221\"],[1,\"#276419\"]]},\"xaxis\":{\"gridcolor\":\"white\",\"linecolor\":\"white\",\"ticks\":\"\",\"title\":{\"standoff\":15},\"zerolinecolor\":\"white\",\"automargin\":true,\"zerolinewidth\":2},\"yaxis\":{\"gridcolor\":\"white\",\"linecolor\":\"white\",\"ticks\":\"\",\"title\":{\"standoff\":15},\"zerolinecolor\":\"white\",\"automargin\":true,\"zerolinewidth\":2},\"scene\":{\"xaxis\":{\"backgroundcolor\":\"#E5ECF6\",\"gridcolor\":\"white\",\"linecolor\":\"white\",\"showbackground\":true,\"ticks\":\"\",\"zerolinecolor\":\"white\",\"gridwidth\":2},\"yaxis\":{\"backgroundcolor\":\"#E5ECF6\",\"gridcolor\":\"white\",\"linecolor\":\"white\",\"showbackground\":true,\"ticks\":\"\",\"zerolinecolor\":\"white\",\"gridwidth\":2},\"zaxis\":{\"backgroundcolor\":\"#E5ECF6\",\"gridcolor\":\"white\",\"linecolor\":\"white\",\"showbackground\":true,\"ticks\":\"\",\"zerolinecolor\":\"white\",\"gridwidth\":2}},\"shapedefaults\":{\"line\":{\"color\":\"#2a3f5f\"}},\"annotationdefaults\":{\"arrowcolor\":\"#2a3f5f\",\"arrowhead\":0,\"arrowwidth\":1},\"geo\":{\"bgcolor\":\"white\",\"landcolor\":\"#E5ECF6\",\"subunitcolor\":\"white\",\"showland\":true,\"showlakes\":true,\"lakecolor\":\"white\"},\"title\":{\"x\":0.05},\"mapbox\":{\"style\":\"light\"}}},\"xaxis\":{\"anchor\":\"y\",\"domain\":[0.0,1.0],\"title\":{\"text\":\"Visit\"}},\"yaxis\":{\"anchor\":\"x\",\"domain\":[0.0,1.0],\"title\":{\"text\":\"Count\"}},\"legend\":{\"tracegroupgap\":0},\"margin\":{\"t\":60},\"barmode\":\"relative\"},                        {\"responsive\": true}                    ).then(function(){\n",
       "                            \n",
       "var gd = document.getElementById('8a1f521f-cb6e-4f81-8ecb-c46a9395b040');\n",
       "var x = new MutationObserver(function (mutations, observer) {{\n",
       "        var display = window.getComputedStyle(gd).display;\n",
       "        if (!display || display === 'none') {{\n",
       "            console.log([gd, 'removed!']);\n",
       "            Plotly.purge(gd);\n",
       "            observer.disconnect();\n",
       "        }}\n",
       "}});\n",
       "\n",
       "// Listen for the removal of the full notebook cells\n",
       "var notebookContainer = gd.closest('#notebook-container');\n",
       "if (notebookContainer) {{\n",
       "    x.observe(notebookContainer, {childList: true});\n",
       "}}\n",
       "\n",
       "// Listen for the clearing of the current output cell\n",
       "var outputEl = gd.closest('.output');\n",
       "if (outputEl) {{\n",
       "    x.observe(outputEl, {childList: true});\n",
       "}}\n",
       "\n",
       "                        })                };                });            </script>        </div>"
      ]
     },
     "metadata": {},
     "output_type": "display_data"
    }
   ],
   "source": [
    "defog_visit_counts = defog_metadata_df.Visit.value_counts()\n",
    "\n",
    "fig = px.bar(x=defog_visit_counts.index, y=defog_visit_counts.values, color_discrete_sequence=['darkslateblue'])\n",
    "fig.update_layout(xaxis_title=\"Visit\", yaxis_title=\"Count\")\n",
    "fig.show()"
   ]
  },
  {
   "cell_type": "markdown",
   "metadata": {},
   "source": [
    "<p style=\"font-family: consolas; font-size: 16px;\">❔ How the bar chart looks like for categorical field <code>Medication</code>.</p>"
   ]
  },
  {
   "cell_type": "code",
   "execution_count": 47,
   "metadata": {
    "execution": {
     "iopub.execute_input": "2023-07-14T02:26:32.124641Z",
     "iopub.status.busy": "2023-07-14T02:26:32.123279Z",
     "iopub.status.idle": "2023-07-14T02:26:32.202216Z",
     "shell.execute_reply": "2023-07-14T02:26:32.200695Z",
     "shell.execute_reply.started": "2023-07-14T02:26:32.124585Z"
    }
   },
   "outputs": [
    {
     "data": {
      "text/html": [
       "<div>                            <div id=\"bcea6a34-6d60-417c-9287-43c86bac9790\" class=\"plotly-graph-div\" style=\"height:525px; width:100%;\"></div>            <script type=\"text/javascript\">                require([\"plotly\"], function(Plotly) {                    window.PLOTLYENV=window.PLOTLYENV || {};                                    if (document.getElementById(\"bcea6a34-6d60-417c-9287-43c86bac9790\")) {                    Plotly.newPlot(                        \"bcea6a34-6d60-417c-9287-43c86bac9790\",                        [{\"alignmentgroup\":\"True\",\"hovertemplate\":\"x=%{x}<br>y=%{y}<extra></extra>\",\"legendgroup\":\"\",\"marker\":{\"color\":\"darkslateblue\",\"pattern\":{\"shape\":\"\"}},\"name\":\"\",\"offsetgroup\":\"\",\"orientation\":\"v\",\"showlegend\":false,\"textposition\":\"auto\",\"x\":[\"on\",\"off\"],\"xaxis\":\"x\",\"y\":[69,68],\"yaxis\":\"y\",\"type\":\"bar\"}],                        {\"template\":{\"data\":{\"histogram2dcontour\":[{\"type\":\"histogram2dcontour\",\"colorbar\":{\"outlinewidth\":0,\"ticks\":\"\"},\"colorscale\":[[0.0,\"#0d0887\"],[0.1111111111111111,\"#46039f\"],[0.2222222222222222,\"#7201a8\"],[0.3333333333333333,\"#9c179e\"],[0.4444444444444444,\"#bd3786\"],[0.5555555555555556,\"#d8576b\"],[0.6666666666666666,\"#ed7953\"],[0.7777777777777778,\"#fb9f3a\"],[0.8888888888888888,\"#fdca26\"],[1.0,\"#f0f921\"]]}],\"choropleth\":[{\"type\":\"choropleth\",\"colorbar\":{\"outlinewidth\":0,\"ticks\":\"\"}}],\"histogram2d\":[{\"type\":\"histogram2d\",\"colorbar\":{\"outlinewidth\":0,\"ticks\":\"\"},\"colorscale\":[[0.0,\"#0d0887\"],[0.1111111111111111,\"#46039f\"],[0.2222222222222222,\"#7201a8\"],[0.3333333333333333,\"#9c179e\"],[0.4444444444444444,\"#bd3786\"],[0.5555555555555556,\"#d8576b\"],[0.6666666666666666,\"#ed7953\"],[0.7777777777777778,\"#fb9f3a\"],[0.8888888888888888,\"#fdca26\"],[1.0,\"#f0f921\"]]}],\"heatmap\":[{\"type\":\"heatmap\",\"colorbar\":{\"outlinewidth\":0,\"ticks\":\"\"},\"colorscale\":[[0.0,\"#0d0887\"],[0.1111111111111111,\"#46039f\"],[0.2222222222222222,\"#7201a8\"],[0.3333333333333333,\"#9c179e\"],[0.4444444444444444,\"#bd3786\"],[0.5555555555555556,\"#d8576b\"],[0.6666666666666666,\"#ed7953\"],[0.7777777777777778,\"#fb9f3a\"],[0.8888888888888888,\"#fdca26\"],[1.0,\"#f0f921\"]]}],\"heatmapgl\":[{\"type\":\"heatmapgl\",\"colorbar\":{\"outlinewidth\":0,\"ticks\":\"\"},\"colorscale\":[[0.0,\"#0d0887\"],[0.1111111111111111,\"#46039f\"],[0.2222222222222222,\"#7201a8\"],[0.3333333333333333,\"#9c179e\"],[0.4444444444444444,\"#bd3786\"],[0.5555555555555556,\"#d8576b\"],[0.6666666666666666,\"#ed7953\"],[0.7777777777777778,\"#fb9f3a\"],[0.8888888888888888,\"#fdca26\"],[1.0,\"#f0f921\"]]}],\"contourcarpet\":[{\"type\":\"contourcarpet\",\"colorbar\":{\"outlinewidth\":0,\"ticks\":\"\"}}],\"contour\":[{\"type\":\"contour\",\"colorbar\":{\"outlinewidth\":0,\"ticks\":\"\"},\"colorscale\":[[0.0,\"#0d0887\"],[0.1111111111111111,\"#46039f\"],[0.2222222222222222,\"#7201a8\"],[0.3333333333333333,\"#9c179e\"],[0.4444444444444444,\"#bd3786\"],[0.5555555555555556,\"#d8576b\"],[0.6666666666666666,\"#ed7953\"],[0.7777777777777778,\"#fb9f3a\"],[0.8888888888888888,\"#fdca26\"],[1.0,\"#f0f921\"]]}],\"surface\":[{\"type\":\"surface\",\"colorbar\":{\"outlinewidth\":0,\"ticks\":\"\"},\"colorscale\":[[0.0,\"#0d0887\"],[0.1111111111111111,\"#46039f\"],[0.2222222222222222,\"#7201a8\"],[0.3333333333333333,\"#9c179e\"],[0.4444444444444444,\"#bd3786\"],[0.5555555555555556,\"#d8576b\"],[0.6666666666666666,\"#ed7953\"],[0.7777777777777778,\"#fb9f3a\"],[0.8888888888888888,\"#fdca26\"],[1.0,\"#f0f921\"]]}],\"mesh3d\":[{\"type\":\"mesh3d\",\"colorbar\":{\"outlinewidth\":0,\"ticks\":\"\"}}],\"scatter\":[{\"fillpattern\":{\"fillmode\":\"overlay\",\"size\":10,\"solidity\":0.2},\"type\":\"scatter\"}],\"parcoords\":[{\"type\":\"parcoords\",\"line\":{\"colorbar\":{\"outlinewidth\":0,\"ticks\":\"\"}}}],\"scatterpolargl\":[{\"type\":\"scatterpolargl\",\"marker\":{\"colorbar\":{\"outlinewidth\":0,\"ticks\":\"\"}}}],\"bar\":[{\"error_x\":{\"color\":\"#2a3f5f\"},\"error_y\":{\"color\":\"#2a3f5f\"},\"marker\":{\"line\":{\"color\":\"#E5ECF6\",\"width\":0.5},\"pattern\":{\"fillmode\":\"overlay\",\"size\":10,\"solidity\":0.2}},\"type\":\"bar\"}],\"scattergeo\":[{\"type\":\"scattergeo\",\"marker\":{\"colorbar\":{\"outlinewidth\":0,\"ticks\":\"\"}}}],\"scatterpolar\":[{\"type\":\"scatterpolar\",\"marker\":{\"colorbar\":{\"outlinewidth\":0,\"ticks\":\"\"}}}],\"histogram\":[{\"marker\":{\"pattern\":{\"fillmode\":\"overlay\",\"size\":10,\"solidity\":0.2}},\"type\":\"histogram\"}],\"scattergl\":[{\"type\":\"scattergl\",\"marker\":{\"colorbar\":{\"outlinewidth\":0,\"ticks\":\"\"}}}],\"scatter3d\":[{\"type\":\"scatter3d\",\"line\":{\"colorbar\":{\"outlinewidth\":0,\"ticks\":\"\"}},\"marker\":{\"colorbar\":{\"outlinewidth\":0,\"ticks\":\"\"}}}],\"scattermapbox\":[{\"type\":\"scattermapbox\",\"marker\":{\"colorbar\":{\"outlinewidth\":0,\"ticks\":\"\"}}}],\"scatterternary\":[{\"type\":\"scatterternary\",\"marker\":{\"colorbar\":{\"outlinewidth\":0,\"ticks\":\"\"}}}],\"scattercarpet\":[{\"type\":\"scattercarpet\",\"marker\":{\"colorbar\":{\"outlinewidth\":0,\"ticks\":\"\"}}}],\"carpet\":[{\"aaxis\":{\"endlinecolor\":\"#2a3f5f\",\"gridcolor\":\"white\",\"linecolor\":\"white\",\"minorgridcolor\":\"white\",\"startlinecolor\":\"#2a3f5f\"},\"baxis\":{\"endlinecolor\":\"#2a3f5f\",\"gridcolor\":\"white\",\"linecolor\":\"white\",\"minorgridcolor\":\"white\",\"startlinecolor\":\"#2a3f5f\"},\"type\":\"carpet\"}],\"table\":[{\"cells\":{\"fill\":{\"color\":\"#EBF0F8\"},\"line\":{\"color\":\"white\"}},\"header\":{\"fill\":{\"color\":\"#C8D4E3\"},\"line\":{\"color\":\"white\"}},\"type\":\"table\"}],\"barpolar\":[{\"marker\":{\"line\":{\"color\":\"#E5ECF6\",\"width\":0.5},\"pattern\":{\"fillmode\":\"overlay\",\"size\":10,\"solidity\":0.2}},\"type\":\"barpolar\"}],\"pie\":[{\"automargin\":true,\"type\":\"pie\"}]},\"layout\":{\"autotypenumbers\":\"strict\",\"colorway\":[\"#636efa\",\"#EF553B\",\"#00cc96\",\"#ab63fa\",\"#FFA15A\",\"#19d3f3\",\"#FF6692\",\"#B6E880\",\"#FF97FF\",\"#FECB52\"],\"font\":{\"color\":\"#2a3f5f\"},\"hovermode\":\"closest\",\"hoverlabel\":{\"align\":\"left\"},\"paper_bgcolor\":\"white\",\"plot_bgcolor\":\"#E5ECF6\",\"polar\":{\"bgcolor\":\"#E5ECF6\",\"angularaxis\":{\"gridcolor\":\"white\",\"linecolor\":\"white\",\"ticks\":\"\"},\"radialaxis\":{\"gridcolor\":\"white\",\"linecolor\":\"white\",\"ticks\":\"\"}},\"ternary\":{\"bgcolor\":\"#E5ECF6\",\"aaxis\":{\"gridcolor\":\"white\",\"linecolor\":\"white\",\"ticks\":\"\"},\"baxis\":{\"gridcolor\":\"white\",\"linecolor\":\"white\",\"ticks\":\"\"},\"caxis\":{\"gridcolor\":\"white\",\"linecolor\":\"white\",\"ticks\":\"\"}},\"coloraxis\":{\"colorbar\":{\"outlinewidth\":0,\"ticks\":\"\"}},\"colorscale\":{\"sequential\":[[0.0,\"#0d0887\"],[0.1111111111111111,\"#46039f\"],[0.2222222222222222,\"#7201a8\"],[0.3333333333333333,\"#9c179e\"],[0.4444444444444444,\"#bd3786\"],[0.5555555555555556,\"#d8576b\"],[0.6666666666666666,\"#ed7953\"],[0.7777777777777778,\"#fb9f3a\"],[0.8888888888888888,\"#fdca26\"],[1.0,\"#f0f921\"]],\"sequentialminus\":[[0.0,\"#0d0887\"],[0.1111111111111111,\"#46039f\"],[0.2222222222222222,\"#7201a8\"],[0.3333333333333333,\"#9c179e\"],[0.4444444444444444,\"#bd3786\"],[0.5555555555555556,\"#d8576b\"],[0.6666666666666666,\"#ed7953\"],[0.7777777777777778,\"#fb9f3a\"],[0.8888888888888888,\"#fdca26\"],[1.0,\"#f0f921\"]],\"diverging\":[[0,\"#8e0152\"],[0.1,\"#c51b7d\"],[0.2,\"#de77ae\"],[0.3,\"#f1b6da\"],[0.4,\"#fde0ef\"],[0.5,\"#f7f7f7\"],[0.6,\"#e6f5d0\"],[0.7,\"#b8e186\"],[0.8,\"#7fbc41\"],[0.9,\"#4d9221\"],[1,\"#276419\"]]},\"xaxis\":{\"gridcolor\":\"white\",\"linecolor\":\"white\",\"ticks\":\"\",\"title\":{\"standoff\":15},\"zerolinecolor\":\"white\",\"automargin\":true,\"zerolinewidth\":2},\"yaxis\":{\"gridcolor\":\"white\",\"linecolor\":\"white\",\"ticks\":\"\",\"title\":{\"standoff\":15},\"zerolinecolor\":\"white\",\"automargin\":true,\"zerolinewidth\":2},\"scene\":{\"xaxis\":{\"backgroundcolor\":\"#E5ECF6\",\"gridcolor\":\"white\",\"linecolor\":\"white\",\"showbackground\":true,\"ticks\":\"\",\"zerolinecolor\":\"white\",\"gridwidth\":2},\"yaxis\":{\"backgroundcolor\":\"#E5ECF6\",\"gridcolor\":\"white\",\"linecolor\":\"white\",\"showbackground\":true,\"ticks\":\"\",\"zerolinecolor\":\"white\",\"gridwidth\":2},\"zaxis\":{\"backgroundcolor\":\"#E5ECF6\",\"gridcolor\":\"white\",\"linecolor\":\"white\",\"showbackground\":true,\"ticks\":\"\",\"zerolinecolor\":\"white\",\"gridwidth\":2}},\"shapedefaults\":{\"line\":{\"color\":\"#2a3f5f\"}},\"annotationdefaults\":{\"arrowcolor\":\"#2a3f5f\",\"arrowhead\":0,\"arrowwidth\":1},\"geo\":{\"bgcolor\":\"white\",\"landcolor\":\"#E5ECF6\",\"subunitcolor\":\"white\",\"showland\":true,\"showlakes\":true,\"lakecolor\":\"white\"},\"title\":{\"x\":0.05},\"mapbox\":{\"style\":\"light\"}}},\"xaxis\":{\"anchor\":\"y\",\"domain\":[0.0,1.0],\"title\":{\"text\":\"Medication\"}},\"yaxis\":{\"anchor\":\"x\",\"domain\":[0.0,1.0],\"title\":{\"text\":\"Count\"}},\"legend\":{\"tracegroupgap\":0},\"margin\":{\"t\":60},\"barmode\":\"relative\"},                        {\"responsive\": true}                    ).then(function(){\n",
       "                            \n",
       "var gd = document.getElementById('bcea6a34-6d60-417c-9287-43c86bac9790');\n",
       "var x = new MutationObserver(function (mutations, observer) {{\n",
       "        var display = window.getComputedStyle(gd).display;\n",
       "        if (!display || display === 'none') {{\n",
       "            console.log([gd, 'removed!']);\n",
       "            Plotly.purge(gd);\n",
       "            observer.disconnect();\n",
       "        }}\n",
       "}});\n",
       "\n",
       "// Listen for the removal of the full notebook cells\n",
       "var notebookContainer = gd.closest('#notebook-container');\n",
       "if (notebookContainer) {{\n",
       "    x.observe(notebookContainer, {childList: true});\n",
       "}}\n",
       "\n",
       "// Listen for the clearing of the current output cell\n",
       "var outputEl = gd.closest('.output');\n",
       "if (outputEl) {{\n",
       "    x.observe(outputEl, {childList: true});\n",
       "}}\n",
       "\n",
       "                        })                };                });            </script>        </div>"
      ]
     },
     "metadata": {},
     "output_type": "display_data"
    }
   ],
   "source": [
    "defog_medication_counts = defog_metadata_df.Medication.value_counts()\n",
    "\n",
    "fig = px.bar(x=defog_medication_counts.index, y=defog_medication_counts.values, color_discrete_sequence=['darkslateblue'])\n",
    "fig.update_layout(xaxis_title=\"Medication\", yaxis_title=\"Count\")\n",
    "fig.show()"
   ]
  },
  {
   "cell_type": "markdown",
   "metadata": {},
   "source": [
    "<a id=\"2.3\"></a>\n",
    "## <div style=\"box-shadow: rgba(0, 0, 0, 0.18) 0px 2px 4px inset; padding:20px; font-size:24px; font-family: consolas; text-align:center; display:fill; border-radius:15px; color:rgb(67, 66, 66)\"> <b> 2.3 Overview <i>daily_metadata.csv</i> file</b></div>"
   ]
  },
  {
   "cell_type": "markdown",
   "metadata": {},
   "source": [
    "<p style=\"font-family: consolas; font-size: 16px;\">⚪ <b>daily_metadata.csv</b> Each series in the <code>daily</code> dataset is identified by the <code>Subject</code> id. This file also contains the time of day the recording begin.</p>\n"
   ]
  },
  {
   "cell_type": "markdown",
   "metadata": {},
   "source": [
    "<p style=\"font-family: consolas; font-size: 16px;\">❔ How the data looks like.</p>"
   ]
  },
  {
   "cell_type": "code",
   "execution_count": 48,
   "metadata": {
    "execution": {
     "iopub.execute_input": "2023-07-14T02:26:32.204001Z",
     "iopub.status.busy": "2023-07-14T02:26:32.203646Z",
     "iopub.status.idle": "2023-07-14T02:26:32.218832Z",
     "shell.execute_reply": "2023-07-14T02:26:32.217184Z",
     "shell.execute_reply.started": "2023-07-14T02:26:32.203967Z"
    }
   },
   "outputs": [],
   "source": [
    "daily_metadata_df = pd.read_csv(\"/kaggle/input/tlvmc-parkinsons-freezing-gait-prediction/daily_metadata.csv\")"
   ]
  },
  {
   "cell_type": "code",
   "execution_count": 49,
   "metadata": {
    "execution": {
     "iopub.execute_input": "2023-07-14T02:26:32.221911Z",
     "iopub.status.busy": "2023-07-14T02:26:32.220456Z",
     "iopub.status.idle": "2023-07-14T02:26:32.237488Z",
     "shell.execute_reply": "2023-07-14T02:26:32.236194Z",
     "shell.execute_reply.started": "2023-07-14T02:26:32.221852Z"
    }
   },
   "outputs": [
    {
     "data": {
      "text/html": [
       "<div>\n",
       "<style scoped>\n",
       "    .dataframe tbody tr th:only-of-type {\n",
       "        vertical-align: middle;\n",
       "    }\n",
       "\n",
       "    .dataframe tbody tr th {\n",
       "        vertical-align: top;\n",
       "    }\n",
       "\n",
       "    .dataframe thead th {\n",
       "        text-align: right;\n",
       "    }\n",
       "</style>\n",
       "<table border=\"1\" class=\"dataframe\">\n",
       "  <thead>\n",
       "    <tr style=\"text-align: right;\">\n",
       "      <th></th>\n",
       "      <th>Id</th>\n",
       "      <th>Subject</th>\n",
       "      <th>Visit</th>\n",
       "      <th>Beginning of recording [00:00-23:59]</th>\n",
       "    </tr>\n",
       "  </thead>\n",
       "  <tbody>\n",
       "    <tr>\n",
       "      <th>0</th>\n",
       "      <td>00c4c9313d</td>\n",
       "      <td>fba3a3</td>\n",
       "      <td>1</td>\n",
       "      <td>10:19</td>\n",
       "    </tr>\n",
       "    <tr>\n",
       "      <th>1</th>\n",
       "      <td>07a96f89ec</td>\n",
       "      <td>7da72f</td>\n",
       "      <td>1</td>\n",
       "      <td>07:30</td>\n",
       "    </tr>\n",
       "    <tr>\n",
       "      <th>2</th>\n",
       "      <td>0d1bc672a8</td>\n",
       "      <td>056372</td>\n",
       "      <td>2</td>\n",
       "      <td>08:30</td>\n",
       "    </tr>\n",
       "    <tr>\n",
       "      <th>3</th>\n",
       "      <td>0e333c9833</td>\n",
       "      <td>b4bd22</td>\n",
       "      <td>1</td>\n",
       "      <td>11:30</td>\n",
       "    </tr>\n",
       "    <tr>\n",
       "      <th>4</th>\n",
       "      <td>164adaed7b</td>\n",
       "      <td>9f72eb</td>\n",
       "      <td>1</td>\n",
       "      <td>13:00</td>\n",
       "    </tr>\n",
       "  </tbody>\n",
       "</table>\n",
       "</div>"
      ],
      "text/plain": [
       "           Id Subject  Visit Beginning of recording [00:00-23:59]\n",
       "0  00c4c9313d  fba3a3      1                                10:19\n",
       "1  07a96f89ec  7da72f      1                                07:30\n",
       "2  0d1bc672a8  056372      2                                08:30\n",
       "3  0e333c9833  b4bd22      1                                11:30\n",
       "4  164adaed7b  9f72eb      1                                13:00"
      ]
     },
     "execution_count": 49,
     "metadata": {},
     "output_type": "execute_result"
    }
   ],
   "source": [
    "daily_metadata_df.head()"
   ]
  },
  {
   "cell_type": "markdown",
   "metadata": {},
   "source": [
    "<p style=\"font-family: consolas; font-size: 16px;\">❔ Is there any missing data.</p>"
   ]
  },
  {
   "cell_type": "code",
   "execution_count": 50,
   "metadata": {
    "execution": {
     "iopub.execute_input": "2023-07-14T02:26:32.239883Z",
     "iopub.status.busy": "2023-07-14T02:26:32.239440Z",
     "iopub.status.idle": "2023-07-14T02:26:32.255798Z",
     "shell.execute_reply": "2023-07-14T02:26:32.254569Z",
     "shell.execute_reply.started": "2023-07-14T02:26:32.239831Z"
    }
   },
   "outputs": [
    {
     "data": {
      "text/plain": [
       "Id                                      0\n",
       "Subject                                 0\n",
       "Visit                                   0\n",
       "Beginning of recording [00:00-23:59]    0\n",
       "dtype: int64"
      ]
     },
     "execution_count": 50,
     "metadata": {},
     "output_type": "execute_result"
    }
   ],
   "source": [
    "daily_metadata_df.isnull().sum()"
   ]
  },
  {
   "cell_type": "markdown",
   "metadata": {},
   "source": [
    "<p style=\"font-family: consolas; font-size: 16px;\">❔ What is length of the dataframe.</p>"
   ]
  },
  {
   "cell_type": "code",
   "execution_count": 51,
   "metadata": {
    "execution": {
     "iopub.execute_input": "2023-07-14T02:26:32.258122Z",
     "iopub.status.busy": "2023-07-14T02:26:32.257394Z",
     "iopub.status.idle": "2023-07-14T02:26:32.267326Z",
     "shell.execute_reply": "2023-07-14T02:26:32.265838Z",
     "shell.execute_reply.started": "2023-07-14T02:26:32.258080Z"
    }
   },
   "outputs": [
    {
     "name": "stdout",
     "output_type": "stream",
     "text": [
      "Length of the daily_metadata.csv file is: \u001b[94m65\u001b[0m\n"
     ]
    }
   ],
   "source": [
    "temp = len(daily_metadata_df)\n",
    "print(\n",
    "    f\"Length of the daily_metadata.csv file is: {color.BLUE}{temp}{color.END}\",\n",
    ")"
   ]
  },
  {
   "cell_type": "code",
   "execution_count": 52,
   "metadata": {
    "execution": {
     "iopub.execute_input": "2023-07-14T02:26:32.272140Z",
     "iopub.status.busy": "2023-07-14T02:26:32.271711Z",
     "iopub.status.idle": "2023-07-14T02:26:32.283270Z",
     "shell.execute_reply": "2023-07-14T02:26:32.281575Z",
     "shell.execute_reply.started": "2023-07-14T02:26:32.272103Z"
    }
   },
   "outputs": [
    {
     "name": "stdout",
     "output_type": "stream",
     "text": [
      "Number of unique subjects: \u001b[94m65\u001b[0m\n"
     ]
    }
   ],
   "source": [
    "temp = len(daily_metadata_df.Subject.unique())\n",
    "print(\n",
    "    f\"Number of unique subjects: {color.BLUE}{temp}{color.END}\",\n",
    ")"
   ]
  },
  {
   "cell_type": "markdown",
   "metadata": {},
   "source": [
    "<p style=\"font-family: consolas; font-size: 16px;\">❔ How the bar chart looks like for categorical field <code>Visit</code>.</p>"
   ]
  },
  {
   "cell_type": "code",
   "execution_count": 53,
   "metadata": {
    "execution": {
     "iopub.execute_input": "2023-07-14T02:26:32.285062Z",
     "iopub.status.busy": "2023-07-14T02:26:32.284577Z",
     "iopub.status.idle": "2023-07-14T02:26:32.364860Z",
     "shell.execute_reply": "2023-07-14T02:26:32.363372Z",
     "shell.execute_reply.started": "2023-07-14T02:26:32.285014Z"
    }
   },
   "outputs": [
    {
     "data": {
      "text/html": [
       "<div>                            <div id=\"a73c9ac7-f5d6-4025-9ff4-0481015508eb\" class=\"plotly-graph-div\" style=\"height:525px; width:100%;\"></div>            <script type=\"text/javascript\">                require([\"plotly\"], function(Plotly) {                    window.PLOTLYENV=window.PLOTLYENV || {};                                    if (document.getElementById(\"a73c9ac7-f5d6-4025-9ff4-0481015508eb\")) {                    Plotly.newPlot(                        \"a73c9ac7-f5d6-4025-9ff4-0481015508eb\",                        [{\"alignmentgroup\":\"True\",\"hovertemplate\":\"x=%{x}<br>y=%{y}<extra></extra>\",\"legendgroup\":\"\",\"marker\":{\"color\":\"cornflowerblue\",\"pattern\":{\"shape\":\"\"}},\"name\":\"\",\"offsetgroup\":\"\",\"orientation\":\"v\",\"showlegend\":false,\"textposition\":\"auto\",\"x\":[1,2],\"xaxis\":\"x\",\"y\":[59,6],\"yaxis\":\"y\",\"type\":\"bar\"}],                        {\"template\":{\"data\":{\"histogram2dcontour\":[{\"type\":\"histogram2dcontour\",\"colorbar\":{\"outlinewidth\":0,\"ticks\":\"\"},\"colorscale\":[[0.0,\"#0d0887\"],[0.1111111111111111,\"#46039f\"],[0.2222222222222222,\"#7201a8\"],[0.3333333333333333,\"#9c179e\"],[0.4444444444444444,\"#bd3786\"],[0.5555555555555556,\"#d8576b\"],[0.6666666666666666,\"#ed7953\"],[0.7777777777777778,\"#fb9f3a\"],[0.8888888888888888,\"#fdca26\"],[1.0,\"#f0f921\"]]}],\"choropleth\":[{\"type\":\"choropleth\",\"colorbar\":{\"outlinewidth\":0,\"ticks\":\"\"}}],\"histogram2d\":[{\"type\":\"histogram2d\",\"colorbar\":{\"outlinewidth\":0,\"ticks\":\"\"},\"colorscale\":[[0.0,\"#0d0887\"],[0.1111111111111111,\"#46039f\"],[0.2222222222222222,\"#7201a8\"],[0.3333333333333333,\"#9c179e\"],[0.4444444444444444,\"#bd3786\"],[0.5555555555555556,\"#d8576b\"],[0.6666666666666666,\"#ed7953\"],[0.7777777777777778,\"#fb9f3a\"],[0.8888888888888888,\"#fdca26\"],[1.0,\"#f0f921\"]]}],\"heatmap\":[{\"type\":\"heatmap\",\"colorbar\":{\"outlinewidth\":0,\"ticks\":\"\"},\"colorscale\":[[0.0,\"#0d0887\"],[0.1111111111111111,\"#46039f\"],[0.2222222222222222,\"#7201a8\"],[0.3333333333333333,\"#9c179e\"],[0.4444444444444444,\"#bd3786\"],[0.5555555555555556,\"#d8576b\"],[0.6666666666666666,\"#ed7953\"],[0.7777777777777778,\"#fb9f3a\"],[0.8888888888888888,\"#fdca26\"],[1.0,\"#f0f921\"]]}],\"heatmapgl\":[{\"type\":\"heatmapgl\",\"colorbar\":{\"outlinewidth\":0,\"ticks\":\"\"},\"colorscale\":[[0.0,\"#0d0887\"],[0.1111111111111111,\"#46039f\"],[0.2222222222222222,\"#7201a8\"],[0.3333333333333333,\"#9c179e\"],[0.4444444444444444,\"#bd3786\"],[0.5555555555555556,\"#d8576b\"],[0.6666666666666666,\"#ed7953\"],[0.7777777777777778,\"#fb9f3a\"],[0.8888888888888888,\"#fdca26\"],[1.0,\"#f0f921\"]]}],\"contourcarpet\":[{\"type\":\"contourcarpet\",\"colorbar\":{\"outlinewidth\":0,\"ticks\":\"\"}}],\"contour\":[{\"type\":\"contour\",\"colorbar\":{\"outlinewidth\":0,\"ticks\":\"\"},\"colorscale\":[[0.0,\"#0d0887\"],[0.1111111111111111,\"#46039f\"],[0.2222222222222222,\"#7201a8\"],[0.3333333333333333,\"#9c179e\"],[0.4444444444444444,\"#bd3786\"],[0.5555555555555556,\"#d8576b\"],[0.6666666666666666,\"#ed7953\"],[0.7777777777777778,\"#fb9f3a\"],[0.8888888888888888,\"#fdca26\"],[1.0,\"#f0f921\"]]}],\"surface\":[{\"type\":\"surface\",\"colorbar\":{\"outlinewidth\":0,\"ticks\":\"\"},\"colorscale\":[[0.0,\"#0d0887\"],[0.1111111111111111,\"#46039f\"],[0.2222222222222222,\"#7201a8\"],[0.3333333333333333,\"#9c179e\"],[0.4444444444444444,\"#bd3786\"],[0.5555555555555556,\"#d8576b\"],[0.6666666666666666,\"#ed7953\"],[0.7777777777777778,\"#fb9f3a\"],[0.8888888888888888,\"#fdca26\"],[1.0,\"#f0f921\"]]}],\"mesh3d\":[{\"type\":\"mesh3d\",\"colorbar\":{\"outlinewidth\":0,\"ticks\":\"\"}}],\"scatter\":[{\"fillpattern\":{\"fillmode\":\"overlay\",\"size\":10,\"solidity\":0.2},\"type\":\"scatter\"}],\"parcoords\":[{\"type\":\"parcoords\",\"line\":{\"colorbar\":{\"outlinewidth\":0,\"ticks\":\"\"}}}],\"scatterpolargl\":[{\"type\":\"scatterpolargl\",\"marker\":{\"colorbar\":{\"outlinewidth\":0,\"ticks\":\"\"}}}],\"bar\":[{\"error_x\":{\"color\":\"#2a3f5f\"},\"error_y\":{\"color\":\"#2a3f5f\"},\"marker\":{\"line\":{\"color\":\"#E5ECF6\",\"width\":0.5},\"pattern\":{\"fillmode\":\"overlay\",\"size\":10,\"solidity\":0.2}},\"type\":\"bar\"}],\"scattergeo\":[{\"type\":\"scattergeo\",\"marker\":{\"colorbar\":{\"outlinewidth\":0,\"ticks\":\"\"}}}],\"scatterpolar\":[{\"type\":\"scatterpolar\",\"marker\":{\"colorbar\":{\"outlinewidth\":0,\"ticks\":\"\"}}}],\"histogram\":[{\"marker\":{\"pattern\":{\"fillmode\":\"overlay\",\"size\":10,\"solidity\":0.2}},\"type\":\"histogram\"}],\"scattergl\":[{\"type\":\"scattergl\",\"marker\":{\"colorbar\":{\"outlinewidth\":0,\"ticks\":\"\"}}}],\"scatter3d\":[{\"type\":\"scatter3d\",\"line\":{\"colorbar\":{\"outlinewidth\":0,\"ticks\":\"\"}},\"marker\":{\"colorbar\":{\"outlinewidth\":0,\"ticks\":\"\"}}}],\"scattermapbox\":[{\"type\":\"scattermapbox\",\"marker\":{\"colorbar\":{\"outlinewidth\":0,\"ticks\":\"\"}}}],\"scatterternary\":[{\"type\":\"scatterternary\",\"marker\":{\"colorbar\":{\"outlinewidth\":0,\"ticks\":\"\"}}}],\"scattercarpet\":[{\"type\":\"scattercarpet\",\"marker\":{\"colorbar\":{\"outlinewidth\":0,\"ticks\":\"\"}}}],\"carpet\":[{\"aaxis\":{\"endlinecolor\":\"#2a3f5f\",\"gridcolor\":\"white\",\"linecolor\":\"white\",\"minorgridcolor\":\"white\",\"startlinecolor\":\"#2a3f5f\"},\"baxis\":{\"endlinecolor\":\"#2a3f5f\",\"gridcolor\":\"white\",\"linecolor\":\"white\",\"minorgridcolor\":\"white\",\"startlinecolor\":\"#2a3f5f\"},\"type\":\"carpet\"}],\"table\":[{\"cells\":{\"fill\":{\"color\":\"#EBF0F8\"},\"line\":{\"color\":\"white\"}},\"header\":{\"fill\":{\"color\":\"#C8D4E3\"},\"line\":{\"color\":\"white\"}},\"type\":\"table\"}],\"barpolar\":[{\"marker\":{\"line\":{\"color\":\"#E5ECF6\",\"width\":0.5},\"pattern\":{\"fillmode\":\"overlay\",\"size\":10,\"solidity\":0.2}},\"type\":\"barpolar\"}],\"pie\":[{\"automargin\":true,\"type\":\"pie\"}]},\"layout\":{\"autotypenumbers\":\"strict\",\"colorway\":[\"#636efa\",\"#EF553B\",\"#00cc96\",\"#ab63fa\",\"#FFA15A\",\"#19d3f3\",\"#FF6692\",\"#B6E880\",\"#FF97FF\",\"#FECB52\"],\"font\":{\"color\":\"#2a3f5f\"},\"hovermode\":\"closest\",\"hoverlabel\":{\"align\":\"left\"},\"paper_bgcolor\":\"white\",\"plot_bgcolor\":\"#E5ECF6\",\"polar\":{\"bgcolor\":\"#E5ECF6\",\"angularaxis\":{\"gridcolor\":\"white\",\"linecolor\":\"white\",\"ticks\":\"\"},\"radialaxis\":{\"gridcolor\":\"white\",\"linecolor\":\"white\",\"ticks\":\"\"}},\"ternary\":{\"bgcolor\":\"#E5ECF6\",\"aaxis\":{\"gridcolor\":\"white\",\"linecolor\":\"white\",\"ticks\":\"\"},\"baxis\":{\"gridcolor\":\"white\",\"linecolor\":\"white\",\"ticks\":\"\"},\"caxis\":{\"gridcolor\":\"white\",\"linecolor\":\"white\",\"ticks\":\"\"}},\"coloraxis\":{\"colorbar\":{\"outlinewidth\":0,\"ticks\":\"\"}},\"colorscale\":{\"sequential\":[[0.0,\"#0d0887\"],[0.1111111111111111,\"#46039f\"],[0.2222222222222222,\"#7201a8\"],[0.3333333333333333,\"#9c179e\"],[0.4444444444444444,\"#bd3786\"],[0.5555555555555556,\"#d8576b\"],[0.6666666666666666,\"#ed7953\"],[0.7777777777777778,\"#fb9f3a\"],[0.8888888888888888,\"#fdca26\"],[1.0,\"#f0f921\"]],\"sequentialminus\":[[0.0,\"#0d0887\"],[0.1111111111111111,\"#46039f\"],[0.2222222222222222,\"#7201a8\"],[0.3333333333333333,\"#9c179e\"],[0.4444444444444444,\"#bd3786\"],[0.5555555555555556,\"#d8576b\"],[0.6666666666666666,\"#ed7953\"],[0.7777777777777778,\"#fb9f3a\"],[0.8888888888888888,\"#fdca26\"],[1.0,\"#f0f921\"]],\"diverging\":[[0,\"#8e0152\"],[0.1,\"#c51b7d\"],[0.2,\"#de77ae\"],[0.3,\"#f1b6da\"],[0.4,\"#fde0ef\"],[0.5,\"#f7f7f7\"],[0.6,\"#e6f5d0\"],[0.7,\"#b8e186\"],[0.8,\"#7fbc41\"],[0.9,\"#4d9221\"],[1,\"#276419\"]]},\"xaxis\":{\"gridcolor\":\"white\",\"linecolor\":\"white\",\"ticks\":\"\",\"title\":{\"standoff\":15},\"zerolinecolor\":\"white\",\"automargin\":true,\"zerolinewidth\":2},\"yaxis\":{\"gridcolor\":\"white\",\"linecolor\":\"white\",\"ticks\":\"\",\"title\":{\"standoff\":15},\"zerolinecolor\":\"white\",\"automargin\":true,\"zerolinewidth\":2},\"scene\":{\"xaxis\":{\"backgroundcolor\":\"#E5ECF6\",\"gridcolor\":\"white\",\"linecolor\":\"white\",\"showbackground\":true,\"ticks\":\"\",\"zerolinecolor\":\"white\",\"gridwidth\":2},\"yaxis\":{\"backgroundcolor\":\"#E5ECF6\",\"gridcolor\":\"white\",\"linecolor\":\"white\",\"showbackground\":true,\"ticks\":\"\",\"zerolinecolor\":\"white\",\"gridwidth\":2},\"zaxis\":{\"backgroundcolor\":\"#E5ECF6\",\"gridcolor\":\"white\",\"linecolor\":\"white\",\"showbackground\":true,\"ticks\":\"\",\"zerolinecolor\":\"white\",\"gridwidth\":2}},\"shapedefaults\":{\"line\":{\"color\":\"#2a3f5f\"}},\"annotationdefaults\":{\"arrowcolor\":\"#2a3f5f\",\"arrowhead\":0,\"arrowwidth\":1},\"geo\":{\"bgcolor\":\"white\",\"landcolor\":\"#E5ECF6\",\"subunitcolor\":\"white\",\"showland\":true,\"showlakes\":true,\"lakecolor\":\"white\"},\"title\":{\"x\":0.05},\"mapbox\":{\"style\":\"light\"}}},\"xaxis\":{\"anchor\":\"y\",\"domain\":[0.0,1.0],\"title\":{\"text\":\"Visit\"}},\"yaxis\":{\"anchor\":\"x\",\"domain\":[0.0,1.0],\"title\":{\"text\":\"Count\"}},\"legend\":{\"tracegroupgap\":0},\"margin\":{\"t\":60},\"barmode\":\"relative\"},                        {\"responsive\": true}                    ).then(function(){\n",
       "                            \n",
       "var gd = document.getElementById('a73c9ac7-f5d6-4025-9ff4-0481015508eb');\n",
       "var x = new MutationObserver(function (mutations, observer) {{\n",
       "        var display = window.getComputedStyle(gd).display;\n",
       "        if (!display || display === 'none') {{\n",
       "            console.log([gd, 'removed!']);\n",
       "            Plotly.purge(gd);\n",
       "            observer.disconnect();\n",
       "        }}\n",
       "}});\n",
       "\n",
       "// Listen for the removal of the full notebook cells\n",
       "var notebookContainer = gd.closest('#notebook-container');\n",
       "if (notebookContainer) {{\n",
       "    x.observe(notebookContainer, {childList: true});\n",
       "}}\n",
       "\n",
       "// Listen for the clearing of the current output cell\n",
       "var outputEl = gd.closest('.output');\n",
       "if (outputEl) {{\n",
       "    x.observe(outputEl, {childList: true});\n",
       "}}\n",
       "\n",
       "                        })                };                });            </script>        </div>"
      ]
     },
     "metadata": {},
     "output_type": "display_data"
    }
   ],
   "source": [
    "daily_visit_counts = daily_metadata_df.Visit.value_counts()\n",
    "\n",
    "fig = px.bar(x=daily_visit_counts.index, y=daily_visit_counts.values, color_discrete_sequence=['cornflowerblue'])\n",
    "fig.update_layout(xaxis_title=\"Visit\", yaxis_title=\"Count\")\n",
    "fig.show()"
   ]
  },
  {
   "cell_type": "markdown",
   "metadata": {},
   "source": [
    "<p style=\"font-family: consolas; font-size: 16px;\">❔ How the bar chart looks like for the field <code>Beginning of recording</code>.</p>"
   ]
  },
  {
   "cell_type": "code",
   "execution_count": 54,
   "metadata": {
    "execution": {
     "iopub.execute_input": "2023-07-14T02:26:32.366852Z",
     "iopub.status.busy": "2023-07-14T02:26:32.366477Z",
     "iopub.status.idle": "2023-07-14T02:26:32.450629Z",
     "shell.execute_reply": "2023-07-14T02:26:32.449164Z",
     "shell.execute_reply.started": "2023-07-14T02:26:32.366800Z"
    }
   },
   "outputs": [
    {
     "data": {
      "text/html": [
       "<div>                            <div id=\"12f899c7-bf01-4f6f-9c2c-e2f088e4684c\" class=\"plotly-graph-div\" style=\"height:525px; width:100%;\"></div>            <script type=\"text/javascript\">                require([\"plotly\"], function(Plotly) {                    window.PLOTLYENV=window.PLOTLYENV || {};                                    if (document.getElementById(\"12f899c7-bf01-4f6f-9c2c-e2f088e4684c\")) {                    Plotly.newPlot(                        \"12f899c7-bf01-4f6f-9c2c-e2f088e4684c\",                        [{\"alignmentgroup\":\"True\",\"hovertemplate\":\"x=%{x}<br>y=%{y}<extra></extra>\",\"legendgroup\":\"\",\"marker\":{\"color\":\"cornflowerblue\",\"pattern\":{\"shape\":\"\"}},\"name\":\"\",\"offsetgroup\":\"\",\"orientation\":\"v\",\"showlegend\":false,\"textposition\":\"auto\",\"x\":[\"08:00\",\"09:00\",\"08:30\",\"16:00\",\"12:30\",\"11:30\",\"13:00\",\"14:00\",\"10:30\",\"09:30\",\"09:37\",\"13:30\",\"10:19\",\"07:00\",\"07:30\",\"07:05\",\"12:00\",\"16:32\"],\"xaxis\":\"x\",\"y\":[27,9,7,4,2,2,2,2,1,1,1,1,1,1,1,1,1,1],\"yaxis\":\"y\",\"type\":\"bar\"}],                        {\"template\":{\"data\":{\"histogram2dcontour\":[{\"type\":\"histogram2dcontour\",\"colorbar\":{\"outlinewidth\":0,\"ticks\":\"\"},\"colorscale\":[[0.0,\"#0d0887\"],[0.1111111111111111,\"#46039f\"],[0.2222222222222222,\"#7201a8\"],[0.3333333333333333,\"#9c179e\"],[0.4444444444444444,\"#bd3786\"],[0.5555555555555556,\"#d8576b\"],[0.6666666666666666,\"#ed7953\"],[0.7777777777777778,\"#fb9f3a\"],[0.8888888888888888,\"#fdca26\"],[1.0,\"#f0f921\"]]}],\"choropleth\":[{\"type\":\"choropleth\",\"colorbar\":{\"outlinewidth\":0,\"ticks\":\"\"}}],\"histogram2d\":[{\"type\":\"histogram2d\",\"colorbar\":{\"outlinewidth\":0,\"ticks\":\"\"},\"colorscale\":[[0.0,\"#0d0887\"],[0.1111111111111111,\"#46039f\"],[0.2222222222222222,\"#7201a8\"],[0.3333333333333333,\"#9c179e\"],[0.4444444444444444,\"#bd3786\"],[0.5555555555555556,\"#d8576b\"],[0.6666666666666666,\"#ed7953\"],[0.7777777777777778,\"#fb9f3a\"],[0.8888888888888888,\"#fdca26\"],[1.0,\"#f0f921\"]]}],\"heatmap\":[{\"type\":\"heatmap\",\"colorbar\":{\"outlinewidth\":0,\"ticks\":\"\"},\"colorscale\":[[0.0,\"#0d0887\"],[0.1111111111111111,\"#46039f\"],[0.2222222222222222,\"#7201a8\"],[0.3333333333333333,\"#9c179e\"],[0.4444444444444444,\"#bd3786\"],[0.5555555555555556,\"#d8576b\"],[0.6666666666666666,\"#ed7953\"],[0.7777777777777778,\"#fb9f3a\"],[0.8888888888888888,\"#fdca26\"],[1.0,\"#f0f921\"]]}],\"heatmapgl\":[{\"type\":\"heatmapgl\",\"colorbar\":{\"outlinewidth\":0,\"ticks\":\"\"},\"colorscale\":[[0.0,\"#0d0887\"],[0.1111111111111111,\"#46039f\"],[0.2222222222222222,\"#7201a8\"],[0.3333333333333333,\"#9c179e\"],[0.4444444444444444,\"#bd3786\"],[0.5555555555555556,\"#d8576b\"],[0.6666666666666666,\"#ed7953\"],[0.7777777777777778,\"#fb9f3a\"],[0.8888888888888888,\"#fdca26\"],[1.0,\"#f0f921\"]]}],\"contourcarpet\":[{\"type\":\"contourcarpet\",\"colorbar\":{\"outlinewidth\":0,\"ticks\":\"\"}}],\"contour\":[{\"type\":\"contour\",\"colorbar\":{\"outlinewidth\":0,\"ticks\":\"\"},\"colorscale\":[[0.0,\"#0d0887\"],[0.1111111111111111,\"#46039f\"],[0.2222222222222222,\"#7201a8\"],[0.3333333333333333,\"#9c179e\"],[0.4444444444444444,\"#bd3786\"],[0.5555555555555556,\"#d8576b\"],[0.6666666666666666,\"#ed7953\"],[0.7777777777777778,\"#fb9f3a\"],[0.8888888888888888,\"#fdca26\"],[1.0,\"#f0f921\"]]}],\"surface\":[{\"type\":\"surface\",\"colorbar\":{\"outlinewidth\":0,\"ticks\":\"\"},\"colorscale\":[[0.0,\"#0d0887\"],[0.1111111111111111,\"#46039f\"],[0.2222222222222222,\"#7201a8\"],[0.3333333333333333,\"#9c179e\"],[0.4444444444444444,\"#bd3786\"],[0.5555555555555556,\"#d8576b\"],[0.6666666666666666,\"#ed7953\"],[0.7777777777777778,\"#fb9f3a\"],[0.8888888888888888,\"#fdca26\"],[1.0,\"#f0f921\"]]}],\"mesh3d\":[{\"type\":\"mesh3d\",\"colorbar\":{\"outlinewidth\":0,\"ticks\":\"\"}}],\"scatter\":[{\"fillpattern\":{\"fillmode\":\"overlay\",\"size\":10,\"solidity\":0.2},\"type\":\"scatter\"}],\"parcoords\":[{\"type\":\"parcoords\",\"line\":{\"colorbar\":{\"outlinewidth\":0,\"ticks\":\"\"}}}],\"scatterpolargl\":[{\"type\":\"scatterpolargl\",\"marker\":{\"colorbar\":{\"outlinewidth\":0,\"ticks\":\"\"}}}],\"bar\":[{\"error_x\":{\"color\":\"#2a3f5f\"},\"error_y\":{\"color\":\"#2a3f5f\"},\"marker\":{\"line\":{\"color\":\"#E5ECF6\",\"width\":0.5},\"pattern\":{\"fillmode\":\"overlay\",\"size\":10,\"solidity\":0.2}},\"type\":\"bar\"}],\"scattergeo\":[{\"type\":\"scattergeo\",\"marker\":{\"colorbar\":{\"outlinewidth\":0,\"ticks\":\"\"}}}],\"scatterpolar\":[{\"type\":\"scatterpolar\",\"marker\":{\"colorbar\":{\"outlinewidth\":0,\"ticks\":\"\"}}}],\"histogram\":[{\"marker\":{\"pattern\":{\"fillmode\":\"overlay\",\"size\":10,\"solidity\":0.2}},\"type\":\"histogram\"}],\"scattergl\":[{\"type\":\"scattergl\",\"marker\":{\"colorbar\":{\"outlinewidth\":0,\"ticks\":\"\"}}}],\"scatter3d\":[{\"type\":\"scatter3d\",\"line\":{\"colorbar\":{\"outlinewidth\":0,\"ticks\":\"\"}},\"marker\":{\"colorbar\":{\"outlinewidth\":0,\"ticks\":\"\"}}}],\"scattermapbox\":[{\"type\":\"scattermapbox\",\"marker\":{\"colorbar\":{\"outlinewidth\":0,\"ticks\":\"\"}}}],\"scatterternary\":[{\"type\":\"scatterternary\",\"marker\":{\"colorbar\":{\"outlinewidth\":0,\"ticks\":\"\"}}}],\"scattercarpet\":[{\"type\":\"scattercarpet\",\"marker\":{\"colorbar\":{\"outlinewidth\":0,\"ticks\":\"\"}}}],\"carpet\":[{\"aaxis\":{\"endlinecolor\":\"#2a3f5f\",\"gridcolor\":\"white\",\"linecolor\":\"white\",\"minorgridcolor\":\"white\",\"startlinecolor\":\"#2a3f5f\"},\"baxis\":{\"endlinecolor\":\"#2a3f5f\",\"gridcolor\":\"white\",\"linecolor\":\"white\",\"minorgridcolor\":\"white\",\"startlinecolor\":\"#2a3f5f\"},\"type\":\"carpet\"}],\"table\":[{\"cells\":{\"fill\":{\"color\":\"#EBF0F8\"},\"line\":{\"color\":\"white\"}},\"header\":{\"fill\":{\"color\":\"#C8D4E3\"},\"line\":{\"color\":\"white\"}},\"type\":\"table\"}],\"barpolar\":[{\"marker\":{\"line\":{\"color\":\"#E5ECF6\",\"width\":0.5},\"pattern\":{\"fillmode\":\"overlay\",\"size\":10,\"solidity\":0.2}},\"type\":\"barpolar\"}],\"pie\":[{\"automargin\":true,\"type\":\"pie\"}]},\"layout\":{\"autotypenumbers\":\"strict\",\"colorway\":[\"#636efa\",\"#EF553B\",\"#00cc96\",\"#ab63fa\",\"#FFA15A\",\"#19d3f3\",\"#FF6692\",\"#B6E880\",\"#FF97FF\",\"#FECB52\"],\"font\":{\"color\":\"#2a3f5f\"},\"hovermode\":\"closest\",\"hoverlabel\":{\"align\":\"left\"},\"paper_bgcolor\":\"white\",\"plot_bgcolor\":\"#E5ECF6\",\"polar\":{\"bgcolor\":\"#E5ECF6\",\"angularaxis\":{\"gridcolor\":\"white\",\"linecolor\":\"white\",\"ticks\":\"\"},\"radialaxis\":{\"gridcolor\":\"white\",\"linecolor\":\"white\",\"ticks\":\"\"}},\"ternary\":{\"bgcolor\":\"#E5ECF6\",\"aaxis\":{\"gridcolor\":\"white\",\"linecolor\":\"white\",\"ticks\":\"\"},\"baxis\":{\"gridcolor\":\"white\",\"linecolor\":\"white\",\"ticks\":\"\"},\"caxis\":{\"gridcolor\":\"white\",\"linecolor\":\"white\",\"ticks\":\"\"}},\"coloraxis\":{\"colorbar\":{\"outlinewidth\":0,\"ticks\":\"\"}},\"colorscale\":{\"sequential\":[[0.0,\"#0d0887\"],[0.1111111111111111,\"#46039f\"],[0.2222222222222222,\"#7201a8\"],[0.3333333333333333,\"#9c179e\"],[0.4444444444444444,\"#bd3786\"],[0.5555555555555556,\"#d8576b\"],[0.6666666666666666,\"#ed7953\"],[0.7777777777777778,\"#fb9f3a\"],[0.8888888888888888,\"#fdca26\"],[1.0,\"#f0f921\"]],\"sequentialminus\":[[0.0,\"#0d0887\"],[0.1111111111111111,\"#46039f\"],[0.2222222222222222,\"#7201a8\"],[0.3333333333333333,\"#9c179e\"],[0.4444444444444444,\"#bd3786\"],[0.5555555555555556,\"#d8576b\"],[0.6666666666666666,\"#ed7953\"],[0.7777777777777778,\"#fb9f3a\"],[0.8888888888888888,\"#fdca26\"],[1.0,\"#f0f921\"]],\"diverging\":[[0,\"#8e0152\"],[0.1,\"#c51b7d\"],[0.2,\"#de77ae\"],[0.3,\"#f1b6da\"],[0.4,\"#fde0ef\"],[0.5,\"#f7f7f7\"],[0.6,\"#e6f5d0\"],[0.7,\"#b8e186\"],[0.8,\"#7fbc41\"],[0.9,\"#4d9221\"],[1,\"#276419\"]]},\"xaxis\":{\"gridcolor\":\"white\",\"linecolor\":\"white\",\"ticks\":\"\",\"title\":{\"standoff\":15},\"zerolinecolor\":\"white\",\"automargin\":true,\"zerolinewidth\":2},\"yaxis\":{\"gridcolor\":\"white\",\"linecolor\":\"white\",\"ticks\":\"\",\"title\":{\"standoff\":15},\"zerolinecolor\":\"white\",\"automargin\":true,\"zerolinewidth\":2},\"scene\":{\"xaxis\":{\"backgroundcolor\":\"#E5ECF6\",\"gridcolor\":\"white\",\"linecolor\":\"white\",\"showbackground\":true,\"ticks\":\"\",\"zerolinecolor\":\"white\",\"gridwidth\":2},\"yaxis\":{\"backgroundcolor\":\"#E5ECF6\",\"gridcolor\":\"white\",\"linecolor\":\"white\",\"showbackground\":true,\"ticks\":\"\",\"zerolinecolor\":\"white\",\"gridwidth\":2},\"zaxis\":{\"backgroundcolor\":\"#E5ECF6\",\"gridcolor\":\"white\",\"linecolor\":\"white\",\"showbackground\":true,\"ticks\":\"\",\"zerolinecolor\":\"white\",\"gridwidth\":2}},\"shapedefaults\":{\"line\":{\"color\":\"#2a3f5f\"}},\"annotationdefaults\":{\"arrowcolor\":\"#2a3f5f\",\"arrowhead\":0,\"arrowwidth\":1},\"geo\":{\"bgcolor\":\"white\",\"landcolor\":\"#E5ECF6\",\"subunitcolor\":\"white\",\"showland\":true,\"showlakes\":true,\"lakecolor\":\"white\"},\"title\":{\"x\":0.05},\"mapbox\":{\"style\":\"light\"}}},\"xaxis\":{\"anchor\":\"y\",\"domain\":[0.0,1.0],\"title\":{\"text\":\"Beginning of recording\"}},\"yaxis\":{\"anchor\":\"x\",\"domain\":[0.0,1.0],\"title\":{\"text\":\"Count\"}},\"legend\":{\"tracegroupgap\":0},\"margin\":{\"t\":60},\"barmode\":\"relative\"},                        {\"responsive\": true}                    ).then(function(){\n",
       "                            \n",
       "var gd = document.getElementById('12f899c7-bf01-4f6f-9c2c-e2f088e4684c');\n",
       "var x = new MutationObserver(function (mutations, observer) {{\n",
       "        var display = window.getComputedStyle(gd).display;\n",
       "        if (!display || display === 'none') {{\n",
       "            console.log([gd, 'removed!']);\n",
       "            Plotly.purge(gd);\n",
       "            observer.disconnect();\n",
       "        }}\n",
       "}});\n",
       "\n",
       "// Listen for the removal of the full notebook cells\n",
       "var notebookContainer = gd.closest('#notebook-container');\n",
       "if (notebookContainer) {{\n",
       "    x.observe(notebookContainer, {childList: true});\n",
       "}}\n",
       "\n",
       "// Listen for the clearing of the current output cell\n",
       "var outputEl = gd.closest('.output');\n",
       "if (outputEl) {{\n",
       "    x.observe(outputEl, {childList: true});\n",
       "}}\n",
       "\n",
       "                        })                };                });            </script>        </div>"
      ]
     },
     "metadata": {},
     "output_type": "display_data"
    }
   ],
   "source": [
    "daily_bor_counts = daily_metadata_df[\"Beginning of recording [00:00-23:59]\"].value_counts()\n",
    "\n",
    "fig = px.bar(x=daily_bor_counts.index, y=daily_bor_counts.values, color_discrete_sequence=['cornflowerblue'])\n",
    "fig.update_layout(xaxis_title=\"Beginning of recording\", yaxis_title=\"Count\")\n",
    "fig.show()"
   ]
  },
  {
   "cell_type": "markdown",
   "metadata": {},
   "source": [
    "<a id=\"2.4\"></a>\n",
    "## <div style=\"box-shadow: rgba(0, 0, 0, 0.18) 0px 2px 4px inset; padding:20px; font-size:24px; font-family: consolas; text-align:center; display:fill; border-radius:15px; color:rgb(67, 66, 66)\"> <b> 2.4 Overview <i>subjects.csv</i> file</b></div>"
   ]
  },
  {
   "cell_type": "markdown",
   "metadata": {},
   "source": [
    "<p style=\"font-family: consolas; font-size: 16px;\">⚪ <b>subjects.csv</b> Metadata for each <code>Subject</code> in the study, including their <code>Age</code> and <code>Sex</code> as well as:</p>\n",
    "\n",
    "* <p style=\"font-family: consolas; font-size: 16px;\"><code>Visit</code> Only available for subjects in the daily and defog datasets.</p>\n",
    "* <p style=\"font-family: consolas; font-size: 16px;\"><code>YearsSinceDx</code> Years since Parkinson's diagnosis.</p>\n",
    "* <p style=\"font-family: consolas; font-size: 16px;\"><code>UPDRSIIIOn</code>/<code>UPDRSIIIOff</code> Unified Parkinson's Disease Rating Scale score during on/off medication respectively.</p>\n",
    "* <p style=\"font-family: consolas; font-size: 16px;\"><code>NFOGQ</code> Self-report <a href=\"https://pubmed.ncbi.nlm.nih.gov/19660949/\"><strong>FoG questionnaire score</strong></a>.</p>"
   ]
  },
  {
   "cell_type": "markdown",
   "metadata": {},
   "source": [
    "<p style=\"font-family: consolas; font-size: 16px;\">❔ How the data looks like.</p>"
   ]
  },
  {
   "cell_type": "code",
   "execution_count": 55,
   "metadata": {
    "execution": {
     "iopub.execute_input": "2023-07-14T02:26:32.452682Z",
     "iopub.status.busy": "2023-07-14T02:26:32.452266Z",
     "iopub.status.idle": "2023-07-14T02:26:32.469019Z",
     "shell.execute_reply": "2023-07-14T02:26:32.467137Z",
     "shell.execute_reply.started": "2023-07-14T02:26:32.452645Z"
    }
   },
   "outputs": [],
   "source": [
    "subjects_df = pd.read_csv(\"/kaggle/input/tlvmc-parkinsons-freezing-gait-prediction/subjects.csv\")"
   ]
  },
  {
   "cell_type": "code",
   "execution_count": 56,
   "metadata": {
    "execution": {
     "iopub.execute_input": "2023-07-14T02:26:32.474939Z",
     "iopub.status.busy": "2023-07-14T02:26:32.473494Z",
     "iopub.status.idle": "2023-07-14T02:26:32.498581Z",
     "shell.execute_reply": "2023-07-14T02:26:32.497285Z",
     "shell.execute_reply.started": "2023-07-14T02:26:32.474890Z"
    }
   },
   "outputs": [
    {
     "data": {
      "text/html": [
       "<div>\n",
       "<style scoped>\n",
       "    .dataframe tbody tr th:only-of-type {\n",
       "        vertical-align: middle;\n",
       "    }\n",
       "\n",
       "    .dataframe tbody tr th {\n",
       "        vertical-align: top;\n",
       "    }\n",
       "\n",
       "    .dataframe thead th {\n",
       "        text-align: right;\n",
       "    }\n",
       "</style>\n",
       "<table border=\"1\" class=\"dataframe\">\n",
       "  <thead>\n",
       "    <tr style=\"text-align: right;\">\n",
       "      <th></th>\n",
       "      <th>Subject</th>\n",
       "      <th>Visit</th>\n",
       "      <th>Age</th>\n",
       "      <th>Sex</th>\n",
       "      <th>YearsSinceDx</th>\n",
       "      <th>UPDRSIII_On</th>\n",
       "      <th>UPDRSIII_Off</th>\n",
       "      <th>NFOGQ</th>\n",
       "    </tr>\n",
       "  </thead>\n",
       "  <tbody>\n",
       "    <tr>\n",
       "      <th>0</th>\n",
       "      <td>00f674</td>\n",
       "      <td>2.0</td>\n",
       "      <td>63</td>\n",
       "      <td>M</td>\n",
       "      <td>27.0</td>\n",
       "      <td>43.0</td>\n",
       "      <td>49.0</td>\n",
       "      <td>24</td>\n",
       "    </tr>\n",
       "    <tr>\n",
       "      <th>1</th>\n",
       "      <td>00f674</td>\n",
       "      <td>1.0</td>\n",
       "      <td>63</td>\n",
       "      <td>M</td>\n",
       "      <td>27.0</td>\n",
       "      <td>31.0</td>\n",
       "      <td>30.0</td>\n",
       "      <td>26</td>\n",
       "    </tr>\n",
       "    <tr>\n",
       "      <th>2</th>\n",
       "      <td>02bc69</td>\n",
       "      <td>NaN</td>\n",
       "      <td>69</td>\n",
       "      <td>M</td>\n",
       "      <td>4.0</td>\n",
       "      <td>21.0</td>\n",
       "      <td>NaN</td>\n",
       "      <td>22</td>\n",
       "    </tr>\n",
       "    <tr>\n",
       "      <th>3</th>\n",
       "      <td>040587</td>\n",
       "      <td>2.0</td>\n",
       "      <td>75</td>\n",
       "      <td>M</td>\n",
       "      <td>26.0</td>\n",
       "      <td>52.0</td>\n",
       "      <td>69.0</td>\n",
       "      <td>21</td>\n",
       "    </tr>\n",
       "    <tr>\n",
       "      <th>4</th>\n",
       "      <td>040587</td>\n",
       "      <td>1.0</td>\n",
       "      <td>75</td>\n",
       "      <td>M</td>\n",
       "      <td>26.0</td>\n",
       "      <td>47.0</td>\n",
       "      <td>75.0</td>\n",
       "      <td>24</td>\n",
       "    </tr>\n",
       "  </tbody>\n",
       "</table>\n",
       "</div>"
      ],
      "text/plain": [
       "  Subject  Visit  Age Sex  YearsSinceDx  UPDRSIII_On  UPDRSIII_Off  NFOGQ\n",
       "0  00f674    2.0   63   M          27.0         43.0          49.0     24\n",
       "1  00f674    1.0   63   M          27.0         31.0          30.0     26\n",
       "2  02bc69    NaN   69   M           4.0         21.0           NaN     22\n",
       "3  040587    2.0   75   M          26.0         52.0          69.0     21\n",
       "4  040587    1.0   75   M          26.0         47.0          75.0     24"
      ]
     },
     "execution_count": 56,
     "metadata": {},
     "output_type": "execute_result"
    }
   ],
   "source": [
    "subjects_df.head()"
   ]
  },
  {
   "cell_type": "markdown",
   "metadata": {},
   "source": [
    "<p style=\"font-family: consolas; font-size: 16px;\">❔ Is there any missing data.</p>"
   ]
  },
  {
   "cell_type": "code",
   "execution_count": 57,
   "metadata": {
    "execution": {
     "iopub.execute_input": "2023-07-14T02:26:32.501695Z",
     "iopub.status.busy": "2023-07-14T02:26:32.500730Z",
     "iopub.status.idle": "2023-07-14T02:26:32.520202Z",
     "shell.execute_reply": "2023-07-14T02:26:32.518536Z",
     "shell.execute_reply.started": "2023-07-14T02:26:32.501635Z"
    }
   },
   "outputs": [
    {
     "data": {
      "text/plain": [
       "Subject          0\n",
       "Visit           62\n",
       "Age              0\n",
       "Sex              0\n",
       "YearsSinceDx     0\n",
       "UPDRSIII_On      1\n",
       "UPDRSIII_Off    41\n",
       "NFOGQ            0\n",
       "dtype: int64"
      ]
     },
     "execution_count": 57,
     "metadata": {},
     "output_type": "execute_result"
    }
   ],
   "source": [
    "subjects_df.isnull().sum()"
   ]
  },
  {
   "cell_type": "markdown",
   "metadata": {},
   "source": [
    "<p style=\"font-family: consolas; font-size: 16px;\">❔ What is length of the dataframe.</p>"
   ]
  },
  {
   "cell_type": "code",
   "execution_count": 58,
   "metadata": {
    "execution": {
     "iopub.execute_input": "2023-07-14T02:26:32.522791Z",
     "iopub.status.busy": "2023-07-14T02:26:32.522346Z",
     "iopub.status.idle": "2023-07-14T02:26:32.529998Z",
     "shell.execute_reply": "2023-07-14T02:26:32.528156Z",
     "shell.execute_reply.started": "2023-07-14T02:26:32.522750Z"
    }
   },
   "outputs": [
    {
     "name": "stdout",
     "output_type": "stream",
     "text": [
      "Length of the subjects.csv file is: \u001b[94m173\u001b[0m\n"
     ]
    }
   ],
   "source": [
    "temp = len(subjects_df)\n",
    "print(\n",
    "    f\"Length of the subjects.csv file is: {color.BLUE}{temp}{color.END}\",\n",
    ")"
   ]
  },
  {
   "cell_type": "code",
   "execution_count": 59,
   "metadata": {
    "execution": {
     "iopub.execute_input": "2023-07-14T02:26:32.533226Z",
     "iopub.status.busy": "2023-07-14T02:26:32.532514Z",
     "iopub.status.idle": "2023-07-14T02:26:32.546288Z",
     "shell.execute_reply": "2023-07-14T02:26:32.544731Z",
     "shell.execute_reply.started": "2023-07-14T02:26:32.533180Z"
    }
   },
   "outputs": [
    {
     "name": "stdout",
     "output_type": "stream",
     "text": [
      "Number of unique subjects: \u001b[94m136\u001b[0m\n"
     ]
    }
   ],
   "source": [
    "temp = len(subjects_df.Subject.unique())\n",
    "print(\n",
    "    f\"Number of unique subjects: {color.BLUE}{temp}{color.END}\",\n",
    ")"
   ]
  },
  {
   "cell_type": "markdown",
   "metadata": {},
   "source": [
    "<p style=\"font-family: consolas; font-size: 16px;\">❔ How the bar chart looks like for categorical field <code>Visit</code>.</p>"
   ]
  },
  {
   "cell_type": "code",
   "execution_count": 60,
   "metadata": {
    "execution": {
     "iopub.execute_input": "2023-07-14T02:26:32.548553Z",
     "iopub.status.busy": "2023-07-14T02:26:32.548151Z",
     "iopub.status.idle": "2023-07-14T02:26:32.630865Z",
     "shell.execute_reply": "2023-07-14T02:26:32.629167Z",
     "shell.execute_reply.started": "2023-07-14T02:26:32.548513Z"
    }
   },
   "outputs": [
    {
     "data": {
      "text/html": [
       "<div>                            <div id=\"d02ffb8d-2554-4f46-83eb-f615560d620c\" class=\"plotly-graph-div\" style=\"height:525px; width:100%;\"></div>            <script type=\"text/javascript\">                require([\"plotly\"], function(Plotly) {                    window.PLOTLYENV=window.PLOTLYENV || {};                                    if (document.getElementById(\"d02ffb8d-2554-4f46-83eb-f615560d620c\")) {                    Plotly.newPlot(                        \"d02ffb8d-2554-4f46-83eb-f615560d620c\",                        [{\"alignmentgroup\":\"True\",\"hovertemplate\":\"x=%{x}<br>y=%{y}<extra></extra>\",\"legendgroup\":\"\",\"marker\":{\"color\":\"goldenrod\",\"pattern\":{\"shape\":\"\"}},\"name\":\"\",\"offsetgroup\":\"\",\"orientation\":\"v\",\"showlegend\":false,\"textposition\":\"auto\",\"x\":[1.0,2.0],\"xaxis\":\"x\",\"y\":[70,41],\"yaxis\":\"y\",\"type\":\"bar\"}],                        {\"template\":{\"data\":{\"histogram2dcontour\":[{\"type\":\"histogram2dcontour\",\"colorbar\":{\"outlinewidth\":0,\"ticks\":\"\"},\"colorscale\":[[0.0,\"#0d0887\"],[0.1111111111111111,\"#46039f\"],[0.2222222222222222,\"#7201a8\"],[0.3333333333333333,\"#9c179e\"],[0.4444444444444444,\"#bd3786\"],[0.5555555555555556,\"#d8576b\"],[0.6666666666666666,\"#ed7953\"],[0.7777777777777778,\"#fb9f3a\"],[0.8888888888888888,\"#fdca26\"],[1.0,\"#f0f921\"]]}],\"choropleth\":[{\"type\":\"choropleth\",\"colorbar\":{\"outlinewidth\":0,\"ticks\":\"\"}}],\"histogram2d\":[{\"type\":\"histogram2d\",\"colorbar\":{\"outlinewidth\":0,\"ticks\":\"\"},\"colorscale\":[[0.0,\"#0d0887\"],[0.1111111111111111,\"#46039f\"],[0.2222222222222222,\"#7201a8\"],[0.3333333333333333,\"#9c179e\"],[0.4444444444444444,\"#bd3786\"],[0.5555555555555556,\"#d8576b\"],[0.6666666666666666,\"#ed7953\"],[0.7777777777777778,\"#fb9f3a\"],[0.8888888888888888,\"#fdca26\"],[1.0,\"#f0f921\"]]}],\"heatmap\":[{\"type\":\"heatmap\",\"colorbar\":{\"outlinewidth\":0,\"ticks\":\"\"},\"colorscale\":[[0.0,\"#0d0887\"],[0.1111111111111111,\"#46039f\"],[0.2222222222222222,\"#7201a8\"],[0.3333333333333333,\"#9c179e\"],[0.4444444444444444,\"#bd3786\"],[0.5555555555555556,\"#d8576b\"],[0.6666666666666666,\"#ed7953\"],[0.7777777777777778,\"#fb9f3a\"],[0.8888888888888888,\"#fdca26\"],[1.0,\"#f0f921\"]]}],\"heatmapgl\":[{\"type\":\"heatmapgl\",\"colorbar\":{\"outlinewidth\":0,\"ticks\":\"\"},\"colorscale\":[[0.0,\"#0d0887\"],[0.1111111111111111,\"#46039f\"],[0.2222222222222222,\"#7201a8\"],[0.3333333333333333,\"#9c179e\"],[0.4444444444444444,\"#bd3786\"],[0.5555555555555556,\"#d8576b\"],[0.6666666666666666,\"#ed7953\"],[0.7777777777777778,\"#fb9f3a\"],[0.8888888888888888,\"#fdca26\"],[1.0,\"#f0f921\"]]}],\"contourcarpet\":[{\"type\":\"contourcarpet\",\"colorbar\":{\"outlinewidth\":0,\"ticks\":\"\"}}],\"contour\":[{\"type\":\"contour\",\"colorbar\":{\"outlinewidth\":0,\"ticks\":\"\"},\"colorscale\":[[0.0,\"#0d0887\"],[0.1111111111111111,\"#46039f\"],[0.2222222222222222,\"#7201a8\"],[0.3333333333333333,\"#9c179e\"],[0.4444444444444444,\"#bd3786\"],[0.5555555555555556,\"#d8576b\"],[0.6666666666666666,\"#ed7953\"],[0.7777777777777778,\"#fb9f3a\"],[0.8888888888888888,\"#fdca26\"],[1.0,\"#f0f921\"]]}],\"surface\":[{\"type\":\"surface\",\"colorbar\":{\"outlinewidth\":0,\"ticks\":\"\"},\"colorscale\":[[0.0,\"#0d0887\"],[0.1111111111111111,\"#46039f\"],[0.2222222222222222,\"#7201a8\"],[0.3333333333333333,\"#9c179e\"],[0.4444444444444444,\"#bd3786\"],[0.5555555555555556,\"#d8576b\"],[0.6666666666666666,\"#ed7953\"],[0.7777777777777778,\"#fb9f3a\"],[0.8888888888888888,\"#fdca26\"],[1.0,\"#f0f921\"]]}],\"mesh3d\":[{\"type\":\"mesh3d\",\"colorbar\":{\"outlinewidth\":0,\"ticks\":\"\"}}],\"scatter\":[{\"fillpattern\":{\"fillmode\":\"overlay\",\"size\":10,\"solidity\":0.2},\"type\":\"scatter\"}],\"parcoords\":[{\"type\":\"parcoords\",\"line\":{\"colorbar\":{\"outlinewidth\":0,\"ticks\":\"\"}}}],\"scatterpolargl\":[{\"type\":\"scatterpolargl\",\"marker\":{\"colorbar\":{\"outlinewidth\":0,\"ticks\":\"\"}}}],\"bar\":[{\"error_x\":{\"color\":\"#2a3f5f\"},\"error_y\":{\"color\":\"#2a3f5f\"},\"marker\":{\"line\":{\"color\":\"#E5ECF6\",\"width\":0.5},\"pattern\":{\"fillmode\":\"overlay\",\"size\":10,\"solidity\":0.2}},\"type\":\"bar\"}],\"scattergeo\":[{\"type\":\"scattergeo\",\"marker\":{\"colorbar\":{\"outlinewidth\":0,\"ticks\":\"\"}}}],\"scatterpolar\":[{\"type\":\"scatterpolar\",\"marker\":{\"colorbar\":{\"outlinewidth\":0,\"ticks\":\"\"}}}],\"histogram\":[{\"marker\":{\"pattern\":{\"fillmode\":\"overlay\",\"size\":10,\"solidity\":0.2}},\"type\":\"histogram\"}],\"scattergl\":[{\"type\":\"scattergl\",\"marker\":{\"colorbar\":{\"outlinewidth\":0,\"ticks\":\"\"}}}],\"scatter3d\":[{\"type\":\"scatter3d\",\"line\":{\"colorbar\":{\"outlinewidth\":0,\"ticks\":\"\"}},\"marker\":{\"colorbar\":{\"outlinewidth\":0,\"ticks\":\"\"}}}],\"scattermapbox\":[{\"type\":\"scattermapbox\",\"marker\":{\"colorbar\":{\"outlinewidth\":0,\"ticks\":\"\"}}}],\"scatterternary\":[{\"type\":\"scatterternary\",\"marker\":{\"colorbar\":{\"outlinewidth\":0,\"ticks\":\"\"}}}],\"scattercarpet\":[{\"type\":\"scattercarpet\",\"marker\":{\"colorbar\":{\"outlinewidth\":0,\"ticks\":\"\"}}}],\"carpet\":[{\"aaxis\":{\"endlinecolor\":\"#2a3f5f\",\"gridcolor\":\"white\",\"linecolor\":\"white\",\"minorgridcolor\":\"white\",\"startlinecolor\":\"#2a3f5f\"},\"baxis\":{\"endlinecolor\":\"#2a3f5f\",\"gridcolor\":\"white\",\"linecolor\":\"white\",\"minorgridcolor\":\"white\",\"startlinecolor\":\"#2a3f5f\"},\"type\":\"carpet\"}],\"table\":[{\"cells\":{\"fill\":{\"color\":\"#EBF0F8\"},\"line\":{\"color\":\"white\"}},\"header\":{\"fill\":{\"color\":\"#C8D4E3\"},\"line\":{\"color\":\"white\"}},\"type\":\"table\"}],\"barpolar\":[{\"marker\":{\"line\":{\"color\":\"#E5ECF6\",\"width\":0.5},\"pattern\":{\"fillmode\":\"overlay\",\"size\":10,\"solidity\":0.2}},\"type\":\"barpolar\"}],\"pie\":[{\"automargin\":true,\"type\":\"pie\"}]},\"layout\":{\"autotypenumbers\":\"strict\",\"colorway\":[\"#636efa\",\"#EF553B\",\"#00cc96\",\"#ab63fa\",\"#FFA15A\",\"#19d3f3\",\"#FF6692\",\"#B6E880\",\"#FF97FF\",\"#FECB52\"],\"font\":{\"color\":\"#2a3f5f\"},\"hovermode\":\"closest\",\"hoverlabel\":{\"align\":\"left\"},\"paper_bgcolor\":\"white\",\"plot_bgcolor\":\"#E5ECF6\",\"polar\":{\"bgcolor\":\"#E5ECF6\",\"angularaxis\":{\"gridcolor\":\"white\",\"linecolor\":\"white\",\"ticks\":\"\"},\"radialaxis\":{\"gridcolor\":\"white\",\"linecolor\":\"white\",\"ticks\":\"\"}},\"ternary\":{\"bgcolor\":\"#E5ECF6\",\"aaxis\":{\"gridcolor\":\"white\",\"linecolor\":\"white\",\"ticks\":\"\"},\"baxis\":{\"gridcolor\":\"white\",\"linecolor\":\"white\",\"ticks\":\"\"},\"caxis\":{\"gridcolor\":\"white\",\"linecolor\":\"white\",\"ticks\":\"\"}},\"coloraxis\":{\"colorbar\":{\"outlinewidth\":0,\"ticks\":\"\"}},\"colorscale\":{\"sequential\":[[0.0,\"#0d0887\"],[0.1111111111111111,\"#46039f\"],[0.2222222222222222,\"#7201a8\"],[0.3333333333333333,\"#9c179e\"],[0.4444444444444444,\"#bd3786\"],[0.5555555555555556,\"#d8576b\"],[0.6666666666666666,\"#ed7953\"],[0.7777777777777778,\"#fb9f3a\"],[0.8888888888888888,\"#fdca26\"],[1.0,\"#f0f921\"]],\"sequentialminus\":[[0.0,\"#0d0887\"],[0.1111111111111111,\"#46039f\"],[0.2222222222222222,\"#7201a8\"],[0.3333333333333333,\"#9c179e\"],[0.4444444444444444,\"#bd3786\"],[0.5555555555555556,\"#d8576b\"],[0.6666666666666666,\"#ed7953\"],[0.7777777777777778,\"#fb9f3a\"],[0.8888888888888888,\"#fdca26\"],[1.0,\"#f0f921\"]],\"diverging\":[[0,\"#8e0152\"],[0.1,\"#c51b7d\"],[0.2,\"#de77ae\"],[0.3,\"#f1b6da\"],[0.4,\"#fde0ef\"],[0.5,\"#f7f7f7\"],[0.6,\"#e6f5d0\"],[0.7,\"#b8e186\"],[0.8,\"#7fbc41\"],[0.9,\"#4d9221\"],[1,\"#276419\"]]},\"xaxis\":{\"gridcolor\":\"white\",\"linecolor\":\"white\",\"ticks\":\"\",\"title\":{\"standoff\":15},\"zerolinecolor\":\"white\",\"automargin\":true,\"zerolinewidth\":2},\"yaxis\":{\"gridcolor\":\"white\",\"linecolor\":\"white\",\"ticks\":\"\",\"title\":{\"standoff\":15},\"zerolinecolor\":\"white\",\"automargin\":true,\"zerolinewidth\":2},\"scene\":{\"xaxis\":{\"backgroundcolor\":\"#E5ECF6\",\"gridcolor\":\"white\",\"linecolor\":\"white\",\"showbackground\":true,\"ticks\":\"\",\"zerolinecolor\":\"white\",\"gridwidth\":2},\"yaxis\":{\"backgroundcolor\":\"#E5ECF6\",\"gridcolor\":\"white\",\"linecolor\":\"white\",\"showbackground\":true,\"ticks\":\"\",\"zerolinecolor\":\"white\",\"gridwidth\":2},\"zaxis\":{\"backgroundcolor\":\"#E5ECF6\",\"gridcolor\":\"white\",\"linecolor\":\"white\",\"showbackground\":true,\"ticks\":\"\",\"zerolinecolor\":\"white\",\"gridwidth\":2}},\"shapedefaults\":{\"line\":{\"color\":\"#2a3f5f\"}},\"annotationdefaults\":{\"arrowcolor\":\"#2a3f5f\",\"arrowhead\":0,\"arrowwidth\":1},\"geo\":{\"bgcolor\":\"white\",\"landcolor\":\"#E5ECF6\",\"subunitcolor\":\"white\",\"showland\":true,\"showlakes\":true,\"lakecolor\":\"white\"},\"title\":{\"x\":0.05},\"mapbox\":{\"style\":\"light\"}}},\"xaxis\":{\"anchor\":\"y\",\"domain\":[0.0,1.0],\"title\":{\"text\":\"Visit\"}},\"yaxis\":{\"anchor\":\"x\",\"domain\":[0.0,1.0],\"title\":{\"text\":\"Count\"}},\"legend\":{\"tracegroupgap\":0},\"margin\":{\"t\":60},\"barmode\":\"relative\"},                        {\"responsive\": true}                    ).then(function(){\n",
       "                            \n",
       "var gd = document.getElementById('d02ffb8d-2554-4f46-83eb-f615560d620c');\n",
       "var x = new MutationObserver(function (mutations, observer) {{\n",
       "        var display = window.getComputedStyle(gd).display;\n",
       "        if (!display || display === 'none') {{\n",
       "            console.log([gd, 'removed!']);\n",
       "            Plotly.purge(gd);\n",
       "            observer.disconnect();\n",
       "        }}\n",
       "}});\n",
       "\n",
       "// Listen for the removal of the full notebook cells\n",
       "var notebookContainer = gd.closest('#notebook-container');\n",
       "if (notebookContainer) {{\n",
       "    x.observe(notebookContainer, {childList: true});\n",
       "}}\n",
       "\n",
       "// Listen for the clearing of the current output cell\n",
       "var outputEl = gd.closest('.output');\n",
       "if (outputEl) {{\n",
       "    x.observe(outputEl, {childList: true});\n",
       "}}\n",
       "\n",
       "                        })                };                });            </script>        </div>"
      ]
     },
     "metadata": {},
     "output_type": "display_data"
    }
   ],
   "source": [
    "subjects_visit_counts = subjects_df.Visit.value_counts()\n",
    "\n",
    "fig = px.bar(x=subjects_visit_counts.index, y=subjects_visit_counts.values, color_discrete_sequence=['goldenrod'])\n",
    "fig.update_layout(xaxis_title=\"Visit\", yaxis_title=\"Count\")\n",
    "fig.show()"
   ]
  },
  {
   "cell_type": "markdown",
   "metadata": {},
   "source": [
    "<p style=\"font-family: consolas; font-size: 16px;\">❔ What is the distibution of the field <code>Age</code>.</p>"
   ]
  },
  {
   "cell_type": "code",
   "execution_count": 61,
   "metadata": {
    "execution": {
     "iopub.execute_input": "2023-07-14T02:26:32.634459Z",
     "iopub.status.busy": "2023-07-14T02:26:32.633883Z",
     "iopub.status.idle": "2023-07-14T02:26:32.744463Z",
     "shell.execute_reply": "2023-07-14T02:26:32.743385Z",
     "shell.execute_reply.started": "2023-07-14T02:26:32.634399Z"
    }
   },
   "outputs": [
    {
     "data": {
      "text/html": [
       "<div>                            <div id=\"04d8e018-9e8c-462b-b6b1-bd5d794a6c0f\" class=\"plotly-graph-div\" style=\"height:525px; width:100%;\"></div>            <script type=\"text/javascript\">                require([\"plotly\"], function(Plotly) {                    window.PLOTLYENV=window.PLOTLYENV || {};                                    if (document.getElementById(\"04d8e018-9e8c-462b-b6b1-bd5d794a6c0f\")) {                    Plotly.newPlot(                        \"04d8e018-9e8c-462b-b6b1-bd5d794a6c0f\",                        [{\"alignmentgroup\":\"True\",\"bingroup\":\"x\",\"hovertemplate\":\"Age=%{x}<br>count=%{y}<extra></extra>\",\"legendgroup\":\"\",\"marker\":{\"color\":\"goldenrod\",\"pattern\":{\"shape\":\"\"}},\"name\":\"\",\"nbinsx\":30,\"offsetgroup\":\"\",\"orientation\":\"v\",\"showlegend\":false,\"x\":[63,63,69,75,75,69,58,64,71,71,62,62,82,73,70,67,68,65,65,65,71,77,77,63,67,61,67,77,70,68,68,74,74,67,62,62,73,74,70,79,72,76,66,66,69,69,51,52,72,72,77,77,81,67,71,73,80,74,68,75,68,64,68,70,28,76,76,54,76,69,72,72,59,59,63,56,59,78,68,69,73,66,58,51,51,60,60,60,73,64,64,71,63,73,56,60,60,62,62,73,78,78,65,83,65,61,61,70,62,62,66,73,72,76,77,67,67,55,71,56,73,73,70,70,59,67,75,75,67,67,70,76,82,62,71,71,81,58,65,65,80,71,71,65,58,57,57,77,71,71,78,75,59,59,61,60,79,79,63,61,57,94,64,75,72,65,71,61,57,60,65,69,69],\"xaxis\":\"x\",\"yaxis\":\"y\",\"type\":\"histogram\"}],                        {\"template\":{\"data\":{\"histogram2dcontour\":[{\"type\":\"histogram2dcontour\",\"colorbar\":{\"outlinewidth\":0,\"ticks\":\"\"},\"colorscale\":[[0.0,\"#0d0887\"],[0.1111111111111111,\"#46039f\"],[0.2222222222222222,\"#7201a8\"],[0.3333333333333333,\"#9c179e\"],[0.4444444444444444,\"#bd3786\"],[0.5555555555555556,\"#d8576b\"],[0.6666666666666666,\"#ed7953\"],[0.7777777777777778,\"#fb9f3a\"],[0.8888888888888888,\"#fdca26\"],[1.0,\"#f0f921\"]]}],\"choropleth\":[{\"type\":\"choropleth\",\"colorbar\":{\"outlinewidth\":0,\"ticks\":\"\"}}],\"histogram2d\":[{\"type\":\"histogram2d\",\"colorbar\":{\"outlinewidth\":0,\"ticks\":\"\"},\"colorscale\":[[0.0,\"#0d0887\"],[0.1111111111111111,\"#46039f\"],[0.2222222222222222,\"#7201a8\"],[0.3333333333333333,\"#9c179e\"],[0.4444444444444444,\"#bd3786\"],[0.5555555555555556,\"#d8576b\"],[0.6666666666666666,\"#ed7953\"],[0.7777777777777778,\"#fb9f3a\"],[0.8888888888888888,\"#fdca26\"],[1.0,\"#f0f921\"]]}],\"heatmap\":[{\"type\":\"heatmap\",\"colorbar\":{\"outlinewidth\":0,\"ticks\":\"\"},\"colorscale\":[[0.0,\"#0d0887\"],[0.1111111111111111,\"#46039f\"],[0.2222222222222222,\"#7201a8\"],[0.3333333333333333,\"#9c179e\"],[0.4444444444444444,\"#bd3786\"],[0.5555555555555556,\"#d8576b\"],[0.6666666666666666,\"#ed7953\"],[0.7777777777777778,\"#fb9f3a\"],[0.8888888888888888,\"#fdca26\"],[1.0,\"#f0f921\"]]}],\"heatmapgl\":[{\"type\":\"heatmapgl\",\"colorbar\":{\"outlinewidth\":0,\"ticks\":\"\"},\"colorscale\":[[0.0,\"#0d0887\"],[0.1111111111111111,\"#46039f\"],[0.2222222222222222,\"#7201a8\"],[0.3333333333333333,\"#9c179e\"],[0.4444444444444444,\"#bd3786\"],[0.5555555555555556,\"#d8576b\"],[0.6666666666666666,\"#ed7953\"],[0.7777777777777778,\"#fb9f3a\"],[0.8888888888888888,\"#fdca26\"],[1.0,\"#f0f921\"]]}],\"contourcarpet\":[{\"type\":\"contourcarpet\",\"colorbar\":{\"outlinewidth\":0,\"ticks\":\"\"}}],\"contour\":[{\"type\":\"contour\",\"colorbar\":{\"outlinewidth\":0,\"ticks\":\"\"},\"colorscale\":[[0.0,\"#0d0887\"],[0.1111111111111111,\"#46039f\"],[0.2222222222222222,\"#7201a8\"],[0.3333333333333333,\"#9c179e\"],[0.4444444444444444,\"#bd3786\"],[0.5555555555555556,\"#d8576b\"],[0.6666666666666666,\"#ed7953\"],[0.7777777777777778,\"#fb9f3a\"],[0.8888888888888888,\"#fdca26\"],[1.0,\"#f0f921\"]]}],\"surface\":[{\"type\":\"surface\",\"colorbar\":{\"outlinewidth\":0,\"ticks\":\"\"},\"colorscale\":[[0.0,\"#0d0887\"],[0.1111111111111111,\"#46039f\"],[0.2222222222222222,\"#7201a8\"],[0.3333333333333333,\"#9c179e\"],[0.4444444444444444,\"#bd3786\"],[0.5555555555555556,\"#d8576b\"],[0.6666666666666666,\"#ed7953\"],[0.7777777777777778,\"#fb9f3a\"],[0.8888888888888888,\"#fdca26\"],[1.0,\"#f0f921\"]]}],\"mesh3d\":[{\"type\":\"mesh3d\",\"colorbar\":{\"outlinewidth\":0,\"ticks\":\"\"}}],\"scatter\":[{\"fillpattern\":{\"fillmode\":\"overlay\",\"size\":10,\"solidity\":0.2},\"type\":\"scatter\"}],\"parcoords\":[{\"type\":\"parcoords\",\"line\":{\"colorbar\":{\"outlinewidth\":0,\"ticks\":\"\"}}}],\"scatterpolargl\":[{\"type\":\"scatterpolargl\",\"marker\":{\"colorbar\":{\"outlinewidth\":0,\"ticks\":\"\"}}}],\"bar\":[{\"error_x\":{\"color\":\"#2a3f5f\"},\"error_y\":{\"color\":\"#2a3f5f\"},\"marker\":{\"line\":{\"color\":\"#E5ECF6\",\"width\":0.5},\"pattern\":{\"fillmode\":\"overlay\",\"size\":10,\"solidity\":0.2}},\"type\":\"bar\"}],\"scattergeo\":[{\"type\":\"scattergeo\",\"marker\":{\"colorbar\":{\"outlinewidth\":0,\"ticks\":\"\"}}}],\"scatterpolar\":[{\"type\":\"scatterpolar\",\"marker\":{\"colorbar\":{\"outlinewidth\":0,\"ticks\":\"\"}}}],\"histogram\":[{\"marker\":{\"pattern\":{\"fillmode\":\"overlay\",\"size\":10,\"solidity\":0.2}},\"type\":\"histogram\"}],\"scattergl\":[{\"type\":\"scattergl\",\"marker\":{\"colorbar\":{\"outlinewidth\":0,\"ticks\":\"\"}}}],\"scatter3d\":[{\"type\":\"scatter3d\",\"line\":{\"colorbar\":{\"outlinewidth\":0,\"ticks\":\"\"}},\"marker\":{\"colorbar\":{\"outlinewidth\":0,\"ticks\":\"\"}}}],\"scattermapbox\":[{\"type\":\"scattermapbox\",\"marker\":{\"colorbar\":{\"outlinewidth\":0,\"ticks\":\"\"}}}],\"scatterternary\":[{\"type\":\"scatterternary\",\"marker\":{\"colorbar\":{\"outlinewidth\":0,\"ticks\":\"\"}}}],\"scattercarpet\":[{\"type\":\"scattercarpet\",\"marker\":{\"colorbar\":{\"outlinewidth\":0,\"ticks\":\"\"}}}],\"carpet\":[{\"aaxis\":{\"endlinecolor\":\"#2a3f5f\",\"gridcolor\":\"white\",\"linecolor\":\"white\",\"minorgridcolor\":\"white\",\"startlinecolor\":\"#2a3f5f\"},\"baxis\":{\"endlinecolor\":\"#2a3f5f\",\"gridcolor\":\"white\",\"linecolor\":\"white\",\"minorgridcolor\":\"white\",\"startlinecolor\":\"#2a3f5f\"},\"type\":\"carpet\"}],\"table\":[{\"cells\":{\"fill\":{\"color\":\"#EBF0F8\"},\"line\":{\"color\":\"white\"}},\"header\":{\"fill\":{\"color\":\"#C8D4E3\"},\"line\":{\"color\":\"white\"}},\"type\":\"table\"}],\"barpolar\":[{\"marker\":{\"line\":{\"color\":\"#E5ECF6\",\"width\":0.5},\"pattern\":{\"fillmode\":\"overlay\",\"size\":10,\"solidity\":0.2}},\"type\":\"barpolar\"}],\"pie\":[{\"automargin\":true,\"type\":\"pie\"}]},\"layout\":{\"autotypenumbers\":\"strict\",\"colorway\":[\"#636efa\",\"#EF553B\",\"#00cc96\",\"#ab63fa\",\"#FFA15A\",\"#19d3f3\",\"#FF6692\",\"#B6E880\",\"#FF97FF\",\"#FECB52\"],\"font\":{\"color\":\"#2a3f5f\"},\"hovermode\":\"closest\",\"hoverlabel\":{\"align\":\"left\"},\"paper_bgcolor\":\"white\",\"plot_bgcolor\":\"#E5ECF6\",\"polar\":{\"bgcolor\":\"#E5ECF6\",\"angularaxis\":{\"gridcolor\":\"white\",\"linecolor\":\"white\",\"ticks\":\"\"},\"radialaxis\":{\"gridcolor\":\"white\",\"linecolor\":\"white\",\"ticks\":\"\"}},\"ternary\":{\"bgcolor\":\"#E5ECF6\",\"aaxis\":{\"gridcolor\":\"white\",\"linecolor\":\"white\",\"ticks\":\"\"},\"baxis\":{\"gridcolor\":\"white\",\"linecolor\":\"white\",\"ticks\":\"\"},\"caxis\":{\"gridcolor\":\"white\",\"linecolor\":\"white\",\"ticks\":\"\"}},\"coloraxis\":{\"colorbar\":{\"outlinewidth\":0,\"ticks\":\"\"}},\"colorscale\":{\"sequential\":[[0.0,\"#0d0887\"],[0.1111111111111111,\"#46039f\"],[0.2222222222222222,\"#7201a8\"],[0.3333333333333333,\"#9c179e\"],[0.4444444444444444,\"#bd3786\"],[0.5555555555555556,\"#d8576b\"],[0.6666666666666666,\"#ed7953\"],[0.7777777777777778,\"#fb9f3a\"],[0.8888888888888888,\"#fdca26\"],[1.0,\"#f0f921\"]],\"sequentialminus\":[[0.0,\"#0d0887\"],[0.1111111111111111,\"#46039f\"],[0.2222222222222222,\"#7201a8\"],[0.3333333333333333,\"#9c179e\"],[0.4444444444444444,\"#bd3786\"],[0.5555555555555556,\"#d8576b\"],[0.6666666666666666,\"#ed7953\"],[0.7777777777777778,\"#fb9f3a\"],[0.8888888888888888,\"#fdca26\"],[1.0,\"#f0f921\"]],\"diverging\":[[0,\"#8e0152\"],[0.1,\"#c51b7d\"],[0.2,\"#de77ae\"],[0.3,\"#f1b6da\"],[0.4,\"#fde0ef\"],[0.5,\"#f7f7f7\"],[0.6,\"#e6f5d0\"],[0.7,\"#b8e186\"],[0.8,\"#7fbc41\"],[0.9,\"#4d9221\"],[1,\"#276419\"]]},\"xaxis\":{\"gridcolor\":\"white\",\"linecolor\":\"white\",\"ticks\":\"\",\"title\":{\"standoff\":15},\"zerolinecolor\":\"white\",\"automargin\":true,\"zerolinewidth\":2},\"yaxis\":{\"gridcolor\":\"white\",\"linecolor\":\"white\",\"ticks\":\"\",\"title\":{\"standoff\":15},\"zerolinecolor\":\"white\",\"automargin\":true,\"zerolinewidth\":2},\"scene\":{\"xaxis\":{\"backgroundcolor\":\"#E5ECF6\",\"gridcolor\":\"white\",\"linecolor\":\"white\",\"showbackground\":true,\"ticks\":\"\",\"zerolinecolor\":\"white\",\"gridwidth\":2},\"yaxis\":{\"backgroundcolor\":\"#E5ECF6\",\"gridcolor\":\"white\",\"linecolor\":\"white\",\"showbackground\":true,\"ticks\":\"\",\"zerolinecolor\":\"white\",\"gridwidth\":2},\"zaxis\":{\"backgroundcolor\":\"#E5ECF6\",\"gridcolor\":\"white\",\"linecolor\":\"white\",\"showbackground\":true,\"ticks\":\"\",\"zerolinecolor\":\"white\",\"gridwidth\":2}},\"shapedefaults\":{\"line\":{\"color\":\"#2a3f5f\"}},\"annotationdefaults\":{\"arrowcolor\":\"#2a3f5f\",\"arrowhead\":0,\"arrowwidth\":1},\"geo\":{\"bgcolor\":\"white\",\"landcolor\":\"#E5ECF6\",\"subunitcolor\":\"white\",\"showland\":true,\"showlakes\":true,\"lakecolor\":\"white\"},\"title\":{\"x\":0.05},\"mapbox\":{\"style\":\"light\"}}},\"xaxis\":{\"anchor\":\"y\",\"domain\":[0.0,1.0],\"title\":{\"text\":\"Age\"}},\"yaxis\":{\"anchor\":\"x\",\"domain\":[0.0,1.0],\"title\":{\"text\":\"count\"}},\"legend\":{\"tracegroupgap\":0},\"margin\":{\"t\":60},\"barmode\":\"relative\"},                        {\"responsive\": true}                    ).then(function(){\n",
       "                            \n",
       "var gd = document.getElementById('04d8e018-9e8c-462b-b6b1-bd5d794a6c0f');\n",
       "var x = new MutationObserver(function (mutations, observer) {{\n",
       "        var display = window.getComputedStyle(gd).display;\n",
       "        if (!display || display === 'none') {{\n",
       "            console.log([gd, 'removed!']);\n",
       "            Plotly.purge(gd);\n",
       "            observer.disconnect();\n",
       "        }}\n",
       "}});\n",
       "\n",
       "// Listen for the removal of the full notebook cells\n",
       "var notebookContainer = gd.closest('#notebook-container');\n",
       "if (notebookContainer) {{\n",
       "    x.observe(notebookContainer, {childList: true});\n",
       "}}\n",
       "\n",
       "// Listen for the clearing of the current output cell\n",
       "var outputEl = gd.closest('.output');\n",
       "if (outputEl) {{\n",
       "    x.observe(outputEl, {childList: true});\n",
       "}}\n",
       "\n",
       "                        })                };                });            </script>        </div>"
      ]
     },
     "metadata": {},
     "output_type": "display_data"
    }
   ],
   "source": [
    "fig = px.histogram(subjects_df, x=\"Age\", nbins=30, color_discrete_sequence=['goldenrod'])\n",
    "fig.show()"
   ]
  },
  {
   "cell_type": "markdown",
   "metadata": {},
   "source": [
    "<p style=\"font-family: consolas; font-size: 16px;\">❔ How the bar chart looks like for categorical field <code>Sex</code>.</p>"
   ]
  },
  {
   "cell_type": "code",
   "execution_count": 62,
   "metadata": {
    "execution": {
     "iopub.execute_input": "2023-07-14T02:26:32.746711Z",
     "iopub.status.busy": "2023-07-14T02:26:32.746272Z",
     "iopub.status.idle": "2023-07-14T02:26:32.823573Z",
     "shell.execute_reply": "2023-07-14T02:26:32.822160Z",
     "shell.execute_reply.started": "2023-07-14T02:26:32.746667Z"
    }
   },
   "outputs": [
    {
     "data": {
      "text/html": [
       "<div>                            <div id=\"0186a7ec-42a4-42c8-a372-f73c15836cf3\" class=\"plotly-graph-div\" style=\"height:525px; width:100%;\"></div>            <script type=\"text/javascript\">                require([\"plotly\"], function(Plotly) {                    window.PLOTLYENV=window.PLOTLYENV || {};                                    if (document.getElementById(\"0186a7ec-42a4-42c8-a372-f73c15836cf3\")) {                    Plotly.newPlot(                        \"0186a7ec-42a4-42c8-a372-f73c15836cf3\",                        [{\"alignmentgroup\":\"True\",\"hovertemplate\":\"x=%{x}<br>y=%{y}<extra></extra>\",\"legendgroup\":\"\",\"marker\":{\"color\":\"goldenrod\",\"pattern\":{\"shape\":\"\"}},\"name\":\"\",\"offsetgroup\":\"\",\"orientation\":\"v\",\"showlegend\":false,\"textposition\":\"auto\",\"x\":[\"M\",\"F\"],\"xaxis\":\"x\",\"y\":[121,52],\"yaxis\":\"y\",\"type\":\"bar\"}],                        {\"template\":{\"data\":{\"histogram2dcontour\":[{\"type\":\"histogram2dcontour\",\"colorbar\":{\"outlinewidth\":0,\"ticks\":\"\"},\"colorscale\":[[0.0,\"#0d0887\"],[0.1111111111111111,\"#46039f\"],[0.2222222222222222,\"#7201a8\"],[0.3333333333333333,\"#9c179e\"],[0.4444444444444444,\"#bd3786\"],[0.5555555555555556,\"#d8576b\"],[0.6666666666666666,\"#ed7953\"],[0.7777777777777778,\"#fb9f3a\"],[0.8888888888888888,\"#fdca26\"],[1.0,\"#f0f921\"]]}],\"choropleth\":[{\"type\":\"choropleth\",\"colorbar\":{\"outlinewidth\":0,\"ticks\":\"\"}}],\"histogram2d\":[{\"type\":\"histogram2d\",\"colorbar\":{\"outlinewidth\":0,\"ticks\":\"\"},\"colorscale\":[[0.0,\"#0d0887\"],[0.1111111111111111,\"#46039f\"],[0.2222222222222222,\"#7201a8\"],[0.3333333333333333,\"#9c179e\"],[0.4444444444444444,\"#bd3786\"],[0.5555555555555556,\"#d8576b\"],[0.6666666666666666,\"#ed7953\"],[0.7777777777777778,\"#fb9f3a\"],[0.8888888888888888,\"#fdca26\"],[1.0,\"#f0f921\"]]}],\"heatmap\":[{\"type\":\"heatmap\",\"colorbar\":{\"outlinewidth\":0,\"ticks\":\"\"},\"colorscale\":[[0.0,\"#0d0887\"],[0.1111111111111111,\"#46039f\"],[0.2222222222222222,\"#7201a8\"],[0.3333333333333333,\"#9c179e\"],[0.4444444444444444,\"#bd3786\"],[0.5555555555555556,\"#d8576b\"],[0.6666666666666666,\"#ed7953\"],[0.7777777777777778,\"#fb9f3a\"],[0.8888888888888888,\"#fdca26\"],[1.0,\"#f0f921\"]]}],\"heatmapgl\":[{\"type\":\"heatmapgl\",\"colorbar\":{\"outlinewidth\":0,\"ticks\":\"\"},\"colorscale\":[[0.0,\"#0d0887\"],[0.1111111111111111,\"#46039f\"],[0.2222222222222222,\"#7201a8\"],[0.3333333333333333,\"#9c179e\"],[0.4444444444444444,\"#bd3786\"],[0.5555555555555556,\"#d8576b\"],[0.6666666666666666,\"#ed7953\"],[0.7777777777777778,\"#fb9f3a\"],[0.8888888888888888,\"#fdca26\"],[1.0,\"#f0f921\"]]}],\"contourcarpet\":[{\"type\":\"contourcarpet\",\"colorbar\":{\"outlinewidth\":0,\"ticks\":\"\"}}],\"contour\":[{\"type\":\"contour\",\"colorbar\":{\"outlinewidth\":0,\"ticks\":\"\"},\"colorscale\":[[0.0,\"#0d0887\"],[0.1111111111111111,\"#46039f\"],[0.2222222222222222,\"#7201a8\"],[0.3333333333333333,\"#9c179e\"],[0.4444444444444444,\"#bd3786\"],[0.5555555555555556,\"#d8576b\"],[0.6666666666666666,\"#ed7953\"],[0.7777777777777778,\"#fb9f3a\"],[0.8888888888888888,\"#fdca26\"],[1.0,\"#f0f921\"]]}],\"surface\":[{\"type\":\"surface\",\"colorbar\":{\"outlinewidth\":0,\"ticks\":\"\"},\"colorscale\":[[0.0,\"#0d0887\"],[0.1111111111111111,\"#46039f\"],[0.2222222222222222,\"#7201a8\"],[0.3333333333333333,\"#9c179e\"],[0.4444444444444444,\"#bd3786\"],[0.5555555555555556,\"#d8576b\"],[0.6666666666666666,\"#ed7953\"],[0.7777777777777778,\"#fb9f3a\"],[0.8888888888888888,\"#fdca26\"],[1.0,\"#f0f921\"]]}],\"mesh3d\":[{\"type\":\"mesh3d\",\"colorbar\":{\"outlinewidth\":0,\"ticks\":\"\"}}],\"scatter\":[{\"fillpattern\":{\"fillmode\":\"overlay\",\"size\":10,\"solidity\":0.2},\"type\":\"scatter\"}],\"parcoords\":[{\"type\":\"parcoords\",\"line\":{\"colorbar\":{\"outlinewidth\":0,\"ticks\":\"\"}}}],\"scatterpolargl\":[{\"type\":\"scatterpolargl\",\"marker\":{\"colorbar\":{\"outlinewidth\":0,\"ticks\":\"\"}}}],\"bar\":[{\"error_x\":{\"color\":\"#2a3f5f\"},\"error_y\":{\"color\":\"#2a3f5f\"},\"marker\":{\"line\":{\"color\":\"#E5ECF6\",\"width\":0.5},\"pattern\":{\"fillmode\":\"overlay\",\"size\":10,\"solidity\":0.2}},\"type\":\"bar\"}],\"scattergeo\":[{\"type\":\"scattergeo\",\"marker\":{\"colorbar\":{\"outlinewidth\":0,\"ticks\":\"\"}}}],\"scatterpolar\":[{\"type\":\"scatterpolar\",\"marker\":{\"colorbar\":{\"outlinewidth\":0,\"ticks\":\"\"}}}],\"histogram\":[{\"marker\":{\"pattern\":{\"fillmode\":\"overlay\",\"size\":10,\"solidity\":0.2}},\"type\":\"histogram\"}],\"scattergl\":[{\"type\":\"scattergl\",\"marker\":{\"colorbar\":{\"outlinewidth\":0,\"ticks\":\"\"}}}],\"scatter3d\":[{\"type\":\"scatter3d\",\"line\":{\"colorbar\":{\"outlinewidth\":0,\"ticks\":\"\"}},\"marker\":{\"colorbar\":{\"outlinewidth\":0,\"ticks\":\"\"}}}],\"scattermapbox\":[{\"type\":\"scattermapbox\",\"marker\":{\"colorbar\":{\"outlinewidth\":0,\"ticks\":\"\"}}}],\"scatterternary\":[{\"type\":\"scatterternary\",\"marker\":{\"colorbar\":{\"outlinewidth\":0,\"ticks\":\"\"}}}],\"scattercarpet\":[{\"type\":\"scattercarpet\",\"marker\":{\"colorbar\":{\"outlinewidth\":0,\"ticks\":\"\"}}}],\"carpet\":[{\"aaxis\":{\"endlinecolor\":\"#2a3f5f\",\"gridcolor\":\"white\",\"linecolor\":\"white\",\"minorgridcolor\":\"white\",\"startlinecolor\":\"#2a3f5f\"},\"baxis\":{\"endlinecolor\":\"#2a3f5f\",\"gridcolor\":\"white\",\"linecolor\":\"white\",\"minorgridcolor\":\"white\",\"startlinecolor\":\"#2a3f5f\"},\"type\":\"carpet\"}],\"table\":[{\"cells\":{\"fill\":{\"color\":\"#EBF0F8\"},\"line\":{\"color\":\"white\"}},\"header\":{\"fill\":{\"color\":\"#C8D4E3\"},\"line\":{\"color\":\"white\"}},\"type\":\"table\"}],\"barpolar\":[{\"marker\":{\"line\":{\"color\":\"#E5ECF6\",\"width\":0.5},\"pattern\":{\"fillmode\":\"overlay\",\"size\":10,\"solidity\":0.2}},\"type\":\"barpolar\"}],\"pie\":[{\"automargin\":true,\"type\":\"pie\"}]},\"layout\":{\"autotypenumbers\":\"strict\",\"colorway\":[\"#636efa\",\"#EF553B\",\"#00cc96\",\"#ab63fa\",\"#FFA15A\",\"#19d3f3\",\"#FF6692\",\"#B6E880\",\"#FF97FF\",\"#FECB52\"],\"font\":{\"color\":\"#2a3f5f\"},\"hovermode\":\"closest\",\"hoverlabel\":{\"align\":\"left\"},\"paper_bgcolor\":\"white\",\"plot_bgcolor\":\"#E5ECF6\",\"polar\":{\"bgcolor\":\"#E5ECF6\",\"angularaxis\":{\"gridcolor\":\"white\",\"linecolor\":\"white\",\"ticks\":\"\"},\"radialaxis\":{\"gridcolor\":\"white\",\"linecolor\":\"white\",\"ticks\":\"\"}},\"ternary\":{\"bgcolor\":\"#E5ECF6\",\"aaxis\":{\"gridcolor\":\"white\",\"linecolor\":\"white\",\"ticks\":\"\"},\"baxis\":{\"gridcolor\":\"white\",\"linecolor\":\"white\",\"ticks\":\"\"},\"caxis\":{\"gridcolor\":\"white\",\"linecolor\":\"white\",\"ticks\":\"\"}},\"coloraxis\":{\"colorbar\":{\"outlinewidth\":0,\"ticks\":\"\"}},\"colorscale\":{\"sequential\":[[0.0,\"#0d0887\"],[0.1111111111111111,\"#46039f\"],[0.2222222222222222,\"#7201a8\"],[0.3333333333333333,\"#9c179e\"],[0.4444444444444444,\"#bd3786\"],[0.5555555555555556,\"#d8576b\"],[0.6666666666666666,\"#ed7953\"],[0.7777777777777778,\"#fb9f3a\"],[0.8888888888888888,\"#fdca26\"],[1.0,\"#f0f921\"]],\"sequentialminus\":[[0.0,\"#0d0887\"],[0.1111111111111111,\"#46039f\"],[0.2222222222222222,\"#7201a8\"],[0.3333333333333333,\"#9c179e\"],[0.4444444444444444,\"#bd3786\"],[0.5555555555555556,\"#d8576b\"],[0.6666666666666666,\"#ed7953\"],[0.7777777777777778,\"#fb9f3a\"],[0.8888888888888888,\"#fdca26\"],[1.0,\"#f0f921\"]],\"diverging\":[[0,\"#8e0152\"],[0.1,\"#c51b7d\"],[0.2,\"#de77ae\"],[0.3,\"#f1b6da\"],[0.4,\"#fde0ef\"],[0.5,\"#f7f7f7\"],[0.6,\"#e6f5d0\"],[0.7,\"#b8e186\"],[0.8,\"#7fbc41\"],[0.9,\"#4d9221\"],[1,\"#276419\"]]},\"xaxis\":{\"gridcolor\":\"white\",\"linecolor\":\"white\",\"ticks\":\"\",\"title\":{\"standoff\":15},\"zerolinecolor\":\"white\",\"automargin\":true,\"zerolinewidth\":2},\"yaxis\":{\"gridcolor\":\"white\",\"linecolor\":\"white\",\"ticks\":\"\",\"title\":{\"standoff\":15},\"zerolinecolor\":\"white\",\"automargin\":true,\"zerolinewidth\":2},\"scene\":{\"xaxis\":{\"backgroundcolor\":\"#E5ECF6\",\"gridcolor\":\"white\",\"linecolor\":\"white\",\"showbackground\":true,\"ticks\":\"\",\"zerolinecolor\":\"white\",\"gridwidth\":2},\"yaxis\":{\"backgroundcolor\":\"#E5ECF6\",\"gridcolor\":\"white\",\"linecolor\":\"white\",\"showbackground\":true,\"ticks\":\"\",\"zerolinecolor\":\"white\",\"gridwidth\":2},\"zaxis\":{\"backgroundcolor\":\"#E5ECF6\",\"gridcolor\":\"white\",\"linecolor\":\"white\",\"showbackground\":true,\"ticks\":\"\",\"zerolinecolor\":\"white\",\"gridwidth\":2}},\"shapedefaults\":{\"line\":{\"color\":\"#2a3f5f\"}},\"annotationdefaults\":{\"arrowcolor\":\"#2a3f5f\",\"arrowhead\":0,\"arrowwidth\":1},\"geo\":{\"bgcolor\":\"white\",\"landcolor\":\"#E5ECF6\",\"subunitcolor\":\"white\",\"showland\":true,\"showlakes\":true,\"lakecolor\":\"white\"},\"title\":{\"x\":0.05},\"mapbox\":{\"style\":\"light\"}}},\"xaxis\":{\"anchor\":\"y\",\"domain\":[0.0,1.0],\"title\":{\"text\":\"Sex\"}},\"yaxis\":{\"anchor\":\"x\",\"domain\":[0.0,1.0],\"title\":{\"text\":\"Count\"}},\"legend\":{\"tracegroupgap\":0},\"margin\":{\"t\":60},\"barmode\":\"relative\"},                        {\"responsive\": true}                    ).then(function(){\n",
       "                            \n",
       "var gd = document.getElementById('0186a7ec-42a4-42c8-a372-f73c15836cf3');\n",
       "var x = new MutationObserver(function (mutations, observer) {{\n",
       "        var display = window.getComputedStyle(gd).display;\n",
       "        if (!display || display === 'none') {{\n",
       "            console.log([gd, 'removed!']);\n",
       "            Plotly.purge(gd);\n",
       "            observer.disconnect();\n",
       "        }}\n",
       "}});\n",
       "\n",
       "// Listen for the removal of the full notebook cells\n",
       "var notebookContainer = gd.closest('#notebook-container');\n",
       "if (notebookContainer) {{\n",
       "    x.observe(notebookContainer, {childList: true});\n",
       "}}\n",
       "\n",
       "// Listen for the clearing of the current output cell\n",
       "var outputEl = gd.closest('.output');\n",
       "if (outputEl) {{\n",
       "    x.observe(outputEl, {childList: true});\n",
       "}}\n",
       "\n",
       "                        })                };                });            </script>        </div>"
      ]
     },
     "metadata": {},
     "output_type": "display_data"
    }
   ],
   "source": [
    "subjects_sex_counts = subjects_df.Sex.value_counts()\n",
    "\n",
    "fig = px.bar(x=subjects_sex_counts.index, y=subjects_sex_counts.values, color_discrete_sequence=['goldenrod'])\n",
    "fig.update_layout(xaxis_title=\"Sex\", yaxis_title=\"Count\")\n",
    "fig.show()"
   ]
  },
  {
   "cell_type": "markdown",
   "metadata": {},
   "source": [
    "<p style=\"font-family: consolas; font-size: 16px;\">❔ What is the distibution of the field <code>YearsSinceDx</code>.</p>"
   ]
  },
  {
   "cell_type": "code",
   "execution_count": 63,
   "metadata": {
    "execution": {
     "iopub.execute_input": "2023-07-14T02:26:32.827172Z",
     "iopub.status.busy": "2023-07-14T02:26:32.825451Z",
     "iopub.status.idle": "2023-07-14T02:26:32.903139Z",
     "shell.execute_reply": "2023-07-14T02:26:32.901716Z",
     "shell.execute_reply.started": "2023-07-14T02:26:32.827101Z"
    }
   },
   "outputs": [
    {
     "data": {
      "text/html": [
       "<div>                            <div id=\"b3a3e09d-b991-4d2e-9cd7-ffd653ed019e\" class=\"plotly-graph-div\" style=\"height:525px; width:100%;\"></div>            <script type=\"text/javascript\">                require([\"plotly\"], function(Plotly) {                    window.PLOTLYENV=window.PLOTLYENV || {};                                    if (document.getElementById(\"b3a3e09d-b991-4d2e-9cd7-ffd653ed019e\")) {                    Plotly.newPlot(                        \"b3a3e09d-b991-4d2e-9cd7-ffd653ed019e\",                        [{\"alignmentgroup\":\"True\",\"bingroup\":\"x\",\"hovertemplate\":\"YearsSinceDx=%{x}<br>count=%{y}<extra></extra>\",\"legendgroup\":\"\",\"marker\":{\"color\":\"goldenrod\",\"pattern\":{\"shape\":\"\"}},\"name\":\"\",\"nbinsx\":30,\"offsetgroup\":\"\",\"orientation\":\"v\",\"showlegend\":false,\"x\":[27.0,27.0,4.0,26.0,26.0,13.0,1.0,17.0,16.0,16.0,3.0,3.0,11.0,3.0,13.0,4.0,4.0,7.0,7.0,16.0,13.0,7.0,7.0,14.0,12.0,1.0,19.0,1.0,10.0,3.5,3.5,7.0,7.0,6.0,13.0,13.0,1.0,4.0,14.0,6.0,22.0,7.0,10.0,10.0,17.0,17.0,3.0,4.0,16.0,16.0,21.0,21.0,1.0,10.0,23.0,2.0,16.0,7.0,9.0,9.0,12.0,6.0,11.0,10.0,4.0,22.0,22.0,4.0,17.0,13.0,14.0,14.0,10.0,10.0,3.0,8.0,9.0,10.0,14.0,6.0,4.0,0.42,11.0,20.0,20.0,15.0,15.0,15.0,7.0,8.0,8.0,13.0,4.0,7.0,5.0,1.5,1.5,17.0,17.0,17.0,18.0,18.0,22.0,5.0,4.0,7.0,7.0,4.5,16.0,16.0,9.0,7.0,23.0,9.0,6.0,17.0,17.0,9.0,17.0,11.0,5.0,5.0,8.0,8.0,30.0,5.0,3.0,3.0,7.0,7.0,5.0,5.0,15.0,1.0,7.0,7.0,10.0,17.0,16.0,16.0,12.0,9.0,9.0,10.0,5.0,13.0,13.0,4.0,12.0,12.0,6.0,9.0,13.0,13.0,21.0,1.5,8.0,8.0,14.0,7.0,11.0,8.0,6.0,10.0,16.0,10.0,10.0,7.0,2.0,7.0,8.0,3.5,3.5],\"xaxis\":\"x\",\"yaxis\":\"y\",\"type\":\"histogram\"}],                        {\"template\":{\"data\":{\"histogram2dcontour\":[{\"type\":\"histogram2dcontour\",\"colorbar\":{\"outlinewidth\":0,\"ticks\":\"\"},\"colorscale\":[[0.0,\"#0d0887\"],[0.1111111111111111,\"#46039f\"],[0.2222222222222222,\"#7201a8\"],[0.3333333333333333,\"#9c179e\"],[0.4444444444444444,\"#bd3786\"],[0.5555555555555556,\"#d8576b\"],[0.6666666666666666,\"#ed7953\"],[0.7777777777777778,\"#fb9f3a\"],[0.8888888888888888,\"#fdca26\"],[1.0,\"#f0f921\"]]}],\"choropleth\":[{\"type\":\"choropleth\",\"colorbar\":{\"outlinewidth\":0,\"ticks\":\"\"}}],\"histogram2d\":[{\"type\":\"histogram2d\",\"colorbar\":{\"outlinewidth\":0,\"ticks\":\"\"},\"colorscale\":[[0.0,\"#0d0887\"],[0.1111111111111111,\"#46039f\"],[0.2222222222222222,\"#7201a8\"],[0.3333333333333333,\"#9c179e\"],[0.4444444444444444,\"#bd3786\"],[0.5555555555555556,\"#d8576b\"],[0.6666666666666666,\"#ed7953\"],[0.7777777777777778,\"#fb9f3a\"],[0.8888888888888888,\"#fdca26\"],[1.0,\"#f0f921\"]]}],\"heatmap\":[{\"type\":\"heatmap\",\"colorbar\":{\"outlinewidth\":0,\"ticks\":\"\"},\"colorscale\":[[0.0,\"#0d0887\"],[0.1111111111111111,\"#46039f\"],[0.2222222222222222,\"#7201a8\"],[0.3333333333333333,\"#9c179e\"],[0.4444444444444444,\"#bd3786\"],[0.5555555555555556,\"#d8576b\"],[0.6666666666666666,\"#ed7953\"],[0.7777777777777778,\"#fb9f3a\"],[0.8888888888888888,\"#fdca26\"],[1.0,\"#f0f921\"]]}],\"heatmapgl\":[{\"type\":\"heatmapgl\",\"colorbar\":{\"outlinewidth\":0,\"ticks\":\"\"},\"colorscale\":[[0.0,\"#0d0887\"],[0.1111111111111111,\"#46039f\"],[0.2222222222222222,\"#7201a8\"],[0.3333333333333333,\"#9c179e\"],[0.4444444444444444,\"#bd3786\"],[0.5555555555555556,\"#d8576b\"],[0.6666666666666666,\"#ed7953\"],[0.7777777777777778,\"#fb9f3a\"],[0.8888888888888888,\"#fdca26\"],[1.0,\"#f0f921\"]]}],\"contourcarpet\":[{\"type\":\"contourcarpet\",\"colorbar\":{\"outlinewidth\":0,\"ticks\":\"\"}}],\"contour\":[{\"type\":\"contour\",\"colorbar\":{\"outlinewidth\":0,\"ticks\":\"\"},\"colorscale\":[[0.0,\"#0d0887\"],[0.1111111111111111,\"#46039f\"],[0.2222222222222222,\"#7201a8\"],[0.3333333333333333,\"#9c179e\"],[0.4444444444444444,\"#bd3786\"],[0.5555555555555556,\"#d8576b\"],[0.6666666666666666,\"#ed7953\"],[0.7777777777777778,\"#fb9f3a\"],[0.8888888888888888,\"#fdca26\"],[1.0,\"#f0f921\"]]}],\"surface\":[{\"type\":\"surface\",\"colorbar\":{\"outlinewidth\":0,\"ticks\":\"\"},\"colorscale\":[[0.0,\"#0d0887\"],[0.1111111111111111,\"#46039f\"],[0.2222222222222222,\"#7201a8\"],[0.3333333333333333,\"#9c179e\"],[0.4444444444444444,\"#bd3786\"],[0.5555555555555556,\"#d8576b\"],[0.6666666666666666,\"#ed7953\"],[0.7777777777777778,\"#fb9f3a\"],[0.8888888888888888,\"#fdca26\"],[1.0,\"#f0f921\"]]}],\"mesh3d\":[{\"type\":\"mesh3d\",\"colorbar\":{\"outlinewidth\":0,\"ticks\":\"\"}}],\"scatter\":[{\"fillpattern\":{\"fillmode\":\"overlay\",\"size\":10,\"solidity\":0.2},\"type\":\"scatter\"}],\"parcoords\":[{\"type\":\"parcoords\",\"line\":{\"colorbar\":{\"outlinewidth\":0,\"ticks\":\"\"}}}],\"scatterpolargl\":[{\"type\":\"scatterpolargl\",\"marker\":{\"colorbar\":{\"outlinewidth\":0,\"ticks\":\"\"}}}],\"bar\":[{\"error_x\":{\"color\":\"#2a3f5f\"},\"error_y\":{\"color\":\"#2a3f5f\"},\"marker\":{\"line\":{\"color\":\"#E5ECF6\",\"width\":0.5},\"pattern\":{\"fillmode\":\"overlay\",\"size\":10,\"solidity\":0.2}},\"type\":\"bar\"}],\"scattergeo\":[{\"type\":\"scattergeo\",\"marker\":{\"colorbar\":{\"outlinewidth\":0,\"ticks\":\"\"}}}],\"scatterpolar\":[{\"type\":\"scatterpolar\",\"marker\":{\"colorbar\":{\"outlinewidth\":0,\"ticks\":\"\"}}}],\"histogram\":[{\"marker\":{\"pattern\":{\"fillmode\":\"overlay\",\"size\":10,\"solidity\":0.2}},\"type\":\"histogram\"}],\"scattergl\":[{\"type\":\"scattergl\",\"marker\":{\"colorbar\":{\"outlinewidth\":0,\"ticks\":\"\"}}}],\"scatter3d\":[{\"type\":\"scatter3d\",\"line\":{\"colorbar\":{\"outlinewidth\":0,\"ticks\":\"\"}},\"marker\":{\"colorbar\":{\"outlinewidth\":0,\"ticks\":\"\"}}}],\"scattermapbox\":[{\"type\":\"scattermapbox\",\"marker\":{\"colorbar\":{\"outlinewidth\":0,\"ticks\":\"\"}}}],\"scatterternary\":[{\"type\":\"scatterternary\",\"marker\":{\"colorbar\":{\"outlinewidth\":0,\"ticks\":\"\"}}}],\"scattercarpet\":[{\"type\":\"scattercarpet\",\"marker\":{\"colorbar\":{\"outlinewidth\":0,\"ticks\":\"\"}}}],\"carpet\":[{\"aaxis\":{\"endlinecolor\":\"#2a3f5f\",\"gridcolor\":\"white\",\"linecolor\":\"white\",\"minorgridcolor\":\"white\",\"startlinecolor\":\"#2a3f5f\"},\"baxis\":{\"endlinecolor\":\"#2a3f5f\",\"gridcolor\":\"white\",\"linecolor\":\"white\",\"minorgridcolor\":\"white\",\"startlinecolor\":\"#2a3f5f\"},\"type\":\"carpet\"}],\"table\":[{\"cells\":{\"fill\":{\"color\":\"#EBF0F8\"},\"line\":{\"color\":\"white\"}},\"header\":{\"fill\":{\"color\":\"#C8D4E3\"},\"line\":{\"color\":\"white\"}},\"type\":\"table\"}],\"barpolar\":[{\"marker\":{\"line\":{\"color\":\"#E5ECF6\",\"width\":0.5},\"pattern\":{\"fillmode\":\"overlay\",\"size\":10,\"solidity\":0.2}},\"type\":\"barpolar\"}],\"pie\":[{\"automargin\":true,\"type\":\"pie\"}]},\"layout\":{\"autotypenumbers\":\"strict\",\"colorway\":[\"#636efa\",\"#EF553B\",\"#00cc96\",\"#ab63fa\",\"#FFA15A\",\"#19d3f3\",\"#FF6692\",\"#B6E880\",\"#FF97FF\",\"#FECB52\"],\"font\":{\"color\":\"#2a3f5f\"},\"hovermode\":\"closest\",\"hoverlabel\":{\"align\":\"left\"},\"paper_bgcolor\":\"white\",\"plot_bgcolor\":\"#E5ECF6\",\"polar\":{\"bgcolor\":\"#E5ECF6\",\"angularaxis\":{\"gridcolor\":\"white\",\"linecolor\":\"white\",\"ticks\":\"\"},\"radialaxis\":{\"gridcolor\":\"white\",\"linecolor\":\"white\",\"ticks\":\"\"}},\"ternary\":{\"bgcolor\":\"#E5ECF6\",\"aaxis\":{\"gridcolor\":\"white\",\"linecolor\":\"white\",\"ticks\":\"\"},\"baxis\":{\"gridcolor\":\"white\",\"linecolor\":\"white\",\"ticks\":\"\"},\"caxis\":{\"gridcolor\":\"white\",\"linecolor\":\"white\",\"ticks\":\"\"}},\"coloraxis\":{\"colorbar\":{\"outlinewidth\":0,\"ticks\":\"\"}},\"colorscale\":{\"sequential\":[[0.0,\"#0d0887\"],[0.1111111111111111,\"#46039f\"],[0.2222222222222222,\"#7201a8\"],[0.3333333333333333,\"#9c179e\"],[0.4444444444444444,\"#bd3786\"],[0.5555555555555556,\"#d8576b\"],[0.6666666666666666,\"#ed7953\"],[0.7777777777777778,\"#fb9f3a\"],[0.8888888888888888,\"#fdca26\"],[1.0,\"#f0f921\"]],\"sequentialminus\":[[0.0,\"#0d0887\"],[0.1111111111111111,\"#46039f\"],[0.2222222222222222,\"#7201a8\"],[0.3333333333333333,\"#9c179e\"],[0.4444444444444444,\"#bd3786\"],[0.5555555555555556,\"#d8576b\"],[0.6666666666666666,\"#ed7953\"],[0.7777777777777778,\"#fb9f3a\"],[0.8888888888888888,\"#fdca26\"],[1.0,\"#f0f921\"]],\"diverging\":[[0,\"#8e0152\"],[0.1,\"#c51b7d\"],[0.2,\"#de77ae\"],[0.3,\"#f1b6da\"],[0.4,\"#fde0ef\"],[0.5,\"#f7f7f7\"],[0.6,\"#e6f5d0\"],[0.7,\"#b8e186\"],[0.8,\"#7fbc41\"],[0.9,\"#4d9221\"],[1,\"#276419\"]]},\"xaxis\":{\"gridcolor\":\"white\",\"linecolor\":\"white\",\"ticks\":\"\",\"title\":{\"standoff\":15},\"zerolinecolor\":\"white\",\"automargin\":true,\"zerolinewidth\":2},\"yaxis\":{\"gridcolor\":\"white\",\"linecolor\":\"white\",\"ticks\":\"\",\"title\":{\"standoff\":15},\"zerolinecolor\":\"white\",\"automargin\":true,\"zerolinewidth\":2},\"scene\":{\"xaxis\":{\"backgroundcolor\":\"#E5ECF6\",\"gridcolor\":\"white\",\"linecolor\":\"white\",\"showbackground\":true,\"ticks\":\"\",\"zerolinecolor\":\"white\",\"gridwidth\":2},\"yaxis\":{\"backgroundcolor\":\"#E5ECF6\",\"gridcolor\":\"white\",\"linecolor\":\"white\",\"showbackground\":true,\"ticks\":\"\",\"zerolinecolor\":\"white\",\"gridwidth\":2},\"zaxis\":{\"backgroundcolor\":\"#E5ECF6\",\"gridcolor\":\"white\",\"linecolor\":\"white\",\"showbackground\":true,\"ticks\":\"\",\"zerolinecolor\":\"white\",\"gridwidth\":2}},\"shapedefaults\":{\"line\":{\"color\":\"#2a3f5f\"}},\"annotationdefaults\":{\"arrowcolor\":\"#2a3f5f\",\"arrowhead\":0,\"arrowwidth\":1},\"geo\":{\"bgcolor\":\"white\",\"landcolor\":\"#E5ECF6\",\"subunitcolor\":\"white\",\"showland\":true,\"showlakes\":true,\"lakecolor\":\"white\"},\"title\":{\"x\":0.05},\"mapbox\":{\"style\":\"light\"}}},\"xaxis\":{\"anchor\":\"y\",\"domain\":[0.0,1.0],\"title\":{\"text\":\"YearsSinceDx\"}},\"yaxis\":{\"anchor\":\"x\",\"domain\":[0.0,1.0],\"title\":{\"text\":\"count\"}},\"legend\":{\"tracegroupgap\":0},\"margin\":{\"t\":60},\"barmode\":\"relative\"},                        {\"responsive\": true}                    ).then(function(){\n",
       "                            \n",
       "var gd = document.getElementById('b3a3e09d-b991-4d2e-9cd7-ffd653ed019e');\n",
       "var x = new MutationObserver(function (mutations, observer) {{\n",
       "        var display = window.getComputedStyle(gd).display;\n",
       "        if (!display || display === 'none') {{\n",
       "            console.log([gd, 'removed!']);\n",
       "            Plotly.purge(gd);\n",
       "            observer.disconnect();\n",
       "        }}\n",
       "}});\n",
       "\n",
       "// Listen for the removal of the full notebook cells\n",
       "var notebookContainer = gd.closest('#notebook-container');\n",
       "if (notebookContainer) {{\n",
       "    x.observe(notebookContainer, {childList: true});\n",
       "}}\n",
       "\n",
       "// Listen for the clearing of the current output cell\n",
       "var outputEl = gd.closest('.output');\n",
       "if (outputEl) {{\n",
       "    x.observe(outputEl, {childList: true});\n",
       "}}\n",
       "\n",
       "                        })                };                });            </script>        </div>"
      ]
     },
     "metadata": {},
     "output_type": "display_data"
    }
   ],
   "source": [
    "fig = px.histogram(subjects_df, x=\"YearsSinceDx\", nbins=30, color_discrete_sequence=['goldenrod'])\n",
    "fig.show()"
   ]
  },
  {
   "cell_type": "markdown",
   "metadata": {},
   "source": [
    "<p style=\"font-family: consolas; font-size: 16px;\">❔ What is the distibution of the field <code>UPDRSIII_On</code>.</p>"
   ]
  },
  {
   "cell_type": "code",
   "execution_count": 64,
   "metadata": {
    "execution": {
     "iopub.execute_input": "2023-07-14T02:26:32.905222Z",
     "iopub.status.busy": "2023-07-14T02:26:32.904826Z",
     "iopub.status.idle": "2023-07-14T02:26:32.979686Z",
     "shell.execute_reply": "2023-07-14T02:26:32.978087Z",
     "shell.execute_reply.started": "2023-07-14T02:26:32.905183Z"
    }
   },
   "outputs": [
    {
     "data": {
      "text/html": [
       "<div>                            <div id=\"b4b1af91-865b-4510-8eec-5f196e85ac73\" class=\"plotly-graph-div\" style=\"height:525px; width:100%;\"></div>            <script type=\"text/javascript\">                require([\"plotly\"], function(Plotly) {                    window.PLOTLYENV=window.PLOTLYENV || {};                                    if (document.getElementById(\"b4b1af91-865b-4510-8eec-5f196e85ac73\")) {                    Plotly.newPlot(                        \"b4b1af91-865b-4510-8eec-5f196e85ac73\",                        [{\"alignmentgroup\":\"True\",\"bingroup\":\"x\",\"hovertemplate\":\"UPDRSIII_On=%{x}<br>count=%{y}<extra></extra>\",\"legendgroup\":\"\",\"marker\":{\"color\":\"goldenrod\",\"pattern\":{\"shape\":\"\"}},\"name\":\"\",\"nbinsx\":30,\"offsetgroup\":\"\",\"orientation\":\"v\",\"showlegend\":false,\"x\":[43.0,31.0,21.0,52.0,47.0,44.0,18.0,45.0,47.0,38.0,22.0,21.0,38.0,51.0,31.0,null,72.0,57.0,43.0,40.0,25.0,21.0,38.0,32.0,27.0,14.0,48.0,37.0,36.0,25.0,25.0,28.0,31.0,16.0,37.0,35.0,30.0,46.0,15.0,44.0,39.0,38.0,34.0,26.0,34.0,24.0,29.0,16.0,23.0,35.0,51.0,37.0,42.0,45.0,42.0,17.0,38.0,20.0,17.0,38.0,22.0,21.0,24.0,27.0,54.0,31.0,34.0,15.0,79.0,35.0,13.0,32.0,38.0,37.0,30.0,28.0,43.0,46.0,47.0,27.0,33.0,27.0,27.0,33.0,34.0,56.0,33.0,36.0,20.0,31.0,27.0,23.0,25.0,37.0,10.0,21.0,16.0,19.0,19.0,46.0,20.0,27.0,44.0,44.0,35.0,47.0,45.0,23.0,36.0,39.0,38.0,49.0,72.0,40.0,64.0,35.0,37.0,14.0,42.0,27.0,48.0,43.0,23.0,25.0,33.0,30.0,22.0,21.0,15.0,14.0,26.0,41.0,54.0,20.0,33.0,32.0,67.0,37.0,35.0,36.0,52.0,39.0,44.0,30.0,21.0,50.0,37.0,41.0,39.0,42.0,11.0,43.0,26.0,18.0,38.0,5.0,52.0,38.0,56.0,47.0,41.0,42.0,36.0,36.0,52.0,43.0,42.0,44.0,12.0,30.0,28.0,27.0,28.0],\"xaxis\":\"x\",\"yaxis\":\"y\",\"type\":\"histogram\"}],                        {\"template\":{\"data\":{\"histogram2dcontour\":[{\"type\":\"histogram2dcontour\",\"colorbar\":{\"outlinewidth\":0,\"ticks\":\"\"},\"colorscale\":[[0.0,\"#0d0887\"],[0.1111111111111111,\"#46039f\"],[0.2222222222222222,\"#7201a8\"],[0.3333333333333333,\"#9c179e\"],[0.4444444444444444,\"#bd3786\"],[0.5555555555555556,\"#d8576b\"],[0.6666666666666666,\"#ed7953\"],[0.7777777777777778,\"#fb9f3a\"],[0.8888888888888888,\"#fdca26\"],[1.0,\"#f0f921\"]]}],\"choropleth\":[{\"type\":\"choropleth\",\"colorbar\":{\"outlinewidth\":0,\"ticks\":\"\"}}],\"histogram2d\":[{\"type\":\"histogram2d\",\"colorbar\":{\"outlinewidth\":0,\"ticks\":\"\"},\"colorscale\":[[0.0,\"#0d0887\"],[0.1111111111111111,\"#46039f\"],[0.2222222222222222,\"#7201a8\"],[0.3333333333333333,\"#9c179e\"],[0.4444444444444444,\"#bd3786\"],[0.5555555555555556,\"#d8576b\"],[0.6666666666666666,\"#ed7953\"],[0.7777777777777778,\"#fb9f3a\"],[0.8888888888888888,\"#fdca26\"],[1.0,\"#f0f921\"]]}],\"heatmap\":[{\"type\":\"heatmap\",\"colorbar\":{\"outlinewidth\":0,\"ticks\":\"\"},\"colorscale\":[[0.0,\"#0d0887\"],[0.1111111111111111,\"#46039f\"],[0.2222222222222222,\"#7201a8\"],[0.3333333333333333,\"#9c179e\"],[0.4444444444444444,\"#bd3786\"],[0.5555555555555556,\"#d8576b\"],[0.6666666666666666,\"#ed7953\"],[0.7777777777777778,\"#fb9f3a\"],[0.8888888888888888,\"#fdca26\"],[1.0,\"#f0f921\"]]}],\"heatmapgl\":[{\"type\":\"heatmapgl\",\"colorbar\":{\"outlinewidth\":0,\"ticks\":\"\"},\"colorscale\":[[0.0,\"#0d0887\"],[0.1111111111111111,\"#46039f\"],[0.2222222222222222,\"#7201a8\"],[0.3333333333333333,\"#9c179e\"],[0.4444444444444444,\"#bd3786\"],[0.5555555555555556,\"#d8576b\"],[0.6666666666666666,\"#ed7953\"],[0.7777777777777778,\"#fb9f3a\"],[0.8888888888888888,\"#fdca26\"],[1.0,\"#f0f921\"]]}],\"contourcarpet\":[{\"type\":\"contourcarpet\",\"colorbar\":{\"outlinewidth\":0,\"ticks\":\"\"}}],\"contour\":[{\"type\":\"contour\",\"colorbar\":{\"outlinewidth\":0,\"ticks\":\"\"},\"colorscale\":[[0.0,\"#0d0887\"],[0.1111111111111111,\"#46039f\"],[0.2222222222222222,\"#7201a8\"],[0.3333333333333333,\"#9c179e\"],[0.4444444444444444,\"#bd3786\"],[0.5555555555555556,\"#d8576b\"],[0.6666666666666666,\"#ed7953\"],[0.7777777777777778,\"#fb9f3a\"],[0.8888888888888888,\"#fdca26\"],[1.0,\"#f0f921\"]]}],\"surface\":[{\"type\":\"surface\",\"colorbar\":{\"outlinewidth\":0,\"ticks\":\"\"},\"colorscale\":[[0.0,\"#0d0887\"],[0.1111111111111111,\"#46039f\"],[0.2222222222222222,\"#7201a8\"],[0.3333333333333333,\"#9c179e\"],[0.4444444444444444,\"#bd3786\"],[0.5555555555555556,\"#d8576b\"],[0.6666666666666666,\"#ed7953\"],[0.7777777777777778,\"#fb9f3a\"],[0.8888888888888888,\"#fdca26\"],[1.0,\"#f0f921\"]]}],\"mesh3d\":[{\"type\":\"mesh3d\",\"colorbar\":{\"outlinewidth\":0,\"ticks\":\"\"}}],\"scatter\":[{\"fillpattern\":{\"fillmode\":\"overlay\",\"size\":10,\"solidity\":0.2},\"type\":\"scatter\"}],\"parcoords\":[{\"type\":\"parcoords\",\"line\":{\"colorbar\":{\"outlinewidth\":0,\"ticks\":\"\"}}}],\"scatterpolargl\":[{\"type\":\"scatterpolargl\",\"marker\":{\"colorbar\":{\"outlinewidth\":0,\"ticks\":\"\"}}}],\"bar\":[{\"error_x\":{\"color\":\"#2a3f5f\"},\"error_y\":{\"color\":\"#2a3f5f\"},\"marker\":{\"line\":{\"color\":\"#E5ECF6\",\"width\":0.5},\"pattern\":{\"fillmode\":\"overlay\",\"size\":10,\"solidity\":0.2}},\"type\":\"bar\"}],\"scattergeo\":[{\"type\":\"scattergeo\",\"marker\":{\"colorbar\":{\"outlinewidth\":0,\"ticks\":\"\"}}}],\"scatterpolar\":[{\"type\":\"scatterpolar\",\"marker\":{\"colorbar\":{\"outlinewidth\":0,\"ticks\":\"\"}}}],\"histogram\":[{\"marker\":{\"pattern\":{\"fillmode\":\"overlay\",\"size\":10,\"solidity\":0.2}},\"type\":\"histogram\"}],\"scattergl\":[{\"type\":\"scattergl\",\"marker\":{\"colorbar\":{\"outlinewidth\":0,\"ticks\":\"\"}}}],\"scatter3d\":[{\"type\":\"scatter3d\",\"line\":{\"colorbar\":{\"outlinewidth\":0,\"ticks\":\"\"}},\"marker\":{\"colorbar\":{\"outlinewidth\":0,\"ticks\":\"\"}}}],\"scattermapbox\":[{\"type\":\"scattermapbox\",\"marker\":{\"colorbar\":{\"outlinewidth\":0,\"ticks\":\"\"}}}],\"scatterternary\":[{\"type\":\"scatterternary\",\"marker\":{\"colorbar\":{\"outlinewidth\":0,\"ticks\":\"\"}}}],\"scattercarpet\":[{\"type\":\"scattercarpet\",\"marker\":{\"colorbar\":{\"outlinewidth\":0,\"ticks\":\"\"}}}],\"carpet\":[{\"aaxis\":{\"endlinecolor\":\"#2a3f5f\",\"gridcolor\":\"white\",\"linecolor\":\"white\",\"minorgridcolor\":\"white\",\"startlinecolor\":\"#2a3f5f\"},\"baxis\":{\"endlinecolor\":\"#2a3f5f\",\"gridcolor\":\"white\",\"linecolor\":\"white\",\"minorgridcolor\":\"white\",\"startlinecolor\":\"#2a3f5f\"},\"type\":\"carpet\"}],\"table\":[{\"cells\":{\"fill\":{\"color\":\"#EBF0F8\"},\"line\":{\"color\":\"white\"}},\"header\":{\"fill\":{\"color\":\"#C8D4E3\"},\"line\":{\"color\":\"white\"}},\"type\":\"table\"}],\"barpolar\":[{\"marker\":{\"line\":{\"color\":\"#E5ECF6\",\"width\":0.5},\"pattern\":{\"fillmode\":\"overlay\",\"size\":10,\"solidity\":0.2}},\"type\":\"barpolar\"}],\"pie\":[{\"automargin\":true,\"type\":\"pie\"}]},\"layout\":{\"autotypenumbers\":\"strict\",\"colorway\":[\"#636efa\",\"#EF553B\",\"#00cc96\",\"#ab63fa\",\"#FFA15A\",\"#19d3f3\",\"#FF6692\",\"#B6E880\",\"#FF97FF\",\"#FECB52\"],\"font\":{\"color\":\"#2a3f5f\"},\"hovermode\":\"closest\",\"hoverlabel\":{\"align\":\"left\"},\"paper_bgcolor\":\"white\",\"plot_bgcolor\":\"#E5ECF6\",\"polar\":{\"bgcolor\":\"#E5ECF6\",\"angularaxis\":{\"gridcolor\":\"white\",\"linecolor\":\"white\",\"ticks\":\"\"},\"radialaxis\":{\"gridcolor\":\"white\",\"linecolor\":\"white\",\"ticks\":\"\"}},\"ternary\":{\"bgcolor\":\"#E5ECF6\",\"aaxis\":{\"gridcolor\":\"white\",\"linecolor\":\"white\",\"ticks\":\"\"},\"baxis\":{\"gridcolor\":\"white\",\"linecolor\":\"white\",\"ticks\":\"\"},\"caxis\":{\"gridcolor\":\"white\",\"linecolor\":\"white\",\"ticks\":\"\"}},\"coloraxis\":{\"colorbar\":{\"outlinewidth\":0,\"ticks\":\"\"}},\"colorscale\":{\"sequential\":[[0.0,\"#0d0887\"],[0.1111111111111111,\"#46039f\"],[0.2222222222222222,\"#7201a8\"],[0.3333333333333333,\"#9c179e\"],[0.4444444444444444,\"#bd3786\"],[0.5555555555555556,\"#d8576b\"],[0.6666666666666666,\"#ed7953\"],[0.7777777777777778,\"#fb9f3a\"],[0.8888888888888888,\"#fdca26\"],[1.0,\"#f0f921\"]],\"sequentialminus\":[[0.0,\"#0d0887\"],[0.1111111111111111,\"#46039f\"],[0.2222222222222222,\"#7201a8\"],[0.3333333333333333,\"#9c179e\"],[0.4444444444444444,\"#bd3786\"],[0.5555555555555556,\"#d8576b\"],[0.6666666666666666,\"#ed7953\"],[0.7777777777777778,\"#fb9f3a\"],[0.8888888888888888,\"#fdca26\"],[1.0,\"#f0f921\"]],\"diverging\":[[0,\"#8e0152\"],[0.1,\"#c51b7d\"],[0.2,\"#de77ae\"],[0.3,\"#f1b6da\"],[0.4,\"#fde0ef\"],[0.5,\"#f7f7f7\"],[0.6,\"#e6f5d0\"],[0.7,\"#b8e186\"],[0.8,\"#7fbc41\"],[0.9,\"#4d9221\"],[1,\"#276419\"]]},\"xaxis\":{\"gridcolor\":\"white\",\"linecolor\":\"white\",\"ticks\":\"\",\"title\":{\"standoff\":15},\"zerolinecolor\":\"white\",\"automargin\":true,\"zerolinewidth\":2},\"yaxis\":{\"gridcolor\":\"white\",\"linecolor\":\"white\",\"ticks\":\"\",\"title\":{\"standoff\":15},\"zerolinecolor\":\"white\",\"automargin\":true,\"zerolinewidth\":2},\"scene\":{\"xaxis\":{\"backgroundcolor\":\"#E5ECF6\",\"gridcolor\":\"white\",\"linecolor\":\"white\",\"showbackground\":true,\"ticks\":\"\",\"zerolinecolor\":\"white\",\"gridwidth\":2},\"yaxis\":{\"backgroundcolor\":\"#E5ECF6\",\"gridcolor\":\"white\",\"linecolor\":\"white\",\"showbackground\":true,\"ticks\":\"\",\"zerolinecolor\":\"white\",\"gridwidth\":2},\"zaxis\":{\"backgroundcolor\":\"#E5ECF6\",\"gridcolor\":\"white\",\"linecolor\":\"white\",\"showbackground\":true,\"ticks\":\"\",\"zerolinecolor\":\"white\",\"gridwidth\":2}},\"shapedefaults\":{\"line\":{\"color\":\"#2a3f5f\"}},\"annotationdefaults\":{\"arrowcolor\":\"#2a3f5f\",\"arrowhead\":0,\"arrowwidth\":1},\"geo\":{\"bgcolor\":\"white\",\"landcolor\":\"#E5ECF6\",\"subunitcolor\":\"white\",\"showland\":true,\"showlakes\":true,\"lakecolor\":\"white\"},\"title\":{\"x\":0.05},\"mapbox\":{\"style\":\"light\"}}},\"xaxis\":{\"anchor\":\"y\",\"domain\":[0.0,1.0],\"title\":{\"text\":\"UPDRSIII_On\"}},\"yaxis\":{\"anchor\":\"x\",\"domain\":[0.0,1.0],\"title\":{\"text\":\"count\"}},\"legend\":{\"tracegroupgap\":0},\"margin\":{\"t\":60},\"barmode\":\"relative\"},                        {\"responsive\": true}                    ).then(function(){\n",
       "                            \n",
       "var gd = document.getElementById('b4b1af91-865b-4510-8eec-5f196e85ac73');\n",
       "var x = new MutationObserver(function (mutations, observer) {{\n",
       "        var display = window.getComputedStyle(gd).display;\n",
       "        if (!display || display === 'none') {{\n",
       "            console.log([gd, 'removed!']);\n",
       "            Plotly.purge(gd);\n",
       "            observer.disconnect();\n",
       "        }}\n",
       "}});\n",
       "\n",
       "// Listen for the removal of the full notebook cells\n",
       "var notebookContainer = gd.closest('#notebook-container');\n",
       "if (notebookContainer) {{\n",
       "    x.observe(notebookContainer, {childList: true});\n",
       "}}\n",
       "\n",
       "// Listen for the clearing of the current output cell\n",
       "var outputEl = gd.closest('.output');\n",
       "if (outputEl) {{\n",
       "    x.observe(outputEl, {childList: true});\n",
       "}}\n",
       "\n",
       "                        })                };                });            </script>        </div>"
      ]
     },
     "metadata": {},
     "output_type": "display_data"
    }
   ],
   "source": [
    "fig = px.histogram(subjects_df, x=\"UPDRSIII_On\", nbins=30, color_discrete_sequence=['goldenrod'])\n",
    "fig.show()"
   ]
  },
  {
   "cell_type": "markdown",
   "metadata": {},
   "source": [
    "<p style=\"font-family: consolas; font-size: 16px;\">❔ What is the distibution of the field <code>NFOGQ</code>.</p>"
   ]
  },
  {
   "cell_type": "code",
   "execution_count": 65,
   "metadata": {
    "execution": {
     "iopub.execute_input": "2023-07-14T02:26:32.982967Z",
     "iopub.status.busy": "2023-07-14T02:26:32.981667Z",
     "iopub.status.idle": "2023-07-14T02:26:33.058968Z",
     "shell.execute_reply": "2023-07-14T02:26:33.057663Z",
     "shell.execute_reply.started": "2023-07-14T02:26:32.982902Z"
    }
   },
   "outputs": [
    {
     "data": {
      "text/html": [
       "<div>                            <div id=\"573ff157-2f17-4877-a432-736a1f413a2a\" class=\"plotly-graph-div\" style=\"height:525px; width:100%;\"></div>            <script type=\"text/javascript\">                require([\"plotly\"], function(Plotly) {                    window.PLOTLYENV=window.PLOTLYENV || {};                                    if (document.getElementById(\"573ff157-2f17-4877-a432-736a1f413a2a\")) {                    Plotly.newPlot(                        \"573ff157-2f17-4877-a432-736a1f413a2a\",                        [{\"alignmentgroup\":\"True\",\"bingroup\":\"x\",\"hovertemplate\":\"NFOGQ=%{x}<br>count=%{y}<extra></extra>\",\"legendgroup\":\"\",\"marker\":{\"color\":\"goldenrod\",\"pattern\":{\"shape\":\"\"}},\"name\":\"\",\"nbinsx\":20,\"offsetgroup\":\"\",\"orientation\":\"v\",\"showlegend\":false,\"x\":[24,26,22,21,24,22,10,24,17,22,19,20,21,18,0,29,21,24,25,11,16,21,23,18,19,0,18,21,0,17,14,17,20,21,15,19,20,25,17,22,13,13,21,16,20,20,21,16,22,26,24,24,16,13,18,0,21,23,15,21,22,20,12,20,25,11,21,6,24,26,15,17,19,13,0,0,26,19,21,20,0,0,18,22,23,17,28,28,12,24,22,16,0,20,0,12,11,17,17,21,20,15,10,0,19,22,22,0,22,18,13,14,0,19,0,19,18,0,21,19,24,27,16,15,25,24,12,19,23,19,0,20,21,0,10,14,21,20,19,20,12,17,19,22,20,20,20,20,10,23,0,20,19,20,19,0,28,28,26,22,21,25,17,19,18,15,24,24,0,19,0,23,21],\"xaxis\":\"x\",\"yaxis\":\"y\",\"type\":\"histogram\"}],                        {\"template\":{\"data\":{\"histogram2dcontour\":[{\"type\":\"histogram2dcontour\",\"colorbar\":{\"outlinewidth\":0,\"ticks\":\"\"},\"colorscale\":[[0.0,\"#0d0887\"],[0.1111111111111111,\"#46039f\"],[0.2222222222222222,\"#7201a8\"],[0.3333333333333333,\"#9c179e\"],[0.4444444444444444,\"#bd3786\"],[0.5555555555555556,\"#d8576b\"],[0.6666666666666666,\"#ed7953\"],[0.7777777777777778,\"#fb9f3a\"],[0.8888888888888888,\"#fdca26\"],[1.0,\"#f0f921\"]]}],\"choropleth\":[{\"type\":\"choropleth\",\"colorbar\":{\"outlinewidth\":0,\"ticks\":\"\"}}],\"histogram2d\":[{\"type\":\"histogram2d\",\"colorbar\":{\"outlinewidth\":0,\"ticks\":\"\"},\"colorscale\":[[0.0,\"#0d0887\"],[0.1111111111111111,\"#46039f\"],[0.2222222222222222,\"#7201a8\"],[0.3333333333333333,\"#9c179e\"],[0.4444444444444444,\"#bd3786\"],[0.5555555555555556,\"#d8576b\"],[0.6666666666666666,\"#ed7953\"],[0.7777777777777778,\"#fb9f3a\"],[0.8888888888888888,\"#fdca26\"],[1.0,\"#f0f921\"]]}],\"heatmap\":[{\"type\":\"heatmap\",\"colorbar\":{\"outlinewidth\":0,\"ticks\":\"\"},\"colorscale\":[[0.0,\"#0d0887\"],[0.1111111111111111,\"#46039f\"],[0.2222222222222222,\"#7201a8\"],[0.3333333333333333,\"#9c179e\"],[0.4444444444444444,\"#bd3786\"],[0.5555555555555556,\"#d8576b\"],[0.6666666666666666,\"#ed7953\"],[0.7777777777777778,\"#fb9f3a\"],[0.8888888888888888,\"#fdca26\"],[1.0,\"#f0f921\"]]}],\"heatmapgl\":[{\"type\":\"heatmapgl\",\"colorbar\":{\"outlinewidth\":0,\"ticks\":\"\"},\"colorscale\":[[0.0,\"#0d0887\"],[0.1111111111111111,\"#46039f\"],[0.2222222222222222,\"#7201a8\"],[0.3333333333333333,\"#9c179e\"],[0.4444444444444444,\"#bd3786\"],[0.5555555555555556,\"#d8576b\"],[0.6666666666666666,\"#ed7953\"],[0.7777777777777778,\"#fb9f3a\"],[0.8888888888888888,\"#fdca26\"],[1.0,\"#f0f921\"]]}],\"contourcarpet\":[{\"type\":\"contourcarpet\",\"colorbar\":{\"outlinewidth\":0,\"ticks\":\"\"}}],\"contour\":[{\"type\":\"contour\",\"colorbar\":{\"outlinewidth\":0,\"ticks\":\"\"},\"colorscale\":[[0.0,\"#0d0887\"],[0.1111111111111111,\"#46039f\"],[0.2222222222222222,\"#7201a8\"],[0.3333333333333333,\"#9c179e\"],[0.4444444444444444,\"#bd3786\"],[0.5555555555555556,\"#d8576b\"],[0.6666666666666666,\"#ed7953\"],[0.7777777777777778,\"#fb9f3a\"],[0.8888888888888888,\"#fdca26\"],[1.0,\"#f0f921\"]]}],\"surface\":[{\"type\":\"surface\",\"colorbar\":{\"outlinewidth\":0,\"ticks\":\"\"},\"colorscale\":[[0.0,\"#0d0887\"],[0.1111111111111111,\"#46039f\"],[0.2222222222222222,\"#7201a8\"],[0.3333333333333333,\"#9c179e\"],[0.4444444444444444,\"#bd3786\"],[0.5555555555555556,\"#d8576b\"],[0.6666666666666666,\"#ed7953\"],[0.7777777777777778,\"#fb9f3a\"],[0.8888888888888888,\"#fdca26\"],[1.0,\"#f0f921\"]]}],\"mesh3d\":[{\"type\":\"mesh3d\",\"colorbar\":{\"outlinewidth\":0,\"ticks\":\"\"}}],\"scatter\":[{\"fillpattern\":{\"fillmode\":\"overlay\",\"size\":10,\"solidity\":0.2},\"type\":\"scatter\"}],\"parcoords\":[{\"type\":\"parcoords\",\"line\":{\"colorbar\":{\"outlinewidth\":0,\"ticks\":\"\"}}}],\"scatterpolargl\":[{\"type\":\"scatterpolargl\",\"marker\":{\"colorbar\":{\"outlinewidth\":0,\"ticks\":\"\"}}}],\"bar\":[{\"error_x\":{\"color\":\"#2a3f5f\"},\"error_y\":{\"color\":\"#2a3f5f\"},\"marker\":{\"line\":{\"color\":\"#E5ECF6\",\"width\":0.5},\"pattern\":{\"fillmode\":\"overlay\",\"size\":10,\"solidity\":0.2}},\"type\":\"bar\"}],\"scattergeo\":[{\"type\":\"scattergeo\",\"marker\":{\"colorbar\":{\"outlinewidth\":0,\"ticks\":\"\"}}}],\"scatterpolar\":[{\"type\":\"scatterpolar\",\"marker\":{\"colorbar\":{\"outlinewidth\":0,\"ticks\":\"\"}}}],\"histogram\":[{\"marker\":{\"pattern\":{\"fillmode\":\"overlay\",\"size\":10,\"solidity\":0.2}},\"type\":\"histogram\"}],\"scattergl\":[{\"type\":\"scattergl\",\"marker\":{\"colorbar\":{\"outlinewidth\":0,\"ticks\":\"\"}}}],\"scatter3d\":[{\"type\":\"scatter3d\",\"line\":{\"colorbar\":{\"outlinewidth\":0,\"ticks\":\"\"}},\"marker\":{\"colorbar\":{\"outlinewidth\":0,\"ticks\":\"\"}}}],\"scattermapbox\":[{\"type\":\"scattermapbox\",\"marker\":{\"colorbar\":{\"outlinewidth\":0,\"ticks\":\"\"}}}],\"scatterternary\":[{\"type\":\"scatterternary\",\"marker\":{\"colorbar\":{\"outlinewidth\":0,\"ticks\":\"\"}}}],\"scattercarpet\":[{\"type\":\"scattercarpet\",\"marker\":{\"colorbar\":{\"outlinewidth\":0,\"ticks\":\"\"}}}],\"carpet\":[{\"aaxis\":{\"endlinecolor\":\"#2a3f5f\",\"gridcolor\":\"white\",\"linecolor\":\"white\",\"minorgridcolor\":\"white\",\"startlinecolor\":\"#2a3f5f\"},\"baxis\":{\"endlinecolor\":\"#2a3f5f\",\"gridcolor\":\"white\",\"linecolor\":\"white\",\"minorgridcolor\":\"white\",\"startlinecolor\":\"#2a3f5f\"},\"type\":\"carpet\"}],\"table\":[{\"cells\":{\"fill\":{\"color\":\"#EBF0F8\"},\"line\":{\"color\":\"white\"}},\"header\":{\"fill\":{\"color\":\"#C8D4E3\"},\"line\":{\"color\":\"white\"}},\"type\":\"table\"}],\"barpolar\":[{\"marker\":{\"line\":{\"color\":\"#E5ECF6\",\"width\":0.5},\"pattern\":{\"fillmode\":\"overlay\",\"size\":10,\"solidity\":0.2}},\"type\":\"barpolar\"}],\"pie\":[{\"automargin\":true,\"type\":\"pie\"}]},\"layout\":{\"autotypenumbers\":\"strict\",\"colorway\":[\"#636efa\",\"#EF553B\",\"#00cc96\",\"#ab63fa\",\"#FFA15A\",\"#19d3f3\",\"#FF6692\",\"#B6E880\",\"#FF97FF\",\"#FECB52\"],\"font\":{\"color\":\"#2a3f5f\"},\"hovermode\":\"closest\",\"hoverlabel\":{\"align\":\"left\"},\"paper_bgcolor\":\"white\",\"plot_bgcolor\":\"#E5ECF6\",\"polar\":{\"bgcolor\":\"#E5ECF6\",\"angularaxis\":{\"gridcolor\":\"white\",\"linecolor\":\"white\",\"ticks\":\"\"},\"radialaxis\":{\"gridcolor\":\"white\",\"linecolor\":\"white\",\"ticks\":\"\"}},\"ternary\":{\"bgcolor\":\"#E5ECF6\",\"aaxis\":{\"gridcolor\":\"white\",\"linecolor\":\"white\",\"ticks\":\"\"},\"baxis\":{\"gridcolor\":\"white\",\"linecolor\":\"white\",\"ticks\":\"\"},\"caxis\":{\"gridcolor\":\"white\",\"linecolor\":\"white\",\"ticks\":\"\"}},\"coloraxis\":{\"colorbar\":{\"outlinewidth\":0,\"ticks\":\"\"}},\"colorscale\":{\"sequential\":[[0.0,\"#0d0887\"],[0.1111111111111111,\"#46039f\"],[0.2222222222222222,\"#7201a8\"],[0.3333333333333333,\"#9c179e\"],[0.4444444444444444,\"#bd3786\"],[0.5555555555555556,\"#d8576b\"],[0.6666666666666666,\"#ed7953\"],[0.7777777777777778,\"#fb9f3a\"],[0.8888888888888888,\"#fdca26\"],[1.0,\"#f0f921\"]],\"sequentialminus\":[[0.0,\"#0d0887\"],[0.1111111111111111,\"#46039f\"],[0.2222222222222222,\"#7201a8\"],[0.3333333333333333,\"#9c179e\"],[0.4444444444444444,\"#bd3786\"],[0.5555555555555556,\"#d8576b\"],[0.6666666666666666,\"#ed7953\"],[0.7777777777777778,\"#fb9f3a\"],[0.8888888888888888,\"#fdca26\"],[1.0,\"#f0f921\"]],\"diverging\":[[0,\"#8e0152\"],[0.1,\"#c51b7d\"],[0.2,\"#de77ae\"],[0.3,\"#f1b6da\"],[0.4,\"#fde0ef\"],[0.5,\"#f7f7f7\"],[0.6,\"#e6f5d0\"],[0.7,\"#b8e186\"],[0.8,\"#7fbc41\"],[0.9,\"#4d9221\"],[1,\"#276419\"]]},\"xaxis\":{\"gridcolor\":\"white\",\"linecolor\":\"white\",\"ticks\":\"\",\"title\":{\"standoff\":15},\"zerolinecolor\":\"white\",\"automargin\":true,\"zerolinewidth\":2},\"yaxis\":{\"gridcolor\":\"white\",\"linecolor\":\"white\",\"ticks\":\"\",\"title\":{\"standoff\":15},\"zerolinecolor\":\"white\",\"automargin\":true,\"zerolinewidth\":2},\"scene\":{\"xaxis\":{\"backgroundcolor\":\"#E5ECF6\",\"gridcolor\":\"white\",\"linecolor\":\"white\",\"showbackground\":true,\"ticks\":\"\",\"zerolinecolor\":\"white\",\"gridwidth\":2},\"yaxis\":{\"backgroundcolor\":\"#E5ECF6\",\"gridcolor\":\"white\",\"linecolor\":\"white\",\"showbackground\":true,\"ticks\":\"\",\"zerolinecolor\":\"white\",\"gridwidth\":2},\"zaxis\":{\"backgroundcolor\":\"#E5ECF6\",\"gridcolor\":\"white\",\"linecolor\":\"white\",\"showbackground\":true,\"ticks\":\"\",\"zerolinecolor\":\"white\",\"gridwidth\":2}},\"shapedefaults\":{\"line\":{\"color\":\"#2a3f5f\"}},\"annotationdefaults\":{\"arrowcolor\":\"#2a3f5f\",\"arrowhead\":0,\"arrowwidth\":1},\"geo\":{\"bgcolor\":\"white\",\"landcolor\":\"#E5ECF6\",\"subunitcolor\":\"white\",\"showland\":true,\"showlakes\":true,\"lakecolor\":\"white\"},\"title\":{\"x\":0.05},\"mapbox\":{\"style\":\"light\"}}},\"xaxis\":{\"anchor\":\"y\",\"domain\":[0.0,1.0],\"title\":{\"text\":\"NFOGQ\"}},\"yaxis\":{\"anchor\":\"x\",\"domain\":[0.0,1.0],\"title\":{\"text\":\"count\"}},\"legend\":{\"tracegroupgap\":0},\"margin\":{\"t\":60},\"barmode\":\"relative\"},                        {\"responsive\": true}                    ).then(function(){\n",
       "                            \n",
       "var gd = document.getElementById('573ff157-2f17-4877-a432-736a1f413a2a');\n",
       "var x = new MutationObserver(function (mutations, observer) {{\n",
       "        var display = window.getComputedStyle(gd).display;\n",
       "        if (!display || display === 'none') {{\n",
       "            console.log([gd, 'removed!']);\n",
       "            Plotly.purge(gd);\n",
       "            observer.disconnect();\n",
       "        }}\n",
       "}});\n",
       "\n",
       "// Listen for the removal of the full notebook cells\n",
       "var notebookContainer = gd.closest('#notebook-container');\n",
       "if (notebookContainer) {{\n",
       "    x.observe(notebookContainer, {childList: true});\n",
       "}}\n",
       "\n",
       "// Listen for the clearing of the current output cell\n",
       "var outputEl = gd.closest('.output');\n",
       "if (outputEl) {{\n",
       "    x.observe(outputEl, {childList: true});\n",
       "}}\n",
       "\n",
       "                        })                };                });            </script>        </div>"
      ]
     },
     "metadata": {},
     "output_type": "display_data"
    }
   ],
   "source": [
    "fig = px.histogram(subjects_df, x=\"NFOGQ\", nbins=20, color_discrete_sequence=['goldenrod'])\n",
    "fig.show()"
   ]
  },
  {
   "cell_type": "markdown",
   "metadata": {},
   "source": [
    "<p style=\"font-family: consolas; font-size: 16px;\">❔ How is the correlation matrix for the data looks like.</p>"
   ]
  },
  {
   "cell_type": "code",
   "execution_count": 66,
   "metadata": {
    "execution": {
     "iopub.execute_input": "2023-07-14T02:26:33.061770Z",
     "iopub.status.busy": "2023-07-14T02:26:33.061198Z",
     "iopub.status.idle": "2023-07-14T02:26:33.136382Z",
     "shell.execute_reply": "2023-07-14T02:26:33.135397Z",
     "shell.execute_reply.started": "2023-07-14T02:26:33.061712Z"
    }
   },
   "outputs": [
    {
     "data": {
      "text/html": [
       "<div>                            <div id=\"5874f180-494c-4211-80d0-def40a922d9a\" class=\"plotly-graph-div\" style=\"height:525px; width:100%;\"></div>            <script type=\"text/javascript\">                require([\"plotly\"], function(Plotly) {                    window.PLOTLYENV=window.PLOTLYENV || {};                                    if (document.getElementById(\"5874f180-494c-4211-80d0-def40a922d9a\")) {                    Plotly.newPlot(                        \"5874f180-494c-4211-80d0-def40a922d9a\",                        [{\"coloraxis\":\"coloraxis\",\"name\":\"0\",\"texttemplate\":\"%{z}\",\"x\":[\"Visit\",\"Age\",\"YearsSinceDx\",\"UPDRSIII_On\",\"UPDRSIII_Off\",\"NFOGQ\"],\"y\":[\"Visit\",\"Age\",\"YearsSinceDx\",\"UPDRSIII_On\",\"UPDRSIII_Off\",\"NFOGQ\"],\"z\":[[1.0,0.053,0.108,0.083,-0.047,0.228],[0.053,1.0,0.038,0.234,0.121,0.053],[0.108,0.038,1.0,0.297,0.27,0.283],[0.083,0.234,0.297,1.0,0.646,0.316],[-0.047,0.121,0.27,0.646,1.0,0.237],[0.228,0.053,0.283,0.316,0.237,1.0]],\"type\":\"heatmap\",\"xaxis\":\"x\",\"yaxis\":\"y\",\"hovertemplate\":\"x: %{x}<br>y: %{y}<br>color: %{z}<extra></extra>\"}],                        {\"template\":{\"data\":{\"histogram2dcontour\":[{\"type\":\"histogram2dcontour\",\"colorbar\":{\"outlinewidth\":0,\"ticks\":\"\"},\"colorscale\":[[0.0,\"#0d0887\"],[0.1111111111111111,\"#46039f\"],[0.2222222222222222,\"#7201a8\"],[0.3333333333333333,\"#9c179e\"],[0.4444444444444444,\"#bd3786\"],[0.5555555555555556,\"#d8576b\"],[0.6666666666666666,\"#ed7953\"],[0.7777777777777778,\"#fb9f3a\"],[0.8888888888888888,\"#fdca26\"],[1.0,\"#f0f921\"]]}],\"choropleth\":[{\"type\":\"choropleth\",\"colorbar\":{\"outlinewidth\":0,\"ticks\":\"\"}}],\"histogram2d\":[{\"type\":\"histogram2d\",\"colorbar\":{\"outlinewidth\":0,\"ticks\":\"\"},\"colorscale\":[[0.0,\"#0d0887\"],[0.1111111111111111,\"#46039f\"],[0.2222222222222222,\"#7201a8\"],[0.3333333333333333,\"#9c179e\"],[0.4444444444444444,\"#bd3786\"],[0.5555555555555556,\"#d8576b\"],[0.6666666666666666,\"#ed7953\"],[0.7777777777777778,\"#fb9f3a\"],[0.8888888888888888,\"#fdca26\"],[1.0,\"#f0f921\"]]}],\"heatmap\":[{\"type\":\"heatmap\",\"colorbar\":{\"outlinewidth\":0,\"ticks\":\"\"},\"colorscale\":[[0.0,\"#0d0887\"],[0.1111111111111111,\"#46039f\"],[0.2222222222222222,\"#7201a8\"],[0.3333333333333333,\"#9c179e\"],[0.4444444444444444,\"#bd3786\"],[0.5555555555555556,\"#d8576b\"],[0.6666666666666666,\"#ed7953\"],[0.7777777777777778,\"#fb9f3a\"],[0.8888888888888888,\"#fdca26\"],[1.0,\"#f0f921\"]]}],\"heatmapgl\":[{\"type\":\"heatmapgl\",\"colorbar\":{\"outlinewidth\":0,\"ticks\":\"\"},\"colorscale\":[[0.0,\"#0d0887\"],[0.1111111111111111,\"#46039f\"],[0.2222222222222222,\"#7201a8\"],[0.3333333333333333,\"#9c179e\"],[0.4444444444444444,\"#bd3786\"],[0.5555555555555556,\"#d8576b\"],[0.6666666666666666,\"#ed7953\"],[0.7777777777777778,\"#fb9f3a\"],[0.8888888888888888,\"#fdca26\"],[1.0,\"#f0f921\"]]}],\"contourcarpet\":[{\"type\":\"contourcarpet\",\"colorbar\":{\"outlinewidth\":0,\"ticks\":\"\"}}],\"contour\":[{\"type\":\"contour\",\"colorbar\":{\"outlinewidth\":0,\"ticks\":\"\"},\"colorscale\":[[0.0,\"#0d0887\"],[0.1111111111111111,\"#46039f\"],[0.2222222222222222,\"#7201a8\"],[0.3333333333333333,\"#9c179e\"],[0.4444444444444444,\"#bd3786\"],[0.5555555555555556,\"#d8576b\"],[0.6666666666666666,\"#ed7953\"],[0.7777777777777778,\"#fb9f3a\"],[0.8888888888888888,\"#fdca26\"],[1.0,\"#f0f921\"]]}],\"surface\":[{\"type\":\"surface\",\"colorbar\":{\"outlinewidth\":0,\"ticks\":\"\"},\"colorscale\":[[0.0,\"#0d0887\"],[0.1111111111111111,\"#46039f\"],[0.2222222222222222,\"#7201a8\"],[0.3333333333333333,\"#9c179e\"],[0.4444444444444444,\"#bd3786\"],[0.5555555555555556,\"#d8576b\"],[0.6666666666666666,\"#ed7953\"],[0.7777777777777778,\"#fb9f3a\"],[0.8888888888888888,\"#fdca26\"],[1.0,\"#f0f921\"]]}],\"mesh3d\":[{\"type\":\"mesh3d\",\"colorbar\":{\"outlinewidth\":0,\"ticks\":\"\"}}],\"scatter\":[{\"fillpattern\":{\"fillmode\":\"overlay\",\"size\":10,\"solidity\":0.2},\"type\":\"scatter\"}],\"parcoords\":[{\"type\":\"parcoords\",\"line\":{\"colorbar\":{\"outlinewidth\":0,\"ticks\":\"\"}}}],\"scatterpolargl\":[{\"type\":\"scatterpolargl\",\"marker\":{\"colorbar\":{\"outlinewidth\":0,\"ticks\":\"\"}}}],\"bar\":[{\"error_x\":{\"color\":\"#2a3f5f\"},\"error_y\":{\"color\":\"#2a3f5f\"},\"marker\":{\"line\":{\"color\":\"#E5ECF6\",\"width\":0.5},\"pattern\":{\"fillmode\":\"overlay\",\"size\":10,\"solidity\":0.2}},\"type\":\"bar\"}],\"scattergeo\":[{\"type\":\"scattergeo\",\"marker\":{\"colorbar\":{\"outlinewidth\":0,\"ticks\":\"\"}}}],\"scatterpolar\":[{\"type\":\"scatterpolar\",\"marker\":{\"colorbar\":{\"outlinewidth\":0,\"ticks\":\"\"}}}],\"histogram\":[{\"marker\":{\"pattern\":{\"fillmode\":\"overlay\",\"size\":10,\"solidity\":0.2}},\"type\":\"histogram\"}],\"scattergl\":[{\"type\":\"scattergl\",\"marker\":{\"colorbar\":{\"outlinewidth\":0,\"ticks\":\"\"}}}],\"scatter3d\":[{\"type\":\"scatter3d\",\"line\":{\"colorbar\":{\"outlinewidth\":0,\"ticks\":\"\"}},\"marker\":{\"colorbar\":{\"outlinewidth\":0,\"ticks\":\"\"}}}],\"scattermapbox\":[{\"type\":\"scattermapbox\",\"marker\":{\"colorbar\":{\"outlinewidth\":0,\"ticks\":\"\"}}}],\"scatterternary\":[{\"type\":\"scatterternary\",\"marker\":{\"colorbar\":{\"outlinewidth\":0,\"ticks\":\"\"}}}],\"scattercarpet\":[{\"type\":\"scattercarpet\",\"marker\":{\"colorbar\":{\"outlinewidth\":0,\"ticks\":\"\"}}}],\"carpet\":[{\"aaxis\":{\"endlinecolor\":\"#2a3f5f\",\"gridcolor\":\"white\",\"linecolor\":\"white\",\"minorgridcolor\":\"white\",\"startlinecolor\":\"#2a3f5f\"},\"baxis\":{\"endlinecolor\":\"#2a3f5f\",\"gridcolor\":\"white\",\"linecolor\":\"white\",\"minorgridcolor\":\"white\",\"startlinecolor\":\"#2a3f5f\"},\"type\":\"carpet\"}],\"table\":[{\"cells\":{\"fill\":{\"color\":\"#EBF0F8\"},\"line\":{\"color\":\"white\"}},\"header\":{\"fill\":{\"color\":\"#C8D4E3\"},\"line\":{\"color\":\"white\"}},\"type\":\"table\"}],\"barpolar\":[{\"marker\":{\"line\":{\"color\":\"#E5ECF6\",\"width\":0.5},\"pattern\":{\"fillmode\":\"overlay\",\"size\":10,\"solidity\":0.2}},\"type\":\"barpolar\"}],\"pie\":[{\"automargin\":true,\"type\":\"pie\"}]},\"layout\":{\"autotypenumbers\":\"strict\",\"colorway\":[\"#636efa\",\"#EF553B\",\"#00cc96\",\"#ab63fa\",\"#FFA15A\",\"#19d3f3\",\"#FF6692\",\"#B6E880\",\"#FF97FF\",\"#FECB52\"],\"font\":{\"color\":\"#2a3f5f\"},\"hovermode\":\"closest\",\"hoverlabel\":{\"align\":\"left\"},\"paper_bgcolor\":\"white\",\"plot_bgcolor\":\"#E5ECF6\",\"polar\":{\"bgcolor\":\"#E5ECF6\",\"angularaxis\":{\"gridcolor\":\"white\",\"linecolor\":\"white\",\"ticks\":\"\"},\"radialaxis\":{\"gridcolor\":\"white\",\"linecolor\":\"white\",\"ticks\":\"\"}},\"ternary\":{\"bgcolor\":\"#E5ECF6\",\"aaxis\":{\"gridcolor\":\"white\",\"linecolor\":\"white\",\"ticks\":\"\"},\"baxis\":{\"gridcolor\":\"white\",\"linecolor\":\"white\",\"ticks\":\"\"},\"caxis\":{\"gridcolor\":\"white\",\"linecolor\":\"white\",\"ticks\":\"\"}},\"coloraxis\":{\"colorbar\":{\"outlinewidth\":0,\"ticks\":\"\"}},\"colorscale\":{\"sequential\":[[0.0,\"#0d0887\"],[0.1111111111111111,\"#46039f\"],[0.2222222222222222,\"#7201a8\"],[0.3333333333333333,\"#9c179e\"],[0.4444444444444444,\"#bd3786\"],[0.5555555555555556,\"#d8576b\"],[0.6666666666666666,\"#ed7953\"],[0.7777777777777778,\"#fb9f3a\"],[0.8888888888888888,\"#fdca26\"],[1.0,\"#f0f921\"]],\"sequentialminus\":[[0.0,\"#0d0887\"],[0.1111111111111111,\"#46039f\"],[0.2222222222222222,\"#7201a8\"],[0.3333333333333333,\"#9c179e\"],[0.4444444444444444,\"#bd3786\"],[0.5555555555555556,\"#d8576b\"],[0.6666666666666666,\"#ed7953\"],[0.7777777777777778,\"#fb9f3a\"],[0.8888888888888888,\"#fdca26\"],[1.0,\"#f0f921\"]],\"diverging\":[[0,\"#8e0152\"],[0.1,\"#c51b7d\"],[0.2,\"#de77ae\"],[0.3,\"#f1b6da\"],[0.4,\"#fde0ef\"],[0.5,\"#f7f7f7\"],[0.6,\"#e6f5d0\"],[0.7,\"#b8e186\"],[0.8,\"#7fbc41\"],[0.9,\"#4d9221\"],[1,\"#276419\"]]},\"xaxis\":{\"gridcolor\":\"white\",\"linecolor\":\"white\",\"ticks\":\"\",\"title\":{\"standoff\":15},\"zerolinecolor\":\"white\",\"automargin\":true,\"zerolinewidth\":2},\"yaxis\":{\"gridcolor\":\"white\",\"linecolor\":\"white\",\"ticks\":\"\",\"title\":{\"standoff\":15},\"zerolinecolor\":\"white\",\"automargin\":true,\"zerolinewidth\":2},\"scene\":{\"xaxis\":{\"backgroundcolor\":\"#E5ECF6\",\"gridcolor\":\"white\",\"linecolor\":\"white\",\"showbackground\":true,\"ticks\":\"\",\"zerolinecolor\":\"white\",\"gridwidth\":2},\"yaxis\":{\"backgroundcolor\":\"#E5ECF6\",\"gridcolor\":\"white\",\"linecolor\":\"white\",\"showbackground\":true,\"ticks\":\"\",\"zerolinecolor\":\"white\",\"gridwidth\":2},\"zaxis\":{\"backgroundcolor\":\"#E5ECF6\",\"gridcolor\":\"white\",\"linecolor\":\"white\",\"showbackground\":true,\"ticks\":\"\",\"zerolinecolor\":\"white\",\"gridwidth\":2}},\"shapedefaults\":{\"line\":{\"color\":\"#2a3f5f\"}},\"annotationdefaults\":{\"arrowcolor\":\"#2a3f5f\",\"arrowhead\":0,\"arrowwidth\":1},\"geo\":{\"bgcolor\":\"white\",\"landcolor\":\"#E5ECF6\",\"subunitcolor\":\"white\",\"showland\":true,\"showlakes\":true,\"lakecolor\":\"white\"},\"title\":{\"x\":0.05},\"mapbox\":{\"style\":\"light\"}}},\"xaxis\":{\"anchor\":\"y\",\"domain\":[0.0,1.0],\"scaleanchor\":\"y\",\"constrain\":\"domain\",\"side\":\"bottom\"},\"yaxis\":{\"anchor\":\"x\",\"domain\":[0.0,1.0],\"autorange\":\"reversed\",\"constrain\":\"domain\"},\"coloraxis\":{\"colorscale\":[[0.0,\"#0d0887\"],[0.1111111111111111,\"#46039f\"],[0.2222222222222222,\"#7201a8\"],[0.3333333333333333,\"#9c179e\"],[0.4444444444444444,\"#bd3786\"],[0.5555555555555556,\"#d8576b\"],[0.6666666666666666,\"#ed7953\"],[0.7777777777777778,\"#fb9f3a\"],[0.8888888888888888,\"#fdca26\"],[1.0,\"#f0f921\"]]},\"margin\":{\"t\":60},\"title\":{\"text\":\"Correlation Matrix of sybjects features\",\"y\":0.95,\"x\":0.5,\"xanchor\":\"center\",\"yanchor\":\"top\"}},                        {\"responsive\": true}                    ).then(function(){\n",
       "                            \n",
       "var gd = document.getElementById('5874f180-494c-4211-80d0-def40a922d9a');\n",
       "var x = new MutationObserver(function (mutations, observer) {{\n",
       "        var display = window.getComputedStyle(gd).display;\n",
       "        if (!display || display === 'none') {{\n",
       "            console.log([gd, 'removed!']);\n",
       "            Plotly.purge(gd);\n",
       "            observer.disconnect();\n",
       "        }}\n",
       "}});\n",
       "\n",
       "// Listen for the removal of the full notebook cells\n",
       "var notebookContainer = gd.closest('#notebook-container');\n",
       "if (notebookContainer) {{\n",
       "    x.observe(notebookContainer, {childList: true});\n",
       "}}\n",
       "\n",
       "// Listen for the clearing of the current output cell\n",
       "var outputEl = gd.closest('.output');\n",
       "if (outputEl) {{\n",
       "    x.observe(outputEl, {childList: true});\n",
       "}}\n",
       "\n",
       "                        })                };                });            </script>        </div>"
      ]
     },
     "metadata": {},
     "output_type": "display_data"
    }
   ],
   "source": [
    "corr_mat = np.round(subjects_df.corr(), 3)\n",
    "\n",
    "fig = px.imshow(\n",
    "    corr_mat,\n",
    "    x=corr_mat.columns,\n",
    "    y=corr_mat.columns, \n",
    "    text_auto=True\n",
    "   )\n",
    "fig.update_xaxes(side=\"bottom\")\n",
    "fig.update_layout(\n",
    "    title={\n",
    "        'text': \"Correlation Matrix of sybjects features\",\n",
    "        'y':0.95,\n",
    "        'x':0.5,\n",
    "        'xanchor': 'center',\n",
    "        'yanchor': 'top'\n",
    "    }\n",
    ")\n",
    "\n",
    "fig.show()"
   ]
  },
  {
   "cell_type": "markdown",
   "metadata": {},
   "source": [
    "<a id=\"2.5\"></a>\n",
    "## <div style=\"box-shadow: rgba(0, 0, 0, 0.18) 0px 2px 4px inset; padding:20px; font-size:24px; font-family: consolas; text-align:center; display:fill; border-radius:15px; color:rgb(67, 66, 66)\"> <b> 2.5 Overview <i>events.csv</i> file</b></div>"
   ]
  },
  {
   "cell_type": "markdown",
   "metadata": {},
   "source": [
    "<p style=\"font-family: consolas; font-size: 16px;\">⚪ <b>events.csv</b> Metadata for each FoG event in all data series. The event times agree with the labels in the data series.</p>\n",
    "\n",
    "* <p style=\"font-family: consolas; font-size: 16px;\"><code>Visit</code> The data series the event occured in.</p>\n",
    "* <p style=\"font-family: consolas; font-size: 16px;\"><code>Init</code> Time (s) the event began.</p>\n",
    "* <p style=\"font-family: consolas; font-size: 16px;\"><code>Completion</code> Time (s) the event ended.</p>\n",
    "* <p style=\"font-family: consolas; font-size: 16px;\"><code>Type</code> Whether <code>StartHesitation</code>, <code>Turn</code>, or <code>Walking</code>.</p>\n",
    "* <p style=\"font-family: consolas; font-size: 16px;\"><code>Kinetic</code> Whether the event was kinetic (1) and involved movement, or akinetic (0) and static.</p>"
   ]
  },
  {
   "cell_type": "markdown",
   "metadata": {},
   "source": [
    "<p style=\"font-family: consolas; font-size: 16px;\">❔ How the data looks like.</p>"
   ]
  },
  {
   "cell_type": "code",
   "execution_count": 67,
   "metadata": {
    "execution": {
     "iopub.execute_input": "2023-07-14T02:26:33.138824Z",
     "iopub.status.busy": "2023-07-14T02:26:33.138071Z",
     "iopub.status.idle": "2023-07-14T02:26:33.158781Z",
     "shell.execute_reply": "2023-07-14T02:26:33.156962Z",
     "shell.execute_reply.started": "2023-07-14T02:26:33.138778Z"
    }
   },
   "outputs": [],
   "source": [
    "events_df = pd.read_csv(\"/kaggle/input/tlvmc-parkinsons-freezing-gait-prediction/events.csv\")"
   ]
  },
  {
   "cell_type": "code",
   "execution_count": 68,
   "metadata": {
    "execution": {
     "iopub.execute_input": "2023-07-14T02:26:33.161427Z",
     "iopub.status.busy": "2023-07-14T02:26:33.160836Z",
     "iopub.status.idle": "2023-07-14T02:26:33.179664Z",
     "shell.execute_reply": "2023-07-14T02:26:33.177809Z",
     "shell.execute_reply.started": "2023-07-14T02:26:33.161367Z"
    }
   },
   "outputs": [
    {
     "data": {
      "text/html": [
       "<div>\n",
       "<style scoped>\n",
       "    .dataframe tbody tr th:only-of-type {\n",
       "        vertical-align: middle;\n",
       "    }\n",
       "\n",
       "    .dataframe tbody tr th {\n",
       "        vertical-align: top;\n",
       "    }\n",
       "\n",
       "    .dataframe thead th {\n",
       "        text-align: right;\n",
       "    }\n",
       "</style>\n",
       "<table border=\"1\" class=\"dataframe\">\n",
       "  <thead>\n",
       "    <tr style=\"text-align: right;\">\n",
       "      <th></th>\n",
       "      <th>Id</th>\n",
       "      <th>Init</th>\n",
       "      <th>Completion</th>\n",
       "      <th>Type</th>\n",
       "      <th>Kinetic</th>\n",
       "    </tr>\n",
       "  </thead>\n",
       "  <tbody>\n",
       "    <tr>\n",
       "      <th>0</th>\n",
       "      <td>003f117e14</td>\n",
       "      <td>8.61312</td>\n",
       "      <td>14.7731</td>\n",
       "      <td>Turn</td>\n",
       "      <td>1.0</td>\n",
       "    </tr>\n",
       "    <tr>\n",
       "      <th>1</th>\n",
       "      <td>009ee11563</td>\n",
       "      <td>11.38470</td>\n",
       "      <td>41.1847</td>\n",
       "      <td>Turn</td>\n",
       "      <td>1.0</td>\n",
       "    </tr>\n",
       "    <tr>\n",
       "      <th>2</th>\n",
       "      <td>009ee11563</td>\n",
       "      <td>54.66470</td>\n",
       "      <td>58.7847</td>\n",
       "      <td>Turn</td>\n",
       "      <td>1.0</td>\n",
       "    </tr>\n",
       "    <tr>\n",
       "      <th>3</th>\n",
       "      <td>011322847a</td>\n",
       "      <td>28.09660</td>\n",
       "      <td>30.2966</td>\n",
       "      <td>Turn</td>\n",
       "      <td>1.0</td>\n",
       "    </tr>\n",
       "    <tr>\n",
       "      <th>4</th>\n",
       "      <td>01d0fe7266</td>\n",
       "      <td>30.31840</td>\n",
       "      <td>31.8784</td>\n",
       "      <td>Turn</td>\n",
       "      <td>1.0</td>\n",
       "    </tr>\n",
       "  </tbody>\n",
       "</table>\n",
       "</div>"
      ],
      "text/plain": [
       "           Id      Init  Completion  Type  Kinetic\n",
       "0  003f117e14   8.61312     14.7731  Turn      1.0\n",
       "1  009ee11563  11.38470     41.1847  Turn      1.0\n",
       "2  009ee11563  54.66470     58.7847  Turn      1.0\n",
       "3  011322847a  28.09660     30.2966  Turn      1.0\n",
       "4  01d0fe7266  30.31840     31.8784  Turn      1.0"
      ]
     },
     "execution_count": 68,
     "metadata": {},
     "output_type": "execute_result"
    }
   ],
   "source": [
    "events_df.head()"
   ]
  },
  {
   "cell_type": "markdown",
   "metadata": {},
   "source": [
    "<p style=\"font-family: consolas; font-size: 16px;\">❔ What is length of the dataframe.</p>"
   ]
  },
  {
   "cell_type": "code",
   "execution_count": 69,
   "metadata": {
    "execution": {
     "iopub.execute_input": "2023-07-14T02:26:33.182773Z",
     "iopub.status.busy": "2023-07-14T02:26:33.182287Z",
     "iopub.status.idle": "2023-07-14T02:26:33.193198Z",
     "shell.execute_reply": "2023-07-14T02:26:33.191151Z",
     "shell.execute_reply.started": "2023-07-14T02:26:33.182729Z"
    }
   },
   "outputs": [
    {
     "name": "stdout",
     "output_type": "stream",
     "text": [
      "Length of the events.csv file is: \u001b[94m3544\u001b[0m\n"
     ]
    }
   ],
   "source": [
    "temp = len(events_df)\n",
    "print(\n",
    "    f\"Length of the events.csv file is: {color.BLUE}{temp}{color.END}\",\n",
    ")"
   ]
  },
  {
   "cell_type": "markdown",
   "metadata": {},
   "source": [
    "<p style=\"font-family: consolas; font-size: 16px;\">❔ Is there any missing data.</p>"
   ]
  },
  {
   "cell_type": "code",
   "execution_count": 70,
   "metadata": {
    "execution": {
     "iopub.execute_input": "2023-07-14T02:26:33.196151Z",
     "iopub.status.busy": "2023-07-14T02:26:33.195213Z",
     "iopub.status.idle": "2023-07-14T02:26:33.213283Z",
     "shell.execute_reply": "2023-07-14T02:26:33.211798Z",
     "shell.execute_reply.started": "2023-07-14T02:26:33.196088Z"
    }
   },
   "outputs": [
    {
     "data": {
      "text/plain": [
       "Id               0\n",
       "Init             0\n",
       "Completion       0\n",
       "Type          1042\n",
       "Kinetic       1042\n",
       "dtype: int64"
      ]
     },
     "execution_count": 70,
     "metadata": {},
     "output_type": "execute_result"
    }
   ],
   "source": [
    "events_df.isnull().sum()"
   ]
  },
  {
   "cell_type": "markdown",
   "metadata": {},
   "source": [
    "<p style=\"font-family: consolas; font-size: 16px;\">❔ What is the distibution of the field <code>Init</code>.</p>"
   ]
  },
  {
   "cell_type": "code",
   "execution_count": 71,
   "metadata": {
    "execution": {
     "iopub.execute_input": "2023-07-14T02:26:33.215619Z",
     "iopub.status.busy": "2023-07-14T02:26:33.215160Z",
     "iopub.status.idle": "2023-07-14T02:26:33.293877Z",
     "shell.execute_reply": "2023-07-14T02:26:33.292540Z",
     "shell.execute_reply.started": "2023-07-14T02:26:33.215577Z"
    }
   },
   "outputs": [
    {
     "data": {
      "text/html": [
       "<div>                            <div id=\"66c576b6-673f-4c86-b551-57f577d42d91\" class=\"plotly-graph-div\" style=\"height:525px; width:100%;\"></div>            <script type=\"text/javascript\">                require([\"plotly\"], function(Plotly) {                    window.PLOTLYENV=window.PLOTLYENV || {};                                    if (document.getElementById(\"66c576b6-673f-4c86-b551-57f577d42d91\")) {                    Plotly.newPlot(                        \"66c576b6-673f-4c86-b551-57f577d42d91\",                        [{\"alignmentgroup\":\"True\",\"bingroup\":\"x\",\"hovertemplate\":\"Init=%{x}<br>count=%{y}<extra></extra>\",\"legendgroup\":\"\",\"marker\":{\"color\":\"#636efa\",\"pattern\":{\"shape\":\"\"}},\"name\":\"\",\"nbinsx\":50,\"offsetgroup\":\"\",\"orientation\":\"v\",\"showlegend\":false,\"x\":[8.61312,11.3847,54.6647,28.0966,30.3184,16.0447,19.6047,16.4894,34.8494,37.2894,37.5494,7.21437,20.1744,51.2144,15.6412,75.2013,102.081,12.38,18.54,40.7725,45.0525,47.2125,19.665,9.00156,11.0016,22.3816,25.9016,47.8016,19.4203,20.6003,19.8919,33.8719,7.62,19.8,30.8609,10.5294,16.3694,11.6584,18.4584,20.92,10.4066,13.7066,8.23562,18.5556,30.8156,49.6956,58.3956,8.40687,11.9269,39.0469,45.1669,50.8469,23.1119,8.3375,39.8575,58.4575,76.3775,19.1425,16.1666,18.9866,11.12,74.28,300.7,363.64,439.8,572.42,8.04531,10.2959,16.2159,23.8159,26.8959,33.6959,35.295,7.25719,17.4572,39.8972,8.44812,41.7681,77.8281,91.8681,15.76,136.76,320.52,344.12,362.6,465.6,12.4772,20.3772,23.9572,42.4609,53.3209,12.3766,20.2166,27.2166,45.0966,15.7847,11.7759,15.8403,22.6803,28.4403,10.9506,10.16,57.52,162.44,230.6,265.26,12.34,9.87656,14.8756,6.46813,14.2081,28.37,20.8219,25.9019,28.4219,30.9962,22.4716,25.6716,30.2716,42.6459,65.3659,16.2,24.88,48.86,67.86,9.22,27.52,22.3122,28.3322,45.5522,8.80469,17.3647,25.4647,35.3047,4.11562,8.03562,17.4356,24.7156,37.3556,45.5556,21.8566,53.9366,64.4966,88.2966,6.80094,11.1609,14.9209,21.2809,13.5294,14.8894,7.72687,15.1869,20.2869,28.1669,40.9069,46.8869,57.2669,4.54281,28.8628,34.8228,25.0044,32.6844,12.9881,17.1756,22.4156,45.5356,28.5297,16.4894,28.9694,13.0012,24.3612,10.0022,13.1422,19.3422,22.0422,48.8222,23.2491,19.9497,33.7297,37.3297,4.74281,7.04281,8.26281,17.1828,40.1428,70.3028,79.4228,13.6228,22.2228,47.6628,84.1828,11.6584,15.3184,20.1584,27.7584,40.9384,44.0584,50.8184,53.4184,56.8384,43.7434,67.6234,119.343,128.143,173.183,8.54125,15.3812,6.5075,20.1475,34.8075,39.8675,43.5875,48.9875,9.92312,18.9231,19.28,28.94,40.72,51.34,117.54,127.68,181.52,13.1741,19.4341,33.9141,13.7691,17.7691,20.1691,31.7291,39.0491,1.81312,5.39312,11.1731,18.1731,27.6131,10.4078,2.2,7.78,58.4,86.98,92.98,104.54,18.7287,10.0672,26.9872,9.64,17.76,35.14,46.54,11.9141,34.0341,48.3541,5.63563,14.4756,7.28,96.8,310.26,346.68,356.2,6.46844,13.3484,15.1484,18.5112,27.6312,33.9112,46.8512,15.6531,13.9744,43.1744,12.4844,17.595,23.195,34.295,39.295,7.17,150.968,173.248,17.6509,31.6709,24.4159,14.9369,19.7969,5.10375,10.1837,21.0237,11.9103,17.3703,52.2703,69.5303,110.97,155.01,160.93,187.81,28.2222,11.68,60.8,184.24,241.6,12.3281,11.08,14.8106,44.32,50.84,7.69812,34.2981,8.43094,14.3509,17.5109,24.4509,32.4909,16.5875,30.5075,55.4,64.6675,12.2837,26.5637,7.41562,19.4156,30.1156,37.7156,16.7916,23.0316,44.1116,59.52,69.52,18.4556,13.0016,30.7216,9.22281,15.5028,40.5428,51.4628,11.7341,17.0941,9.92031,15.4803,13.6816,18.0416,28.2816,45.9216,9.02344,8.52,67.14,155.5,209.02,18.5778,28.1778,34.6178,15.5922,26.0322,33.3322,37.1322,55.4122,15.8,23.14,24.74,42.04,8.115,15.515,31.875,13.9353,25.48,16.2891,29.6491,43.9691,57.8491,40.0025,12.8762,30.8362,15.7647,22.9247,29.2047,41.8247,29.1906,10.9603,10.0891,26.8744,14.3594,19.9194,33.3003,20.1003,28.5403,12.6325,17.5525,11.2481,3.52688,6.30688,8.82687,46.9469,65.2069,75.4469,83.0269,13.5334,16.5734,25.2134,28.9334,43.5734,8.38437,39.1444,90.0044,98.7244,114.724,7.10281,16.5428,38.7428,15.7334,18.5534,25.7934,30.2534,39.3734,8.56969,16.7697,54.5297,117.65,32.4,11.0616,9.06281,11.9428,7.31781,17.81,83.45,8.72094,11.8009,3.60094,9.08094,21.1809,31.5809,38.1409,52.4609,9.84,20.02,7.215,13.155,31.595,42.715,9.45156,18.3716,5.46,88.14,224.26,256.18,262.88,300.76,2.4,7.4,24.12,37.08,189.4,217.06,219.5,232.5,4.46187,25.9619,34.9219,42.8019,10.74,22.3,13.5169,10.96,18.12,6.84,144.0,366.54,372.46,16.9909,36.4309,8.74469,25.3047,32.1447,15.0847,16.3,87.5,100.14,133.94,16.8641,18.6641,19.4641,25.0241,34.2641,8.74812,13.4681,17.8481,6.52125,14.0812,22.1178,33.8378,7.04375,15.7237,18.78,76.98,214.42,323.38,369.9,482.78,10.3156,13.1956,34.6156,15.3347,17.9547,16.8212,22.0212,10.445,16.965,21.685,28.885,40.765,5.21844,19.7184,56.0384,91.1184,22.1456,22.6287,12.56,7.13719,17.6212,28.3812,7.15719,15.6372,12.6316,14.0116,18.4516,21.8316,25.4316,45.3116,54.0716,15.8616,22.3816,31.2216,48.0616,5.43281,11.7128,34.5528,44.1528,53.5728,4.60437,25.9444,39.0644,52.0044,62.6444,81.5644,91.9844,21.1962,27.2762,15.3572,34.8172,15.6247,18.9447,36.4647,54.5447,6.54719,25.34,28.1959,32.0359,38.0759,10.15,24.63,27.83,32.51,37.11,45.07,4.79875,21.6387,30.9987,45.1187,22.78,33.06,12.48,67.96,267.084,8.86875,13.9887,19.6687,23.7087,8.2975,18.4975,27.7575,37.6375,13.2637,20.4037,22.1437,24.1037,28.3837,32.1837,35.9837,45.4237,49.4637,57.9437,62.1837,13.4316,19.1116,15.4394,18.4394,32.9194,36.3194,70.5594,84.4394,4.20437,25.3244,30.0444,36.3644,41.6844,45.6044,64.3244,77.0044,10.3887,35.8687,47.4287,5.25812,14.4981,20.3766,29.5766,48.9366,6.58313,8.15312,16.1131,14.8,24.12,37.82,6.1025,28.6025,33.2225,37.8625,15.9475,18.5675,16.2834,39.4034,5.24781,8.00781,17.9278,7.75687,17.5569,23.4369,35.9569,44.9169,13.1316,26.7716,48.8916,57.1316,32.76,8.27875,19.3787,21.7359,24.8559,19.5616,25.4816,27.1616,31.5216,36.8016,39.9616,43.6416,59.0816,7.73469,12.9947,20.3747,26.2147,39.0747,7.49094,18.6909,24.0109,31.4509,50.9309,12.4,23.92,39.48,49.74,66.94,7.085,9.185,7.09563,16.0556,37.7356,46.1556,9.05687,54.1369,22.8,10.3231,12.6784,34.6662,26.7278,25.7928,11.7184,13.8784,9.64,139.8,280.4,307.18,5.1825,23.5425,32.3825,19.2372,25.8572,22.8059,8.26375,36.39,15.1581,2.84,59.64,191.32,237.66,251.9,261.1,13.75,12.7819,43.0219,13.9534,33.8334,75.1134,83.2734,95.0334,16.08,45.92,80.36,104.92,115.48,29.78,36.28,10.4019,11.5391,36.6991,59.8191,71.4991,13.6706,26.0706,14.64,28.32,8.27687,12.2769,18.7569,28.8369,3.94906,7.78906,14.7491,22.5891,32.4291,11.8559,10.2,129.8,518.6,529.96,7.92,71.09,195.64,226.98,242.86,277.16,26.8216,9.525,18.465,33.52,47.3,53.78,67.28,74.84,86.78,95.22,9.15844,15.8784,19.4584,23.7184,28.3584,32.2384,85.7691,21.8619,29.9819,11.7994,39.0394,7.27438,13.3544,38.9744,8.54344,18.8634,39.7034,48.7434,7.68031,22.6003,44.0403,2.48,8.84,44.12,64.0,73.38,20.4656,22.3841,32.6241,25.3097,29.9497,54.2097,62.3497,11.6734,19.6934,22.4534,25.6134,29.6334,32.8534,42.3334,6.59437,10.0344,15.1344,20.6344,28.9944,35.2544,51.5744,21.48,15.1872,32.8272,69.1672,9.485,13.605,25.845,49.845,13.9253,32.8653,9.44437,15.3644,3.21219,8.73219,39.2522,49.0122,33.9809,38.9809,50.1409,63.5809,84.1009,12.04,145.44,309.18,343.64,6.69062,8.89062,12.0987,17.4187,26.1387,8.14406,26.2241,27.7041,13.8887,16.1887,30.7887,34.6687,42.5687,49.3687,24.4759,34.2759,6.30719,16.6672,19.7672,22.8872,26.1672,4.25094,24.2509,39.5309,47.7309,61.4109,65.2109,49.5278,18.9903,7.24219,10.6422,16.7962,59.3162,13.3216,22.4816,28.7616,9.49281,23.8128,9.00094,23.3609,25.7809,15.7969,17.9969,31.3169,12.015,17.335,19.495,22.175,27.815,33.995,36.475,3.48,31.96,7.33969,15.8997,39.8597,18.195,35.635,12.415,32.855,63.815,8.18031,15.9575,41.7975,5.32,19.94,35.58,9.21844,15.6984,42.6584,73.9384,24.9797,19.0462,34.1262,10.68,19.92,12.8,4.66,367.62,375.26,3.87562,11.6156,57.1356,101.176,102.756,108.156,6.24,26.16,257.16,377.58,388.92,19.4641,9.0,101.9,9.82437,14.5444,38.9444,26.82,13.26,108.38,203.0,250.92,405.4,7.78906,16.7891,13.8269,9.62969,14.4297,7.36344,11.6434,21.4434,29.0034,57.7634,12.9403,18.6203,9.13562,14.8156,28.4956,33.4956,44.7756,52.2956,15.78,26.12,12.0687,15.9087,9.82937,16.4494,23.8294,29.9694,48.4694,72.2294,99.7694,19.8919,2.61469,7.44,18.92,19.82,47.22,51.86,14.2309,17.4709,21.16,27.44,63.42,222.9,246.38,10.1659,19.3059,100.086,22.9241,17.015,19.375,9.70187,19.1419,19.9441,12.1584,24.5584,13.4053,20.9253,31.2853,20.0806,22.6406,16.1603,7.68906,14.8491,56.1691,90.8091,105.569,22.3034,28.5034,1.02,28.0,56.12,12.66,24.54,31.08,12.4562,23.3284,5.60656,8.80812,11.8481,12.9081,13.4022,46.5622,12.2153,21.5353,40.9753,69.1353,26.9506,37.0306,56.9106,61.4706,73.4306,26.9191,22.6244,35.1444,22.6772,20.5269,8.81,12.53,26.49,37.71,4.245,10.125,32.325,65.405,5.38,18.56,24.4,7.92,72.08,394.42,33.2597,17.5175,35.8375,10.8006,63.8406,65.2806,12.5094,17.2294,21.1494,43.8862,70.6663,98.9663,142.646,159.206,16.6009,22.8409,46.6009,79.9609,11.79,19.8291,26.7891,32.1891,43.3091,3.1,86.14,284.98,303.6,3.30875,20.8287,58.4687,79.5888,97.1488,15.0675,9.10125,16.3612,44.4212,9.82906,17.8291,22.3891,27.2491,34.4091,37.2491,38.0091,57.3691,9.16469,14.8647,19.6206,56.8606,6.40156,15.2816,10.8434,10.14,83.79,182.7,6.90719,20.5872,35.4272,46.2969,52.9472,81.5472,6.22406,14.6641,34.8441,26.56,11.6403,17.6603,19.9403,11.52,73.44,153.36,180.32,316.2,2.51594,15.7959,43.8559,66.8559,18.7759,26.4559,36.2959,40.6959,5.05,20.69,43.37,72.36,81.48,208.24,345.7,367.92,11.2947,19.0147,11.3031,13.3231,14.6031,16.5031,19.1631,30.8831,3.18219,10.6222,18.0622,57.7822,10.775,16.535,24.875,28.575,30.255,37.0587,43.0587,20.3128,25.5928,17.415,23.455,33.955,39.035,56.075,15.0481,29.0881,85.72,25.8506,14.9816,20.1016,64.0816,2.41469,10.2947,41.0947,64.8947,73.7347,27.1644,77.7444,13.3912,16.7641,33.6841,40.3441,8.13625,21.6562,45.0562,8.95906,12.8591,19.3991,23.0791,28.6591,36.4391,12.6144,15.6944,30.5544,15.8247,17.7847,25.8847,12.4097,10.58,20.68,9.15594,12.9959,16.7159,10.5875,18.5675,36.3381,31.54,62.6,40.0581,52.5381,7.52,67.32,347.32,464.2,513.6,677.8,1929.213,2039.022,2250.646,2664.332,2745.574,2745.826,2787.304,1377.175,1466.41,384.703,441.081,448.991,553.336,566.799,571.044,592.528,599.228,608.488,619.208,642.571,657.193,663.106,789.113,828.803,836.873,855.823,504.617,527.112,1511.597,1526.013,1800.922,1809.917,17.184,112.506,302.034,314.481,343.615,399.058,412.602,736.701,746.546,753.107,756.934,761.314,780.146,788.542,925.32,939.752,973.866,996.876,1208.326,181.494,484.051,499.703,521.122,541.164,554.704,578.766,648.628,666.638,716.65,339.559,370.428,451.24,495.348,1037.722,1114.183,1118.765,1156.447,1234.91,1239.17,1248.106,1255.054,1293.087,1299.937,1319.654,16.011,208.356,255.751,413.496,515.49,910.076,659.129,683.227,693.48,697.88,713.68,731.64,760.12,870.92,886.64,898.72,934.28,972.2,978.16,983.52,986.477,1002.52,1017.12,1031.16,1040.257,1063.84,1068.2,1718.32,1799.88,1846.423,1010.33,1013.674,1022.122,1025.086,1030.22,1233.246,1243.0,386.4,389.798,393.854,396.934,451.674,567.952,390.574,472.275,581.66,606.946,758.913,781.907,882.091,890.049,892.739,898.572,908.442,920.349,930.77,932.675,934.601,938.823,941.087,942.452,945.63,951.419,953.214,955.112,956.797,1022.133,1032.588,1040.428,1070.264,1077.26,1079.377,1081.526,1082.734,1086.976,1089.662,1092.081,1103.159,1276.597,1286.111,1290.4,1328.972,1473.556,1476.293,1524.859,1656.333,1733.625,1738.782,1748.103,1226.587,1292.864,1410.904,1488.233,586.096,688.319,784.31,817.145,896.094,901.521,904.754,955.864,960.473,1064.487,1158.059,1163.323,1167.466,1172.459,1181.3,1182.62,1186.91,1192.217,1193.942,1195.433,1200.934,1206.705,1208.522,1209.89,1249.16,1260.601,1262.672,1268.772,1272.927,1275.684,1279.03,1280.441,1282.174,1283.788,1290.667,1293.287,1294.778,1299.431,1304.941,1310.594,1312.697,1317.816,1319.726,1321.226,1322.677,1324.528,1327.048,1330.641,1333.263,1335.943,1337.868,1339.249,1616.816,1619.4,1621.909,1622.503,1663.783,1843.969,1847.164,1851.738,1856.505,1860.415,1861.979,1865.915,1874.34,1878.543,1879.34,1883.875,1905.895,1909.558,1924.256,1926.102,1927.567,1928.532,1940.557,1952.433,713.211,828.702,1051.36,1053.528,1064.509,1071.536,1077.592,1131.565,1134.927,1138.598,1142.244,1146.182,1149.246,1156.623,1204.448,1469.756,1472.102,1477.462,1482.612,1485.676,1489.732,1504.115,1518.258,1522.823,1544.262,1547.382,1564.856,1585.009,1590.532,1606.982,1629.542,1660.763,2079.315,2207.173,28.724,173.515,181.174,184.629,375.331,400.836,414.537,426.032,484.731,666.531,747.227,836.124,841.846,848.657,849.998,855.918,876.029,887.838,939.151,951.991,954.743,958.133,1113.343,1117.713,1123.486,1126.607,1132.893,1143.533,1170.552,1191.152,1203.126,1205.151,1307.344,1311.428,1315.382,1321.97,1340.044,1351.633,1362.048,1365.948,1377.154,1384.337,1518.581,1522.229,1524.95,1534.652,1562.257,1564.538,1571.101,1591.435,1599.637,1606.303,1614.822,1902.304,1970.292,1985.54,2087.426,2118.862,2127.83,2138.297,2145.396,2148.138,2152.466,2161.517,2164.071,2169.728,2172.985,2176.222,2195.754,2203.006,2272.376,2275.48,2287.495,2295.272,2327.231,2335.315,2341.699,2369.7,2376.466,2384.193,2386.623,2394.068,2414.008,2415.965,975.388,985.348,1086.345,1097.92,1110.101,1134.996,1521.916,490.08,1178.06,1210.57,1316.39,1414.565,1514.935,1678.48,1680.56,1688.36,1693.16,1772.2,1773.82,1776.585,1777.76,1789.765,1888.315,1894.62,1939.706,1520.484,1574.68,1862.728,1876.07,1901.251,2056.858,2071.68,2098.754,2150.418,2160.956,2170.188,2231.63,2260.758,2268.399,2269.884,2431.38,2639.431,2660.406,2667.55,2685.441,2708.77,2792.797,2819.304,2835.0,761.621,909.245,1121.313,1128.321,1133.655,1140.066,1158.856,1162.209,1214.198,1220.437,1228.578,1374.143,1428.192,902.59,1184.995,1192.57,1197.151,1202.45,1215.76,1230.982,1246.758,1273.35,1280.057,1288.203,1307.37,1356.23,1614.906,1632.292,1646.486,1660.546,1695.04,1703.92,1715.24,1775.635,1783.52,1785.28,1812.8,1816.0,1839.909,1843.96,1846.88,1857.08,1875.4,1886.64,1899.44,1932.08,1946.0,2447.321,2501.123,12.371,98.659,100.499,111.711,240.728,254.543,276.671,445.541,511.138,544.455,680.489,687.412,689.925,692.994,830.447,1033.99,1050.439,1054.667,1058.741,1105.257,1120.697,1122.469,1213.981,1226.23,1245.25,1295.153,1315.821,1334.39,441.285,940.808,951.096,194.104,355.229,394.749,569.387,594.677,1108.953,1119.559,1124.741,1235.871,1050.799,1214.629,1367.645,1383.036,1384.976,1421.603,1442.101,1446.454,1549.128,1553.492,1682.704,1794.469,1825.745,1869.43,1895.514,2089.091,2094.373,2104.514,2111.299,2114.25,2118.17,2123.95,2127.999,2129.928,2133.921,2135.926,2138.508,2141.627,2151.5,2153.98,2161.373,2173.807,2178.964,2192.335,2198.887,2210.65,2315.803,2326.518,2331.375,2350.747,2361.508,2365.577,2393.491,2398.157,2405.947,2414.966,2417.932,2425.616,2454.539,2465.156,2478.131,2486.721,2492.178,2500.01,2628.671,2639.257,2680.503,2686.792,2696.392,2849.461,2924.704,3095.911,3110.6,3127.798,3228.571,3246.213,3275.472,539.533,807.683,813.352,831.06,897.72,1004.809,1163.454,1164.549,1170.211,1172.211,1181.026,1235.003,1237.289,1246.185,1251.25,1253.529,1259.433,1314.347,1315.485,1320.995,1323.184,1331.315,1335.126,1533.126,1537.12,1594.997,1497.224,1885.962,1898.16,1918.026,1014.081,1160.625,1224.441,640.231,944.586,947.913,957.744,1049.54,1053.446,1057.98,1123.618,1141.393,1144.657,1780.164,413.2,430.366,1750.685,1889.016,1938.833,1950.211,1961.118,1966.812,2104.838,2115.269,2125.499,2129.174,2133.64,2139.219,2150.008,2160.194,2166.699,2183.449,2194.779,2218.039,2222.169,2223.974,2230.834,2233.594,2240.089,2249.314,2256.909,2266.941,2269.179,2274.544,2278.689,2290.225,2292.385,2411.098,2422.018,2428.398,2432.068,2440.314,2449.824,2468.639,2473.079,2477.164,2487.214,2512.004,2525.574,2532.424,2538.589,2546.289,2552.21,2557.246,2571.072,2574.586,2584.186,2597.072,2606.0,2609.64,2620.92,2624.971,2633.077,2638.941,2821.801,2910.96,2915.8,2926.32,2946.181,2951.04,2953.856,2971.316,980.763,1001.493,1005.63,1133.417,1246.745,1252.993,1271.095,1281.867,1285.001,1286.134,1288.521,1291.916,1298.914,1300.323,1303.543,1308.298,1318.178,1322.1,1325.228,1385.461,1388.073,1391.95,1394.835,1397.506,1407.102,1412.872,1429.085,1431.194,1457.294,1566.44,1569.794,1589.16,1591.752,1607.812,1611.887,1626.083,1629.655,1736.963,153.321,178.84,320.401,327.08,558.88,688.76,1271.146,1300.081,1301.84,1309.55,18.812,242.486,284.338,290.06,367.268,375.05,416.429,421.137,555.158,586.557,606.302,754.373,775.109,819.8,829.529,842.762,885.02,895.696,915.68,973.535,1004.174,1365.679,1478.588,1491.327,1563.045,878.209,1348.08,1404.12,1416.24,1944.56,704.392,814.33,1703.673,2004.719,2024.18,2094.056,2216.422,2251.691,2255.816,2341.357,2502.348,2526.158,2564.948,2571.577,2772.385,2778.48,2782.074,2788.705,2809.182,2824.845,2835.224,2851.178,2859.159,2865.375,2874.186,2877.597,2885.259,2898.235,2909.416,2937.57,2940.394,2949.78,3075.289,3082.968,3087.908,3093.326,3103.401,3108.815,3119.781,3126.505,3132.945,3171.171,3188.505,3228.799,3233.916,3239.211,3715.915,3723.582,3735.691,3749.214,3797.527,3799.53,3936.19,4214.768,4223.715,4239.7,4350.007,4363.988,4368.792,4381.217,1361.32,1368.646,1459.447,1462.44,1466.576,1672.182,1697.632,136.141,260.917,310.797,401.639,435.285,560.285,563.434,737.612,768.995,1117.616,1269.04,1272.878,1283.679,1286.789,1380.386,1473.689,1478.918,1544.685,157.485,284.128,391.327,400.055,409.576,463.88,492.16,495.08,499.92,672.201,22.716,24.078,28.202,111.363,112.64,267.93,308.536,329.912,391.761,401.698,413.442,415.11,416.481,420.456,425.133,459.93,513.859,517.003,525.537,544.299,545.927,550.631,559.694,653.638,663.467,668.414,681.527,736.326,1925.751,1933.579,1935.5,1945.233,2754.662,2770.498,2779.23,2794.335,2795.568,2801.127,2803.067,2809.205,2989.525,3000.272,3019.548,3021.885,3024.125,3025.596,3033.245,3049.799,3054.375,3060.211,3061.195,3089.035,3117.772,3124.231,3128.334,3280.064,3288.592,3347.38,3378.275,3379.572,502.439,507.318,559.497,566.836,576.988,583.515,588.248,590.635,598.64,606.823,613.492,78.648,188.559,1001.2,1074.089,1440.787,1733.933,1740.778,18.445,121.445,209.035,215.807,410.318,418.695,428.022,430.677,433.204,448.125,453.225,460.741,512.074,552.369,572.636,598.328,607.679,620.568,630.393,16.181,776.441,1012.76,1023.628,21.76,147.595,200.599,213.732,302.531,347.375,430.528,619.76,624.72,633.362,643.424,648.624,660.034,666.433,668.818,686.84,690.04,694.02,704.44,711.64,714.301,727.076,734.16,743.449,754.216,757.84,762.796,766.006,775.8,780.04,784.4,1286.4,1293.371,1297.262,1303.297,1319.091,1321.544,1327.104,1355.83,1360.71,1366.015,1371.477,1378.292,1396.39,1432.6,1448.434,1452.994,1460.043,1465.3,1478.4,1643.271,1750.41,1758.76,1767.73,1771.76,1777.415,1784.664,1787.162,1791.181,1806.88,1810.52,1827.219,1835.611,1840.96,1850.151,1863.829,20.362,23.08,26.619,119.378,120.735,122.997,127.719,132.938,295.978,298.507,302.631,310.035,343.39,357.141,422.024,424.677,428.02,431.069,454.318,458.57,469.159,496.424,498.707,503.266,506.816,511.479,512.584,543.621,552.319,556.155,559.393,581.832,741.256,744.656,754.984,772.129,807.117,808.656,818.889,835.541,872.236,896.348,1008.375,1031.842,1033.548,1034.716,1054.695,1065.096,1136.227,1138.112,1147.416,1438.926,1466.754,1488.704,1491.357,1497.549,1502.441,1509.479,1520.595,1535.929,1539.276,1551.92,1558.72,1576.715,1580.527,1587.461,1592.248,1752.664,1757.595,1760.59,1774.762,2036.85,2041.197,2046.855,2050.327,2052.396,2058.96,2069.537,2086.213,2089.282,2092.252,2115.066,2125.675,2133.852,2145.778,2156.617,2353.201,2361.946,2368.005,2377.179,2386.071,2401.131,2407.596,2411.294,2414.398,2427.702,2434.873,2440.95,2504.518,2510.998,2514.171,2519.844,2526.102,2670.941,2686.794,2700.237,2703.212,2710.202,2714.818,2720.184,2727.493,2734.196,2742.508,2751.201,2754.926,2758.866,2768.512,2774.381,2779.159,2793.568,2795.389,2801.511,2805.411,2808.009,2816.667,2828.848,2830.749,2831.105,2840.962,2843.442,2852.675,2853.488,2860.358,2865.112,2867.038,2868.582,2872.305,2874.899,2878.24,2885.509,2895.663,2901.4,2904.116,2908.151,2912.275,2916.657,2923.872,2933.032,2944.281,2980.016,2983.595,3003.46,3009.492,3572.71,3577.903,3588.232,3589.533,3611.773,3622.453,3625.153,3633.424,3638.988,3652.342,3664.353,3678.345,3688.893,3694.368,3696.269,3700.457,3702.684,3708.367,3712.408,3720.382,3725.401,3727.832,3733.44,3737.226,3742.726,3750.359,3765.485,3767.381,3778.167,3782.647,3788.221,3791.008,3794.171,3809.986,3815.804,3817.215,3823.007,3827.487,3835.589,992.271,996.274,998.16,998.823,1007.115,1013.349,1197.272,1200.078,1368.103,1434.797,1438.154,1596.905,1606.247,1607.45,1617.196,1621.147,1636.818,1637.992,1638.835,1645.131,1650.01,16.323,194.954,325.38,328.639,334.365,338.572,340.735,345.66,352.104,386.937,394.3,396.44,407.72,417.01,419.54,423.7,429.045,440.71,443.96,452.11,461.158,469.04,865.946,875.4,100.121,223.13,358.79,428.94,637.22,756.886,766.71,833.956,803.259,931.52,932.382,1281.215,1342.371,1418.549,1445.913,1570.033,1573.706,1585.609,1595.987,1613.993,1616.038,1619.17,1621.665,1655.6,1657.248,1661.046,1663.927,1674.353,1676.086,1680.234,1695.297,1697.861,1703.653,1706.855,1714.881,1718.784,1734.516,1739.689,1743.988,1891.392,1899.405,1901.479,1904.345,1912.549,1916.548,1952.063,1964.154,1966.386,1970.0,1980.047,2024.046,2058.062,2065.452,2085.999,2103.729,2106.263,2108.753,2304.427,2310.119,2318.808,2327.219,2339.029,2356.915,2366.358,2383.026,2397.172,2985.095,3134.268,34.953,44.674,196.331,242.177,325.863,331.475,522.84,543.3,571.96,790.76,806.495,814.571,1124.88,1139.176,1154.991,1248.797,1270.142,1275.443,1296.78,1325.058,1330.121,1335.827,1341.997,1346.088,1355.588,1717.02,479.382,490.154,546.861,559.226,564.384,582.958,898.072,907.162,914.391,1003.758,1018.911,24.44,175.456,189.452,239.509,326.984,371.826,601.253,612.078,638.909,858.544,1354.344,1356.366,1473.625,1485.771,1486.512,1490.586,1494.338,1508.827,1526.114,1590.48,1610.462,1629.453,1634.018,1643.422,1649.161,1653.567,1657.933,1662.468,1782.186,1849.528,1852.231,1869.375,1887.407,1201.909,1224.11,1242.352,1403.8,1408.041,1411.2,1414.643,1418.761,1420.28,1553.44,1564.32,428.498,1783.32,1793.018,1813.0,1814.52,1820.134,1828.097,1831.066,1836.39,1844.55,1846.561,1854.128,1860.061,1963.729,1971.865,1974.905,2000.307,2004.17,2008.13,2017.909,2021.27,2031.965,2037.571,2042.623,2052.774,2055.304,2164.52,2270.238,19.638,145.068,228.594,235.101,296.736,348.359,490.078,498.666,717.997,728.255,744.926,757.64,776.562,1073.633,1146.563,105.92,806.08,813.92,820.518,827.4,910.32,921.6,930.52,937.68,940.64,946.4,1640.48,889.182,1042.134,1064.393,1065.627,1139.003,1141.738,1152.653,1174.425,1196.887,883.498,1494.27,1634.68,1640.674,1645.484,1959.242,2184.082,2193.636,2195.101,2199.603,2201.395,2217.996,2222.472,2232.565,2247.16,2302.929,2316.525,2325.961,2351.516,2355.611,23.588,521.783,524.641,639.339,735.047,787.454,836.849,860.477,931.316,943.846,948.499,957.553,961.857,967.234,981.435,996.478,1019.607,1074.283,1094.174,1130.526,1135.494,1547.328,1558.249,1600.1,1608.153,71.8,1364.163,1513.136,1677.288,1692.954,1698.538,1701.958,1712.1,1732.703,1750.088,1760.911,1767.172,1860.214,1861.897,1867.738,1936.002,1973.365,2248.604,2255.039,2260.157,2269.394,2290.559,2313.532,2319.874,2323.953,2335.079,2349.899,2469.849,2515.68,145.956,181.267,311.217,330.926,407.029,419.012,611.104,645.249,666.751,679.891,1241.795,1369.322,1531.72,1537.44,1549.16,1557.081,1564.171,1612.023,1618.591,1626.42,1632.404,1650.069,1654.125,1663.699,1675.396,1695.531,1705.32,1716.041,1731.087,1742.04,1744.398,1746.998,1755.582,1773.032,1781.356,1789.666,1802.394,2035.094,2044.311,911.943,949.125,1194.499,1204.467,1209.462,1270.475,1401.94,1461.58,1548.961,1621.586,1623.625,1632.725,525.6,540.273,599.295,606.573,611.365,691.295,696.586,707.733,710.263,719.415,731.502,795.386,803.886,810.218,820.434,822.194,956.69,961.796,964.061,978.225,986.26,1080.295,1085.395,1103.45,1105.415,1114.107,1118.352,1125.423,1130.665,1142.029,1438.401,1445.64,1448.671,1503.663,1511.558,1573.067,354.115,668.184,685.557,692.943,858.6,874.82,1287.562,1298.003,1326.538,1329.541,781.608,942.783,970.226,988.391,1164.596,1188.16,1193.768,1218.366,1303.448,1322.653,1329.68,1335.782,1348.491,1365.206,1370.241,1373.247,1380.1,1409.498,1562.469,1576.775,1578.067,1589.367,1855.765,1860.87,1875.076,1885.851,1888.458,1892.28,1909.604,2000.046,2009.968,2018.304,2043.213,2085.214,2092.723,2126.938,2132.478,2140.92,2159.559,2178.335,2180.142,2286.961,2302.774,2310.59,2316.52,2642.104,2652.624,2870.682,2931.617,2971.543,2975.061,3018.875,3060.058,3069.592,3073.135,102.59,132.641,139.38,310.661,324.441,503.19,514.44,523.56,540.48,567.78,576.19,581.17,598.3,608.31,622.41,633.05,905.811,913.35,1050.281,1056.91,1063.861,1706.56,1710.0,1712.88,1714.8,1719.32,1720.72,1723.64,1728.16,1765.28,1783.44,1802.32,2501.88,585.418,597.134,1279.295,1285.077,1412.703,1461.283,1485.467,1537.251,1550.203,1713.129,1729.103,1808.983,1882.026,1890.328,1909.948,1961.512,1977.829,82.463,354.316,569.425,598.572,630.526,657.174,697.003,738.943,1100.584,1111.74,21.183,180.622,270.551,276.482,441.115,443.875,454.03,508.177,534.377,546.467,568.295,806.792,1561.287,1569.823,1584.167,1586.207,1603.042,1610.988,1625.468,1670.601,1678.269,1684.421,1686.722,1690.36,1692.433,1692.824,1694.771,1701.842,1705.092,1725.442,1726.937,1728.204,1730.669,1738.132,1981.079,1987.973,1989.582,2004.195,2020.771,2024.879,2049.176,2146.424,2167.057,2210.339,2224.886,3246.477,3330.696,3335.795,3343.929,3885.185,3903.692,3918.295,3923.122,3949.38,4069.992,4074.701,4076.358,4077.963,4082.634,4117.346,4137.328,377.635,500.393,527.695,833.732,19.797,1206.76,1223.426,1351.45,1418.034,1542.267,1545.807,1546.896,1554.144,1652.968,1655.216,1707.284,1709.784,1711.746,837.69,843.459,1567.653,1376.896,1554.569,1633.14,1724.333,2151.923,2212.325,1347.998,1350.102,1390.559,1490.661,1596.285,17.727,317.654,364.637,534.925,559.913,583.52,596.06,669.314,680.536,693.081,715.603,555.662,1750.256,1795.125,1920.142,1930.448,1990.467,2001.522,2007.261,2012.293,2059.259,2065.774,2074.545,2389.491,2428.557,535.434,1855.889,1945.617,1990.863,2073.907,2108.475,2226.521,2231.06,2238.149,2243.37,2275.417,2279.155,2304.91,2322.79,2327.201,2488.68,2697.738,2745.803,2770.078,3273.78,558.864,586.379,603.553,674.64,678.28,692.692,701.15,705.43,736.12,905.93,1051.85,18.122,40.106,98.843,214.161,359.56,409.96,424.76,433.337,436.72,448.36,453.28,475.12,495.04,1109.844,1121.146,1131.32,1136.282,1153.722,1226.64,1239.64,1247.96,1268.944,567.761,577.844,581.21,1806.68,1821.037,1862.312,1866.859,1871.065,1872.271,1881.872,1884.726,1325.497,1332.27,1344.231,1392.39,1087.977,1090.622,1129.354,1132.869,1134.621,1141.181,883.333,917.741,1028.007,1031.456,1033.355,1035.472,1036.994,1043.122,1046.908,1050.072,1055.666,1059.705,1063.407,1123.467,1128.377,1132.628,1139.267,1147.852,1163.672,1171.817,363.72,692.3,706.373,712.959,717.29,721.611,771.52,789.418,794.409,808.364,813.999,816.639,1150.44,1164.777,21.363,145.521,303.607,375.28,569.358,575.838,582.689,595.422,609.92,676.845,680.241,691.743,716.373,728.2,738.361,747.88,775.519,797.52,820.401,825.8,1117.523,1129.925,1188.876,1192.384,1199.66,1206.061,1213.12,1216.481,1223.091,1227.96,1232.287,1241.24,1249.001,1272.693,1279.223,1288.014,1295.16,1299.154,1306.08,1348.272,1353.494,1355.764,1888.667,2226.997,2623.575,2624.794,2674.642,748.822,809.408,856.912,945.385,1051.472,1066.28,1071.929,1107.657,1123.95,1137.127,1587.174,1716.863,1742.711,1828.56,1353.361,1358.566,1490.84,1552.28,1555.982,1557.782,1566.484,1568.764,1691.69,1699.331,-30.669,128.737,135.232,163.565,169.915,223.028,228.198,263.98,346.338,362.378,416.922,427.778,437.877,612.985,662.531,681.909,838.32,851.085,853.756,866.537,867.45,1566.978,1568.602,1943.72,17.464,135.722,141.195,303.467,476.373,529.566,542.384,578.413,736.137,740.148,743.605,757.981,779.533,786.115,802.038,820.016,828.03,835.099,841.808,847.299,852.821,860.838,867.708,876.932,882.576,886.757,1042.975,1047.244,1063.963,1073.966,1093.875,1104.648,1110.983,1133.45,1142.009,1146.964,1162.089,1166.135,1167.4,1180.284,1191.76,1197.768,1242.983,1305.214,1451.791,1479.984,1482.496,1496.965,1520.537,1536.733,1540.564,1550.631,1555.0,1561.149,1565.92,1573.562,1732.343,1737.413,1812.248,1929.299,1950.973,2015.967,710.528,807.952,811.621,818.46,821.864,823.304,824.824,826.801,828.244,830.964,879.312,881.853,892.226,896.387,900.773,1126.745,1131.962,1136.081,1280.544,1048.932,1054.388,1058.388,1064.616,1110.503,1123.522,1129.991,1149.407,1160.211,716.982,723.591,730.456,735.036,747.472,749.242,829.238,842.711,844.653,851.393,854.258,917.745,926.107,930.205,931.91,933.43,939.405,942.205,1381.561,502.241,652.76,1020.36,1035.08,1147.52,1182.36,1215.48,1783.84,1797.12,1800.28,1862.96,1872.0,1988.603,1995.92,2032.36,2041.684,2118.842,2126.36,2129.28,2140.8,1196.978,1256.165,1414.126,18.844,191.468,220.966,222.263,465.56,470.461,473.96,480.033,484.467,489.646,497.934,506.816,518.804,522.943,660.188,668.513,685.831,708.227,714.697,728.223,731.181,735.735,753.13,762.811,768.318,776.317,977.654,1257.281,1260.407,1274.646,1285.652,1304.357,585.057,702.771,447.307,841.811,984.712,991.279,1141.44,1208.611,1210.6,1343.05,1354.641,1409.334,1424.88,1542.35,1550.752,1558.684,1619.8,1621.715,1623.233,1627.178,398.72,410.493,427.96,430.365,438.4,453.909,520.4,596.292,625.214,980.001,1008.28,1025.32,1036.495,344.98,643.205,647.3,659.54,670.947,1111.5,1115.19,1251.539,1317.225,1337.17,1342.851,21.922,537.922,691.491,729.215,739.199,793.999,813.387,942.293,964.093,1000.207,1852.167,1860.666,1916.508,1922.2,18.939,79.03,260.016,285.888,336.797,342.061,375.961,437.06,563.724,569.986,576.869,585.937,622.886,631.303,643.092,652.405,871.76,913.524,1083.133,1085.244,1090.656,1100.489,1104.007,1110.708,1116.509,1124.278,1128.572,1136.328,1184.074,1196.554,1200.4,1206.756,1218.582,1225.521,20.06,620.74,774.678,924.119,983.039,1172.647],\"xaxis\":\"x\",\"yaxis\":\"y\",\"type\":\"histogram\"}],                        {\"template\":{\"data\":{\"histogram2dcontour\":[{\"type\":\"histogram2dcontour\",\"colorbar\":{\"outlinewidth\":0,\"ticks\":\"\"},\"colorscale\":[[0.0,\"#0d0887\"],[0.1111111111111111,\"#46039f\"],[0.2222222222222222,\"#7201a8\"],[0.3333333333333333,\"#9c179e\"],[0.4444444444444444,\"#bd3786\"],[0.5555555555555556,\"#d8576b\"],[0.6666666666666666,\"#ed7953\"],[0.7777777777777778,\"#fb9f3a\"],[0.8888888888888888,\"#fdca26\"],[1.0,\"#f0f921\"]]}],\"choropleth\":[{\"type\":\"choropleth\",\"colorbar\":{\"outlinewidth\":0,\"ticks\":\"\"}}],\"histogram2d\":[{\"type\":\"histogram2d\",\"colorbar\":{\"outlinewidth\":0,\"ticks\":\"\"},\"colorscale\":[[0.0,\"#0d0887\"],[0.1111111111111111,\"#46039f\"],[0.2222222222222222,\"#7201a8\"],[0.3333333333333333,\"#9c179e\"],[0.4444444444444444,\"#bd3786\"],[0.5555555555555556,\"#d8576b\"],[0.6666666666666666,\"#ed7953\"],[0.7777777777777778,\"#fb9f3a\"],[0.8888888888888888,\"#fdca26\"],[1.0,\"#f0f921\"]]}],\"heatmap\":[{\"type\":\"heatmap\",\"colorbar\":{\"outlinewidth\":0,\"ticks\":\"\"},\"colorscale\":[[0.0,\"#0d0887\"],[0.1111111111111111,\"#46039f\"],[0.2222222222222222,\"#7201a8\"],[0.3333333333333333,\"#9c179e\"],[0.4444444444444444,\"#bd3786\"],[0.5555555555555556,\"#d8576b\"],[0.6666666666666666,\"#ed7953\"],[0.7777777777777778,\"#fb9f3a\"],[0.8888888888888888,\"#fdca26\"],[1.0,\"#f0f921\"]]}],\"heatmapgl\":[{\"type\":\"heatmapgl\",\"colorbar\":{\"outlinewidth\":0,\"ticks\":\"\"},\"colorscale\":[[0.0,\"#0d0887\"],[0.1111111111111111,\"#46039f\"],[0.2222222222222222,\"#7201a8\"],[0.3333333333333333,\"#9c179e\"],[0.4444444444444444,\"#bd3786\"],[0.5555555555555556,\"#d8576b\"],[0.6666666666666666,\"#ed7953\"],[0.7777777777777778,\"#fb9f3a\"],[0.8888888888888888,\"#fdca26\"],[1.0,\"#f0f921\"]]}],\"contourcarpet\":[{\"type\":\"contourcarpet\",\"colorbar\":{\"outlinewidth\":0,\"ticks\":\"\"}}],\"contour\":[{\"type\":\"contour\",\"colorbar\":{\"outlinewidth\":0,\"ticks\":\"\"},\"colorscale\":[[0.0,\"#0d0887\"],[0.1111111111111111,\"#46039f\"],[0.2222222222222222,\"#7201a8\"],[0.3333333333333333,\"#9c179e\"],[0.4444444444444444,\"#bd3786\"],[0.5555555555555556,\"#d8576b\"],[0.6666666666666666,\"#ed7953\"],[0.7777777777777778,\"#fb9f3a\"],[0.8888888888888888,\"#fdca26\"],[1.0,\"#f0f921\"]]}],\"surface\":[{\"type\":\"surface\",\"colorbar\":{\"outlinewidth\":0,\"ticks\":\"\"},\"colorscale\":[[0.0,\"#0d0887\"],[0.1111111111111111,\"#46039f\"],[0.2222222222222222,\"#7201a8\"],[0.3333333333333333,\"#9c179e\"],[0.4444444444444444,\"#bd3786\"],[0.5555555555555556,\"#d8576b\"],[0.6666666666666666,\"#ed7953\"],[0.7777777777777778,\"#fb9f3a\"],[0.8888888888888888,\"#fdca26\"],[1.0,\"#f0f921\"]]}],\"mesh3d\":[{\"type\":\"mesh3d\",\"colorbar\":{\"outlinewidth\":0,\"ticks\":\"\"}}],\"scatter\":[{\"fillpattern\":{\"fillmode\":\"overlay\",\"size\":10,\"solidity\":0.2},\"type\":\"scatter\"}],\"parcoords\":[{\"type\":\"parcoords\",\"line\":{\"colorbar\":{\"outlinewidth\":0,\"ticks\":\"\"}}}],\"scatterpolargl\":[{\"type\":\"scatterpolargl\",\"marker\":{\"colorbar\":{\"outlinewidth\":0,\"ticks\":\"\"}}}],\"bar\":[{\"error_x\":{\"color\":\"#2a3f5f\"},\"error_y\":{\"color\":\"#2a3f5f\"},\"marker\":{\"line\":{\"color\":\"#E5ECF6\",\"width\":0.5},\"pattern\":{\"fillmode\":\"overlay\",\"size\":10,\"solidity\":0.2}},\"type\":\"bar\"}],\"scattergeo\":[{\"type\":\"scattergeo\",\"marker\":{\"colorbar\":{\"outlinewidth\":0,\"ticks\":\"\"}}}],\"scatterpolar\":[{\"type\":\"scatterpolar\",\"marker\":{\"colorbar\":{\"outlinewidth\":0,\"ticks\":\"\"}}}],\"histogram\":[{\"marker\":{\"pattern\":{\"fillmode\":\"overlay\",\"size\":10,\"solidity\":0.2}},\"type\":\"histogram\"}],\"scattergl\":[{\"type\":\"scattergl\",\"marker\":{\"colorbar\":{\"outlinewidth\":0,\"ticks\":\"\"}}}],\"scatter3d\":[{\"type\":\"scatter3d\",\"line\":{\"colorbar\":{\"outlinewidth\":0,\"ticks\":\"\"}},\"marker\":{\"colorbar\":{\"outlinewidth\":0,\"ticks\":\"\"}}}],\"scattermapbox\":[{\"type\":\"scattermapbox\",\"marker\":{\"colorbar\":{\"outlinewidth\":0,\"ticks\":\"\"}}}],\"scatterternary\":[{\"type\":\"scatterternary\",\"marker\":{\"colorbar\":{\"outlinewidth\":0,\"ticks\":\"\"}}}],\"scattercarpet\":[{\"type\":\"scattercarpet\",\"marker\":{\"colorbar\":{\"outlinewidth\":0,\"ticks\":\"\"}}}],\"carpet\":[{\"aaxis\":{\"endlinecolor\":\"#2a3f5f\",\"gridcolor\":\"white\",\"linecolor\":\"white\",\"minorgridcolor\":\"white\",\"startlinecolor\":\"#2a3f5f\"},\"baxis\":{\"endlinecolor\":\"#2a3f5f\",\"gridcolor\":\"white\",\"linecolor\":\"white\",\"minorgridcolor\":\"white\",\"startlinecolor\":\"#2a3f5f\"},\"type\":\"carpet\"}],\"table\":[{\"cells\":{\"fill\":{\"color\":\"#EBF0F8\"},\"line\":{\"color\":\"white\"}},\"header\":{\"fill\":{\"color\":\"#C8D4E3\"},\"line\":{\"color\":\"white\"}},\"type\":\"table\"}],\"barpolar\":[{\"marker\":{\"line\":{\"color\":\"#E5ECF6\",\"width\":0.5},\"pattern\":{\"fillmode\":\"overlay\",\"size\":10,\"solidity\":0.2}},\"type\":\"barpolar\"}],\"pie\":[{\"automargin\":true,\"type\":\"pie\"}]},\"layout\":{\"autotypenumbers\":\"strict\",\"colorway\":[\"#636efa\",\"#EF553B\",\"#00cc96\",\"#ab63fa\",\"#FFA15A\",\"#19d3f3\",\"#FF6692\",\"#B6E880\",\"#FF97FF\",\"#FECB52\"],\"font\":{\"color\":\"#2a3f5f\"},\"hovermode\":\"closest\",\"hoverlabel\":{\"align\":\"left\"},\"paper_bgcolor\":\"white\",\"plot_bgcolor\":\"#E5ECF6\",\"polar\":{\"bgcolor\":\"#E5ECF6\",\"angularaxis\":{\"gridcolor\":\"white\",\"linecolor\":\"white\",\"ticks\":\"\"},\"radialaxis\":{\"gridcolor\":\"white\",\"linecolor\":\"white\",\"ticks\":\"\"}},\"ternary\":{\"bgcolor\":\"#E5ECF6\",\"aaxis\":{\"gridcolor\":\"white\",\"linecolor\":\"white\",\"ticks\":\"\"},\"baxis\":{\"gridcolor\":\"white\",\"linecolor\":\"white\",\"ticks\":\"\"},\"caxis\":{\"gridcolor\":\"white\",\"linecolor\":\"white\",\"ticks\":\"\"}},\"coloraxis\":{\"colorbar\":{\"outlinewidth\":0,\"ticks\":\"\"}},\"colorscale\":{\"sequential\":[[0.0,\"#0d0887\"],[0.1111111111111111,\"#46039f\"],[0.2222222222222222,\"#7201a8\"],[0.3333333333333333,\"#9c179e\"],[0.4444444444444444,\"#bd3786\"],[0.5555555555555556,\"#d8576b\"],[0.6666666666666666,\"#ed7953\"],[0.7777777777777778,\"#fb9f3a\"],[0.8888888888888888,\"#fdca26\"],[1.0,\"#f0f921\"]],\"sequentialminus\":[[0.0,\"#0d0887\"],[0.1111111111111111,\"#46039f\"],[0.2222222222222222,\"#7201a8\"],[0.3333333333333333,\"#9c179e\"],[0.4444444444444444,\"#bd3786\"],[0.5555555555555556,\"#d8576b\"],[0.6666666666666666,\"#ed7953\"],[0.7777777777777778,\"#fb9f3a\"],[0.8888888888888888,\"#fdca26\"],[1.0,\"#f0f921\"]],\"diverging\":[[0,\"#8e0152\"],[0.1,\"#c51b7d\"],[0.2,\"#de77ae\"],[0.3,\"#f1b6da\"],[0.4,\"#fde0ef\"],[0.5,\"#f7f7f7\"],[0.6,\"#e6f5d0\"],[0.7,\"#b8e186\"],[0.8,\"#7fbc41\"],[0.9,\"#4d9221\"],[1,\"#276419\"]]},\"xaxis\":{\"gridcolor\":\"white\",\"linecolor\":\"white\",\"ticks\":\"\",\"title\":{\"standoff\":15},\"zerolinecolor\":\"white\",\"automargin\":true,\"zerolinewidth\":2},\"yaxis\":{\"gridcolor\":\"white\",\"linecolor\":\"white\",\"ticks\":\"\",\"title\":{\"standoff\":15},\"zerolinecolor\":\"white\",\"automargin\":true,\"zerolinewidth\":2},\"scene\":{\"xaxis\":{\"backgroundcolor\":\"#E5ECF6\",\"gridcolor\":\"white\",\"linecolor\":\"white\",\"showbackground\":true,\"ticks\":\"\",\"zerolinecolor\":\"white\",\"gridwidth\":2},\"yaxis\":{\"backgroundcolor\":\"#E5ECF6\",\"gridcolor\":\"white\",\"linecolor\":\"white\",\"showbackground\":true,\"ticks\":\"\",\"zerolinecolor\":\"white\",\"gridwidth\":2},\"zaxis\":{\"backgroundcolor\":\"#E5ECF6\",\"gridcolor\":\"white\",\"linecolor\":\"white\",\"showbackground\":true,\"ticks\":\"\",\"zerolinecolor\":\"white\",\"gridwidth\":2}},\"shapedefaults\":{\"line\":{\"color\":\"#2a3f5f\"}},\"annotationdefaults\":{\"arrowcolor\":\"#2a3f5f\",\"arrowhead\":0,\"arrowwidth\":1},\"geo\":{\"bgcolor\":\"white\",\"landcolor\":\"#E5ECF6\",\"subunitcolor\":\"white\",\"showland\":true,\"showlakes\":true,\"lakecolor\":\"white\"},\"title\":{\"x\":0.05},\"mapbox\":{\"style\":\"light\"}}},\"xaxis\":{\"anchor\":\"y\",\"domain\":[0.0,1.0],\"title\":{\"text\":\"Init\"}},\"yaxis\":{\"anchor\":\"x\",\"domain\":[0.0,1.0],\"title\":{\"text\":\"count\"}},\"legend\":{\"tracegroupgap\":0},\"margin\":{\"t\":60},\"barmode\":\"relative\"},                        {\"responsive\": true}                    ).then(function(){\n",
       "                            \n",
       "var gd = document.getElementById('66c576b6-673f-4c86-b551-57f577d42d91');\n",
       "var x = new MutationObserver(function (mutations, observer) {{\n",
       "        var display = window.getComputedStyle(gd).display;\n",
       "        if (!display || display === 'none') {{\n",
       "            console.log([gd, 'removed!']);\n",
       "            Plotly.purge(gd);\n",
       "            observer.disconnect();\n",
       "        }}\n",
       "}});\n",
       "\n",
       "// Listen for the removal of the full notebook cells\n",
       "var notebookContainer = gd.closest('#notebook-container');\n",
       "if (notebookContainer) {{\n",
       "    x.observe(notebookContainer, {childList: true});\n",
       "}}\n",
       "\n",
       "// Listen for the clearing of the current output cell\n",
       "var outputEl = gd.closest('.output');\n",
       "if (outputEl) {{\n",
       "    x.observe(outputEl, {childList: true});\n",
       "}}\n",
       "\n",
       "                        })                };                });            </script>        </div>"
      ]
     },
     "metadata": {},
     "output_type": "display_data"
    }
   ],
   "source": [
    "fig = px.histogram(events_df, x=\"Init\", nbins=50)\n",
    "fig.show()"
   ]
  },
  {
   "cell_type": "markdown",
   "metadata": {},
   "source": [
    "<p style=\"font-family: consolas; font-size: 16px;\">❔ What is the distibution of the difference if fields <code>Init</code> and <code>Completion</code>.</p>"
   ]
  },
  {
   "cell_type": "code",
   "execution_count": 72,
   "metadata": {
    "execution": {
     "iopub.execute_input": "2023-07-14T02:26:33.296013Z",
     "iopub.status.busy": "2023-07-14T02:26:33.295617Z",
     "iopub.status.idle": "2023-07-14T02:26:33.380563Z",
     "shell.execute_reply": "2023-07-14T02:26:33.379136Z",
     "shell.execute_reply.started": "2023-07-14T02:26:33.295977Z"
    }
   },
   "outputs": [
    {
     "data": {
      "text/html": [
       "<div>                            <div id=\"d54d3906-9486-4194-a630-b2bb05e76ddf\" class=\"plotly-graph-div\" style=\"height:525px; width:100%;\"></div>            <script type=\"text/javascript\">                require([\"plotly\"], function(Plotly) {                    window.PLOTLYENV=window.PLOTLYENV || {};                                    if (document.getElementById(\"d54d3906-9486-4194-a630-b2bb05e76ddf\")) {                    Plotly.newPlot(                        \"d54d3906-9486-4194-a630-b2bb05e76ddf\",                        [{\"alignmentgroup\":\"True\",\"bingroup\":\"x\",\"hovertemplate\":\"x=%{x}<br>count=%{y}<extra></extra>\",\"legendgroup\":\"\",\"marker\":{\"color\":\"#636efa\",\"pattern\":{\"shape\":\"\"}},\"name\":\"\",\"nbinsx\":30,\"offsetgroup\":\"\",\"orientation\":\"v\",\"showlegend\":false,\"x\":[6.159979999999999,29.799999999999997,4.119999999999997,2.200000000000003,1.5599999999999987,1.2000000000000028,1.0,1.120000000000001,2.1199999999999974,2.5600000000000023,7.32,1.080000000000001,1.3200000000000003,2.8400000000000034,44.160000000000004,9.399999999999991,6.280000000000001,2.0,0.7600000000000016,1.3999999999999986,1.1599999999999966,1.1600000000000037,5.240000000000002,1.2800399999999996,9.36,0.8800000000000026,5.98,1.4399999999999977,0.7199999999999989,2.16,8.559999999999999,0.8800000000000026,1.5200000000000005,0.7799999999999976,4.159999999999997,0.9599999999999991,1.4000000000000021,2.3599999999999994,7.359999999999999,3.5,1.3200000000000003,1.040000000000001,6.339979999999999,12.260000000000002,12.000000000000004,3.1600000000000037,1.0,2.400030000000001,18.6,2.6400000000000006,4.68,3.3599999999999994,2.16,27.36,7.119999999999997,4.959999999999994,3.200000000000003,10.060000000000002,0.9200000000000017,1.0399999999999991,63.160000000000004,226.42,62.94,76.16000000000003,132.61999999999995,2.6800000000000637,5.399989999999999,4.34,1.1600000000000001,1.4400000000000013,1.3599999999999994,2.8399999999999963,1.4200000000000017,9.320010000000002,8.68,1.0399999999999991,22.79998,23.300000000000004,4.839999999999989,6.960000000000008,120.99999999999999,179.88,21.80000000000001,16.75999999999999,100.03999999999996,25.399999999999977,4.460000000000001,5.040000000000003,3.6400000000000006,3.039999999999999,1.2399999999999949,7.559999999999999,7.399999999999999,2.080000000000002,1.2800000000000011,0.879999999999999,3.2200000000000006,0.6000000000000014,0.9600000000000009,1.0999999999999979,6.08,47.36,104.91999999999999,68.16,27.960000000000008,15.079999999999984,182.92,0.24004000000000048,1.6399999999999988,7.439969999999999,10.08,4.559999999999999,1.6799999999999997,1.3599999999999994,1.0799999999999983,1.0799999999999983,1.5199999999999996,3.879999999999999,3.0799999999999983,15.200000000000003,6.719999999999999,6.120000000000001,13.3,7.0,4.299999999999997,5.1,1.7199999999999989,4.219999999999999,3.6400000000000006,2.6000000000000014,1.6400099999999984,6.620000000000001,2.5599999999999987,1.5200000000000031,1.7999999999999998,8.839979999999999,7.439999999999998,2.080000000000002,1.4799999999999969,1.1600000000000037,12.280000000000001,6.520000000000003,11.280000000000001,8.240000000000009,1.6399999999999997,0.9600000000000009,3.719999999999999,0.8800000000000026,0.6799999999999997,2.7200000000000006,3.8000299999999996,1.320000000000002,3.6799999999999997,9.64,3.520000000000003,7.82,2.479999999999997,18.11999,1.8000000000000007,1.1199999999999974,1.8000000000000007,2.280000000000001,1.1600000000000001,5.240000000000002,10.84,2.280000000000001,1.6800000000000033,2.4400000000000013,7.600000000000001,11.36,12.720000000000002,1.5999999999999996,4.1,2.1800000000000033,11.339999999999996,0.9199999999999946,5.760000000000002,1.9600000000000009,0.9600000000000009,0.6799999999999997,1.1599999999999993,1.0799999999999992,8.91999,22.96,24.080000000000005,5.640000000000001,7.320000000000007,4.200000000000001,23.92,24.199999999999996,6.920000000000002,2.1999999999999993,1.3200000000000003,4.039999999999999,12.479999999999997,1.3999999999999986,3.9200000000000017,1.9200000000000017,1.3599999999999994,2.1199999999999974,19.04,48.7196,3.239999999999995,33.400000000000006,2.319999999999993,1.75995,1.3999999999999986,3.3599999999999994,13.939999999999998,0.9600000000000009,2.6799999999999997,2.960000000000001,2.520000000000003,8.159980000000001,21.7,7.119999999999997,7.080000000000002,4.960000000000001,58.879999999999995,1.4599999999999937,42.31999999999999,7.359999999999985,1.7600000000000016,4.559999999999999,1.480000000000004,1.3200000000000003,1.3999999999999986,8.600000000000001,3.2799999999999976,3.8799999999999955,0.6999999999999997,3.58,1.5600000000000005,5.759999999999998,1.1600000000000001,0.8000000000000007,2.4399999999999995,50.0,28.440000000000005,2.3999999999999915,5.47999999999999,8.319999999999993,2.3599999999999994,16.0,9.699999999999996,5.32,6.68,1.4399999999999977,0.9200000000000017,14.24,2.3599999999999994,2.239999999999995,8.35997,8.48,89.52,209.86,33.48000000000002,3.319999999999993,3.5600000000000023,6.19996,1.4000000000000004,0.7199999999999989,4.720000000000002,1.6000000000000014,9.439999999999998,3.240000000000002,1.5200000000000014,29.2,14.800000000000004,1.879999999999999,1.9600000000000009,3.759999999999998,2.0,3.280000000000001,139.638,19.120000000000005,66.28,1.1999999999999993,0.9599999999999973,3.039999999999999,1.299999999999999,6.199999999999999,0.45999999999999996,9.360000000000001,19.039999999999996,3.360000000000001,25.68,8.36,1.1599999999999966,11.36,2.920000000000016,10.359999999999985,10.359999999999985,1.1199999999999974,49.12,123.44000000000001,57.359999999999985,33.26000000000002,1.2400000000000002,1.1999999999999993,22.08,1.7999999999999972,1.2399999999999949,2.2,3.0800000000000054,1.3200000000000003,2.1999999999999993,3.3200000000000003,3.6799999999999997,4.0,10.600000000000001,10.520000000000003,0.9875000000000043,2.719999999999999,14.280000000000001,12.879999999999999,12.119979999999998,1.0999999999999979,1.3599999999999994,1.3200000000000003,1.3200000000000003,2.599999999999998,3.0799999999999983,9.119999999999997,1.9200000000000017,2.3200000000000003,1.1999999999999993,4.0000000000000036,3.1199899999999996,15.8,4.32,3.6799999999999997,5.040000000000001,7.32,5.559989999999999,9.04,1.4400000000000013,8.2,2.1999999999999993,2.280000000000001,1.1599599999999999,58.10000000000001,85.14,45.24000000000001,5.47999999999999,4.559999999999999,5.239999999999998,4.140000000000001,1.7599999999999998,5.120000000000001,1.6000000000000014,6.640000000000001,1.6799999999999997,2.84,1.879999999999999,5.680000000000003,2.6799999999999997,2.959999999999999,2.16,0.9600000000000009,0.27999999999999936,1.5999999999999979,4.070899999999998,1.8000000000000007,5.080000000000005,1.5600000000000023,3.520000000000003,15.32,15.559999999999999,4.639999999999999,5.399999999999999,3.379999999999999,1.3599999999999994,2.9599999999999973,0.9199999999999999,3.8599999999999994,2.4399999999999977,1.1199999999999992,1.8000000000000007,0.17999999999999972,2.0799999999999983,2.8800000000000026,1.6400000000000006,0.8399999999999999,3.3599999999999994,1.2000000000000006,1.04,37.40003,18.120000000000005,5.159999999999997,3.019999999999996,15.260000000000005,1.2400000000000002,6.16,3.3599999999999994,3.759999999999998,3.6799999999999997,30.760029999999997,47.4,6.679999999999993,10.83959999999999,2.319999999999993,8.639990000000001,8.920000000000002,1.6400000000000006,1.0599999999999987,3.080000000000002,3.9200000000000017,4.359999999999999,3.8800000000000026,2.1200100000000006,37.76,55.040299999999995,2.9599999999999937,6.920000000000002,2.24,0.8399999999999999,0.6400000000000006,0.7599999999999998,46.0,4.0,0.9199999999999999,0.7199999999999989,2.7600000000000002,3.9599600000000006,3.719999999999999,1.0399999999999991,4.399999999999999,8.0,8.52,7.460000000000001,2.16,3.6400000000000023,2.520000000000003,1.9599999999999937,1.640039999999999,1.2399999999999984,82.68,135.64,30.439999999999998,1.2799999999999727,34.51999999999998,19.680000000000007,3.7600000000000002,14.4,12.959999999999997,151.51999999999998,20.72,1.5999999999999943,9.360000000000014,22.400000000000006,5.159999999999999,4.440000000000001,1.7199999999999989,1.759999999999998,1.5600000000000005,1.9199999999999982,4.800000000000001,1.879999999999999,4.32,137.16,218.16000000000003,2.4799999999999613,8.819999999999993,2.3599999999999994,2.3200000000000003,2.7600099999999994,2.6400000000000006,3.200000000000003,2.5999999999999996,62.2,2.9200000000000017,21.22,14.840000000000003,0.4399999999999977,0.639999999999997,2.280000000000001,1.3999999999999986,0.4200000000000017,2.19998,2.539999999999999,2.16,8.03995,8.639999999999999,4.0,2.3799999999999955,7.87995,9.76,58.2,137.44,108.96000000000001,46.51999999999998,112.88,24.260000000000048,1.1600000000000001,2.0,2.6000000000000014,1.7200000000000006,1.7600000000000016,5.199999999999999,3.280000000000001,1.7199999999999989,1.8000000000000007,0.9600000000000009,8.319999999999997,1.6400000000000006,10.159959999999998,33.706599999999995,17.240000000000002,5.480000000000004,1.8399999999999999,13.040000000000003,6.3199999999999985,1.1799999999999997,5.239999999999998,11.600000000000001,7.200010000000001,8.32,0.7599999999999998,1.6799999999999997,1.8399999999999999,2.799999999999997,9.84,4.32,11.96,1.0800000000000018,5.640000000000001,1.6400000000000041,1.240000000000002,2.5200000000000005,16.6,2.440000000000005,3.700000000000003,2.1599999999999966,15.840030000000002,5.599999999999998,4.939999999999998,3.0400000000000063,11.32,6.9199999999999875,4.760000000000005,6.079999999999998,2.7200000000000024,3.519999999999998,1.1600000000000037,0.879999999999999,17.52,7.560000000000002,1.3999999999999986,17.240009999999998,71.08,2.1199999999999974,2.8400000000000034,1.7600000000000051,12.08,1.2800000000000011,1.8000000000000007,2.6799999999999997,4.079999999999998,2.520000000000003,4.359999999999999,2.6799999999999997,1.4399999999999977,1.2000000000000028,7.48,2.3999999999999986,55.31999999999999,190.36,1.8799999999999955,1.75995,1.3599999999999994,1.4800000000000004,1.6400000000000006,4.640000000000001,6.98,3.6799999999999997,1.1999999999999957,5.899999999999999,0.8200000000000003,1.240000000000002,2.2399999999999984,1.4399999999999977,0.8599999999999994,6.520000000000003,2.5600000000000023,6.079999999999998,3.3599999999999994,8.899999999999991,1.2400000000000002,0.5199999999999996,17.480000000000004,14.880000000000003,16.779999999999994,21.32,5.400000000000006,3.8799999999999955,10.840029999999999,1.1600000000000001,1.5599999999999987,3.3999999999999986,2.5600000000000023,11.440000000000005,5.439999999999998,1.3599999999999994,22.6,9.800000000000004,5.880000000000003,6.19998,2.2399999999999984,9.2,3.759999999999998,2.440000000000005,7.899970000000001,1.9999800000000008,5.640000000000001,5.879999999999999,9.940000000000001,3.3200000000000003,0.9199999999999999,1.0800000000000018,2.960000000000001,3.0,1.660000000000002,2.0400000000000027,17.880000000000003,14.800000000000004,1.04,9.919990000000002,13.399999999999999,9.000030000000002,5.760000000000002,1.4799999999999969,1.1200000000000045,2.8000000000000043,1.3599999999999994,2.400000000000002,5.3600000000000065,9.919999999999995,8.780000000000001,5.319949999999999,1.6400000000000006,1.2399999999999984,1.7200000000000024,2.120000000000001,1.3200000000000003,2.0,4.719999999999999,2.3999999999999986,2.6799999999999997,4.920000000000002,1.0399999999999991,1.8400000000000007,4.4,2.4800000000000004,7.159999999999997,3.960000000000001,1.7200000000000006,3.8800000000000026,3.1999999999999993,4.559999999999999,3.0,4.040000000000001,6.039999999999999,2.0,2.280000000000001,5.560000000000002,1.2199999999999998,0.7199999999999989,8.07997,9.760000000000002,1.2800000000000011,1.9200000000000017,23.60003,5.0,1.8599999999999994,1.2799999999999994,1.120000000000001,4.279999999999994,0.8399999999999999,1.1999999999999993,1.4799999999999986,2.4400000000000013,129.24,138.56,22.340000000000032,448.14000000000004,2.5599999999999996,4.079999999999998,2.8800000000000026,0.9599999999999973,0.4400000000000013,0.5,11.65995,0.7000000000000028,1.5200000000000014,56.8,129.8,41.099999999999994,10.340000000000003,1.7199999999999989,1.7999999999999545,1.4000000000000004,2.0,0.9600000000000009,15.639999999999999,38.32000000000001,5.760000000000005,8.200000000000003,3.519999999999996,29.840000000000003,28.89999999999999,1.7800000000000011,3.3799999999999955,6.159999999999997,1.6799999999999997,1.6400000000000006,1.5600000000000005,25.160000000000004,13.0,3.280000000000001,5.519999999999996,11.919999999999998,10.120000000000005,1.08,1.9600000000000009,3.2600299999999987,0.6400000000000006,3.599999999999998,1.120000000000001,2.72,5.12004,6.520000000000001,1.0800000000000018,2.240000000000002,0.6199999999999992,119.60000000000001,384.8,7.559999999999945,15.399999999999977,63.16,123.50999999999999,28.5,14.0,28.95999999999998,2.0399999999999636,2.960000000000001,8.94,3.4800000000000004,4.699999999999996,3.280000000000001,5.039999999999999,1.3199999999999932,6.439999999999998,0.35999999999999943,12.0,1.6399600000000003,3.16,2.6999999999999993,3.240000000000002,1.120000000000001,4.800000000000004,10.200000000000003,4.16,1.2800000000000011,10.799999999999999,2.479999999999997,6.08002,13.42,0.9199999999999946,9.19996,8.040000000000003,2.239999999999995,1.759999999999998,12.359989999999998,2.759999999999998,2.1999999999999957,1.7600000000000002,32.44,13.760000000000005,6.060000000000002,23.36,1.7600000000000016,8.5,1.4200000000000017,3.719999999999999,15.780000000000001,2.760000000000005,1.0399999999999991,1.5599999999999987,0.5199999999999996,3.0400000000000027,2.580000000000002,2.299999999999997,3.5600000000000023,1.9200000000000017,0.6800000000000006,2.76,4.440000000000001,8.0,3.039999999999999,4.400000000000006,1.5200000000000031,1.6799999999999997,16.32,27.14,2.6400000000000006,0.8399999999999999,10.52,12.719999999999999,2.520000000000003,9.079999999999998,0.7199999999999989,1.4400300000000001,4.620000000000001,2.8000000000000003,20.16001,1.4799999999999969,5.68,1.7600000000000051,3.8000000000000043,2.960000000000001,7.319999999999993,2.960000000000008,132.8,147.28000000000003,30.819999999999993,48.08000000000004,2.2,9.45998,1.2800000000000011,2.1999999999999993,2.4800000000000004,13.60004,0.5599999999999987,2.759999999999998,1.6799999999999997,9.759999999999998,2.440000000000005,6.699999999999996,2.1600000000000037,9.560000000000002,1.2800000000000011,1.3200000000000003,2.5999999999999996,1.5199999999999996,2.0400000000000027,0.9200000000000017,0.879999999999999,15.23996,3.039999999999999,1.7999999999999972,5.920000000000002,2.200000000000003,5.160000000000011,2.4399999999999977,2.639999999999997,0.8400000000000007,1.2799999999999994,3.4800000000000004,1.3200000000000003,5.719999999999999,3.5199999999999996,7.159999999999997,14.319989999999999,15.640000000000004,1.0799599999999998,1.6799999999999997,1.0400000000000027,2.1999999999999993,6.280000000000001,1.4000000000000021,3.619999999999999,1.1600000000000001,1.5199999999999996,1.1999999999999993,1.7999999999999972,1.5600000000000023,3.8200000000000003,1.1599999999999997,3.6799999999999997,7.080010000000001,7.199999999999999,1.4000000000000057,17.439999999999998,16.68,20.439999999999998,20.560000000000002,2.680000000000007,10.43999,1.4800000000000004,0.8400000000000034,2.26,7.84,7.760000000000005,1.9999600000000015,25.240000000000002,18.159999999999997,3.3999999999999915,2.599999999999998,5.359999999999999,1.2800000000000011,3.0600000000000005,1.0199999999999996,6.919999999999998,359.03999999999996,4.9599999999999795,23.75999999999999,3.28,44.519999999999996,39.86,0.9599999999999937,1.519999999999996,14.559999999999988,17.439999999999998,231.00000000000003,113.91999999999996,9.020000000000039,83.44,1.0400000000000027,92.8,581.98,4.28003,7.039999999999999,1.3599999999999994,77.1,94.67999999999999,89.58000000000001,43.0,151.24000000000004,12.760000000000048,5.680039999999999,11.439999999999998,1.0399999999999991,2.360009999999999,3.6799999999999997,1.7999999999999998,4.359999999999999,1.0799999999999983,2.5199999999999996,1.6799999999999997,1.0,3.6000000000000014,1.5599800000000013,10.719999999999999,1.6000000000000014,3.279999999999994,2.8400000000000034,4.759999999999998,1.799999999999999,2.9800000000000004,0.9199999999999999,3.3599999999999994,3.320029999999999,1.1600000000000001,1.4400000000000013,5.119999999999997,6.460000000000001,1.6200000000000045,13.959599999999995,2.120000000000001,0.2400000000000002,10.439999999999998,1.0799999999999983,19.0,1.6400000000000006,5.359999999999999,1.1600000000000001,1.2800000000000011,4.539999999999999,34.099999999999994,148.82,13.039999999999992,21.379999999999995,7.780000000000001,69.46000000000001,2.3200000000000074,2.240000000000002,1.0,1.1999999999999993,1.8000299999999996,1.0800000000000018,1.2000000000000028,1.0399999999999991,2.0400000000000027,3.5199999999999996,2.3999999999999986,1.6000000000000014,1.2800000000000011,2.4800000000000004,1.3599999999999994,2.76004,41.32,21.519999999999996,9.359899999999996,2.5999999999999943,1.120000000000001,26.64,20.78,24.68,18.940000000000005,7.0,4.720000000000002,9.560000000000002,18.5,4.0,22.92004,1.4399800000000003,0.7599999999999998,2.040000000000001,20.92,1.4000000000000057,2.24,19.439999999999998,17.840000000000003,5.319999999999993,4.16,16.6,3.960000000000001,4.32,9.239999999999995,1.9600000000000009,3.3200000000000003,3.960000000000001,1.6799999999999997,6.799999999999997,1.1600000000000001,5.360000000000001,5.440000000000001,1.759999999999998,2.04,22.200000000000003,9.04,3.039999999999992,1.2800000000000002,5.16,12.18,64.08,320.06,51.15999999999997,1.4799999999999969,2.8800000000000026,2.520000000000003,14.240000000000002,1.3999999999999986,9.279999999999987,2.200000000000001,3.080000000000002,2.4800000000000004,12.719999999999999,26.159999999999997,35.8797,11.360000000000014,9.140000000000015,2.4400000000000013,20.76,16.919999999999995,1.5600000000000023,0.7000000000000011,4.68,4.959999999999997,2.519999999999996,1.9200000000000017,81.22,192.82,13.979999999999961,14.739999999999952,5.76,37.64,3.1201000000000008,2.6400000000000006,7.2402000000000015,1.6599999999999984,6.039949999999999,5.940000000000001,1.8800000000000026,1.8000399999999992,2.6799999999999997,4.300000000000001,2.5600000000000023,0.8200000000000003,0.9200000000000017,2.8400000000000034,3.1199999999999974,4.80001,10.280000000000001,2.0,1.480000000000004,0.96,1.08,0.8399999999999999,73.64,94.62999999999998,72.48000000000002,3.9200099999999996,10.0,13.200000000000003,3.703099999999999,15.639999999999993,1.3999999999999915,7.44004,12.320000000000002,0.480000000000004,1.0400000000000027,3.960000000000001,1.0800000000000018,1.6400000000000006,61.92,77.75999999999999,25.879999999999995,131.48000000000002,3.1200000000000045,8.43996,16.12,4.32,6.559999999999988,7.68,3.6799999999999997,0.8799999999999955,1.6799999999999997,15.64,14.279999999999998,1.8400000000000034,3.9599999999999937,120.27999999999999,124.71999999999997,12.879999999999995,6.319999999999993,1.799999999999999,10.399999999999999,1.0599999999999987,0.8000000000000007,0.8800000000000008,0.879999999999999,1.1400000000000006,3.3999999999999986,1.7200000000000002,1.6799999999999997,12.52,2.8399999999999963,1.1999999999999993,4.960000000000001,2.84,0.8399999999999999,4.279999999999998,3.4399999999999977,9.079999999999998,1.8000000000000007,6.48,5.84,8.520000000000003,2.3599999999999994,1.6800000000000068,5.839999999999996,11.040000000000001,10.679999999999996,4.760000000000005,1.9600000000000009,3.6799999999999997,29.539999999999996,4.960000000000008,5.16,29.6,19.199999999999996,1.4399999999999977,2.239999999999995,26.28,23.6396,2.92,13.64,3.3200000000000003,2.9200000000000017,11.319949999999999,12.440000000000005,2.8000000000000043,2.300040000000001,2.880000000000001,2.3999999999999986,1.8399999999999999,3.080000000000002,4.039999999999999,1.1600000000000001,0.8400000000000016,0.1999999999999993,1.2399999999999984,1.3599999999999994,1.5199999999999996,20.46,1.2200000000000006,1.2199999999999989,2.9599600000000006,2.2799999999999994,15.04,2.58,3.0,2.6400000000000006,7.480000000000004,1.019999999999996,1.5599999999999952,15.400000000000006,59.8,280.0,116.88,49.400000000000034,164.19999999999993,17.340000000000032,3.36200000000008,1.5420000000001437,1.3460000000000036,0.4780000000000655,0.23999999999978172,0.5579999999999927,2.16399999999976,0.9139999999999873,0.37799999999992906,1.6200000000000045,0.7899999999999636,0.6299999999999955,12.095000000000027,1.4320000000000164,7.4780000000000655,4.919999999999959,5.910000000000082,1.2899999999999636,20.283000000000015,3.8199999999999363,4.170000000000073,4.291000000000054,36.3599999999999,2.509999999999991,4.319999999999936,2.729000000000042,11.526999999999987,11.999000000000024,11.067999999999984,12.219000000000051,0.28099999999994907,0.7290000000000418,1.8399999999999999,1.75,1.9300000000000068,1.6200000000000045,0.9399999999999977,2.295000000000016,2.160000000000025,8.269999999999982,2.6399999999999864,2.519999999999982,1.509999999999991,16.257000000000062,3.2630000000000337,8.451999999999998,9.1099999999999,15.109000000000037,17.21900000000005,15.859000000000037,2.4600000000000364,0.8799999999999955,9.133000000000038,13.339000000000055,6.93100000000004,9.475000000000023,13.68500000000006,19.125,15.858999999999924,37.54399999999998,15.998000000000047,1.3079999999999927,2.391999999999996,0.47800000000000864,1.1299999999999955,2.7480000000000473,0.6300000000001091,1.7639999999998963,0.7360000000001037,1.1539999999999964,0.7179999999998472,0.48700000000008004,0.5899999999999181,3.1620000000000346,1.2050000000001546,0.5889999999999418,0.4400000000000013,0.6299999999999955,0.3749999999999716,0.42600000000004457,4.93100000000004,3.009999999999991,15.630999999999972,2.171000000000049,2.3199999999999363,1.3600000000000136,6.0,15.080000000000041,0.2799999999999727,7.560000000000059,6.720000000000027,33.120000000000005,33.72000000000003,3.9599999999999227,2.7200000000000273,1.759999999999991,2.6829999999999927,12.32000000000005,10.458999999999946,7.959999999999809,17.86299999999983,3.2000000000000455,20.919999999999845,10.759999999999991,1.3999999999998636,2.09699999999998,0.9199999999999591,1.5199999999999818,1.0400000000000773,0.7999999999999545,0.9500000000000455,1.8999999999998636,0.4600000000000364,1.7170000000000414,0.7599999999999909,0.4399999999999977,1.3859999999999673,0.160000000000025,0.37199999999995725,1.593999999999994,2.347000000000037,0.5740000000000691,0.9109999999999445,0.5449999999999591,1.613999999999919,2.266999999999939,0.3039999999999736,2.866999999999962,3.1779999999999973,0.43600000000003547,0.6539999999999964,0.93100000000004,1.8710000000000946,3.2269999999999754,1.1090000000000373,0.44399999999996,0.8899999999999864,0.4189999999999827,0.82000000000005,0.44099999999991724,0.6370000000000573,1.7649999999999864,0.9309999999999263,0.5330000000001291,1.8819999999998345,0.8150000000000546,1.0579999999999927,0.6230000000000473,0.3329999999998563,1.1880000000001019,0.38999999999987267,0.42200000000002547,8.554000000000087,1.793999999999869,1.5779999999999745,0.5979999999999563,1.3269999999999982,3.921000000000049,2.7329999999999472,0.86200000000008,3.6240000000000236,4.5349999999998545,4.253999999999905,0.9200000000000728,1.7919999999999163,0.7599999999999909,2.441000000000031,0.599999999999909,1.0399999999999636,2.5190000000000055,2.713000000000079,2.1980000000000928,1.97199999999998,0.4759999999999991,3.2280000000000655,0.3369999999999891,0.69399999999996,4.210000000000036,2.1089999999999236,1.58400000000006,0.2799999999999727,0.6070000000001983,0.31999999999993634,0.2799999999999727,0.44000000000005457,0.6039999999998145,0.45499999999992724,0.599999999999909,0.2239999999999327,0.6230000000000473,0.6890000000000782,0.4550000000001546,0.6399999999998727,4.160999999999831,0.3769999999999527,0.6499999999998636,1.2699999999999818,0.93100000000004,2.02800000000002,0.45600000000013097,0.7819999999999254,0.6040000000000418,1.1880000000001019,1.5080000000000382,1.0699999999999363,1.6730000000000018,0.9500000000000455,1.3559999999999945,0.9479999999998654,0.7820000000001528,0.8809999999998581,0.9309999999998126,0.39599999999995816,0.762000000000171,1.2080000000000837,2.980000000000018,2.0399999999999636,1.3600000000001273,0.6730000000000018,0.8220000000001164,3.997000000000071,0.5450000000000728,2.05399999999986,0.40599999999994907,0.6340000000000146,0.45600000000013097,3.1779999999998836,3.7129999999999654,1.5639999999998508,1.0989999999999327,0.9010000000000673,3.563999999999851,1.0789999999999509,4.198000000000093,0.7920000000001437,1.8710000000000946,1.1690000000000964,3.2970000000000255,0.17800000000011096,1.8409999999998945,1.4549999999999272,0.9500000000000455,0.9900000000000091,4.712999999999965,4.277000000000044,1.6190000000000282,0.5199999999999818,1.040000000000191,1.0039999999999054,4.879999999999882,1.3689999999999145,12.935999999999922,2.3179999999999836,1.6560000000001764,1.29300000000012,1.1380000000001473,0.5599999999999454,5.156999999999925,43.64300000000003,1.7329999999999472,0.9489999999998417,3.759999999999991,2.519999999999982,1.7619999999999436,1.0009999999999764,13.058999999999969,9.292999999999893,2.77800000000002,19.98199999999997,0.6800000000000637,6.913999999999987,15.666999999999916,4.123000000000047,14.329000000000178,21.076999999999998,29.13499999999999,0.9110000000000582,1.0709999999999127,2.282000000000153,22.520999999999997,5.938000000000017,0.5,1.0289999999999964,24.076999999999998,10.115999999999985,4.182000000000016,0.5840000000000032,39.31299999999999,4.852000000000089,2.394999999999982,0.5589999999999691,1.4360000000000355,0.7129999999999654,4.376999999999953,18.071000000000026,2.240000000000009,1.0400000000000773,1.052000000000021,2.1689999999999827,1.3319999999999936,1.23599999999999,2.688999999999851,3.747000000000071,1.7549999999998818,5.479000000000042,8.33400000000006,21.98700000000008,12.876000000000204,1.34699999999998,1.009999999999991,1.4259999999999309,3.563999999999851,0.6329999999998108,5.523999999999887,16.49499999999989,10.358999999999924,7.177999999999884,2.464999999999918,5.434999999999945,1.0499999999999545,2.1079999999999472,2.911000000000058,1.2570000000000618,8.742999999999938,26.861999999999853,1.4849999999999,5.791999999999916,9.089999999999918,3.3360000000000127,0.8720000000000709,4.407999999999902,3.6540000000002237,1.7029999999999745,1.7910000000001673,1.3540000000000418,0.43600000000014916,0.5740000000000691,1.3020000000001346,0.86200000000008,1.4549999999999272,1.3270000000002256,5.376999999999953,1.1590000000001055,0.8510000000001128,1.83199999999988,0.6829999999999927,7.679999999999836,0.32600000000002183,0.8580000000001746,1.3460000000000036,2.6829999999999927,1.4349999999999454,1.5080000000002656,3.91399999999976,2.9079999999999018,10.273999999999887,1.3400000000001455,2.336999999999989,0.9299999999998363,1.6539999999999964,2.73299999999972,0.25900000000001455,10.978999999999814,0.67999999999995,1.6639999999999873,1.1269999999999527,0.4800000000000182,0.7199999999997999,0.35799999999994725,0.9600000000000364,0.7400000000000091,0.650000000000091,0.4600000000000364,0.6499999999998636,0.7100000000000364,0.5299999999999727,0.5599999999999454,3.3200000000001637,0.7200000000000273,0.8199999999999363,0.5599999999999454,2.759999999999991,0.5199999999999818,3.019999999999982,0.4399999999998272,0.75,1.5910000000001219,0.8500000000001364,0.8000000000001819,6.625999999999976,2.474999999999909,4.412000000000035,5.606999999999971,6.917999999999665,7.885999999999967,3.213000000000193,3.2950000000000728,4.097999999999956,5.726999999999862,1.1140000000000327,6.639000000000124,0.4830000000001746,0.44000000000005457,10.58999999999969,7.3279999999999745,4.213000000000193,4.770999999999731,1.386000000000422,9.277999999999793,6.344000000000051,15.692999999999756,1.7049999999999272,1.5790000000000646,0.9429999999999836,1.8609999999998763,3.4600000000000364,3.8890000000001237,1.474999999999909,0.4700000000000273,3.033999999999878,4.385999999999967,7.12700000000018,44.325000000000045,1.1600000000000819,1.0799999999999272,0.9130000000000109,4.336000000000013,2.6180000000001655,1.8789999999999054,10.838999999999942,11.558999999999969,12.642000000000053,18.46900000000005,4.832000000000107,6.921000000000049,17.332000000000107,45.652000000000044,12.07899999999995,8.480000000000018,7.768000000000029,11.383999999999787,15.885999999999967,0.2799999999999727,2.6799999999998363,4.469000000000051,4.045000000000073,0.599999999999909,25.680000000000064,2.1200000000001182,17.440000000000055,2.2509999999999764,1.759999999999991,6.039999999999964,13.160000000000082,9.199999999999818,11.759999999999991,25.720000000000027,3.2000000000000455,22.319999999999936,0.8490000000001601,0.5969999999997526,13.775,1.2539999999999907,4.713000000000008,0.8810000000000002,9.817999999999984,1.9110000000000014,6.9599999999999795,0.6329999999999814,5.536000000000001,6.928999999999974,2.147999999999911,1.7229999999999563,0.5130000000000337,3.3220000000000027,2.6749999999999545,11.067000000000007,1.1579999999999018,3.4850000000001273,1.6040000000000418,7.463999999999942,1.1380000000001473,1.6040000000000418,6.964999999999918,1.6140000000000327,6.173000000000002,11.269000000000005,1.387000000000171,11.31899999999996,0.5419999999999732,1.6749999999999545,1.080000000000041,1.9069999999999823,2.9139999999999873,3.0039999999999623,2.324000000000069,0.9489999999999554,0.6430000000000291,0.7490000000000236,0.9200000000000728,0.6879999999998745,11.626999999999953,8.882000000000062,4.428000000000111,0.6520000000000437,0.7239999999999327,12.631999999999834,3.3929999999998017,2.602000000000089,2.254000000000133,8.754000000000133,5.34699999999998,9.627999999999929,6.804000000000087,3.673000000000002,0.7970000000000255,1.7519999999999527,1.4160000000001673,2.7919999999999163,1.9510000000000218,2.1979999999998654,2.4909999999999854,1.9600000000000364,0.8420000000000982,3.3090000000001965,1.3070000000002437,0.5149999999998727,1.3770000000004075,4.83199999999988,1.5540000000000873,1.0599999999999454,7.092000000000098,1.21100000000024,4.268000000000029,4.01299999999992,7.128999999999905,2.612999999999829,1.7570000000000618,1.387000000000171,6.713000000000193,6.854000000000269,2.2070000000003347,14.930999999999585,2.106000000000222,3.069999999999709,6.069999999999709,1.3659999999999854,1.4520000000002256,22.615000000000236,7.761999999999716,2.9890000000000327,1.9800000000000182,2.782000000000153,2.32300000000032,0.88799999999992,3.161000000000058,3.8899999999998727,4.119999999999891,4.474999999999909,3.1510000000002947,4.020000000000437,3.5839999999998327,6.326000000000022,4.06899999999996,4.940000000000055,4.941000000000258,12.70699999999988,6.959999999999582,0.7369999999999663,0.7240000000000464,0.9900000000000091,1.2240000000000464,2.058999999999969,0.6560000000000628,0.34699999999998,0.9149999999999636,0.58400000000006,0.9559999999999036,0.7719999999999345,0.9980000000000473,1.1089999999999236,0.5589999999999691,1.1289999999999054,0.3510000000001128,1.5640000000000782,0.7029999999999745,0.6140000000000327,0.65300000000002,0.6480000000001382,2.6230000000000473,0.7029999999999745,0.9510000000000218,3.0800000000001546,3.1089999999999236,1.87700000000018,2.0699999999999363,1.5639999999998508,2.936999999999898,1.134999999999991,1.2349999999999,2.395999999999958,0.2720000000000482,0.7519999999999527,0.9900000000000091,0.7930000000000064,2.7080000000000837,2.2170000000000982,6.951000000000022,0.7330000000001746,2.449000000000069,1.5340000000001055,1.6259999999999764,13.843000000000018,0.8740000000000236,0.8400000000001455,0.3869999999999436,3.086999999999989,0.3489999999999327,3.5019999999999527,7.468000000000075,8.64599999999973,7.730000000000018,1.6600000000003092,2.2260000000001128,4.320999999999913,4.880000000000109,8.58600000000024,5.079999999999927,14.690000000000055,10.110000000000127,20.980000000000018,0.7599999999997635,0.6710000000002765,5.099999999999909,1.2400000000002365,3.6799999999998363,7.539999999999964,3.7800000000002,6.369999999999891,0.4580000000000837,3.4400000000000546,2.7600000000002183,8.66000000000031,0.6399999999998727,12.218999999999596,9.789999999999964,4.349999999999909,2.349999999999909,6.99599999999964,7.690000000000055,15.534999999999854,1.0399999999999636,1.8009999999999309,6.169999999999618,3.7210000000000036,11.930000000000291,4.400000000000091,4.980000000000018,5.5900000000001455,4.804999999999836,1.9339999999997417,11.284999999999854,1.518999999999778,7.350000000000364,11.019999999999982,4.4789999999998145,1.6399999999998727,4.960000000000036,2.4400000000000546,5.619999999999891,1.7329999999997199,8.499000000000251,1.6050000000000182,1.599999999999909,2.1599999999998545,2.5019999999999527,0.1390000000001237,1.1599999999998545,3.8239999999996144,2.8900000000003274,1.2309999999999945,0.36099999999999,0.6430000000000291,0.27700000000004366,5.208000000000084,17.343000000000075,10.004999999999882,2.574000000000069,0.6130000000000564,1.240000000000009,2.240000000000009,5.613000000000056,0.5070000000000618,2.6989999999998417,4.178000000000111,9.48700000000008,2.72199999999998,2.519999999999982,0.5860000000000127,1.349999999999909,2.7739999999998872,1.740000000000009,1.4400000000000546,6.6909999999998035,1.9710000000000036,15.37299999999982,0.7999999999999545,24.07100000000014,11.198999999999842,0.6710000000000491,16.947999999999865,1.1169999999999618,1.5460000000000491,1.0600000000001728,7.95900000000006,1.2980000000000018,1.2010000000000218,0.9929999999999382,0.5589999999999975,0.7800000000000011,0.7479999999999905,0.47399999999998954,6.703999999999951,11.041000000000054,1.4800000000000182,0.637000000000171,1.8400000000001455,4.6400000000001,4.056999999999999,1.8440000000000225,1.589999999999975,1.3999999999999773,2.841000000000008,0.6499999999999773,1.2790000000000532,2.6850000000000023,29.97199999999998,18.22199999999998,144.56499999999994,10.805999999999926,7.250999999999976,8.533000000000015,12.009000000000015,39.787000000000035,7.119000000000028,15.673999999999978,56.20100000000002,27.879999999999995,45.419000000000096,6.908999999999878,11.498000000000047,8.882000000000062,11.367999999999938,1.1060000000001082,3.7200000000000273,9.567000000000007,14.231999999999971,0.21199999999998909,3.2199999999999136,7.011999999999944,11.382000000000062,10.289999999999964,2.634999999999991,15.472999999999956,17.771999999999935,0.9600000000000364,5.525000000000091,13.606999999999971,3.1579999999999018,4.791999999999916,2.4459999999999127,10.584999999999582,4.267999999999574,2.405999999999949,4.753000000000156,11.82400000000007,14.319000000000415,8.773000000000138,6.677999999999884,5.218000000000302,2.6039999999998145,2.90099999999984,1.3289999999997235,5.279999999999745,10.748000000000047,8.504999999999654,26.565000000000055,1.6179999999999382,8.749000000000251,6.405999999999949,4.154999999999745,3.505000000000109,3.3580000000001746,6.8659999999999854,3.912000000000262,9.278999999999996,5.47400000000016,3.7029999999999745,36.115999999999985,10.146000000000186,2.4710000000000036,1.6419999999998254,3.850999999999658,86.60400000000027,0.5960000000000036,6.403999999999996,7.178000000000338,6.8409999999998945,0.8609999999998763,3.395999999999731,8.90099999999984,1.8479999999999563,4.71100000000024,8.4350000000004,3.4160000000001673,3.6039999999993597,2.3369999999995343,11.528000000000247,1.7200000000000273,0.40399999999999636,0.6900000000000546,0.599999999999909,0.5090000000000146,1.5599999999999454,0.5609999999999218,2.832000000000022,1.4320000000000164,1.0959999999999468,0.19599999999996953,0.4779999999999518,0.4780000000000655,0.34000000000003183,14.66700000000003,24.029999999999973,23.373000000000047,0.9170000000001437,1.0230000000001382,1.5269999999998163,0.5599999999999454,1.594000000000051,1.0229999999999109,0.6950000000001637,3.3179999999999836,0.11899999999999977,0.5600000000000023,5.158999999999992,8.024999999999977,1.0329999999999586,0.6000000000000227,0.7029999999999745,0.4410000000000309,9.0,0.8799999999999955,1.3569999999999993,4.089000000000002,0.6329999999999991,1.266999999999996,5.060000000000002,1.4359999999999786,6.3910000000000196,0.910000000000025,1.464999999999975,10.760000000000048,1.6539999999999964,1.336999999999989,3.9499999999999886,4.663000000000011,2.3570000000000277,5.935999999999979,1.788000000000011,1.4399999999999409,4.149000000000001,1.6090000000000373,4.692999999999984,4.2169999999999845,7.317000000000007,1.0509999999999309,4.9220000000000255,1.1589999999999918,7.544999999999959,5.038999999999987,7.798000000000002,1.8810000000000855,9.704999999999927,9.1400000000001,3.800000000000182,8.712999999999738,10.336999999999989,1.1979999999998654,5.513999999999669,1.9209999999998217,0.693000000000211,6.94399999999996,1.1979999999998654,16.898999999999887,2.3170000000000073,2.2029999999999745,1.456000000000131,7.6340000000000146,16.539000000000215,2.019999999999982,2.461999999999989,0.7470000000002983,8.8449999999998,12.446000000000367,6.443000000000211,4.088999999999942,9.369000000000142,1.5300000000002,8.750999999999749,10.080999999999676,1.2869999999998072,6.513999999999669,1.0579999999999927,1.2350000000000136,1.4390000000000782,2.8799999999999955,1.0479999999998881,2.841000000000008,0.9199999999999591,0.7899999999999636,0.36000000000001364,1.0400000000000773,1.6130000000000564,1.210000000000008,1.039999999999992,0.5199999999999818,0.45900000000006,0.19399999999995998,1.5730000000000928,0.31999999999993634,1.4499999999999993,1.51400000000001,1.5440000000000111,1.0270000000000152,6.1059999999999945,1.7900000000000205,0.875,1.0360000000000014,4.307000000000016,1.4209999999999923,5.189999999999998,6.0090000000000146,38.329000000000065,15.148000000000025,14.384000000000015,3.3039999999999736,10.565000000000055,7.317999999999984,20.399,0.759999999999998,0.8799999999999955,1.1599999999999682,0.6000000000000227,9.719999999999999,9.706999999999994,4.281000000000006,2.2299999999999898,7.21999999999997,2.819999999999993,3.4279999999999973,3.6000000000000227,7.279999999999973,8.358000000000061,3.5090000000000146,9.225999999999999,2.605000000000018,0.6169999999999618,16.422000000000025,1.5199999999999818,2.160000000000082,8.013000000000034,0.8399999999999181,1.3999999999999773,11.26299999999992,5.843999999999937,8.157000000000039,9.391000000000076,2.369000000000028,1.8799999999999955,1.6909999999999172,7.682999999999993,0.8400000000000318,2.6399999999999864,2.560000000000059,2.599999999999909,2.3070000000000164,4.642000000000053,14.634000000000015,0.4800000000000182,3.599999999999909,12.065000000000055,0.4800000000000182,1.6140000000000327,1.8229999999998654,4.862999999999829,16.56600000000003,18.908999999999878,12.234000000000151,2.6800000000000637,4.288999999999987,3.480000000000018,10.05600000000004,1.0,0.26300000000014734,3.9099999999998545,0.7200000000000273,2.5499999999999545,2.1200000000001182,0.6130000000000564,1.400000000000091,2.3460000000000036,0.9790000000000418,0.959999999999809,11.480000000000018,1.6209999999998672,3.9069999999999254,6.920000000000073,1.9689999999998236,21.211000000000013,1.6040000000000028,2.871000000000002,26.134,0.4410000000000025,0.8509999999999991,4.049000000000007,4.38900000000001,10.483000000000004,1.5,3.70799999999997,6.779000000000053,4.642999999999972,12.896999999999991,2.6779999999999973,1.0190000000000055,2.3409999999999513,1.9510000000000218,21.891999999999996,2.9499999999999886,9.168999999999983,24.345000000000027,2.258000000000038,3.048999999999978,1.1689999999999827,4.65300000000002,1.089999999999975,29.45900000000006,1.8220000000000027,3.0690000000000737,1.990000000000009,21.345000000000027,29.326000000000022,2.533999999999992,9.377000000000066,16.400999999999954,27.960000000000036,1.525000000000091,8.100999999999999,15.798999999999978,30.70799999999997,21.74000000000001,9.746000000000095,20.07199999999989,0.834999999999809,1.1590000000001055,19.003000000000156,4.238000000000056,7.05600000000004,1.87299999999982,7.471000000000004,29.260999999999967,24.163999999999987,20.59400000000005,1.7519999999999527,5.502999999999929,4.111000000000104,6.263999999999896,10.33400000000006,14.559999999999945,1.83199999999988,11.991999999999962,6.0069999999998345,17.4079999999999,2.34699999999998,6.057999999999993,4.138999999999896,6.757000000000062,4.189000000000078,1.9010000000000673,13.246000000000095,86.20600000000013,3.5950000000000273,4.633000000000038,2.855999999999767,1.5149999999998727,5.890999999999622,9.548999999999978,15.939000000000306,2.1489999999998872,1.9699999999998,21.721000000000004,9.25500000000011,6.839999999999691,9.57300000000032,9.736000000000331,3.3170000000000073,7.947999999999865,0.6840000000001965,9.168999999999869,8.15099999999984,3.338000000000193,2.1280000000001564,2.257999999999811,2.456000000000131,12.65899999999965,5.935999999999694,4.679000000000087,5.554000000000087,1.4450000000001637,3.16800000000012,4.96100000000024,4.389000000000124,11.236000000000331,10.156000000000404,11.838999999999942,2.9589999999998327,5.436999999999898,3.9359999999996944,4.306999999999789,7.302999999999884,4.842000000000098,0.3969999999999345,0.36599999999998545,3.34900000000016,0.9010000000002947,8.807999999999993,4.99599999999964,4.260999999999967,11.61999999999989,0.8209999999999127,3.2170000000000982,3.112999999999829,1.5349999999998545,6.588999999999942,10.769999999999982,0.30700000000024374,0.34600000000000364,6.358000000000175,1.5239999999998872,2.7609999999999673,0.8039999999996326,6.861000000000331,0.9809999999997672,1.16800000000012,0.9200000000000728,1.218000000000302,0.762000000000171,2.3160000000002583,5.5300000000002,8.581000000000131,2.925000000000182,2.7029999999999745,3.105000000000018,2.218000000000302,3.5670000000000073,5.3659999999999854,8.144999999999982,4.050999999999931,34.0300000000002,2.7919999999999163,19.319000000000415,1.1579999999999018,7.585999999999785,3.0099999999997635,6.709000000000287,1.2869999999998072,10.780999999999949,6.476999999999862,1.6080000000001746,7.617000000000189,5.079999999999927,8.757000000000062,10.230000000000018,3.356999999999971,9.042000000000371,2.405999999999949,1.0,1.1580000000003565,1.09900000000016,3.811999999999898,2.2519999999999527,5.9210000000002765,3.395999999999731,1.624000000000251,3.663000000000011,3.1289999999999054,4.197999999999865,5.711999999999989,14.349999999999909,0.8719999999998436,8.727000000000317,2.4549999999999272,0.8809999999998581,2.7719999999999345,3.149000000000342,13.720000000000255,3.963000000000193,1.405999999999949,4.80199999999968,4.4650000000001455,6.587999999999738,1.0300000000002,0.7730000000000246,1.8809999999999718,0.6430000000000291,3.4850000000000136,0.49500000000000455,1.8209999999999127,0.45299999999997453,2.58400000000006,1.8609999999998763,0.5139999999998963,2.5730000000000928,8.768000000000029,0.7919999999999163,1.8019999999999072,1.4160000000001673,15.159000000000106,0.47499999999990905,0.3450000000000273,1.8969999999999345,0.5809999999999036,0.6240000000000236,0.5300000000000011,0.5799999999999841,0.36000000000001364,2.396000000000015,1.4399999999999977,0.2230000000000132,3.8899999999999864,3.6899999999999977,0.9460000000000264,4.692999999999984,1.0500000000000114,8.620000000000005,4.519999999999982,0.8799999999999955,2.3700000000000045,2.2700000000000387,8.615000000000009,1.9850000000000136,5.939999999999998,7.169999999999959,6.337999999999965,3.5,2.51400000000001,1.009999999999991,0.8190000000000026,0.4900000000000091,2.819999999999993,0.4900000000000091,0.38999999999998636,0.9740000000000464,0.5599999999999454,0.81899999999996,1.0199999999999818,0.6340000000000146,0.8980000000000246,3.163000000000011,2.1289999999999054,1.1230000000000473,2.3759999999999764,0.7630000000001473,0.8420000000000982,0.7730000000001382,0.6140000000000327,0.6929999999999836,1.365000000000009,1.4359999999999218,30.12000000000012,0.8510000000001128,0.8709999999998672,1.5149999999998727,8.704000000000178,0.7619999999999436,2.839999999999918,1.3360000000000127,0.9210000000000491,4.6440000000000055,1.4849999999999,8.004999999999882,3.241999999999962,14.366999999999962,1.06899999999996,1.981999999999971,0.5449999999998454,2.33400000000006,1.1880000000001019,0.7919999999999163,7.071999999999889,3.1390000000001237,33.42000000000007,10.865999999999985,1.0489999999999782,2.405999999999949,9.451000000000022,43.99299999999994,25.486000000000104,0.930000000000291,19.81899999999996,15.96600000000035,0.5640000000003056,1.3670000000001892,4.494999999999891,1.1589999999996508,6.083000000000084,6.6550000000002,10.286999999999807,15.251000000000204,7.4900000000002365,14.634000000000015,2.524000000000342,62.99400000000014,1.7820000000001528,1.7029999999999745,8.239999999999995,3.445999999999998,4.600000000000023,1.960000000000008,0.6000000000000227,0.8849999999999909,3.159999999999968,26.76100000000008,44.31299999999999,11.879999999999995,3.534999999999968,14.746999999999957,0.6399999999998727,6.920000000000073,0.5240000000001146,1.3969999999999345,0.44000000000005457,5.7280000000000655,2.7000000000000455,2.3199999999999363,0.38599999999996726,2.384999999999991,1.6109999999998763,0.7920000000001437,0.39000000000010004,0.7129999999999654,7.2239999999999895,8.177999999999997,3.4249999999999545,2.774000000000001,14.15300000000002,13.586999999999989,0.33799999999996544,0.4230000000000018,1.75,1.2229999999999563,1.7700000000000955,1.7399999999999984,2.7900000000000205,0.5349999999999966,7.128000000000014,25.963000000000022,18.050999999999988,5.87399999999991,23.576000000000022,1.8970000000000482,76.28399999999999,0.4600000000000364,4.604000000000042,12.048999999999978,8.396999999999935,0.5940000000000509,0.9339999999999691,1.4600000000000364,1.4459999999999127,0.9970000000000709,0.8799999999998818,5.27800000000002,1.0620000000001255,0.6040000000000418,0.7599999999999909,2.8360000000000127,1.933999999999969,1.6620000000000346,1.8869999999999436,1.1340000000000146,1.1479999999999109,1.20900000000006,0.6089999999999236,2.3179999999999836,2.543999999999869,1.2280000000000655,0.1999999999998181,1.275000000000091,2.086999999999989,1.6889999999998508,0.8419999999998709,0.40000000000009095,4.773000000000138,8.079999999999927,11.400000000000091,0.5740000000000123,0.9200000000000728,2.2609999999999673,0.35999999999989996,1.5419999999999163,5.272999999999911,0.6839999999999691,1.6800000000000637,4.199999999999818,0.9200000000000728,4.247000000000071,1.5820000000001073,3.61200000000008,1.8009999999999309,1.1679999999998927,11.94399999999996,2.1030000000000655,1.4399999999998272,0.4399999999998272,1.7989999999999782,8.414999999999964,2.9200000000000728,1.6990000000000691,6.583000000000084,1.2899999999999636,0.5599999999999454,0.599999999999909,4.7800000000002,0.31999999999999673,2.4509999999999934,1.6040000000000134,1.7179999999999893,0.8980000000000246,1.615000000000009,7.0470000000000255,37.34599999999995,8.795000000000073,13.129999999999995,10.481999999999971,15.0,13.761999999999944,4.523999999999887,1.5119999999999436,0.5600000000000023,1.3999999999999773,0.6180000000000518,0.42200000000002547,1.0400000000000773,2.2799999999999727,0.31999999999993634,0.7599999999999909,1.400000000000091,2.354000000000042,2.3600000000000136,1.3199999999999363,1.9289999999999736,1.2649999999998727,0.12400000000002365,7.020999999999958,1.622000000000071,1.5090000000000146,18.55600000000004,17.597999999999956,32.26099999999997,3.7919999999999163,0.8120000000001255,1.224999999999909,0.6030000000000655,2.7950000000000728,5.145999999999958,3.1089999999999236,1.4450000000001637,4.487999999999829,1.7820000000001528,2.5039999999999054,0.9369999999998981,0.4079999999999018,1.8350000000000364,4.2970000000000255,3.2080000000000837,0.5869999999999891,4.01700000000028,4.079999999999927,2.742000000000189,2.1199999999999974,0.9769999999999754,5.179000000000087,0.7699999999999818,8.794999999999959,3.272000000000048,4.5,2.0570000000000164,6.54099999999994,2.2759999999999536,4.265999999999963,1.3859999999999673,3.173999999999978,11.831999999999994,10.34800000000007,2.8050000000000637,5.652000000000044,6.109000000000151,33.41399999999999,2.477999999999838,29.160000000000082,5.151000000000067,1.240000000000009,2.3810000000000855,2.3050000000000637,3.537000000000006,1.0899999999999181,0.9900000000000091,1.7229999999999563,2.7260000000001128,1.2870000000000346,1.9800000000000182,3.79300000000012,5.411000000000058,2.8420000000000982,1.821999999999889,0.7080000000000837,1.5150000000001,5.835000000000036,10.09199999999987,2.75,1.6600000000000819,1.09900000000016,3.711999999999989,3.7719999999999345,1.6130000000002838,3.0099999999997635,3.76299999999992,3.436000000000149,3.8290000000001783,13.384000000000015,2.869999999999891,0.9699999999997999,0.41000000000030923,5.335000000000008,2.1899999999999977,13.437000000000012,24.376000000000033,5.752999999999986,2.170000000000016,32.93700000000001,19.875999999999976,7.755999999999972,3.7060000000000173,1.4149999999999636,1.8400000000001455,2.7200000000000273,0.2559999999998581,0.5979999999999563,0.19900000000006912,3.02599999999984,0.6000000000001364,4.341000000000122,3.658999999999878,15.096000000000004,1.7200000000000273,6.747000000000071,6.111999999999853,18.045000000000073,2.7650000000001,2.759999999999991,5.47199999999998,7.289999999999964,0.17000000000007276,1.1620000000000346,6.001999999999953,14.097999999999956,7.2840000000001055,6.163999999999987,10.316000000000031,5.2690000000000055,0.35999999999989996,2.3330000000000837,0.4640000000000555,0.5940000000000509,0.6499999999998636,0.49499999999989086,0.27700000000004366,0.9039999999999964,1.30600000000004,0.5860000000000127,1.0460000000000491,0.8019999999999072,1.7509999999999764,0.6620000000000346,0.2799999999999727,5.447000000000003,0.3650000000000091,3.344000000000051,5.823999999999955,3.5200000000000955,8.090000000000032,0.44400000000007367,3.899000000000001,7.3810000000000855,1.8269999999999982,3.394999999999982,2.2450000000000045,5.179000000000087,0.6399999999999864,2.2000000000000455,0.86099999999999,0.8649999999998954,1.2859999999999445,0.4149999999999636,1.1499999999999773,4.01299999999992,10.875999999999976,0.7490000000000236,1.6800000000000637,1.8379999999999654,5.481999999999971,4.194999999999936,6.97199999999998,0.6910000000000309,0.9079999999999018,0.79099999999994,4.175999999999931,3.838999999999942,7.625,0.44000000000005457,0.5729999999999791,1.080000000000041,0.14400000000000546,0.625,0.7200000000000273,0.35999999999989996,0.7200000000000273,3.6770000000001346,2.0219999999999345,1.859000000000151,0.7700000000000955,2.439999999999941,3.090000000000032,0.9600000000000364,23.54600000000005,1.9800000000000182,17.330999999999904,27.761999999999944,9.323999999999842,1.45900000000006,4.810999999999922,11.753000000000156,16.70900000000006,1.0600000000001728,0.7999999999999545,4.112999999999829,26.92600000000016,30.442000000000007,2.911000000000058,0.6039999999998145,1.8199999999999363,1.8910000000000764,4.990000000000009,12.381000000000085,3.009999999999991,0.6399999999998727,2.6219999999998436,5.06899999999996,10.088999999999942,6.764999999999873,8.316000000000031,23.429999999999836,41.20100000000025,7.010000000000218,34.19999999999982,5.5219999999999345,8.422000000000025,18.635999999999967,18.76399999999967,1.8020000000001346,9.47400000000016,3.611000000000331,3.6890000000003056,5.277000000000044,16.295000000000073,4.875,0.6190000000001419,1.1600000000003092,5.382999999999811,2.4899999999997817,0.4800000000000182,0.7719999999999345,8.00799999999981,2.73299999999972,1.7979999999997744,0.20000000000000284,0.6690000000000111,0.5500000000000114,5.129000000000019,0.41900000000003956,6.310000000000002,7.189999999999941,10.56000000000006,6.240000000000009,5.009999999999991,1.599999999999909,9.639999999999986,8.740000000000009,9.180000000000064,8.590000000000032,4.720000000000027,4.8689999999999145,3.1200000000000045,2.0090000000000146,4.419999999999845,0.81899999999996,0.44000000000005457,1.1600000000000819,0.599999999999909,0.40000000000009095,0.36000000000012733,1.3199999999999363,3.0,2.1599999999998545,3.0,4.919999999999845,6.960000000000036,0.8399999999996908,1.1299999999999955,1.3700000000000045,1.4459999999999127,0.6169999999999618,3.6440000000000055,1.2270000000000891,1.780999999999949,3.275000000000091,3.9880000000000564,9.593000000000075,1.9559999999999036,7.43100000000004,2.62299999999982,4.191000000000031,3.619999999999891,8.55600000000004,1.0889999999999418,1.0500000000000114,1.0200000000000387,26.216000000000008,28.509000000000015,23.647000000000048,18.189000000000078,40.611999999999966,13.033000000000015,1.2559999999998581,16.047000000000025,0.39000000000000057,0.3569999999999993,1.259999999999991,1.3199999999999932,1.2300000000000182,0.8199999999999932,1.0100000000000477,6.6200000000000045,4.160000000000082,8.370000000000005,3.0149999999999864,1.17999999999995,2.5570000000000164,7.307000000000016,2.0130000000001473,2.7779999999997926,0.4920000000001892,6.722999999999956,2.612999999999829,4.514999999999873,0.7129999999999654,0.8609999999998763,0.8910000000000764,2.048000000000002,0.3510000000001128,1.9020000000000437,3.4750000000001364,3.216999999999871,20.309999999999945,1.4849999999999,1.247000000000071,2.4550000000001546,7.439999999999827,62.087999999999965,3.553000000000111,1.0399999999999636,1.574999999999818,16.56100000000015,4.078999999999951,24.28099999999995,9.858000000000175,6.09900000000016,6.4340000000001965,4.653000000000247,3.4850000000001273,9.257000000000062,1.7829999999999018,5.295999999999822,38.61899999999969,0.9039999999999964,11.523999999999887,1.9400000000000546,1.5260000000002947,5.299999999999727,3.924999999999727,0.6419999999998254,0.6399999999998727,0.9179999999996653,4.829000000000178,0.9600000000000364,0.5659999999998035,50.210000000000036,16.039000000000044,24.801999999999907,0.5350000000000819,1.3859999999999992,1.2270000000000891,0.7200000000000273,1.6440000000000055,2.0399999999999636,0.83199999999988,0.4259999999999309,1.1880000000001019,0.47700000000008913,0.6240000000000236,1.3530000000000655,0.7889999999999873,0.32799999999997453,0.3209999999999127,0.7899999999999636,0.6790000000000873,2.0499999999999545,0.9500000000000455,0.4700000000000273,0.8099999999999454,1.259999999999991,2.800000000000182,2.380000000000109,0.2799999999999727,1.0799999999999272,0.7999999999999545,0.5199999999999818,1.199999999999818,0.9959999999999987,1.1990000000000123,0.7830000000000155,12.778999999999996,14.750999999999976,7.8559999999999945,17.319000000000074,7.7549999999999955,1.27800000000002,3.8640000000000327,15.076999999999998,0.51400000000001,0.6909999999998035,1.0709999999999127,1.1289999999999054,0.6340000000000146,4.599999999999909,0.5640000000000782,4.322000000000116,0.9710000000000036,1.2080000000000837,0.49499999999989086,2.0599999999999454,0.6399999999998727,0.4650000000001455,1.9600000000000364,1.990000000000009,1.1390000000001237,0.8279999999999745,1.1679999999996653,0.9500000000002728,1.1079999999997199,0.8519999999998618,3.701000000000022,29.983000000000175,2.430000000000291,24.968999999999596,17.585000000000036,3.5599999999999454,9.811999999999898,17.99900000000025,44.22400000000016,23.45400000000018,8.405999999999949,1.1119999999996253,0.7839999999999918,6.620999999999981,0.44000000000005457,0.4800000000000182,7.210000000000036,1.2899999999999636,0.6829999999999927,9.5,0.9329999999999927,0.5690000000000737,1.3559999999999945,0.15800000000000125,0.8799999999999955,0.5169999999999959,0.22100000000000364,10.319999999999993,1.6000000000000227,0.28000000000002956,0.9110000000000014,9.67999999999995,1.1200000000000045,17.476,1.4010000000000105,7.150999999999954,3.7029999999999745,3.0160000000000764,2.54300000000012,0.5050000000001091,10.718000000000075,10.274999999999864,5.879999999999882,1.3599999999999,4.175999999999931,0.5199999999999818,0.9629999999999654,0.7519999999999527,0.2799999999999727,1.4800000000000182,3.387000000000171,0.40000000000009095,0.20000000000004547,0.6400000000001,0.599999999999909,1.3139999999998508,2.620999999999867,1.08400000000006,0.7670000000000528,1.1829999999999927,1.0,1.3239999999998417,0.7599999999999909,0.6040000000000418,4.559999999999945,2.4120000000000346,0.7980000000000018,2.2110000000000127,1.0499999999999545,0.8130000000001019,0.8569999999999709,0.3009999999999309,4.29300000000012,1.6399999999998727,1.8450000000000273,3.229000000000042,2.72400000000016,2.3859999999999673,0.6950000000001637,2.6849999999999454,1.5299999999999727,0.3990000000001146,4.754999999999882,9.904999999999973,5.5750000000000455,0.6900000000000546,0.8899999999999864,4.580000000000041,2.5659999999999172,2.32000000000005,2.161000000000058,7.829000000000065,0.8000000000000682,0.8400000000000318,3.3559999999999945,2.8479999999999563,0.36000000000001364,3.3210000000000264,8.508000000000038,1.5199999999999818,1.4000000000000021,0.35900000000000887,0.5199999999999818,2.479000000000042,2.9039999999999964,4.528999999999996,11.131000000000085,6.217999999999961,14.323000000000093,1.6739999999999782,8.918000000000006,8.096000000000004,8.746999999999957,8.438999999999965,2.5579999999999927,11.07899999999995,14.559999999999945,17.519000000000005,2.038000000000011,6.2000000000000455,0.5350000000000819,0.1290000000001328,0.6759999999999309,4.009999999999991,1.6309999999998581,4.419000000000096,2.040000000000191,2.9049999999999727,3.34900000000016,1.4559999999999036,2.19399999999996,1.719000000000051,5.656999999999925,1.3230000000000928,3.1770000000001346,0.14600000000018554,1.199999999999818,2.566000000000031,1.1200000000001182,3.574000000000069,1.0160000000000764,2.884999999999991,1.0890000000001692,0.4259999999999309,1.2080000000000837,1.5640000000003056,2.0100000000002183,2.230000000000018,1.3099999999999454,2.230000000000018,0.7899999999999636,12.440000000000055,3.268000000000029,33.18899999999985,13.79600000000005,7.982999999999947,101.62900000000013,0.21700000000009823,14.177999999999884,30.163999999999987,7.710000000000036,0.3989999999998872,0.1959999999999127,15.800000000000182,1.240000000000009,0.32100000000014006,1.3379999999999654,0.2480000000000473,1.4360000000001492,0.3999999999998636,0.36599999999998545,0.9499999999999993,0.8880000000000052,0.8000000000000114,0.9780000000000086,0.9809999999999945,0.6820000000000164,0.5849999999999795,0.6829999999999927,2.974999999999966,8.960000000000036,7.384999999999991,7.944999999999993,13.47399999999999,1.1709999999999354,3.1230000000000473,3.3290000000000646,5.903999999999996,1.2709999999999582,0.3570000000000846,0.2400000000000091,2.991999999999962,0.35799999999994725,1.0399999999999636,0.20000000000004547,3.325000000000003,4.209000000000003,2.14700000000002,4.79400000000004,0.9909999999999854,2.199999999999932,1.009999999999991,2.9220000000000255,2.73700000000008,2.2189999999999372,1.1709999999999354,9.655999999999949,1.913000000000011,6.451000000000022,3.6760000000000446,4.060000000000059,3.955000000000041,1.7879999999998972,3.783999999999992,4.278999999999996,3.891999999999939,5.937999999999988,7.053999999999974,2.66700000000003,1.4149999999999636,4.043000000000006,2.3700000000001182,10.466000000000122,7.658000000000129,10.771000000000186,7.83400000000006,2.8920000000000528,14.053000000000111,6.180000000000064,2.20699999999988,7.4500000000000455,3.25,0.7049999999999272,6.4699999999998,3.7469999999998436,3.4149999999999636,39.03099999999995,55.958000000000084,3.484000000000151,2.30600000000004,0.9360000000001492,1.8099999999999454,1.365000000000009,3.076999999999998,0.9919999999999618,3.4859999999998763,2.6039999999998145,2.941000000000031,2.2000000000000455,2.6489999999998872,2.991000000000213,2.2519999999999527,1.81899999999996,8.492999999999938,1.7560000000000855,2.0540000000000873,1.918999999999869,1.0399999999999636,2.0879999999999654,0.2400000000000091,1.5639999999999645,0.2799999999999727,0.2799999999999727,0.5529999999999973,0.18799999999998818,1.5199999999999818,0.4399999999999409,0.4519999999999982,3.5570000000000164,0.9210000000000491,0.32000000000005,1.0799999999999272,0.5900000000001455,0.5989999999999327,0.9600000000000364,3.0119999999999436,2.719000000000051,2.40300000000002,0.7190000000000509,3.2409999999999854,5.48700000000008,2.0520000000001346,7.845000000000027,9.307000000000016,2.242999999999938,0.5600000000000591,0.7100000000000364,1.0599999999999454,3.966000000000008,0.7200000000000273,0.4800000000000182,0.6299999999999955,1.1100000000000136,2.2200000000000273,1.4700000000000273,0.9199999999999591,0.4399999999999409,2.050000000000068,0.42999999999995,0.7000000000000455,0.650000000000091,0.36000000000001364,0.34999999999990905,2.240000000000009,1.4399999999999977,2.240000000000009,2.5599999999999454,23.960000000000036,3.160000000000082,14.559000000000196,16.11999999999989,2.6400000000001,1.040000000000191,1.8800000000001091,3.119999999999891,1.5199999999999818,2.196999999999889,1.8799999999998818,1.7200000000000273,0.8179999999999836,0.7579999999998108,0.599999999999909,3.199999999999818,1.4800000000000182,0.7229999999999563,0.6630000000000109,0.5340000000001055,1.0,0.20000000000001705,0.5199999999999818,0.5120000000000005,1.627999999999986,1.1610000000000014,2.3280000000000314,0.2389999999999759,2.038000000000011,0.8739999999999668,4.079999999999984,1.0220000000000482,1.622000000000071,1.32000000000005,1.5199999999999818,3.850999999999999,1.5989999999999327,0.7930000000000064,2.090000000000032,1.2620000000000573,1.0799999999999272,2.189999999999941,5.79200000000003,0.8799999999999955,2.2910000000000537,0.9199999999999591,3.8799999999999955,0.4750000000001364,2.8730000000000473,1.09699999999998,0.31999999999993634,1.634999999999991,1.29099999999994,0.9900000000000091,2.125,0.6699999999999591,3.4990000000000236,5.259999999999991,63.43100000000004,0.9489999999998417,22.840000000000146,10.391000000000076,51.980999999999995,14.465999999999894,14.559999999999945,5.461999999999989,5.044000000000096,0.9960000000000946,0.9539999999999509,0.1590000000001055,2.4249999999999545,1.2619999999999436,0.9599999999999795,0.4770000000000323,0.36100000000004684,0.9499999999999886,2.3240000000000123,16.251000000000033,71.755,16.02800000000002,27.34599999999989,14.879000000000019,1.4390000000000782,0.7599999999999909,2.98700000000008,1.2299999999999613,2.2999999999999545,4.956000000000017,3.8799999999999955,7.720000000000027,2.5550000000000637,8.269999999999982,4.8599999999999,0.7599999999999909,4.194999999999936,6.048999999999978,1.3200000000000003,3.3500000000000227,1.6850000000000591,3.1000000000000227,3.7730000000000246,5.0779999999999745,1.2110000000000127,11.42999999999995,31.355000000000018,2.757000000000062,6.554000000000087,10.274000000000115,4.570999999999913,3.0519999999999072,1.033999999999999,0.9309999999999974,0.6399999999999864,0.5200000000000387,1.34699999999998,0.5200000000000387,0.19399999999995998,0.6030000000000086,3.008999999999901,1.504000000000019,6.847999999999956,4.670999999999935,3.4710000000000036,6.058999999999969,5.759999999999991,5.191000000000031,0.9199999999999591,0.6399999999999864,0.9919999999999618,2.785000000000082,3.3630000000000564,2.2259999999998854,1.4149999999999636,4.548999999999978,0.2039999999999509,0.7580000000000382,2.87700000000018,1.0,1.1269999999999527,3.5329999999999018,0.18200000000001637,0.3809999999998581,2.370999999999867,1.706000000000131,0.9200000000000017,3.105000000000018,0.15499999999997272,1.5079999999999245,0.9990000000000236,0.7910000000001673],\"xaxis\":\"x\",\"yaxis\":\"y\",\"type\":\"histogram\"}],                        {\"template\":{\"data\":{\"histogram2dcontour\":[{\"type\":\"histogram2dcontour\",\"colorbar\":{\"outlinewidth\":0,\"ticks\":\"\"},\"colorscale\":[[0.0,\"#0d0887\"],[0.1111111111111111,\"#46039f\"],[0.2222222222222222,\"#7201a8\"],[0.3333333333333333,\"#9c179e\"],[0.4444444444444444,\"#bd3786\"],[0.5555555555555556,\"#d8576b\"],[0.6666666666666666,\"#ed7953\"],[0.7777777777777778,\"#fb9f3a\"],[0.8888888888888888,\"#fdca26\"],[1.0,\"#f0f921\"]]}],\"choropleth\":[{\"type\":\"choropleth\",\"colorbar\":{\"outlinewidth\":0,\"ticks\":\"\"}}],\"histogram2d\":[{\"type\":\"histogram2d\",\"colorbar\":{\"outlinewidth\":0,\"ticks\":\"\"},\"colorscale\":[[0.0,\"#0d0887\"],[0.1111111111111111,\"#46039f\"],[0.2222222222222222,\"#7201a8\"],[0.3333333333333333,\"#9c179e\"],[0.4444444444444444,\"#bd3786\"],[0.5555555555555556,\"#d8576b\"],[0.6666666666666666,\"#ed7953\"],[0.7777777777777778,\"#fb9f3a\"],[0.8888888888888888,\"#fdca26\"],[1.0,\"#f0f921\"]]}],\"heatmap\":[{\"type\":\"heatmap\",\"colorbar\":{\"outlinewidth\":0,\"ticks\":\"\"},\"colorscale\":[[0.0,\"#0d0887\"],[0.1111111111111111,\"#46039f\"],[0.2222222222222222,\"#7201a8\"],[0.3333333333333333,\"#9c179e\"],[0.4444444444444444,\"#bd3786\"],[0.5555555555555556,\"#d8576b\"],[0.6666666666666666,\"#ed7953\"],[0.7777777777777778,\"#fb9f3a\"],[0.8888888888888888,\"#fdca26\"],[1.0,\"#f0f921\"]]}],\"heatmapgl\":[{\"type\":\"heatmapgl\",\"colorbar\":{\"outlinewidth\":0,\"ticks\":\"\"},\"colorscale\":[[0.0,\"#0d0887\"],[0.1111111111111111,\"#46039f\"],[0.2222222222222222,\"#7201a8\"],[0.3333333333333333,\"#9c179e\"],[0.4444444444444444,\"#bd3786\"],[0.5555555555555556,\"#d8576b\"],[0.6666666666666666,\"#ed7953\"],[0.7777777777777778,\"#fb9f3a\"],[0.8888888888888888,\"#fdca26\"],[1.0,\"#f0f921\"]]}],\"contourcarpet\":[{\"type\":\"contourcarpet\",\"colorbar\":{\"outlinewidth\":0,\"ticks\":\"\"}}],\"contour\":[{\"type\":\"contour\",\"colorbar\":{\"outlinewidth\":0,\"ticks\":\"\"},\"colorscale\":[[0.0,\"#0d0887\"],[0.1111111111111111,\"#46039f\"],[0.2222222222222222,\"#7201a8\"],[0.3333333333333333,\"#9c179e\"],[0.4444444444444444,\"#bd3786\"],[0.5555555555555556,\"#d8576b\"],[0.6666666666666666,\"#ed7953\"],[0.7777777777777778,\"#fb9f3a\"],[0.8888888888888888,\"#fdca26\"],[1.0,\"#f0f921\"]]}],\"surface\":[{\"type\":\"surface\",\"colorbar\":{\"outlinewidth\":0,\"ticks\":\"\"},\"colorscale\":[[0.0,\"#0d0887\"],[0.1111111111111111,\"#46039f\"],[0.2222222222222222,\"#7201a8\"],[0.3333333333333333,\"#9c179e\"],[0.4444444444444444,\"#bd3786\"],[0.5555555555555556,\"#d8576b\"],[0.6666666666666666,\"#ed7953\"],[0.7777777777777778,\"#fb9f3a\"],[0.8888888888888888,\"#fdca26\"],[1.0,\"#f0f921\"]]}],\"mesh3d\":[{\"type\":\"mesh3d\",\"colorbar\":{\"outlinewidth\":0,\"ticks\":\"\"}}],\"scatter\":[{\"fillpattern\":{\"fillmode\":\"overlay\",\"size\":10,\"solidity\":0.2},\"type\":\"scatter\"}],\"parcoords\":[{\"type\":\"parcoords\",\"line\":{\"colorbar\":{\"outlinewidth\":0,\"ticks\":\"\"}}}],\"scatterpolargl\":[{\"type\":\"scatterpolargl\",\"marker\":{\"colorbar\":{\"outlinewidth\":0,\"ticks\":\"\"}}}],\"bar\":[{\"error_x\":{\"color\":\"#2a3f5f\"},\"error_y\":{\"color\":\"#2a3f5f\"},\"marker\":{\"line\":{\"color\":\"#E5ECF6\",\"width\":0.5},\"pattern\":{\"fillmode\":\"overlay\",\"size\":10,\"solidity\":0.2}},\"type\":\"bar\"}],\"scattergeo\":[{\"type\":\"scattergeo\",\"marker\":{\"colorbar\":{\"outlinewidth\":0,\"ticks\":\"\"}}}],\"scatterpolar\":[{\"type\":\"scatterpolar\",\"marker\":{\"colorbar\":{\"outlinewidth\":0,\"ticks\":\"\"}}}],\"histogram\":[{\"marker\":{\"pattern\":{\"fillmode\":\"overlay\",\"size\":10,\"solidity\":0.2}},\"type\":\"histogram\"}],\"scattergl\":[{\"type\":\"scattergl\",\"marker\":{\"colorbar\":{\"outlinewidth\":0,\"ticks\":\"\"}}}],\"scatter3d\":[{\"type\":\"scatter3d\",\"line\":{\"colorbar\":{\"outlinewidth\":0,\"ticks\":\"\"}},\"marker\":{\"colorbar\":{\"outlinewidth\":0,\"ticks\":\"\"}}}],\"scattermapbox\":[{\"type\":\"scattermapbox\",\"marker\":{\"colorbar\":{\"outlinewidth\":0,\"ticks\":\"\"}}}],\"scatterternary\":[{\"type\":\"scatterternary\",\"marker\":{\"colorbar\":{\"outlinewidth\":0,\"ticks\":\"\"}}}],\"scattercarpet\":[{\"type\":\"scattercarpet\",\"marker\":{\"colorbar\":{\"outlinewidth\":0,\"ticks\":\"\"}}}],\"carpet\":[{\"aaxis\":{\"endlinecolor\":\"#2a3f5f\",\"gridcolor\":\"white\",\"linecolor\":\"white\",\"minorgridcolor\":\"white\",\"startlinecolor\":\"#2a3f5f\"},\"baxis\":{\"endlinecolor\":\"#2a3f5f\",\"gridcolor\":\"white\",\"linecolor\":\"white\",\"minorgridcolor\":\"white\",\"startlinecolor\":\"#2a3f5f\"},\"type\":\"carpet\"}],\"table\":[{\"cells\":{\"fill\":{\"color\":\"#EBF0F8\"},\"line\":{\"color\":\"white\"}},\"header\":{\"fill\":{\"color\":\"#C8D4E3\"},\"line\":{\"color\":\"white\"}},\"type\":\"table\"}],\"barpolar\":[{\"marker\":{\"line\":{\"color\":\"#E5ECF6\",\"width\":0.5},\"pattern\":{\"fillmode\":\"overlay\",\"size\":10,\"solidity\":0.2}},\"type\":\"barpolar\"}],\"pie\":[{\"automargin\":true,\"type\":\"pie\"}]},\"layout\":{\"autotypenumbers\":\"strict\",\"colorway\":[\"#636efa\",\"#EF553B\",\"#00cc96\",\"#ab63fa\",\"#FFA15A\",\"#19d3f3\",\"#FF6692\",\"#B6E880\",\"#FF97FF\",\"#FECB52\"],\"font\":{\"color\":\"#2a3f5f\"},\"hovermode\":\"closest\",\"hoverlabel\":{\"align\":\"left\"},\"paper_bgcolor\":\"white\",\"plot_bgcolor\":\"#E5ECF6\",\"polar\":{\"bgcolor\":\"#E5ECF6\",\"angularaxis\":{\"gridcolor\":\"white\",\"linecolor\":\"white\",\"ticks\":\"\"},\"radialaxis\":{\"gridcolor\":\"white\",\"linecolor\":\"white\",\"ticks\":\"\"}},\"ternary\":{\"bgcolor\":\"#E5ECF6\",\"aaxis\":{\"gridcolor\":\"white\",\"linecolor\":\"white\",\"ticks\":\"\"},\"baxis\":{\"gridcolor\":\"white\",\"linecolor\":\"white\",\"ticks\":\"\"},\"caxis\":{\"gridcolor\":\"white\",\"linecolor\":\"white\",\"ticks\":\"\"}},\"coloraxis\":{\"colorbar\":{\"outlinewidth\":0,\"ticks\":\"\"}},\"colorscale\":{\"sequential\":[[0.0,\"#0d0887\"],[0.1111111111111111,\"#46039f\"],[0.2222222222222222,\"#7201a8\"],[0.3333333333333333,\"#9c179e\"],[0.4444444444444444,\"#bd3786\"],[0.5555555555555556,\"#d8576b\"],[0.6666666666666666,\"#ed7953\"],[0.7777777777777778,\"#fb9f3a\"],[0.8888888888888888,\"#fdca26\"],[1.0,\"#f0f921\"]],\"sequentialminus\":[[0.0,\"#0d0887\"],[0.1111111111111111,\"#46039f\"],[0.2222222222222222,\"#7201a8\"],[0.3333333333333333,\"#9c179e\"],[0.4444444444444444,\"#bd3786\"],[0.5555555555555556,\"#d8576b\"],[0.6666666666666666,\"#ed7953\"],[0.7777777777777778,\"#fb9f3a\"],[0.8888888888888888,\"#fdca26\"],[1.0,\"#f0f921\"]],\"diverging\":[[0,\"#8e0152\"],[0.1,\"#c51b7d\"],[0.2,\"#de77ae\"],[0.3,\"#f1b6da\"],[0.4,\"#fde0ef\"],[0.5,\"#f7f7f7\"],[0.6,\"#e6f5d0\"],[0.7,\"#b8e186\"],[0.8,\"#7fbc41\"],[0.9,\"#4d9221\"],[1,\"#276419\"]]},\"xaxis\":{\"gridcolor\":\"white\",\"linecolor\":\"white\",\"ticks\":\"\",\"title\":{\"standoff\":15},\"zerolinecolor\":\"white\",\"automargin\":true,\"zerolinewidth\":2},\"yaxis\":{\"gridcolor\":\"white\",\"linecolor\":\"white\",\"ticks\":\"\",\"title\":{\"standoff\":15},\"zerolinecolor\":\"white\",\"automargin\":true,\"zerolinewidth\":2},\"scene\":{\"xaxis\":{\"backgroundcolor\":\"#E5ECF6\",\"gridcolor\":\"white\",\"linecolor\":\"white\",\"showbackground\":true,\"ticks\":\"\",\"zerolinecolor\":\"white\",\"gridwidth\":2},\"yaxis\":{\"backgroundcolor\":\"#E5ECF6\",\"gridcolor\":\"white\",\"linecolor\":\"white\",\"showbackground\":true,\"ticks\":\"\",\"zerolinecolor\":\"white\",\"gridwidth\":2},\"zaxis\":{\"backgroundcolor\":\"#E5ECF6\",\"gridcolor\":\"white\",\"linecolor\":\"white\",\"showbackground\":true,\"ticks\":\"\",\"zerolinecolor\":\"white\",\"gridwidth\":2}},\"shapedefaults\":{\"line\":{\"color\":\"#2a3f5f\"}},\"annotationdefaults\":{\"arrowcolor\":\"#2a3f5f\",\"arrowhead\":0,\"arrowwidth\":1},\"geo\":{\"bgcolor\":\"white\",\"landcolor\":\"#E5ECF6\",\"subunitcolor\":\"white\",\"showland\":true,\"showlakes\":true,\"lakecolor\":\"white\"},\"title\":{\"x\":0.05},\"mapbox\":{\"style\":\"light\"}}},\"xaxis\":{\"anchor\":\"y\",\"domain\":[0.0,1.0],\"title\":{\"text\":\"Event duration\"}},\"yaxis\":{\"anchor\":\"x\",\"domain\":[0.0,1.0],\"title\":{\"text\":\"count\"}},\"legend\":{\"tracegroupgap\":0},\"margin\":{\"t\":60},\"barmode\":\"relative\",\"title\":{\"text\":\"Distribution of event durations\",\"y\":0.95,\"x\":0.5,\"xanchor\":\"center\",\"yanchor\":\"top\"}},                        {\"responsive\": true}                    ).then(function(){\n",
       "                            \n",
       "var gd = document.getElementById('d54d3906-9486-4194-a630-b2bb05e76ddf');\n",
       "var x = new MutationObserver(function (mutations, observer) {{\n",
       "        var display = window.getComputedStyle(gd).display;\n",
       "        if (!display || display === 'none') {{\n",
       "            console.log([gd, 'removed!']);\n",
       "            Plotly.purge(gd);\n",
       "            observer.disconnect();\n",
       "        }}\n",
       "}});\n",
       "\n",
       "// Listen for the removal of the full notebook cells\n",
       "var notebookContainer = gd.closest('#notebook-container');\n",
       "if (notebookContainer) {{\n",
       "    x.observe(notebookContainer, {childList: true});\n",
       "}}\n",
       "\n",
       "// Listen for the clearing of the current output cell\n",
       "var outputEl = gd.closest('.output');\n",
       "if (outputEl) {{\n",
       "    x.observe(outputEl, {childList: true});\n",
       "}}\n",
       "\n",
       "                        })                };                });            </script>        </div>"
      ]
     },
     "metadata": {},
     "output_type": "display_data"
    }
   ],
   "source": [
    "event_time = events_df.Completion - events_df.Init\n",
    "fig = px.histogram(x=event_time, nbins=30)\n",
    "fig.update_layout(\n",
    "    xaxis_title=\"Event duration\",\n",
    "    title={\n",
    "        'text': \"Distribution of event durations\",\n",
    "        'y':0.95,\n",
    "        'x':0.5,\n",
    "        'xanchor': 'center',\n",
    "        'yanchor': 'top'\n",
    "    }\n",
    ")\n",
    "fig.show()"
   ]
  },
  {
   "cell_type": "markdown",
   "metadata": {},
   "source": [
    "<p style=\"font-family: consolas; font-size: 16px;\">❔ How the bar chart looks like for categorical field <code>Type</code>.</p>"
   ]
  },
  {
   "cell_type": "code",
   "execution_count": 73,
   "metadata": {
    "execution": {
     "iopub.execute_input": "2023-07-14T02:26:33.382472Z",
     "iopub.status.busy": "2023-07-14T02:26:33.382040Z",
     "iopub.status.idle": "2023-07-14T02:26:33.463848Z",
     "shell.execute_reply": "2023-07-14T02:26:33.462372Z",
     "shell.execute_reply.started": "2023-07-14T02:26:33.382431Z"
    }
   },
   "outputs": [
    {
     "data": {
      "text/html": [
       "<div>                            <div id=\"e543ab38-2443-4172-9cdd-63e1ec913b90\" class=\"plotly-graph-div\" style=\"height:525px; width:100%;\"></div>            <script type=\"text/javascript\">                require([\"plotly\"], function(Plotly) {                    window.PLOTLYENV=window.PLOTLYENV || {};                                    if (document.getElementById(\"e543ab38-2443-4172-9cdd-63e1ec913b90\")) {                    Plotly.newPlot(                        \"e543ab38-2443-4172-9cdd-63e1ec913b90\",                        [{\"alignmentgroup\":\"True\",\"hovertemplate\":\"x=%{x}<br>y=%{y}<extra></extra>\",\"legendgroup\":\"\",\"marker\":{\"color\":\"#636efa\",\"pattern\":{\"shape\":\"\"}},\"name\":\"\",\"offsetgroup\":\"\",\"orientation\":\"v\",\"showlegend\":false,\"textposition\":\"auto\",\"x\":[\"Turn\",\"Walking\",\"StartHesitation\"],\"xaxis\":\"x\",\"y\":[1997,398,107],\"yaxis\":\"y\",\"type\":\"bar\"}],                        {\"template\":{\"data\":{\"histogram2dcontour\":[{\"type\":\"histogram2dcontour\",\"colorbar\":{\"outlinewidth\":0,\"ticks\":\"\"},\"colorscale\":[[0.0,\"#0d0887\"],[0.1111111111111111,\"#46039f\"],[0.2222222222222222,\"#7201a8\"],[0.3333333333333333,\"#9c179e\"],[0.4444444444444444,\"#bd3786\"],[0.5555555555555556,\"#d8576b\"],[0.6666666666666666,\"#ed7953\"],[0.7777777777777778,\"#fb9f3a\"],[0.8888888888888888,\"#fdca26\"],[1.0,\"#f0f921\"]]}],\"choropleth\":[{\"type\":\"choropleth\",\"colorbar\":{\"outlinewidth\":0,\"ticks\":\"\"}}],\"histogram2d\":[{\"type\":\"histogram2d\",\"colorbar\":{\"outlinewidth\":0,\"ticks\":\"\"},\"colorscale\":[[0.0,\"#0d0887\"],[0.1111111111111111,\"#46039f\"],[0.2222222222222222,\"#7201a8\"],[0.3333333333333333,\"#9c179e\"],[0.4444444444444444,\"#bd3786\"],[0.5555555555555556,\"#d8576b\"],[0.6666666666666666,\"#ed7953\"],[0.7777777777777778,\"#fb9f3a\"],[0.8888888888888888,\"#fdca26\"],[1.0,\"#f0f921\"]]}],\"heatmap\":[{\"type\":\"heatmap\",\"colorbar\":{\"outlinewidth\":0,\"ticks\":\"\"},\"colorscale\":[[0.0,\"#0d0887\"],[0.1111111111111111,\"#46039f\"],[0.2222222222222222,\"#7201a8\"],[0.3333333333333333,\"#9c179e\"],[0.4444444444444444,\"#bd3786\"],[0.5555555555555556,\"#d8576b\"],[0.6666666666666666,\"#ed7953\"],[0.7777777777777778,\"#fb9f3a\"],[0.8888888888888888,\"#fdca26\"],[1.0,\"#f0f921\"]]}],\"heatmapgl\":[{\"type\":\"heatmapgl\",\"colorbar\":{\"outlinewidth\":0,\"ticks\":\"\"},\"colorscale\":[[0.0,\"#0d0887\"],[0.1111111111111111,\"#46039f\"],[0.2222222222222222,\"#7201a8\"],[0.3333333333333333,\"#9c179e\"],[0.4444444444444444,\"#bd3786\"],[0.5555555555555556,\"#d8576b\"],[0.6666666666666666,\"#ed7953\"],[0.7777777777777778,\"#fb9f3a\"],[0.8888888888888888,\"#fdca26\"],[1.0,\"#f0f921\"]]}],\"contourcarpet\":[{\"type\":\"contourcarpet\",\"colorbar\":{\"outlinewidth\":0,\"ticks\":\"\"}}],\"contour\":[{\"type\":\"contour\",\"colorbar\":{\"outlinewidth\":0,\"ticks\":\"\"},\"colorscale\":[[0.0,\"#0d0887\"],[0.1111111111111111,\"#46039f\"],[0.2222222222222222,\"#7201a8\"],[0.3333333333333333,\"#9c179e\"],[0.4444444444444444,\"#bd3786\"],[0.5555555555555556,\"#d8576b\"],[0.6666666666666666,\"#ed7953\"],[0.7777777777777778,\"#fb9f3a\"],[0.8888888888888888,\"#fdca26\"],[1.0,\"#f0f921\"]]}],\"surface\":[{\"type\":\"surface\",\"colorbar\":{\"outlinewidth\":0,\"ticks\":\"\"},\"colorscale\":[[0.0,\"#0d0887\"],[0.1111111111111111,\"#46039f\"],[0.2222222222222222,\"#7201a8\"],[0.3333333333333333,\"#9c179e\"],[0.4444444444444444,\"#bd3786\"],[0.5555555555555556,\"#d8576b\"],[0.6666666666666666,\"#ed7953\"],[0.7777777777777778,\"#fb9f3a\"],[0.8888888888888888,\"#fdca26\"],[1.0,\"#f0f921\"]]}],\"mesh3d\":[{\"type\":\"mesh3d\",\"colorbar\":{\"outlinewidth\":0,\"ticks\":\"\"}}],\"scatter\":[{\"fillpattern\":{\"fillmode\":\"overlay\",\"size\":10,\"solidity\":0.2},\"type\":\"scatter\"}],\"parcoords\":[{\"type\":\"parcoords\",\"line\":{\"colorbar\":{\"outlinewidth\":0,\"ticks\":\"\"}}}],\"scatterpolargl\":[{\"type\":\"scatterpolargl\",\"marker\":{\"colorbar\":{\"outlinewidth\":0,\"ticks\":\"\"}}}],\"bar\":[{\"error_x\":{\"color\":\"#2a3f5f\"},\"error_y\":{\"color\":\"#2a3f5f\"},\"marker\":{\"line\":{\"color\":\"#E5ECF6\",\"width\":0.5},\"pattern\":{\"fillmode\":\"overlay\",\"size\":10,\"solidity\":0.2}},\"type\":\"bar\"}],\"scattergeo\":[{\"type\":\"scattergeo\",\"marker\":{\"colorbar\":{\"outlinewidth\":0,\"ticks\":\"\"}}}],\"scatterpolar\":[{\"type\":\"scatterpolar\",\"marker\":{\"colorbar\":{\"outlinewidth\":0,\"ticks\":\"\"}}}],\"histogram\":[{\"marker\":{\"pattern\":{\"fillmode\":\"overlay\",\"size\":10,\"solidity\":0.2}},\"type\":\"histogram\"}],\"scattergl\":[{\"type\":\"scattergl\",\"marker\":{\"colorbar\":{\"outlinewidth\":0,\"ticks\":\"\"}}}],\"scatter3d\":[{\"type\":\"scatter3d\",\"line\":{\"colorbar\":{\"outlinewidth\":0,\"ticks\":\"\"}},\"marker\":{\"colorbar\":{\"outlinewidth\":0,\"ticks\":\"\"}}}],\"scattermapbox\":[{\"type\":\"scattermapbox\",\"marker\":{\"colorbar\":{\"outlinewidth\":0,\"ticks\":\"\"}}}],\"scatterternary\":[{\"type\":\"scatterternary\",\"marker\":{\"colorbar\":{\"outlinewidth\":0,\"ticks\":\"\"}}}],\"scattercarpet\":[{\"type\":\"scattercarpet\",\"marker\":{\"colorbar\":{\"outlinewidth\":0,\"ticks\":\"\"}}}],\"carpet\":[{\"aaxis\":{\"endlinecolor\":\"#2a3f5f\",\"gridcolor\":\"white\",\"linecolor\":\"white\",\"minorgridcolor\":\"white\",\"startlinecolor\":\"#2a3f5f\"},\"baxis\":{\"endlinecolor\":\"#2a3f5f\",\"gridcolor\":\"white\",\"linecolor\":\"white\",\"minorgridcolor\":\"white\",\"startlinecolor\":\"#2a3f5f\"},\"type\":\"carpet\"}],\"table\":[{\"cells\":{\"fill\":{\"color\":\"#EBF0F8\"},\"line\":{\"color\":\"white\"}},\"header\":{\"fill\":{\"color\":\"#C8D4E3\"},\"line\":{\"color\":\"white\"}},\"type\":\"table\"}],\"barpolar\":[{\"marker\":{\"line\":{\"color\":\"#E5ECF6\",\"width\":0.5},\"pattern\":{\"fillmode\":\"overlay\",\"size\":10,\"solidity\":0.2}},\"type\":\"barpolar\"}],\"pie\":[{\"automargin\":true,\"type\":\"pie\"}]},\"layout\":{\"autotypenumbers\":\"strict\",\"colorway\":[\"#636efa\",\"#EF553B\",\"#00cc96\",\"#ab63fa\",\"#FFA15A\",\"#19d3f3\",\"#FF6692\",\"#B6E880\",\"#FF97FF\",\"#FECB52\"],\"font\":{\"color\":\"#2a3f5f\"},\"hovermode\":\"closest\",\"hoverlabel\":{\"align\":\"left\"},\"paper_bgcolor\":\"white\",\"plot_bgcolor\":\"#E5ECF6\",\"polar\":{\"bgcolor\":\"#E5ECF6\",\"angularaxis\":{\"gridcolor\":\"white\",\"linecolor\":\"white\",\"ticks\":\"\"},\"radialaxis\":{\"gridcolor\":\"white\",\"linecolor\":\"white\",\"ticks\":\"\"}},\"ternary\":{\"bgcolor\":\"#E5ECF6\",\"aaxis\":{\"gridcolor\":\"white\",\"linecolor\":\"white\",\"ticks\":\"\"},\"baxis\":{\"gridcolor\":\"white\",\"linecolor\":\"white\",\"ticks\":\"\"},\"caxis\":{\"gridcolor\":\"white\",\"linecolor\":\"white\",\"ticks\":\"\"}},\"coloraxis\":{\"colorbar\":{\"outlinewidth\":0,\"ticks\":\"\"}},\"colorscale\":{\"sequential\":[[0.0,\"#0d0887\"],[0.1111111111111111,\"#46039f\"],[0.2222222222222222,\"#7201a8\"],[0.3333333333333333,\"#9c179e\"],[0.4444444444444444,\"#bd3786\"],[0.5555555555555556,\"#d8576b\"],[0.6666666666666666,\"#ed7953\"],[0.7777777777777778,\"#fb9f3a\"],[0.8888888888888888,\"#fdca26\"],[1.0,\"#f0f921\"]],\"sequentialminus\":[[0.0,\"#0d0887\"],[0.1111111111111111,\"#46039f\"],[0.2222222222222222,\"#7201a8\"],[0.3333333333333333,\"#9c179e\"],[0.4444444444444444,\"#bd3786\"],[0.5555555555555556,\"#d8576b\"],[0.6666666666666666,\"#ed7953\"],[0.7777777777777778,\"#fb9f3a\"],[0.8888888888888888,\"#fdca26\"],[1.0,\"#f0f921\"]],\"diverging\":[[0,\"#8e0152\"],[0.1,\"#c51b7d\"],[0.2,\"#de77ae\"],[0.3,\"#f1b6da\"],[0.4,\"#fde0ef\"],[0.5,\"#f7f7f7\"],[0.6,\"#e6f5d0\"],[0.7,\"#b8e186\"],[0.8,\"#7fbc41\"],[0.9,\"#4d9221\"],[1,\"#276419\"]]},\"xaxis\":{\"gridcolor\":\"white\",\"linecolor\":\"white\",\"ticks\":\"\",\"title\":{\"standoff\":15},\"zerolinecolor\":\"white\",\"automargin\":true,\"zerolinewidth\":2},\"yaxis\":{\"gridcolor\":\"white\",\"linecolor\":\"white\",\"ticks\":\"\",\"title\":{\"standoff\":15},\"zerolinecolor\":\"white\",\"automargin\":true,\"zerolinewidth\":2},\"scene\":{\"xaxis\":{\"backgroundcolor\":\"#E5ECF6\",\"gridcolor\":\"white\",\"linecolor\":\"white\",\"showbackground\":true,\"ticks\":\"\",\"zerolinecolor\":\"white\",\"gridwidth\":2},\"yaxis\":{\"backgroundcolor\":\"#E5ECF6\",\"gridcolor\":\"white\",\"linecolor\":\"white\",\"showbackground\":true,\"ticks\":\"\",\"zerolinecolor\":\"white\",\"gridwidth\":2},\"zaxis\":{\"backgroundcolor\":\"#E5ECF6\",\"gridcolor\":\"white\",\"linecolor\":\"white\",\"showbackground\":true,\"ticks\":\"\",\"zerolinecolor\":\"white\",\"gridwidth\":2}},\"shapedefaults\":{\"line\":{\"color\":\"#2a3f5f\"}},\"annotationdefaults\":{\"arrowcolor\":\"#2a3f5f\",\"arrowhead\":0,\"arrowwidth\":1},\"geo\":{\"bgcolor\":\"white\",\"landcolor\":\"#E5ECF6\",\"subunitcolor\":\"white\",\"showland\":true,\"showlakes\":true,\"lakecolor\":\"white\"},\"title\":{\"x\":0.05},\"mapbox\":{\"style\":\"light\"}}},\"xaxis\":{\"anchor\":\"y\",\"domain\":[0.0,1.0],\"title\":{\"text\":\"Type\"}},\"yaxis\":{\"anchor\":\"x\",\"domain\":[0.0,1.0],\"title\":{\"text\":\"Count\"}},\"legend\":{\"tracegroupgap\":0},\"margin\":{\"t\":60},\"barmode\":\"relative\"},                        {\"responsive\": true}                    ).then(function(){\n",
       "                            \n",
       "var gd = document.getElementById('e543ab38-2443-4172-9cdd-63e1ec913b90');\n",
       "var x = new MutationObserver(function (mutations, observer) {{\n",
       "        var display = window.getComputedStyle(gd).display;\n",
       "        if (!display || display === 'none') {{\n",
       "            console.log([gd, 'removed!']);\n",
       "            Plotly.purge(gd);\n",
       "            observer.disconnect();\n",
       "        }}\n",
       "}});\n",
       "\n",
       "// Listen for the removal of the full notebook cells\n",
       "var notebookContainer = gd.closest('#notebook-container');\n",
       "if (notebookContainer) {{\n",
       "    x.observe(notebookContainer, {childList: true});\n",
       "}}\n",
       "\n",
       "// Listen for the clearing of the current output cell\n",
       "var outputEl = gd.closest('.output');\n",
       "if (outputEl) {{\n",
       "    x.observe(outputEl, {childList: true});\n",
       "}}\n",
       "\n",
       "                        })                };                });            </script>        </div>"
      ]
     },
     "metadata": {},
     "output_type": "display_data"
    }
   ],
   "source": [
    "events_type_counts = events_df.Type.value_counts()\n",
    "\n",
    "fig = px.bar(x=events_type_counts.index, y=events_type_counts.values)\n",
    "fig.update_layout(xaxis_title=\"Type\", yaxis_title=\"Count\")\n",
    "fig.show()"
   ]
  },
  {
   "cell_type": "markdown",
   "metadata": {},
   "source": [
    "<p style=\"font-family: consolas; font-size: 16px;\">❔ How the bar chart looks like for categorical field <code>Kinetic</code>.</p>"
   ]
  },
  {
   "cell_type": "code",
   "execution_count": 74,
   "metadata": {
    "execution": {
     "iopub.execute_input": "2023-07-14T02:26:33.468748Z",
     "iopub.status.busy": "2023-07-14T02:26:33.467587Z",
     "iopub.status.idle": "2023-07-14T02:26:33.547245Z",
     "shell.execute_reply": "2023-07-14T02:26:33.545561Z",
     "shell.execute_reply.started": "2023-07-14T02:26:33.468687Z"
    }
   },
   "outputs": [
    {
     "data": {
      "text/html": [
       "<div>                            <div id=\"3b8ac085-f343-4316-953e-38d3c1201584\" class=\"plotly-graph-div\" style=\"height:525px; width:100%;\"></div>            <script type=\"text/javascript\">                require([\"plotly\"], function(Plotly) {                    window.PLOTLYENV=window.PLOTLYENV || {};                                    if (document.getElementById(\"3b8ac085-f343-4316-953e-38d3c1201584\")) {                    Plotly.newPlot(                        \"3b8ac085-f343-4316-953e-38d3c1201584\",                        [{\"alignmentgroup\":\"True\",\"hovertemplate\":\"x=%{x}<br>y=%{y}<extra></extra>\",\"legendgroup\":\"\",\"marker\":{\"color\":\"#636efa\",\"pattern\":{\"shape\":\"\"}},\"name\":\"\",\"offsetgroup\":\"\",\"orientation\":\"v\",\"showlegend\":false,\"textposition\":\"auto\",\"x\":[1.0,0.0],\"xaxis\":\"x\",\"y\":[2046,456],\"yaxis\":\"y\",\"type\":\"bar\"}],                        {\"template\":{\"data\":{\"histogram2dcontour\":[{\"type\":\"histogram2dcontour\",\"colorbar\":{\"outlinewidth\":0,\"ticks\":\"\"},\"colorscale\":[[0.0,\"#0d0887\"],[0.1111111111111111,\"#46039f\"],[0.2222222222222222,\"#7201a8\"],[0.3333333333333333,\"#9c179e\"],[0.4444444444444444,\"#bd3786\"],[0.5555555555555556,\"#d8576b\"],[0.6666666666666666,\"#ed7953\"],[0.7777777777777778,\"#fb9f3a\"],[0.8888888888888888,\"#fdca26\"],[1.0,\"#f0f921\"]]}],\"choropleth\":[{\"type\":\"choropleth\",\"colorbar\":{\"outlinewidth\":0,\"ticks\":\"\"}}],\"histogram2d\":[{\"type\":\"histogram2d\",\"colorbar\":{\"outlinewidth\":0,\"ticks\":\"\"},\"colorscale\":[[0.0,\"#0d0887\"],[0.1111111111111111,\"#46039f\"],[0.2222222222222222,\"#7201a8\"],[0.3333333333333333,\"#9c179e\"],[0.4444444444444444,\"#bd3786\"],[0.5555555555555556,\"#d8576b\"],[0.6666666666666666,\"#ed7953\"],[0.7777777777777778,\"#fb9f3a\"],[0.8888888888888888,\"#fdca26\"],[1.0,\"#f0f921\"]]}],\"heatmap\":[{\"type\":\"heatmap\",\"colorbar\":{\"outlinewidth\":0,\"ticks\":\"\"},\"colorscale\":[[0.0,\"#0d0887\"],[0.1111111111111111,\"#46039f\"],[0.2222222222222222,\"#7201a8\"],[0.3333333333333333,\"#9c179e\"],[0.4444444444444444,\"#bd3786\"],[0.5555555555555556,\"#d8576b\"],[0.6666666666666666,\"#ed7953\"],[0.7777777777777778,\"#fb9f3a\"],[0.8888888888888888,\"#fdca26\"],[1.0,\"#f0f921\"]]}],\"heatmapgl\":[{\"type\":\"heatmapgl\",\"colorbar\":{\"outlinewidth\":0,\"ticks\":\"\"},\"colorscale\":[[0.0,\"#0d0887\"],[0.1111111111111111,\"#46039f\"],[0.2222222222222222,\"#7201a8\"],[0.3333333333333333,\"#9c179e\"],[0.4444444444444444,\"#bd3786\"],[0.5555555555555556,\"#d8576b\"],[0.6666666666666666,\"#ed7953\"],[0.7777777777777778,\"#fb9f3a\"],[0.8888888888888888,\"#fdca26\"],[1.0,\"#f0f921\"]]}],\"contourcarpet\":[{\"type\":\"contourcarpet\",\"colorbar\":{\"outlinewidth\":0,\"ticks\":\"\"}}],\"contour\":[{\"type\":\"contour\",\"colorbar\":{\"outlinewidth\":0,\"ticks\":\"\"},\"colorscale\":[[0.0,\"#0d0887\"],[0.1111111111111111,\"#46039f\"],[0.2222222222222222,\"#7201a8\"],[0.3333333333333333,\"#9c179e\"],[0.4444444444444444,\"#bd3786\"],[0.5555555555555556,\"#d8576b\"],[0.6666666666666666,\"#ed7953\"],[0.7777777777777778,\"#fb9f3a\"],[0.8888888888888888,\"#fdca26\"],[1.0,\"#f0f921\"]]}],\"surface\":[{\"type\":\"surface\",\"colorbar\":{\"outlinewidth\":0,\"ticks\":\"\"},\"colorscale\":[[0.0,\"#0d0887\"],[0.1111111111111111,\"#46039f\"],[0.2222222222222222,\"#7201a8\"],[0.3333333333333333,\"#9c179e\"],[0.4444444444444444,\"#bd3786\"],[0.5555555555555556,\"#d8576b\"],[0.6666666666666666,\"#ed7953\"],[0.7777777777777778,\"#fb9f3a\"],[0.8888888888888888,\"#fdca26\"],[1.0,\"#f0f921\"]]}],\"mesh3d\":[{\"type\":\"mesh3d\",\"colorbar\":{\"outlinewidth\":0,\"ticks\":\"\"}}],\"scatter\":[{\"fillpattern\":{\"fillmode\":\"overlay\",\"size\":10,\"solidity\":0.2},\"type\":\"scatter\"}],\"parcoords\":[{\"type\":\"parcoords\",\"line\":{\"colorbar\":{\"outlinewidth\":0,\"ticks\":\"\"}}}],\"scatterpolargl\":[{\"type\":\"scatterpolargl\",\"marker\":{\"colorbar\":{\"outlinewidth\":0,\"ticks\":\"\"}}}],\"bar\":[{\"error_x\":{\"color\":\"#2a3f5f\"},\"error_y\":{\"color\":\"#2a3f5f\"},\"marker\":{\"line\":{\"color\":\"#E5ECF6\",\"width\":0.5},\"pattern\":{\"fillmode\":\"overlay\",\"size\":10,\"solidity\":0.2}},\"type\":\"bar\"}],\"scattergeo\":[{\"type\":\"scattergeo\",\"marker\":{\"colorbar\":{\"outlinewidth\":0,\"ticks\":\"\"}}}],\"scatterpolar\":[{\"type\":\"scatterpolar\",\"marker\":{\"colorbar\":{\"outlinewidth\":0,\"ticks\":\"\"}}}],\"histogram\":[{\"marker\":{\"pattern\":{\"fillmode\":\"overlay\",\"size\":10,\"solidity\":0.2}},\"type\":\"histogram\"}],\"scattergl\":[{\"type\":\"scattergl\",\"marker\":{\"colorbar\":{\"outlinewidth\":0,\"ticks\":\"\"}}}],\"scatter3d\":[{\"type\":\"scatter3d\",\"line\":{\"colorbar\":{\"outlinewidth\":0,\"ticks\":\"\"}},\"marker\":{\"colorbar\":{\"outlinewidth\":0,\"ticks\":\"\"}}}],\"scattermapbox\":[{\"type\":\"scattermapbox\",\"marker\":{\"colorbar\":{\"outlinewidth\":0,\"ticks\":\"\"}}}],\"scatterternary\":[{\"type\":\"scatterternary\",\"marker\":{\"colorbar\":{\"outlinewidth\":0,\"ticks\":\"\"}}}],\"scattercarpet\":[{\"type\":\"scattercarpet\",\"marker\":{\"colorbar\":{\"outlinewidth\":0,\"ticks\":\"\"}}}],\"carpet\":[{\"aaxis\":{\"endlinecolor\":\"#2a3f5f\",\"gridcolor\":\"white\",\"linecolor\":\"white\",\"minorgridcolor\":\"white\",\"startlinecolor\":\"#2a3f5f\"},\"baxis\":{\"endlinecolor\":\"#2a3f5f\",\"gridcolor\":\"white\",\"linecolor\":\"white\",\"minorgridcolor\":\"white\",\"startlinecolor\":\"#2a3f5f\"},\"type\":\"carpet\"}],\"table\":[{\"cells\":{\"fill\":{\"color\":\"#EBF0F8\"},\"line\":{\"color\":\"white\"}},\"header\":{\"fill\":{\"color\":\"#C8D4E3\"},\"line\":{\"color\":\"white\"}},\"type\":\"table\"}],\"barpolar\":[{\"marker\":{\"line\":{\"color\":\"#E5ECF6\",\"width\":0.5},\"pattern\":{\"fillmode\":\"overlay\",\"size\":10,\"solidity\":0.2}},\"type\":\"barpolar\"}],\"pie\":[{\"automargin\":true,\"type\":\"pie\"}]},\"layout\":{\"autotypenumbers\":\"strict\",\"colorway\":[\"#636efa\",\"#EF553B\",\"#00cc96\",\"#ab63fa\",\"#FFA15A\",\"#19d3f3\",\"#FF6692\",\"#B6E880\",\"#FF97FF\",\"#FECB52\"],\"font\":{\"color\":\"#2a3f5f\"},\"hovermode\":\"closest\",\"hoverlabel\":{\"align\":\"left\"},\"paper_bgcolor\":\"white\",\"plot_bgcolor\":\"#E5ECF6\",\"polar\":{\"bgcolor\":\"#E5ECF6\",\"angularaxis\":{\"gridcolor\":\"white\",\"linecolor\":\"white\",\"ticks\":\"\"},\"radialaxis\":{\"gridcolor\":\"white\",\"linecolor\":\"white\",\"ticks\":\"\"}},\"ternary\":{\"bgcolor\":\"#E5ECF6\",\"aaxis\":{\"gridcolor\":\"white\",\"linecolor\":\"white\",\"ticks\":\"\"},\"baxis\":{\"gridcolor\":\"white\",\"linecolor\":\"white\",\"ticks\":\"\"},\"caxis\":{\"gridcolor\":\"white\",\"linecolor\":\"white\",\"ticks\":\"\"}},\"coloraxis\":{\"colorbar\":{\"outlinewidth\":0,\"ticks\":\"\"}},\"colorscale\":{\"sequential\":[[0.0,\"#0d0887\"],[0.1111111111111111,\"#46039f\"],[0.2222222222222222,\"#7201a8\"],[0.3333333333333333,\"#9c179e\"],[0.4444444444444444,\"#bd3786\"],[0.5555555555555556,\"#d8576b\"],[0.6666666666666666,\"#ed7953\"],[0.7777777777777778,\"#fb9f3a\"],[0.8888888888888888,\"#fdca26\"],[1.0,\"#f0f921\"]],\"sequentialminus\":[[0.0,\"#0d0887\"],[0.1111111111111111,\"#46039f\"],[0.2222222222222222,\"#7201a8\"],[0.3333333333333333,\"#9c179e\"],[0.4444444444444444,\"#bd3786\"],[0.5555555555555556,\"#d8576b\"],[0.6666666666666666,\"#ed7953\"],[0.7777777777777778,\"#fb9f3a\"],[0.8888888888888888,\"#fdca26\"],[1.0,\"#f0f921\"]],\"diverging\":[[0,\"#8e0152\"],[0.1,\"#c51b7d\"],[0.2,\"#de77ae\"],[0.3,\"#f1b6da\"],[0.4,\"#fde0ef\"],[0.5,\"#f7f7f7\"],[0.6,\"#e6f5d0\"],[0.7,\"#b8e186\"],[0.8,\"#7fbc41\"],[0.9,\"#4d9221\"],[1,\"#276419\"]]},\"xaxis\":{\"gridcolor\":\"white\",\"linecolor\":\"white\",\"ticks\":\"\",\"title\":{\"standoff\":15},\"zerolinecolor\":\"white\",\"automargin\":true,\"zerolinewidth\":2},\"yaxis\":{\"gridcolor\":\"white\",\"linecolor\":\"white\",\"ticks\":\"\",\"title\":{\"standoff\":15},\"zerolinecolor\":\"white\",\"automargin\":true,\"zerolinewidth\":2},\"scene\":{\"xaxis\":{\"backgroundcolor\":\"#E5ECF6\",\"gridcolor\":\"white\",\"linecolor\":\"white\",\"showbackground\":true,\"ticks\":\"\",\"zerolinecolor\":\"white\",\"gridwidth\":2},\"yaxis\":{\"backgroundcolor\":\"#E5ECF6\",\"gridcolor\":\"white\",\"linecolor\":\"white\",\"showbackground\":true,\"ticks\":\"\",\"zerolinecolor\":\"white\",\"gridwidth\":2},\"zaxis\":{\"backgroundcolor\":\"#E5ECF6\",\"gridcolor\":\"white\",\"linecolor\":\"white\",\"showbackground\":true,\"ticks\":\"\",\"zerolinecolor\":\"white\",\"gridwidth\":2}},\"shapedefaults\":{\"line\":{\"color\":\"#2a3f5f\"}},\"annotationdefaults\":{\"arrowcolor\":\"#2a3f5f\",\"arrowhead\":0,\"arrowwidth\":1},\"geo\":{\"bgcolor\":\"white\",\"landcolor\":\"#E5ECF6\",\"subunitcolor\":\"white\",\"showland\":true,\"showlakes\":true,\"lakecolor\":\"white\"},\"title\":{\"x\":0.05},\"mapbox\":{\"style\":\"light\"}}},\"xaxis\":{\"anchor\":\"y\",\"domain\":[0.0,1.0],\"title\":{\"text\":\"Kinetic\"}},\"yaxis\":{\"anchor\":\"x\",\"domain\":[0.0,1.0],\"title\":{\"text\":\"Count\"}},\"legend\":{\"tracegroupgap\":0},\"margin\":{\"t\":60},\"barmode\":\"relative\"},                        {\"responsive\": true}                    ).then(function(){\n",
       "                            \n",
       "var gd = document.getElementById('3b8ac085-f343-4316-953e-38d3c1201584');\n",
       "var x = new MutationObserver(function (mutations, observer) {{\n",
       "        var display = window.getComputedStyle(gd).display;\n",
       "        if (!display || display === 'none') {{\n",
       "            console.log([gd, 'removed!']);\n",
       "            Plotly.purge(gd);\n",
       "            observer.disconnect();\n",
       "        }}\n",
       "}});\n",
       "\n",
       "// Listen for the removal of the full notebook cells\n",
       "var notebookContainer = gd.closest('#notebook-container');\n",
       "if (notebookContainer) {{\n",
       "    x.observe(notebookContainer, {childList: true});\n",
       "}}\n",
       "\n",
       "// Listen for the clearing of the current output cell\n",
       "var outputEl = gd.closest('.output');\n",
       "if (outputEl) {{\n",
       "    x.observe(outputEl, {childList: true});\n",
       "}}\n",
       "\n",
       "                        })                };                });            </script>        </div>"
      ]
     },
     "metadata": {},
     "output_type": "display_data"
    }
   ],
   "source": [
    "events_kinetic_counts = events_df.Kinetic.value_counts()\n",
    "\n",
    "fig = px.bar(x=events_kinetic_counts.index, y=events_kinetic_counts.values)\n",
    "fig.update_layout(xaxis_title=\"Kinetic\", yaxis_title=\"Count\")\n",
    "fig.show()"
   ]
  },
  {
   "cell_type": "markdown",
   "metadata": {},
   "source": [
    "<p style=\"font-family: consolas; font-size: 16px;\">❔ How is the correlation matrix for the data looks like.</p>"
   ]
  },
  {
   "cell_type": "code",
   "execution_count": 75,
   "metadata": {
    "execution": {
     "iopub.execute_input": "2023-07-14T02:26:33.549650Z",
     "iopub.status.busy": "2023-07-14T02:26:33.549221Z",
     "iopub.status.idle": "2023-07-14T02:26:33.625111Z",
     "shell.execute_reply": "2023-07-14T02:26:33.623581Z",
     "shell.execute_reply.started": "2023-07-14T02:26:33.549609Z"
    }
   },
   "outputs": [
    {
     "data": {
      "text/html": [
       "<div>                            <div id=\"0f81446b-370f-4459-b0b2-a56671ccc13c\" class=\"plotly-graph-div\" style=\"height:525px; width:100%;\"></div>            <script type=\"text/javascript\">                require([\"plotly\"], function(Plotly) {                    window.PLOTLYENV=window.PLOTLYENV || {};                                    if (document.getElementById(\"0f81446b-370f-4459-b0b2-a56671ccc13c\")) {                    Plotly.newPlot(                        \"0f81446b-370f-4459-b0b2-a56671ccc13c\",                        [{\"coloraxis\":\"coloraxis\",\"name\":\"0\",\"texttemplate\":\"%{z}\",\"x\":[\"Init\",\"Completion\",\"Kinetic\"],\"y\":[\"Init\",\"Completion\",\"Kinetic\"],\"z\":[[1.0,1.0,-0.277],[1.0,1.0,-0.276],[-0.277,-0.276,1.0]],\"type\":\"heatmap\",\"xaxis\":\"x\",\"yaxis\":\"y\",\"hovertemplate\":\"x: %{x}<br>y: %{y}<br>color: %{z}<extra></extra>\"}],                        {\"template\":{\"data\":{\"histogram2dcontour\":[{\"type\":\"histogram2dcontour\",\"colorbar\":{\"outlinewidth\":0,\"ticks\":\"\"},\"colorscale\":[[0.0,\"#0d0887\"],[0.1111111111111111,\"#46039f\"],[0.2222222222222222,\"#7201a8\"],[0.3333333333333333,\"#9c179e\"],[0.4444444444444444,\"#bd3786\"],[0.5555555555555556,\"#d8576b\"],[0.6666666666666666,\"#ed7953\"],[0.7777777777777778,\"#fb9f3a\"],[0.8888888888888888,\"#fdca26\"],[1.0,\"#f0f921\"]]}],\"choropleth\":[{\"type\":\"choropleth\",\"colorbar\":{\"outlinewidth\":0,\"ticks\":\"\"}}],\"histogram2d\":[{\"type\":\"histogram2d\",\"colorbar\":{\"outlinewidth\":0,\"ticks\":\"\"},\"colorscale\":[[0.0,\"#0d0887\"],[0.1111111111111111,\"#46039f\"],[0.2222222222222222,\"#7201a8\"],[0.3333333333333333,\"#9c179e\"],[0.4444444444444444,\"#bd3786\"],[0.5555555555555556,\"#d8576b\"],[0.6666666666666666,\"#ed7953\"],[0.7777777777777778,\"#fb9f3a\"],[0.8888888888888888,\"#fdca26\"],[1.0,\"#f0f921\"]]}],\"heatmap\":[{\"type\":\"heatmap\",\"colorbar\":{\"outlinewidth\":0,\"ticks\":\"\"},\"colorscale\":[[0.0,\"#0d0887\"],[0.1111111111111111,\"#46039f\"],[0.2222222222222222,\"#7201a8\"],[0.3333333333333333,\"#9c179e\"],[0.4444444444444444,\"#bd3786\"],[0.5555555555555556,\"#d8576b\"],[0.6666666666666666,\"#ed7953\"],[0.7777777777777778,\"#fb9f3a\"],[0.8888888888888888,\"#fdca26\"],[1.0,\"#f0f921\"]]}],\"heatmapgl\":[{\"type\":\"heatmapgl\",\"colorbar\":{\"outlinewidth\":0,\"ticks\":\"\"},\"colorscale\":[[0.0,\"#0d0887\"],[0.1111111111111111,\"#46039f\"],[0.2222222222222222,\"#7201a8\"],[0.3333333333333333,\"#9c179e\"],[0.4444444444444444,\"#bd3786\"],[0.5555555555555556,\"#d8576b\"],[0.6666666666666666,\"#ed7953\"],[0.7777777777777778,\"#fb9f3a\"],[0.8888888888888888,\"#fdca26\"],[1.0,\"#f0f921\"]]}],\"contourcarpet\":[{\"type\":\"contourcarpet\",\"colorbar\":{\"outlinewidth\":0,\"ticks\":\"\"}}],\"contour\":[{\"type\":\"contour\",\"colorbar\":{\"outlinewidth\":0,\"ticks\":\"\"},\"colorscale\":[[0.0,\"#0d0887\"],[0.1111111111111111,\"#46039f\"],[0.2222222222222222,\"#7201a8\"],[0.3333333333333333,\"#9c179e\"],[0.4444444444444444,\"#bd3786\"],[0.5555555555555556,\"#d8576b\"],[0.6666666666666666,\"#ed7953\"],[0.7777777777777778,\"#fb9f3a\"],[0.8888888888888888,\"#fdca26\"],[1.0,\"#f0f921\"]]}],\"surface\":[{\"type\":\"surface\",\"colorbar\":{\"outlinewidth\":0,\"ticks\":\"\"},\"colorscale\":[[0.0,\"#0d0887\"],[0.1111111111111111,\"#46039f\"],[0.2222222222222222,\"#7201a8\"],[0.3333333333333333,\"#9c179e\"],[0.4444444444444444,\"#bd3786\"],[0.5555555555555556,\"#d8576b\"],[0.6666666666666666,\"#ed7953\"],[0.7777777777777778,\"#fb9f3a\"],[0.8888888888888888,\"#fdca26\"],[1.0,\"#f0f921\"]]}],\"mesh3d\":[{\"type\":\"mesh3d\",\"colorbar\":{\"outlinewidth\":0,\"ticks\":\"\"}}],\"scatter\":[{\"fillpattern\":{\"fillmode\":\"overlay\",\"size\":10,\"solidity\":0.2},\"type\":\"scatter\"}],\"parcoords\":[{\"type\":\"parcoords\",\"line\":{\"colorbar\":{\"outlinewidth\":0,\"ticks\":\"\"}}}],\"scatterpolargl\":[{\"type\":\"scatterpolargl\",\"marker\":{\"colorbar\":{\"outlinewidth\":0,\"ticks\":\"\"}}}],\"bar\":[{\"error_x\":{\"color\":\"#2a3f5f\"},\"error_y\":{\"color\":\"#2a3f5f\"},\"marker\":{\"line\":{\"color\":\"#E5ECF6\",\"width\":0.5},\"pattern\":{\"fillmode\":\"overlay\",\"size\":10,\"solidity\":0.2}},\"type\":\"bar\"}],\"scattergeo\":[{\"type\":\"scattergeo\",\"marker\":{\"colorbar\":{\"outlinewidth\":0,\"ticks\":\"\"}}}],\"scatterpolar\":[{\"type\":\"scatterpolar\",\"marker\":{\"colorbar\":{\"outlinewidth\":0,\"ticks\":\"\"}}}],\"histogram\":[{\"marker\":{\"pattern\":{\"fillmode\":\"overlay\",\"size\":10,\"solidity\":0.2}},\"type\":\"histogram\"}],\"scattergl\":[{\"type\":\"scattergl\",\"marker\":{\"colorbar\":{\"outlinewidth\":0,\"ticks\":\"\"}}}],\"scatter3d\":[{\"type\":\"scatter3d\",\"line\":{\"colorbar\":{\"outlinewidth\":0,\"ticks\":\"\"}},\"marker\":{\"colorbar\":{\"outlinewidth\":0,\"ticks\":\"\"}}}],\"scattermapbox\":[{\"type\":\"scattermapbox\",\"marker\":{\"colorbar\":{\"outlinewidth\":0,\"ticks\":\"\"}}}],\"scatterternary\":[{\"type\":\"scatterternary\",\"marker\":{\"colorbar\":{\"outlinewidth\":0,\"ticks\":\"\"}}}],\"scattercarpet\":[{\"type\":\"scattercarpet\",\"marker\":{\"colorbar\":{\"outlinewidth\":0,\"ticks\":\"\"}}}],\"carpet\":[{\"aaxis\":{\"endlinecolor\":\"#2a3f5f\",\"gridcolor\":\"white\",\"linecolor\":\"white\",\"minorgridcolor\":\"white\",\"startlinecolor\":\"#2a3f5f\"},\"baxis\":{\"endlinecolor\":\"#2a3f5f\",\"gridcolor\":\"white\",\"linecolor\":\"white\",\"minorgridcolor\":\"white\",\"startlinecolor\":\"#2a3f5f\"},\"type\":\"carpet\"}],\"table\":[{\"cells\":{\"fill\":{\"color\":\"#EBF0F8\"},\"line\":{\"color\":\"white\"}},\"header\":{\"fill\":{\"color\":\"#C8D4E3\"},\"line\":{\"color\":\"white\"}},\"type\":\"table\"}],\"barpolar\":[{\"marker\":{\"line\":{\"color\":\"#E5ECF6\",\"width\":0.5},\"pattern\":{\"fillmode\":\"overlay\",\"size\":10,\"solidity\":0.2}},\"type\":\"barpolar\"}],\"pie\":[{\"automargin\":true,\"type\":\"pie\"}]},\"layout\":{\"autotypenumbers\":\"strict\",\"colorway\":[\"#636efa\",\"#EF553B\",\"#00cc96\",\"#ab63fa\",\"#FFA15A\",\"#19d3f3\",\"#FF6692\",\"#B6E880\",\"#FF97FF\",\"#FECB52\"],\"font\":{\"color\":\"#2a3f5f\"},\"hovermode\":\"closest\",\"hoverlabel\":{\"align\":\"left\"},\"paper_bgcolor\":\"white\",\"plot_bgcolor\":\"#E5ECF6\",\"polar\":{\"bgcolor\":\"#E5ECF6\",\"angularaxis\":{\"gridcolor\":\"white\",\"linecolor\":\"white\",\"ticks\":\"\"},\"radialaxis\":{\"gridcolor\":\"white\",\"linecolor\":\"white\",\"ticks\":\"\"}},\"ternary\":{\"bgcolor\":\"#E5ECF6\",\"aaxis\":{\"gridcolor\":\"white\",\"linecolor\":\"white\",\"ticks\":\"\"},\"baxis\":{\"gridcolor\":\"white\",\"linecolor\":\"white\",\"ticks\":\"\"},\"caxis\":{\"gridcolor\":\"white\",\"linecolor\":\"white\",\"ticks\":\"\"}},\"coloraxis\":{\"colorbar\":{\"outlinewidth\":0,\"ticks\":\"\"}},\"colorscale\":{\"sequential\":[[0.0,\"#0d0887\"],[0.1111111111111111,\"#46039f\"],[0.2222222222222222,\"#7201a8\"],[0.3333333333333333,\"#9c179e\"],[0.4444444444444444,\"#bd3786\"],[0.5555555555555556,\"#d8576b\"],[0.6666666666666666,\"#ed7953\"],[0.7777777777777778,\"#fb9f3a\"],[0.8888888888888888,\"#fdca26\"],[1.0,\"#f0f921\"]],\"sequentialminus\":[[0.0,\"#0d0887\"],[0.1111111111111111,\"#46039f\"],[0.2222222222222222,\"#7201a8\"],[0.3333333333333333,\"#9c179e\"],[0.4444444444444444,\"#bd3786\"],[0.5555555555555556,\"#d8576b\"],[0.6666666666666666,\"#ed7953\"],[0.7777777777777778,\"#fb9f3a\"],[0.8888888888888888,\"#fdca26\"],[1.0,\"#f0f921\"]],\"diverging\":[[0,\"#8e0152\"],[0.1,\"#c51b7d\"],[0.2,\"#de77ae\"],[0.3,\"#f1b6da\"],[0.4,\"#fde0ef\"],[0.5,\"#f7f7f7\"],[0.6,\"#e6f5d0\"],[0.7,\"#b8e186\"],[0.8,\"#7fbc41\"],[0.9,\"#4d9221\"],[1,\"#276419\"]]},\"xaxis\":{\"gridcolor\":\"white\",\"linecolor\":\"white\",\"ticks\":\"\",\"title\":{\"standoff\":15},\"zerolinecolor\":\"white\",\"automargin\":true,\"zerolinewidth\":2},\"yaxis\":{\"gridcolor\":\"white\",\"linecolor\":\"white\",\"ticks\":\"\",\"title\":{\"standoff\":15},\"zerolinecolor\":\"white\",\"automargin\":true,\"zerolinewidth\":2},\"scene\":{\"xaxis\":{\"backgroundcolor\":\"#E5ECF6\",\"gridcolor\":\"white\",\"linecolor\":\"white\",\"showbackground\":true,\"ticks\":\"\",\"zerolinecolor\":\"white\",\"gridwidth\":2},\"yaxis\":{\"backgroundcolor\":\"#E5ECF6\",\"gridcolor\":\"white\",\"linecolor\":\"white\",\"showbackground\":true,\"ticks\":\"\",\"zerolinecolor\":\"white\",\"gridwidth\":2},\"zaxis\":{\"backgroundcolor\":\"#E5ECF6\",\"gridcolor\":\"white\",\"linecolor\":\"white\",\"showbackground\":true,\"ticks\":\"\",\"zerolinecolor\":\"white\",\"gridwidth\":2}},\"shapedefaults\":{\"line\":{\"color\":\"#2a3f5f\"}},\"annotationdefaults\":{\"arrowcolor\":\"#2a3f5f\",\"arrowhead\":0,\"arrowwidth\":1},\"geo\":{\"bgcolor\":\"white\",\"landcolor\":\"#E5ECF6\",\"subunitcolor\":\"white\",\"showland\":true,\"showlakes\":true,\"lakecolor\":\"white\"},\"title\":{\"x\":0.05},\"mapbox\":{\"style\":\"light\"}}},\"xaxis\":{\"anchor\":\"y\",\"domain\":[0.0,1.0],\"scaleanchor\":\"y\",\"constrain\":\"domain\",\"side\":\"bottom\"},\"yaxis\":{\"anchor\":\"x\",\"domain\":[0.0,1.0],\"autorange\":\"reversed\",\"constrain\":\"domain\"},\"coloraxis\":{\"colorscale\":[[0.0,\"#0d0887\"],[0.1111111111111111,\"#46039f\"],[0.2222222222222222,\"#7201a8\"],[0.3333333333333333,\"#9c179e\"],[0.4444444444444444,\"#bd3786\"],[0.5555555555555556,\"#d8576b\"],[0.6666666666666666,\"#ed7953\"],[0.7777777777777778,\"#fb9f3a\"],[0.8888888888888888,\"#fdca26\"],[1.0,\"#f0f921\"]]},\"margin\":{\"t\":60},\"title\":{\"text\":\"Correlation Matrix of events features\",\"y\":0.95,\"x\":0.5,\"xanchor\":\"center\",\"yanchor\":\"top\"}},                        {\"responsive\": true}                    ).then(function(){\n",
       "                            \n",
       "var gd = document.getElementById('0f81446b-370f-4459-b0b2-a56671ccc13c');\n",
       "var x = new MutationObserver(function (mutations, observer) {{\n",
       "        var display = window.getComputedStyle(gd).display;\n",
       "        if (!display || display === 'none') {{\n",
       "            console.log([gd, 'removed!']);\n",
       "            Plotly.purge(gd);\n",
       "            observer.disconnect();\n",
       "        }}\n",
       "}});\n",
       "\n",
       "// Listen for the removal of the full notebook cells\n",
       "var notebookContainer = gd.closest('#notebook-container');\n",
       "if (notebookContainer) {{\n",
       "    x.observe(notebookContainer, {childList: true});\n",
       "}}\n",
       "\n",
       "// Listen for the clearing of the current output cell\n",
       "var outputEl = gd.closest('.output');\n",
       "if (outputEl) {{\n",
       "    x.observe(outputEl, {childList: true});\n",
       "}}\n",
       "\n",
       "                        })                };                });            </script>        </div>"
      ]
     },
     "metadata": {},
     "output_type": "display_data"
    }
   ],
   "source": [
    "corr_mat = np.round(events_df.corr(), 3)\n",
    "\n",
    "fig = px.imshow(\n",
    "    corr_mat,\n",
    "    x=corr_mat.columns,\n",
    "    y=corr_mat.columns, \n",
    "    text_auto=True\n",
    "   )\n",
    "fig.update_xaxes(side=\"bottom\")\n",
    "fig.update_layout(\n",
    "    title={\n",
    "        'text': \"Correlation Matrix of events features\",\n",
    "        'y':0.95,\n",
    "        'x':0.5,\n",
    "        'xanchor': 'center',\n",
    "        'yanchor': 'top'\n",
    "    }\n",
    ")\n",
    "\n",
    "fig.show()"
   ]
  },
  {
   "cell_type": "markdown",
   "metadata": {},
   "source": [
    "<a id=\"2.6\"></a>\n",
    "## <div style=\"box-shadow: rgba(0, 0, 0, 0.18) 0px 2px 4px inset; padding:20px; font-size:24px; font-family: consolas; text-align:center; display:fill; border-radius:15px; color:rgb(67, 66, 66)\"> <b> 2.6 Overview <i>tasks.csv</i> file</b></div>"
   ]
  },
  {
   "cell_type": "markdown",
   "metadata": {},
   "source": [
    "<p style=\"font-family: consolas; font-size: 16px;\">⚪ <b>tasks.csv</b> Task metadata for series in the <code>defog</code> dataset. (Not relevant for the series in the <code>fog</code> or <code>daily</code> datasets.)</p>\n",
    "\n",
    "* <p style=\"font-family: consolas; font-size: 16px;\"><code>Id</code> The data series where the task was measured.</p>\n",
    "* <p style=\"font-family: consolas; font-size: 16px;\"><code>Begin</code> Time (s) the task began.</p>\n",
    "* <p style=\"font-family: consolas; font-size: 16px;\"><code>End</code> Time (s) the task ended.</p>\n",
    "* <p style=\"font-family: consolas; font-size: 16px;\"><code>Task</code> One of seven tasks types in the DeFOG protocol, described on <a href=\"https://www.kaggle.com/competitions/tlvmc-parkinsons-freezing-gait-prediction/overview/additional-data-documentation\"><strong>this page</strong></a>.</p>\n",
    "* <p style=\"font-family: consolas; font-size: 16px;\"><code>Description</code> Description of the task.</p>"
   ]
  },
  {
   "cell_type": "markdown",
   "metadata": {},
   "source": [
    "<p style=\"font-family: consolas; font-size: 16px;\">❔ How the data looks like.</p>"
   ]
  },
  {
   "cell_type": "code",
   "execution_count": 76,
   "metadata": {
    "execution": {
     "iopub.execute_input": "2023-07-14T02:26:33.627699Z",
     "iopub.status.busy": "2023-07-14T02:26:33.627282Z",
     "iopub.status.idle": "2023-07-14T02:26:33.647200Z",
     "shell.execute_reply": "2023-07-14T02:26:33.645647Z",
     "shell.execute_reply.started": "2023-07-14T02:26:33.627661Z"
    }
   },
   "outputs": [],
   "source": [
    "tasks_df = pd.read_csv(\"/kaggle/input/tlvmc-parkinsons-freezing-gait-prediction/tasks.csv\")"
   ]
  },
  {
   "cell_type": "code",
   "execution_count": 77,
   "metadata": {
    "execution": {
     "iopub.execute_input": "2023-07-14T02:26:33.649204Z",
     "iopub.status.busy": "2023-07-14T02:26:33.648854Z",
     "iopub.status.idle": "2023-07-14T02:26:33.664161Z",
     "shell.execute_reply": "2023-07-14T02:26:33.662750Z",
     "shell.execute_reply.started": "2023-07-14T02:26:33.649170Z"
    }
   },
   "outputs": [
    {
     "data": {
      "text/html": [
       "<div>\n",
       "<style scoped>\n",
       "    .dataframe tbody tr th:only-of-type {\n",
       "        vertical-align: middle;\n",
       "    }\n",
       "\n",
       "    .dataframe tbody tr th {\n",
       "        vertical-align: top;\n",
       "    }\n",
       "\n",
       "    .dataframe thead th {\n",
       "        text-align: right;\n",
       "    }\n",
       "</style>\n",
       "<table border=\"1\" class=\"dataframe\">\n",
       "  <thead>\n",
       "    <tr style=\"text-align: right;\">\n",
       "      <th></th>\n",
       "      <th>Id</th>\n",
       "      <th>Begin</th>\n",
       "      <th>End</th>\n",
       "      <th>Task</th>\n",
       "    </tr>\n",
       "  </thead>\n",
       "  <tbody>\n",
       "    <tr>\n",
       "      <th>0</th>\n",
       "      <td>02ab235146</td>\n",
       "      <td>10.00</td>\n",
       "      <td>190.48</td>\n",
       "      <td>Rest1</td>\n",
       "    </tr>\n",
       "    <tr>\n",
       "      <th>1</th>\n",
       "      <td>02ab235146</td>\n",
       "      <td>211.24</td>\n",
       "      <td>271.56</td>\n",
       "      <td>Rest2</td>\n",
       "    </tr>\n",
       "    <tr>\n",
       "      <th>2</th>\n",
       "      <td>02ab235146</td>\n",
       "      <td>505.88</td>\n",
       "      <td>522.40</td>\n",
       "      <td>4MW</td>\n",
       "    </tr>\n",
       "    <tr>\n",
       "      <th>3</th>\n",
       "      <td>02ab235146</td>\n",
       "      <td>577.96</td>\n",
       "      <td>594.64</td>\n",
       "      <td>4MW-C</td>\n",
       "    </tr>\n",
       "    <tr>\n",
       "      <th>4</th>\n",
       "      <td>02ab235146</td>\n",
       "      <td>701.32</td>\n",
       "      <td>715.28</td>\n",
       "      <td>MB1</td>\n",
       "    </tr>\n",
       "  </tbody>\n",
       "</table>\n",
       "</div>"
      ],
      "text/plain": [
       "           Id   Begin     End   Task\n",
       "0  02ab235146   10.00  190.48  Rest1\n",
       "1  02ab235146  211.24  271.56  Rest2\n",
       "2  02ab235146  505.88  522.40    4MW\n",
       "3  02ab235146  577.96  594.64  4MW-C\n",
       "4  02ab235146  701.32  715.28    MB1"
      ]
     },
     "execution_count": 77,
     "metadata": {},
     "output_type": "execute_result"
    }
   ],
   "source": [
    "tasks_df.head()"
   ]
  },
  {
   "cell_type": "markdown",
   "metadata": {},
   "source": [
    "<p style=\"font-family: consolas; font-size: 16px;\">❔ What is length of the dataframe.</p>"
   ]
  },
  {
   "cell_type": "code",
   "execution_count": 78,
   "metadata": {
    "execution": {
     "iopub.execute_input": "2023-07-14T02:26:33.666617Z",
     "iopub.status.busy": "2023-07-14T02:26:33.666149Z",
     "iopub.status.idle": "2023-07-14T02:26:33.676616Z",
     "shell.execute_reply": "2023-07-14T02:26:33.675220Z",
     "shell.execute_reply.started": "2023-07-14T02:26:33.666573Z"
    }
   },
   "outputs": [
    {
     "name": "stdout",
     "output_type": "stream",
     "text": [
      "Length of the subjects.csv file is: \u001b[94m2817\u001b[0m\n"
     ]
    }
   ],
   "source": [
    "temp = len(tasks_df)\n",
    "print(\n",
    "    f\"Length of the subjects.csv file is: {color.BLUE}{temp}{color.END}\",\n",
    ")"
   ]
  },
  {
   "cell_type": "markdown",
   "metadata": {},
   "source": [
    "<p style=\"font-family: consolas; font-size: 16px;\">❔ Is there any missing data.</p>"
   ]
  },
  {
   "cell_type": "code",
   "execution_count": 79,
   "metadata": {
    "execution": {
     "iopub.execute_input": "2023-07-14T02:26:33.679608Z",
     "iopub.status.busy": "2023-07-14T02:26:33.678229Z",
     "iopub.status.idle": "2023-07-14T02:26:33.693696Z",
     "shell.execute_reply": "2023-07-14T02:26:33.692656Z",
     "shell.execute_reply.started": "2023-07-14T02:26:33.679564Z"
    }
   },
   "outputs": [
    {
     "data": {
      "text/plain": [
       "Id       0\n",
       "Begin    0\n",
       "End      0\n",
       "Task     0\n",
       "dtype: int64"
      ]
     },
     "execution_count": 79,
     "metadata": {},
     "output_type": "execute_result"
    }
   ],
   "source": [
    "tasks_df.isnull().sum()"
   ]
  },
  {
   "cell_type": "markdown",
   "metadata": {},
   "source": [
    "<p style=\"font-family: consolas; font-size: 16px;\">❔ What is the distibution of the difference between fields <code>Begin</code> and <code>End</code>.</p>"
   ]
  },
  {
   "cell_type": "code",
   "execution_count": 80,
   "metadata": {
    "execution": {
     "iopub.execute_input": "2023-07-14T02:26:33.696261Z",
     "iopub.status.busy": "2023-07-14T02:26:33.695098Z",
     "iopub.status.idle": "2023-07-14T02:26:33.780732Z",
     "shell.execute_reply": "2023-07-14T02:26:33.779412Z",
     "shell.execute_reply.started": "2023-07-14T02:26:33.696218Z"
    }
   },
   "outputs": [
    {
     "data": {
      "text/html": [
       "<div>                            <div id=\"41f014bf-2444-45a6-8e6c-1c1ce6872aaa\" class=\"plotly-graph-div\" style=\"height:525px; width:100%;\"></div>            <script type=\"text/javascript\">                require([\"plotly\"], function(Plotly) {                    window.PLOTLYENV=window.PLOTLYENV || {};                                    if (document.getElementById(\"41f014bf-2444-45a6-8e6c-1c1ce6872aaa\")) {                    Plotly.newPlot(                        \"41f014bf-2444-45a6-8e6c-1c1ce6872aaa\",                        [{\"alignmentgroup\":\"True\",\"bingroup\":\"x\",\"hovertemplate\":\"x=%{x}<br>count=%{y}<extra></extra>\",\"legendgroup\":\"\",\"marker\":{\"color\":\"lightslategrey\",\"pattern\":{\"shape\":\"\"}},\"name\":\"\",\"nbinsx\":30,\"offsetgroup\":\"\",\"orientation\":\"v\",\"showlegend\":false,\"x\":[180.48,60.31999999999999,16.519999999999982,16.67999999999995,13.959999999999923,4.839999999999918,5.079999999999927,11.919999999999959,9.879999999999995,1.8559999999999945,4.203000000000088,1.8799999999999955,3.5200000000000955,1.5199999999999818,2.0799999999999272,30.600000000000136,12.839999999999918,30.799999999999955,17.95999999999981,17.40000000000009,8.600000000000136,7.936999999999898,18.799999999999955,17.440000000000055,19.799999999999955,28.12000000000012,21.320000000000164,17.11999999999989,23.320000000000164,46.40000000000009,21.920000000000073,16.759999999999764,16.240000000000236,53.92000000000007,64.59999999999991,11.617999999999999,11.796000000000006,3.468999999999994,7.715000000000003,22.85099999999997,22.584000000000003,6.552999999999997,8.91900000000004,9.444000000000017,5.126000000000033,31.76899999999995,11.849000000000046,30.649999999999977,6.624000000000024,6.230000000000018,5.379000000000019,4.809999999999945,4.230000000000018,10.471000000000004,9.658999999999992,9.860000000000014,8.482999999999947,10.35200000000009,9.580000000000155,18.697999999999865,18.042000000000144,21.587999999999965,11.525000000000091,11.692000000000007,8.32899999999995,9.031999999999925,24.86,23.611000000000004,18.36100000000002,15.506,17.973000000000013,20.144000000000005,24.687999999999988,124.29899999999998,83.83699999999999,25.88499999999999,38.64200000000005,13.664000000000001,12.007999999999996,11.338999999999999,15.661999999999978,14.504000000000019,39.35099999999994,45.02500000000009,15.408999999999878,34.83399999999983,180.88,60.319999999999965,11.71999999999997,11.839999999999975,1.759999999999991,7.399999999999977,4.639999999999986,24.720000000000027,23.24000000000001,23.600000000000023,17.24000000000001,1.3999999999999773,1.8399999999999181,1.4400000000000546,1.4399999999999409,30.720000000000027,31.039999999999964,30.519999999999982,21.039999999999964,10.559999999999945,4.519999999999982,9.18600000000015,10.519999999999982,9.399999999999864,12.879999999999882,12.11999999999989,9.400000000000091,8.682999999999993,16.88000000000011,18.200000000000045,18.69900000000007,10.600000000000136,10.7199999999998,43.17100000000005,41.159999999999854,17.434,18.224999999999994,18.212999999999965,16.038999999999987,20.397999999999968,15.798999999999978,61.02800000000002,87.67499999999995,14.873000000000047,16.914,14.252000000000002,13.131,18.234999999999985,18.743000000000023,129.47000000000003,96.66700000000003,34.194999999999936,35.64999999999998,15.722000000000001,18.677999999999997,20.870000000000005,16.757000000000005,20.959000000000003,22.894000000000005,20.960000000000036,18.940999999999917,70.66700000000003,145.74700000000007,73.73199999999997,20.52299999999991,20.548999999999978,19.246000000000095,18.940000000000055,13.245999999999999,2.9919999999999902,7.168000000000006,3.569999999999993,2.112000000000023,5.286999999999978,4.300999999999988,6.998999999999967,5.581999999999994,5.79200000000003,7.800000000000011,30.069999999999993,1.6050000000000182,31.21300000000008,7.850999999999999,8.537000000000035,6.0890000000000555,5.52699999999993,13.057000000000016,12.567999999999984,16.695999999999913,17.020999999999958,29.13499999999999,38.490999999999985,13.42599999999993,12.989000000000033,23.380999999999858,13.989,10.829000000000008,13.549999999999997,24.139999999999986,17.22199999999998,28.88499999999999,35.13799999999998,20.569000000000074,91.476,14.562000000000001,17.602999999999994,15.76000000000002,15.562999999999988,16.47999999999996,15.599999999999966,16.920000000000016,17.89100000000002,118.84000000000003,227.03999999999985,63.40000000000009,14.439999999999827,17.586000000000013,91.6400000000001,91.32000000000016,16.051,6.559000000000012,7.411000000000001,4.125,4.9269999999999925,3.7309999999999945,3.1069999999999993,5.634999999999991,10.802999999999997,9.620000000000005,8.316000000000031,31.997000000000014,4.718000000000018,32.46999999999997,7.844000000000051,9.004000000000019,7.938000000000102,6.789000000000101,15.02800000000002,15.56000000000006,15.597999999999956,14.581000000000017,29.869000000000028,30.63499999999999,11.68,11.319999999999993,9.679999999999978,13.079999999999984,12.360000000000014,19.04000000000002,17.279999999999973,13.399999999999977,66.24000000000001,181.12,60.79999999999998,19.160000000000025,20.480000000000018,16.960000000000036,17.720000000000027,16.960000000000036,17.480000000000018,17.3599999999999,17.039999999999964,82.75999999999999,109.04000000000008,73.08000000000015,19.720000000000027,22.59999999999991,27.799999999999955,33.680000000000064,18.473,7.2520000000000095,7.387999999999977,6.460000000000008,6.615000000000009,6.97999999999999,12.892000000000024,10.887999999999977,1.6819999999999595,5.129000000000019,5.206999999999994,4.230000000000018,31.200999999999908,5.1299999999999955,12.230000000000018,20.66999999999996,21.040000000000077,6.899999999999977,8.75,25.934999999999945,26.230999999999995,28.529999999999973,32.42599999999993,43.99700000000007,54.575000000000045,19.156000000000176,67.72500000000014,180.16,60.19999999999999,14.559999999999945,16.039999999999964,14.014999999999986,13.230000000000018,19.600000000000023,20.440000000000055,15.043999999999869,14.799999999999955,52.478000000000065,95.39999999999986,71.43900000000008,16.94399999999996,18.563000000000102,41.07999999999993,64.03600000000006,180.003,60.400000000000034,18.08000000000004,22.480000000000018,18.639999999999986,21.805000000000064,25.0,215.81099999999992,208.27999999999997,16.519999999999982,213.99999999999977,56.68000000000001,66.6,80.20100000000002,83.75999999999999,45.799999999999955,49.80000000000007,83.84000000000003,54.81700000000001,98.44000000000005,81.26700000000005,100.88000000000011,41.11999999999989,42.399999999999864,138.32000000000016,179.35999999999967,180.56,60.56,12.892000000000053,12.840000000000032,13.240000000000009,14.199999999999932,14.280000000000086,40.120000000000005,49.59999999999991,13.240000000000009,67.15999999999985,180.72,60.360000000000014,12.839999999999975,12.879999999999995,1.8799999999999955,5.7999999999999545,5.840000000000032,23.480000000000018,23.159999999999968,23.75999999999999,25.519999999999982,1.7250000000000227,2.0,1.6000000000000227,2.839999999999918,30.720000000000027,30.839999999999918,30.600000000000136,10.3599999999999,10.519999999999982,5.6400000000001,11.720000000000027,11.960000000000036,11.403999999999996,13.040000000000191,12.400000000000091,11.279999999999973,10.771999999999935,19.919999999999845,20.039999999999964,18.200000000000045,12.448000000000093,12.120000000000118,31.309999999999945,31.708000000000084,180.68,60.75999999999999,14.480000000000018,14.04000000000002,1.9600000000000364,15.200000000000045,14.879999999999995,7.080000000000041,10.079999999999927,14.960000000000036,6.0,1.1999999999999318,2.2000000000000455,2.1200000000000045,1.5200000000000955,30.519999999999982,30.87999999999988,30.12000000000012,17.799999999999955,17.75999999999999,6.160000000000082,17.680000000000064,13.679999999999836,13.519999999999982,14.440000000000055,14.199999999999818,12.960000000000036,13.360000000000127,35.59999999999991,43.559999999999945,37.16000000000031,11.7199999999998,11.559999999999945,59.559999999999945,59.63999999999987,180.92,60.680000000000035,12.520000000000039,2.079999999999984,5.559999999999945,6.0,6.440000000000055,12.600000000000023,23.800000000000068,12.120000000000005,1.67999999999995,2.2799999999999727,3.199999999999932,2.439999999999941,31.479999999999905,31.079999999999927,30.280000000000086,13.519999999999982,17.12000000000012,4.039999999999964,6.040000000000191,10.11999999999989,9.759999999999991,14.519999999999982,12.88000000000011,17.960000000000036,25.2800000000002,9.88000000000011,40.0,180.72,60.96000000000001,17.0,15.959999999999923,1.6399999999999864,9.519999999999982,8.279999999999973,4.759999999999991,6.759999999999991,12.634999999999991,1.6000000000000227,2.080000000000041,1.8799999999999955,1.919999999999959,2.839999999999918,2.3999999999999773,30.67999999999995,30.039999999999964,30.399999999999864,9.0,8.159999999999854,10.759999999999991,7.880000000000109,12.480000000000018,15.559999999999945,30.200000000000045,24.039999999999964,14.720000000000027,14.799999999999955,67.15999999999985,124.15999999999985,64.07999999999993,31.654999999999745,17.7199999999998,84.04600000000028,72.44000000000005,14.492,5.695999999999998,7.425000000000011,5.438999999999993,2.890000000000015,4.6270000000000095,2.100999999999999,6.843999999999994,7.0,6.528999999999996,9.558999999999969,31.444999999999993,31.543999999999983,9.029999999999973,10.208999999999946,9.08299999999997,6.652000000000044,15.769999999999982,15.157000000000039,17.378000000000043,15.653999999999996,45.694999999999936,61.56099999999992,13.991999999999962,24.376999999999953,14.291,5.378,5.247000000000014,8.076999999999998,1.8029999999999973,7.809000000000026,6.2549999999999955,7.222000000000037,7.189000000000021,5.140000000000043,5.878999999999962,31.511000000000024,22.66700000000003,31.692999999999984,7.696000000000026,9.718000000000075,8.865000000000009,7.796000000000049,13.950000000000045,11.505999999999972,14.413000000000011,15.751999999999953,191.49199999999996,97.86300000000006,15.901000000000067,15.167000000000144,22.774000000000115,11.712,10.636000000000003,4.277999999999992,5.578000000000003,3.991000000000014,4.199000000000012,7.631,9.348000000000013,6.389999999999986,6.041999999999973,7.9879999999999995,9.200000000000045,31.531999999999982,14.263999999999953,10.286999999999978,7.385000000000105,8.238000000000056,7.432000000000016,6.7999999999999545,9.746999999999957,0.02800000000002001,9.480000000000018,10.716000000000008,8.941000000000031,18.427999999999997,22.61200000000008,21.156999999999925,19.896999999999935,15.990999999999985,15.963000000000001,17.159999999999997,1.7199999999999989,6.761000000000024,7.159999999999968,17.62299999999999,24.879999999999995,23.399999999999977,24.079999999999984,3.0,4.600000000000023,4.480000000000018,5.480000000000018,30.639999999999986,30.800000000000068,30.6400000000001,12.480000000000018,10.399999999999864,8.839999999999918,10.120000000000118,14.883000000000038,15.240000000000009,16.46900000000005,14.960000000000036,17.11999999999989,18.559999999999945,71.78199999999993,194.03999999999996,87.88000000000011,15.009000000000015,19.15599999999995,90.20000000000027,94.55999999999995,30.4,23.200000000000003,25.200000000000017,23.120000000000005,43.84000000000003,41.28000000000003,23.319999999999993,24.32000000000005,26.879999999999995,34.07999999999993,26.519999999999982,35.080000000000155,30.639999999999873,53.59999999999991,66.49500000000012,18.16,24.000000000000014,22.16500000000002,34.07099999999997,26.122000000000014,50.46300000000002,54.37900000000002,22.96799999999996,62.40999999999997,18.202,24.32299999999998,18.15500000000003,25.37700000000001,22.42700000000002,59.153999999999996,121.8950000000001,25.951000000000022,16.83199999999988,181.08,60.95999999999998,32.680000000000064,47.48000000000002,36.16000000000008,42.799999999999955,52.87999999999988,53.72000000000003,62.440000000000055,50.080000000000155,143.72000000000025,192.84000000000015,107.2800000000002,27.720000000000255,33.266999999999825,92.11999999999989,113.03999999999996,180.72,60.48000000000002,15.839999999999918,14.719999999999914,15.200000000000045,13.719999999999914,17.280000000000086,15.719999999999914,14.0,13.120000000000005,32.424000000000206,38.83999999999992,37.07999999999993,18.40000000000009,17.811999999999898,32.99500000000012,32.11000000000013,180.36,60.67999999999995,14.160000000000082,15.639999999999986,12.728000000000065,12.815000000000055,14.800000000000182,13.7199999999998,12.840000000000146,12.120000000000118,21.200000000000045,26.83199999999988,23.881000000000085,12.726000000000113,11.305000000000064,52.039999999999964,45.59999999999991,11.311,3.6260000000000048,6.765999999999991,7.438999999999993,22.829000000000008,22.619,6.008999999999986,7.165999999999968,5.213999999999999,7.108000000000004,30.56899999999996,2.8659999999999854,31.730999999999995,7.947000000000003,8.01400000000001,6.270999999999958,7.010999999999967,11.115000000000009,11.379999999999995,12.004000000000019,11.144999999999982,22.091999999999985,0.003000000000156433,22.38499999999999,13.773999999999887,55.25400000000013,180.8,60.68000000000001,11.439999999999998,12.720000000000027,10.759999999999991,11.719999999999914,13.639999999999986,12.720000000000027,13.639999999999986,10.800000000000068,20.440000000000055,21.960000000000036,36.960000000000036,14.879999999999882,14.200000000000045,20.160000000000082,20.319999999999936,180.0,60.68000000000001,41.47999999999996,52.0,6.0,3.439999999999941,19.559999999999945,12.600000000000023,10.480000000000018,3.2800000000000864,4.080000000000041,4.4799999999999045,4.279999999999973,30.279999999999973,26.519999999999982,30.2800000000002,57.799999999999955,13.759999999999991,9.240000000000009,12.839999999999918,23.159999999999854,24.88000000000011,54.440000000000055,52.960000000000036,206.15999999999985,241.0,34.59999999999991,105.40000000000009,12.440000000000001,13.64,1.799999999999983,10.680000000000007,9.439999999999998,24.0,18.95999999999998,4.680000000000007,14.800000000000011,1.7620000000000005,2.0400000000000205,1.7199999999999704,1.839999999999975,30.399999999999977,30.639999999999986,30.91999999999996,14.319999999999936,18.519999999999982,5.839999999999918,11.56000000000006,10.639999999999986,11.720000000000027,12.320000000000164,11.879999999999882,12.920000000000073,11.959999999999809,82.59999999999991,86.36000000000013,68.91999999999985,15.639999999999873,14.920000000000073,47.0,45.440000000000055,13.36,13.200000000000017,14.880000000000024,19.608000000000004,20.799999999999955,33.80900000000008,40.0,19.679999999999836,52.25499999999988,18.911,15.945000000000007,15.544000000000011,16.930999999999983,17.807999999999993,17.13499999999999,16.759000000000015,230.697,231.75199999999995,75.87199999999984,30.146999999999935,69.59999999999991,41.67399999999998,13.8,14.079999999999998,2.5200000000000102,5.680000000000007,7.0,19.079999999999984,17.079999999999984,4.840000000000032,23.519999999999982,3.920000000000016,4.432999999999993,3.519999999999982,2.599999999999966,31.879999999999995,30.187000000000012,32.719999999999914,7.559999999999945,9.440000000000055,6.519999999999982,8.480000000000018,15.201999999999998,13.24200000000019,18.482999999999947,14.440000000000055,15.6400000000001,16.11999999999989,35.87999999999988,45.2800000000002,30.039999999999964,8.399999999999864,11.166000000000167,25.720000000000027,26.919999999999845,182.96,60.84,27.720000000000027,39.48000000000002,12.080000000000155,10.879999999999882,14.360000000000127,11.160000000000082,8.599999999999909,9.320000000000164,23.519999999999982,3.0799999999999272,1.8799999999998818,2.0,1.400000000000091,30.24000000000001,19.039999999999964,31.360000000000127,38.3599999999999,14.3599999999999,17.40000000000009,14.680000000000064,37.200000000000045,45.76000000000022,69.20000000000027,56.840000000000146,57.80000000000018,60.559999999999945,207.59900000000016,251.92000000000007,115.84000000000015,30.639999999999873,31.480000000000018,87.07999999999993,104.15999999999985,15.264,3.480000000000018,6.548000000000002,4.799999999999983,6.520000000000039,5.279999999999973,4.300000000000011,19.879999999999995,1.1599999999999682,1.8799999999999955,2.4399999999999977,2.7200000000000273,31.160000000000082,30.513000000000034,30.277000000000044,6.785000000000082,9.200000000000045,7.800000000000068,7.319999999999936,15.435999999999922,13.839999999999918,16.440000000000055,16.11999999999989,23.826999999999998,26.080000000000155,13.319999999999936,99.83399999999983,14.55,1.8399999999999892,6.319999999999993,0.9199999999999875,5.27000000000001,2.5,10.52000000000001,6.47999999999999,8.069999999999993,6.670000000000016,5.5,33.90999999999997,5.2900000000000205,34.670000000000016,9.290000000000077,8.950000000000045,5.909999999999968,7.610000000000014,14.009999999999991,13.670000000000073,16.350000000000023,17.00999999999999,25.610000000000014,37.26999999999998,20.819999999999936,19.169999999999845,23.6400000000001,17.444,17.03800000000001,16.30000000000001,17.314999999999998,16.774999999999977,15.779999999999973,17.638999999999953,16.951999999999998,68.33800000000008,62.645000000000095,81.97000000000003,26.204999999999927,22.017000000000053,20.600000000000136,16.223999999999933,12.841000000000001,15.599999999999994,12.951000000000022,15.167000000000002,16.879999999999995,34.31999999999999,46.670000000000016,9.91599999999994,36.783000000000015,33.912,42.866,29.431999999999988,35.29399999999998,86.20600000000002,70.35300000000007,47.04399999999998,40.37699999999995,176.29499999999996,144.75900000000001,159.192,42.4530000000002,66.72000000000025,158.15999999999985,131.36000000000013,15.780000000000001,14.119999999999976,14.52000000000001,15.319999999999993,16.600000000000023,37.47999999999996,63.48000000000002,7.209,10.339000000000006,7.573999999999998,6.845999999999989,11.133999999999986,13.109999999999985,16.185000000000002,16.34699999999998,180.72,60.0,18.75999999999999,15.319999999999936,15.0,18.56000000000006,17.440000000000055,24.110000000000014,34.548,15.080000000000155,175.4799999999998,0.0030000000000001137,17.39,15.392999999999986,13.156000000000006,17.955000000000013,14.353000000000009,58.46100000000001,142.43600000000004,12.203,11.744000000000007,5.27000000000001,6.1270000000000095,21.62900000000002,18.89500000000001,22.209000000000003,5.048999999999978,6.351999999999975,4.210000000000036,5.490000000000009,30.76800000000003,31.59400000000005,30.91700000000003,7.831000000000017,7.163000000000011,6.621999999999957,5.5359999999999445,11.090000000000032,10.399999999999977,10.290000000000077,9.249000000000024,11.345000000000027,11.450000000000045,23.965000000000146,32.39300000000003,21.721000000000004,16.91300000000001,18.207000000000107,21.394000000000005,26.019999999999982,181.48,60.00000000000003,10.720000000000027,9.233000000000004,8.839999999999918,8.561000000000035,8.280000000000086,15.480000000000018,16.519999999999982,12.840000000000032,27.159999999999968,34.68,32.0,33.08000000000001,77.28000000000003,64.03999999999996,170.03999999999996,193.0,32.75999999999999,182.87999999999988,50.36,43.2,32.27999999999997,30.480000000000018,194.84000000000003,176.08000000000004,72.39999999999998,57.680000000000064,160.07999999999993,119.51999999999998,123.08000000000015,102.33699999999999,43.51999999999998,356.72000000000025,273.75999999999976,180.2,60.15999999999997,32.39999999999998,26.480000000000018,26.120000000000005,22.75999999999999,31.559999999999945,25.480000000000018,22.319999999999936,25.079999999999927,60.12000000000012,180.64,60.27999999999997,14.199999999999989,2.1200000000000045,10.240000000000009,10.599999999999909,11.680000000000064,14.759999999999991,15.520000000000095,6.080000000000041,1.7200000000000273,3.67999999999995,2.919999999999959,1.9599999999999227,30.43999999999994,30.680000000000064,30.11999999999989,14.159999999999854,14.200000000000045,6.320000000000164,13.11999999999989,11.720000000000027,10.919999999999845,11.920000000000073,11.319999999999936,23.039999999999964,24.480000000000018,10.11999999999989,53.600000000000136,11.895,13.683999999999997,13.205999999999989,16.342000000000013,15.849999999999994,36.35200000000003,86.71299999999997,15.868000000000052,26.614000000000033,14.95,14.959999999999994,13.310000000000002,16.539999999999992,18.099999999999994,23.930000000000007,30.460000000000036,22.17999999999995,26.379999999999995,23.74000000000001,181.12,60.68000000000001,18.800000000000068,26.56000000000006,20.138000000000147,17.59999999999991,19.799999999999955,20.279999999999973,21.200000000000045,20.9849999999999,181.27999999999997,227.4799999999998,170.92299999999977,17.039999999999964,17.210000000000036,89.15999999999985,58.279999999999745,56.040000000000006,38.639999999999986,34.12000000000003,34.39999999999998,31.75999999999999,93.75300000000004,60.960000000000036,42.840000000000146,128.76,180.96,60.48000000000002,11.519999999999982,11.394000000000005,1.8400000000000318,4.759999999999991,5.480000000000018,24.200000000000045,16.073999999999955,20.437999999999988,14.879999999999995,2.080000000000041,1.759999999999991,2.3600000000000136,2.240000000000009,30.40000000000009,31.24000000000001,30.08000000000004,10.399999999999864,10.779999999999973,4.120000000000118,13.039999999999964,9.959999999999809,9.990000000000009,12.261999999999944,11.6400000000001,13.799999999999955,10.239999999999782,15.951000000000022,19.519999999999982,19.75999999999999,10.960000000000036,10.279999999999973,37.98699999999985,37.13200000000006,11.024000000000001,13.567999999999998,13.296999999999997,11.02000000000001,10.722999999999985,13.208000000000027,11.534999999999968,28.62299999999999,54.889999999999986,37.85000000000002,13.394000000000005,13.950000000000045,15.562000000000012,16.210000000000036,181.24,61.19999999999999,11.28000000000003,2.2799999999999727,6.480000000000018,8.720000000000027,27.160000000000082,23.903999999999996,16.959999999999923,22.840000000000032,2.0399999999999636,2.2000000000000455,2.4400000000000546,1.67999999999995,31.159999999999968,31.360000000000014,30.91999999999996,13.199999999999932,13.159999999999854,4.360000000000127,12.0,9.200000000000045,8.759999999999991,10.360000000000127,9.759999999999991,12.920000000000073,15.519999999999982,8.932999999999993,14.47999999999979,11.294,12.033000000000001,3.4210000000000065,5.9609999999999985,2.3649999999999807,2.7179999999999893,1.9470000000000027,2.3549999999999898,3.6370000000000005,10.079999999999984,5.376000000000005,7.919000000000011,31.15300000000002,1.8600000000000136,29.992999999999995,6.617999999999938,8.035999999999945,7.476999999999975,6.341000000000008,11.396000000000072,11.515999999999963,18.23599999999999,13.664999999999964,44.06599999999992,60.432000000000016,15.497000000000071,80.31700000000001,28.369999999999997,30.710000000000008,34.772999999999996,88.00900000000001,52.04499999999996,138.65800000000002,46.631999999999834,56.6880000000001,13.8,1.6400000000000148,6.639999999999986,5.960000000000008,11.399999999999977,13.835000000000036,4.0540000000000305,4.519999999999982,1.8239999999999554,2.0,2.5200000000000955,1.8799999999999955,30.43999999999994,30.879999999999995,30.75999999999999,6.360000000000014,10.159999999999968,5.657000000000153,7.573000000000093,14.639999999999873,13.799999999999955,19.960000000000036,15.599999999999909,57.3599999999999,80.0,20.319999999999936,45.92000000000007,180.64,60.04000000000002,14.279999999999973,15.559999999999945,15.919999999999959,15.319999999999936,16.960000000000036,16.079999999999927,14.480000000000018,14.67999999999995,42.83999999999992,53.48000000000002,49.2800000000002,12.760000000000218,13.52299999999991,68.32000000000016,67.68000000000006,180.76,60.879999999999995,11.600000000000023,12.160000000000025,1.7200000000000273,4.680000000000007,4.0,23.280000000000086,24.600000000000023,18.639999999999986,24.144000000000005,1.9700000000000273,2.1200000000000045,1.4400000000000546,1.3199999999999363,30.960000000000036,30.680000000000064,30.199999999999932,14.879999999999995,12.680000000000064,6.199999999999818,10.799999999999955,9.279999999999973,9.039999999999964,9.798000000000002,9.759999999999991,10.439999999999827,9.839999999999918,15.080000000000155,16.440000000000055,15.120000000000118,11.680000000000064,10.840000000000146,13.800000000000182,13.680000000000064,12.16,1.5999999999999943,6.640000000000001,8.52000000000001,5.360000000000014,5.599999999999994,5.079999999999984,13.079999999999984,5.839999999999975,4.32000000000005,2.079999999999984,2.9420000000000073,30.43999999999994,32.0,30.91999999999996,16.519999999999982,14.120000000000005,5.600000000000023,5.279999999999973,10.480999999999995,9.321999999999889,12.80099999999993,14.001999999999953,22.24000000000001,38.799999999999955,18.6400000000001,46.136999999999944,180.52,60.160000000000025,18.879999999999995,4.7999999999999545,8.718999999999937,9.600000000000023,18.639999999999986,20.75999999999999,12.039999999999964,10.800000000000068,2.919999999999959,2.7999999999999545,4.060000000000059,1.3600000000001273,30.06600000000003,30.039999999999964,30.24000000000001,6.855000000000018,5.839999999999918,7.1599999999998545,5.8400000000001455,14.3599999999999,11.639999999999873,14.799999999999955,15.039999999999964,85.55999999999995,99.75999999999999,11.920000000000073,54.95999999999958,16.863,19.23600000000002,17.52200000000002,17.314999999999998,17.43100000000004,49.783000000000015,80.52499999999998,20.240999999999985,27.829999999999927,18.16,19.559999999999988,18.763000000000034,17.920000000000016,22.0,20.920000000000073,17.395999999999958,18.43999999999994,41.75999999999999,43.719999999999914,42.59999999999991,21.163999999999987,16.722999999999956,71.16000000000008,67.24000000000001,12.274000000000001,2.010000000000005,7.609000000000009,22.439999999999998,21.74200000000002,10.294000000000011,10.775000000000034,9.762999999999977,5.453000000000031,31.192000000000007,5.508000000000038,32.58299999999997,6.948000000000093,7.926999999999907,7.2650000000001,6.7309999999999945,11.916000000000054,11.56000000000006,15.491999999999962,13.024000000000001,33.84999999999991,96.83400000000006,14.05399999999986,33.81899999999996,180.52,60.67999999999998,18.440000000000055,18.600000000000023,21.847000000000094,16.32000000000005,27.62799999999993,25.839999999999918,15.480000000000018,15.360000000000127,48.0,112.96000000000004,46.59999999999991,24.55099999999993,18.720000000000027,82.40000000000009,74.84000000000015,10.296,9.682000000000002,3.076999999999998,2.914999999999992,6.2239999999999895,15.89500000000001,22.76400000000001,4.104999999999961,23.57299999999998,4.335999999999956,4.357000000000028,4.006000000000029,3.9610000000000127,32.84100000000001,7.273000000000025,32.398000000000025,7.875,8.331000000000017,5.837999999999965,6.139999999999986,6.236999999999966,6.486999999999966,10.168000000000006,8.877999999999929,10.100000000000023,8.93600000000015,10.045999999999822,7.939000000000078,25.061999999999998,4.966000000000008,0.006000000000000227,7.432000000000002,1.0109999999999957,6.675999999999988,0.01099999999999568,0.006000000000000227,1.125,4.3160000000000025,20.91300000000001,6.6910000000000025,9.873999999999967,9.242000000000019,30.489000000000033,14.387,34.78399999999999,14.663999999999987,10.899999999999977,8.93100000000004,9.8839999999999,27.05899999999997,23.541999999999916,31.069999999999936,94.56500000000005,112.68799999999987,51.457999999999856,38.59899999999993,15.04,18.24000000000001,1.6800000000000068,7.319999999999993,7.7999999999999545,5.439999999999998,4.639999999999986,15.119999999999948,5.67999999999995,2.319999999999993,4.360000000000014,2.759999999999991,3.32000000000005,30.67999999999995,30.399999999999977,31.079999999999927,20.40000000000009,22.039999999999964,8.120000000000118,7.6400000000001,14.480000000000018,15.639999999999873,19.800000000000182,19.480000000000018,16.159999999999854,16.679999999999836,108.59999999999991,240.0,149.24000000000024,21.5600000000004,21.0,42.63999999999987,40.039999999999964,14.047999999999998,21.77799999999999,17.48999999999998,60.67399999999998,26.394999999999982,105.22900000000004,13.120000000000001,1.519999999999996,7.1580000000000155,10.456999999999994,20.599999999999994,24.75999999999999,20.920000000000016,22.680000000000007,2.798000000000002,2.1200000000000045,1.8400000000000318,2.4400000000000546,30.75999999999999,31.639999999999986,31.879999999999995,6.879999999999882,7.039999999999964,7.480000000000018,7.3599999999999,12.683999999999969,14.764000000000124,18.364000000000033,16.447999999999865,55.200000000000045,208.0400000000002,12.279999999999973,30.442000000000007,180.76,60.72,10.56000000000006,10.720000000000027,8.720000000000027,8.04600000000005,8.360000000000014,8.6400000000001,7.919999999999959,7.960000000000036,19.079999999999927,21.3599999999999,20.920000000000073,14.079999999999927,12.279999999999973,24.75999999999999,21.440000000000055,180.88,60.640000000000015,37.19999999999999,34.51999999999998,36.48000000000002,60.24000000000001,42.39999999999998,49.039999999999964,74.96000000000004,16.12000000000012,142.91999999999985,13.440000000000001,13.560000000000002,14.719999999999999,15.039999999999992,23.879999999999995,30.400000000000034,11.360000000000014,31.91999999999996,180.32,60.400000000000006,13.439999999999998,12.079999999999927,12.519999999999982,14.799999999999955,17.760000000000105,30.519999999999982,31.91999999999996,14.160000000000082,70.11999999999989,180.08,60.31999999999999,17.920000000000016,18.479999999999905,16.040000000000077,15.720000000000027,18.480000000000018,18.879999999999995,16.840000000000032,15.88000000000011,31.0,34.531999999999925,37.12000000000012,13.799999999999955,15.240000000000009,149.03999999999996,144.96000000000004,179.96,61.039999999999964,24.480000000000018,23.519999999999982,26.480000000000018,29.6400000000001,31.360000000000014,103.92100000000005,155.96000000000004,44.559999999999945,32.799999999999955,80.20000000000005,213.57499999999982,87.79999999999973,36.59999999999991,32.559999999999945,91.92000000000007,112.76000000000022,13.27,12.670000000000002,15.969999999999985,13.920000000000016,17.48999999999998,36.20999999999998,135.82999999999998,31.460000000000036,32.8599999999999,11.242,10.840000000000003,1.5600000000000023,7.367000000000019,3.740000000000009,5.248999999999967,17.839999999999975,7.759999999999991,6.0,1.8400000000000318,3.3600000000000136,1.759999999999991,2.1200000000000045,30.719999999999914,30.600000000000023,30.680000000000064,5.919999999999845,6.2000000000000455,4.839999999999918,5.470000000000027,10.122000000000071,9.879000000000133,17.92100000000005,13.11999999999989,11.959999999999809,10.879999999999882,27.039999999999964,44.399999999999864,35.75999999999976,13.922000000000025,12.882000000000062,42.289000000000215,48.36799999999994,11.498000000000001,13.198000000000008,10.944999999999993,10.75399999999999,10.997000000000014,11.706999999999994,11.411999999999978,25.15500000000003,25.772999999999968,27.692999999999984,17.52800000000002,14.602999999999952,26.0150000000001,25.0,10.899999999999999,3.5760000000000076,7.609999999999985,11.746999999999986,16.129999999999995,14.198999999999984,18.911999999999978,6.572999999999979,9.47399999999999,4.822000000000003,8.84699999999998,6.517999999999972,30.74799999999999,7.538999999999987,31.561000000000035,7.9220000000000255,7.8799999999999955,6.757000000000062,5.982999999999947,12.815000000000055,10.004999999999995,10.105999999999995,14.755999999999972,13.509999999999991,22.560999999999922,26.263999999999896,23.960999999999785,34.51099999999997,13.52,12.68,1.8800000000000239,4.960000000000008,4.840000000000003,24.23999999999998,25.879999999999995,25.600000000000023,24.120000000000005,2.384999999999991,1.6800000000000068,1.6800000000000068,2.519999999999982,31.039999999999964,25.480000000000018,31.0,14.680000000000064,15.920000000000073,6.345000000000027,15.599999999999909,15.160000000000082,14.639999999999873,20.519999999999982,17.75999999999999,15.519999999999982,13.519999999999982,26.87999999999988,37.53500000000008,30.160000000000082,24.720000000000027,22.200000000000045,51.0,52.40000000000009,15.649999999999999,16.02000000000001,12.573999999999984,11.986000000000018,13.377999999999986,15.036000000000001,13.691000000000031,33.853000000000065,186.485,46.13900000000001,26.443000000000097,56.56600000000003,11.604,12.264999999999986,13.724999999999994,17.992999999999995,14.949999999999989,35.839,76.34000000000003,19.12099999999998,54.63600000000008,38.84,33.24000000000001,23.439999999999998,8.039999999999964,12.919999999999959,6.199999999999989,17.128999999999962,10.079999999999984,7.598000000000013,1.6619999999999209,3.9599999999999227,31.399999999999977,7.0,30.75999999999999,41.319999999999936,20.680000000000064,18.920000000000073,26.639999999999873,30.95999999999981,31.320000000000164,133.80000000000018,103.39100000000008,50.51999999999998,34.19999999999982,178.1199999999999,135.24000000000024,98.59999999999991,34.51999999999998,76.7199999999998,96.39999999999964,97.76000000000022,17.007,14.200000000000003,13.629999999999995,13.436000000000007,12.849999999999994,53.01400000000001,64.29299999999995,19.022000000000048,14.452999999999975,21.24,19.16600000000001,2.599999999999966,3.840000000000032,2.5600000000000023,15.960000000000036,13.800000000000011,8.080000000000041,8.039999999999964,1.919999999999959,2.0,1.919999999999959,3.6000000000000227,31.279999999999973,31.159999999999968,30.680000000000064,8.600000000000023,9.5,8.080000000000041,5.440000000000055,19.85200000000009,17.399999999999864,17.757000000000062,22.23999999999978,21.40000000000009,19.87999999999988,15.680000000000064,26.09699999999998,35.36000000000013,25.3599999999999,12.657999999999902,12.996000000000095,33.840000000000146,30.23999999999978,11.196000000000002,3.4499999999999886,3.7169999999999987,3.9739999999999895,2.8600000000000136,2.1210000000000093,13.824999999999989,0.012999999999976808,12.113,9.063999999999993,11.038000000000011,5.962999999999994,35.71100000000001,17.512999999999977,31.461000000000013,8.602999999999952,9.29000000000002,8.354000000000042,5.8110000000000355,7.293999999999983,12.31000000000006,11.745000000000005,23.055000000000064,16.66599999999994,25.69799999999998,38.809999999999945,14.094000000000051,24.136999999999944,14.68,14.840000000000003,1.2789999999999964,5.599999999999966,4.800000000000011,11.800000000000011,18.80000000000001,13.759999999999991,2.840000000000032,2.1200000000000045,1.67999999999995,2.1200000000000045,30.799999999999955,31.920000000000073,30.75999999999999,6.360000000000014,7.0,6.719999999999914,6.439999999999941,13.3599999999999,12.080000000000155,17.440000000000055,14.960000000000036,13.11999999999989,13.519999999999982,22.639999999999873,24.079999999999927,27.279999999999973,12.993999999999915,13.56100000000015,33.83999999999992,33.11999999999989,14.396,14.199999999999996,2.1200000000000045,5.560000000000002,5.319999999999993,19.559999999999945,7.759999999999991,14.159999999999968,12.599999999999966,1.0400000000000205,2.7999999999999545,2.3999999999999773,2.759999999999991,30.720000000000027,30.519999999999982,30.520000000000095,7.519999999999982,7.239999999999895,7.559999999999945,8.879999999999995,11.279999999999973,12.639999999999873,15.400000000000091,15.839999999999918,14.840000000000146,12.200000000000045,34.87999999999988,45.3599999999999,38.16000000000008,10.759999999999991,11.0,30.399999999999636,26.639999999999873,181.88,60.84000000000003,60.56,16.159999999999968,15.0,3.7999999999999545,7.0,10.759999999999991,7.519999999999982,16.91999999999996,10.200000000000045,7.039999999999964,3.0,2.2129999999999654,2.480000000000018,2.3599999999999,30.440000000000055,30.478000000000065,30.3599999999999,15.920000000000073,14.399999999999864,7.959999999999809,6.7999999999999545,12.959999999999809,12.120000000000118,14.240000000000009,15.279999999999973,14.720000000000255,13.7199999999998,27.720000000000255,24.519999999999982,27.079999999999927,11.799999999999727,12.720000000000255,144.15999999999985,155.27999999999975,180.68,60.639999999999986,10.160000000000025,1.6800000000000068,5.759999999999991,6.160000000000025,23.879999999999995,20.799999999999955,19.75999999999999,26.279999999999973,0.9599999999999227,1.759999999999991,2.1200000000000045,1.1200000000000045,30.600000000000023,31.24000000000001,31.480000000000018,13.279999999999973,13.600000000000023,4.480000000000018,10.720000000000027,7.920000000000073,7.400000000000091,7.480000000000018,7.599999999999909,14.759999999999991,14.200000000000045,11.199999999999818,19.24000000000001,15.152000000000001,14.468999999999994,14.36499999999998,14.645999999999987,23.478999999999985,15.897999999999968,92.89999999999998,88.78599999999994,17.58299999999997,27.54399999999987,181.12,60.920000000000016,11.319999999999993,13.760000000000105,3.09800000000007,10.240000000000009,7.600000000000023,24.75999999999999,23.519999999999982,20.533000000000015,21.581999999999994,2.759999999999991,3.2799999999999727,1.8000000000000682,1.0760000000000218,30.839999999999918,30.88000000000011,30.24000000000001,10.52000000000021,11.0,8.160000000000082,10.824999999999818,10.560000000000173,11.519999999999982,10.88000000000011,14.040000000000191,16.680000000000064,13.600000000000136,20.24000000000001,27.0,29.5600000000004,13.400000000000091,13.759999999999764,18.359999999999673,19.0,180.84,60.56,16.879999999999995,19.24000000000001,55.360000000000014,8.56000000000006,16.519999999999982,18.732999999999947,6.360000000000014,21.0,2.400000000000091,4.279999999999973,2.519999999999982,3.040000000000191,31.160000000000082,34.319999999999936,30.87999999999988,9.360000000000127,6.559999999999945,8.679999999999836,6.614000000000033,18.279999999999973,17.0,18.080000000000155,17.600000000000136,15.480000000000018,17.480000000000018,112.7199999999998,26.080000000000382,80.76000000000022,15.079999999999927,15.081000000000131,57.35400000000027,50.960000000000036,24.676000000000002,22.918000000000006,19.37299999999999,25.279999999999973,23.573000000000036,55.295999999999935,62.41300000000001,22.96300000000008,139.99399999999991,14.378,13.649000000000001,19.641000000000005,21.760000000000005,17.359999999999985,18.319999999999993,35.839999999999975,95.88,27.079999999999927,10.600000000000023,11.519999999999982,66.92000000000007,53.827,11.600000000000001,12.36,10.920000000000016,10.080000000000013,11.200000000000045,10.839999999999975,11.240000000000009,11.359999999999957,16.63999999999993,17.480000000000018,20.43999999999994,14.160000000000082,13.680000000000064,42.40000000000009,41.11999999999989,180.254,60.599999999999994,12.200000000000045,2.159999999999968,4.960000000000036,3.2799999999999727,4.039999999999964,2.159999999999968,4.519999999999982,6.160000000000082,1.7200000000000273,2.800000000000068,3.519999999999982,2.240000000000009,30.079999999999927,27.319999999999936,30.160000000000082,8.759999999999991,6.559999999999945,6.720000000000027,4.439999999999827,6.400000000000091,12.0,11.0,11.88000000000011,10.480000000000018,16.40000000000009,29.960000000000036,10.2800000000002,52.159999999999854,11.535,11.174000000000007,3.1539999999999964,2.9659999999999798,4.376999999999953,3.7869999999999777,3.0810000000000173,4.444000000000017,6.209000000000003,6.709000000000003,6.967999999999961,10.908000000000015,31.196000000000026,7.291000000000054,30.774999999999977,7.496000000000095,7.505999999999972,6.0919999999999845,5.278999999999996,10.336000000000013,10.992000000000075,13.695000000000164,13.742999999999938,10.22199999999998,15.079999999999927,22.250999999999976,32.36000000000013,24.631000000000085,14.467000000000098,14.967999999999847,15.350999999999885,9.417000000000144,10.991,1.3539999999999992,6.318999999999988,8.201999999999998,7.0260000000000105,12.496999999999986,19.54600000000002,2.3999999999999773,2.0,2.0,1.4309999999999832,31.161,31.586000000000013,30.70900000000006,6.208000000000084,5.183999999999969,4.099000000000046,6.101999999999975,8.31000000000006,8.177999999999997,8.904999999999973,9.349999999999909,17.319999999999936,23.070999999999913,10.989000000000033,15.401000000000067,12.203,6.915999999999997,5.492999999999995,2.9020000000000152,2.1970000000000027,3.1399999999999864,1.9699999999999989,6.508999999999986,9.328000000000031,8.400000000000034,8.765999999999963,29.240999999999985,10.200999999999965,31.69999999999999,9.723999999999933,11.692000000000007,8.219999999999914,7.5470000000000255,5.400000000000091,14.970000000000027,13.323999999999955,16.86099999999999,13.3599999999999,41.50999999999999,59.99800000000005,180.76,61.0,14.879999999999995,14.16900000000004,12.95999999999998,13.480000000000018,14.599999999999909,41.680000000000064,50.879999999999995,14.520000000000095,31.600000000000136,20.644,15.600000000000023,15.639999999999986,53.84000000000003,35.920000000000016,57.843000000000075,157.67999999999995,33.46699999999987,133.51999999999998,11.405999999999999,10.899999999999999,0.9899999999999807,8.495000000000005,5.349999999999966,33.13100000000003,31.09699999999998,1.6550000000000296,2.509999999999991,1.6999999999999886,2.5810000000000173,30.44799999999998,14.503000000000043,31.097999999999956,15.153999999999996,10.426000000000045,5.8559999999999945,5.759999999999991,8.519999999999982,9.089999999999918,9.776999999999816,9.557999999999993,8.70900000000006,9.40300000000002,15.615000000000009,16.787000000000035,16.95399999999995,11.779999999999973,11.649000000000115,13.57400000000007,16.680000000000064,180.04,60.24000000000001,15.080000000000041,15.959999999999923,5.159999999999968,7.759999999999991,6.8799999999999955,32.72000000000003,17.440000000000055,20.399999999999977,2.7199999999999136,3.0,3.0399999999999636,2.240000000000009,30.639999999999873,17.960000000000036,12.11999999999989,30.480000000000018,13.480000000000018,7.8400000000001455,6.519999999999982,6.919999999999845,12.160000000000082,12.502999999999929,16.347000000000207,16.319999999999936,13.319999999999936,12.891000000000076,37.19999999999982,48.166999999999916,29.2800000000002,11.826000000000022,11.319999999999709,33.679999999999836,31.40000000000009,11.920000000000002,1.8299999999999983,6.030000000000001,8.580000000000013,15.360000000000014,2.1299999999999955,6.4199999999999875,3.4799999999999613,5.409999999999968,3.909999999999968,3.7800000000000296,32.099999999999966,13.020000000000039,31.970000000000027,8.819999999999936,7.740000000000009,6.529999999999973,6.590000000000032,11.6099999999999,8.159999999999968,7.710000000000036,14.5,12.469999999999914,20.710000000000036,17.769999999999982,23.5,26.440000000000055,18.920000000000073,13.700000000000045,187.6,60.95999999999998,13.839999999999975,13.159999999999968,13.719999999999914,14.079999999999927,14.200000000000045,20.319999999999936,25.40000000000009,11.360000000000127,12.440000000000055,45.47999999999979,44.319999999999936,15.799999999999955,13.439999999999827,13.679999999999836,20.120000000000346,2.119999999999891,4.480000000000018,4.519999999999982,14.159999999999854,3.6399999999998727,2.8799999999996544,2.800000000000182,2.519999999999982,2.0010000000002037,2.5600000000004,2.880000000000109,30.83999999999969,30.399999999999636,30.440000000000055,15.080000000000382,15.639999999999873,15.0,7.7599999999997635,12.855,4.188000000000002,5.834999999999994,16.837999999999994,0.39400000000000546,36.61099999999999,4.419000000000011,6.043000000000006,7.026999999999987,6.449999999999989,7.052000000000021,4.475999999999999,30.31400000000002,4.712999999999965,32.726999999999975,7.370999999999981,9.02800000000002,9.889999999999986,7.196000000000026,16.255999999999972,12.670000000000073,14.81899999999996,13.981999999999971,13.043999999999983,192.8900000000001,156.50199999999995,42.871000000000095,35.49199999999996,30.73199999999997,70.68099999999981,41.22399999999993,180.88,60.75999999999999,13.279999999999973,2.0399999999999636,4.479999999999961,6.759999999999991,23.639999999999986,23.0,23.32000000000005,12.966000000000008,2.3199999999999363,1.5599999999999454,2.759999999999991,2.3600000000000136,30.56000000000006,30.519999999999982,30.360000000000014,7.7199999999998,7.119000000000142,6.440000000000055,6.5060000000000855,12.360000000000127,11.467000000000098,14.440000000000055,13.3599999999999,20.279999999999973,22.21199999999999,11.720000000000027,16.32899999999995,182.12,60.920000000000016,18.879999999999995,3.8799999999999955,8.719999999999914,8.720000000000027,16.159999999999968,10.159999999999968,4.597999999999956,7.599999999999909,1.759999999999991,2.6000000000000227,2.32000000000005,2.3999999999999773,30.600000000000023,40.75999999999999,31.680000000000064,14.639999999999873,16.40000000000009,7.440000000000055,17.519999999999982,14.200000000000045,14.0,16.480000000000018,16.480000000000018,30.080000000000155,27.039999999999964,11.6400000000001,143.4799999999998,15.390999999999998,13.739999999999995,13.519000000000005,12.920000000000016,11.867999999999995,28.729000000000042,48.25899999999996,14.374000000000024,53.7589999999999,13.321000000000002,13.400999999999996,2.5599999999999454,3.0400000000000205,4.920000000000016,7.0400000000000205,6.599999999999966,8.120000000000005,16.440999999999974,1.5600000000000023,1.8799999999999955,1.4399999999999409,1.3999999999999773,30.799999999999955,9.840000000000032,31.480000000000018,7.67999999999995,8.840000000000032,6.399999999999977,5.279999999999973,10.762000000000171,10.922000000000025,19.244000000000142,15.103000000000065,11.682000000000016,13.36200000000008,21.652000000000044,26.80899999999997,25.840000000000146,12.160000000000082,12.159999999999854,48.608999999999924,51.16700000000037,17.855,21.200000000000003,24.319999999999993,23.319999999999993,26.19999999999999,30.439999999999998,21.600000000000023,25.839999999999918,161.51999999999998,287.6,152.44000000000005,30.839999999999918,30.840000000000146,65.0,47.80000000000018,180.36,60.400000000000006,15.800000000000011,15.440000000000055,15.514999999999986,16.480000000000018,17.279999999999973,32.39999999999998,34.15999999999997,17.534999999999854,32.50999999999999,10.896,13.174,3.5649999999999977,5.209000000000003,21.982,21.151999999999987,5.193000000000012,9.283999999999992,6.133999999999958,14.507999999999981,30.718999999999994,5.5400000000000205,32.924000000000035,7.114000000000033,7.067000000000007,5.432999999999993,7.2690000000000055,11.04600000000005,11.06899999999996,11.518000000000029,10.972000000000094,11.980000000000018,11.967999999999961,24.017000000000053,67.90999999999985,13.48,14.079999999999998,15.400000000000006,12.919999999999959,18.95999999999998,16.439999999999998,13.199999999999932,12.879999999999995,47.60000000000002,58.48000000000002,49.80000000000007,13.039999999999964,12.320000000000164,27.880999999999858,33.6400000000001,14.16,14.120000000000005,14.162000000000035,21.12099999999998,14.442000000000007,23.201999999999998,14.360000000000014,12.480000000000018,48.360000000000014,88.87999999999988,67.04000000000019,30.20900000000006,24.0,82.92800000000011,41.75999999999976,181.2,61.03999999999999,9.240000000000009,9.439999999999998,1.6800000000000637,5.0,4.160000000000082,18.75999999999999,25.559999999999945,27.680000000000064,14.698999999999955,1.6800000000000637,1.6000000000000227,1.4800000000000182,1.7200000000000273,30.840000000000032,32.15999999999997,31.120000000000005,12.839999999999918,12.160000000000082,5.399999999999864,10.799999999999955,7.7999999999999545,7.480000000000018,7.919999999999845,7.880000000000109,7.759999999999991,7.217999999999847,16.799999999999955,15.279999999999973,13.200000000000045,11.420000000000073,10.776000000000067,19.320000000000164,18.24000000000001,16.8,16.120000000000005,16.19999999999999,19.91999999999996,20.120000000000005,72.95999999999992,126.20000000000005,24.120000000000005,58.03099999999995,13.129999999999999,11.809999999999988,11.454000000000008,11.697000000000003,10.156000000000006,20.355999999999995,21.06099999999998,13.338999999999942,69.2460000000001,11.884,12.256000000000014,10.433999999999997,13.673999999999978,13.850000000000023,22.335999999999956,28.027999999999963,20.956999999999994,32.34500000000003,12.472999999999999,4.236000000000004,5.866,3.528000000000006,2.2419999999999902,4.61699999999999,2.3689999999999998,4.643000000000001,7.346000000000004,15.744,7.536000000000001,4.523000000000025,30.427999999999997,20.82499999999999,33.343999999999994,7.398000000000025,9.884999999999991,5.9799999999999045,5.392000000000053,11.274000000000001,10.891999999999939,11.421999999999912,10.117999999999938,24.18100000000004,30.55100000000016,13.760000000000002,2.1599999999999966,4.560000000000002,6.560000000000002,24.04000000000002,22.28000000000003,20.680000000000007,4.600000000000023,1.7679999999999723,1.8000000000000114,1.6129999999999995,1.920000000000016,30.519999999999982,30.639999999999986,30.6400000000001,16.199999999999932,18.720000000000027,6.919999999999959,14.55499999999995,11.800000000000068,10.759999999999991,11.400000000000091,11.080000000000155,92.84000000000015,99.0,32.799999999999955,57.61999999999989,16.722,14.378,15.442000000000007,14.320000000000022,14.722999999999956,76.95999999999998,136.83999999999992,16.383000000000038,76.20000000000005,12.867,14.722000000000008,13.509999999999991,18.178999999999974,18.625999999999976,69.88900000000001,98.57900000000006,27.906000000000176,96.11000000000013,56.222999999999956,23.787,6.347000000000008,6.3359999999999985,4.819000000000017,9.128000000000014,6.888000000000005,8.263999999999982,8.271999999999991,7.201999999999998,31.091999999999985,33.28899999999999,10.355999999999995,10.654999999999973,10.97199999999998,9.83800000000008,27.692999999999984,27.300000000000068,44.13199999999995,72.15200000000004,100.43299999999999,32.55600000000004,38.55699999999979,16.351,17.551999999999992,11.438000000000017,10.698999999999955,12.05699999999996,11.48399999999998,12.543999999999983,10.938999999999965,30.831000000000017,38.63199999999995,36.89799999999991,16.155000000000086,15.166000000000054,67.05899999999997,51.715000000000146,11.454999999999998,5.954999999999998,8.042000000000002,11.175000000000011,15.306000000000012,10.391999999999996,12.48999999999998,5.883999999999958,7.403999999999996,6.387999999999977,9.610000000000014,8.197999999999979,31.894999999999982,0.007999999999981355,4.103999999999985,30.837000000000046,7.858000000000061,8.73599999999999,7.791999999999916,6.348999999999933,10.100000000000023,10.117999999999938,11.196999999999889,10.128000000000043,21.764999999999986,30.644000000000005,17.77299999999991,37.827],\"xaxis\":\"x\",\"yaxis\":\"y\",\"type\":\"histogram\"}],                        {\"template\":{\"data\":{\"histogram2dcontour\":[{\"type\":\"histogram2dcontour\",\"colorbar\":{\"outlinewidth\":0,\"ticks\":\"\"},\"colorscale\":[[0.0,\"#0d0887\"],[0.1111111111111111,\"#46039f\"],[0.2222222222222222,\"#7201a8\"],[0.3333333333333333,\"#9c179e\"],[0.4444444444444444,\"#bd3786\"],[0.5555555555555556,\"#d8576b\"],[0.6666666666666666,\"#ed7953\"],[0.7777777777777778,\"#fb9f3a\"],[0.8888888888888888,\"#fdca26\"],[1.0,\"#f0f921\"]]}],\"choropleth\":[{\"type\":\"choropleth\",\"colorbar\":{\"outlinewidth\":0,\"ticks\":\"\"}}],\"histogram2d\":[{\"type\":\"histogram2d\",\"colorbar\":{\"outlinewidth\":0,\"ticks\":\"\"},\"colorscale\":[[0.0,\"#0d0887\"],[0.1111111111111111,\"#46039f\"],[0.2222222222222222,\"#7201a8\"],[0.3333333333333333,\"#9c179e\"],[0.4444444444444444,\"#bd3786\"],[0.5555555555555556,\"#d8576b\"],[0.6666666666666666,\"#ed7953\"],[0.7777777777777778,\"#fb9f3a\"],[0.8888888888888888,\"#fdca26\"],[1.0,\"#f0f921\"]]}],\"heatmap\":[{\"type\":\"heatmap\",\"colorbar\":{\"outlinewidth\":0,\"ticks\":\"\"},\"colorscale\":[[0.0,\"#0d0887\"],[0.1111111111111111,\"#46039f\"],[0.2222222222222222,\"#7201a8\"],[0.3333333333333333,\"#9c179e\"],[0.4444444444444444,\"#bd3786\"],[0.5555555555555556,\"#d8576b\"],[0.6666666666666666,\"#ed7953\"],[0.7777777777777778,\"#fb9f3a\"],[0.8888888888888888,\"#fdca26\"],[1.0,\"#f0f921\"]]}],\"heatmapgl\":[{\"type\":\"heatmapgl\",\"colorbar\":{\"outlinewidth\":0,\"ticks\":\"\"},\"colorscale\":[[0.0,\"#0d0887\"],[0.1111111111111111,\"#46039f\"],[0.2222222222222222,\"#7201a8\"],[0.3333333333333333,\"#9c179e\"],[0.4444444444444444,\"#bd3786\"],[0.5555555555555556,\"#d8576b\"],[0.6666666666666666,\"#ed7953\"],[0.7777777777777778,\"#fb9f3a\"],[0.8888888888888888,\"#fdca26\"],[1.0,\"#f0f921\"]]}],\"contourcarpet\":[{\"type\":\"contourcarpet\",\"colorbar\":{\"outlinewidth\":0,\"ticks\":\"\"}}],\"contour\":[{\"type\":\"contour\",\"colorbar\":{\"outlinewidth\":0,\"ticks\":\"\"},\"colorscale\":[[0.0,\"#0d0887\"],[0.1111111111111111,\"#46039f\"],[0.2222222222222222,\"#7201a8\"],[0.3333333333333333,\"#9c179e\"],[0.4444444444444444,\"#bd3786\"],[0.5555555555555556,\"#d8576b\"],[0.6666666666666666,\"#ed7953\"],[0.7777777777777778,\"#fb9f3a\"],[0.8888888888888888,\"#fdca26\"],[1.0,\"#f0f921\"]]}],\"surface\":[{\"type\":\"surface\",\"colorbar\":{\"outlinewidth\":0,\"ticks\":\"\"},\"colorscale\":[[0.0,\"#0d0887\"],[0.1111111111111111,\"#46039f\"],[0.2222222222222222,\"#7201a8\"],[0.3333333333333333,\"#9c179e\"],[0.4444444444444444,\"#bd3786\"],[0.5555555555555556,\"#d8576b\"],[0.6666666666666666,\"#ed7953\"],[0.7777777777777778,\"#fb9f3a\"],[0.8888888888888888,\"#fdca26\"],[1.0,\"#f0f921\"]]}],\"mesh3d\":[{\"type\":\"mesh3d\",\"colorbar\":{\"outlinewidth\":0,\"ticks\":\"\"}}],\"scatter\":[{\"fillpattern\":{\"fillmode\":\"overlay\",\"size\":10,\"solidity\":0.2},\"type\":\"scatter\"}],\"parcoords\":[{\"type\":\"parcoords\",\"line\":{\"colorbar\":{\"outlinewidth\":0,\"ticks\":\"\"}}}],\"scatterpolargl\":[{\"type\":\"scatterpolargl\",\"marker\":{\"colorbar\":{\"outlinewidth\":0,\"ticks\":\"\"}}}],\"bar\":[{\"error_x\":{\"color\":\"#2a3f5f\"},\"error_y\":{\"color\":\"#2a3f5f\"},\"marker\":{\"line\":{\"color\":\"#E5ECF6\",\"width\":0.5},\"pattern\":{\"fillmode\":\"overlay\",\"size\":10,\"solidity\":0.2}},\"type\":\"bar\"}],\"scattergeo\":[{\"type\":\"scattergeo\",\"marker\":{\"colorbar\":{\"outlinewidth\":0,\"ticks\":\"\"}}}],\"scatterpolar\":[{\"type\":\"scatterpolar\",\"marker\":{\"colorbar\":{\"outlinewidth\":0,\"ticks\":\"\"}}}],\"histogram\":[{\"marker\":{\"pattern\":{\"fillmode\":\"overlay\",\"size\":10,\"solidity\":0.2}},\"type\":\"histogram\"}],\"scattergl\":[{\"type\":\"scattergl\",\"marker\":{\"colorbar\":{\"outlinewidth\":0,\"ticks\":\"\"}}}],\"scatter3d\":[{\"type\":\"scatter3d\",\"line\":{\"colorbar\":{\"outlinewidth\":0,\"ticks\":\"\"}},\"marker\":{\"colorbar\":{\"outlinewidth\":0,\"ticks\":\"\"}}}],\"scattermapbox\":[{\"type\":\"scattermapbox\",\"marker\":{\"colorbar\":{\"outlinewidth\":0,\"ticks\":\"\"}}}],\"scatterternary\":[{\"type\":\"scatterternary\",\"marker\":{\"colorbar\":{\"outlinewidth\":0,\"ticks\":\"\"}}}],\"scattercarpet\":[{\"type\":\"scattercarpet\",\"marker\":{\"colorbar\":{\"outlinewidth\":0,\"ticks\":\"\"}}}],\"carpet\":[{\"aaxis\":{\"endlinecolor\":\"#2a3f5f\",\"gridcolor\":\"white\",\"linecolor\":\"white\",\"minorgridcolor\":\"white\",\"startlinecolor\":\"#2a3f5f\"},\"baxis\":{\"endlinecolor\":\"#2a3f5f\",\"gridcolor\":\"white\",\"linecolor\":\"white\",\"minorgridcolor\":\"white\",\"startlinecolor\":\"#2a3f5f\"},\"type\":\"carpet\"}],\"table\":[{\"cells\":{\"fill\":{\"color\":\"#EBF0F8\"},\"line\":{\"color\":\"white\"}},\"header\":{\"fill\":{\"color\":\"#C8D4E3\"},\"line\":{\"color\":\"white\"}},\"type\":\"table\"}],\"barpolar\":[{\"marker\":{\"line\":{\"color\":\"#E5ECF6\",\"width\":0.5},\"pattern\":{\"fillmode\":\"overlay\",\"size\":10,\"solidity\":0.2}},\"type\":\"barpolar\"}],\"pie\":[{\"automargin\":true,\"type\":\"pie\"}]},\"layout\":{\"autotypenumbers\":\"strict\",\"colorway\":[\"#636efa\",\"#EF553B\",\"#00cc96\",\"#ab63fa\",\"#FFA15A\",\"#19d3f3\",\"#FF6692\",\"#B6E880\",\"#FF97FF\",\"#FECB52\"],\"font\":{\"color\":\"#2a3f5f\"},\"hovermode\":\"closest\",\"hoverlabel\":{\"align\":\"left\"},\"paper_bgcolor\":\"white\",\"plot_bgcolor\":\"#E5ECF6\",\"polar\":{\"bgcolor\":\"#E5ECF6\",\"angularaxis\":{\"gridcolor\":\"white\",\"linecolor\":\"white\",\"ticks\":\"\"},\"radialaxis\":{\"gridcolor\":\"white\",\"linecolor\":\"white\",\"ticks\":\"\"}},\"ternary\":{\"bgcolor\":\"#E5ECF6\",\"aaxis\":{\"gridcolor\":\"white\",\"linecolor\":\"white\",\"ticks\":\"\"},\"baxis\":{\"gridcolor\":\"white\",\"linecolor\":\"white\",\"ticks\":\"\"},\"caxis\":{\"gridcolor\":\"white\",\"linecolor\":\"white\",\"ticks\":\"\"}},\"coloraxis\":{\"colorbar\":{\"outlinewidth\":0,\"ticks\":\"\"}},\"colorscale\":{\"sequential\":[[0.0,\"#0d0887\"],[0.1111111111111111,\"#46039f\"],[0.2222222222222222,\"#7201a8\"],[0.3333333333333333,\"#9c179e\"],[0.4444444444444444,\"#bd3786\"],[0.5555555555555556,\"#d8576b\"],[0.6666666666666666,\"#ed7953\"],[0.7777777777777778,\"#fb9f3a\"],[0.8888888888888888,\"#fdca26\"],[1.0,\"#f0f921\"]],\"sequentialminus\":[[0.0,\"#0d0887\"],[0.1111111111111111,\"#46039f\"],[0.2222222222222222,\"#7201a8\"],[0.3333333333333333,\"#9c179e\"],[0.4444444444444444,\"#bd3786\"],[0.5555555555555556,\"#d8576b\"],[0.6666666666666666,\"#ed7953\"],[0.7777777777777778,\"#fb9f3a\"],[0.8888888888888888,\"#fdca26\"],[1.0,\"#f0f921\"]],\"diverging\":[[0,\"#8e0152\"],[0.1,\"#c51b7d\"],[0.2,\"#de77ae\"],[0.3,\"#f1b6da\"],[0.4,\"#fde0ef\"],[0.5,\"#f7f7f7\"],[0.6,\"#e6f5d0\"],[0.7,\"#b8e186\"],[0.8,\"#7fbc41\"],[0.9,\"#4d9221\"],[1,\"#276419\"]]},\"xaxis\":{\"gridcolor\":\"white\",\"linecolor\":\"white\",\"ticks\":\"\",\"title\":{\"standoff\":15},\"zerolinecolor\":\"white\",\"automargin\":true,\"zerolinewidth\":2},\"yaxis\":{\"gridcolor\":\"white\",\"linecolor\":\"white\",\"ticks\":\"\",\"title\":{\"standoff\":15},\"zerolinecolor\":\"white\",\"automargin\":true,\"zerolinewidth\":2},\"scene\":{\"xaxis\":{\"backgroundcolor\":\"#E5ECF6\",\"gridcolor\":\"white\",\"linecolor\":\"white\",\"showbackground\":true,\"ticks\":\"\",\"zerolinecolor\":\"white\",\"gridwidth\":2},\"yaxis\":{\"backgroundcolor\":\"#E5ECF6\",\"gridcolor\":\"white\",\"linecolor\":\"white\",\"showbackground\":true,\"ticks\":\"\",\"zerolinecolor\":\"white\",\"gridwidth\":2},\"zaxis\":{\"backgroundcolor\":\"#E5ECF6\",\"gridcolor\":\"white\",\"linecolor\":\"white\",\"showbackground\":true,\"ticks\":\"\",\"zerolinecolor\":\"white\",\"gridwidth\":2}},\"shapedefaults\":{\"line\":{\"color\":\"#2a3f5f\"}},\"annotationdefaults\":{\"arrowcolor\":\"#2a3f5f\",\"arrowhead\":0,\"arrowwidth\":1},\"geo\":{\"bgcolor\":\"white\",\"landcolor\":\"#E5ECF6\",\"subunitcolor\":\"white\",\"showland\":true,\"showlakes\":true,\"lakecolor\":\"white\"},\"title\":{\"x\":0.05},\"mapbox\":{\"style\":\"light\"}}},\"xaxis\":{\"anchor\":\"y\",\"domain\":[0.0,1.0],\"title\":{\"text\":\"Task duration\"}},\"yaxis\":{\"anchor\":\"x\",\"domain\":[0.0,1.0],\"title\":{\"text\":\"count\"}},\"legend\":{\"tracegroupgap\":0},\"margin\":{\"t\":60},\"barmode\":\"relative\",\"title\":{\"text\":\"Distribution of task durations\",\"y\":0.95,\"x\":0.5,\"xanchor\":\"center\",\"yanchor\":\"top\"}},                        {\"responsive\": true}                    ).then(function(){\n",
       "                            \n",
       "var gd = document.getElementById('41f014bf-2444-45a6-8e6c-1c1ce6872aaa');\n",
       "var x = new MutationObserver(function (mutations, observer) {{\n",
       "        var display = window.getComputedStyle(gd).display;\n",
       "        if (!display || display === 'none') {{\n",
       "            console.log([gd, 'removed!']);\n",
       "            Plotly.purge(gd);\n",
       "            observer.disconnect();\n",
       "        }}\n",
       "}});\n",
       "\n",
       "// Listen for the removal of the full notebook cells\n",
       "var notebookContainer = gd.closest('#notebook-container');\n",
       "if (notebookContainer) {{\n",
       "    x.observe(notebookContainer, {childList: true});\n",
       "}}\n",
       "\n",
       "// Listen for the clearing of the current output cell\n",
       "var outputEl = gd.closest('.output');\n",
       "if (outputEl) {{\n",
       "    x.observe(outputEl, {childList: true});\n",
       "}}\n",
       "\n",
       "                        })                };                });            </script>        </div>"
      ]
     },
     "metadata": {},
     "output_type": "display_data"
    }
   ],
   "source": [
    "tasks_df[\"Duration\"] = tasks_df.End - tasks_df.Begin\n",
    "fig = px.histogram(x=tasks_df[\"Duration\"], nbins=30, color_discrete_sequence=['lightslategrey'])\n",
    "fig.update_layout(\n",
    "    xaxis_title=\"Task duration\",\n",
    "    title={\n",
    "        'text': \"Distribution of task durations\",\n",
    "        'y':0.95,\n",
    "        'x':0.5,\n",
    "        'xanchor': 'center',\n",
    "        'yanchor': 'top'\n",
    "    }\n",
    ")\n",
    "fig.show()"
   ]
  },
  {
   "cell_type": "markdown",
   "metadata": {},
   "source": [
    "<p style=\"font-family: consolas; font-size: 16px;\">❔ How the bar chart looks like for categorical field <code>Task</code>.</p>"
   ]
  },
  {
   "cell_type": "code",
   "execution_count": 81,
   "metadata": {
    "execution": {
     "iopub.execute_input": "2023-07-14T02:26:33.782996Z",
     "iopub.status.busy": "2023-07-14T02:26:33.782475Z",
     "iopub.status.idle": "2023-07-14T02:26:33.865987Z",
     "shell.execute_reply": "2023-07-14T02:26:33.864954Z",
     "shell.execute_reply.started": "2023-07-14T02:26:33.782939Z"
    }
   },
   "outputs": [
    {
     "data": {
      "text/html": [
       "<div>                            <div id=\"5467f275-9eec-4cb1-9043-9092e3b90674\" class=\"plotly-graph-div\" style=\"height:525px; width:100%;\"></div>            <script type=\"text/javascript\">                require([\"plotly\"], function(Plotly) {                    window.PLOTLYENV=window.PLOTLYENV || {};                                    if (document.getElementById(\"5467f275-9eec-4cb1-9043-9092e3b90674\")) {                    Plotly.newPlot(                        \"5467f275-9eec-4cb1-9043-9092e3b90674\",                        [{\"alignmentgroup\":\"True\",\"hovertemplate\":\"x=%{x}<br>y=%{y}<extra></extra>\",\"legendgroup\":\"\",\"marker\":{\"color\":\"lightslategrey\",\"pattern\":{\"shape\":\"\"}},\"name\":\"\",\"offsetgroup\":\"\",\"orientation\":\"v\",\"showlegend\":false,\"textposition\":\"auto\",\"x\":[\"TUG-ST\",\"TUG-DT\",\"4MW\",\"Turning-DT\",\"Turning-ST\",\"Hotspot1\",\"Hotspot2\",\"MB3-R\",\"MB3-L\",\"TUG-C\",\"MB12\",\"MB4\",\"MB13\",\"MB1\",\"MB11\",\"MB5\",\"MB2b\",\"MB10\",\"MB9\",\"MB8\",\"4MW-C\",\"MB7\",\"MB6-L\",\"MB6-R\",\"Turning-C\",\"Hotspot1-C\",\"Hotspot2-C\",\"Rest1\",\"Rest2\",\"MB2a\",\"MB6\"],\"xaxis\":\"x\",\"y\":[278,267,137,137,137,130,130,124,120,119,70,69,68,67,67,66,66,66,65,65,65,65,62,61,61,59,59,45,44,42,6],\"yaxis\":\"y\",\"type\":\"bar\"}],                        {\"template\":{\"data\":{\"histogram2dcontour\":[{\"type\":\"histogram2dcontour\",\"colorbar\":{\"outlinewidth\":0,\"ticks\":\"\"},\"colorscale\":[[0.0,\"#0d0887\"],[0.1111111111111111,\"#46039f\"],[0.2222222222222222,\"#7201a8\"],[0.3333333333333333,\"#9c179e\"],[0.4444444444444444,\"#bd3786\"],[0.5555555555555556,\"#d8576b\"],[0.6666666666666666,\"#ed7953\"],[0.7777777777777778,\"#fb9f3a\"],[0.8888888888888888,\"#fdca26\"],[1.0,\"#f0f921\"]]}],\"choropleth\":[{\"type\":\"choropleth\",\"colorbar\":{\"outlinewidth\":0,\"ticks\":\"\"}}],\"histogram2d\":[{\"type\":\"histogram2d\",\"colorbar\":{\"outlinewidth\":0,\"ticks\":\"\"},\"colorscale\":[[0.0,\"#0d0887\"],[0.1111111111111111,\"#46039f\"],[0.2222222222222222,\"#7201a8\"],[0.3333333333333333,\"#9c179e\"],[0.4444444444444444,\"#bd3786\"],[0.5555555555555556,\"#d8576b\"],[0.6666666666666666,\"#ed7953\"],[0.7777777777777778,\"#fb9f3a\"],[0.8888888888888888,\"#fdca26\"],[1.0,\"#f0f921\"]]}],\"heatmap\":[{\"type\":\"heatmap\",\"colorbar\":{\"outlinewidth\":0,\"ticks\":\"\"},\"colorscale\":[[0.0,\"#0d0887\"],[0.1111111111111111,\"#46039f\"],[0.2222222222222222,\"#7201a8\"],[0.3333333333333333,\"#9c179e\"],[0.4444444444444444,\"#bd3786\"],[0.5555555555555556,\"#d8576b\"],[0.6666666666666666,\"#ed7953\"],[0.7777777777777778,\"#fb9f3a\"],[0.8888888888888888,\"#fdca26\"],[1.0,\"#f0f921\"]]}],\"heatmapgl\":[{\"type\":\"heatmapgl\",\"colorbar\":{\"outlinewidth\":0,\"ticks\":\"\"},\"colorscale\":[[0.0,\"#0d0887\"],[0.1111111111111111,\"#46039f\"],[0.2222222222222222,\"#7201a8\"],[0.3333333333333333,\"#9c179e\"],[0.4444444444444444,\"#bd3786\"],[0.5555555555555556,\"#d8576b\"],[0.6666666666666666,\"#ed7953\"],[0.7777777777777778,\"#fb9f3a\"],[0.8888888888888888,\"#fdca26\"],[1.0,\"#f0f921\"]]}],\"contourcarpet\":[{\"type\":\"contourcarpet\",\"colorbar\":{\"outlinewidth\":0,\"ticks\":\"\"}}],\"contour\":[{\"type\":\"contour\",\"colorbar\":{\"outlinewidth\":0,\"ticks\":\"\"},\"colorscale\":[[0.0,\"#0d0887\"],[0.1111111111111111,\"#46039f\"],[0.2222222222222222,\"#7201a8\"],[0.3333333333333333,\"#9c179e\"],[0.4444444444444444,\"#bd3786\"],[0.5555555555555556,\"#d8576b\"],[0.6666666666666666,\"#ed7953\"],[0.7777777777777778,\"#fb9f3a\"],[0.8888888888888888,\"#fdca26\"],[1.0,\"#f0f921\"]]}],\"surface\":[{\"type\":\"surface\",\"colorbar\":{\"outlinewidth\":0,\"ticks\":\"\"},\"colorscale\":[[0.0,\"#0d0887\"],[0.1111111111111111,\"#46039f\"],[0.2222222222222222,\"#7201a8\"],[0.3333333333333333,\"#9c179e\"],[0.4444444444444444,\"#bd3786\"],[0.5555555555555556,\"#d8576b\"],[0.6666666666666666,\"#ed7953\"],[0.7777777777777778,\"#fb9f3a\"],[0.8888888888888888,\"#fdca26\"],[1.0,\"#f0f921\"]]}],\"mesh3d\":[{\"type\":\"mesh3d\",\"colorbar\":{\"outlinewidth\":0,\"ticks\":\"\"}}],\"scatter\":[{\"fillpattern\":{\"fillmode\":\"overlay\",\"size\":10,\"solidity\":0.2},\"type\":\"scatter\"}],\"parcoords\":[{\"type\":\"parcoords\",\"line\":{\"colorbar\":{\"outlinewidth\":0,\"ticks\":\"\"}}}],\"scatterpolargl\":[{\"type\":\"scatterpolargl\",\"marker\":{\"colorbar\":{\"outlinewidth\":0,\"ticks\":\"\"}}}],\"bar\":[{\"error_x\":{\"color\":\"#2a3f5f\"},\"error_y\":{\"color\":\"#2a3f5f\"},\"marker\":{\"line\":{\"color\":\"#E5ECF6\",\"width\":0.5},\"pattern\":{\"fillmode\":\"overlay\",\"size\":10,\"solidity\":0.2}},\"type\":\"bar\"}],\"scattergeo\":[{\"type\":\"scattergeo\",\"marker\":{\"colorbar\":{\"outlinewidth\":0,\"ticks\":\"\"}}}],\"scatterpolar\":[{\"type\":\"scatterpolar\",\"marker\":{\"colorbar\":{\"outlinewidth\":0,\"ticks\":\"\"}}}],\"histogram\":[{\"marker\":{\"pattern\":{\"fillmode\":\"overlay\",\"size\":10,\"solidity\":0.2}},\"type\":\"histogram\"}],\"scattergl\":[{\"type\":\"scattergl\",\"marker\":{\"colorbar\":{\"outlinewidth\":0,\"ticks\":\"\"}}}],\"scatter3d\":[{\"type\":\"scatter3d\",\"line\":{\"colorbar\":{\"outlinewidth\":0,\"ticks\":\"\"}},\"marker\":{\"colorbar\":{\"outlinewidth\":0,\"ticks\":\"\"}}}],\"scattermapbox\":[{\"type\":\"scattermapbox\",\"marker\":{\"colorbar\":{\"outlinewidth\":0,\"ticks\":\"\"}}}],\"scatterternary\":[{\"type\":\"scatterternary\",\"marker\":{\"colorbar\":{\"outlinewidth\":0,\"ticks\":\"\"}}}],\"scattercarpet\":[{\"type\":\"scattercarpet\",\"marker\":{\"colorbar\":{\"outlinewidth\":0,\"ticks\":\"\"}}}],\"carpet\":[{\"aaxis\":{\"endlinecolor\":\"#2a3f5f\",\"gridcolor\":\"white\",\"linecolor\":\"white\",\"minorgridcolor\":\"white\",\"startlinecolor\":\"#2a3f5f\"},\"baxis\":{\"endlinecolor\":\"#2a3f5f\",\"gridcolor\":\"white\",\"linecolor\":\"white\",\"minorgridcolor\":\"white\",\"startlinecolor\":\"#2a3f5f\"},\"type\":\"carpet\"}],\"table\":[{\"cells\":{\"fill\":{\"color\":\"#EBF0F8\"},\"line\":{\"color\":\"white\"}},\"header\":{\"fill\":{\"color\":\"#C8D4E3\"},\"line\":{\"color\":\"white\"}},\"type\":\"table\"}],\"barpolar\":[{\"marker\":{\"line\":{\"color\":\"#E5ECF6\",\"width\":0.5},\"pattern\":{\"fillmode\":\"overlay\",\"size\":10,\"solidity\":0.2}},\"type\":\"barpolar\"}],\"pie\":[{\"automargin\":true,\"type\":\"pie\"}]},\"layout\":{\"autotypenumbers\":\"strict\",\"colorway\":[\"#636efa\",\"#EF553B\",\"#00cc96\",\"#ab63fa\",\"#FFA15A\",\"#19d3f3\",\"#FF6692\",\"#B6E880\",\"#FF97FF\",\"#FECB52\"],\"font\":{\"color\":\"#2a3f5f\"},\"hovermode\":\"closest\",\"hoverlabel\":{\"align\":\"left\"},\"paper_bgcolor\":\"white\",\"plot_bgcolor\":\"#E5ECF6\",\"polar\":{\"bgcolor\":\"#E5ECF6\",\"angularaxis\":{\"gridcolor\":\"white\",\"linecolor\":\"white\",\"ticks\":\"\"},\"radialaxis\":{\"gridcolor\":\"white\",\"linecolor\":\"white\",\"ticks\":\"\"}},\"ternary\":{\"bgcolor\":\"#E5ECF6\",\"aaxis\":{\"gridcolor\":\"white\",\"linecolor\":\"white\",\"ticks\":\"\"},\"baxis\":{\"gridcolor\":\"white\",\"linecolor\":\"white\",\"ticks\":\"\"},\"caxis\":{\"gridcolor\":\"white\",\"linecolor\":\"white\",\"ticks\":\"\"}},\"coloraxis\":{\"colorbar\":{\"outlinewidth\":0,\"ticks\":\"\"}},\"colorscale\":{\"sequential\":[[0.0,\"#0d0887\"],[0.1111111111111111,\"#46039f\"],[0.2222222222222222,\"#7201a8\"],[0.3333333333333333,\"#9c179e\"],[0.4444444444444444,\"#bd3786\"],[0.5555555555555556,\"#d8576b\"],[0.6666666666666666,\"#ed7953\"],[0.7777777777777778,\"#fb9f3a\"],[0.8888888888888888,\"#fdca26\"],[1.0,\"#f0f921\"]],\"sequentialminus\":[[0.0,\"#0d0887\"],[0.1111111111111111,\"#46039f\"],[0.2222222222222222,\"#7201a8\"],[0.3333333333333333,\"#9c179e\"],[0.4444444444444444,\"#bd3786\"],[0.5555555555555556,\"#d8576b\"],[0.6666666666666666,\"#ed7953\"],[0.7777777777777778,\"#fb9f3a\"],[0.8888888888888888,\"#fdca26\"],[1.0,\"#f0f921\"]],\"diverging\":[[0,\"#8e0152\"],[0.1,\"#c51b7d\"],[0.2,\"#de77ae\"],[0.3,\"#f1b6da\"],[0.4,\"#fde0ef\"],[0.5,\"#f7f7f7\"],[0.6,\"#e6f5d0\"],[0.7,\"#b8e186\"],[0.8,\"#7fbc41\"],[0.9,\"#4d9221\"],[1,\"#276419\"]]},\"xaxis\":{\"gridcolor\":\"white\",\"linecolor\":\"white\",\"ticks\":\"\",\"title\":{\"standoff\":15},\"zerolinecolor\":\"white\",\"automargin\":true,\"zerolinewidth\":2},\"yaxis\":{\"gridcolor\":\"white\",\"linecolor\":\"white\",\"ticks\":\"\",\"title\":{\"standoff\":15},\"zerolinecolor\":\"white\",\"automargin\":true,\"zerolinewidth\":2},\"scene\":{\"xaxis\":{\"backgroundcolor\":\"#E5ECF6\",\"gridcolor\":\"white\",\"linecolor\":\"white\",\"showbackground\":true,\"ticks\":\"\",\"zerolinecolor\":\"white\",\"gridwidth\":2},\"yaxis\":{\"backgroundcolor\":\"#E5ECF6\",\"gridcolor\":\"white\",\"linecolor\":\"white\",\"showbackground\":true,\"ticks\":\"\",\"zerolinecolor\":\"white\",\"gridwidth\":2},\"zaxis\":{\"backgroundcolor\":\"#E5ECF6\",\"gridcolor\":\"white\",\"linecolor\":\"white\",\"showbackground\":true,\"ticks\":\"\",\"zerolinecolor\":\"white\",\"gridwidth\":2}},\"shapedefaults\":{\"line\":{\"color\":\"#2a3f5f\"}},\"annotationdefaults\":{\"arrowcolor\":\"#2a3f5f\",\"arrowhead\":0,\"arrowwidth\":1},\"geo\":{\"bgcolor\":\"white\",\"landcolor\":\"#E5ECF6\",\"subunitcolor\":\"white\",\"showland\":true,\"showlakes\":true,\"lakecolor\":\"white\"},\"title\":{\"x\":0.05},\"mapbox\":{\"style\":\"light\"}}},\"xaxis\":{\"anchor\":\"y\",\"domain\":[0.0,1.0],\"title\":{\"text\":\"Task\"}},\"yaxis\":{\"anchor\":\"x\",\"domain\":[0.0,1.0],\"title\":{\"text\":\"Count\"}},\"legend\":{\"tracegroupgap\":0},\"margin\":{\"t\":60},\"barmode\":\"relative\"},                        {\"responsive\": true}                    ).then(function(){\n",
       "                            \n",
       "var gd = document.getElementById('5467f275-9eec-4cb1-9043-9092e3b90674');\n",
       "var x = new MutationObserver(function (mutations, observer) {{\n",
       "        var display = window.getComputedStyle(gd).display;\n",
       "        if (!display || display === 'none') {{\n",
       "            console.log([gd, 'removed!']);\n",
       "            Plotly.purge(gd);\n",
       "            observer.disconnect();\n",
       "        }}\n",
       "}});\n",
       "\n",
       "// Listen for the removal of the full notebook cells\n",
       "var notebookContainer = gd.closest('#notebook-container');\n",
       "if (notebookContainer) {{\n",
       "    x.observe(notebookContainer, {childList: true});\n",
       "}}\n",
       "\n",
       "// Listen for the clearing of the current output cell\n",
       "var outputEl = gd.closest('.output');\n",
       "if (outputEl) {{\n",
       "    x.observe(outputEl, {childList: true});\n",
       "}}\n",
       "\n",
       "                        })                };                });            </script>        </div>"
      ]
     },
     "metadata": {},
     "output_type": "display_data"
    }
   ],
   "source": [
    "tasks_task_counts = tasks_df.Task.value_counts()\n",
    "\n",
    "fig = px.bar(x=tasks_task_counts.index, y=tasks_task_counts.values, color_discrete_sequence=['lightslategrey'])\n",
    "fig.update_layout(xaxis_title=\"Task\", yaxis_title=\"Count\")\n",
    "fig.show()"
   ]
  },
  {
   "cell_type": "markdown",
   "metadata": {},
   "source": [
    "<p style=\"font-family: consolas; font-size: 16px;\">❔ How the boxplot looks like for each task on duration.</p>"
   ]
  },
  {
   "cell_type": "code",
   "execution_count": 82,
   "metadata": {
    "execution": {
     "iopub.execute_input": "2023-07-14T02:26:33.879793Z",
     "iopub.status.busy": "2023-07-14T02:26:33.879283Z",
     "iopub.status.idle": "2023-07-14T02:26:34.024011Z",
     "shell.execute_reply": "2023-07-14T02:26:34.022630Z",
     "shell.execute_reply.started": "2023-07-14T02:26:33.879747Z"
    }
   },
   "outputs": [
    {
     "data": {
      "text/html": [
       "<div>                            <div id=\"8b7c8c38-8d81-492e-9dad-c2808ed23bfe\" class=\"plotly-graph-div\" style=\"height:1000px; width:100%;\"></div>            <script type=\"text/javascript\">                require([\"plotly\"], function(Plotly) {                    window.PLOTLYENV=window.PLOTLYENV || {};                                    if (document.getElementById(\"8b7c8c38-8d81-492e-9dad-c2808ed23bfe\")) {                    Plotly.newPlot(                        \"8b7c8c38-8d81-492e-9dad-c2808ed23bfe\",                        [{\"alignmentgroup\":\"True\",\"hovertemplate\":\"Duration=%{x}<br>Task=%{y}<extra></extra>\",\"legendgroup\":\"\",\"marker\":{\"color\":\"lightslategrey\"},\"name\":\"\",\"notched\":false,\"offsetgroup\":\"\",\"orientation\":\"h\",\"showlegend\":false,\"x\":[180.48,60.31999999999999,16.519999999999982,16.67999999999995,13.959999999999923,4.839999999999918,5.079999999999927,11.919999999999959,9.879999999999995,1.8559999999999945,4.203000000000088,1.8799999999999955,3.5200000000000955,1.5199999999999818,2.0799999999999272,30.600000000000136,12.839999999999918,30.799999999999955,17.95999999999981,17.40000000000009,8.600000000000136,7.936999999999898,18.799999999999955,17.440000000000055,19.799999999999955,28.12000000000012,21.320000000000164,17.11999999999989,23.320000000000164,46.40000000000009,21.920000000000073,16.759999999999764,16.240000000000236,53.92000000000007,64.59999999999991,11.617999999999999,11.796000000000006,3.468999999999994,7.715000000000003,22.85099999999997,22.584000000000003,6.552999999999997,8.91900000000004,9.444000000000017,5.126000000000033,31.76899999999995,11.849000000000046,30.649999999999977,6.624000000000024,6.230000000000018,5.379000000000019,4.809999999999945,4.230000000000018,10.471000000000004,9.658999999999992,9.860000000000014,8.482999999999947,10.35200000000009,9.580000000000155,18.697999999999865,18.042000000000144,21.587999999999965,11.525000000000091,11.692000000000007,8.32899999999995,9.031999999999925,24.86,23.611000000000004,18.36100000000002,15.506,17.973000000000013,20.144000000000005,24.687999999999988,124.29899999999998,83.83699999999999,25.88499999999999,38.64200000000005,13.664000000000001,12.007999999999996,11.338999999999999,15.661999999999978,14.504000000000019,39.35099999999994,45.02500000000009,15.408999999999878,34.83399999999983,180.88,60.319999999999965,11.71999999999997,11.839999999999975,1.759999999999991,7.399999999999977,4.639999999999986,24.720000000000027,23.24000000000001,23.600000000000023,17.24000000000001,1.3999999999999773,1.8399999999999181,1.4400000000000546,1.4399999999999409,30.720000000000027,31.039999999999964,30.519999999999982,21.039999999999964,10.559999999999945,4.519999999999982,9.18600000000015,10.519999999999982,9.399999999999864,12.879999999999882,12.11999999999989,9.400000000000091,8.682999999999993,16.88000000000011,18.200000000000045,18.69900000000007,10.600000000000136,10.7199999999998,43.17100000000005,41.159999999999854,17.434,18.224999999999994,18.212999999999965,16.038999999999987,20.397999999999968,15.798999999999978,61.02800000000002,87.67499999999995,14.873000000000047,16.914,14.252000000000002,13.131,18.234999999999985,18.743000000000023,129.47000000000003,96.66700000000003,34.194999999999936,35.64999999999998,15.722000000000001,18.677999999999997,20.870000000000005,16.757000000000005,20.959000000000003,22.894000000000005,20.960000000000036,18.940999999999917,70.66700000000003,145.74700000000007,73.73199999999997,20.52299999999991,20.548999999999978,19.246000000000095,18.940000000000055,13.245999999999999,2.9919999999999902,7.168000000000006,3.569999999999993,2.112000000000023,5.286999999999978,4.300999999999988,6.998999999999967,5.581999999999994,5.79200000000003,7.800000000000011,30.069999999999993,1.6050000000000182,31.21300000000008,7.850999999999999,8.537000000000035,6.0890000000000555,5.52699999999993,13.057000000000016,12.567999999999984,16.695999999999913,17.020999999999958,29.13499999999999,38.490999999999985,13.42599999999993,12.989000000000033,23.380999999999858,13.989,10.829000000000008,13.549999999999997,24.139999999999986,17.22199999999998,28.88499999999999,35.13799999999998,20.569000000000074,91.476,14.562000000000001,17.602999999999994,15.76000000000002,15.562999999999988,16.47999999999996,15.599999999999966,16.920000000000016,17.89100000000002,118.84000000000003,227.03999999999985,63.40000000000009,14.439999999999827,17.586000000000013,91.6400000000001,91.32000000000016,16.051,6.559000000000012,7.411000000000001,4.125,4.9269999999999925,3.7309999999999945,3.1069999999999993,5.634999999999991,10.802999999999997,9.620000000000005,8.316000000000031,31.997000000000014,4.718000000000018,32.46999999999997,7.844000000000051,9.004000000000019,7.938000000000102,6.789000000000101,15.02800000000002,15.56000000000006,15.597999999999956,14.581000000000017,29.869000000000028,30.63499999999999,11.68,11.319999999999993,9.679999999999978,13.079999999999984,12.360000000000014,19.04000000000002,17.279999999999973,13.399999999999977,66.24000000000001,181.12,60.79999999999998,19.160000000000025,20.480000000000018,16.960000000000036,17.720000000000027,16.960000000000036,17.480000000000018,17.3599999999999,17.039999999999964,82.75999999999999,109.04000000000008,73.08000000000015,19.720000000000027,22.59999999999991,27.799999999999955,33.680000000000064,18.473,7.2520000000000095,7.387999999999977,6.460000000000008,6.615000000000009,6.97999999999999,12.892000000000024,10.887999999999977,1.6819999999999595,5.129000000000019,5.206999999999994,4.230000000000018,31.200999999999908,5.1299999999999955,12.230000000000018,20.66999999999996,21.040000000000077,6.899999999999977,8.75,25.934999999999945,26.230999999999995,28.529999999999973,32.42599999999993,43.99700000000007,54.575000000000045,19.156000000000176,67.72500000000014,180.16,60.19999999999999,14.559999999999945,16.039999999999964,14.014999999999986,13.230000000000018,19.600000000000023,20.440000000000055,15.043999999999869,14.799999999999955,52.478000000000065,95.39999999999986,71.43900000000008,16.94399999999996,18.563000000000102,41.07999999999993,64.03600000000006,180.003,60.400000000000034,18.08000000000004,22.480000000000018,18.639999999999986,21.805000000000064,25.0,215.81099999999992,208.27999999999997,16.519999999999982,213.99999999999977,56.68000000000001,66.6,80.20100000000002,83.75999999999999,45.799999999999955,49.80000000000007,83.84000000000003,54.81700000000001,98.44000000000005,81.26700000000005,100.88000000000011,41.11999999999989,42.399999999999864,138.32000000000016,179.35999999999967,180.56,60.56,12.892000000000053,12.840000000000032,13.240000000000009,14.199999999999932,14.280000000000086,40.120000000000005,49.59999999999991,13.240000000000009,67.15999999999985,180.72,60.360000000000014,12.839999999999975,12.879999999999995,1.8799999999999955,5.7999999999999545,5.840000000000032,23.480000000000018,23.159999999999968,23.75999999999999,25.519999999999982,1.7250000000000227,2.0,1.6000000000000227,2.839999999999918,30.720000000000027,30.839999999999918,30.600000000000136,10.3599999999999,10.519999999999982,5.6400000000001,11.720000000000027,11.960000000000036,11.403999999999996,13.040000000000191,12.400000000000091,11.279999999999973,10.771999999999935,19.919999999999845,20.039999999999964,18.200000000000045,12.448000000000093,12.120000000000118,31.309999999999945,31.708000000000084,180.68,60.75999999999999,14.480000000000018,14.04000000000002,1.9600000000000364,15.200000000000045,14.879999999999995,7.080000000000041,10.079999999999927,14.960000000000036,6.0,1.1999999999999318,2.2000000000000455,2.1200000000000045,1.5200000000000955,30.519999999999982,30.87999999999988,30.12000000000012,17.799999999999955,17.75999999999999,6.160000000000082,17.680000000000064,13.679999999999836,13.519999999999982,14.440000000000055,14.199999999999818,12.960000000000036,13.360000000000127,35.59999999999991,43.559999999999945,37.16000000000031,11.7199999999998,11.559999999999945,59.559999999999945,59.63999999999987,180.92,60.680000000000035,12.520000000000039,2.079999999999984,5.559999999999945,6.0,6.440000000000055,12.600000000000023,23.800000000000068,12.120000000000005,1.67999999999995,2.2799999999999727,3.199999999999932,2.439999999999941,31.479999999999905,31.079999999999927,30.280000000000086,13.519999999999982,17.12000000000012,4.039999999999964,6.040000000000191,10.11999999999989,9.759999999999991,14.519999999999982,12.88000000000011,17.960000000000036,25.2800000000002,9.88000000000011,40.0,180.72,60.96000000000001,17.0,15.959999999999923,1.6399999999999864,9.519999999999982,8.279999999999973,4.759999999999991,6.759999999999991,12.634999999999991,1.6000000000000227,2.080000000000041,1.8799999999999955,1.919999999999959,2.839999999999918,2.3999999999999773,30.67999999999995,30.039999999999964,30.399999999999864,9.0,8.159999999999854,10.759999999999991,7.880000000000109,12.480000000000018,15.559999999999945,30.200000000000045,24.039999999999964,14.720000000000027,14.799999999999955,67.15999999999985,124.15999999999985,64.07999999999993,31.654999999999745,17.7199999999998,84.04600000000028,72.44000000000005,14.492,5.695999999999998,7.425000000000011,5.438999999999993,2.890000000000015,4.6270000000000095,2.100999999999999,6.843999999999994,7.0,6.528999999999996,9.558999999999969,31.444999999999993,31.543999999999983,9.029999999999973,10.208999999999946,9.08299999999997,6.652000000000044,15.769999999999982,15.157000000000039,17.378000000000043,15.653999999999996,45.694999999999936,61.56099999999992,13.991999999999962,24.376999999999953,14.291,5.378,5.247000000000014,8.076999999999998,1.8029999999999973,7.809000000000026,6.2549999999999955,7.222000000000037,7.189000000000021,5.140000000000043,5.878999999999962,31.511000000000024,22.66700000000003,31.692999999999984,7.696000000000026,9.718000000000075,8.865000000000009,7.796000000000049,13.950000000000045,11.505999999999972,14.413000000000011,15.751999999999953,191.49199999999996,97.86300000000006,15.901000000000067,15.167000000000144,22.774000000000115,11.712,10.636000000000003,4.277999999999992,5.578000000000003,3.991000000000014,4.199000000000012,7.631,9.348000000000013,6.389999999999986,6.041999999999973,7.9879999999999995,9.200000000000045,31.531999999999982,14.263999999999953,10.286999999999978,7.385000000000105,8.238000000000056,7.432000000000016,6.7999999999999545,9.746999999999957,0.02800000000002001,9.480000000000018,10.716000000000008,8.941000000000031,18.427999999999997,22.61200000000008,21.156999999999925,19.896999999999935,15.990999999999985,15.963000000000001,17.159999999999997,1.7199999999999989,6.761000000000024,7.159999999999968,17.62299999999999,24.879999999999995,23.399999999999977,24.079999999999984,3.0,4.600000000000023,4.480000000000018,5.480000000000018,30.639999999999986,30.800000000000068,30.6400000000001,12.480000000000018,10.399999999999864,8.839999999999918,10.120000000000118,14.883000000000038,15.240000000000009,16.46900000000005,14.960000000000036,17.11999999999989,18.559999999999945,71.78199999999993,194.03999999999996,87.88000000000011,15.009000000000015,19.15599999999995,90.20000000000027,94.55999999999995,30.4,23.200000000000003,25.200000000000017,23.120000000000005,43.84000000000003,41.28000000000003,23.319999999999993,24.32000000000005,26.879999999999995,34.07999999999993,26.519999999999982,35.080000000000155,30.639999999999873,53.59999999999991,66.49500000000012,18.16,24.000000000000014,22.16500000000002,34.07099999999997,26.122000000000014,50.46300000000002,54.37900000000002,22.96799999999996,62.40999999999997,18.202,24.32299999999998,18.15500000000003,25.37700000000001,22.42700000000002,59.153999999999996,121.8950000000001,25.951000000000022,16.83199999999988,181.08,60.95999999999998,32.680000000000064,47.48000000000002,36.16000000000008,42.799999999999955,52.87999999999988,53.72000000000003,62.440000000000055,50.080000000000155,143.72000000000025,192.84000000000015,107.2800000000002,27.720000000000255,33.266999999999825,92.11999999999989,113.03999999999996,180.72,60.48000000000002,15.839999999999918,14.719999999999914,15.200000000000045,13.719999999999914,17.280000000000086,15.719999999999914,14.0,13.120000000000005,32.424000000000206,38.83999999999992,37.07999999999993,18.40000000000009,17.811999999999898,32.99500000000012,32.11000000000013,180.36,60.67999999999995,14.160000000000082,15.639999999999986,12.728000000000065,12.815000000000055,14.800000000000182,13.7199999999998,12.840000000000146,12.120000000000118,21.200000000000045,26.83199999999988,23.881000000000085,12.726000000000113,11.305000000000064,52.039999999999964,45.59999999999991,11.311,3.6260000000000048,6.765999999999991,7.438999999999993,22.829000000000008,22.619,6.008999999999986,7.165999999999968,5.213999999999999,7.108000000000004,30.56899999999996,2.8659999999999854,31.730999999999995,7.947000000000003,8.01400000000001,6.270999999999958,7.010999999999967,11.115000000000009,11.379999999999995,12.004000000000019,11.144999999999982,22.091999999999985,0.003000000000156433,22.38499999999999,13.773999999999887,55.25400000000013,180.8,60.68000000000001,11.439999999999998,12.720000000000027,10.759999999999991,11.719999999999914,13.639999999999986,12.720000000000027,13.639999999999986,10.800000000000068,20.440000000000055,21.960000000000036,36.960000000000036,14.879999999999882,14.200000000000045,20.160000000000082,20.319999999999936,180.0,60.68000000000001,41.47999999999996,52.0,6.0,3.439999999999941,19.559999999999945,12.600000000000023,10.480000000000018,3.2800000000000864,4.080000000000041,4.4799999999999045,4.279999999999973,30.279999999999973,26.519999999999982,30.2800000000002,57.799999999999955,13.759999999999991,9.240000000000009,12.839999999999918,23.159999999999854,24.88000000000011,54.440000000000055,52.960000000000036,206.15999999999985,241.0,34.59999999999991,105.40000000000009,12.440000000000001,13.64,1.799999999999983,10.680000000000007,9.439999999999998,24.0,18.95999999999998,4.680000000000007,14.800000000000011,1.7620000000000005,2.0400000000000205,1.7199999999999704,1.839999999999975,30.399999999999977,30.639999999999986,30.91999999999996,14.319999999999936,18.519999999999982,5.839999999999918,11.56000000000006,10.639999999999986,11.720000000000027,12.320000000000164,11.879999999999882,12.920000000000073,11.959999999999809,82.59999999999991,86.36000000000013,68.91999999999985,15.639999999999873,14.920000000000073,47.0,45.440000000000055,13.36,13.200000000000017,14.880000000000024,19.608000000000004,20.799999999999955,33.80900000000008,40.0,19.679999999999836,52.25499999999988,18.911,15.945000000000007,15.544000000000011,16.930999999999983,17.807999999999993,17.13499999999999,16.759000000000015,230.697,231.75199999999995,75.87199999999984,30.146999999999935,69.59999999999991,41.67399999999998,13.8,14.079999999999998,2.5200000000000102,5.680000000000007,7.0,19.079999999999984,17.079999999999984,4.840000000000032,23.519999999999982,3.920000000000016,4.432999999999993,3.519999999999982,2.599999999999966,31.879999999999995,30.187000000000012,32.719999999999914,7.559999999999945,9.440000000000055,6.519999999999982,8.480000000000018,15.201999999999998,13.24200000000019,18.482999999999947,14.440000000000055,15.6400000000001,16.11999999999989,35.87999999999988,45.2800000000002,30.039999999999964,8.399999999999864,11.166000000000167,25.720000000000027,26.919999999999845,182.96,60.84,27.720000000000027,39.48000000000002,12.080000000000155,10.879999999999882,14.360000000000127,11.160000000000082,8.599999999999909,9.320000000000164,23.519999999999982,3.0799999999999272,1.8799999999998818,2.0,1.400000000000091,30.24000000000001,19.039999999999964,31.360000000000127,38.3599999999999,14.3599999999999,17.40000000000009,14.680000000000064,37.200000000000045,45.76000000000022,69.20000000000027,56.840000000000146,57.80000000000018,60.559999999999945,207.59900000000016,251.92000000000007,115.84000000000015,30.639999999999873,31.480000000000018,87.07999999999993,104.15999999999985,15.264,3.480000000000018,6.548000000000002,4.799999999999983,6.520000000000039,5.279999999999973,4.300000000000011,19.879999999999995,1.1599999999999682,1.8799999999999955,2.4399999999999977,2.7200000000000273,31.160000000000082,30.513000000000034,30.277000000000044,6.785000000000082,9.200000000000045,7.800000000000068,7.319999999999936,15.435999999999922,13.839999999999918,16.440000000000055,16.11999999999989,23.826999999999998,26.080000000000155,13.319999999999936,99.83399999999983,14.55,1.8399999999999892,6.319999999999993,0.9199999999999875,5.27000000000001,2.5,10.52000000000001,6.47999999999999,8.069999999999993,6.670000000000016,5.5,33.90999999999997,5.2900000000000205,34.670000000000016,9.290000000000077,8.950000000000045,5.909999999999968,7.610000000000014,14.009999999999991,13.670000000000073,16.350000000000023,17.00999999999999,25.610000000000014,37.26999999999998,20.819999999999936,19.169999999999845,23.6400000000001,17.444,17.03800000000001,16.30000000000001,17.314999999999998,16.774999999999977,15.779999999999973,17.638999999999953,16.951999999999998,68.33800000000008,62.645000000000095,81.97000000000003,26.204999999999927,22.017000000000053,20.600000000000136,16.223999999999933,12.841000000000001,15.599999999999994,12.951000000000022,15.167000000000002,16.879999999999995,34.31999999999999,46.670000000000016,9.91599999999994,36.783000000000015,33.912,42.866,29.431999999999988,35.29399999999998,86.20600000000002,70.35300000000007,47.04399999999998,40.37699999999995,176.29499999999996,144.75900000000001,159.192,42.4530000000002,66.72000000000025,158.15999999999985,131.36000000000013,15.780000000000001,14.119999999999976,14.52000000000001,15.319999999999993,16.600000000000023,37.47999999999996,63.48000000000002,7.209,10.339000000000006,7.573999999999998,6.845999999999989,11.133999999999986,13.109999999999985,16.185000000000002,16.34699999999998,180.72,60.0,18.75999999999999,15.319999999999936,15.0,18.56000000000006,17.440000000000055,24.110000000000014,34.548,15.080000000000155,175.4799999999998,0.0030000000000001137,17.39,15.392999999999986,13.156000000000006,17.955000000000013,14.353000000000009,58.46100000000001,142.43600000000004,12.203,11.744000000000007,5.27000000000001,6.1270000000000095,21.62900000000002,18.89500000000001,22.209000000000003,5.048999999999978,6.351999999999975,4.210000000000036,5.490000000000009,30.76800000000003,31.59400000000005,30.91700000000003,7.831000000000017,7.163000000000011,6.621999999999957,5.5359999999999445,11.090000000000032,10.399999999999977,10.290000000000077,9.249000000000024,11.345000000000027,11.450000000000045,23.965000000000146,32.39300000000003,21.721000000000004,16.91300000000001,18.207000000000107,21.394000000000005,26.019999999999982,181.48,60.00000000000003,10.720000000000027,9.233000000000004,8.839999999999918,8.561000000000035,8.280000000000086,15.480000000000018,16.519999999999982,12.840000000000032,27.159999999999968,34.68,32.0,33.08000000000001,77.28000000000003,64.03999999999996,170.03999999999996,193.0,32.75999999999999,182.87999999999988,50.36,43.2,32.27999999999997,30.480000000000018,194.84000000000003,176.08000000000004,72.39999999999998,57.680000000000064,160.07999999999993,119.51999999999998,123.08000000000015,102.33699999999999,43.51999999999998,356.72000000000025,273.75999999999976,180.2,60.15999999999997,32.39999999999998,26.480000000000018,26.120000000000005,22.75999999999999,31.559999999999945,25.480000000000018,22.319999999999936,25.079999999999927,60.12000000000012,180.64,60.27999999999997,14.199999999999989,2.1200000000000045,10.240000000000009,10.599999999999909,11.680000000000064,14.759999999999991,15.520000000000095,6.080000000000041,1.7200000000000273,3.67999999999995,2.919999999999959,1.9599999999999227,30.43999999999994,30.680000000000064,30.11999999999989,14.159999999999854,14.200000000000045,6.320000000000164,13.11999999999989,11.720000000000027,10.919999999999845,11.920000000000073,11.319999999999936,23.039999999999964,24.480000000000018,10.11999999999989,53.600000000000136,11.895,13.683999999999997,13.205999999999989,16.342000000000013,15.849999999999994,36.35200000000003,86.71299999999997,15.868000000000052,26.614000000000033,14.95,14.959999999999994,13.310000000000002,16.539999999999992,18.099999999999994,23.930000000000007,30.460000000000036,22.17999999999995,26.379999999999995,23.74000000000001,181.12,60.68000000000001,18.800000000000068,26.56000000000006,20.138000000000147,17.59999999999991,19.799999999999955,20.279999999999973,21.200000000000045,20.9849999999999,181.27999999999997,227.4799999999998,170.92299999999977,17.039999999999964,17.210000000000036,89.15999999999985,58.279999999999745,56.040000000000006,38.639999999999986,34.12000000000003,34.39999999999998,31.75999999999999,93.75300000000004,60.960000000000036,42.840000000000146,128.76,180.96,60.48000000000002,11.519999999999982,11.394000000000005,1.8400000000000318,4.759999999999991,5.480000000000018,24.200000000000045,16.073999999999955,20.437999999999988,14.879999999999995,2.080000000000041,1.759999999999991,2.3600000000000136,2.240000000000009,30.40000000000009,31.24000000000001,30.08000000000004,10.399999999999864,10.779999999999973,4.120000000000118,13.039999999999964,9.959999999999809,9.990000000000009,12.261999999999944,11.6400000000001,13.799999999999955,10.239999999999782,15.951000000000022,19.519999999999982,19.75999999999999,10.960000000000036,10.279999999999973,37.98699999999985,37.13200000000006,11.024000000000001,13.567999999999998,13.296999999999997,11.02000000000001,10.722999999999985,13.208000000000027,11.534999999999968,28.62299999999999,54.889999999999986,37.85000000000002,13.394000000000005,13.950000000000045,15.562000000000012,16.210000000000036,181.24,61.19999999999999,11.28000000000003,2.2799999999999727,6.480000000000018,8.720000000000027,27.160000000000082,23.903999999999996,16.959999999999923,22.840000000000032,2.0399999999999636,2.2000000000000455,2.4400000000000546,1.67999999999995,31.159999999999968,31.360000000000014,30.91999999999996,13.199999999999932,13.159999999999854,4.360000000000127,12.0,9.200000000000045,8.759999999999991,10.360000000000127,9.759999999999991,12.920000000000073,15.519999999999982,8.932999999999993,14.47999999999979,11.294,12.033000000000001,3.4210000000000065,5.9609999999999985,2.3649999999999807,2.7179999999999893,1.9470000000000027,2.3549999999999898,3.6370000000000005,10.079999999999984,5.376000000000005,7.919000000000011,31.15300000000002,1.8600000000000136,29.992999999999995,6.617999999999938,8.035999999999945,7.476999999999975,6.341000000000008,11.396000000000072,11.515999999999963,18.23599999999999,13.664999999999964,44.06599999999992,60.432000000000016,15.497000000000071,80.31700000000001,28.369999999999997,30.710000000000008,34.772999999999996,88.00900000000001,52.04499999999996,138.65800000000002,46.631999999999834,56.6880000000001,13.8,1.6400000000000148,6.639999999999986,5.960000000000008,11.399999999999977,13.835000000000036,4.0540000000000305,4.519999999999982,1.8239999999999554,2.0,2.5200000000000955,1.8799999999999955,30.43999999999994,30.879999999999995,30.75999999999999,6.360000000000014,10.159999999999968,5.657000000000153,7.573000000000093,14.639999999999873,13.799999999999955,19.960000000000036,15.599999999999909,57.3599999999999,80.0,20.319999999999936,45.92000000000007,180.64,60.04000000000002,14.279999999999973,15.559999999999945,15.919999999999959,15.319999999999936,16.960000000000036,16.079999999999927,14.480000000000018,14.67999999999995,42.83999999999992,53.48000000000002,49.2800000000002,12.760000000000218,13.52299999999991,68.32000000000016,67.68000000000006,180.76,60.879999999999995,11.600000000000023,12.160000000000025,1.7200000000000273,4.680000000000007,4.0,23.280000000000086,24.600000000000023,18.639999999999986,24.144000000000005,1.9700000000000273,2.1200000000000045,1.4400000000000546,1.3199999999999363,30.960000000000036,30.680000000000064,30.199999999999932,14.879999999999995,12.680000000000064,6.199999999999818,10.799999999999955,9.279999999999973,9.039999999999964,9.798000000000002,9.759999999999991,10.439999999999827,9.839999999999918,15.080000000000155,16.440000000000055,15.120000000000118,11.680000000000064,10.840000000000146,13.800000000000182,13.680000000000064,12.16,1.5999999999999943,6.640000000000001,8.52000000000001,5.360000000000014,5.599999999999994,5.079999999999984,13.079999999999984,5.839999999999975,4.32000000000005,2.079999999999984,2.9420000000000073,30.43999999999994,32.0,30.91999999999996,16.519999999999982,14.120000000000005,5.600000000000023,5.279999999999973,10.480999999999995,9.321999999999889,12.80099999999993,14.001999999999953,22.24000000000001,38.799999999999955,18.6400000000001,46.136999999999944,180.52,60.160000000000025,18.879999999999995,4.7999999999999545,8.718999999999937,9.600000000000023,18.639999999999986,20.75999999999999,12.039999999999964,10.800000000000068,2.919999999999959,2.7999999999999545,4.060000000000059,1.3600000000001273,30.06600000000003,30.039999999999964,30.24000000000001,6.855000000000018,5.839999999999918,7.1599999999998545,5.8400000000001455,14.3599999999999,11.639999999999873,14.799999999999955,15.039999999999964,85.55999999999995,99.75999999999999,11.920000000000073,54.95999999999958,16.863,19.23600000000002,17.52200000000002,17.314999999999998,17.43100000000004,49.783000000000015,80.52499999999998,20.240999999999985,27.829999999999927,18.16,19.559999999999988,18.763000000000034,17.920000000000016,22.0,20.920000000000073,17.395999999999958,18.43999999999994,41.75999999999999,43.719999999999914,42.59999999999991,21.163999999999987,16.722999999999956,71.16000000000008,67.24000000000001,12.274000000000001,2.010000000000005,7.609000000000009,22.439999999999998,21.74200000000002,10.294000000000011,10.775000000000034,9.762999999999977,5.453000000000031,31.192000000000007,5.508000000000038,32.58299999999997,6.948000000000093,7.926999999999907,7.2650000000001,6.7309999999999945,11.916000000000054,11.56000000000006,15.491999999999962,13.024000000000001,33.84999999999991,96.83400000000006,14.05399999999986,33.81899999999996,180.52,60.67999999999998,18.440000000000055,18.600000000000023,21.847000000000094,16.32000000000005,27.62799999999993,25.839999999999918,15.480000000000018,15.360000000000127,48.0,112.96000000000004,46.59999999999991,24.55099999999993,18.720000000000027,82.40000000000009,74.84000000000015,10.296,9.682000000000002,3.076999999999998,2.914999999999992,6.2239999999999895,15.89500000000001,22.76400000000001,4.104999999999961,23.57299999999998,4.335999999999956,4.357000000000028,4.006000000000029,3.9610000000000127,32.84100000000001,7.273000000000025,32.398000000000025,7.875,8.331000000000017,5.837999999999965,6.139999999999986,6.236999999999966,6.486999999999966,10.168000000000006,8.877999999999929,10.100000000000023,8.93600000000015,10.045999999999822,7.939000000000078,25.061999999999998,4.966000000000008,0.006000000000000227,7.432000000000002,1.0109999999999957,6.675999999999988,0.01099999999999568,0.006000000000000227,1.125,4.3160000000000025,20.91300000000001,6.6910000000000025,9.873999999999967,9.242000000000019,30.489000000000033,14.387,34.78399999999999,14.663999999999987,10.899999999999977,8.93100000000004,9.8839999999999,27.05899999999997,23.541999999999916,31.069999999999936,94.56500000000005,112.68799999999987,51.457999999999856,38.59899999999993,15.04,18.24000000000001,1.6800000000000068,7.319999999999993,7.7999999999999545,5.439999999999998,4.639999999999986,15.119999999999948,5.67999999999995,2.319999999999993,4.360000000000014,2.759999999999991,3.32000000000005,30.67999999999995,30.399999999999977,31.079999999999927,20.40000000000009,22.039999999999964,8.120000000000118,7.6400000000001,14.480000000000018,15.639999999999873,19.800000000000182,19.480000000000018,16.159999999999854,16.679999999999836,108.59999999999991,240.0,149.24000000000024,21.5600000000004,21.0,42.63999999999987,40.039999999999964,14.047999999999998,21.77799999999999,17.48999999999998,60.67399999999998,26.394999999999982,105.22900000000004,13.120000000000001,1.519999999999996,7.1580000000000155,10.456999999999994,20.599999999999994,24.75999999999999,20.920000000000016,22.680000000000007,2.798000000000002,2.1200000000000045,1.8400000000000318,2.4400000000000546,30.75999999999999,31.639999999999986,31.879999999999995,6.879999999999882,7.039999999999964,7.480000000000018,7.3599999999999,12.683999999999969,14.764000000000124,18.364000000000033,16.447999999999865,55.200000000000045,208.0400000000002,12.279999999999973,30.442000000000007,180.76,60.72,10.56000000000006,10.720000000000027,8.720000000000027,8.04600000000005,8.360000000000014,8.6400000000001,7.919999999999959,7.960000000000036,19.079999999999927,21.3599999999999,20.920000000000073,14.079999999999927,12.279999999999973,24.75999999999999,21.440000000000055,180.88,60.640000000000015,37.19999999999999,34.51999999999998,36.48000000000002,60.24000000000001,42.39999999999998,49.039999999999964,74.96000000000004,16.12000000000012,142.91999999999985,13.440000000000001,13.560000000000002,14.719999999999999,15.039999999999992,23.879999999999995,30.400000000000034,11.360000000000014,31.91999999999996,180.32,60.400000000000006,13.439999999999998,12.079999999999927,12.519999999999982,14.799999999999955,17.760000000000105,30.519999999999982,31.91999999999996,14.160000000000082,70.11999999999989,180.08,60.31999999999999,17.920000000000016,18.479999999999905,16.040000000000077,15.720000000000027,18.480000000000018,18.879999999999995,16.840000000000032,15.88000000000011,31.0,34.531999999999925,37.12000000000012,13.799999999999955,15.240000000000009,149.03999999999996,144.96000000000004,179.96,61.039999999999964,24.480000000000018,23.519999999999982,26.480000000000018,29.6400000000001,31.360000000000014,103.92100000000005,155.96000000000004,44.559999999999945,32.799999999999955,80.20000000000005,213.57499999999982,87.79999999999973,36.59999999999991,32.559999999999945,91.92000000000007,112.76000000000022,13.27,12.670000000000002,15.969999999999985,13.920000000000016,17.48999999999998,36.20999999999998,135.82999999999998,31.460000000000036,32.8599999999999,11.242,10.840000000000003,1.5600000000000023,7.367000000000019,3.740000000000009,5.248999999999967,17.839999999999975,7.759999999999991,6.0,1.8400000000000318,3.3600000000000136,1.759999999999991,2.1200000000000045,30.719999999999914,30.600000000000023,30.680000000000064,5.919999999999845,6.2000000000000455,4.839999999999918,5.470000000000027,10.122000000000071,9.879000000000133,17.92100000000005,13.11999999999989,11.959999999999809,10.879999999999882,27.039999999999964,44.399999999999864,35.75999999999976,13.922000000000025,12.882000000000062,42.289000000000215,48.36799999999994,11.498000000000001,13.198000000000008,10.944999999999993,10.75399999999999,10.997000000000014,11.706999999999994,11.411999999999978,25.15500000000003,25.772999999999968,27.692999999999984,17.52800000000002,14.602999999999952,26.0150000000001,25.0,10.899999999999999,3.5760000000000076,7.609999999999985,11.746999999999986,16.129999999999995,14.198999999999984,18.911999999999978,6.572999999999979,9.47399999999999,4.822000000000003,8.84699999999998,6.517999999999972,30.74799999999999,7.538999999999987,31.561000000000035,7.9220000000000255,7.8799999999999955,6.757000000000062,5.982999999999947,12.815000000000055,10.004999999999995,10.105999999999995,14.755999999999972,13.509999999999991,22.560999999999922,26.263999999999896,23.960999999999785,34.51099999999997,13.52,12.68,1.8800000000000239,4.960000000000008,4.840000000000003,24.23999999999998,25.879999999999995,25.600000000000023,24.120000000000005,2.384999999999991,1.6800000000000068,1.6800000000000068,2.519999999999982,31.039999999999964,25.480000000000018,31.0,14.680000000000064,15.920000000000073,6.345000000000027,15.599999999999909,15.160000000000082,14.639999999999873,20.519999999999982,17.75999999999999,15.519999999999982,13.519999999999982,26.87999999999988,37.53500000000008,30.160000000000082,24.720000000000027,22.200000000000045,51.0,52.40000000000009,15.649999999999999,16.02000000000001,12.573999999999984,11.986000000000018,13.377999999999986,15.036000000000001,13.691000000000031,33.853000000000065,186.485,46.13900000000001,26.443000000000097,56.56600000000003,11.604,12.264999999999986,13.724999999999994,17.992999999999995,14.949999999999989,35.839,76.34000000000003,19.12099999999998,54.63600000000008,38.84,33.24000000000001,23.439999999999998,8.039999999999964,12.919999999999959,6.199999999999989,17.128999999999962,10.079999999999984,7.598000000000013,1.6619999999999209,3.9599999999999227,31.399999999999977,7.0,30.75999999999999,41.319999999999936,20.680000000000064,18.920000000000073,26.639999999999873,30.95999999999981,31.320000000000164,133.80000000000018,103.39100000000008,50.51999999999998,34.19999999999982,178.1199999999999,135.24000000000024,98.59999999999991,34.51999999999998,76.7199999999998,96.39999999999964,97.76000000000022,17.007,14.200000000000003,13.629999999999995,13.436000000000007,12.849999999999994,53.01400000000001,64.29299999999995,19.022000000000048,14.452999999999975,21.24,19.16600000000001,2.599999999999966,3.840000000000032,2.5600000000000023,15.960000000000036,13.800000000000011,8.080000000000041,8.039999999999964,1.919999999999959,2.0,1.919999999999959,3.6000000000000227,31.279999999999973,31.159999999999968,30.680000000000064,8.600000000000023,9.5,8.080000000000041,5.440000000000055,19.85200000000009,17.399999999999864,17.757000000000062,22.23999999999978,21.40000000000009,19.87999999999988,15.680000000000064,26.09699999999998,35.36000000000013,25.3599999999999,12.657999999999902,12.996000000000095,33.840000000000146,30.23999999999978,11.196000000000002,3.4499999999999886,3.7169999999999987,3.9739999999999895,2.8600000000000136,2.1210000000000093,13.824999999999989,0.012999999999976808,12.113,9.063999999999993,11.038000000000011,5.962999999999994,35.71100000000001,17.512999999999977,31.461000000000013,8.602999999999952,9.29000000000002,8.354000000000042,5.8110000000000355,7.293999999999983,12.31000000000006,11.745000000000005,23.055000000000064,16.66599999999994,25.69799999999998,38.809999999999945,14.094000000000051,24.136999999999944,14.68,14.840000000000003,1.2789999999999964,5.599999999999966,4.800000000000011,11.800000000000011,18.80000000000001,13.759999999999991,2.840000000000032,2.1200000000000045,1.67999999999995,2.1200000000000045,30.799999999999955,31.920000000000073,30.75999999999999,6.360000000000014,7.0,6.719999999999914,6.439999999999941,13.3599999999999,12.080000000000155,17.440000000000055,14.960000000000036,13.11999999999989,13.519999999999982,22.639999999999873,24.079999999999927,27.279999999999973,12.993999999999915,13.56100000000015,33.83999999999992,33.11999999999989,14.396,14.199999999999996,2.1200000000000045,5.560000000000002,5.319999999999993,19.559999999999945,7.759999999999991,14.159999999999968,12.599999999999966,1.0400000000000205,2.7999999999999545,2.3999999999999773,2.759999999999991,30.720000000000027,30.519999999999982,30.520000000000095,7.519999999999982,7.239999999999895,7.559999999999945,8.879999999999995,11.279999999999973,12.639999999999873,15.400000000000091,15.839999999999918,14.840000000000146,12.200000000000045,34.87999999999988,45.3599999999999,38.16000000000008,10.759999999999991,11.0,30.399999999999636,26.639999999999873,181.88,60.84000000000003,60.56,16.159999999999968,15.0,3.7999999999999545,7.0,10.759999999999991,7.519999999999982,16.91999999999996,10.200000000000045,7.039999999999964,3.0,2.2129999999999654,2.480000000000018,2.3599999999999,30.440000000000055,30.478000000000065,30.3599999999999,15.920000000000073,14.399999999999864,7.959999999999809,6.7999999999999545,12.959999999999809,12.120000000000118,14.240000000000009,15.279999999999973,14.720000000000255,13.7199999999998,27.720000000000255,24.519999999999982,27.079999999999927,11.799999999999727,12.720000000000255,144.15999999999985,155.27999999999975,180.68,60.639999999999986,10.160000000000025,1.6800000000000068,5.759999999999991,6.160000000000025,23.879999999999995,20.799999999999955,19.75999999999999,26.279999999999973,0.9599999999999227,1.759999999999991,2.1200000000000045,1.1200000000000045,30.600000000000023,31.24000000000001,31.480000000000018,13.279999999999973,13.600000000000023,4.480000000000018,10.720000000000027,7.920000000000073,7.400000000000091,7.480000000000018,7.599999999999909,14.759999999999991,14.200000000000045,11.199999999999818,19.24000000000001,15.152000000000001,14.468999999999994,14.36499999999998,14.645999999999987,23.478999999999985,15.897999999999968,92.89999999999998,88.78599999999994,17.58299999999997,27.54399999999987,181.12,60.920000000000016,11.319999999999993,13.760000000000105,3.09800000000007,10.240000000000009,7.600000000000023,24.75999999999999,23.519999999999982,20.533000000000015,21.581999999999994,2.759999999999991,3.2799999999999727,1.8000000000000682,1.0760000000000218,30.839999999999918,30.88000000000011,30.24000000000001,10.52000000000021,11.0,8.160000000000082,10.824999999999818,10.560000000000173,11.519999999999982,10.88000000000011,14.040000000000191,16.680000000000064,13.600000000000136,20.24000000000001,27.0,29.5600000000004,13.400000000000091,13.759999999999764,18.359999999999673,19.0,180.84,60.56,16.879999999999995,19.24000000000001,55.360000000000014,8.56000000000006,16.519999999999982,18.732999999999947,6.360000000000014,21.0,2.400000000000091,4.279999999999973,2.519999999999982,3.040000000000191,31.160000000000082,34.319999999999936,30.87999999999988,9.360000000000127,6.559999999999945,8.679999999999836,6.614000000000033,18.279999999999973,17.0,18.080000000000155,17.600000000000136,15.480000000000018,17.480000000000018,112.7199999999998,26.080000000000382,80.76000000000022,15.079999999999927,15.081000000000131,57.35400000000027,50.960000000000036,24.676000000000002,22.918000000000006,19.37299999999999,25.279999999999973,23.573000000000036,55.295999999999935,62.41300000000001,22.96300000000008,139.99399999999991,14.378,13.649000000000001,19.641000000000005,21.760000000000005,17.359999999999985,18.319999999999993,35.839999999999975,95.88,27.079999999999927,10.600000000000023,11.519999999999982,66.92000000000007,53.827,11.600000000000001,12.36,10.920000000000016,10.080000000000013,11.200000000000045,10.839999999999975,11.240000000000009,11.359999999999957,16.63999999999993,17.480000000000018,20.43999999999994,14.160000000000082,13.680000000000064,42.40000000000009,41.11999999999989,180.254,60.599999999999994,12.200000000000045,2.159999999999968,4.960000000000036,3.2799999999999727,4.039999999999964,2.159999999999968,4.519999999999982,6.160000000000082,1.7200000000000273,2.800000000000068,3.519999999999982,2.240000000000009,30.079999999999927,27.319999999999936,30.160000000000082,8.759999999999991,6.559999999999945,6.720000000000027,4.439999999999827,6.400000000000091,12.0,11.0,11.88000000000011,10.480000000000018,16.40000000000009,29.960000000000036,10.2800000000002,52.159999999999854,11.535,11.174000000000007,3.1539999999999964,2.9659999999999798,4.376999999999953,3.7869999999999777,3.0810000000000173,4.444000000000017,6.209000000000003,6.709000000000003,6.967999999999961,10.908000000000015,31.196000000000026,7.291000000000054,30.774999999999977,7.496000000000095,7.505999999999972,6.0919999999999845,5.278999999999996,10.336000000000013,10.992000000000075,13.695000000000164,13.742999999999938,10.22199999999998,15.079999999999927,22.250999999999976,32.36000000000013,24.631000000000085,14.467000000000098,14.967999999999847,15.350999999999885,9.417000000000144,10.991,1.3539999999999992,6.318999999999988,8.201999999999998,7.0260000000000105,12.496999999999986,19.54600000000002,2.3999999999999773,2.0,2.0,1.4309999999999832,31.161,31.586000000000013,30.70900000000006,6.208000000000084,5.183999999999969,4.099000000000046,6.101999999999975,8.31000000000006,8.177999999999997,8.904999999999973,9.349999999999909,17.319999999999936,23.070999999999913,10.989000000000033,15.401000000000067,12.203,6.915999999999997,5.492999999999995,2.9020000000000152,2.1970000000000027,3.1399999999999864,1.9699999999999989,6.508999999999986,9.328000000000031,8.400000000000034,8.765999999999963,29.240999999999985,10.200999999999965,31.69999999999999,9.723999999999933,11.692000000000007,8.219999999999914,7.5470000000000255,5.400000000000091,14.970000000000027,13.323999999999955,16.86099999999999,13.3599999999999,41.50999999999999,59.99800000000005,180.76,61.0,14.879999999999995,14.16900000000004,12.95999999999998,13.480000000000018,14.599999999999909,41.680000000000064,50.879999999999995,14.520000000000095,31.600000000000136,20.644,15.600000000000023,15.639999999999986,53.84000000000003,35.920000000000016,57.843000000000075,157.67999999999995,33.46699999999987,133.51999999999998,11.405999999999999,10.899999999999999,0.9899999999999807,8.495000000000005,5.349999999999966,33.13100000000003,31.09699999999998,1.6550000000000296,2.509999999999991,1.6999999999999886,2.5810000000000173,30.44799999999998,14.503000000000043,31.097999999999956,15.153999999999996,10.426000000000045,5.8559999999999945,5.759999999999991,8.519999999999982,9.089999999999918,9.776999999999816,9.557999999999993,8.70900000000006,9.40300000000002,15.615000000000009,16.787000000000035,16.95399999999995,11.779999999999973,11.649000000000115,13.57400000000007,16.680000000000064,180.04,60.24000000000001,15.080000000000041,15.959999999999923,5.159999999999968,7.759999999999991,6.8799999999999955,32.72000000000003,17.440000000000055,20.399999999999977,2.7199999999999136,3.0,3.0399999999999636,2.240000000000009,30.639999999999873,17.960000000000036,12.11999999999989,30.480000000000018,13.480000000000018,7.8400000000001455,6.519999999999982,6.919999999999845,12.160000000000082,12.502999999999929,16.347000000000207,16.319999999999936,13.319999999999936,12.891000000000076,37.19999999999982,48.166999999999916,29.2800000000002,11.826000000000022,11.319999999999709,33.679999999999836,31.40000000000009,11.920000000000002,1.8299999999999983,6.030000000000001,8.580000000000013,15.360000000000014,2.1299999999999955,6.4199999999999875,3.4799999999999613,5.409999999999968,3.909999999999968,3.7800000000000296,32.099999999999966,13.020000000000039,31.970000000000027,8.819999999999936,7.740000000000009,6.529999999999973,6.590000000000032,11.6099999999999,8.159999999999968,7.710000000000036,14.5,12.469999999999914,20.710000000000036,17.769999999999982,23.5,26.440000000000055,18.920000000000073,13.700000000000045,187.6,60.95999999999998,13.839999999999975,13.159999999999968,13.719999999999914,14.079999999999927,14.200000000000045,20.319999999999936,25.40000000000009,11.360000000000127,12.440000000000055,45.47999999999979,44.319999999999936,15.799999999999955,13.439999999999827,13.679999999999836,20.120000000000346,2.119999999999891,4.480000000000018,4.519999999999982,14.159999999999854,3.6399999999998727,2.8799999999996544,2.800000000000182,2.519999999999982,2.0010000000002037,2.5600000000004,2.880000000000109,30.83999999999969,30.399999999999636,30.440000000000055,15.080000000000382,15.639999999999873,15.0,7.7599999999997635,12.855,4.188000000000002,5.834999999999994,16.837999999999994,0.39400000000000546,36.61099999999999,4.419000000000011,6.043000000000006,7.026999999999987,6.449999999999989,7.052000000000021,4.475999999999999,30.31400000000002,4.712999999999965,32.726999999999975,7.370999999999981,9.02800000000002,9.889999999999986,7.196000000000026,16.255999999999972,12.670000000000073,14.81899999999996,13.981999999999971,13.043999999999983,192.8900000000001,156.50199999999995,42.871000000000095,35.49199999999996,30.73199999999997,70.68099999999981,41.22399999999993,180.88,60.75999999999999,13.279999999999973,2.0399999999999636,4.479999999999961,6.759999999999991,23.639999999999986,23.0,23.32000000000005,12.966000000000008,2.3199999999999363,1.5599999999999454,2.759999999999991,2.3600000000000136,30.56000000000006,30.519999999999982,30.360000000000014,7.7199999999998,7.119000000000142,6.440000000000055,6.5060000000000855,12.360000000000127,11.467000000000098,14.440000000000055,13.3599999999999,20.279999999999973,22.21199999999999,11.720000000000027,16.32899999999995,182.12,60.920000000000016,18.879999999999995,3.8799999999999955,8.719999999999914,8.720000000000027,16.159999999999968,10.159999999999968,4.597999999999956,7.599999999999909,1.759999999999991,2.6000000000000227,2.32000000000005,2.3999999999999773,30.600000000000023,40.75999999999999,31.680000000000064,14.639999999999873,16.40000000000009,7.440000000000055,17.519999999999982,14.200000000000045,14.0,16.480000000000018,16.480000000000018,30.080000000000155,27.039999999999964,11.6400000000001,143.4799999999998,15.390999999999998,13.739999999999995,13.519000000000005,12.920000000000016,11.867999999999995,28.729000000000042,48.25899999999996,14.374000000000024,53.7589999999999,13.321000000000002,13.400999999999996,2.5599999999999454,3.0400000000000205,4.920000000000016,7.0400000000000205,6.599999999999966,8.120000000000005,16.440999999999974,1.5600000000000023,1.8799999999999955,1.4399999999999409,1.3999999999999773,30.799999999999955,9.840000000000032,31.480000000000018,7.67999999999995,8.840000000000032,6.399999999999977,5.279999999999973,10.762000000000171,10.922000000000025,19.244000000000142,15.103000000000065,11.682000000000016,13.36200000000008,21.652000000000044,26.80899999999997,25.840000000000146,12.160000000000082,12.159999999999854,48.608999999999924,51.16700000000037,17.855,21.200000000000003,24.319999999999993,23.319999999999993,26.19999999999999,30.439999999999998,21.600000000000023,25.839999999999918,161.51999999999998,287.6,152.44000000000005,30.839999999999918,30.840000000000146,65.0,47.80000000000018,180.36,60.400000000000006,15.800000000000011,15.440000000000055,15.514999999999986,16.480000000000018,17.279999999999973,32.39999999999998,34.15999999999997,17.534999999999854,32.50999999999999,10.896,13.174,3.5649999999999977,5.209000000000003,21.982,21.151999999999987,5.193000000000012,9.283999999999992,6.133999999999958,14.507999999999981,30.718999999999994,5.5400000000000205,32.924000000000035,7.114000000000033,7.067000000000007,5.432999999999993,7.2690000000000055,11.04600000000005,11.06899999999996,11.518000000000029,10.972000000000094,11.980000000000018,11.967999999999961,24.017000000000053,67.90999999999985,13.48,14.079999999999998,15.400000000000006,12.919999999999959,18.95999999999998,16.439999999999998,13.199999999999932,12.879999999999995,47.60000000000002,58.48000000000002,49.80000000000007,13.039999999999964,12.320000000000164,27.880999999999858,33.6400000000001,14.16,14.120000000000005,14.162000000000035,21.12099999999998,14.442000000000007,23.201999999999998,14.360000000000014,12.480000000000018,48.360000000000014,88.87999999999988,67.04000000000019,30.20900000000006,24.0,82.92800000000011,41.75999999999976,181.2,61.03999999999999,9.240000000000009,9.439999999999998,1.6800000000000637,5.0,4.160000000000082,18.75999999999999,25.559999999999945,27.680000000000064,14.698999999999955,1.6800000000000637,1.6000000000000227,1.4800000000000182,1.7200000000000273,30.840000000000032,32.15999999999997,31.120000000000005,12.839999999999918,12.160000000000082,5.399999999999864,10.799999999999955,7.7999999999999545,7.480000000000018,7.919999999999845,7.880000000000109,7.759999999999991,7.217999999999847,16.799999999999955,15.279999999999973,13.200000000000045,11.420000000000073,10.776000000000067,19.320000000000164,18.24000000000001,16.8,16.120000000000005,16.19999999999999,19.91999999999996,20.120000000000005,72.95999999999992,126.20000000000005,24.120000000000005,58.03099999999995,13.129999999999999,11.809999999999988,11.454000000000008,11.697000000000003,10.156000000000006,20.355999999999995,21.06099999999998,13.338999999999942,69.2460000000001,11.884,12.256000000000014,10.433999999999997,13.673999999999978,13.850000000000023,22.335999999999956,28.027999999999963,20.956999999999994,32.34500000000003,12.472999999999999,4.236000000000004,5.866,3.528000000000006,2.2419999999999902,4.61699999999999,2.3689999999999998,4.643000000000001,7.346000000000004,15.744,7.536000000000001,4.523000000000025,30.427999999999997,20.82499999999999,33.343999999999994,7.398000000000025,9.884999999999991,5.9799999999999045,5.392000000000053,11.274000000000001,10.891999999999939,11.421999999999912,10.117999999999938,24.18100000000004,30.55100000000016,13.760000000000002,2.1599999999999966,4.560000000000002,6.560000000000002,24.04000000000002,22.28000000000003,20.680000000000007,4.600000000000023,1.7679999999999723,1.8000000000000114,1.6129999999999995,1.920000000000016,30.519999999999982,30.639999999999986,30.6400000000001,16.199999999999932,18.720000000000027,6.919999999999959,14.55499999999995,11.800000000000068,10.759999999999991,11.400000000000091,11.080000000000155,92.84000000000015,99.0,32.799999999999955,57.61999999999989,16.722,14.378,15.442000000000007,14.320000000000022,14.722999999999956,76.95999999999998,136.83999999999992,16.383000000000038,76.20000000000005,12.867,14.722000000000008,13.509999999999991,18.178999999999974,18.625999999999976,69.88900000000001,98.57900000000006,27.906000000000176,96.11000000000013,56.222999999999956,23.787,6.347000000000008,6.3359999999999985,4.819000000000017,9.128000000000014,6.888000000000005,8.263999999999982,8.271999999999991,7.201999999999998,31.091999999999985,33.28899999999999,10.355999999999995,10.654999999999973,10.97199999999998,9.83800000000008,27.692999999999984,27.300000000000068,44.13199999999995,72.15200000000004,100.43299999999999,32.55600000000004,38.55699999999979,16.351,17.551999999999992,11.438000000000017,10.698999999999955,12.05699999999996,11.48399999999998,12.543999999999983,10.938999999999965,30.831000000000017,38.63199999999995,36.89799999999991,16.155000000000086,15.166000000000054,67.05899999999997,51.715000000000146,11.454999999999998,5.954999999999998,8.042000000000002,11.175000000000011,15.306000000000012,10.391999999999996,12.48999999999998,5.883999999999958,7.403999999999996,6.387999999999977,9.610000000000014,8.197999999999979,31.894999999999982,0.007999999999981355,4.103999999999985,30.837000000000046,7.858000000000061,8.73599999999999,7.791999999999916,6.348999999999933,10.100000000000023,10.117999999999938,11.196999999999889,10.128000000000043,21.764999999999986,30.644000000000005,17.77299999999991,37.827],\"x0\":\" \",\"xaxis\":\"x\",\"y\":[\"Rest1\",\"Rest2\",\"4MW\",\"4MW-C\",\"MB1\",\"MB2a\",\"MB2b\",\"MB3-R\",\"MB3-R\",\"MB3-L\",\"MB3-L\",\"MB4\",\"MB5\",\"MB6-R\",\"MB6-L\",\"MB7\",\"MB8\",\"MB9\",\"MB10\",\"MB11\",\"MB12\",\"MB13\",\"TUG-ST\",\"TUG-ST\",\"TUG-DT\",\"TUG-DT\",\"TUG-C\",\"TUG-C\",\"Turning-ST\",\"Turning-DT\",\"Turning-C\",\"Hotspot1\",\"Hotspot1-C\",\"Hotspot2\",\"Hotspot2-C\",\"4MW\",\"4MW-C\",\"MB1\",\"MB2b\",\"MB3-L\",\"MB3-R\",\"MB4\",\"MB5\",\"MB6-R\",\"MB6-L\",\"MB7\",\"MB8\",\"MB9\",\"MB10\",\"MB11\",\"MB12\",\"MB13\",\"MB13\",\"TUG-ST\",\"TUG-ST\",\"TUG-C\",\"TUG-C\",\"TUG-DT\",\"TUG-DT\",\"Turning-ST\",\"Turning-C\",\"Turning-DT\",\"Hotspot1\",\"Hotspot1-C\",\"Hotspot2\",\"Hotspot2-C\",\"4MW\",\"4MW-C\",\"TUG-ST\",\"TUG-ST\",\"4MW-C\",\"TUG-DT\",\"TUG-DT\",\"Turning-ST\",\"Turning-DT\",\"Hotspot1\",\"Hotspot2\",\"4MW\",\"TUG-ST\",\"TUG-ST\",\"TUG-DT\",\"TUG-DT\",\"Turning-ST\",\"Turning-DT\",\"Hotspot1\",\"Hotspot2\",\"Rest1\",\"Rest2\",\"4MW\",\"4MW-C\",\"MB1\",\"MB2a\",\"MB2b\",\"MB3-L\",\"MB3-L\",\"MB3-R\",\"MB3-R\",\"MB4\",\"MB5\",\"MB6-R\",\"MB6-L\",\"MB7\",\"MB8\",\"MB9\",\"MB10\",\"MB11\",\"MB12\",\"MB13\",\"TUG-ST\",\"TUG-ST\",\"TUG-DT\",\"TUG-DT\",\"TUG-C\",\"TUG-C\",\"Turning-ST\",\"Turning-DT\",\"Turning-C\",\"Hotspot1\",\"Hotspot1-C\",\"Hotspot2\",\"Hotspot2-C\",\"4MW\",\"4MW-C\",\"TUG-ST\",\"TUG-ST\",\"TUG-DT\",\"TUG-DT\",\"Turning-ST\",\"Turning-DT\",\"Hotspot1\",\"TUG-ST\",\"TUG-ST\",\"TUG-C\",\"TUG-DT\",\"TUG-DT\",\"Turning-ST\",\"Turning-DT\",\"Hotspot1\",\"Hotspot2\",\"4MW\",\"4MW-C\",\"TUG-ST\",\"TUG-ST\",\"TUG-DT\",\"Turning-DT\",\"TUG-C\",\"TUG-C\",\"Turning-ST\",\"Turning-DT\",\"Turning-C\",\"Hotspot1\",\"Hotspot1-C\",\"Hotspot2\",\"Hotspot2-C\",\"4MW\",\"MB1\",\"MB2b\",\"MB3-L\",\"MB3-L\",\"MB3-R\",\"MB3-R\",\"MB4\",\"MB5\",\"MB6-R\",\"MB6-L\",\"MB7\",\"MB8\",\"MB9\",\"MB10\",\"MB11\",\"MB12\",\"MB13\",\"TUG-ST\",\"TUG-ST\",\"TUG-DT\",\"TUG-DT\",\"Turning-ST\",\"Turning-DT\",\"Hotspot1\",\"Hotspot2\",\"Hotspot2\",\"4MW\",\"TUG-ST\",\"TUG-ST\",\"TUG-DT\",\"TUG-DT\",\"Turning-ST\",\"Turning-DT\",\"Hotspot1\",\"Hotspot2\",\"4MW\",\"4MW-C\",\"TUG-ST\",\"TUG-ST\",\"TUG-DT\",\"TUG-DT\",\"TUG-C\",\"TUG-C\",\"Turning-ST\",\"Turning-DT\",\"Turning-C\",\"Hotspot1\",\"Hotspot1-C\",\"Hotspot2\",\"Hotspot2-C\",\"4MW\",\"MB1\",\"MB2b\",\"MB3-L\",\"MB3-L\",\"MB3-R\",\"MB3-R\",\"MB4\",\"MB5\",\"MB6-L\",\"MB6-R\",\"MB7\",\"MB8\",\"MB9\",\"MB10\",\"MB11\",\"MB12\",\"MB13\",\"TUG-ST\",\"TUG-ST\",\"TUG-DT\",\"TUG-DT\",\"Turning-ST\",\"Turning-DT\",\"4MW\",\"TUG-ST\",\"TUG-ST\",\"TUG-DT\",\"TUG-DT\",\"Turning-ST\",\"Turning-DT\",\"Hotspot1\",\"Hotspot2\",\"Rest1\",\"Rest2\",\"4MW\",\"4MW-C\",\"TUG-ST\",\"TUG-ST\",\"TUG-DT\",\"TUG-DT\",\"TUG-C\",\"TUG-C\",\"Turning-ST\",\"Turning-DT\",\"Turning-C\",\"Hotspot1\",\"Hotspot1-C\",\"Hotspot2\",\"Hotspot2-C\",\"4MW\",\"MB1\",\"MB2a\",\"MB2b\",\"MB3-R\",\"MB3-L\",\"MB3-L\",\"MB3-R\",\"MB4\",\"MB5\",\"MB6-R\",\"MB6-L\",\"MB7\",\"MB8\",\"MB9\",\"MB10\",\"MB11\",\"MB12\",\"MB13\",\"TUG-ST\",\"TUG-ST\",\"TUG-DT\",\"TUG-DT\",\"Turning-ST\",\"Turning-DT\",\"Hotspot1\",\"Hotspot2\",\"Rest1\",\"Rest2\",\"4MW\",\"4MW-C\",\"TUG-ST\",\"TUG-ST\",\"TUG-DT\",\"TUG-DT\",\"TUG-C\",\"TUG-C\",\"Turning-ST\",\"Turning-DT\",\"Turning-C\",\"Hotspot1\",\"Hotspot1-C\",\"Hotspot2\",\"Hotspot2-C\",\"Rest1\",\"Rest2\",\"4MW\",\"TUG-ST\",\"TUG-ST\",\"TUG-DT\",\"TUG-DT\",\"Turning-ST\",\"Turning-DT\",\"Hotspot1\",\"Hotspot2\",\"4MW\",\"4MW-C\",\"TUG-ST\",\"TUG-ST\",\"TUG-DT\",\"TUG-DT\",\"TUG-C\",\"TUG-C\",\"Turning-ST\",\"Turning-DT\",\"Turning-C\",\"Hotspot1\",\"Hotspot1-C\",\"Hotspot2\",\"Hotspot2-C\",\"Rest1\",\"Rest2\",\"4MW\",\"TUG-ST\",\"TUG-ST\",\"TUG-DT\",\"TUG-DT\",\"Turning-ST\",\"Turning-DT\",\"Hotspot1\",\"Hotspot2\",\"Rest1\",\"Rest2\",\"4MW\",\"4MW-C\",\"MB1\",\"MB2a\",\"MB2b\",\"MB3-R\",\"MB3-R\",\"MB3-L\",\"MB3-L\",\"MB4\",\"MB5\",\"MB6-L\",\"MB6-R\",\"MB7\",\"MB8\",\"MB9\",\"MB10\",\"MB11\",\"MB12\",\"MB13\",\"TUG-ST\",\"TUG-ST\",\"TUG-DT\",\"TUG-DT\",\"TUG-C\",\"TUG-C\",\"Turning-ST\",\"Turning-DT\",\"Turning-C\",\"Hotspot1\",\"Hotspot1-C\",\"Hotspot2\",\"Hotspot2-C\",\"Rest1\",\"Rest2\",\"4MW\",\"4MW-C\",\"MB1\",\"MB2a\",\"MB2b\",\"MB3-L\",\"MB3-L\",\"MB3-R\",\"MB3-R\",\"MB4\",\"MB5\",\"MB6-R\",\"MB6-L\",\"MB7\",\"MB8\",\"MB9\",\"MB10\",\"MB11\",\"MB12\",\"MB13\",\"TUG-ST\",\"TUG-ST\",\"TUG-DT\",\"TUG-DT\",\"TUG-C\",\"TUG-C\",\"Turning-ST\",\"Turning-DT\",\"Turning-C\",\"Hotspot1\",\"Hotspot1-C\",\"Hotspot2\",\"Hotspot2-C\",\"Rest1\",\"Rest2\",\"4MW\",\"MB1\",\"MB2a\",\"MB2b\",\"MB3-R\",\"MB3-R\",\"MB3-L\",\"MB3-L\",\"MB4\",\"MB5\",\"MB6-R\",\"MB6-L\",\"MB7\",\"MB8\",\"MB9\",\"MB10\",\"MB11\",\"MB12\",\"MB13\",\"TUG-ST\",\"TUG-ST\",\"TUG-DT\",\"TUG-DT\",\"Turning-ST\",\"Turning-DT\",\"Hotspot1\",\"Hotspot2\",\"Rest1\",\"Rest2\",\"4MW\",\"4MW-C\",\"MB1\",\"MB2a\",\"MB2b\",\"MB3-R\",\"MB3-R\",\"MB3-L\",\"MB4\",\"MB5\",\"MB5\",\"MB4\",\"MB6-L\",\"MB6-R\",\"MB7\",\"MB8\",\"MB9\",\"MB10\",\"MB11\",\"MB12\",\"MB13\",\"TUG-ST\",\"TUG-ST\",\"TUG-DT\",\"TUG-DT\",\"TUG-C\",\"TUG-C\",\"Turning-ST\",\"Turning-DT\",\"Turning-C\",\"Hotspot1\",\"Hotspot1-C\",\"Hotspot2\",\"Hotspot2-C\",\"4MW\",\"MB1\",\"MB2b\",\"MB3-R\",\"MB3-R\",\"MB3-L\",\"MB3-L\",\"MB4\",\"MB5\",\"MB6-R\",\"MB6-L\",\"MB7\",\"MB9\",\"MB10\",\"MB11\",\"MB12\",\"MB13\",\"TUG-ST\",\"TUG-ST\",\"TUG-DT\",\"TUG-DT\",\"Turning-ST\",\"Turning-DT\",\"Hotspot1\",\"Hotspot2\",\"4MW\",\"MB1\",\"MB2b\",\"MB3-R\",\"MB3-L\",\"MB3-L\",\"MB4\",\"MB4\",\"MB5\",\"MB6-L\",\"MB6-R\",\"MB7\",\"MB8\",\"MB9\",\"MB10\",\"MB11\",\"MB12\",\"MB13\",\"TUG-ST\",\"TUG-ST\",\"TUG-DT\",\"TUG-DT\",\"Turning-ST\",\"Turning-DT\",\"Hotspot1\",\"Hotspot1\",\"Hotspot2\",\"4MW\",\"4MW-C\",\"MB1\",\"MB2b\",\"MB3-L\",\"MB3-L\",\"MB3-R\",\"MB3-R\",\"MB4\",\"MB5\",\"MB6-L\",\"MB6-R\",\"MB7\",\"MB8\",\"MB9\",\"MB10\",\"MB11\",\"MB12\",\"MB13\",\"TUG-ST\",\"Turning-ST\",\"TUG-ST\",\"TUG-DT\",\"TUG-DT\",\"Turning-ST\",\"Turning-DT\",\"Turning-C\",\"Hotspot1\",\"Hotspot2\",\"4MW\",\"4MW-C\",\"MB1\",\"MB2a\",\"MB2b\",\"MB3-L\",\"MB3-L\",\"MB3-R\",\"MB3-R\",\"MB4\",\"MB5\",\"MB6-L\",\"MB6-R\",\"MB7\",\"MB8\",\"MB9\",\"MB10\",\"MB11\",\"MB12\",\"MB13\",\"TUG-ST\",\"TUG-ST\",\"TUG-DT\",\"TUG-DT\",\"TUG-C\",\"TUG-C\",\"Turning-ST\",\"Turning-DT\",\"Turning-C\",\"Hotspot1\",\"Hotspot1-C\",\"Hotspot2\",\"Hotspot2-C\",\"4MW\",\"4MW-C\",\"TUG-ST\",\"TUG-ST\",\"TUG-DT\",\"TUG-DT\",\"TUG-C\",\"TUG-C\",\"Turning-ST\",\"Turning-DT\",\"Turning-C\",\"Hotspot1\",\"Hotspot1-C\",\"Hotspot2\",\"Hotspot2-C\",\"4MW\",\"TUG-ST\",\"TUG-ST\",\"TUG-DT\",\"TUG-DT\",\"Turning-ST\",\"Turning-DT\",\"Hotspot1\",\"Hotspot2\",\"4MW\",\"TUG-ST\",\"TUG-ST\",\"TUG-DT\",\"TUG-DT\",\"Turning-ST\",\"Turning-DT\",\"Hotspot1\",\"Hotspot2\",\"Rest1\",\"Rest2\",\"4MW\",\"4MW-C\",\"TUG-ST\",\"TUG-ST\",\"TUG-DT\",\"TUG-DT\",\"TUG-C\",\"TUG-C\",\"Turning-ST\",\"Turning-DT\",\"Turning-C\",\"Hotspot1\",\"Hotspot1-C\",\"Hotspot2\",\"Hotspot2-C\",\"Rest1\",\"Rest2\",\"4MW\",\"4MW-C\",\"TUG-ST\",\"TUG-ST\",\"TUG-DT\",\"TUG-DT\",\"TUG-C\",\"TUG-C\",\"Turning-ST\",\"Turning-DT\",\"Turning-C\",\"Hotspot1\",\"Hotspot1-C\",\"Hotspot2\",\"Hotspot2-C\",\"Rest1\",\"Rest2\",\"4MW\",\"4MW-C\",\"TUG-ST\",\"TUG-ST\",\"TUG-DT\",\"TUG-DT\",\"TUG-C\",\"TUG-C\",\"Turning-ST\",\"Turning-DT\",\"Turning-C\",\"Hotspot1\",\"Hotspot1-C\",\"Hotspot2\",\"Hotspot2-C\",\"4MW\",\"MB1\",\"MB2b\",\"MB3-L\",\"MB3-L\",\"MB3-R\",\"MB4\",\"MB5\",\"MB6-L\",\"MB6-R\",\"MB7\",\"MB8\",\"MB9\",\"MB10\",\"MB11\",\"MB12\",\"MB13\",\"TUG-ST\",\"TUG-ST\",\"TUG-DT\",\"TUG-DT\",\"Turning-ST\",\"Turning-DT\",\"Turning-DT\",\"Hotspot1\",\"Hotspot2\",\"Rest1\",\"Rest2\",\"4MW\",\"4MW-C\",\"TUG-ST\",\"TUG-ST\",\"TUG-DT\",\"TUG-DT\",\"TUG-C\",\"TUG-C\",\"Turning-ST\",\"Turning-DT\",\"Turning-C\",\"Hotspot1\",\"Hotspot1-C\",\"Hotspot2\",\"Hotspot2-C\",\"Rest1\",\"Rest2\",\"4MW\",\"MB1\",\"MB2a\",\"MB2b\",\"MB3-L\",\"MB3-L\",\"MB3-R\",\"MB4\",\"MB5\",\"MB6-L\",\"MB6-R\",\"MB7\",\"MB8\",\"MB9\",\"MB10\",\"MB11\",\"MB12\",\"MB13\",\"TUG-ST\",\"TUG-ST\",\"TUG-DT\",\"TUG-DT\",\"Turning-ST\",\"Turning-DT\",\"Hotspot1\",\"Hotspot2\",\"4MW\",\"4MW-C\",\"MB1\",\"MB2a\",\"MB2b\",\"MB3-L\",\"MB3-L\",\"MB3-R\",\"MB3-R\",\"MB4\",\"MB5\",\"MB6-R\",\"MB6-L\",\"MB7\",\"MB8\",\"MB9\",\"MB10\",\"MB11\",\"MB12\",\"MB13\",\"TUG-ST\",\"TUG-ST\",\"TUG-DT\",\"TUG-DT\",\"TUG-C\",\"TUG-C\",\"Turning-ST\",\"Turning-DT\",\"Turning-C\",\"Hotspot1\",\"Hotspot1-C\",\"Hotspot2\",\"Hotspot2-C\",\"4MW\",\"TUG-ST\",\"TUG-ST\",\"TUG-DT\",\"TUG-DT\",\"Turning-ST\",\"Turning-DT\",\"Hotspot1-C\",\"Hotspot2\",\"4MW\",\"4MW-C\",\"TUG-ST\",\"TUG-ST\",\"TUG-DT\",\"TUG-DT\",\"TUG-C\",\"Turning-ST\",\"Turning-DT\",\"Turning-C\",\"Hotspot1\",\"Hotspot2\",\"Hotspot2-C\",\"4MW\",\"4MW-C\",\"MB1\",\"MB2a\",\"MB2b\",\"MB3-L\",\"MB3-L\",\"MB3-R\",\"MB3-R\",\"MB4\",\"MB5\",\"MB6-R\",\"MB6-L\",\"MB7\",\"MB8\",\"MB9\",\"MB10\",\"MB11\",\"MB12\",\"MB13\",\"TUG-ST\",\"TUG-ST\",\"TUG-DT\",\"TUG-DT\",\"TUG-C\",\"TUG-C\",\"Turning-ST\",\"Turning-DT\",\"Turning-C\",\"Hotspot1\",\"Hotspot1-C\",\"Hotspot2\",\"Hotspot2-C\",\"Rest1\",\"Rest2\",\"4MW\",\"4MW-C\",\"MB1\",\"MB2a\",\"MB2b\",\"MB3-R\",\"MB3-R\",\"MB3-L\",\"MB3-L\",\"MB4\",\"MB5\",\"MB6-L\",\"MB6-R\",\"MB7\",\"MB8\",\"MB9\",\"MB10\",\"MB11\",\"MB12\",\"MB13\",\"TUG-ST\",\"TUG-ST\",\"TUG-DT\",\"TUG-DT\",\"TUG-C\",\"TUG-C\",\"Turning-ST\",\"Turning-DT\",\"Turning-C\",\"Hotspot1\",\"Hotspot1-C\",\"Hotspot2\",\"Hotspot2-C\",\"4MW\",\"MB1\",\"MB2a\",\"MB2b\",\"MB3-R\",\"MB3-R\",\"MB3-L\",\"MB3-L\",\"MB4\",\"MB5\",\"MB6-R\",\"MB6-L\",\"MB7\",\"MB8\",\"MB9\",\"MB10\",\"MB11\",\"MB12\",\"MB13\",\"TUG-ST\",\"TUG-ST\",\"TUG-DT\",\"TUG-DT\",\"Turning-ST\",\"Turning-DT\",\"Hotspot1\",\"Hotspot2\",\"4MW\",\"MB1\",\"MB2b\",\"MB3-R\",\"MB3-R\",\"MB3-L\",\"MB3-L\",\"MB4\",\"MB5\",\"MB6\",\"MB6\",\"MB7\",\"MB8\",\"MB9\",\"MB10\",\"MB11\",\"MB12\",\"MB13\",\"TUG-ST\",\"TUG-ST\",\"TUG-DT\",\"TUG-DT\",\"Turning-ST\",\"Turning-DT\",\"Hotspot1\",\"Hotspot1\",\"Hotspot2\",\"4MW\",\"4MW-C\",\"TUG-ST\",\"TUG-ST\",\"TUG-C\",\"TUG-C\",\"TUG-DT\",\"TUG-DT\",\"Turning-ST\",\"Turning-C\",\"Turning-DT\",\"Hotspot1\",\"Hotspot1-C\",\"Hotspot2\",\"Hotspot2-C\",\"4MW\",\"TUG-ST\",\"TUG-ST\",\"TUG-DT\",\"TUG-DT\",\"Turning-ST\",\"Turning-DT\",\"Hotspot1\",\"Hotspot2\",\"4MW\",\"4MW-C\",\"TUG-ST\",\"TUG-ST\",\"TUG-DT\",\"TUG-DT\",\"TUG-C\",\"TUG-C\",\"Turning-ST\",\"Turning-DT\",\"Turning-C\",\"Hotspot1\",\"Hotspot1-C\",\"Hotspot2\",\"Hotspot2-C\",\"4MW\",\"TUG-ST\",\"TUG-ST\",\"TUG-DT\",\"TUG-DT\",\"Turning-ST\",\"Turning-DT\",\"MB10\",\"MB11\",\"MB12\",\"MB13\",\"TUG-ST\",\"TUG-ST\",\"TUG-DT\",\"TUG-DT\",\"Rest1\",\"Rest2\",\"4MW\",\"TUG-ST\",\"TUG-ST\",\"TUG-DT\",\"TUG-DT\",\"Turning-ST\",\"Turning-DT\",\"Hotspot1\",\"Hotspot2\",\"4MW\",\"4MW\",\"TUG-ST\",\"TUG-ST\",\"TUG-DT\",\"TUG-DT\",\"Turning-ST\",\"Turning-DT\",\"4MW\",\"4MW-C\",\"MB1\",\"MB2b\",\"MB3-L\",\"MB3-R\",\"MB3-R\",\"MB4\",\"MB5\",\"MB6-R\",\"MB6-L\",\"MB7\",\"MB8\",\"MB9\",\"MB10\",\"MB11\",\"MB12\",\"MB13\",\"TUG-ST\",\"TUG-ST\",\"TUG-C\",\"TUG-C\",\"TUG-DT\",\"TUG-DT\",\"Turning-ST\",\"Turning-DT\",\"Turning-C\",\"Hotspot1\",\"Hotspot1-C\",\"Hotspot2\",\"Hotspot2-C\",\"Rest1\",\"Rest2\",\"4MW\",\"TUG-ST\",\"TUG-ST\",\"TUG-DT\",\"TUG-DT\",\"Turning-ST\",\"Turning-DT\",\"Hotspot1\",\"Hotspot2\",\"4MW\",\"TUG-ST\",\"TUG-ST\",\"TUG-DT\",\"TUG-DT\",\"Turning-ST\",\"Turning-DT\",\"Hotspot1\",\"Hotspot2\",\"4MW\",\"4MW-C\",\"TUG-ST\",\"TUG-ST\",\"TUG-DT\",\"TUG-DT\",\"TUG-C\",\"TUG-C\",\"Turning-ST\",\"Turning-DT\",\"Turning-C\",\"Hotspot1\",\"Hotspot1-C\",\"Hotspot2\",\"Hotspot2-C\",\"Rest1\",\"Rest2\",\"4MW\",\"4MW-C\",\"TUG-ST\",\"TUG-ST\",\"TUG-DT\",\"TUG-DT\",\"TUG-C\",\"TUG-C\",\"Turning-ST\",\"Rest1\",\"Rest2\",\"4MW\",\"MB1\",\"MB2a\",\"MB2b\",\"MB3-R\",\"MB3-R\",\"MB3-L\",\"MB3-L\",\"MB4\",\"MB5\",\"MB6-R\",\"MB6-L\",\"MB7\",\"MB8\",\"MB9\",\"MB10\",\"MB11\",\"MB12\",\"MB13\",\"TUG-ST\",\"TUG-ST\",\"TUG-DT\",\"TUG-DT\",\"Turning-ST\",\"Turning-DT\",\"Hotspot1\",\"Hotspot2\",\"4MW\",\"TUG-ST\",\"TUG-ST\",\"TUG-DT\",\"TUG-DT\",\"Turning-ST\",\"Turning-DT\",\"Hotspot1\",\"Hotspot2\",\"4MW\",\"TUG-ST\",\"TUG-ST\",\"TUG-DT\",\"Turning-DT\",\"Turning-ST\",\"Turning-DT\",\"Hotspot1\",\"Hotspot2\",\"Hotspot2\",\"Rest1\",\"Rest2\",\"4MW\",\"4MW-C\",\"TUG-ST\",\"TUG-ST\",\"TUG-DT\",\"TUG-DT\",\"TUG-C\",\"TUG-C\",\"Turning-ST\",\"Turning-DT\",\"Turning-C\",\"Hotspot1\",\"Hotspot1-C\",\"Hotspot2\",\"Hotspot2-C\",\"4MW\",\"TUG-ST\",\"TUG-ST\",\"TUG-DT\",\"TUG-DT\",\"Turning-ST\",\"Turning-DT\",\"Hotspot1\",\"Hotspot2\",\"Rest1\",\"Rest2\",\"4MW\",\"4MW-C\",\"MB1\",\"MB2a\",\"MB2b\",\"MB3-R\",\"MB3-R\",\"MB3-L\",\"MB3-L\",\"MB4\",\"MB5\",\"MB6-R\",\"MB6-L\",\"MB7\",\"MB8\",\"MB9\",\"MB10\",\"MB11\",\"MB12\",\"MB13\",\"TUG-ST\",\"TUG-ST\",\"TUG-DT\",\"TUG-DT\",\"TUG-C\",\"TUG-C\",\"Turning-ST\",\"Turning-DT\",\"Turning-C\",\"Hotspot1\",\"Hotspot1-C\",\"Hotspot2\",\"Hotspot2-C\",\"4MW\",\"4MW-C\",\"TUG-ST\",\"TUG-ST\",\"4MW-C\",\"TUG-DT\",\"TUG-DT\",\"Turning-ST\",\"Turning-DT\",\"Turning-C\",\"Hotspot1\",\"Hotspot1-C\",\"Hotspot2\",\"Hotspot2-C\",\"Rest1\",\"Rest2\",\"4MW\",\"MB1\",\"MB2a\",\"MB2b\",\"MB3-R\",\"MB3-R\",\"MB3-L\",\"MB3-L\",\"MB4\",\"MB5\",\"MB6-L\",\"MB6-R\",\"MB7\",\"MB8\",\"MB9\",\"MB10\",\"MB11\",\"MB12\",\"MB13\",\"TUG-ST\",\"TUG-ST\",\"TUG-DT\",\"TUG-DT\",\"Turning-ST\",\"Turning-DT\",\"Hotspot1\",\"Hotspot2\",\"4MW\",\"4MW\",\"MB1\",\"MB2b\",\"MB3-L\",\"MB3-L\",\"MB3-R\",\"MB3-R\",\"MB4\",\"MB5\",\"MB6-L\",\"MB6-R\",\"MB7\",\"MB8\",\"MB9\",\"MB10\",\"MB11\",\"MB12\",\"MB13\",\"TUG-ST\",\"TUG-ST\",\"TUG-DT\",\"TUG-DT\",\"Turning-ST\",\"Turning-DT\",\"Hotspot1\",\"Hotspot2\",\"4MW\",\"TUG-ST\",\"TUG-ST\",\"TUG-DT\",\"Turning-ST\",\"Turning-DT\",\"Hotspot1\",\"Hotspot2\",\"4MW\",\"MB1\",\"MB1\",\"MB2b\",\"MB3-L\",\"MB3-L\",\"MB3-R\",\"MB3-R\",\"MB4\",\"MB5\",\"MB6-R\",\"MB6-L\",\"MB7\",\"MB8\",\"MB9\",\"MB10\",\"MB11\",\"MB12\",\"MB13\",\"TUG-ST\",\"TUG-ST\",\"TUG-DT\",\"TUG-DT\",\"Turning-ST\",\"Turning-DT\",\"Hotspot1\",\"Hotspot2\",\"Rest1\",\"Rest2\",\"4MW\",\"4MW-C\",\"TUG-ST\",\"TUG-ST\",\"TUG-DT\",\"TUG-DT\",\"TUG-C\",\"TUG-C\",\"Turning-ST\",\"Turning-DT\",\"Turning-C\",\"Hotspot1\",\"Hotspot1-C\",\"Hotspot2\",\"Hotspot2-C\",\"Rest1\",\"Rest2\",\"4MW\",\"4MW-C\",\"MB1\",\"MB2a\",\"MB2b\",\"MB3-R\",\"MB3-R\",\"MB3-L\",\"MB3-L\",\"MB4\",\"MB5\",\"MB6-L\",\"MB6-R\",\"MB7\",\"MB8\",\"MB9\",\"MB10\",\"MB11\",\"MB12\",\"MB13\",\"TUG-ST\",\"TUG-ST\",\"TUG-DT\",\"TUG-DT\",\"TUG-C\",\"TUG-C\",\"Turning-ST\",\"Turning-DT\",\"Turning-C\",\"Hotspot1\",\"Hotspot1-C\",\"Hotspot2\",\"Hotspot2-C\",\"4MW\",\"MB1\",\"MB2a\",\"MB2b\",\"MB3-L\",\"MB3-L\",\"MB3-R\",\"MB3-R\",\"MB4\",\"MB5\",\"MB6-L\",\"MB6-R\",\"MB7\",\"MB8\",\"MB9\",\"MB10\",\"MB11\",\"MB12\",\"MB13\",\"TUG-ST\",\"TUG-ST\",\"TUG-DT\",\"TUG-DT\",\"Turning-ST\",\"Turning-DT\",\"Hotspot1\",\"Hotspot2\",\"Rest1\",\"Rest2\",\"4MW\",\"MB1\",\"MB2a\",\"MB2b\",\"MB3-L\",\"MB3-L\",\"MB3-R\",\"MB3-R\",\"MB4\",\"MB5\",\"MB6-L\",\"MB6-R\",\"MB7\",\"MB8\",\"MB9\",\"MB10\",\"MB11\",\"MB12\",\"MB13\",\"TUG-ST\",\"TUG-ST\",\"TUG-DT\",\"TUG-DT\",\"Turning-ST\",\"Turning-DT\",\"Hotspot1\",\"Hotspot2\",\"4MW\",\"TUG-ST\",\"TUG-ST\",\"TUG-DT\",\"TUG-DT\",\"Turning-ST\",\"Turning-DT\",\"Hotspot1\",\"Hotspot2\",\"4MW\",\"4MW-C\",\"TUG-ST\",\"TUG-ST\",\"TUG-DT\",\"TUG-DT\",\"TUG-C\",\"TUG-C\",\"Turning-ST\",\"Turning-DT\",\"Turning-C\",\"Hotspot1\",\"Hotspot1-C\",\"Hotspot2\",\"Hotspot2-C\",\"4MW\",\"MB1\",\"MB2b\",\"MB3-L\",\"MB3-R\",\"MB4\",\"MB5\",\"MB6-R\",\"MB6-L\",\"MB7\",\"MB8\",\"MB9\",\"MB10\",\"MB11\",\"MB12\",\"MB13\",\"TUG-ST\",\"TUG-ST\",\"TUG-DT\",\"TUG-DT\",\"Turning-ST\",\"Turning-DT\",\"Hotspot1\",\"Hotspot2\",\"Rest1\",\"Rest2\",\"4MW\",\"4MW-C\",\"TUG-ST\",\"TUG-ST\",\"TUG-DT\",\"TUG-DT\",\"TUG-C\",\"TUG-C\",\"Turning-ST\",\"Turning-DT\",\"Turning-C\",\"Hotspot1\",\"Hotspot1-C\",\"Hotspot2\",\"Hotspot2-C\",\"4MW\",\"4MW\",\"MB1\",\"MB1\",\"MB2b\",\"MB3-L\",\"MB3-L\",\"MB3-R\",\"MB3-R\",\"MB4\",\"MB5\",\"MB6-R\",\"MB6-L\",\"MB7\",\"MB8\",\"MB9\",\"MB10\",\"MB11\",\"MB12\",\"MB12\",\"MB12\",\"MB13\",\"TUG-ST\",\"TUG-ST\",\"TUG-DT\",\"TUG-DT\",\"Hotspot1\",\"Hotspot2\",\"4MW\",\"MB1\",\"MB2b\",\"MB2b\",\"MB3-L\",\"MB3-L\",\"MB3-R\",\"MB3-R\",\"MB3-R\",\"MB3-R\",\"MB4\",\"MB5\",\"MB6-L\",\"MB6-R\",\"MB7\",\"MB8\",\"MB9\",\"MB10\",\"MB11\",\"MB12\",\"MB13\",\"TUG-ST\",\"TUG-ST\",\"TUG-DT\",\"Turning-ST\",\"Turning-DT\",\"Hotspot1\",\"Hotspot2\",\"4MW\",\"4MW-C\",\"MB1\",\"MB2a\",\"MB2b\",\"MB3-R\",\"MB3-R\",\"MB3-L\",\"MB3-L\",\"MB4\",\"MB5\",\"MB6-L\",\"MB6-R\",\"MB8\",\"MB9\",\"MB7\",\"MB10\",\"MB11\",\"MB12\",\"MB13\",\"TUG-ST\",\"TUG-ST\",\"TUG-DT\",\"TUG-DT\",\"TUG-C\",\"TUG-C\",\"Turning-ST\",\"Turning-DT\",\"Turning-C\",\"Hotspot1\",\"Hotspot1-C\",\"Hotspot2\",\"Hotspot2-C\",\"4MW\",\"TUG-ST\",\"TUG-ST\",\"TUG-DT\",\"TUG-DT\",\"Turning-ST\",\"4MW\",\"MB1\",\"MB2a\",\"MB2b\",\"MB3-L\",\"MB3-L\",\"MB3-R\",\"MB3-R\",\"MB4\",\"MB5\",\"MB6\",\"MB6\",\"MB7\",\"MB8\",\"MB9\",\"MB10\",\"MB11\",\"MB13\",\"MB12\",\"TUG-ST\",\"TUG-ST\",\"TUG-DT\",\"TUG-DT\",\"Turning-ST\",\"Turning-DT\",\"Hotspot1\",\"Hotspot2\",\"Rest1\",\"Rest2\",\"4MW\",\"4MW-C\",\"TUG-ST\",\"TUG-ST\",\"TUG-DT\",\"TUG-DT\",\"TUG-C\",\"TUG-C\",\"Turning-ST\",\"Turning-DT\",\"Turning-C\",\"Hotspot1\",\"Hotspot1-C\",\"Hotspot2\",\"Hotspot2-C\",\"Rest1\",\"Rest2\",\"4MW\",\"TUG-ST\",\"TUG-ST\",\"TUG-DT\",\"TUG-DT\",\"Turning-ST\",\"Turning-DT\",\"Hotspot1\",\"Hotspot2\",\"TUG-ST\",\"TUG-ST\",\"TUG-DT\",\"TUG-DT\",\"Turning-ST\",\"Turning-DT\",\"Hotspot1\",\"Hotspot2\",\"Rest1\",\"Rest2\",\"4MW\",\"TUG-ST\",\"TUG-ST\",\"TUG-DT\",\"TUG-DT\",\"Turning-ST\",\"Turning-DT\",\"Hotspot1\",\"Hotspot2\",\"Rest1\",\"Rest2\",\"4MW\",\"4MW-C\",\"TUG-ST\",\"TUG-ST\",\"TUG-DT\",\"TUG-DT\",\"TUG-C\",\"TUG-C\",\"Turning-ST\",\"Turning-DT\",\"Turning-C\",\"Hotspot1\",\"Hotspot1-C\",\"Hotspot2\",\"Hotspot2-C\",\"Rest1\",\"Rest2\",\"4MW\",\"4MW-C\",\"TUG-ST\",\"TUG-ST\",\"TUG-ST\",\"TUG-DT\",\"TUG-DT\",\"TUG-C\",\"TUG-C\",\"Turning-ST\",\"Turning-DT\",\"Turning-C\",\"Hotspot1\",\"Hotspot1-C\",\"Hotspot2\",\"Hotspot2-C\",\"4MW\",\"TUG-ST\",\"TUG-ST\",\"TUG-ST\",\"TUG-DT\",\"TUG-DT\",\"Turning-ST\",\"Hotspot1\",\"Hotspot2\",\"4MW\",\"4MW-C\",\"MB1\",\"MB2b\",\"MB2b\",\"MB3-R\",\"MB3-R\",\"MB3-L\",\"MB3-L\",\"MB4\",\"MB5\",\"MB6-R\",\"MB6-L\",\"MB7\",\"MB8\",\"MB9\",\"MB10\",\"MB11\",\"MB12\",\"MB13\",\"TUG-ST\",\"TUG-ST\",\"TUG-DT\",\"TUG-DT\",\"TUG-C\",\"TUG-C\",\"Turning-ST\",\"Turning-DT\",\"Turning-C\",\"Hotspot1\",\"Hotspot1-C\",\"Hotspot2\",\"Hotspot2-C\",\"4MW\",\"4MW-C\",\"TUG-ST\",\"TUG-ST\",\"TUG-C\",\"TUG-DT\",\"TUG-DT\",\"Turning-ST\",\"Turning-C\",\"Turning-DT\",\"Hotspot1\",\"Hotspot1-C\",\"Hotspot2\",\"Hotspot2-C\",\"4MW\",\"MB1\",\"MB2b\",\"MB3-L\",\"MB3-L\",\"MB3-R\",\"MB3-R\",\"MB4\",\"MB5\",\"MB6-R\",\"MB6-L\",\"MB6-L\",\"MB7\",\"MB8\",\"MB9\",\"MB10\",\"MB11\",\"MB12\",\"MB13\",\"TUG-ST\",\"TUG-ST\",\"TUG-ST\",\"TUG-DT\",\"TUG-DT\",\"Turning-ST\",\"Turning-DT\",\"Hotspot1\",\"Hotspot2\",\"4MW\",\"4MW-C\",\"MB1\",\"MB2a\",\"MB2b\",\"MB3-L\",\"MB3-L\",\"MB3-R\",\"MB3-R\",\"MB4\",\"MB5\",\"MB6-L\",\"MB6-R\",\"MB7\",\"MB8\",\"MB9\",\"MB10\",\"MB11\",\"MB12\",\"MB13\",\"TUG-ST\",\"TUG-ST\",\"TUG-DT\",\"TUG-DT\",\"TUG-C\",\"TUG-C\",\"Turning-ST\",\"Turning-DT\",\"Turning-C\",\"Hotspot1\",\"Hotspot1-C\",\"Hotspot2\",\"Hotspot2-C\",\"4MW\",\"4MW-C\",\"TUG-ST\",\"TUG-ST\",\"TUG-C\",\"TUG-DT\",\"TUG-DT\",\"Turning-ST\",\"Turning-DT\",\"Turning-C\",\"Hotspot1\",\"Hotspot2\",\"4MW\",\"TUG-ST\",\"TUG-ST\",\"TUG-DT\",\"TUG-DT\",\"Turning-ST\",\"Turning-DT\",\"Hotspot1\",\"Hotspot2\",\"4MW\",\"4MW-C\",\"MB1\",\"MB2a\",\"MB2b\",\"MB3-R\",\"MB3-R\",\"MB3-L\",\"MB3-L\",\"MB4\",\"MB5\",\"MB7\",\"MB8\",\"MB9\",\"MB10\",\"MB11\",\"MB12\",\"MB13\",\"TUG-ST\",\"TUG-ST\",\"TUG-DT\",\"TUG-DT\",\"TUG-C\",\"TUG-C\",\"Turning-ST\",\"Turning-DT\",\"Turning-C\",\"Hotspot1\",\"Hotspot1-C\",\"Hotspot2\",\"Hotspot2-C\",\"4MW\",\"TUG-ST\",\"TUG-ST\",\"Turning-DT\",\"TUG-DT\",\"Turning-ST\",\"Turning-DT\",\"Hotspot1\",\"Hotspot2\",\"4MW\",\"4MW-C\",\"MB1\",\"MB2a\",\"MB2b\",\"MB3-R\",\"MB3-R\",\"MB3-L\",\"MB3-L\",\"MB4\",\"MB5\",\"MB6-L\",\"MB6-R\",\"MB7\",\"MB8\",\"MB9\",\"MB10\",\"MB10\",\"MB11\",\"MB12\",\"MB13\",\"TUG-ST\",\"TUG-ST\",\"TUG-DT\",\"TUG-DT\",\"TUG-C\",\"TUG-C\",\"Turning-ST\",\"Turning-DT\",\"Turning-C\",\"Hotspot1\",\"Hotspot1-C\",\"Hotspot2\",\"Hotspot2-C\",\"4MW\",\"MB1\",\"MB2b\",\"MB3-L\",\"MB3-R\",\"MB3-L\",\"MB3-R\",\"MB4\",\"MB4\",\"MB5\",\"MB6-R\",\"MB6-L\",\"MB7\",\"MB8\",\"MB9\",\"MB10\",\"MB11\",\"MB11\",\"MB12\",\"MB13\",\"TUG-ST\",\"TUG-ST\",\"TUG-DT\",\"TUG-DT\",\"Turning-ST\",\"Turning-DT\",\"Hotspot1\",\"Hotspot2\",\"4MW\",\"4MW-C\",\"MB1\",\"MB2a\",\"MB2b\",\"MB3-R\",\"MB3-R\",\"MB3-L\",\"MB4\",\"MB5\",\"MB6-R\",\"MB6-L\",\"MB7\",\"MB8\",\"MB9\",\"MB10\",\"MB11\",\"MB12\",\"MB13\",\"TUG-ST\",\"TUG-ST\",\"TUG-DT\",\"TUG-DT\",\"TUG-C\",\"TUG-C\",\"Turning-ST\",\"Turning-DT\",\"Turning-C\",\"Hotspot1\",\"Hotspot1-C\",\"Hotspot2\",\"Hotspot2-C\",\"4MW\",\"4MW-C\",\"MB1\",\"MB2a\",\"MB2b\",\"MB3-R\",\"MB3-R\",\"MB3-L\",\"MB3-L\",\"MB4\",\"MB5\",\"MB6-L\",\"MB6-R\",\"MB7\",\"MB8\",\"MB9\",\"MB10\",\"MB11\",\"MB12\",\"MB13\",\"TUG-ST\",\"TUG-ST\",\"TUG-DT\",\"TUG-DT\",\"TUG-C\",\"TUG-C\",\"Turning-ST\",\"Turning-DT\",\"Turning-C\",\"Hotspot1\",\"Hotspot1-C\",\"Hotspot2\",\"Hotspot2-C\",\"Rest1\",\"Rest1\",\"Rest2\",\"4MW\",\"4MW-C\",\"MB1\",\"MB2a\",\"MB2b\",\"MB3-L\",\"MB3-L\",\"MB3-R\",\"MB3-R\",\"MB4\",\"MB5\",\"MB6-L\",\"MB6-R\",\"MB7\",\"MB8\",\"MB9\",\"MB10\",\"MB11\",\"MB12\",\"MB13\",\"TUG-ST\",\"TUG-ST\",\"TUG-DT\",\"TUG-DT\",\"TUG-C\",\"TUG-C\",\"Turning-ST\",\"Turning-DT\",\"Turning-C\",\"Hotspot1\",\"Hotspot1-C\",\"Hotspot2\",\"Hotspot2-C\",\"Rest1\",\"Rest2\",\"4MW\",\"MB1\",\"MB2a\",\"MB2b\",\"MB3-R\",\"MB3-R\",\"MB3-L\",\"MB3-L\",\"MB4\",\"MB5\",\"MB6-L\",\"MB6-R\",\"MB7\",\"MB8\",\"MB9\",\"MB10\",\"MB11\",\"MB12\",\"MB13\",\"TUG-ST\",\"TUG-ST\",\"TUG-DT\",\"TUG-DT\",\"Turning-ST\",\"Turning-DT\",\"Hotspot1\",\"Hotspot2\",\"4MW\",\"4MW\",\"TUG-ST\",\"TUG-ST\",\"TUG-DT\",\"TUG-DT\",\"Turning-ST\",\"Turning-DT\",\"Hotspot1\",\"Hotspot2\",\"Rest1\",\"Rest2\",\"4MW\",\"4MW-C\",\"MB1\",\"MB2a\",\"MB2b\",\"MB3-R\",\"MB3-R\",\"MB3-L\",\"MB3-L\",\"MB5\",\"MB6-R\",\"MB6-L\",\"MB4\",\"MB7\",\"MB8\",\"MB9\",\"MB10\",\"MB11\",\"MB12\",\"MB13\",\"TUG-ST\",\"TUG-ST\",\"TUG-DT\",\"TUG-DT\",\"TUG-C\",\"TUG-C\",\"Turning-ST\",\"Turning-DT\",\"Turning-C\",\"Hotspot1\",\"Hotspot1-C\",\"Hotspot2\",\"Hotspot2-C\",\"Rest1\",\"Rest2\",\"4MW\",\"4MW-C\",\"MB1\",\"MB2a\",\"MB2b\",\"MB3-L\",\"MB3-L\",\"MB3-R\",\"MB4\",\"MB5\",\"MB6-L\",\"MB6-R\",\"MB7\",\"MB8\",\"MB9\",\"MB10\",\"MB11\",\"MB12\",\"MB13\",\"TUG-ST\",\"TUG-ST\",\"TUG-DT\",\"TUG-DT\",\"TUG-C\",\"TUG-C\",\"Turning-ST\",\"Turning-DT\",\"Turning-C\",\"Hotspot1\",\"Hotspot1-C\",\"Hotspot2\",\"Hotspot2-C\",\"4MW\",\"TUG-ST\",\"TUG-ST\",\"TUG-DT\",\"TUG-DT\",\"Turning-ST\",\"Turning-DT\",\"Hotspot1\",\"Hotspot2\",\"TUG-ST\",\"TUG-ST\",\"TUG-DT\",\"TUG-DT\",\"TUG-C\",\"TUG-C\",\"Turning-ST\",\"Turning-DT\",\"Turning-C\",\"Hotspot1\",\"Hotspot1-C\",\"Hotspot2\",\"Hotspot2-C\",\"4MW\",\"4MW-C\",\"TUG-ST\",\"TUG-ST\",\"TUG-DT\",\"TUG-DT\",\"TUG-C\",\"TUG-C\",\"Turning-ST\",\"Turning-DT\",\"Turning-C\",\"Hotspot1\",\"Hotspot1-C\",\"Hotspot2\",\"Hotspot2-C\",\"Rest1\",\"Rest2\",\"4MW\",\"MB1\",\"MB2a\",\"MB2b\",\"MB3-L\",\"MB3-L\",\"MB3-R\",\"MB3-R\",\"MB4\",\"MB5\",\"MB6-R\",\"MB6-L\",\"MB7\",\"MB8\",\"MB9\",\"MB10\",\"MB11\",\"MB12\",\"MB12\",\"MB13\",\"TUG-ST\",\"TUG-ST\",\"TUG-DT\",\"TUG-DT\",\"Turning-ST\",\"Turning-DT\",\"Hotspot1\",\"Hotspot2\",\"4MW\",\"4MW-C\",\"MB1\",\"MB2b\",\"MB3-L\",\"MB3-L\",\"MB3-R\",\"MB3-R\",\"MB4\",\"MB5\",\"MB6-R\",\"MB6-L\",\"MB7\",\"MB8\",\"MB9\",\"MB10\",\"MB11\",\"MB12\",\"MB13\",\"TUG-ST\",\"TUG-ST\",\"TUG-DT\",\"TUG-DT\",\"TUG-C\",\"TUG-C\",\"Turning-ST\",\"Turning-DT\",\"Turning-C\",\"Hotspot1\",\"Hotspot1-C\",\"Hotspot2\",\"Hotspot2-C\",\"4MW\",\"MB1\",\"MB2a\",\"MB2b\",\"MB3-R\",\"MB3-R\",\"MB3-L\",\"MB4\",\"MB5\",\"MB6-L\",\"MB6-R\",\"MB7\",\"MB8\",\"MB9\",\"MB10\",\"MB11\",\"MB12\",\"MB13\",\"TUG-ST\",\"TUG-ST\",\"TUG-DT\",\"TUG-DT\",\"Turning-ST\",\"Turning-DT\",\"Hotspot1\",\"Hotspot2\",\"4MW\",\"MB1\",\"MB2b\",\"MB3-R\",\"MB3-R\",\"MB3-L\",\"MB3-L\",\"MB4\",\"MB5\",\"MB6-R\",\"MB6-L\",\"MB7\",\"MB8\",\"MB9\",\"MB10\",\"MB11\",\"MB12\",\"MB13\",\"MB13\",\"TUG-ST\",\"TUG-ST\",\"TUG-DT\",\"TUG-DT\",\"Turning-ST\",\"Turning-DT\",\"Rest1\",\"Rest2\",\"4MW\",\"TUG-ST\",\"TUG-ST\",\"TUG-DT\",\"TUG-DT\",\"Turning-ST\",\"Turning-DT\",\"Hotspot1\",\"Hotspot2\",\"4MW\",\"TUG-ST\",\"TUG-ST\",\"TUG-DT\",\"TUG-DT\",\"Turning-ST\",\"Turning-DT\",\"Hotspot1\",\"Hotspot2\",\"4MW\",\"4MW-C\",\"MB1\",\"MB2a\",\"MB2b\",\"MB3-L\",\"MB3-R\",\"MB4\",\"MB5\",\"MB6-L\",\"MB6-R\",\"MB7\",\"MB8\",\"MB9\",\"MB10\",\"MB12\",\"MB12\",\"MB13\",\"TUG-ST\",\"TUG-ST\",\"TUG-DT\",\"TUG-DT\",\"TUG-C\",\"TUG-C\",\"Turning-ST\",\"Turning-DT\",\"Turning-C\",\"Hotspot1\",\"Hotspot1-C\",\"Hotspot2\",\"Hotspot2-C\",\"Rest1\",\"Rest2\",\"4MW\",\"4MW-C\",\"MB1\",\"MB2a\",\"MB2b\",\"MB3-L\",\"MB3-R\",\"MB3-R\",\"MB4\",\"MB5\",\"MB6-R\",\"MB6-L\",\"MB7\",\"MB8\",\"MB8\",\"MB9\",\"MB11\",\"MB11\",\"MB12\",\"MB13\",\"TUG-ST\",\"TUG-ST\",\"TUG-DT\",\"TUG-DT\",\"TUG-C\",\"TUG-C\",\"Turning-ST\",\"Turning-DT\",\"Turning-C\",\"Hotspot1\",\"Hotspot1-C\",\"Hotspot2\",\"Hotspot2-C\",\"4MW\",\"MB1\",\"MB2a\",\"MB3-R\",\"MB3-R\",\"MB3-L\",\"MB3-L\",\"MB4\",\"MB5\",\"MB6\",\"MB6\",\"MB7\",\"MB8\",\"MB9\",\"MB10\",\"MB11\",\"MB12\",\"MB13\",\"TUG-ST\",\"TUG-ST\",\"TUG-ST\",\"TUG-DT\",\"TUG-DT\",\"Turning-ST\",\"Turning-ST\",\"Turning-DT\",\"Hotspot1\",\"Hotspot1\",\"Hotspot2\",\"Rest1\",\"Rest2\",\"4MW\",\"TUG-ST\",\"TUG-ST\",\"TUG-DT\",\"TUG-DT\",\"Turning-ST\",\"Turning-DT\",\"Hotspot1\",\"Hotspot1-C\",\"Hotspot2\",\"Hotspot2-C\",\"4MW-C\",\"TUG-C\",\"TUG-C\",\"Turning-C\",\"MB1\",\"MB2a\",\"MB2b\",\"MB3-R\",\"MB3-R\",\"MB3-L\",\"MB3-L\",\"MB4\",\"MB5\",\"MB6-L\",\"MB6-R\",\"MB7\",\"MB8\",\"MB9\",\"MB10\",\"MB11\",\"MB12\",\"MB13\",\"4MW\",\"MB1\",\"MB2b\",\"MB3-L\",\"MB3-R\",\"MB3-L\",\"MB3-R\",\"MB3-R\",\"MB4\",\"MB5\",\"MB6-R\",\"MB6-L\",\"MB7\",\"MB8\",\"MB9\",\"MB10\",\"MB11\",\"MB12\",\"MB13\",\"TUG-ST\",\"TUG-ST\",\"TUG-DT\",\"TUG-DT\",\"TUG-C\",\"Turning-ST\",\"Turning-DT\",\"Turning-C\",\"Hotspot1-C\",\"Hotspot1\",\"Hotspot2\",\"Hotspot2-C\",\"Rest1\",\"Rest2\",\"4MW\",\"MB1\",\"MB2a\",\"MB2b\",\"MB3-R\",\"MB3-R\",\"MB3-L\",\"MB3-L\",\"MB4\",\"MB5\",\"MB6-L\",\"MB6-R\",\"MB7\",\"MB8\",\"MB9\",\"MB10\",\"MB11\",\"MB12\",\"MB13\",\"TUG-ST\",\"TUG-ST\",\"TUG-DT\",\"TUG-DT\",\"Turning-ST\",\"Turning-DT\",\"Hotspot1\",\"Hotspot2\",\"Rest1\",\"Rest2\",\"4MW\",\"MB1\",\"MB2a\",\"MB2b\",\"MB3-L\",\"MB3-L\",\"MB3-R\",\"MB3-R\",\"MB4\",\"MB5\",\"MB6-L\",\"MB6-R\",\"MB7\",\"MB8\",\"MB9\",\"MB10\",\"MB11\",\"MB12\",\"MB13\",\"TUG-ST\",\"TUG-ST\",\"TUG-DT\",\"TUG-DT\",\"Turning-ST\",\"Turning-DT\",\"Hotspot1\",\"Hotspot2\",\"4MW\",\"TUG-ST\",\"TUG-ST\",\"TUG-DT\",\"TUG-DT\",\"Turning-ST\",\"Turning-DT\",\"Hotspot1\",\"Hotspot2\",\"4MW\",\"4MW-C\",\"MB1\",\"MB2a\",\"MB2b\",\"MB3-R\",\"MB3-R\",\"MB3-L\",\"MB3-L\",\"MB4\",\"MB5\",\"MB6-L\",\"MB6-R\",\"MB7\",\"MB8\",\"MB9\",\"MB10\",\"MB11\",\"MB12\",\"MB13\",\"TUG-ST\",\"TUG-ST\",\"TUG-DT\",\"TUG-DT\",\"TUG-C\",\"TUG-C\",\"Turning-ST\",\"Turning-DT\",\"Turning-C\",\"Hotspot1\",\"Hotspot1-C\",\"Hotspot2\",\"Hotspot2-C\",\"4MW\",\"4MW-C\",\"TUG-ST\",\"TUG-ST\",\"TUG-DT\",\"TUG-DT\",\"TUG-C\",\"TUG-C\",\"Turning-ST\",\"Turning-DT\",\"Turning-C\",\"Hotspot1\",\"Hotspot1-C\",\"Hotspot2\",\"Hotspot2-C\",\"Rest1\",\"Rest2\",\"4MW\",\"TUG-ST\",\"TUG-ST\",\"TUG-DT\",\"TUG-DT\",\"Turning-ST\",\"Turning-DT\",\"Hotspot1\",\"Hotspot2\",\"4MW\",\"4MW-C\",\"MB1\",\"MB2b\",\"MB3-L\",\"MB3-R\",\"MB4\",\"MB5\",\"MB6-R\",\"MB6-L\",\"MB7\",\"MB8\",\"MB9\",\"MB10\",\"MB11\",\"MB12\",\"MB13\",\"TUG-ST\",\"TUG-ST\",\"Turning-DT\",\"TUG-DT\",\"TUG-C\",\"TUG-C\",\"Turning-ST\",\"Turning-DT\",\"4MW\",\"4MW-C\",\"TUG-ST\",\"TUG-ST\",\"TUG-DT\",\"TUG-DT\",\"TUG-C\",\"TUG-C\",\"Turning-ST\",\"Turning-DT\",\"Turning-C\",\"Hotspot1\",\"Hotspot1-C\",\"Hotspot2\",\"Hotspot2-C\",\"4MW\",\"4MW-C\",\"TUG-ST\",\"TUG-DT\",\"TUG-ST\",\"TUG-DT\",\"TUG-C\",\"TUG-C\",\"Turning-ST\",\"Turning-DT\",\"Turning-C\",\"Hotspot1\",\"Hotspot1-C\",\"Hotspot2\",\"Hotspot2-C\",\"Rest1\",\"Rest2\",\"4MW\",\"4MW-C\",\"MB1\",\"MB2a\",\"MB2b\",\"MB3-R\",\"MB3-R\",\"MB3-L\",\"MB3-L\",\"MB4\",\"MB5\",\"MB6-R\",\"MB6-L\",\"MB7\",\"MB8\",\"MB9\",\"MB10\",\"MB11\",\"MB12\",\"MB13\",\"TUG-ST\",\"TUG-ST\",\"TUG-DT\",\"TUG-DT\",\"TUG-C\",\"TUG-C\",\"Turning-ST\",\"Turning-DT\",\"Turning-C\",\"Hotspot1\",\"Hotspot1-C\",\"Hotspot2\",\"Hotspot2-C\",\"4MW\",\"TUG-ST\",\"TUG-ST\",\"TUG-DT\",\"TUG-DT\",\"Turning-ST\",\"Turning-DT\",\"Hotspot1\",\"Hotspot2\",\"4MW\",\"TUG-ST\",\"TUG-ST\",\"TUG-DT\",\"TUG-DT\",\"Turning-ST\",\"Turning-DT\",\"Hotspot1\",\"Hotspot2\",\"4MW\",\"TUG-ST\",\"TUG-ST\",\"TUG-DT\",\"TUG-DT\",\"Turning-ST\",\"Turning-DT\",\"Hotspot1\",\"Hotspot2\",\"4MW\",\"MB1\",\"MB2a\",\"MB2b\",\"MB3-L\",\"MB3-L\",\"MB3-R\",\"MB3-R\",\"MB4\",\"MB5\",\"MB6-L\",\"MB6-R\",\"MB7\",\"MB8\",\"MB9\",\"MB10\",\"MB11\",\"MB12\",\"MB13\",\"TUG-ST\",\"TUG-ST\",\"TUG-DT\",\"TUG-DT\",\"Turning-ST\",\"Turning-DT\",\"4MW\",\"MB1\",\"MB2a\",\"MB2b\",\"MB3-L\",\"MB3-L\",\"MB3-R\",\"MB3-R\",\"MB4\",\"MB5\",\"MB6-L\",\"MB6-R\",\"MB7\",\"MB8\",\"MB9\",\"MB10\",\"MB11\",\"MB12\",\"MB13\",\"TUG-ST\",\"TUG-ST\",\"TUG-DT\",\"TUG-DT\",\"Turning-ST\",\"Turning-DT\",\"Hotspot1\",\"Hotspot2\",\"4MW\",\"TUG-ST\",\"TUG-ST\",\"TUG-DT\",\"TUG-DT\",\"Turning-ST\",\"Turning-DT\",\"Hotspot1\",\"Hotspot2\",\"4MW\",\"TUG-ST\",\"TUG-ST\",\"TUG-DT\",\"TUG-DT\",\"Turning-ST\",\"Turning-DT\",\"Hotspot1\",\"Hotspot2\",\"Hotspot2\",\"4MW\",\"MB1\",\"MB2b\",\"MB3-L\",\"MB3-R\",\"MB4\",\"MB5\",\"MB6-R\",\"MB6-L\",\"MB7\",\"MB9\",\"MB10\",\"MB11\",\"MB12\",\"MB13\",\"TUG-ST\",\"TUG-ST\",\"TUG-DT\",\"Turning-ST\",\"Turning-DT\",\"Hotspot1\",\"Hotspot2\",\"4MW\",\"4MW-C\",\"TUG-ST\",\"TUG-ST\",\"TUG-DT\",\"TUG-DT\",\"TUG-C\",\"TUG-C\",\"Turning-ST\",\"Turning-DT\",\"Turning-C\",\"Hotspot1\",\"Hotspot1-C\",\"Hotspot2\",\"Hotspot2-C\",\"4MW\",\"MB1\",\"MB2b\",\"MB3-L\",\"MB3-L\",\"MB3-R\",\"MB3-R\",\"MB4\",\"MB4\",\"MB5\",\"MB6-L\",\"MB6-R\",\"MB7\",\"MB8\",\"MB8\",\"MB9\",\"MB10\",\"MB11\",\"MB12\",\"MB13\",\"TUG-ST\",\"TUG-ST\",\"TUG-DT\",\"TUG-DT\",\"Turning-ST\",\"Turning-DT\",\"Hotspot1\",\"Hotspot2\"],\"y0\":\" \",\"yaxis\":\"y\",\"type\":\"box\"}],                        {\"template\":{\"data\":{\"histogram2dcontour\":[{\"type\":\"histogram2dcontour\",\"colorbar\":{\"outlinewidth\":0,\"ticks\":\"\"},\"colorscale\":[[0.0,\"#0d0887\"],[0.1111111111111111,\"#46039f\"],[0.2222222222222222,\"#7201a8\"],[0.3333333333333333,\"#9c179e\"],[0.4444444444444444,\"#bd3786\"],[0.5555555555555556,\"#d8576b\"],[0.6666666666666666,\"#ed7953\"],[0.7777777777777778,\"#fb9f3a\"],[0.8888888888888888,\"#fdca26\"],[1.0,\"#f0f921\"]]}],\"choropleth\":[{\"type\":\"choropleth\",\"colorbar\":{\"outlinewidth\":0,\"ticks\":\"\"}}],\"histogram2d\":[{\"type\":\"histogram2d\",\"colorbar\":{\"outlinewidth\":0,\"ticks\":\"\"},\"colorscale\":[[0.0,\"#0d0887\"],[0.1111111111111111,\"#46039f\"],[0.2222222222222222,\"#7201a8\"],[0.3333333333333333,\"#9c179e\"],[0.4444444444444444,\"#bd3786\"],[0.5555555555555556,\"#d8576b\"],[0.6666666666666666,\"#ed7953\"],[0.7777777777777778,\"#fb9f3a\"],[0.8888888888888888,\"#fdca26\"],[1.0,\"#f0f921\"]]}],\"heatmap\":[{\"type\":\"heatmap\",\"colorbar\":{\"outlinewidth\":0,\"ticks\":\"\"},\"colorscale\":[[0.0,\"#0d0887\"],[0.1111111111111111,\"#46039f\"],[0.2222222222222222,\"#7201a8\"],[0.3333333333333333,\"#9c179e\"],[0.4444444444444444,\"#bd3786\"],[0.5555555555555556,\"#d8576b\"],[0.6666666666666666,\"#ed7953\"],[0.7777777777777778,\"#fb9f3a\"],[0.8888888888888888,\"#fdca26\"],[1.0,\"#f0f921\"]]}],\"heatmapgl\":[{\"type\":\"heatmapgl\",\"colorbar\":{\"outlinewidth\":0,\"ticks\":\"\"},\"colorscale\":[[0.0,\"#0d0887\"],[0.1111111111111111,\"#46039f\"],[0.2222222222222222,\"#7201a8\"],[0.3333333333333333,\"#9c179e\"],[0.4444444444444444,\"#bd3786\"],[0.5555555555555556,\"#d8576b\"],[0.6666666666666666,\"#ed7953\"],[0.7777777777777778,\"#fb9f3a\"],[0.8888888888888888,\"#fdca26\"],[1.0,\"#f0f921\"]]}],\"contourcarpet\":[{\"type\":\"contourcarpet\",\"colorbar\":{\"outlinewidth\":0,\"ticks\":\"\"}}],\"contour\":[{\"type\":\"contour\",\"colorbar\":{\"outlinewidth\":0,\"ticks\":\"\"},\"colorscale\":[[0.0,\"#0d0887\"],[0.1111111111111111,\"#46039f\"],[0.2222222222222222,\"#7201a8\"],[0.3333333333333333,\"#9c179e\"],[0.4444444444444444,\"#bd3786\"],[0.5555555555555556,\"#d8576b\"],[0.6666666666666666,\"#ed7953\"],[0.7777777777777778,\"#fb9f3a\"],[0.8888888888888888,\"#fdca26\"],[1.0,\"#f0f921\"]]}],\"surface\":[{\"type\":\"surface\",\"colorbar\":{\"outlinewidth\":0,\"ticks\":\"\"},\"colorscale\":[[0.0,\"#0d0887\"],[0.1111111111111111,\"#46039f\"],[0.2222222222222222,\"#7201a8\"],[0.3333333333333333,\"#9c179e\"],[0.4444444444444444,\"#bd3786\"],[0.5555555555555556,\"#d8576b\"],[0.6666666666666666,\"#ed7953\"],[0.7777777777777778,\"#fb9f3a\"],[0.8888888888888888,\"#fdca26\"],[1.0,\"#f0f921\"]]}],\"mesh3d\":[{\"type\":\"mesh3d\",\"colorbar\":{\"outlinewidth\":0,\"ticks\":\"\"}}],\"scatter\":[{\"fillpattern\":{\"fillmode\":\"overlay\",\"size\":10,\"solidity\":0.2},\"type\":\"scatter\"}],\"parcoords\":[{\"type\":\"parcoords\",\"line\":{\"colorbar\":{\"outlinewidth\":0,\"ticks\":\"\"}}}],\"scatterpolargl\":[{\"type\":\"scatterpolargl\",\"marker\":{\"colorbar\":{\"outlinewidth\":0,\"ticks\":\"\"}}}],\"bar\":[{\"error_x\":{\"color\":\"#2a3f5f\"},\"error_y\":{\"color\":\"#2a3f5f\"},\"marker\":{\"line\":{\"color\":\"#E5ECF6\",\"width\":0.5},\"pattern\":{\"fillmode\":\"overlay\",\"size\":10,\"solidity\":0.2}},\"type\":\"bar\"}],\"scattergeo\":[{\"type\":\"scattergeo\",\"marker\":{\"colorbar\":{\"outlinewidth\":0,\"ticks\":\"\"}}}],\"scatterpolar\":[{\"type\":\"scatterpolar\",\"marker\":{\"colorbar\":{\"outlinewidth\":0,\"ticks\":\"\"}}}],\"histogram\":[{\"marker\":{\"pattern\":{\"fillmode\":\"overlay\",\"size\":10,\"solidity\":0.2}},\"type\":\"histogram\"}],\"scattergl\":[{\"type\":\"scattergl\",\"marker\":{\"colorbar\":{\"outlinewidth\":0,\"ticks\":\"\"}}}],\"scatter3d\":[{\"type\":\"scatter3d\",\"line\":{\"colorbar\":{\"outlinewidth\":0,\"ticks\":\"\"}},\"marker\":{\"colorbar\":{\"outlinewidth\":0,\"ticks\":\"\"}}}],\"scattermapbox\":[{\"type\":\"scattermapbox\",\"marker\":{\"colorbar\":{\"outlinewidth\":0,\"ticks\":\"\"}}}],\"scatterternary\":[{\"type\":\"scatterternary\",\"marker\":{\"colorbar\":{\"outlinewidth\":0,\"ticks\":\"\"}}}],\"scattercarpet\":[{\"type\":\"scattercarpet\",\"marker\":{\"colorbar\":{\"outlinewidth\":0,\"ticks\":\"\"}}}],\"carpet\":[{\"aaxis\":{\"endlinecolor\":\"#2a3f5f\",\"gridcolor\":\"white\",\"linecolor\":\"white\",\"minorgridcolor\":\"white\",\"startlinecolor\":\"#2a3f5f\"},\"baxis\":{\"endlinecolor\":\"#2a3f5f\",\"gridcolor\":\"white\",\"linecolor\":\"white\",\"minorgridcolor\":\"white\",\"startlinecolor\":\"#2a3f5f\"},\"type\":\"carpet\"}],\"table\":[{\"cells\":{\"fill\":{\"color\":\"#EBF0F8\"},\"line\":{\"color\":\"white\"}},\"header\":{\"fill\":{\"color\":\"#C8D4E3\"},\"line\":{\"color\":\"white\"}},\"type\":\"table\"}],\"barpolar\":[{\"marker\":{\"line\":{\"color\":\"#E5ECF6\",\"width\":0.5},\"pattern\":{\"fillmode\":\"overlay\",\"size\":10,\"solidity\":0.2}},\"type\":\"barpolar\"}],\"pie\":[{\"automargin\":true,\"type\":\"pie\"}]},\"layout\":{\"autotypenumbers\":\"strict\",\"colorway\":[\"#636efa\",\"#EF553B\",\"#00cc96\",\"#ab63fa\",\"#FFA15A\",\"#19d3f3\",\"#FF6692\",\"#B6E880\",\"#FF97FF\",\"#FECB52\"],\"font\":{\"color\":\"#2a3f5f\"},\"hovermode\":\"closest\",\"hoverlabel\":{\"align\":\"left\"},\"paper_bgcolor\":\"white\",\"plot_bgcolor\":\"#E5ECF6\",\"polar\":{\"bgcolor\":\"#E5ECF6\",\"angularaxis\":{\"gridcolor\":\"white\",\"linecolor\":\"white\",\"ticks\":\"\"},\"radialaxis\":{\"gridcolor\":\"white\",\"linecolor\":\"white\",\"ticks\":\"\"}},\"ternary\":{\"bgcolor\":\"#E5ECF6\",\"aaxis\":{\"gridcolor\":\"white\",\"linecolor\":\"white\",\"ticks\":\"\"},\"baxis\":{\"gridcolor\":\"white\",\"linecolor\":\"white\",\"ticks\":\"\"},\"caxis\":{\"gridcolor\":\"white\",\"linecolor\":\"white\",\"ticks\":\"\"}},\"coloraxis\":{\"colorbar\":{\"outlinewidth\":0,\"ticks\":\"\"}},\"colorscale\":{\"sequential\":[[0.0,\"#0d0887\"],[0.1111111111111111,\"#46039f\"],[0.2222222222222222,\"#7201a8\"],[0.3333333333333333,\"#9c179e\"],[0.4444444444444444,\"#bd3786\"],[0.5555555555555556,\"#d8576b\"],[0.6666666666666666,\"#ed7953\"],[0.7777777777777778,\"#fb9f3a\"],[0.8888888888888888,\"#fdca26\"],[1.0,\"#f0f921\"]],\"sequentialminus\":[[0.0,\"#0d0887\"],[0.1111111111111111,\"#46039f\"],[0.2222222222222222,\"#7201a8\"],[0.3333333333333333,\"#9c179e\"],[0.4444444444444444,\"#bd3786\"],[0.5555555555555556,\"#d8576b\"],[0.6666666666666666,\"#ed7953\"],[0.7777777777777778,\"#fb9f3a\"],[0.8888888888888888,\"#fdca26\"],[1.0,\"#f0f921\"]],\"diverging\":[[0,\"#8e0152\"],[0.1,\"#c51b7d\"],[0.2,\"#de77ae\"],[0.3,\"#f1b6da\"],[0.4,\"#fde0ef\"],[0.5,\"#f7f7f7\"],[0.6,\"#e6f5d0\"],[0.7,\"#b8e186\"],[0.8,\"#7fbc41\"],[0.9,\"#4d9221\"],[1,\"#276419\"]]},\"xaxis\":{\"gridcolor\":\"white\",\"linecolor\":\"white\",\"ticks\":\"\",\"title\":{\"standoff\":15},\"zerolinecolor\":\"white\",\"automargin\":true,\"zerolinewidth\":2},\"yaxis\":{\"gridcolor\":\"white\",\"linecolor\":\"white\",\"ticks\":\"\",\"title\":{\"standoff\":15},\"zerolinecolor\":\"white\",\"automargin\":true,\"zerolinewidth\":2},\"scene\":{\"xaxis\":{\"backgroundcolor\":\"#E5ECF6\",\"gridcolor\":\"white\",\"linecolor\":\"white\",\"showbackground\":true,\"ticks\":\"\",\"zerolinecolor\":\"white\",\"gridwidth\":2},\"yaxis\":{\"backgroundcolor\":\"#E5ECF6\",\"gridcolor\":\"white\",\"linecolor\":\"white\",\"showbackground\":true,\"ticks\":\"\",\"zerolinecolor\":\"white\",\"gridwidth\":2},\"zaxis\":{\"backgroundcolor\":\"#E5ECF6\",\"gridcolor\":\"white\",\"linecolor\":\"white\",\"showbackground\":true,\"ticks\":\"\",\"zerolinecolor\":\"white\",\"gridwidth\":2}},\"shapedefaults\":{\"line\":{\"color\":\"#2a3f5f\"}},\"annotationdefaults\":{\"arrowcolor\":\"#2a3f5f\",\"arrowhead\":0,\"arrowwidth\":1},\"geo\":{\"bgcolor\":\"white\",\"landcolor\":\"#E5ECF6\",\"subunitcolor\":\"white\",\"showland\":true,\"showlakes\":true,\"lakecolor\":\"white\"},\"title\":{\"x\":0.05},\"mapbox\":{\"style\":\"light\"}}},\"xaxis\":{\"anchor\":\"y\",\"domain\":[0.0,1.0],\"title\":{\"text\":\"Duration\"}},\"yaxis\":{\"anchor\":\"x\",\"domain\":[0.0,1.0],\"title\":{\"text\":\"Task\"}},\"legend\":{\"tracegroupgap\":0},\"margin\":{\"t\":50,\"l\":50,\"r\":0,\"b\":50},\"boxmode\":\"group\",\"height\":1000,\"title\":{\"text\":\"Task Duration Boxplot\",\"y\":0.98,\"x\":0.5,\"xanchor\":\"center\",\"yanchor\":\"top\"}},                        {\"responsive\": true}                    ).then(function(){\n",
       "                            \n",
       "var gd = document.getElementById('8b7c8c38-8d81-492e-9dad-c2808ed23bfe');\n",
       "var x = new MutationObserver(function (mutations, observer) {{\n",
       "        var display = window.getComputedStyle(gd).display;\n",
       "        if (!display || display === 'none') {{\n",
       "            console.log([gd, 'removed!']);\n",
       "            Plotly.purge(gd);\n",
       "            observer.disconnect();\n",
       "        }}\n",
       "}});\n",
       "\n",
       "// Listen for the removal of the full notebook cells\n",
       "var notebookContainer = gd.closest('#notebook-container');\n",
       "if (notebookContainer) {{\n",
       "    x.observe(notebookContainer, {childList: true});\n",
       "}}\n",
       "\n",
       "// Listen for the clearing of the current output cell\n",
       "var outputEl = gd.closest('.output');\n",
       "if (outputEl) {{\n",
       "    x.observe(outputEl, {childList: true});\n",
       "}}\n",
       "\n",
       "                        })                };                });            </script>        </div>"
      ]
     },
     "metadata": {},
     "output_type": "display_data"
    }
   ],
   "source": [
    "fig = px.box(\n",
    "    tasks_df, \n",
    "    x='Duration', y='Task',\n",
    "    orientation='h', height=1000, \n",
    "    color_discrete_sequence=['lightslategrey']\n",
    ")\n",
    "\n",
    "fig.update_layout(\n",
    "    title={\n",
    "        'text': \"Task Duration Boxplot\",\n",
    "        'y':0.98,\n",
    "        'x':0.5,\n",
    "        'xanchor': 'center',\n",
    "        'yanchor': 'top'\n",
    "    },\n",
    "    margin=dict(l=50, r=0, t=50, b=50)\n",
    ")\n",
    "fig.show(autosize=True)"
   ]
  },
  {
   "cell_type": "code",
   "execution_count": 83,
   "metadata": {
    "execution": {
     "iopub.execute_input": "2023-07-14T02:26:34.026056Z",
     "iopub.status.busy": "2023-07-14T02:26:34.025687Z",
     "iopub.status.idle": "2023-07-14T02:26:34.031748Z",
     "shell.execute_reply": "2023-07-14T02:26:34.030280Z",
     "shell.execute_reply.started": "2023-07-14T02:26:34.026020Z"
    }
   },
   "outputs": [],
   "source": [
    "# (⁠ ⁠ꈍ⁠ᴗ⁠ꈍ⁠) WORK STILL IN PROGRESS"
   ]
  },
  {
   "cell_type": "markdown",
   "metadata": {},
   "source": [
    "# <div style=\"box-shadow: rgba(240, 46, 170, 0.4) -5px 5px inset, rgba(240, 46, 170, 0.3) -10px 10px inset, rgba(240, 46, 170, 0.2) -15px 15px inset, rgba(240, 46, 170, 0.1) -20px 20px inset, rgba(240, 46, 170, 0.05) -25px 25px inset; padding:20px; font-size:30px; font-family: consolas; display:fill; border-radius:15px; color: rgba(240, 46, 170, 0.7)\"> <b> ༼⁠ ⁠つ⁠ ⁠◕⁠‿⁠◕⁠ ⁠༽⁠つ Thank You!</b></div>\n",
    "\n",
    "<p style=\"font-family:verdana; color:rgb(34, 34, 34); font-family: consolas; font-size: 16px;\"> 💌 Thank you for taking the time to read through my notebook. I hope you found it interesting and informative. If you have any feedback or suggestions for improvement, please don't hesitate to let me know in the comments. <br><br> 🚀 If you liked this notebook, please consider upvoting it so that others can discover it too. Your support means a lot to me, and it helps to motivate me to create more content in the future. <br><br> ❤️ Once again, thank you for your support, and I hope to see you again soon!</p>"
   ]
  }
 ],
 "metadata": {
  "kernelspec": {
   "display_name": "Python 3 (ipykernel)",
   "language": "python",
   "name": "python3"
  },
  "language_info": {
   "codemirror_mode": {
    "name": "ipython",
    "version": 3
   },
   "file_extension": ".py",
   "mimetype": "text/x-python",
   "name": "python",
   "nbconvert_exporter": "python",
   "pygments_lexer": "ipython3",
   "version": "3.7.12"
  }
 },
 "nbformat": 4,
 "nbformat_minor": 4
}
